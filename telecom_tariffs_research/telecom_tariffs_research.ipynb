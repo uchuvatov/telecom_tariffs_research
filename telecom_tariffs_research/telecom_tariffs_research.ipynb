{
 "cells": [
  {
   "cell_type": "markdown",
   "metadata": {},
   "source": [
    "\n"
   ]
  },
  {
   "cell_type": "markdown",
   "metadata": {},
   "source": [
    "# Определение перспективного тарифа для телеком-компании"
   ]
  },
  {
   "cell_type": "markdown",
   "metadata": {},
   "source": [
    "***Постановка задачи***"
   ]
  },
  {
   "cell_type": "markdown",
   "metadata": {},
   "source": [
    "Компания «Мегалайн» — федеральный оператор сотовой связи. Клиентам предлагают два тарифных плана: «Смарт» и «Ультра». Чтобы скорректировать рекламный бюджет в рамках задачи, поставленной коммерческим департаментом, необходимо провести предварительный анализ тарифов на небольшой выборке клиентов для опредление наиболее выгодного с точки зрения прибыли для компании.\n",
    "\n",
    "В распоряжении данные 500 пользователей «Мегалайна» за 2018 год. Необходимо проанализировать поведение клиентов и определить наиболее перспективный тариф."
   ]
  },
  {
   "cell_type": "markdown",
   "metadata": {},
   "source": [
    "*Примечания*:\n",
    "\n",
    "\n",
    "1. Компания «Мегалайн» округляет секунды до минут, а мегабайты — до гигабайт. Каждый звонок округляется отдельно: даже если он длился всего 1 секунду, будет засчитан как 1 минута.\n",
    "\n",
    "2. Для веб-трафика отдельные сессии не считаются. Вместо этого общая сумма за месяц округляется в бо́льшую сторону. Если абонент использует 1025 Мегабайт в этом месяце, с него возьмут плату за 2 гигабайта."
   ]
  },
  {
   "cell_type": "markdown",
   "metadata": {},
   "source": [
    "***Описание тарифов***\n",
    "\n",
    "**Тариф «Смарт»**\n",
    "\n",
    "- Ежемесячная плата: 550 рублей\n",
    "- Включено: 500 минут разговора, 50 сообщений и 15 Гб интернет-трафика\n",
    "- Стоимость услуг сверх тарифного пакета: 1 минута разговора: 3 рубля («Мегалайн» всегда округляет вверх значения минут и мегабайтов. Если пользователь проговорил всего 1 секунду, в тарифе засчитывается целая минута); 2. сообщение: 3 рубля; 3. 1 Гб интернет-трафика: 200 рублей.\n",
    "\n",
    "**Тариф «Ультра»**\n",
    "\n",
    "- Ежемесячная плата: 1950 рублей\n",
    "- Включено: 3000 минут разговора, 1000 сообщений и 30 Гб интернет-трафика\n",
    "- Стоимость услуг сверх тарифного пакета: 1 минута разговора: 1 рубль; 2. сообщение: 1 рубль; 3. 1 Гб интернет-трафика: 150 рублей."
   ]
  },
  {
   "cell_type": "markdown",
   "metadata": {},
   "source": [
    "## Изучение данных и педобработка данных"
   ]
  },
  {
   "cell_type": "code",
   "execution_count": 1,
   "metadata": {},
   "outputs": [],
   "source": [
    "import math as mt #импоpт необходимых библиотек и методов\n",
    "import matplotlib.pyplot as plt\n",
    "import numpy as np\n",
    "import pandas as pd \n",
    "import seaborn as sns\n",
    "import warnings\n",
    "\n",
    "from math import factorial\n",
    "from scipy import stats as st"
   ]
  },
  {
   "cell_type": "code",
   "execution_count": 2,
   "metadata": {},
   "outputs": [],
   "source": [
    "warnings.simplefilter('ignore')#отключение предупреждений"
   ]
  },
  {
   "cell_type": "code",
   "execution_count": 3,
   "metadata": {},
   "outputs": [],
   "source": [
    "calls = pd.read_csv(r'C:\\Users\\lebeda\\Yandex_Practicum\\Yandex_projects\\data_sets\\prjkt_4(sp6)\\calls.csv')#чтение предоставленных датасетов с информацией об использовании тарифов\n",
    "internet = pd.read_csv(r'C:\\Users\\lebeda\\Yandex_Practicum\\Yandex_projects\\data_sets\\prjkt_4(sp6)\\internet.csv')\n",
    "messages = pd.read_csv(r'C:\\Users\\lebeda\\Yandex_Practicum\\Yandex_projects\\data_sets\\prjkt_4(sp6)\\messages.csv')\n",
    "tariffs = pd.read_csv(r'C:\\Users\\lebeda\\Yandex_Practicum\\Yandex_projects\\data_sets\\prjkt_4(sp6)\\tariffs.csv')\n",
    "users = pd.read_csv(r'C:\\Users\\lebeda\\Yandex_Practicum\\Yandex_projects\\data_sets\\prjkt_4(sp6)\\users.csv')"
   ]
  },
  {
   "cell_type": "markdown",
   "metadata": {},
   "source": [
    "### Ознакомление с данными и их изучение"
   ]
  },
  {
   "cell_type": "markdown",
   "metadata": {},
   "source": [
    "Для изучения данных создадим фунцию, позволяющую оценить данные, представленные в каждом датасете. Функция будет включать блок просмотра вывовда первых значений, блок общей информации о таблице, блок определения количества пропущенных значений, проверку на наличие полных дубликатов, блок описательных статистик."
   ]
  },
  {
   "cell_type": "code",
   "execution_count": 4,
   "metadata": {
    "scrolled": false
   },
   "outputs": [],
   "source": [
    "def introduction(row):\n",
    "    print('head:')\n",
    "    print(row.head())\n",
    "    print()\n",
    "    print('columns_info:')\n",
    "    print(row.info())\n",
    "    print()\n",
    "    print('not_avalible:')\n",
    "    print(row.isna().sum())\n",
    "    print()\n",
    "    print('number_duplicates:', row.duplicated().sum())\n",
    "    print()\n",
    "    print('describe:')\n",
    "    print(row.describe())\n",
    "    print()"
   ]
  },
  {
   "cell_type": "markdown",
   "metadata": {},
   "source": [
    "**Изучние стобца 'calls' - информация о звонках**"
   ]
  },
  {
   "cell_type": "code",
   "execution_count": 5,
   "metadata": {
    "scrolled": false
   },
   "outputs": [
    {
     "name": "stdout",
     "output_type": "stream",
     "text": [
      "head:\n",
      "       id   call_date  duration  user_id\n",
      "0  1000_0  2018-07-25      0.00     1000\n",
      "1  1000_1  2018-08-17      0.00     1000\n",
      "2  1000_2  2018-06-11      2.85     1000\n",
      "3  1000_3  2018-09-21     13.80     1000\n",
      "4  1000_4  2018-12-15      5.18     1000\n",
      "\n",
      "columns_info:\n",
      "<class 'pandas.core.frame.DataFrame'>\n",
      "RangeIndex: 202607 entries, 0 to 202606\n",
      "Data columns (total 4 columns):\n",
      "id           202607 non-null object\n",
      "call_date    202607 non-null object\n",
      "duration     202607 non-null float64\n",
      "user_id      202607 non-null int64\n",
      "dtypes: float64(1), int64(1), object(2)\n",
      "memory usage: 6.2+ MB\n",
      "None\n",
      "\n",
      "not_avalible:\n",
      "id           0\n",
      "call_date    0\n",
      "duration     0\n",
      "user_id      0\n",
      "dtype: int64\n",
      "\n",
      "number_duplicates: 0\n",
      "\n",
      "describe:\n",
      "            duration        user_id\n",
      "count  202607.000000  202607.000000\n",
      "mean        6.755887    1253.940619\n",
      "std         5.843365     144.722751\n",
      "min         0.000000    1000.000000\n",
      "25%         1.300000    1126.000000\n",
      "50%         6.000000    1260.000000\n",
      "75%        10.700000    1379.000000\n",
      "max        38.000000    1499.000000\n",
      "\n"
     ]
    }
   ],
   "source": [
    "introduction(calls) # изучение таблицы calls\n"
   ]
  },
  {
   "cell_type": "markdown",
   "metadata": {},
   "source": [
    "Таблица calls (информация о звонках) согласно описанию содержит следующую информацию:\n",
    "\n",
    "    - id — уникальный номер звонка;\n",
    "    - call_date — дата звонка;\n",
    "    - duration — длительность звонка в минутах;\n",
    "    - user_id — идентификатор пользователя, сделавшего звонок.\n",
    "\n",
    "Таблица включает 202607 строк. Пропуски и дубликаты отсутсвуют. Длительность звонков составляет от 0 минут (пропущенные звонки) до 38 минут."
   ]
  },
  {
   "cell_type": "markdown",
   "metadata": {},
   "source": [
    "**Изучние стобца 'internet' - информация об интернет-сессиях**"
   ]
  },
  {
   "cell_type": "code",
   "execution_count": 6,
   "metadata": {
    "scrolled": true
   },
   "outputs": [
    {
     "name": "stdout",
     "output_type": "stream",
     "text": [
      "head:\n",
      "   Unnamed: 0      id  mb_used session_date  user_id\n",
      "0           0  1000_0   112.95   2018-11-25     1000\n",
      "1           1  1000_1  1052.81   2018-09-07     1000\n",
      "2           2  1000_2  1197.26   2018-06-25     1000\n",
      "3           3  1000_3   550.27   2018-08-22     1000\n",
      "4           4  1000_4   302.56   2018-09-24     1000\n",
      "\n",
      "columns_info:\n",
      "<class 'pandas.core.frame.DataFrame'>\n",
      "RangeIndex: 149396 entries, 0 to 149395\n",
      "Data columns (total 5 columns):\n",
      "Unnamed: 0      149396 non-null int64\n",
      "id              149396 non-null object\n",
      "mb_used         149396 non-null float64\n",
      "session_date    149396 non-null object\n",
      "user_id         149396 non-null int64\n",
      "dtypes: float64(1), int64(2), object(2)\n",
      "memory usage: 5.7+ MB\n",
      "None\n",
      "\n",
      "not_avalible:\n",
      "Unnamed: 0      0\n",
      "id              0\n",
      "mb_used         0\n",
      "session_date    0\n",
      "user_id         0\n",
      "dtype: int64\n",
      "\n",
      "number_duplicates: 0\n",
      "\n",
      "describe:\n",
      "          Unnamed: 0        mb_used        user_id\n",
      "count  149396.000000  149396.000000  149396.000000\n",
      "mean    74697.500000     370.192426    1252.099842\n",
      "std     43127.054745     278.300951     144.050823\n",
      "min         0.000000       0.000000    1000.000000\n",
      "25%     37348.750000     138.187500    1130.000000\n",
      "50%     74697.500000     348.015000    1251.000000\n",
      "75%    112046.250000     559.552500    1380.000000\n",
      "max    149395.000000    1724.830000    1499.000000\n",
      "\n"
     ]
    }
   ],
   "source": [
    "introduction(internet) # изучение таблицы calls\n"
   ]
  },
  {
   "cell_type": "markdown",
   "metadata": {},
   "source": [
    "Таблица internet (информация об интернет-сессиях) согласно описанию содержит следующую информацию:\n",
    "\n",
    "    - id — уникальный номер сессии;\n",
    "    - mb_used — объём потраченного за сессию интернет-трафика (в мегабайтах);\n",
    "    - session_date — дата интернет-сессии;\n",
    "    - user_id — идентификатор пользователя.\n",
    "\n",
    "Таблица включает 149396 строк. Пропуски и дубликаты отсутсвуют. Трафик интернет-сессий составляет от 0 Мб(вероятно это попытки выхода в интернет в отсутсвии оплаты за услуги) до 1724 Мб. В таблице присутсвует незаявленный столбец 'Unnamed: 0', который вузуально совпадает со значениями индексов строк."
   ]
  },
  {
   "cell_type": "code",
   "execution_count": 7,
   "metadata": {
    "scrolled": true
   },
   "outputs": [
    {
     "data": {
      "text/plain": [
       "array([ True])"
      ]
     },
     "execution_count": 7,
     "metadata": {},
     "output_type": "execute_result"
    }
   ],
   "source": [
    "(internet['Unnamed: 0'] == internet.index).unique() \n",
    "#проверка на полное сопадение индексаов таблицы и значений столбца 'Unnamed: 0'"
   ]
  },
  {
   "cell_type": "markdown",
   "metadata": {},
   "source": [
    "Как видно из представленной выше проверки, значения столбца 'Unnamed: 0' полностью совпадают со значениями индексов строк таблицы internet и не несут никакой смысловой нагрузки. Вероятно этот столбец создан ошибочно при формировании таблицы, его можно удалить для уменьшения объема обрабатываемых данных."
   ]
  },
  {
   "cell_type": "code",
   "execution_count": 8,
   "metadata": {
    "scrolled": false
   },
   "outputs": [],
   "source": [
    "internet = internet.drop(['Unnamed: 0'], axis=1)"
   ]
  },
  {
   "cell_type": "markdown",
   "metadata": {},
   "source": [
    "**Изучние стобца 'messages' - информация об сообщениях**"
   ]
  },
  {
   "cell_type": "code",
   "execution_count": 9,
   "metadata": {
    "scrolled": true
   },
   "outputs": [
    {
     "name": "stdout",
     "output_type": "stream",
     "text": [
      "head:\n",
      "       id message_date  user_id\n",
      "0  1000_0   2018-06-27     1000\n",
      "1  1000_1   2018-10-08     1000\n",
      "2  1000_2   2018-08-04     1000\n",
      "3  1000_3   2018-06-16     1000\n",
      "4  1000_4   2018-12-05     1000\n",
      "\n",
      "columns_info:\n",
      "<class 'pandas.core.frame.DataFrame'>\n",
      "RangeIndex: 123036 entries, 0 to 123035\n",
      "Data columns (total 3 columns):\n",
      "id              123036 non-null object\n",
      "message_date    123036 non-null object\n",
      "user_id         123036 non-null int64\n",
      "dtypes: int64(1), object(2)\n",
      "memory usage: 2.8+ MB\n",
      "None\n",
      "\n",
      "not_avalible:\n",
      "id              0\n",
      "message_date    0\n",
      "user_id         0\n",
      "dtype: int64\n",
      "\n",
      "number_duplicates: 0\n",
      "\n",
      "describe:\n",
      "             user_id\n",
      "count  123036.000000\n",
      "mean     1256.989410\n",
      "std       143.523967\n",
      "min      1000.000000\n",
      "25%      1134.000000\n",
      "50%      1271.000000\n",
      "75%      1381.000000\n",
      "max      1499.000000\n",
      "\n"
     ]
    }
   ],
   "source": [
    "introduction(messages)"
   ]
  },
  {
   "cell_type": "markdown",
   "metadata": {},
   "source": [
    "Таблица messages (информация об сообщениях) согласно описанию содержит следующую информацию:\n",
    "\n",
    "    -  id — уникальный номер сообщения;\n",
    "    -  message_date — дата сообщения;\n",
    "    -  user_id — идентификатор пользователя, отправившего сообщение.\n",
    "\n",
    "Таблица включает 123036 строк. Пропуски и дубликаты отсутсвуют. Каждая строка по сути отражает факт отправки одного сообщения."
   ]
  },
  {
   "cell_type": "markdown",
   "metadata": {},
   "source": [
    "**Изучние стобца 'tariffs' - информация о тарифах**"
   ]
  },
  {
   "cell_type": "code",
   "execution_count": 10,
   "metadata": {
    "scrolled": true
   },
   "outputs": [
    {
     "name": "stdout",
     "output_type": "stream",
     "text": [
      "head:\n",
      "   messages_included  mb_per_month_included  minutes_included  \\\n",
      "0                 50                  15360               500   \n",
      "1               1000                  30720              3000   \n",
      "\n",
      "   rub_monthly_fee  rub_per_gb  rub_per_message  rub_per_minute tariff_name  \n",
      "0              550         200                3               3       smart  \n",
      "1             1950         150                1               1       ultra  \n",
      "\n",
      "columns_info:\n",
      "<class 'pandas.core.frame.DataFrame'>\n",
      "RangeIndex: 2 entries, 0 to 1\n",
      "Data columns (total 8 columns):\n",
      "messages_included        2 non-null int64\n",
      "mb_per_month_included    2 non-null int64\n",
      "minutes_included         2 non-null int64\n",
      "rub_monthly_fee          2 non-null int64\n",
      "rub_per_gb               2 non-null int64\n",
      "rub_per_message          2 non-null int64\n",
      "rub_per_minute           2 non-null int64\n",
      "tariff_name              2 non-null object\n",
      "dtypes: int64(7), object(1)\n",
      "memory usage: 256.0+ bytes\n",
      "None\n",
      "\n",
      "not_avalible:\n",
      "messages_included        0\n",
      "mb_per_month_included    0\n",
      "minutes_included         0\n",
      "rub_monthly_fee          0\n",
      "rub_per_gb               0\n",
      "rub_per_message          0\n",
      "rub_per_minute           0\n",
      "tariff_name              0\n",
      "dtype: int64\n",
      "\n",
      "number_duplicates: 0\n",
      "\n",
      "describe:\n",
      "       messages_included  mb_per_month_included  minutes_included  \\\n",
      "count           2.000000               2.000000          2.000000   \n",
      "mean          525.000000           23040.000000       1750.000000   \n",
      "std           671.751442           10861.160159       1767.766953   \n",
      "min            50.000000           15360.000000        500.000000   \n",
      "25%           287.500000           19200.000000       1125.000000   \n",
      "50%           525.000000           23040.000000       1750.000000   \n",
      "75%           762.500000           26880.000000       2375.000000   \n",
      "max          1000.000000           30720.000000       3000.000000   \n",
      "\n",
      "       rub_monthly_fee  rub_per_gb  rub_per_message  rub_per_minute  \n",
      "count         2.000000    2.000000         2.000000        2.000000  \n",
      "mean       1250.000000  175.000000         2.000000        2.000000  \n",
      "std         989.949494   35.355339         1.414214        1.414214  \n",
      "min         550.000000  150.000000         1.000000        1.000000  \n",
      "25%         900.000000  162.500000         1.500000        1.500000  \n",
      "50%        1250.000000  175.000000         2.000000        2.000000  \n",
      "75%        1600.000000  187.500000         2.500000        2.500000  \n",
      "max        1950.000000  200.000000         3.000000        3.000000  \n",
      "\n"
     ]
    }
   ],
   "source": [
    "introduction(tariffs)"
   ]
  },
  {
   "cell_type": "markdown",
   "metadata": {},
   "source": [
    "Таблица tariffs (информация о тарифах) согласно описанию содержит следующую информацию:\n",
    "\n",
    "    -  tariff_name — название тарифа;\n",
    "    -  rub_monthly_fee — ежемесячная абонентская плата в рублях;\n",
    "    -  minutes_included — количество минут разговора в месяц, включённых в абонентскую плату;\n",
    "    -  messages_included — количество сообщений в месяц, включённых в абонентскую плату;\n",
    "    -  mb_per_month_included — объём интернет-трафика, включённого в абонентскую плату (в мегабайтах);\n",
    "    -  rub_per_minute — стоимость минуты разговора сверх тарифного пакета (например, если в тарифе 100 минут разговора в месяц, то со 101 минуты будет взиматься плата);\n",
    "    -  rub_per_message — стоимость отправки сообщения сверх тарифного пакета;\n",
    "    -  rub_per_gb — стоимость дополнительного гигабайта интернет-трафика сверх тарифного пакета (1 гигабайт = 1024 мегабайта).\n",
    "    \n",
    "Таблица включает 2 строки - информация о тарифах \"smart\" и \"ultra\". Пропуски и дубликаты отсутсвуют. Каждая строка  - характеристика тарифа: количество звонков, сообщений и объем интерент-трафика, включенного в лимит, а также нарифы на объемы услуг сверх лимита."
   ]
  },
  {
   "cell_type": "markdown",
   "metadata": {},
   "source": [
    "**Изучние стобца 'users' - информация о пользователях**"
   ]
  },
  {
   "cell_type": "code",
   "execution_count": 11,
   "metadata": {
    "scrolled": true
   },
   "outputs": [
    {
     "name": "stdout",
     "output_type": "stream",
     "text": [
      "head:\n",
      "   user_id  age churn_date         city first_name  last_name    reg_date  \\\n",
      "0     1000   52        NaN    Краснодар     Рафаил  Верещагин  2018-05-25   \n",
      "1     1001   41        NaN       Москва       Иван       Ежов  2018-11-01   \n",
      "2     1002   59        NaN  Стерлитамак    Евгений  Абрамович  2018-06-17   \n",
      "3     1003   23        NaN       Москва      Белла   Белякова  2018-08-17   \n",
      "4     1004   68        NaN  Новокузнецк    Татьяна   Авдеенко  2018-05-14   \n",
      "\n",
      "  tariff  \n",
      "0  ultra  \n",
      "1  smart  \n",
      "2  smart  \n",
      "3  ultra  \n",
      "4  ultra  \n",
      "\n",
      "columns_info:\n",
      "<class 'pandas.core.frame.DataFrame'>\n",
      "RangeIndex: 500 entries, 0 to 499\n",
      "Data columns (total 8 columns):\n",
      "user_id       500 non-null int64\n",
      "age           500 non-null int64\n",
      "churn_date    38 non-null object\n",
      "city          500 non-null object\n",
      "first_name    500 non-null object\n",
      "last_name     500 non-null object\n",
      "reg_date      500 non-null object\n",
      "tariff        500 non-null object\n",
      "dtypes: int64(2), object(6)\n",
      "memory usage: 31.4+ KB\n",
      "None\n",
      "\n",
      "not_avalible:\n",
      "user_id         0\n",
      "age             0\n",
      "churn_date    462\n",
      "city            0\n",
      "first_name      0\n",
      "last_name       0\n",
      "reg_date        0\n",
      "tariff          0\n",
      "dtype: int64\n",
      "\n",
      "number_duplicates: 0\n",
      "\n",
      "describe:\n",
      "           user_id        age\n",
      "count   500.000000  500.00000\n",
      "mean   1249.500000   46.58800\n",
      "std     144.481833   16.66763\n",
      "min    1000.000000   18.00000\n",
      "25%    1124.750000   32.00000\n",
      "50%    1249.500000   46.00000\n",
      "75%    1374.250000   62.00000\n",
      "max    1499.000000   75.00000\n",
      "\n"
     ]
    }
   ],
   "source": [
    "introduction(users)"
   ]
  },
  {
   "cell_type": "markdown",
   "metadata": {},
   "source": [
    "Таблица users (информация о пользователях) согласно описанию содержит следующую информацию:\n",
    "\n",
    "    -  user_id — уникальный идентификатор пользователя;\n",
    "    -  first_name — имя пользователя;\n",
    "    -  last_name — фамилия пользователя;\n",
    "    -  age — возраст пользователя (годы);\n",
    "    -  reg_date — дата подключения тарифа (день, месяц, год);\n",
    "    -  churn_date — дата прекращения пользования тарифом (если значение пропущено, то тариф ещё действовал на момент выгрузки данных);\n",
    "    -  city — город проживания пользователя;\n",
    "    -  tarif — название тарифного планаю\n",
    "    \n",
    "Таблица включает 500 строк - информация об уникальных пользоватеелях. Дубликаты отсутсвуют. В столбце 'churn_date'  присутствует 38 пропусков, согласно описанию пропуски в этом столбце означают факт использования тарифа на момент выгрузки данных. Минимальный возраст пользователей - 18 лет, максимальный - 75."
   ]
  },
  {
   "cell_type": "markdown",
   "metadata": {},
   "source": [
    "Проведем проверку на предмет наличия в таблице пользователей, которые использовали или используют 2 тарифа одновременно."
   ]
  },
  {
   "cell_type": "code",
   "execution_count": 12,
   "metadata": {},
   "outputs": [
    {
     "data": {
      "text/plain": [
       "array([1], dtype=int64)"
      ]
     },
     "execution_count": 12,
     "metadata": {},
     "output_type": "execute_result"
    }
   ],
   "source": [
    "chek_2tar = users.pivot_table(index='user_id', values='tariff', aggfunc='count').reset_index()\n",
    "chek_2tar['tariff'].unique()\n",
    "#проверка двух разных тарифов для одного пользователя"
   ]
  },
  {
   "cell_type": "markdown",
   "metadata": {},
   "source": [
    "Пользователей использующих или использовавших 2 тарифа не выявлено."
   ]
  },
  {
   "cell_type": "markdown",
   "metadata": {},
   "source": [
    "Приведем значения столбцов подключения и прекращения пользования тарифом ('reg_date', 'churn_date') к формату даты."
   ]
  },
  {
   "cell_type": "code",
   "execution_count": 13,
   "metadata": {},
   "outputs": [
    {
     "name": "stdout",
     "output_type": "stream",
     "text": [
      "<class 'pandas.core.frame.DataFrame'>\n",
      "RangeIndex: 500 entries, 0 to 499\n",
      "Data columns (total 8 columns):\n",
      "user_id       500 non-null int64\n",
      "age           500 non-null int64\n",
      "churn_date    38 non-null datetime64[ns]\n",
      "city          500 non-null object\n",
      "first_name    500 non-null object\n",
      "last_name     500 non-null object\n",
      "reg_date      500 non-null datetime64[ns]\n",
      "tariff        500 non-null object\n",
      "dtypes: datetime64[ns](2), int64(2), object(4)\n",
      "memory usage: 31.4+ KB\n"
     ]
    }
   ],
   "source": [
    "users['reg_date'] = pd.to_datetime(users['reg_date'], format='%Y-%m-%d')\n",
    "users['churn_date'] = pd.to_datetime(users['churn_date'], format='%Y-%m-%d')\n",
    "\n",
    "users.info()"
   ]
  },
  {
   "cell_type": "markdown",
   "metadata": {},
   "source": [
    "Проверим факт того, что для всех каналов связи присутсвует информация о том же колличестве пользователей, которое указано в таблице с информацией об уникальных пользователях."
   ]
  },
  {
   "cell_type": "code",
   "execution_count": 14,
   "metadata": {
    "scrolled": true
   },
   "outputs": [
    {
     "data": {
      "text/plain": [
       "492"
      ]
     },
     "metadata": {},
     "output_type": "display_data"
    },
    {
     "data": {
      "text/plain": [
       "497"
      ]
     },
     "metadata": {},
     "output_type": "display_data"
    },
    {
     "data": {
      "text/plain": [
       "426"
      ]
     },
     "metadata": {},
     "output_type": "display_data"
    }
   ],
   "source": [
    "display(calls.user_id.nunique(), internet.user_id.nunique(), messages.user_id.nunique())"
   ]
  },
  {
   "cell_type": "markdown",
   "metadata": {},
   "source": [
    "В таблице с информацией о звонках присутсвуют данные о 492 уникальных пользователях, в таблице об интерент-сессиях - о 497 пользователях, в таблице об отправленных сообщениях - о 429 пользователях. Это указывает на то, что отсутсвующие данные либо не получены по какой-либо ошибке, либо пользователи не используют все заявленные услуги, при чем в различных сочетаниях."
   ]
  },
  {
   "cell_type": "markdown",
   "metadata": {},
   "source": [
    "### Вывод\n",
    "\n",
    "Для анализа тарифов оператора сотовой связи предоставлен датасет, включающий 5 таблиц:\n",
    " - calls - данные о совершенных клиентами звонках;\n",
    " - internet - данные об интернет сессиях;\n",
    " - messages  - данные об отправленных  SMS сообщения;\n",
    " - tariffs - данные о параметрах тарифов\n",
    " - users - данные о клиетнтах.\n",
    " \n",
    " При первичном анализе явных ошибок и дубликатов в данных не обнаружено. Пропуски присуисвуют только в таблице 'users' в столбце 'churn_date' - дата прекращения пользования тарифом, пропуски не требуют заполнения, так как отсутсвие данных свидетельствует о том, что клиент использовал тариф на момент выгрузки данных. Нулевые значения в длительности звонков - пропущенные звонки. Нулевые интернет-сессии  - это работа отдельных программ (пинг данных) или попытка выхода в интернет в отсутсвии оплаты тарифа. В таблице 'internet' обнаружен незаявленный в описании столбец 'Unnamed: 0', значения которого полностью соответствует индексам строк таблицы, столбец удален."
   ]
  },
  {
   "cell_type": "markdown",
   "metadata": {},
   "source": [
    "## Подготовка данных - определние дополнительных параметров для анализа данных"
   ]
  },
  {
   "cell_type": "markdown",
   "metadata": {},
   "source": [
    "Для последующего анализа данных определим помесячные значения использования параметров тарифа (количество израсходованных минут и количество звонков, количество сообщений и объём использованного интернет-трафика) и выручку с каждого пользователя."
   ]
  },
  {
   "cell_type": "markdown",
   "metadata": {},
   "source": [
    "### Объединение таблиц на основе сводных данных по месяцам."
   ]
  },
  {
   "cell_type": "markdown",
   "metadata": {},
   "source": [
    "Для получения данных по месяцам с использованием сводных таблиц введем в каждый из датасетов, характеризующих объемы услуг связи, дополнительный столбец 'montn' - месяц, соответствующий дате использования того или иного канала коммуникации."
   ]
  },
  {
   "cell_type": "code",
   "execution_count": 15,
   "metadata": {},
   "outputs": [],
   "source": [
    "def date_to_month(data, ceil_name): #функция приведения данных к формату даты и определения месяца использования тарифа\n",
    "    data[ceil_name] = pd.to_datetime(data[ceil_name], format='%Y-%m-%d')\n",
    "    data['month']=data[ceil_name].dt.to_period('M')       "
   ]
  },
  {
   "cell_type": "code",
   "execution_count": 16,
   "metadata": {
    "scrolled": true
   },
   "outputs": [],
   "source": [
    "date_to_month(calls, 'call_date')"
   ]
  },
  {
   "cell_type": "code",
   "execution_count": 17,
   "metadata": {},
   "outputs": [],
   "source": [
    "date_to_month(messages, 'message_date')"
   ]
  },
  {
   "cell_type": "code",
   "execution_count": 18,
   "metadata": {},
   "outputs": [],
   "source": [
    "date_to_month(internet, 'session_date')"
   ]
  },
  {
   "cell_type": "markdown",
   "metadata": {},
   "source": [
    "Исходя из особеннстей тарификации, оператор для подсчета использованного времени разговора округляет время звонков до целых минут. Добавим в таблицу 'calls' стобец 'round_duration' - округленное до целых значений время одного разговора."
   ]
  },
  {
   "cell_type": "code",
   "execution_count": 19,
   "metadata": {},
   "outputs": [],
   "source": [
    "calls['round_duration'] = np.ceil(calls['duration'])\n",
    "#добавление столбца 'round_duration' в таблицу 'calls'"
   ]
  },
  {
   "cell_type": "markdown",
   "metadata": {},
   "source": [
    "Получим сводные таблицы с помесячными объемами использовния тарифов для каждого из трех каналов коммуникации."
   ]
  },
  {
   "cell_type": "code",
   "execution_count": 20,
   "metadata": {},
   "outputs": [],
   "source": [
    "pt_month_calls = calls.pivot_table(index=['user_id', 'month'], values='round_duration', aggfunc=['sum', 'count'])\n",
    "#сводная таблица с подсчетом количества минут разговоров и числа сделанных звонков за месяц"
   ]
  },
  {
   "cell_type": "code",
   "execution_count": 21,
   "metadata": {},
   "outputs": [],
   "source": [
    "pt_month_messages = messages.pivot_table(index=['user_id', 'month'], values='id', aggfunc='count')\n",
    "#сводная таблица с подсчетом количества отправленных сообщений за месяц"
   ]
  },
  {
   "cell_type": "code",
   "execution_count": 22,
   "metadata": {},
   "outputs": [],
   "source": [
    "pt_month_internet = internet.pivot_table(index=['user_id', 'month'], values='mb_used', aggfunc='sum')\n",
    "#сводная таблица с подсчетом объема интернет-трафика за месяц"
   ]
  },
  {
   "cell_type": "markdown",
   "metadata": {},
   "source": [
    "Исходя из особенностей тарификации, оператор для подсчета использованного web-трафика округляет общий объем трафика за месяц в бо́льшую сторону. Добавим в таблицу 'pt_month_internet' стобец 'gb_used' - округленное до целых Гб значение интернет-трафика."
   ]
  },
  {
   "cell_type": "code",
   "execution_count": 23,
   "metadata": {},
   "outputs": [],
   "source": [
    "pt_month_internet['gb_used'] = np.ceil(pt_month_internet / 1024)"
   ]
  },
  {
   "cell_type": "markdown",
   "metadata": {},
   "source": [
    "Объединим полученные данные в одну таблицу."
   ]
  },
  {
   "cell_type": "code",
   "execution_count": 24,
   "metadata": {},
   "outputs": [],
   "source": [
    "df = pd.merge(pt_month_calls, pt_month_messages, on=[\"user_id\", \"month\"], how='outer')\n",
    "#объединение таблиц pt_month_calls и pt_month_messages"
   ]
  },
  {
   "cell_type": "code",
   "execution_count": 25,
   "metadata": {},
   "outputs": [],
   "source": [
    "df = pd.merge(df, pt_month_internet, on=[\"user_id\", \"month\"], how='outer')\n",
    "#объединение таблиц df и pt_month_internet"
   ]
  },
  {
   "cell_type": "code",
   "execution_count": 26,
   "metadata": {
    "scrolled": true
   },
   "outputs": [],
   "source": [
    "df.columns=['calls_duration_min', 'calls_qty', 'messages_qty', 'mb_used', 'gb_used']\n",
    "#переименование столбцов"
   ]
  },
  {
   "cell_type": "code",
   "execution_count": 27,
   "metadata": {
    "scrolled": true
   },
   "outputs": [],
   "source": [
    "df = df.reset_index() #сброс индексов"
   ]
  },
  {
   "cell_type": "code",
   "execution_count": 28,
   "metadata": {
    "scrolled": true
   },
   "outputs": [
    {
     "data": {
      "text/html": [
       "<div>\n",
       "<style scoped>\n",
       "    .dataframe tbody tr th:only-of-type {\n",
       "        vertical-align: middle;\n",
       "    }\n",
       "\n",
       "    .dataframe tbody tr th {\n",
       "        vertical-align: top;\n",
       "    }\n",
       "\n",
       "    .dataframe thead th {\n",
       "        text-align: right;\n",
       "    }\n",
       "</style>\n",
       "<table border=\"1\" class=\"dataframe\">\n",
       "  <thead>\n",
       "    <tr style=\"text-align: right;\">\n",
       "      <th></th>\n",
       "      <th>user_id</th>\n",
       "      <th>month</th>\n",
       "      <th>calls_duration_min</th>\n",
       "      <th>calls_qty</th>\n",
       "      <th>messages_qty</th>\n",
       "      <th>mb_used</th>\n",
       "      <th>gb_used</th>\n",
       "    </tr>\n",
       "  </thead>\n",
       "  <tbody>\n",
       "    <tr>\n",
       "      <td>3209</td>\n",
       "      <td>1489</td>\n",
       "      <td>2018-09</td>\n",
       "      <td>NaN</td>\n",
       "      <td>NaN</td>\n",
       "      <td>32.0</td>\n",
       "      <td>17206.30</td>\n",
       "      <td>17.0</td>\n",
       "    </tr>\n",
       "    <tr>\n",
       "      <td>3210</td>\n",
       "      <td>1489</td>\n",
       "      <td>2018-10</td>\n",
       "      <td>NaN</td>\n",
       "      <td>NaN</td>\n",
       "      <td>21.0</td>\n",
       "      <td>19559.44</td>\n",
       "      <td>20.0</td>\n",
       "    </tr>\n",
       "    <tr>\n",
       "      <td>3211</td>\n",
       "      <td>1489</td>\n",
       "      <td>2018-11</td>\n",
       "      <td>NaN</td>\n",
       "      <td>NaN</td>\n",
       "      <td>20.0</td>\n",
       "      <td>17491.56</td>\n",
       "      <td>18.0</td>\n",
       "    </tr>\n",
       "    <tr>\n",
       "      <td>3212</td>\n",
       "      <td>1489</td>\n",
       "      <td>2018-12</td>\n",
       "      <td>NaN</td>\n",
       "      <td>NaN</td>\n",
       "      <td>35.0</td>\n",
       "      <td>17322.51</td>\n",
       "      <td>17.0</td>\n",
       "    </tr>\n",
       "    <tr>\n",
       "      <td>3213</td>\n",
       "      <td>1476</td>\n",
       "      <td>2018-04</td>\n",
       "      <td>NaN</td>\n",
       "      <td>NaN</td>\n",
       "      <td>NaN</td>\n",
       "      <td>530.78</td>\n",
       "      <td>1.0</td>\n",
       "    </tr>\n",
       "  </tbody>\n",
       "</table>\n",
       "</div>"
      ],
      "text/plain": [
       "      user_id    month  calls_duration_min  calls_qty  messages_qty   mb_used  \\\n",
       "3209     1489  2018-09                 NaN        NaN          32.0  17206.30   \n",
       "3210     1489  2018-10                 NaN        NaN          21.0  19559.44   \n",
       "3211     1489  2018-11                 NaN        NaN          20.0  17491.56   \n",
       "3212     1489  2018-12                 NaN        NaN          35.0  17322.51   \n",
       "3213     1476  2018-04                 NaN        NaN           NaN    530.78   \n",
       "\n",
       "      gb_used  \n",
       "3209     17.0  \n",
       "3210     20.0  \n",
       "3211     18.0  \n",
       "3212     17.0  \n",
       "3213      1.0  "
      ]
     },
     "execution_count": 28,
     "metadata": {},
     "output_type": "execute_result"
    }
   ],
   "source": [
    "df.tail()"
   ]
  },
  {
   "cell_type": "code",
   "execution_count": 29,
   "metadata": {},
   "outputs": [],
   "source": [
    "df = pd.merge(df, users, on=\"user_id\", how='outer')\n",
    "#добавление таблицы pt_month_internet"
   ]
  },
  {
   "cell_type": "code",
   "execution_count": 30,
   "metadata": {
    "scrolled": true
   },
   "outputs": [
    {
     "data": {
      "text/html": [
       "<div>\n",
       "<style scoped>\n",
       "    .dataframe tbody tr th:only-of-type {\n",
       "        vertical-align: middle;\n",
       "    }\n",
       "\n",
       "    .dataframe tbody tr th {\n",
       "        vertical-align: top;\n",
       "    }\n",
       "\n",
       "    .dataframe thead th {\n",
       "        text-align: right;\n",
       "    }\n",
       "</style>\n",
       "<table border=\"1\" class=\"dataframe\">\n",
       "  <thead>\n",
       "    <tr style=\"text-align: right;\">\n",
       "      <th></th>\n",
       "      <th>user_id</th>\n",
       "      <th>month</th>\n",
       "      <th>calls_duration_min</th>\n",
       "      <th>calls_qty</th>\n",
       "      <th>messages_qty</th>\n",
       "      <th>mb_used</th>\n",
       "      <th>gb_used</th>\n",
       "      <th>age</th>\n",
       "      <th>churn_date</th>\n",
       "      <th>city</th>\n",
       "      <th>first_name</th>\n",
       "      <th>last_name</th>\n",
       "      <th>reg_date</th>\n",
       "      <th>tariff</th>\n",
       "    </tr>\n",
       "  </thead>\n",
       "  <tbody>\n",
       "    <tr>\n",
       "      <td>0</td>\n",
       "      <td>1000</td>\n",
       "      <td>2018-05</td>\n",
       "      <td>159.0</td>\n",
       "      <td>22.0</td>\n",
       "      <td>22.0</td>\n",
       "      <td>2253.49</td>\n",
       "      <td>3.0</td>\n",
       "      <td>52</td>\n",
       "      <td>NaT</td>\n",
       "      <td>Краснодар</td>\n",
       "      <td>Рафаил</td>\n",
       "      <td>Верещагин</td>\n",
       "      <td>2018-05-25</td>\n",
       "      <td>ultra</td>\n",
       "    </tr>\n",
       "    <tr>\n",
       "      <td>1</td>\n",
       "      <td>1000</td>\n",
       "      <td>2018-06</td>\n",
       "      <td>172.0</td>\n",
       "      <td>43.0</td>\n",
       "      <td>60.0</td>\n",
       "      <td>23233.77</td>\n",
       "      <td>23.0</td>\n",
       "      <td>52</td>\n",
       "      <td>NaT</td>\n",
       "      <td>Краснодар</td>\n",
       "      <td>Рафаил</td>\n",
       "      <td>Верещагин</td>\n",
       "      <td>2018-05-25</td>\n",
       "      <td>ultra</td>\n",
       "    </tr>\n",
       "    <tr>\n",
       "      <td>2</td>\n",
       "      <td>1000</td>\n",
       "      <td>2018-07</td>\n",
       "      <td>340.0</td>\n",
       "      <td>47.0</td>\n",
       "      <td>75.0</td>\n",
       "      <td>14003.64</td>\n",
       "      <td>14.0</td>\n",
       "      <td>52</td>\n",
       "      <td>NaT</td>\n",
       "      <td>Краснодар</td>\n",
       "      <td>Рафаил</td>\n",
       "      <td>Верещагин</td>\n",
       "      <td>2018-05-25</td>\n",
       "      <td>ultra</td>\n",
       "    </tr>\n",
       "    <tr>\n",
       "      <td>3</td>\n",
       "      <td>1000</td>\n",
       "      <td>2018-08</td>\n",
       "      <td>408.0</td>\n",
       "      <td>52.0</td>\n",
       "      <td>81.0</td>\n",
       "      <td>14055.93</td>\n",
       "      <td>14.0</td>\n",
       "      <td>52</td>\n",
       "      <td>NaT</td>\n",
       "      <td>Краснодар</td>\n",
       "      <td>Рафаил</td>\n",
       "      <td>Верещагин</td>\n",
       "      <td>2018-05-25</td>\n",
       "      <td>ultra</td>\n",
       "    </tr>\n",
       "    <tr>\n",
       "      <td>4</td>\n",
       "      <td>1000</td>\n",
       "      <td>2018-09</td>\n",
       "      <td>466.0</td>\n",
       "      <td>58.0</td>\n",
       "      <td>57.0</td>\n",
       "      <td>14568.91</td>\n",
       "      <td>15.0</td>\n",
       "      <td>52</td>\n",
       "      <td>NaT</td>\n",
       "      <td>Краснодар</td>\n",
       "      <td>Рафаил</td>\n",
       "      <td>Верещагин</td>\n",
       "      <td>2018-05-25</td>\n",
       "      <td>ultra</td>\n",
       "    </tr>\n",
       "    <tr>\n",
       "      <td>...</td>\n",
       "      <td>...</td>\n",
       "      <td>...</td>\n",
       "      <td>...</td>\n",
       "      <td>...</td>\n",
       "      <td>...</td>\n",
       "      <td>...</td>\n",
       "      <td>...</td>\n",
       "      <td>...</td>\n",
       "      <td>...</td>\n",
       "      <td>...</td>\n",
       "      <td>...</td>\n",
       "      <td>...</td>\n",
       "      <td>...</td>\n",
       "      <td>...</td>\n",
       "    </tr>\n",
       "    <tr>\n",
       "      <td>3211</td>\n",
       "      <td>1489</td>\n",
       "      <td>2018-10</td>\n",
       "      <td>NaN</td>\n",
       "      <td>NaN</td>\n",
       "      <td>21.0</td>\n",
       "      <td>19559.44</td>\n",
       "      <td>20.0</td>\n",
       "      <td>35</td>\n",
       "      <td>NaT</td>\n",
       "      <td>Санкт-Петербург</td>\n",
       "      <td>Павел</td>\n",
       "      <td>Гончаров</td>\n",
       "      <td>2018-08-15</td>\n",
       "      <td>smart</td>\n",
       "    </tr>\n",
       "    <tr>\n",
       "      <td>3212</td>\n",
       "      <td>1489</td>\n",
       "      <td>2018-11</td>\n",
       "      <td>NaN</td>\n",
       "      <td>NaN</td>\n",
       "      <td>20.0</td>\n",
       "      <td>17491.56</td>\n",
       "      <td>18.0</td>\n",
       "      <td>35</td>\n",
       "      <td>NaT</td>\n",
       "      <td>Санкт-Петербург</td>\n",
       "      <td>Павел</td>\n",
       "      <td>Гончаров</td>\n",
       "      <td>2018-08-15</td>\n",
       "      <td>smart</td>\n",
       "    </tr>\n",
       "    <tr>\n",
       "      <td>3213</td>\n",
       "      <td>1489</td>\n",
       "      <td>2018-12</td>\n",
       "      <td>NaN</td>\n",
       "      <td>NaN</td>\n",
       "      <td>35.0</td>\n",
       "      <td>17322.51</td>\n",
       "      <td>17.0</td>\n",
       "      <td>35</td>\n",
       "      <td>NaT</td>\n",
       "      <td>Санкт-Петербург</td>\n",
       "      <td>Павел</td>\n",
       "      <td>Гончаров</td>\n",
       "      <td>2018-08-15</td>\n",
       "      <td>smart</td>\n",
       "    </tr>\n",
       "    <tr>\n",
       "      <td>3214</td>\n",
       "      <td>1128</td>\n",
       "      <td>NaT</td>\n",
       "      <td>NaN</td>\n",
       "      <td>NaN</td>\n",
       "      <td>NaN</td>\n",
       "      <td>NaN</td>\n",
       "      <td>NaN</td>\n",
       "      <td>51</td>\n",
       "      <td>2018-12-23</td>\n",
       "      <td>Волжский</td>\n",
       "      <td>Ксения</td>\n",
       "      <td>Агаева</td>\n",
       "      <td>2018-12-15</td>\n",
       "      <td>ultra</td>\n",
       "    </tr>\n",
       "    <tr>\n",
       "      <td>3215</td>\n",
       "      <td>1371</td>\n",
       "      <td>NaT</td>\n",
       "      <td>NaN</td>\n",
       "      <td>NaN</td>\n",
       "      <td>NaN</td>\n",
       "      <td>NaN</td>\n",
       "      <td>NaN</td>\n",
       "      <td>50</td>\n",
       "      <td>2018-12-30</td>\n",
       "      <td>Омск</td>\n",
       "      <td>Ириней</td>\n",
       "      <td>Трофимов</td>\n",
       "      <td>2018-12-25</td>\n",
       "      <td>smart</td>\n",
       "    </tr>\n",
       "  </tbody>\n",
       "</table>\n",
       "<p>3216 rows × 14 columns</p>\n",
       "</div>"
      ],
      "text/plain": [
       "      user_id    month  calls_duration_min  calls_qty  messages_qty   mb_used  \\\n",
       "0        1000  2018-05               159.0       22.0          22.0   2253.49   \n",
       "1        1000  2018-06               172.0       43.0          60.0  23233.77   \n",
       "2        1000  2018-07               340.0       47.0          75.0  14003.64   \n",
       "3        1000  2018-08               408.0       52.0          81.0  14055.93   \n",
       "4        1000  2018-09               466.0       58.0          57.0  14568.91   \n",
       "...       ...      ...                 ...        ...           ...       ...   \n",
       "3211     1489  2018-10                 NaN        NaN          21.0  19559.44   \n",
       "3212     1489  2018-11                 NaN        NaN          20.0  17491.56   \n",
       "3213     1489  2018-12                 NaN        NaN          35.0  17322.51   \n",
       "3214     1128      NaT                 NaN        NaN           NaN       NaN   \n",
       "3215     1371      NaT                 NaN        NaN           NaN       NaN   \n",
       "\n",
       "      gb_used  age churn_date             city first_name  last_name  \\\n",
       "0         3.0   52        NaT        Краснодар     Рафаил  Верещагин   \n",
       "1        23.0   52        NaT        Краснодар     Рафаил  Верещагин   \n",
       "2        14.0   52        NaT        Краснодар     Рафаил  Верещагин   \n",
       "3        14.0   52        NaT        Краснодар     Рафаил  Верещагин   \n",
       "4        15.0   52        NaT        Краснодар     Рафаил  Верещагин   \n",
       "...       ...  ...        ...              ...        ...        ...   \n",
       "3211     20.0   35        NaT  Санкт-Петербург      Павел   Гончаров   \n",
       "3212     18.0   35        NaT  Санкт-Петербург      Павел   Гончаров   \n",
       "3213     17.0   35        NaT  Санкт-Петербург      Павел   Гончаров   \n",
       "3214      NaN   51 2018-12-23         Волжский     Ксения     Агаева   \n",
       "3215      NaN   50 2018-12-30             Омск     Ириней   Трофимов   \n",
       "\n",
       "       reg_date tariff  \n",
       "0    2018-05-25  ultra  \n",
       "1    2018-05-25  ultra  \n",
       "2    2018-05-25  ultra  \n",
       "3    2018-05-25  ultra  \n",
       "4    2018-05-25  ultra  \n",
       "...         ...    ...  \n",
       "3211 2018-08-15  smart  \n",
       "3212 2018-08-15  smart  \n",
       "3213 2018-08-15  smart  \n",
       "3214 2018-12-15  ultra  \n",
       "3215 2018-12-25  smart  \n",
       "\n",
       "[3216 rows x 14 columns]"
      ]
     },
     "execution_count": 30,
     "metadata": {},
     "output_type": "execute_result"
    }
   ],
   "source": [
    "df"
   ]
  },
  {
   "cell_type": "code",
   "execution_count": 31,
   "metadata": {},
   "outputs": [
    {
     "data": {
      "text/plain": [
       "500"
      ]
     },
     "execution_count": 31,
     "metadata": {},
     "output_type": "execute_result"
    }
   ],
   "source": [
    "df.user_id.nunique() # проверка объединения  данных по всем уникальным пользователям"
   ]
  },
  {
   "cell_type": "code",
   "execution_count": 32,
   "metadata": {},
   "outputs": [
    {
     "data": {
      "text/plain": [
       "(3216, 14)"
      ]
     },
     "execution_count": 32,
     "metadata": {},
     "output_type": "execute_result"
    }
   ],
   "source": [
    "df.shape #размер таблицы"
   ]
  },
  {
   "cell_type": "markdown",
   "metadata": {},
   "source": [
    "При исследовании данных было отмечено, что для разных услуг доступны записи не обо всех 500 уникальных пользователях, при чем разных сочетаниях."
   ]
  },
  {
   "cell_type": "markdown",
   "metadata": {},
   "source": [
    "Найдем строки для которых недоступны данные хотя бы об одной использованной услуге."
   ]
  },
  {
   "cell_type": "code",
   "execution_count": 33,
   "metadata": {},
   "outputs": [],
   "source": [
    "df_na_servises = df.query('calls_duration_min.isna() or messages_qty.isna() or mb_used.isna()')\n",
    "#перечень строк с недоступными даннsми по объему использования хотя бы одной из используемых услуг"
   ]
  },
  {
   "cell_type": "code",
   "execution_count": 34,
   "metadata": {},
   "outputs": [
    {
     "data": {
      "text/plain": [
       "549"
      ]
     },
     "metadata": {},
     "output_type": "display_data"
    },
    {
     "data": {
      "text/plain": [
       "103"
      ]
     },
     "metadata": {},
     "output_type": "display_data"
    }
   ],
   "source": [
    "display(len(df_na_servises), df_na_servises.user_id.nunique())"
   ]
  },
  {
   "cell_type": "code",
   "execution_count": 35,
   "metadata": {},
   "outputs": [],
   "source": [
    "df_na_all_servises  = df.query('calls_duration_min.isna() and messages_qty.isna() and mb_used.isna()')\n",
    "#перечень строк с недоступными даннsми по объему использования всех услуг"
   ]
  },
  {
   "cell_type": "code",
   "execution_count": 36,
   "metadata": {},
   "outputs": [
    {
     "data": {
      "text/plain": [
       "2"
      ]
     },
     "metadata": {},
     "output_type": "display_data"
    },
    {
     "data": {
      "text/plain": [
       "2"
      ]
     },
     "metadata": {},
     "output_type": "display_data"
    }
   ],
   "source": [
    "display(len(df_na_all_servises), df_na_all_servises.user_id.nunique())"
   ]
  },
  {
   "cell_type": "markdown",
   "metadata": {},
   "source": [
    "Из полученных выше данных видно, что для 103 уникальных пользователей в 549 строках отсутсвуют данные об используемом объеме услуг хотя бы по одной из них. А для двух пользователей в двух строках данные о потребленных услугах отсутсвуют вообще. "
   ]
  },
  {
   "cell_type": "markdown",
   "metadata": {},
   "source": [
    "Будем исходить из следующего: строки, в которых данные отсутствуют по всем услугам, соответсвуют пользователям и подпериодам, по которым данные не были предоставлены в принципе или пользователь не потреблял услуги оператора ни в каком виде. Для проверки предположения о том, что по отдельным пользователям нет записей, проверим наличие инфомации о периоде использования услуг."
   ]
  },
  {
   "cell_type": "code",
   "execution_count": 37,
   "metadata": {},
   "outputs": [
    {
     "data": {
      "text/html": [
       "<div>\n",
       "<style scoped>\n",
       "    .dataframe tbody tr th:only-of-type {\n",
       "        vertical-align: middle;\n",
       "    }\n",
       "\n",
       "    .dataframe tbody tr th {\n",
       "        vertical-align: top;\n",
       "    }\n",
       "\n",
       "    .dataframe thead th {\n",
       "        text-align: right;\n",
       "    }\n",
       "</style>\n",
       "<table border=\"1\" class=\"dataframe\">\n",
       "  <thead>\n",
       "    <tr style=\"text-align: right;\">\n",
       "      <th></th>\n",
       "      <th>user_id</th>\n",
       "      <th>month</th>\n",
       "      <th>calls_duration_min</th>\n",
       "      <th>calls_qty</th>\n",
       "      <th>messages_qty</th>\n",
       "      <th>mb_used</th>\n",
       "      <th>gb_used</th>\n",
       "      <th>age</th>\n",
       "      <th>churn_date</th>\n",
       "      <th>city</th>\n",
       "      <th>first_name</th>\n",
       "      <th>last_name</th>\n",
       "      <th>reg_date</th>\n",
       "      <th>tariff</th>\n",
       "    </tr>\n",
       "  </thead>\n",
       "  <tbody>\n",
       "    <tr>\n",
       "      <td>3214</td>\n",
       "      <td>1128</td>\n",
       "      <td>NaT</td>\n",
       "      <td>NaN</td>\n",
       "      <td>NaN</td>\n",
       "      <td>NaN</td>\n",
       "      <td>NaN</td>\n",
       "      <td>NaN</td>\n",
       "      <td>51</td>\n",
       "      <td>2018-12-23</td>\n",
       "      <td>Волжский</td>\n",
       "      <td>Ксения</td>\n",
       "      <td>Агаева</td>\n",
       "      <td>2018-12-15</td>\n",
       "      <td>ultra</td>\n",
       "    </tr>\n",
       "    <tr>\n",
       "      <td>3215</td>\n",
       "      <td>1371</td>\n",
       "      <td>NaT</td>\n",
       "      <td>NaN</td>\n",
       "      <td>NaN</td>\n",
       "      <td>NaN</td>\n",
       "      <td>NaN</td>\n",
       "      <td>NaN</td>\n",
       "      <td>50</td>\n",
       "      <td>2018-12-30</td>\n",
       "      <td>Омск</td>\n",
       "      <td>Ириней</td>\n",
       "      <td>Трофимов</td>\n",
       "      <td>2018-12-25</td>\n",
       "      <td>smart</td>\n",
       "    </tr>\n",
       "  </tbody>\n",
       "</table>\n",
       "</div>"
      ],
      "text/plain": [
       "      user_id month  calls_duration_min  calls_qty  messages_qty  mb_used  \\\n",
       "3214     1128   NaT                 NaN        NaN           NaN      NaN   \n",
       "3215     1371   NaT                 NaN        NaN           NaN      NaN   \n",
       "\n",
       "      gb_used  age churn_date      city first_name last_name   reg_date tariff  \n",
       "3214      NaN   51 2018-12-23  Волжский     Ксения    Агаева 2018-12-15  ultra  \n",
       "3215      NaN   50 2018-12-30      Омск     Ириней  Трофимов 2018-12-25  smart  "
      ]
     },
     "execution_count": 37,
     "metadata": {},
     "output_type": "execute_result"
    }
   ],
   "source": [
    "df_na_all_servises_na_time  = df_na_all_servises.query('month.isna()')\n",
    "#перечень строк с недоступными даннsми по объему использования всех услуг\n",
    "\n",
    "df_na_all_servises_na_time"
   ]
  },
  {
   "cell_type": "code",
   "execution_count": 38,
   "metadata": {},
   "outputs": [
    {
     "data": {
      "text/html": [
       "<div>\n",
       "<style scoped>\n",
       "    .dataframe tbody tr th:only-of-type {\n",
       "        vertical-align: middle;\n",
       "    }\n",
       "\n",
       "    .dataframe tbody tr th {\n",
       "        vertical-align: top;\n",
       "    }\n",
       "\n",
       "    .dataframe thead th {\n",
       "        text-align: right;\n",
       "    }\n",
       "</style>\n",
       "<table border=\"1\" class=\"dataframe\">\n",
       "  <thead>\n",
       "    <tr style=\"text-align: right;\">\n",
       "      <th></th>\n",
       "      <th>user_id</th>\n",
       "      <th>month</th>\n",
       "      <th>calls_duration_min</th>\n",
       "      <th>calls_qty</th>\n",
       "      <th>messages_qty</th>\n",
       "      <th>mb_used</th>\n",
       "      <th>gb_used</th>\n",
       "      <th>age</th>\n",
       "      <th>churn_date</th>\n",
       "      <th>city</th>\n",
       "      <th>first_name</th>\n",
       "      <th>last_name</th>\n",
       "      <th>reg_date</th>\n",
       "      <th>tariff</th>\n",
       "    </tr>\n",
       "  </thead>\n",
       "  <tbody>\n",
       "    <tr>\n",
       "      <td>3214</td>\n",
       "      <td>1128</td>\n",
       "      <td>NaT</td>\n",
       "      <td>NaN</td>\n",
       "      <td>NaN</td>\n",
       "      <td>NaN</td>\n",
       "      <td>NaN</td>\n",
       "      <td>NaN</td>\n",
       "      <td>51</td>\n",
       "      <td>2018-12-23</td>\n",
       "      <td>Волжский</td>\n",
       "      <td>Ксения</td>\n",
       "      <td>Агаева</td>\n",
       "      <td>2018-12-15</td>\n",
       "      <td>ultra</td>\n",
       "    </tr>\n",
       "    <tr>\n",
       "      <td>3215</td>\n",
       "      <td>1371</td>\n",
       "      <td>NaT</td>\n",
       "      <td>NaN</td>\n",
       "      <td>NaN</td>\n",
       "      <td>NaN</td>\n",
       "      <td>NaN</td>\n",
       "      <td>NaN</td>\n",
       "      <td>50</td>\n",
       "      <td>2018-12-30</td>\n",
       "      <td>Омск</td>\n",
       "      <td>Ириней</td>\n",
       "      <td>Трофимов</td>\n",
       "      <td>2018-12-25</td>\n",
       "      <td>smart</td>\n",
       "    </tr>\n",
       "  </tbody>\n",
       "</table>\n",
       "</div>"
      ],
      "text/plain": [
       "      user_id month  calls_duration_min  calls_qty  messages_qty  mb_used  \\\n",
       "3214     1128   NaT                 NaN        NaN           NaN      NaN   \n",
       "3215     1371   NaT                 NaN        NaN           NaN      NaN   \n",
       "\n",
       "      gb_used  age churn_date      city first_name last_name   reg_date tariff  \n",
       "3214      NaN   51 2018-12-23  Волжский     Ксения    Агаева 2018-12-15  ultra  \n",
       "3215      NaN   50 2018-12-30      Омск     Ириней  Трофимов 2018-12-25  smart  "
      ]
     },
     "execution_count": 38,
     "metadata": {},
     "output_type": "execute_result"
    }
   ],
   "source": [
    "df_na_servises_na_time  = df_na_servises.query('month.isna()')\n",
    "#перечень строк с недоступными данными по объему использования всех услуг\n",
    "\n",
    "df_na_all_servises_na_time"
   ]
  },
  {
   "cell_type": "markdown",
   "metadata": {},
   "source": [
    "Все те же 2 строки, их можно удалить, объем удаленной информации невелик по сравнению с полученной таблицей, а в расчет помесячной выручки без привязки к конкретному периоду времени такие строки включить не удасться, даже если заменить недоступные значения объема предоставленных услуг 0."
   ]
  },
  {
   "cell_type": "markdown",
   "metadata": {},
   "source": [
    "Остальные же пропуски вполне объяснимы - пользователь неиспользовал только определенный вид услуг, по которым данные недоступны - логично произвести замену таких данных на 0."
   ]
  },
  {
   "cell_type": "code",
   "execution_count": 39,
   "metadata": {},
   "outputs": [],
   "source": [
    "df.dropna(subset=['month'], inplace=True)\n",
    "#удаление строк с пропускми в столбце 'month' и пропусками в занчениях объемов потребления всех трех видов услуг"
   ]
  },
  {
   "cell_type": "code",
   "execution_count": 40,
   "metadata": {},
   "outputs": [],
   "source": [
    "df.fillna({'calls_duration_min':0 , 'calls_qty':0, 'messages_qty':0, 'mb_used':0, 'gb_used':0}, inplace=True)\n",
    "#удаление строк с пропускми в столбце 'month' и пропусками в занчениях объемов потребления всех трех видов услуг"
   ]
  },
  {
   "cell_type": "code",
   "execution_count": 41,
   "metadata": {},
   "outputs": [
    {
     "data": {
      "text/html": [
       "<div>\n",
       "<style scoped>\n",
       "    .dataframe tbody tr th:only-of-type {\n",
       "        vertical-align: middle;\n",
       "    }\n",
       "\n",
       "    .dataframe tbody tr th {\n",
       "        vertical-align: top;\n",
       "    }\n",
       "\n",
       "    .dataframe thead th {\n",
       "        text-align: right;\n",
       "    }\n",
       "</style>\n",
       "<table border=\"1\" class=\"dataframe\">\n",
       "  <thead>\n",
       "    <tr style=\"text-align: right;\">\n",
       "      <th></th>\n",
       "      <th>user_id</th>\n",
       "      <th>month</th>\n",
       "      <th>calls_duration_min</th>\n",
       "      <th>calls_qty</th>\n",
       "      <th>messages_qty</th>\n",
       "      <th>mb_used</th>\n",
       "      <th>gb_used</th>\n",
       "      <th>age</th>\n",
       "      <th>churn_date</th>\n",
       "      <th>city</th>\n",
       "      <th>first_name</th>\n",
       "      <th>last_name</th>\n",
       "      <th>reg_date</th>\n",
       "      <th>tariff</th>\n",
       "    </tr>\n",
       "  </thead>\n",
       "  <tbody>\n",
       "    <tr>\n",
       "      <td>0</td>\n",
       "      <td>1000</td>\n",
       "      <td>2018-05</td>\n",
       "      <td>159.0</td>\n",
       "      <td>22.0</td>\n",
       "      <td>22.0</td>\n",
       "      <td>2253.49</td>\n",
       "      <td>3.0</td>\n",
       "      <td>52</td>\n",
       "      <td>NaT</td>\n",
       "      <td>Краснодар</td>\n",
       "      <td>Рафаил</td>\n",
       "      <td>Верещагин</td>\n",
       "      <td>2018-05-25</td>\n",
       "      <td>ultra</td>\n",
       "    </tr>\n",
       "    <tr>\n",
       "      <td>1</td>\n",
       "      <td>1000</td>\n",
       "      <td>2018-06</td>\n",
       "      <td>172.0</td>\n",
       "      <td>43.0</td>\n",
       "      <td>60.0</td>\n",
       "      <td>23233.77</td>\n",
       "      <td>23.0</td>\n",
       "      <td>52</td>\n",
       "      <td>NaT</td>\n",
       "      <td>Краснодар</td>\n",
       "      <td>Рафаил</td>\n",
       "      <td>Верещагин</td>\n",
       "      <td>2018-05-25</td>\n",
       "      <td>ultra</td>\n",
       "    </tr>\n",
       "    <tr>\n",
       "      <td>2</td>\n",
       "      <td>1000</td>\n",
       "      <td>2018-07</td>\n",
       "      <td>340.0</td>\n",
       "      <td>47.0</td>\n",
       "      <td>75.0</td>\n",
       "      <td>14003.64</td>\n",
       "      <td>14.0</td>\n",
       "      <td>52</td>\n",
       "      <td>NaT</td>\n",
       "      <td>Краснодар</td>\n",
       "      <td>Рафаил</td>\n",
       "      <td>Верещагин</td>\n",
       "      <td>2018-05-25</td>\n",
       "      <td>ultra</td>\n",
       "    </tr>\n",
       "    <tr>\n",
       "      <td>3</td>\n",
       "      <td>1000</td>\n",
       "      <td>2018-08</td>\n",
       "      <td>408.0</td>\n",
       "      <td>52.0</td>\n",
       "      <td>81.0</td>\n",
       "      <td>14055.93</td>\n",
       "      <td>14.0</td>\n",
       "      <td>52</td>\n",
       "      <td>NaT</td>\n",
       "      <td>Краснодар</td>\n",
       "      <td>Рафаил</td>\n",
       "      <td>Верещагин</td>\n",
       "      <td>2018-05-25</td>\n",
       "      <td>ultra</td>\n",
       "    </tr>\n",
       "    <tr>\n",
       "      <td>4</td>\n",
       "      <td>1000</td>\n",
       "      <td>2018-09</td>\n",
       "      <td>466.0</td>\n",
       "      <td>58.0</td>\n",
       "      <td>57.0</td>\n",
       "      <td>14568.91</td>\n",
       "      <td>15.0</td>\n",
       "      <td>52</td>\n",
       "      <td>NaT</td>\n",
       "      <td>Краснодар</td>\n",
       "      <td>Рафаил</td>\n",
       "      <td>Верещагин</td>\n",
       "      <td>2018-05-25</td>\n",
       "      <td>ultra</td>\n",
       "    </tr>\n",
       "    <tr>\n",
       "      <td>...</td>\n",
       "      <td>...</td>\n",
       "      <td>...</td>\n",
       "      <td>...</td>\n",
       "      <td>...</td>\n",
       "      <td>...</td>\n",
       "      <td>...</td>\n",
       "      <td>...</td>\n",
       "      <td>...</td>\n",
       "      <td>...</td>\n",
       "      <td>...</td>\n",
       "      <td>...</td>\n",
       "      <td>...</td>\n",
       "      <td>...</td>\n",
       "      <td>...</td>\n",
       "    </tr>\n",
       "    <tr>\n",
       "      <td>3209</td>\n",
       "      <td>1489</td>\n",
       "      <td>2018-08</td>\n",
       "      <td>0.0</td>\n",
       "      <td>0.0</td>\n",
       "      <td>17.0</td>\n",
       "      <td>11050.56</td>\n",
       "      <td>11.0</td>\n",
       "      <td>35</td>\n",
       "      <td>NaT</td>\n",
       "      <td>Санкт-Петербург</td>\n",
       "      <td>Павел</td>\n",
       "      <td>Гончаров</td>\n",
       "      <td>2018-08-15</td>\n",
       "      <td>smart</td>\n",
       "    </tr>\n",
       "    <tr>\n",
       "      <td>3210</td>\n",
       "      <td>1489</td>\n",
       "      <td>2018-09</td>\n",
       "      <td>0.0</td>\n",
       "      <td>0.0</td>\n",
       "      <td>32.0</td>\n",
       "      <td>17206.30</td>\n",
       "      <td>17.0</td>\n",
       "      <td>35</td>\n",
       "      <td>NaT</td>\n",
       "      <td>Санкт-Петербург</td>\n",
       "      <td>Павел</td>\n",
       "      <td>Гончаров</td>\n",
       "      <td>2018-08-15</td>\n",
       "      <td>smart</td>\n",
       "    </tr>\n",
       "    <tr>\n",
       "      <td>3211</td>\n",
       "      <td>1489</td>\n",
       "      <td>2018-10</td>\n",
       "      <td>0.0</td>\n",
       "      <td>0.0</td>\n",
       "      <td>21.0</td>\n",
       "      <td>19559.44</td>\n",
       "      <td>20.0</td>\n",
       "      <td>35</td>\n",
       "      <td>NaT</td>\n",
       "      <td>Санкт-Петербург</td>\n",
       "      <td>Павел</td>\n",
       "      <td>Гончаров</td>\n",
       "      <td>2018-08-15</td>\n",
       "      <td>smart</td>\n",
       "    </tr>\n",
       "    <tr>\n",
       "      <td>3212</td>\n",
       "      <td>1489</td>\n",
       "      <td>2018-11</td>\n",
       "      <td>0.0</td>\n",
       "      <td>0.0</td>\n",
       "      <td>20.0</td>\n",
       "      <td>17491.56</td>\n",
       "      <td>18.0</td>\n",
       "      <td>35</td>\n",
       "      <td>NaT</td>\n",
       "      <td>Санкт-Петербург</td>\n",
       "      <td>Павел</td>\n",
       "      <td>Гончаров</td>\n",
       "      <td>2018-08-15</td>\n",
       "      <td>smart</td>\n",
       "    </tr>\n",
       "    <tr>\n",
       "      <td>3213</td>\n",
       "      <td>1489</td>\n",
       "      <td>2018-12</td>\n",
       "      <td>0.0</td>\n",
       "      <td>0.0</td>\n",
       "      <td>35.0</td>\n",
       "      <td>17322.51</td>\n",
       "      <td>17.0</td>\n",
       "      <td>35</td>\n",
       "      <td>NaT</td>\n",
       "      <td>Санкт-Петербург</td>\n",
       "      <td>Павел</td>\n",
       "      <td>Гончаров</td>\n",
       "      <td>2018-08-15</td>\n",
       "      <td>smart</td>\n",
       "    </tr>\n",
       "  </tbody>\n",
       "</table>\n",
       "<p>3214 rows × 14 columns</p>\n",
       "</div>"
      ],
      "text/plain": [
       "      user_id    month  calls_duration_min  calls_qty  messages_qty   mb_used  \\\n",
       "0        1000  2018-05               159.0       22.0          22.0   2253.49   \n",
       "1        1000  2018-06               172.0       43.0          60.0  23233.77   \n",
       "2        1000  2018-07               340.0       47.0          75.0  14003.64   \n",
       "3        1000  2018-08               408.0       52.0          81.0  14055.93   \n",
       "4        1000  2018-09               466.0       58.0          57.0  14568.91   \n",
       "...       ...      ...                 ...        ...           ...       ...   \n",
       "3209     1489  2018-08                 0.0        0.0          17.0  11050.56   \n",
       "3210     1489  2018-09                 0.0        0.0          32.0  17206.30   \n",
       "3211     1489  2018-10                 0.0        0.0          21.0  19559.44   \n",
       "3212     1489  2018-11                 0.0        0.0          20.0  17491.56   \n",
       "3213     1489  2018-12                 0.0        0.0          35.0  17322.51   \n",
       "\n",
       "      gb_used  age churn_date             city first_name  last_name  \\\n",
       "0         3.0   52        NaT        Краснодар     Рафаил  Верещагин   \n",
       "1        23.0   52        NaT        Краснодар     Рафаил  Верещагин   \n",
       "2        14.0   52        NaT        Краснодар     Рафаил  Верещагин   \n",
       "3        14.0   52        NaT        Краснодар     Рафаил  Верещагин   \n",
       "4        15.0   52        NaT        Краснодар     Рафаил  Верещагин   \n",
       "...       ...  ...        ...              ...        ...        ...   \n",
       "3209     11.0   35        NaT  Санкт-Петербург      Павел   Гончаров   \n",
       "3210     17.0   35        NaT  Санкт-Петербург      Павел   Гончаров   \n",
       "3211     20.0   35        NaT  Санкт-Петербург      Павел   Гончаров   \n",
       "3212     18.0   35        NaT  Санкт-Петербург      Павел   Гончаров   \n",
       "3213     17.0   35        NaT  Санкт-Петербург      Павел   Гончаров   \n",
       "\n",
       "       reg_date tariff  \n",
       "0    2018-05-25  ultra  \n",
       "1    2018-05-25  ultra  \n",
       "2    2018-05-25  ultra  \n",
       "3    2018-05-25  ultra  \n",
       "4    2018-05-25  ultra  \n",
       "...         ...    ...  \n",
       "3209 2018-08-15  smart  \n",
       "3210 2018-08-15  smart  \n",
       "3211 2018-08-15  smart  \n",
       "3212 2018-08-15  smart  \n",
       "3213 2018-08-15  smart  \n",
       "\n",
       "[3214 rows x 14 columns]"
      ]
     },
     "execution_count": 41,
     "metadata": {},
     "output_type": "execute_result"
    }
   ],
   "source": [
    "df\n",
    "#удаление строк с пропускми в столбце 'month' и пропусками в занчениях объемов потребления всех трех видов услуг"
   ]
  },
  {
   "cell_type": "code",
   "execution_count": 42,
   "metadata": {},
   "outputs": [
    {
     "data": {
      "text/plain": [
       "(3214, 14)"
      ]
     },
     "execution_count": 42,
     "metadata": {},
     "output_type": "execute_result"
    }
   ],
   "source": [
    "df.shape"
   ]
  },
  {
   "cell_type": "code",
   "execution_count": 43,
   "metadata": {},
   "outputs": [
    {
     "data": {
      "text/plain": [
       "498"
      ]
     },
     "execution_count": 43,
     "metadata": {},
     "output_type": "execute_result"
    }
   ],
   "source": [
    "df.user_id.nunique()"
   ]
  },
  {
   "cell_type": "markdown",
   "metadata": {},
   "source": [
    "### Подсчет помесячной выручки с клиента, на основании выбранного тарифа."
   ]
  },
  {
   "cell_type": "markdown",
   "metadata": {},
   "source": [
    "Для определения помесячной выручку с каждого пользователя создадим функцию, которая, исходя из выбранного клиентом тарифного плана, будет суммировать абонентскую плату и плату за превышение бесплатных лимитов по звонкам, сообщениям и интернет-траффику."
   ]
  },
  {
   "cell_type": "code",
   "execution_count": 44,
   "metadata": {},
   "outputs": [],
   "source": [
    "def user_rev_month(row): #функция определения помесячной выручки\n",
    "    \n",
    "    if row['tariff']  == \"smart\": #блок идентификации тарифа\n",
    "        i = 0\n",
    "    elif row['tariff'] == \"ultra\":\n",
    "        i = 1\n",
    "        \n",
    "    pay = tariffs['rub_monthly_fee'][i] #блок определения тарифных параметров согласно таблице tariff\n",
    "    cll = tariffs['minutes_included'][i]\n",
    "    cll_pr = tariffs['rub_per_minute'][i]\n",
    "    msg = tariffs['messages_included'][i]\n",
    "    msg_pr = tariffs['rub_per_message'][i]\n",
    "    web = tariffs['mb_per_month_included'][i] / 1024\n",
    "    web_pr = tariffs['rub_per_gb'][i]\n",
    "    \n",
    "    if row['calls_duration_min'] > cll: #блок определения объемов \"сверхлимитов\"\n",
    "        a = row['calls_duration_min'] - cll\n",
    "    else:\n",
    "        a = 0\n",
    "        \n",
    "    if row['messages_qty'] > msg:\n",
    "        b = row['messages_qty'] - msg\n",
    "    else:\n",
    "        b = 0\n",
    "        \n",
    "    if row['gb_used'] > web:\n",
    "        c = row['gb_used'] - web\n",
    "    else:\n",
    "        c = 0\n",
    "        \n",
    "    return (pay + a * cll_pr + b * msg_pr + c * web_pr) #определение итоговой выручки"
   ]
  },
  {
   "cell_type": "code",
   "execution_count": 45,
   "metadata": {
    "scrolled": true
   },
   "outputs": [],
   "source": [
    "df['user_rev_month'] = df.apply(user_rev_month, axis=1) #добавление столбца помесячной выручки"
   ]
  },
  {
   "cell_type": "code",
   "execution_count": 46,
   "metadata": {},
   "outputs": [
    {
     "data": {
      "text/plain": [
       "count    3214.000000\n",
       "mean     1529.076229\n",
       "std       798.251091\n",
       "min       550.000000\n",
       "25%       750.000000\n",
       "50%      1653.500000\n",
       "75%      1950.000000\n",
       "max      6770.000000\n",
       "Name: user_rev_month, dtype: float64"
      ]
     },
     "execution_count": 46,
     "metadata": {},
     "output_type": "execute_result"
    }
   ],
   "source": [
    "df['user_rev_month'].describe()"
   ]
  },
  {
   "cell_type": "code",
   "execution_count": 47,
   "metadata": {},
   "outputs": [
    {
     "data": {
      "text/html": [
       "<div>\n",
       "<style scoped>\n",
       "    .dataframe tbody tr th:only-of-type {\n",
       "        vertical-align: middle;\n",
       "    }\n",
       "\n",
       "    .dataframe tbody tr th {\n",
       "        vertical-align: top;\n",
       "    }\n",
       "\n",
       "    .dataframe thead th {\n",
       "        text-align: right;\n",
       "    }\n",
       "</style>\n",
       "<table border=\"1\" class=\"dataframe\">\n",
       "  <thead>\n",
       "    <tr style=\"text-align: right;\">\n",
       "      <th></th>\n",
       "      <th>user_id</th>\n",
       "      <th>month</th>\n",
       "      <th>calls_duration_min</th>\n",
       "      <th>calls_qty</th>\n",
       "      <th>messages_qty</th>\n",
       "      <th>mb_used</th>\n",
       "      <th>gb_used</th>\n",
       "      <th>age</th>\n",
       "      <th>churn_date</th>\n",
       "      <th>city</th>\n",
       "      <th>first_name</th>\n",
       "      <th>last_name</th>\n",
       "      <th>reg_date</th>\n",
       "      <th>tariff</th>\n",
       "      <th>user_rev_month</th>\n",
       "    </tr>\n",
       "  </thead>\n",
       "  <tbody>\n",
       "    <tr>\n",
       "      <td>3209</td>\n",
       "      <td>1489</td>\n",
       "      <td>2018-08</td>\n",
       "      <td>0.0</td>\n",
       "      <td>0.0</td>\n",
       "      <td>17.0</td>\n",
       "      <td>11050.56</td>\n",
       "      <td>11.0</td>\n",
       "      <td>35</td>\n",
       "      <td>NaT</td>\n",
       "      <td>Санкт-Петербург</td>\n",
       "      <td>Павел</td>\n",
       "      <td>Гончаров</td>\n",
       "      <td>2018-08-15</td>\n",
       "      <td>smart</td>\n",
       "      <td>550.0</td>\n",
       "    </tr>\n",
       "    <tr>\n",
       "      <td>3210</td>\n",
       "      <td>1489</td>\n",
       "      <td>2018-09</td>\n",
       "      <td>0.0</td>\n",
       "      <td>0.0</td>\n",
       "      <td>32.0</td>\n",
       "      <td>17206.30</td>\n",
       "      <td>17.0</td>\n",
       "      <td>35</td>\n",
       "      <td>NaT</td>\n",
       "      <td>Санкт-Петербург</td>\n",
       "      <td>Павел</td>\n",
       "      <td>Гончаров</td>\n",
       "      <td>2018-08-15</td>\n",
       "      <td>smart</td>\n",
       "      <td>950.0</td>\n",
       "    </tr>\n",
       "    <tr>\n",
       "      <td>3211</td>\n",
       "      <td>1489</td>\n",
       "      <td>2018-10</td>\n",
       "      <td>0.0</td>\n",
       "      <td>0.0</td>\n",
       "      <td>21.0</td>\n",
       "      <td>19559.44</td>\n",
       "      <td>20.0</td>\n",
       "      <td>35</td>\n",
       "      <td>NaT</td>\n",
       "      <td>Санкт-Петербург</td>\n",
       "      <td>Павел</td>\n",
       "      <td>Гончаров</td>\n",
       "      <td>2018-08-15</td>\n",
       "      <td>smart</td>\n",
       "      <td>1550.0</td>\n",
       "    </tr>\n",
       "    <tr>\n",
       "      <td>3212</td>\n",
       "      <td>1489</td>\n",
       "      <td>2018-11</td>\n",
       "      <td>0.0</td>\n",
       "      <td>0.0</td>\n",
       "      <td>20.0</td>\n",
       "      <td>17491.56</td>\n",
       "      <td>18.0</td>\n",
       "      <td>35</td>\n",
       "      <td>NaT</td>\n",
       "      <td>Санкт-Петербург</td>\n",
       "      <td>Павел</td>\n",
       "      <td>Гончаров</td>\n",
       "      <td>2018-08-15</td>\n",
       "      <td>smart</td>\n",
       "      <td>1150.0</td>\n",
       "    </tr>\n",
       "    <tr>\n",
       "      <td>3213</td>\n",
       "      <td>1489</td>\n",
       "      <td>2018-12</td>\n",
       "      <td>0.0</td>\n",
       "      <td>0.0</td>\n",
       "      <td>35.0</td>\n",
       "      <td>17322.51</td>\n",
       "      <td>17.0</td>\n",
       "      <td>35</td>\n",
       "      <td>NaT</td>\n",
       "      <td>Санкт-Петербург</td>\n",
       "      <td>Павел</td>\n",
       "      <td>Гончаров</td>\n",
       "      <td>2018-08-15</td>\n",
       "      <td>smart</td>\n",
       "      <td>950.0</td>\n",
       "    </tr>\n",
       "  </tbody>\n",
       "</table>\n",
       "</div>"
      ],
      "text/plain": [
       "      user_id    month  calls_duration_min  calls_qty  messages_qty   mb_used  \\\n",
       "3209     1489  2018-08                 0.0        0.0          17.0  11050.56   \n",
       "3210     1489  2018-09                 0.0        0.0          32.0  17206.30   \n",
       "3211     1489  2018-10                 0.0        0.0          21.0  19559.44   \n",
       "3212     1489  2018-11                 0.0        0.0          20.0  17491.56   \n",
       "3213     1489  2018-12                 0.0        0.0          35.0  17322.51   \n",
       "\n",
       "      gb_used  age churn_date             city first_name last_name  \\\n",
       "3209     11.0   35        NaT  Санкт-Петербург      Павел  Гончаров   \n",
       "3210     17.0   35        NaT  Санкт-Петербург      Павел  Гончаров   \n",
       "3211     20.0   35        NaT  Санкт-Петербург      Павел  Гончаров   \n",
       "3212     18.0   35        NaT  Санкт-Петербург      Павел  Гончаров   \n",
       "3213     17.0   35        NaT  Санкт-Петербург      Павел  Гончаров   \n",
       "\n",
       "       reg_date tariff  user_rev_month  \n",
       "3209 2018-08-15  smart           550.0  \n",
       "3210 2018-08-15  smart           950.0  \n",
       "3211 2018-08-15  smart          1550.0  \n",
       "3212 2018-08-15  smart          1150.0  \n",
       "3213 2018-08-15  smart           950.0  "
      ]
     },
     "execution_count": 47,
     "metadata": {},
     "output_type": "execute_result"
    }
   ],
   "source": [
    "df.tail()"
   ]
  },
  {
   "cell_type": "markdown",
   "metadata": {},
   "source": [
    "### Вывод\n",
    "\n",
    "Для получения сводной информации для каждого клиента о помесячных объемах использования услуг данные о звонках, сообщениях, интернет-сессиях и пользователях сведены в одну таблицу. На основе полученных помесячных данных и условиях тарификации, исходя из выбранного тарифного плана, подсчитана выручка с каждого клиента за месяц."
   ]
  },
  {
   "cell_type": "markdown",
   "metadata": {},
   "source": [
    "## Анализ поведения клиентов на основании выбранного тарифного плана"
   ]
  },
  {
   "cell_type": "markdown",
   "metadata": {},
   "source": [
    "Проанализируем поведение клиентов оператора, исходя из выборки. Подсичаем параметры выборки для количества минут разговора, количества сообщений и объёма интернет-трафика пользователей каждого тарифа в месяц. Посчитаем среднее количество, дисперсию и стандартное отклонение. Построим гистограммы. Опишем распределения."
   ]
  },
  {
   "cell_type": "markdown",
   "metadata": {},
   "source": [
    "Для удобства анализа разделим полученную таблицу на 2 части: пользователи с тарифом 'smart' и пользователи с тарифом 'ultra'."
   ]
  },
  {
   "cell_type": "code",
   "execution_count": 48,
   "metadata": {},
   "outputs": [],
   "source": [
    "df_smart = df.query('tariff == \"smart\"')\n",
    "df_ultra = df.query('tariff == \"ultra\"')"
   ]
  },
  {
   "cell_type": "markdown",
   "metadata": {},
   "source": [
    "Определим метрики локации данных для количества использованных минут разговора, оптправленных SMS сообщенийб объема интеренет траффика и выручкки для пользователей с разными тарифами."
   ]
  },
  {
   "cell_type": "markdown",
   "metadata": {},
   "source": [
    "Создадим функцию, которая по наименованию столбца будет определять среденее и медианное значение параметра столбца для тарифов 'smart' и 'ultra' и для удобства стравнения выводить их виде таблицs, а также строить гистограммы распределения заданных параметров."
   ]
  },
  {
   "cell_type": "code",
   "execution_count": 49,
   "metadata": {
    "scrolled": true
   },
   "outputs": [],
   "source": [
    "def loc_metrics(a):\n",
    "    dscrb_smart = df_smart[a].describe()\n",
    "    dscrb_ultra = df_ultra[a].describe()\n",
    "    variance_smart = np.var(df_smart[a], ddof=1)\n",
    "    variance_ultra = np.var(df_ultra[a], ddof=1)\n",
    "    data = pd.DataFrame({a:['count', 'mean', 'std', 'variance', 'min',\n",
    "                            '25%_1st_quartile', 'median_50%_2nd_quartile', '75%_3rd_quartile', 'max'],\n",
    "                        'smart':[dscrb_smart[0], dscrb_smart[1], dscrb_smart[2], variance_smart,\n",
    "                                dscrb_smart[3], dscrb_smart[4], dscrb_smart[5],dscrb_smart[6],dscrb_smart[7]],\n",
    "                        'ultra':[dscrb_ultra[0], dscrb_ultra[1], dscrb_ultra[2], variance_ultra,\n",
    "                                dscrb_ultra[3], dscrb_ultra[4], dscrb_ultra[5],dscrb_ultra[6],dscrb_ultra[7]]})\n",
    "    print(data)\n",
    "    plt.figure(figsize=(18, 5))\n",
    "    sns.distplot(df_smart[a], kde=False, label=a+' smart')\n",
    "    sns.distplot(df_ultra[a], kde=False, label=a+' ultra')\n",
    "    plt.grid()\n",
    "    plt.title(label=a+' histogram')\n",
    "    plt.ylabel(\"frequency\")\n",
    "    plt.legend(loc='upper right')\n",
    "    plt.show()"
   ]
  },
  {
   "cell_type": "markdown",
   "metadata": {},
   "source": [
    "### Анализ суммарной длительности разговора за месяц"
   ]
  },
  {
   "cell_type": "code",
   "execution_count": 50,
   "metadata": {
    "scrolled": false
   },
   "outputs": [
    {
     "name": "stdout",
     "output_type": "stream",
     "text": [
      "        calls_duration_min         smart          ultra\n",
      "0                    count   2229.000000     985.000000\n",
      "1                     mean    417.934948     526.623350\n",
      "2                      std    190.313730     317.606098\n",
      "3                 variance  36219.315784  100873.633397\n",
      "4                      min      0.000000       0.000000\n",
      "5         25%_1st_quartile    282.000000     284.000000\n",
      "6  median_50%_2nd_quartile    422.000000     518.000000\n",
      "7         75%_3rd_quartile    545.000000     752.000000\n",
      "8                      max   1435.000000    1673.000000\n"
     ]
    },
    {
     "data": {
      "image/png": "[encoded data removed]",
      "text/plain": [
       "<Figure size 1296x360 with 1 Axes>"
      ]
     },
     "metadata": {
      "needs_background": "light"
     },
     "output_type": "display_data"
    }
   ],
   "source": [
    "calls_duration_lm = loc_metrics('calls_duration_min')\n",
    "calls_duration_lm"
   ]
  },
  {
   "cell_type": "markdown",
   "metadata": {},
   "source": [
    "Для обоих тарифов характерно наличие звонков с нулевой длительностью (непринятые звонки, либо звонки не использовались). Также для обоих тарифов очень близки средние и медианные значения суммарной длительности звонков, что говорит об отсутствии скошенности датасетов в какую-либо сторону. Для тарифа 'ultra' характерно большее значение среднего (примерно на 109 мин) и медианы (примерно на 96 мин), что говорит о том, что клиенты тарифа 'ultra' тратят больше времени на разговоры (примерно на 1.5 часа). Для тарифа 'ultra' также характерно большее значение дисперсии и стандартного отклонения (почти в 2 раза), что также подтверждается большей шириной \"колокола\" гистограммы распределения времени разговора и большими значениями квартилей - это опять же подтвержает большую длительность разговоров клиентов с тарифом 'ultra' (их бесплатный лимит общения позволяет им это делать). Большинство же клиентов тарифа \"smart\" стараются придерживаться своего бесплатного лимита длительности звонков (значение третьего квартиля не многим больше значения лимита в 500 минут)."
   ]
  },
  {
   "cell_type": "markdown",
   "metadata": {},
   "source": [
    "### Анализ количества звонков за месяц"
   ]
  },
  {
   "cell_type": "code",
   "execution_count": 51,
   "metadata": {
    "scrolled": false
   },
   "outputs": [
    {
     "name": "stdout",
     "output_type": "stream",
     "text": [
      "                 calls_qty        smart        ultra\n",
      "0                    count  2229.000000   985.000000\n",
      "1                     mean    58.463437    73.392893\n",
      "2                      std    25.939858    43.916853\n",
      "3                 variance   672.876243  1928.689990\n",
      "4                      min     0.000000     0.000000\n",
      "5         25%_1st_quartile    40.000000    41.000000\n",
      "6  median_50%_2nd_quartile    60.000000    74.000000\n",
      "7         75%_3rd_quartile    76.000000   104.000000\n",
      "8                      max   198.000000   244.000000\n"
     ]
    },
    {
     "data": {
      "image/png": "[encoded data removed]",
      "text/plain": [
       "<Figure size 1296x360 with 1 Axes>"
      ]
     },
     "metadata": {
      "needs_background": "light"
     },
     "output_type": "display_data"
    }
   ],
   "source": [
    "calls_qty_lm = loc_metrics('calls_qty')\n",
    "calls_qty_lm"
   ]
  },
  {
   "cell_type": "markdown",
   "metadata": {},
   "source": [
    "Для количества звонков ситуация с гистограммой распределения аналогична количеству минут разговоров. Для обоих тарифов характерно наличие ситуации с нулевым количеством звонков за месяц (один из вариантов -  это клиенты, использующие мобильную сеть для управления умными устройствами, для них важны каналы коммуникации в виде SMS и интернета), частота их повторений довольно близка. Также для обоих тарифов близки средние и медианные значения количества звонков, данные не скошены. Для тарифа 'ultra' характерно большее значение среднего (примерно на 15 звонков) и медианы (примерно на 14 звонков), что говорит о том, что клиенты тарифа 'ultra' чаще делают звонки (примерно на 15 в месяц, или  примерно плюс 2 звонка в день). Для тарифа 'ultra' также характерно большее значение дисперсии и стандартного отклонения, что также подтверждается большей шириной \"колокола\" гистограммы распределения количества звонков и большими значениями квартилей. "
   ]
  },
  {
   "cell_type": "markdown",
   "metadata": {},
   "source": [
    "### Анализ количества отправленных за месяц SMS-сообщений"
   ]
  },
  {
   "cell_type": "code",
   "execution_count": 52,
   "metadata": {
    "scrolled": false
   },
   "outputs": [
    {
     "name": "stdout",
     "output_type": "stream",
     "text": [
      "              messages_qty        smart        ultra\n",
      "0                    count  2229.000000   985.000000\n",
      "1                     mean    33.384029    49.363452\n",
      "2                      std    28.227876    47.804457\n",
      "3                 variance   796.812958  2285.266143\n",
      "4                      min     0.000000     0.000000\n",
      "5         25%_1st_quartile    10.000000     6.000000\n",
      "6  median_50%_2nd_quartile    28.000000    38.000000\n",
      "7         75%_3rd_quartile    51.000000    79.000000\n",
      "8                      max   143.000000   224.000000\n"
     ]
    },
    {
     "data": {
      "image/png": "[encoded data removed]",
      "text/plain": [
       "<Figure size 1296x360 with 1 Axes>"
      ]
     },
     "metadata": {
      "needs_background": "light"
     },
     "output_type": "display_data"
    }
   ],
   "source": [
    "messages_qty_lm = loc_metrics('messages_qty')\n",
    "messages_qty_lm"
   ]
  },
  {
   "cell_type": "markdown",
   "metadata": {},
   "source": [
    "Минимальное количество отправленных сообщений для обоих тарифов - 0 (сообщения не использовались). Аналогично предыдущим гистораммам для тарифа 'ultra' также характерно большее значение дисперсии и стандартного отклонения по количеству отправленных сообщений, что также подтверждается большей шириной \"колокола\" гистограммы распределения и большими значениями квартилей.  При этом для обеих таблиц характерна скошенность вправо (среднее больше для медианы), при этом скошенность более выражена для сообщений тарифа \"ultra\", что говорит о наличии доли клиентов которые гораздо чаще других отправляют сообщения. Как и в случае с лимитом времени на звонки, клиенты тарифа 'smart' стараются уложиться в лимит бесплатного количества сообщений (50, при значении третьего квартиля 51)."
   ]
  },
  {
   "cell_type": "markdown",
   "metadata": {},
   "source": [
    "### Анализ объема тарифицируемого интернет-траффика за месяц"
   ]
  },
  {
   "cell_type": "code",
   "execution_count": 53,
   "metadata": {
    "scrolled": false
   },
   "outputs": [
    {
     "name": "stdout",
     "output_type": "stream",
     "text": [
      "                   gb_used        smart       ultra\n",
      "0                    count  2229.000000  985.000000\n",
      "1                     mean    16.328847   19.494416\n",
      "2                      std     5.747061    9.853511\n",
      "3                 variance    33.028705   97.091686\n",
      "4                      min     0.000000    0.000000\n",
      "5         25%_1st_quartile    13.000000   12.000000\n",
      "6  median_50%_2nd_quartile    17.000000   19.000000\n",
      "7         75%_3rd_quartile    20.000000   27.000000\n",
      "8                      max    38.000000   49.000000\n"
     ]
    },
    {
     "data": {
      "image/png": "[encoded data removed]",
      "text/plain": [
       "<Figure size 1296x360 with 1 Axes>"
      ]
     },
     "metadata": {
      "needs_background": "light"
     },
     "output_type": "display_data"
    }
   ],
   "source": [
    "gb_used_lm = loc_metrics('gb_used')\n",
    "gb_used_lm"
   ]
  },
  {
   "cell_type": "markdown",
   "metadata": {},
   "source": [
    "Гистограммы распределения для объема тарифицируемого интернет-траффика за месяц имеют нормальный характер, данные не скошены, дисперсия и стандартное отклонение выше для тарифа 'ultra'. Более чем 50% пользователей тарифа 'smart' не хватает выделенного лимита в 15 Гб, а большинство пользователей тарифа \"ultra\" укладываются в предложенный лимит в 30 Гб (третий квартиль - 27 Гб)."
   ]
  },
  {
   "cell_type": "markdown",
   "metadata": {},
   "source": [
    "### Вывод"
   ]
  },
  {
   "cell_type": "markdown",
   "metadata": {},
   "source": [
    "Количество записей для клиентов использующих тариф \"smart\" больше чем в два раза относительно тарифа \"ultra\", можно утверждать, что тариф \"smart\" более популярен ввиду более низкой стоимости абонентской платы. Практически все распределения имеют нормальный характер(длительность звонков, количество звонков, объем тарифицируемого интернет-траффика), за исключением отдельных выбросов. Распределения для количества отправленных сообщений скошены вправо,скошенность наиболее выражена для тарифа \"ultra\", что говорит о весомой доле клиентов активно использующих SMS. Для всех распределний для тарифа \"ultra\" характерны более высокие значения дисперсии и стандартного отклонения (наличие более широкого \"колокола\" распределений) по отношению к тарифу \"smart\", распределения для тарифа \"ultra\" более равномерны, их более широкие правые части распределений говорят о более активном использовании услуг связи клиентами тарифа \"ultra\" - лимиты бесплатного использования услуг при высокой стоимости абонентской платы это позволяют. Можно говорить о том, что большинство клиентов тарифа \"ultra\" не выходят за лимиты количествва бесплатных минут и сообщений, а клиенты тарифа \"smrat\" стараются его придерживаться (значения третих квартилей немногим больше заявленных лимитов по голосовой связи и соообщениям по данному тарифу).С интернетом ситуация обстоит сложнее, так как в настоящее время интернет является основным источником связи и зачастую дублирует посредством различных приложений другие каналы. Для тарифа \"smart\" в более чем половине случаев пользователи выходят за пределы предоставленного лимита бесплатных объемов - трафика не хватает, а для тарифа \"ultra\" почти в 3/4 случаев пользователи подходят к границе бесплатного лимита в 30 Гб."
   ]
  },
  {
   "cell_type": "markdown",
   "metadata": {},
   "source": [
    "## Проверка гипотез"
   ]
  },
  {
   "cell_type": "markdown",
   "metadata": {},
   "source": [
    "Проведем проверку двух гипотез:\n",
    "\n",
    "1. Средняя выручка пользователей тарифов «Ультра» и «Смарт» различаются; \n",
    "2. Средняя выручка пользователей из Москвы отличается от выручки пользователей из других регионов."
   ]
  },
  {
   "cell_type": "markdown",
   "metadata": {},
   "source": [
    "### Проверка гипотезы \"Средняя выручка пользователей тарифов «Ультра» и «Смарт» различаются\""
   ]
  },
  {
   "cell_type": "markdown",
   "metadata": {},
   "source": [
    "Сформулируем нулевую гипотезу H0: \"Среднее значение значение выручки тарифа \"Смарт\" не равно среднему значению выручки тарифа \"Ультра\"\": S_rev_smart  **!=**  S_rev_ultra.\n",
    "\n",
    "Альтернативная гипотеза гипотезу H1: \"Среднее значение значение выручки тарифа \"Смарт\" равно среднему значению выручки тарифа \"Ультра\"\": S_rev_smart  **=**  S_rev_ultra."
   ]
  },
  {
   "cell_type": "markdown",
   "metadata": {},
   "source": [
    "Будем исходить из того, что выборки по разным тарифам не зависят друг от друга; согласно описанию данных в выборке нет пользователей пользующихся или пользовавшихся двумя тарифами (в том числе одновременно). \n",
    "\n",
    "Для подсчета вероятности  равенства среднего двух генеральных совокупностей по взятым из них выборкам будем использовать метод scipy.stats.ttest_ind(). Исследуемые выборки разного размера (2229 записей для тарифа \"Смарт\" и 985 для тарифа \"Ультра\"), поэтому укажем параметр equal_var = False, однако, также проведем расчет без указания данного параметра. Критический уровень статистической значимости определим в 5%. "
   ]
  },
  {
   "cell_type": "code",
   "execution_count": 54,
   "metadata": {},
   "outputs": [
    {
     "name": "stdout",
     "output_type": "stream",
     "text": [
      "p-значение:  1.4229814360764067e-160\n"
     ]
    },
    {
     "data": {
      "text/plain": [
       "'Не получилось отвергнуть нулевую гипотезу'"
      ]
     },
     "metadata": {},
     "output_type": "display_data"
    }
   ],
   "source": [
    "results = st.ttest_ind(\n",
    "    df_smart['user_rev_month'], \n",
    "    df_ultra['user_rev_month'])\n",
    "print('p-значение: ', results.pvalue)\n",
    "\n",
    "alpha = .05\n",
    "\n",
    "if  results.pvalue > alpha:\n",
    "    display(\"Отвергаем нулевую гипотезу\")\n",
    "else:\n",
    "    display(\"Не получилось отвергнуть нулевую гипотезу\") "
   ]
  },
  {
   "cell_type": "code",
   "execution_count": 55,
   "metadata": {
    "scrolled": false
   },
   "outputs": [
    {
     "name": "stdout",
     "output_type": "stream",
     "text": [
      "p-значение:  4.2606313931076085e-250\n"
     ]
    },
    {
     "data": {
      "text/plain": [
       "'Не получилось отвергнуть нулевую гипотезу'"
      ]
     },
     "metadata": {},
     "output_type": "display_data"
    }
   ],
   "source": [
    "results = st.ttest_ind(\n",
    "    df_smart['user_rev_month'], \n",
    "    df_ultra['user_rev_month'],\n",
    "    equal_var=False)\n",
    "print('p-значение: ', results.pvalue)\n",
    "\n",
    "alpha = .05\n",
    "\n",
    "if results.pvalue > alpha:\n",
    "    display(\"Отвергаем нулевую гипотезу\")\n",
    "else:\n",
    "    display(\"Не получилось отвергнуть нулевую гипотезу\") "
   ]
  },
  {
   "cell_type": "code",
   "execution_count": 56,
   "metadata": {
    "scrolled": false
   },
   "outputs": [
    {
     "name": "stdout",
     "output_type": "stream",
     "text": [
      "            user_rev_month          smart          ultra\n",
      "0                    count    2229.000000     985.000000\n",
      "1                     mean    1289.973531    2070.152284\n",
      "2                      std     818.404367     376.187114\n",
      "3                 variance  669785.708006  141516.745079\n",
      "4                      min     550.000000    1950.000000\n",
      "5         25%_1st_quartile     550.000000    1950.000000\n",
      "6  median_50%_2nd_quartile    1023.000000    1950.000000\n",
      "7         75%_3rd_quartile    1750.000000    1950.000000\n",
      "8                      max    6770.000000    4800.000000\n"
     ]
    },
    {
     "data": {
      "image/png": "[encoded data removed]",
      "text/plain": [
       "<Figure size 1296x360 with 1 Axes>"
      ]
     },
     "metadata": {
      "needs_background": "light"
     },
     "output_type": "display_data"
    }
   ],
   "source": [
    "user_rev_month_lm = loc_metrics('user_rev_month')\n",
    "user_rev_month_lm"
   ]
  },
  {
   "cell_type": "markdown",
   "metadata": {},
   "source": [
    "Отвергнуть нулевую гипотезу о неравенстве средних выручек для разных тарифов не удалось. Вероятность наступления такого события черезвычайно велика, вследствии того, что вероятность равенства средних выручек черезвычайно мала. Это наглядно демонстрирует гистограмма распределения значений выручек и полученные описательные статистики (в частности средннее значение выручки для двух тарифов). Такое заключение также логически следует из описания тарифных опций. Базовое значение выручки (по сути - абонентская плата в месяц) тарифа \"Смарт\" практически в 4 раза меньше, чем для тарифа \"Ультра\" (550 рублей против 1950 рублей). Пользователи тарифа \"Смарт\" чаще потребляют услуги сверх лимита, и тарифная стоимость таких услуг значительно выше, чем для тарифа \"Ультра\". Однако, чтобы выручка по тарифу \"Смарт\" приблизилась хотя бы к величине абонентской платы по тарифу \"Ультра\", клиент должен потребить значительный объем услуг сверх лимита и заплатить гораздо большую по сравнению с абонентской платой сумму, что невыгодно самому клиенту, выбравшему тариф \"Смарт\". Выбор данного тарифа в таких условиях неоправдан, в такой ситуации (большой объем потребляемых услуг) пользователь скорее всего будет вынужден сменить тариф."
   ]
  },
  {
   "cell_type": "markdown",
   "metadata": {},
   "source": [
    "### Проверка гипотезы \"Средняя выручка пользователей из Москвы отличается от выручки пользователей из других регионов\""
   ]
  },
  {
   "cell_type": "markdown",
   "metadata": {},
   "source": [
    "Сформулируем нулевую гипотезу H0: \"Среднее значение выручки в Москве не равно среднему значению выручки в других городах\":\n",
    "\n",
    "S_rev_moscow **!=** S_rev_not_moscow.\n",
    "\n",
    "\n",
    "\n",
    "\n",
    "Альтернативная гипотеза гипотезу H1: \"Среднее значение выручки в Москве равно среднему значению выручки в других городах\": \n",
    "\n",
    "S_rev_moscow **=** S_rev_not_moscow."
   ]
  },
  {
   "cell_type": "markdown",
   "metadata": {},
   "source": [
    "Воспользуемся аналогичным подходом как и при проверке гипотезы с тарифами. Для подсчета вероятности  равенства среднего двух генеральных совокупностей по взятым из них выборкам будем использовать метод scipy.stats.ttest_ind(). Исследуемые выборки разного размера, дисперсия заранее неизвестна, поэтому укажем параметр equal_var = False. Критический уровень статистической значимости определим в 5%. "
   ]
  },
  {
   "cell_type": "markdown",
   "metadata": {},
   "source": [
    "Для проверки предложенной гипотезы сформируем две выборки на основе города проживания пользователя. "
   ]
  },
  {
   "cell_type": "code",
   "execution_count": 57,
   "metadata": {},
   "outputs": [],
   "source": [
    "df_moscow = df.query('city == \"Москва\"')\n",
    "df_not_moscow = df.query('city != \"Москва\"')"
   ]
  },
  {
   "cell_type": "code",
   "execution_count": 58,
   "metadata": {},
   "outputs": [
    {
     "data": {
      "text/plain": [
       "611"
      ]
     },
     "metadata": {},
     "output_type": "display_data"
    },
    {
     "data": {
      "text/plain": [
       "2603"
      ]
     },
     "metadata": {},
     "output_type": "display_data"
    }
   ],
   "source": [
    "display(len(df_moscow)) # размеры выборок\n",
    "display(len(df_not_moscow))"
   ]
  },
  {
   "cell_type": "code",
   "execution_count": 59,
   "metadata": {},
   "outputs": [
    {
     "name": "stdout",
     "output_type": "stream",
     "text": [
      "p-значение:  0.5257376663729298\n"
     ]
    },
    {
     "data": {
      "text/plain": [
       "'Отвергаем нулевую гипотезу'"
      ]
     },
     "metadata": {},
     "output_type": "display_data"
    }
   ],
   "source": [
    "results = st.ttest_ind(\n",
    "    df_moscow['user_rev_month'], \n",
    "    df_not_moscow['user_rev_month'],\n",
    "    equal_var=False)\n",
    "print('p-значение: ', results.pvalue)\n",
    "\n",
    "alpha = .05\n",
    "\n",
    "if results.pvalue > alpha:\n",
    "    display(\"Отвергаем нулевую гипотезу\")\n",
    "else:\n",
    "    display(\"Не получилось отвергнуть нулевую гипотезу\") "
   ]
  },
  {
   "cell_type": "markdown",
   "metadata": {},
   "source": [
    "Для проверки предложенной гипотезы сформируем две выборки на основе города проживания пользователя. "
   ]
  },
  {
   "cell_type": "raw",
   "metadata": {},
   "source": [
    "Нулевая гипотеза о неравенстве средних выручек для Москвы и других городов должна быть отвергнута. Вероятность наступления события равенства выручек достаточна велика и гораздо больше уровня стсистической значимости. Не смотря на более высокий уровнь деловой активности жителей столицы и более высокой плотности населения, и, как следствие, более широкий круг общения, поведение клиентов аналогично и в столице, и в других регионах, и соответсвенно выручка различается не кардинально."
   ]
  },
  {
   "cell_type": "code",
   "execution_count": 60,
   "metadata": {},
   "outputs": [
    {
     "data": {
      "text/plain": [
       "'For Moscow:'"
      ]
     },
     "metadata": {},
     "output_type": "display_data"
    },
    {
     "data": {
      "text/plain": [
       "count     611.000000\n",
       "mean     1546.713584\n",
       "std       752.088071\n",
       "min       550.000000\n",
       "25%       780.500000\n",
       "50%      1750.000000\n",
       "75%      1950.000000\n",
       "max      5321.000000\n",
       "Name: user_rev_month, dtype: float64"
      ]
     },
     "metadata": {},
     "output_type": "display_data"
    },
    {
     "data": {
      "text/plain": [
       "'variance_MSK'"
      ]
     },
     "metadata": {},
     "output_type": "display_data"
    },
    {
     "data": {
      "text/plain": [
       "565636.467011886"
      ]
     },
     "metadata": {},
     "output_type": "display_data"
    },
    {
     "data": {
      "text/plain": [
       "'For Not_Moscow:'"
      ]
     },
     "metadata": {},
     "output_type": "display_data"
    },
    {
     "data": {
      "text/plain": [
       "count    2603.000000\n",
       "mean     1524.936227\n",
       "std       808.787752\n",
       "min       550.000000\n",
       "25%       750.000000\n",
       "50%      1583.000000\n",
       "75%      1950.000000\n",
       "max      6770.000000\n",
       "Name: user_rev_month, dtype: float64"
      ]
     },
     "metadata": {},
     "output_type": "display_data"
    },
    {
     "data": {
      "text/plain": [
       "'variance_not_MSK'"
      ]
     },
     "metadata": {},
     "output_type": "display_data"
    },
    {
     "data": {
      "text/plain": [
       "654137.6285218114"
      ]
     },
     "metadata": {},
     "output_type": "display_data"
    },
    {
     "data": {
      "image/png": "[encoded data removed]",
      "text/plain": [
       "<Figure size 1296x360 with 1 Axes>"
      ]
     },
     "metadata": {
      "needs_background": "light"
     },
     "output_type": "display_data"
    }
   ],
   "source": [
    "#нахождение описательных статистик и гистограмм разброса для значения выручи в Москве и других городах\n",
    "display('For Moscow:')\n",
    "display(df_moscow['user_rev_month'].describe()) \n",
    "display('variance_MSK', np.var(df_moscow['user_rev_month'], ddof=1))\n",
    "display()\n",
    "display('For Not_Moscow:')\n",
    "display(df_not_moscow['user_rev_month'].describe())\n",
    "display('variance_not_MSK', np.var(df_not_moscow['user_rev_month'], ddof=1))\n",
    "plt.figure(figsize=(18, 5))\n",
    "sns.distplot(df_moscow['user_rev_month'], kde=False, label='user_rev_month_moscow')\n",
    "sns.distplot(df_not_moscow['user_rev_month'], kde=False, label='user_rev_month_not_moscow')\n",
    "plt.grid()\n",
    "plt.title(label='user_rev_month histogram')\n",
    "plt.ylabel(\"frequency\")\n",
    "plt.legend(loc='upper right')\n",
    "plt.show()"
   ]
  },
  {
   "cell_type": "markdown",
   "metadata": {},
   "source": [
    "### Вывод"
   ]
  },
  {
   "cell_type": "markdown",
   "metadata": {},
   "source": [
    "Для полученных данных были проведены проверки двух гипотез с учетом уровня статистической значимости:\"Средняя выручка пользователей тарифов «Ультра» и «Смарт» различаются\"; \"Средняя выручка пользователей из Москвы не отличается от выручки пользователей из других регионов\". Для проверки гипотез были сформулированы нулевая и альтернативные гипотезы. В качестве метода проверки был использован метод scipy.stats.ttest_ind() с учетом параметра equal_var=False (так как при анализе выборки достаточно сильно различаются размерами). В обоих случаях нулевая гипотеза неопровергнута. Для гипотезы:\"Средняя выручка пользователей тарифов «Ультра» и «Смарт» различаются\" вероятность проявления события близка к единице (что объяснимо исходя из параметров тарифов),  а гипотеза \"Средняя выручка пользователей из Москвы отличается от выручки пользователей из других регионов достаточно велика\" не подтвердилась (вероятность получения сравнимых уровней выручки достаточна  велика с учетом значения сттистической значимости), что может быть связано с отличием в идентичности поведения клиентов из столицы и других регионов."
   ]
  },
  {
   "cell_type": "markdown",
   "metadata": {},
   "source": [
    "## Общий вывод"
   ]
  },
  {
   "cell_type": "markdown",
   "metadata": {},
   "source": [
    "База исследования  - 5 файлов формата .csv содержащих следующую инфомацию: таблица users (информация о пользователях), таблица calls (информация о звонках), таблица messages (информация о сообщениях), таблица internet (информация об интернет-сессиях), таблица tariffs (информация о тарифах).\n",
    "\n",
    "Целью исследования является анализ поведения клиентов телекоммуникационной компании на основании выбранного ими тарифного плана. Необходимо также проверить утверждение о различии уровня средней выручки в зависимости от выбранного тарифа и места проживания клиента (Москва/другие города). Результаты исследования могут быть исспользованы для корректировки бюджета рекламных компаний.\n",
    "\n",
    "В ходе исследования было проведено:\n",
    "1. Ознакомление с данными и их изучение: явных ошибок и дубликатов в данных не обнаружено. Пропуски присутсвуют только в таблице 'users' в столбце 'churn_date' и не явлются ошибкой. Нулевые интернет-сессии и нулевая длительность звонков также не являются ошибочными данными. В таблице 'internet' обнаружен незаявленный в описании столбец 'Unnamed: 0', значения которого полностью соответствует индексам строк таблицы, столбец удален.\n",
    "2. Подготовка данных - определние дополнительных параметров для анализа данных: данные по таблицам users (информация о пользователях), таблица calls (информация о звонках), таблица messages (информация о сообщениях) были объеденены в одну таблицу на основании уникального номера клиента и месячных суммарных показателей длительности звонков, их колличества, колличества сообщений и объема интернет траффика; кроме того был сформирован показатель помесячной выручки клиента на основании выбранного тарифа. Объем услуг определялся с учетом порядка принятого оператором связи (минуты окрулялись до целого полного числа, мегабайты до гигабайт суммарно за месяц). Выручка определяласть как сумма абонентской платы и платы за услуги сверх установленного лимита.\n",
    "3. Анализ поведения клиентов на основе выбранного тарифного плана, включающий анализ суммарной длительности разговора, анализ количества звонков, анализ количества отправленных сообщений, анализ объема интернет-траффика. В ходе анализа были определены статистические характеристики распределений значений для полученных выборок по различным тарифам, а также построены диаграммы распределений.  Практически все распределения имеют нормальный характер(длительность звонков, количество звонков, объем тарифицируемого интернет-траффика), за исключением отдельных выбросов. Распределения для количества отправленных сообщений скошены вправо,скошенность наиболее выражена для тарифа \"ultra\",. Для все всех распределний для тарифа \"ultra\" характерны более высокие значения дисперсии и стандартного отклонения  по отношению к тарифу \"smart\", распределения для тарифа \"ultra\" более равномерны, их более широкие правые части распределений говорят о более активном использовании услуг связи клиентами тарифа \"ultra\". Большинство клиентов тарифа \"ultra\" не выходят за лимиты количествва бесплатных минут и сообщений, а клиенты тарифа \"smart\" стараются его придерживаться. Для интернет-траффика клиенты с тарифом \"smart\" в более чем половине случаев выходят за пределы предоставленного лимита бесплатных объемов - трафика не хватает, а для тарифа \"ultra\" почти в 3/4 случаев пользователи подходят к границе бесплатного лимита в 30 Гб. Интернет используетсся активнее.\n",
    "4. Для полученных данных были проведены проверки двух гипотез:\"Средняя выручка пользователей тарифов «Ультра» и «Смарт» различаются\"; \"Средняя выручка пользователей из Москвы отличается от выручки пользователей из других регионов. В первом случае нулевая гипотеза неопровергнута. Средняя выручка для тарифов \"Смарт\" и \"Ультра\" практически всегда различаются. Вероятность же получения значимо неразличимых уровней средней выручки для клиентов из Москвы и клиентов из других регионов достаточно велика с учетом коэффициента статистической значимости. Нулевая гипотеза во втором случае должна быть отвергнута.\n",
    "\n",
    "Исходя из проведенного исследования можно утверждать, что для увеличения выручки оператора связи необходимо сосредоточчится на рекламных компаниях тарифа \"Ультра\" - его выручка больше, проведение же рекламных компаний не должно быть привязано к конкретному региону (в том числе к Москве)."
   ]
  },
  {
   "cell_type": "code",
   "execution_count": null,
   "metadata": {},
   "outputs": [],
   "source": []
  }
 ],
 "metadata": {
  "ExecuteTimeLog": [
   {
    "duration": 4,
    "start_time": "2022-01-15T09:36:36.287Z"
   },
   {
    "duration": 1128,
    "start_time": "2022-01-15T09:52:25.451Z"
   },
   {
    "duration": 286,
    "start_time": "2022-01-15T09:55:51.719Z"
   },
   {
    "duration": 101,
    "start_time": "2022-01-15T09:56:16.863Z"
   },
   {
    "duration": 486,
    "start_time": "2022-01-15T09:57:08.483Z"
   },
   {
    "duration": 194,
    "start_time": "2022-01-15T09:59:57.375Z"
   },
   {
    "duration": 2599,
    "start_time": "2022-01-15T10:03:11.883Z"
   },
   {
    "duration": 2750,
    "start_time": "2022-01-15T10:06:22.315Z"
   },
   {
    "duration": 511,
    "start_time": "2022-01-15T10:06:53.835Z"
   },
   {
    "duration": 29,
    "start_time": "2022-01-15T10:07:22.795Z"
   },
   {
    "duration": 23,
    "start_time": "2022-01-15T10:08:39.465Z"
   },
   {
    "duration": 22,
    "start_time": "2022-01-15T10:09:55.664Z"
   },
   {
    "duration": 9,
    "start_time": "2022-01-15T10:11:01.384Z"
   },
   {
    "duration": 15,
    "start_time": "2022-01-15T10:11:37.158Z"
   },
   {
    "duration": 10,
    "start_time": "2022-01-15T10:12:09.508Z"
   },
   {
    "duration": 44,
    "start_time": "2022-01-15T10:15:43.271Z"
   },
   {
    "duration": 472,
    "start_time": "2022-01-15T10:25:56.321Z"
   },
   {
    "duration": 25,
    "start_time": "2022-01-15T10:26:09.194Z"
   },
   {
    "duration": 362,
    "start_time": "2022-01-15T10:35:00.417Z"
   },
   {
    "duration": 35,
    "start_time": "2022-01-15T10:35:17.187Z"
   },
   {
    "duration": 36,
    "start_time": "2022-01-15T10:36:07.796Z"
   },
   {
    "duration": 11,
    "start_time": "2022-01-15T10:40:03.712Z"
   },
   {
    "duration": 7,
    "start_time": "2022-01-15T10:41:04.545Z"
   },
   {
    "duration": 302,
    "start_time": "2022-01-15T10:41:22.746Z"
   },
   {
    "duration": 156,
    "start_time": "2022-01-15T10:44:54.674Z"
   },
   {
    "duration": 4,
    "start_time": "2022-01-15T11:07:33.684Z"
   },
   {
    "duration": 30,
    "start_time": "2022-01-15T11:07:51.843Z"
   },
   {
    "duration": 4,
    "start_time": "2022-01-15T11:08:23.739Z"
   },
   {
    "duration": 63,
    "start_time": "2022-01-15T11:08:24.402Z"
   },
   {
    "duration": 5,
    "start_time": "2022-01-15T11:09:32.763Z"
   },
   {
    "duration": 737,
    "start_time": "2022-01-15T11:09:33.683Z"
   },
   {
    "duration": 5,
    "start_time": "2022-01-15T11:10:10.412Z"
   },
   {
    "duration": 701,
    "start_time": "2022-01-15T11:10:11.173Z"
   },
   {
    "duration": 6,
    "start_time": "2022-01-15T11:10:47.084Z"
   },
   {
    "duration": 647,
    "start_time": "2022-01-15T11:10:47.704Z"
   },
   {
    "duration": 95,
    "start_time": "2022-01-15T11:11:51.602Z"
   },
   {
    "duration": 4,
    "start_time": "2022-01-15T11:12:05.122Z"
   },
   {
    "duration": 4,
    "start_time": "2022-01-15T11:12:17.103Z"
   },
   {
    "duration": 136,
    "start_time": "2022-01-15T11:12:18.804Z"
   },
   {
    "duration": 4,
    "start_time": "2022-01-15T11:12:49.765Z"
   },
   {
    "duration": 124,
    "start_time": "2022-01-15T11:12:50.362Z"
   },
   {
    "duration": 5,
    "start_time": "2022-01-15T11:13:29.693Z"
   },
   {
    "duration": 122,
    "start_time": "2022-01-15T11:13:31.443Z"
   },
   {
    "duration": 5,
    "start_time": "2022-01-15T11:14:44.565Z"
   },
   {
    "duration": 713,
    "start_time": "2022-01-15T11:14:45.788Z"
   },
   {
    "duration": 82,
    "start_time": "2022-01-15T11:15:34.204Z"
   },
   {
    "duration": 5,
    "start_time": "2022-01-15T11:15:37.202Z"
   },
   {
    "duration": 693,
    "start_time": "2022-01-15T11:15:37.492Z"
   },
   {
    "duration": 5,
    "start_time": "2022-01-15T11:16:32.238Z"
   },
   {
    "duration": 933,
    "start_time": "2022-01-15T11:16:33.027Z"
   },
   {
    "duration": 5,
    "start_time": "2022-01-15T11:16:49.007Z"
   },
   {
    "duration": 223,
    "start_time": "2022-01-15T11:16:49.368Z"
   },
   {
    "duration": 5,
    "start_time": "2022-01-15T11:17:48.805Z"
   },
   {
    "duration": 264,
    "start_time": "2022-01-15T11:17:49.423Z"
   },
   {
    "duration": 5,
    "start_time": "2022-01-15T11:18:06.572Z"
   },
   {
    "duration": 225,
    "start_time": "2022-01-15T11:18:07.262Z"
   },
   {
    "duration": 5,
    "start_time": "2022-01-15T11:18:24.133Z"
   },
   {
    "duration": 689,
    "start_time": "2022-01-15T11:18:25.082Z"
   },
   {
    "duration": 26,
    "start_time": "2022-01-15T11:20:45.352Z"
   },
   {
    "duration": 5,
    "start_time": "2022-01-15T11:24:40.039Z"
   },
   {
    "duration": 6,
    "start_time": "2022-01-15T11:25:03.534Z"
   },
   {
    "duration": 249,
    "start_time": "2022-01-15T11:25:03.988Z"
   },
   {
    "duration": 6,
    "start_time": "2022-01-15T11:32:26.943Z"
   },
   {
    "duration": 263,
    "start_time": "2022-01-15T11:32:27.764Z"
   },
   {
    "duration": 5,
    "start_time": "2022-01-15T11:32:55.838Z"
   },
   {
    "duration": 258,
    "start_time": "2022-01-15T11:32:57.676Z"
   },
   {
    "duration": 6,
    "start_time": "2022-01-15T11:33:34.528Z"
   },
   {
    "duration": 271,
    "start_time": "2022-01-15T11:33:35.197Z"
   },
   {
    "duration": 6,
    "start_time": "2022-01-15T11:34:29.357Z"
   },
   {
    "duration": 264,
    "start_time": "2022-01-15T11:34:29.915Z"
   },
   {
    "duration": 6,
    "start_time": "2022-01-15T11:36:21.572Z"
   },
   {
    "duration": 254,
    "start_time": "2022-01-15T11:36:23.371Z"
   },
   {
    "duration": 5,
    "start_time": "2022-01-15T11:36:45.052Z"
   },
   {
    "duration": 249,
    "start_time": "2022-01-15T11:36:45.885Z"
   },
   {
    "duration": 252,
    "start_time": "2022-01-15T11:55:10.536Z"
   },
   {
    "duration": 199,
    "start_time": "2022-01-15T12:08:30.087Z"
   },
   {
    "duration": 14,
    "start_time": "2022-01-15T12:16:00.452Z"
   },
   {
    "duration": 15,
    "start_time": "2022-01-15T12:16:13.154Z"
   },
   {
    "duration": 394,
    "start_time": "2022-01-15T18:33:38.595Z"
   },
   {
    "duration": 278,
    "start_time": "2022-01-15T18:34:46.295Z"
   },
   {
    "duration": 1243,
    "start_time": "2022-01-15T18:34:53.517Z"
   },
   {
    "duration": 457,
    "start_time": "2022-01-15T18:34:54.762Z"
   },
   {
    "duration": 6,
    "start_time": "2022-01-15T18:34:55.222Z"
   },
   {
    "duration": 295,
    "start_time": "2022-01-15T18:34:55.231Z"
   },
   {
    "duration": 208,
    "start_time": "2022-01-15T18:34:55.528Z"
   },
   {
    "duration": 339,
    "start_time": "2022-01-15T18:34:55.739Z"
   },
   {
    "duration": 1944,
    "start_time": "2022-01-15T18:34:54.137Z"
   },
   {
    "duration": 1941,
    "start_time": "2022-01-15T18:34:54.142Z"
   },
   {
    "duration": 1934,
    "start_time": "2022-01-15T18:34:54.150Z"
   },
   {
    "duration": 1907,
    "start_time": "2022-01-15T18:34:54.179Z"
   },
   {
    "duration": 1899,
    "start_time": "2022-01-15T18:34:54.188Z"
   },
   {
    "duration": 1895,
    "start_time": "2022-01-15T18:34:54.194Z"
   },
   {
    "duration": 1889,
    "start_time": "2022-01-15T18:34:54.201Z"
   },
   {
    "duration": 1856,
    "start_time": "2022-01-15T18:34:54.235Z"
   },
   {
    "duration": 1832,
    "start_time": "2022-01-15T18:34:54.261Z"
   },
   {
    "duration": 1812,
    "start_time": "2022-01-15T18:34:54.282Z"
   },
   {
    "duration": 271,
    "start_time": "2022-01-15T18:36:11.105Z"
   },
   {
    "duration": 279,
    "start_time": "2022-01-15T18:37:06.744Z"
   },
   {
    "duration": 275,
    "start_time": "2022-01-15T18:37:14.147Z"
   },
   {
    "duration": 1933,
    "start_time": "2022-01-15T18:40:42.082Z"
   },
   {
    "duration": 13,
    "start_time": "2022-01-15T18:41:03.271Z"
   },
   {
    "duration": 274,
    "start_time": "2022-01-15T18:41:14.543Z"
   },
   {
    "duration": 293,
    "start_time": "2022-01-15T18:41:22.223Z"
   },
   {
    "duration": 279,
    "start_time": "2022-01-15T18:41:46.794Z"
   },
   {
    "duration": 281,
    "start_time": "2022-01-15T18:46:06.895Z"
   },
   {
    "duration": 278,
    "start_time": "2022-01-15T18:46:13.685Z"
   },
   {
    "duration": 5,
    "start_time": "2022-01-15T18:46:33.534Z"
   },
   {
    "duration": 5,
    "start_time": "2022-01-15T18:47:00.947Z"
   },
   {
    "duration": 6,
    "start_time": "2022-01-15T18:47:08.208Z"
   },
   {
    "duration": 88,
    "start_time": "2022-01-15T18:47:20.384Z"
   },
   {
    "duration": 6,
    "start_time": "2022-01-15T18:47:26.774Z"
   },
   {
    "duration": 9,
    "start_time": "2022-01-15T18:47:49.622Z"
   },
   {
    "duration": 48,
    "start_time": "2022-01-15T18:48:59.034Z"
   },
   {
    "duration": 8,
    "start_time": "2022-01-15T18:49:19.704Z"
   },
   {
    "duration": 25,
    "start_time": "2022-01-15T18:50:13.455Z"
   },
   {
    "duration": 27,
    "start_time": "2022-01-15T18:50:52.304Z"
   },
   {
    "duration": 95,
    "start_time": "2022-01-15T18:51:09.752Z"
   },
   {
    "duration": 42,
    "start_time": "2022-01-15T18:51:17.824Z"
   },
   {
    "duration": 27,
    "start_time": "2022-01-15T18:52:34.864Z"
   },
   {
    "duration": 119,
    "start_time": "2022-01-15T18:53:27.040Z"
   },
   {
    "duration": 99,
    "start_time": "2022-01-15T18:55:26.303Z"
   },
   {
    "duration": 122,
    "start_time": "2022-01-15T18:57:23.319Z"
   },
   {
    "duration": 7,
    "start_time": "2022-01-15T18:57:32.166Z"
   },
   {
    "duration": 8,
    "start_time": "2022-01-15T18:58:16.225Z"
   },
   {
    "duration": 293,
    "start_time": "2022-01-15T19:03:59.985Z"
   },
   {
    "duration": 463,
    "start_time": "2022-01-15T19:04:42.001Z"
   },
   {
    "duration": 9,
    "start_time": "2022-01-15T19:05:33.673Z"
   },
   {
    "duration": 308,
    "start_time": "2022-01-15T19:05:50.144Z"
   },
   {
    "duration": 349,
    "start_time": "2022-01-15T19:07:25.677Z"
   },
   {
    "duration": 339,
    "start_time": "2022-01-15T19:07:38.143Z"
   },
   {
    "duration": 380,
    "start_time": "2022-01-15T19:08:11.665Z"
   },
   {
    "duration": 292,
    "start_time": "2022-01-15T19:08:51.124Z"
   },
   {
    "duration": 13,
    "start_time": "2022-01-15T19:09:07.534Z"
   },
   {
    "duration": 330,
    "start_time": "2022-01-15T19:09:26.303Z"
   },
   {
    "duration": 285,
    "start_time": "2022-01-15T19:09:32.713Z"
   },
   {
    "duration": 350,
    "start_time": "2022-01-15T19:10:11.665Z"
   },
   {
    "duration": 280,
    "start_time": "2022-01-15T19:10:23.505Z"
   },
   {
    "duration": 289,
    "start_time": "2022-01-15T19:10:31.992Z"
   },
   {
    "duration": 1948,
    "start_time": "2022-01-15T19:12:03.398Z"
   },
   {
    "duration": 1911,
    "start_time": "2022-01-15T19:12:03.437Z"
   },
   {
    "duration": 4,
    "start_time": "2022-01-15T19:12:09.705Z"
   },
   {
    "duration": 570,
    "start_time": "2022-01-15T19:12:09.715Z"
   },
   {
    "duration": 5,
    "start_time": "2022-01-15T19:12:10.288Z"
   },
   {
    "duration": 275,
    "start_time": "2022-01-15T19:12:10.296Z"
   },
   {
    "duration": 212,
    "start_time": "2022-01-15T19:12:10.573Z"
   },
   {
    "duration": 6,
    "start_time": "2022-01-15T19:12:10.788Z"
   },
   {
    "duration": 345,
    "start_time": "2022-01-15T19:12:10.797Z"
   },
   {
    "duration": 1919,
    "start_time": "2022-01-15T19:12:09.227Z"
   },
   {
    "duration": 1911,
    "start_time": "2022-01-15T19:12:09.237Z"
   },
   {
    "duration": 1903,
    "start_time": "2022-01-15T19:12:09.248Z"
   },
   {
    "duration": 1885,
    "start_time": "2022-01-15T19:12:09.268Z"
   },
   {
    "duration": 1878,
    "start_time": "2022-01-15T19:12:09.277Z"
   },
   {
    "duration": 1848,
    "start_time": "2022-01-15T19:12:09.310Z"
   },
   {
    "duration": 1839,
    "start_time": "2022-01-15T19:12:09.321Z"
   },
   {
    "duration": 1819,
    "start_time": "2022-01-15T19:12:09.343Z"
   },
   {
    "duration": 1798,
    "start_time": "2022-01-15T19:12:09.366Z"
   },
   {
    "duration": 435,
    "start_time": "2022-01-15T19:12:29.024Z"
   },
   {
    "duration": 12,
    "start_time": "2022-01-15T19:12:40.944Z"
   },
   {
    "duration": 13,
    "start_time": "2022-01-15T19:13:07.193Z"
   },
   {
    "duration": 304,
    "start_time": "2022-01-15T19:13:10.328Z"
   },
   {
    "duration": 288,
    "start_time": "2022-01-15T19:13:19.992Z"
   },
   {
    "duration": 328,
    "start_time": "2022-01-15T19:13:31.121Z"
   },
   {
    "duration": 295,
    "start_time": "2022-01-15T19:14:23.664Z"
   },
   {
    "duration": 384,
    "start_time": "2022-01-15T19:14:31.041Z"
   },
   {
    "duration": 297,
    "start_time": "2022-01-15T19:14:40.868Z"
   },
   {
    "duration": 4,
    "start_time": "2022-01-15T19:14:50.713Z"
   },
   {
    "duration": 497,
    "start_time": "2022-01-15T19:14:50.721Z"
   },
   {
    "duration": 6,
    "start_time": "2022-01-15T19:14:51.221Z"
   },
   {
    "duration": 299,
    "start_time": "2022-01-15T19:14:51.230Z"
   },
   {
    "duration": 234,
    "start_time": "2022-01-15T19:14:51.532Z"
   },
   {
    "duration": 8,
    "start_time": "2022-01-15T19:14:51.769Z"
   },
   {
    "duration": 53,
    "start_time": "2022-01-15T19:14:51.780Z"
   },
   {
    "duration": 13,
    "start_time": "2022-01-15T19:14:51.837Z"
   },
   {
    "duration": 27,
    "start_time": "2022-01-15T19:14:51.853Z"
   },
   {
    "duration": 63,
    "start_time": "2022-01-15T19:14:51.883Z"
   },
   {
    "duration": 23,
    "start_time": "2022-01-15T19:14:51.948Z"
   },
   {
    "duration": 70,
    "start_time": "2022-01-15T19:14:51.974Z"
   },
   {
    "duration": 22,
    "start_time": "2022-01-15T19:14:52.048Z"
   },
   {
    "duration": 8,
    "start_time": "2022-01-15T19:14:52.073Z"
   },
   {
    "duration": 47,
    "start_time": "2022-01-15T19:14:52.083Z"
   },
   {
    "duration": 23,
    "start_time": "2022-01-15T19:14:52.132Z"
   },
   {
    "duration": 10,
    "start_time": "2022-01-15T19:15:45.624Z"
   },
   {
    "duration": 11,
    "start_time": "2022-01-15T19:15:58.535Z"
   },
   {
    "duration": 12,
    "start_time": "2022-01-15T19:16:24.192Z"
   },
   {
    "duration": 6,
    "start_time": "2022-01-15T19:16:28.353Z"
   },
   {
    "duration": 583,
    "start_time": "2022-01-15T19:16:28.363Z"
   },
   {
    "duration": 8,
    "start_time": "2022-01-15T19:16:28.951Z"
   },
   {
    "duration": 293,
    "start_time": "2022-01-15T19:16:28.963Z"
   },
   {
    "duration": 245,
    "start_time": "2022-01-15T19:16:29.259Z"
   },
   {
    "duration": 21,
    "start_time": "2022-01-15T19:16:29.506Z"
   },
   {
    "duration": 20,
    "start_time": "2022-01-15T19:16:29.530Z"
   },
   {
    "duration": 13,
    "start_time": "2022-01-15T19:16:29.555Z"
   },
   {
    "duration": 12,
    "start_time": "2022-01-15T19:16:29.571Z"
   },
   {
    "duration": 66,
    "start_time": "2022-01-15T19:16:29.586Z"
   },
   {
    "duration": 37,
    "start_time": "2022-01-15T19:16:29.655Z"
   },
   {
    "duration": 49,
    "start_time": "2022-01-15T19:16:29.694Z"
   },
   {
    "duration": 33,
    "start_time": "2022-01-15T19:16:29.746Z"
   },
   {
    "duration": 50,
    "start_time": "2022-01-15T19:16:29.782Z"
   },
   {
    "duration": 11,
    "start_time": "2022-01-15T19:16:29.835Z"
   },
   {
    "duration": 20,
    "start_time": "2022-01-15T19:16:29.849Z"
   },
   {
    "duration": 11,
    "start_time": "2022-01-15T19:16:29.872Z"
   },
   {
    "duration": 7141,
    "start_time": "2022-01-15T19:25:19.375Z"
   },
   {
    "duration": 4,
    "start_time": "2022-01-15T19:25:32.383Z"
   },
   {
    "duration": 478,
    "start_time": "2022-01-15T19:25:32.389Z"
   },
   {
    "duration": 6,
    "start_time": "2022-01-15T19:25:32.870Z"
   },
   {
    "duration": 244,
    "start_time": "2022-01-15T19:25:32.879Z"
   },
   {
    "duration": 250,
    "start_time": "2022-01-15T19:25:33.126Z"
   },
   {
    "duration": 6,
    "start_time": "2022-01-15T19:25:33.379Z"
   },
   {
    "duration": 35,
    "start_time": "2022-01-15T19:25:33.388Z"
   },
   {
    "duration": 37,
    "start_time": "2022-01-15T19:25:33.426Z"
   },
   {
    "duration": 21,
    "start_time": "2022-01-15T19:25:33.466Z"
   },
   {
    "duration": 53,
    "start_time": "2022-01-15T19:25:33.490Z"
   },
   {
    "duration": 19,
    "start_time": "2022-01-15T19:25:33.546Z"
   },
   {
    "duration": 8,
    "start_time": "2022-01-15T19:25:33.567Z"
   },
   {
    "duration": 12,
    "start_time": "2022-01-15T19:25:33.578Z"
   },
   {
    "duration": 8,
    "start_time": "2022-01-15T19:25:33.624Z"
   },
   {
    "duration": 139,
    "start_time": "2022-01-15T19:26:30.961Z"
   },
   {
    "duration": 55,
    "start_time": "2022-01-15T19:43:34.953Z"
   },
   {
    "duration": 44,
    "start_time": "2022-01-15T19:48:32.864Z"
   },
   {
    "duration": 315,
    "start_time": "2022-01-15T20:30:53.155Z"
   },
   {
    "duration": 331,
    "start_time": "2022-01-15T20:31:15.652Z"
   },
   {
    "duration": 1278,
    "start_time": "2022-01-15T20:31:21.965Z"
   },
   {
    "duration": 485,
    "start_time": "2022-01-15T20:31:23.245Z"
   },
   {
    "duration": 6,
    "start_time": "2022-01-15T20:31:23.733Z"
   },
   {
    "duration": 291,
    "start_time": "2022-01-15T20:31:23.741Z"
   },
   {
    "duration": 221,
    "start_time": "2022-01-15T20:31:24.034Z"
   },
   {
    "duration": 9,
    "start_time": "2022-01-15T20:31:24.258Z"
   },
   {
    "duration": 10,
    "start_time": "2022-01-15T20:31:24.270Z"
   },
   {
    "duration": 169,
    "start_time": "2022-01-15T20:31:24.284Z"
   },
   {
    "duration": 77,
    "start_time": "2022-01-15T20:31:24.456Z"
   },
   {
    "duration": 41,
    "start_time": "2022-01-15T20:31:24.536Z"
   },
   {
    "duration": 342,
    "start_time": "2022-01-15T20:31:56.629Z"
   },
   {
    "duration": 1374,
    "start_time": "2022-01-15T20:32:01.804Z"
   },
   {
    "duration": 518,
    "start_time": "2022-01-15T20:32:03.180Z"
   },
   {
    "duration": 6,
    "start_time": "2022-01-15T20:32:03.701Z"
   },
   {
    "duration": 295,
    "start_time": "2022-01-15T20:32:03.710Z"
   },
   {
    "duration": 249,
    "start_time": "2022-01-15T20:32:04.009Z"
   },
   {
    "duration": 13,
    "start_time": "2022-01-15T20:32:04.261Z"
   },
   {
    "duration": 13,
    "start_time": "2022-01-15T20:32:04.276Z"
   },
   {
    "duration": 173,
    "start_time": "2022-01-15T20:32:04.293Z"
   },
   {
    "duration": 82,
    "start_time": "2022-01-15T20:32:04.469Z"
   },
   {
    "duration": 71,
    "start_time": "2022-01-15T20:32:04.553Z"
   },
   {
    "duration": 1395,
    "start_time": "2022-01-15T20:33:42.879Z"
   },
   {
    "duration": 466,
    "start_time": "2022-01-15T20:33:44.277Z"
   },
   {
    "duration": 5,
    "start_time": "2022-01-15T20:33:44.746Z"
   },
   {
    "duration": 278,
    "start_time": "2022-01-15T20:33:44.754Z"
   },
   {
    "duration": 224,
    "start_time": "2022-01-15T20:33:45.035Z"
   },
   {
    "duration": 9,
    "start_time": "2022-01-15T20:33:45.262Z"
   },
   {
    "duration": 13,
    "start_time": "2022-01-15T20:33:45.274Z"
   },
   {
    "duration": 162,
    "start_time": "2022-01-15T20:33:45.290Z"
   },
   {
    "duration": 69,
    "start_time": "2022-01-15T20:33:45.455Z"
   },
   {
    "duration": 40,
    "start_time": "2022-01-15T20:33:45.527Z"
   },
   {
    "duration": 1283,
    "start_time": "2022-01-15T20:34:08.794Z"
   },
   {
    "duration": 483,
    "start_time": "2022-01-15T20:34:10.080Z"
   },
   {
    "duration": 6,
    "start_time": "2022-01-15T20:34:10.566Z"
   },
   {
    "duration": 303,
    "start_time": "2022-01-15T20:34:10.574Z"
   },
   {
    "duration": 223,
    "start_time": "2022-01-15T20:34:10.879Z"
   },
   {
    "duration": 25,
    "start_time": "2022-01-15T20:34:11.105Z"
   },
   {
    "duration": 10,
    "start_time": "2022-01-15T20:34:11.133Z"
   },
   {
    "duration": 151,
    "start_time": "2022-01-15T20:34:11.147Z"
   },
   {
    "duration": 68,
    "start_time": "2022-01-15T20:34:11.300Z"
   },
   {
    "duration": 73,
    "start_time": "2022-01-15T20:34:11.371Z"
   },
   {
    "duration": 4,
    "start_time": "2022-01-15T20:34:11.447Z"
   },
   {
    "duration": 9,
    "start_time": "2022-01-15T20:34:11.454Z"
   },
   {
    "duration": 315,
    "start_time": "2022-01-15T20:40:47.404Z"
   },
   {
    "duration": 1365,
    "start_time": "2022-01-15T20:40:54.904Z"
   },
   {
    "duration": 472,
    "start_time": "2022-01-15T20:40:56.272Z"
   },
   {
    "duration": 6,
    "start_time": "2022-01-15T20:40:56.747Z"
   },
   {
    "duration": 286,
    "start_time": "2022-01-15T20:40:56.756Z"
   },
   {
    "duration": 214,
    "start_time": "2022-01-15T20:40:57.044Z"
   },
   {
    "duration": 9,
    "start_time": "2022-01-15T20:40:57.261Z"
   },
   {
    "duration": 10,
    "start_time": "2022-01-15T20:40:57.272Z"
   },
   {
    "duration": 157,
    "start_time": "2022-01-15T20:40:57.286Z"
   },
   {
    "duration": 52,
    "start_time": "2022-01-15T20:40:57.446Z"
   },
   {
    "duration": 44,
    "start_time": "2022-01-15T20:40:57.524Z"
   },
   {
    "duration": 353,
    "start_time": "2022-01-15T20:40:57.571Z"
   },
   {
    "duration": 2035,
    "start_time": "2022-01-15T20:40:55.892Z"
   },
   {
    "duration": 335,
    "start_time": "2022-01-15T21:02:49.961Z"
   },
   {
    "duration": 291,
    "start_time": "2022-01-15T21:06:04.602Z"
   },
   {
    "duration": 71,
    "start_time": "2022-01-15T21:06:18.941Z"
   },
   {
    "duration": 18,
    "start_time": "2022-01-15T21:06:20.342Z"
   },
   {
    "duration": 70,
    "start_time": "2022-01-15T21:07:52.380Z"
   },
   {
    "duration": 56,
    "start_time": "2022-01-15T21:08:50.454Z"
   },
   {
    "duration": 60,
    "start_time": "2022-01-15T21:08:55.027Z"
   },
   {
    "duration": 29,
    "start_time": "2022-01-15T21:10:24.927Z"
   },
   {
    "duration": 291,
    "start_time": "2022-01-15T21:19:51.081Z"
   },
   {
    "duration": 53,
    "start_time": "2022-01-15T21:19:59.719Z"
   },
   {
    "duration": 59,
    "start_time": "2022-01-15T21:25:35.102Z"
   },
   {
    "duration": 31,
    "start_time": "2022-01-15T21:26:25.735Z"
   },
   {
    "duration": 43,
    "start_time": "2022-01-15T21:29:53.339Z"
   },
   {
    "duration": 1084,
    "start_time": "2022-01-16T18:41:44.973Z"
   },
   {
    "duration": 374,
    "start_time": "2022-01-16T18:41:46.059Z"
   },
   {
    "duration": 3,
    "start_time": "2022-01-16T18:41:46.435Z"
   },
   {
    "duration": 199,
    "start_time": "2022-01-16T18:41:46.440Z"
   },
   {
    "duration": 209,
    "start_time": "2022-01-16T18:41:46.641Z"
   },
   {
    "duration": 8,
    "start_time": "2022-01-16T18:41:46.851Z"
   },
   {
    "duration": 8,
    "start_time": "2022-01-16T18:41:46.861Z"
   },
   {
    "duration": 147,
    "start_time": "2022-01-16T18:41:46.872Z"
   },
   {
    "duration": 47,
    "start_time": "2022-01-16T18:41:47.021Z"
   },
   {
    "duration": 28,
    "start_time": "2022-01-16T18:41:47.070Z"
   },
   {
    "duration": 29,
    "start_time": "2022-01-16T18:41:47.099Z"
   },
   {
    "duration": 66,
    "start_time": "2022-01-16T18:41:47.130Z"
   },
   {
    "duration": 12,
    "start_time": "2022-01-16T18:41:47.198Z"
   },
   {
    "duration": 47,
    "start_time": "2022-01-16T18:41:47.212Z"
   },
   {
    "duration": 31,
    "start_time": "2022-01-16T18:42:26.576Z"
   },
   {
    "duration": 33,
    "start_time": "2022-01-16T18:43:00.675Z"
   },
   {
    "duration": 30,
    "start_time": "2022-01-16T18:43:25.927Z"
   },
   {
    "duration": 52,
    "start_time": "2022-01-16T18:49:04.784Z"
   },
   {
    "duration": 51,
    "start_time": "2022-01-16T18:56:03.500Z"
   },
   {
    "duration": 459,
    "start_time": "2022-01-16T18:56:19.888Z"
   },
   {
    "duration": 28,
    "start_time": "2022-01-16T18:56:30.413Z"
   },
   {
    "duration": 33,
    "start_time": "2022-01-16T18:56:33.646Z"
   },
   {
    "duration": 308,
    "start_time": "2022-01-16T19:03:25.994Z"
   },
   {
    "duration": 51,
    "start_time": "2022-01-16T19:03:41.174Z"
   },
   {
    "duration": 18,
    "start_time": "2022-01-16T19:03:42.518Z"
   },
   {
    "duration": 25,
    "start_time": "2022-01-16T19:03:43.159Z"
   },
   {
    "duration": 10,
    "start_time": "2022-01-16T19:03:44.815Z"
   },
   {
    "duration": 9,
    "start_time": "2022-01-16T19:04:33.026Z"
   },
   {
    "duration": 12,
    "start_time": "2022-01-16T19:04:38.243Z"
   },
   {
    "duration": 394,
    "start_time": "2022-01-16T19:07:54.831Z"
   },
   {
    "duration": 398,
    "start_time": "2022-01-16T19:08:07.022Z"
   },
   {
    "duration": 945,
    "start_time": "2022-01-16T19:08:16.368Z"
   },
   {
    "duration": 416,
    "start_time": "2022-01-16T19:08:17.315Z"
   },
   {
    "duration": 3,
    "start_time": "2022-01-16T19:08:17.733Z"
   },
   {
    "duration": 206,
    "start_time": "2022-01-16T19:08:17.738Z"
   },
   {
    "duration": 144,
    "start_time": "2022-01-16T19:08:17.945Z"
   },
   {
    "duration": 6,
    "start_time": "2022-01-16T19:08:18.091Z"
   },
   {
    "duration": 6,
    "start_time": "2022-01-16T19:08:18.099Z"
   },
   {
    "duration": 96,
    "start_time": "2022-01-16T19:08:18.107Z"
   },
   {
    "duration": 46,
    "start_time": "2022-01-16T19:08:18.205Z"
   },
   {
    "duration": 24,
    "start_time": "2022-01-16T19:08:18.252Z"
   },
   {
    "duration": 2,
    "start_time": "2022-01-16T19:08:18.277Z"
   },
   {
    "duration": 62,
    "start_time": "2022-01-16T19:08:18.280Z"
   },
   {
    "duration": 11,
    "start_time": "2022-01-16T19:08:18.344Z"
   },
   {
    "duration": 47,
    "start_time": "2022-01-16T19:08:18.356Z"
   },
   {
    "duration": 48,
    "start_time": "2022-01-16T19:08:18.405Z"
   },
   {
    "duration": 25,
    "start_time": "2022-01-16T19:08:18.455Z"
   },
   {
    "duration": 11,
    "start_time": "2022-01-16T19:08:18.482Z"
   },
   {
    "duration": 33,
    "start_time": "2022-01-16T19:08:18.495Z"
   },
   {
    "duration": 12,
    "start_time": "2022-01-16T19:08:46.148Z"
   },
   {
    "duration": 13,
    "start_time": "2022-01-16T19:08:48.065Z"
   },
   {
    "duration": 43,
    "start_time": "2022-01-16T19:09:19.355Z"
   },
   {
    "duration": 18,
    "start_time": "2022-01-16T19:09:20.248Z"
   },
   {
    "duration": 25,
    "start_time": "2022-01-16T19:09:21.036Z"
   },
   {
    "duration": 10,
    "start_time": "2022-01-16T19:09:21.738Z"
   },
   {
    "duration": 15,
    "start_time": "2022-01-16T19:09:22.428Z"
   },
   {
    "duration": 11,
    "start_time": "2022-01-16T19:10:15.517Z"
   },
   {
    "duration": 367,
    "start_time": "2022-01-16T19:11:44.814Z"
   },
   {
    "duration": 351,
    "start_time": "2022-01-16T19:11:52.498Z"
   },
   {
    "duration": 50,
    "start_time": "2022-01-16T19:12:06.376Z"
   },
   {
    "duration": 17,
    "start_time": "2022-01-16T19:12:07.781Z"
   },
   {
    "duration": 23,
    "start_time": "2022-01-16T19:12:08.450Z"
   },
   {
    "duration": 11,
    "start_time": "2022-01-16T19:12:09.018Z"
   },
   {
    "duration": 36,
    "start_time": "2022-01-16T19:16:44.425Z"
   },
   {
    "duration": 22,
    "start_time": "2022-01-16T19:16:45.415Z"
   },
   {
    "duration": 10,
    "start_time": "2022-01-16T19:16:46.369Z"
   },
   {
    "duration": 11,
    "start_time": "2022-01-16T19:16:49.905Z"
   },
   {
    "duration": 330,
    "start_time": "2022-01-16T19:17:04.184Z"
   },
   {
    "duration": 9,
    "start_time": "2022-01-16T19:17:33.325Z"
   },
   {
    "duration": 10,
    "start_time": "2022-01-16T19:17:35.210Z"
   },
   {
    "duration": 10,
    "start_time": "2022-01-16T19:17:57.326Z"
   },
   {
    "duration": 11,
    "start_time": "2022-01-16T19:17:58.374Z"
   },
   {
    "duration": 25,
    "start_time": "2022-01-16T19:40:35.275Z"
   },
   {
    "duration": 26,
    "start_time": "2022-01-16T20:02:29.126Z"
   },
   {
    "duration": 17,
    "start_time": "2022-01-16T20:02:29.977Z"
   },
   {
    "duration": 20,
    "start_time": "2022-01-16T20:02:30.655Z"
   },
   {
    "duration": 25,
    "start_time": "2022-01-16T20:04:46.907Z"
   },
   {
    "duration": 17,
    "start_time": "2022-01-16T20:05:04.783Z"
   },
   {
    "duration": 20,
    "start_time": "2022-01-16T20:05:24.290Z"
   },
   {
    "duration": 17,
    "start_time": "2022-01-16T20:13:03.141Z"
   },
   {
    "duration": 25,
    "start_time": "2022-01-16T20:13:37.196Z"
   },
   {
    "duration": 17,
    "start_time": "2022-01-16T20:13:37.784Z"
   },
   {
    "duration": 20,
    "start_time": "2022-01-16T20:13:38.342Z"
   },
   {
    "duration": 43,
    "start_time": "2022-01-16T20:13:39.502Z"
   },
   {
    "duration": 22,
    "start_time": "2022-01-16T20:13:40.123Z"
   },
   {
    "duration": 20,
    "start_time": "2022-01-16T20:13:40.961Z"
   },
   {
    "duration": 10,
    "start_time": "2022-01-16T20:13:41.984Z"
   },
   {
    "duration": 10,
    "start_time": "2022-01-16T20:13:42.664Z"
   },
   {
    "duration": 12,
    "start_time": "2022-01-16T20:13:45.020Z"
   },
   {
    "duration": 14,
    "start_time": "2022-01-16T20:21:27.820Z"
   },
   {
    "duration": 13,
    "start_time": "2022-01-16T20:24:52.623Z"
   },
   {
    "duration": 13,
    "start_time": "2022-01-16T20:24:58.374Z"
   },
   {
    "duration": 16,
    "start_time": "2022-01-16T20:25:15.066Z"
   },
   {
    "duration": 11,
    "start_time": "2022-01-16T20:27:01.579Z"
   },
   {
    "duration": 10,
    "start_time": "2022-01-16T20:27:18.676Z"
   },
   {
    "duration": 9,
    "start_time": "2022-01-16T20:28:05.561Z"
   },
   {
    "duration": 8,
    "start_time": "2022-01-16T20:28:06.132Z"
   },
   {
    "duration": 5,
    "start_time": "2022-01-16T20:28:48.335Z"
   },
   {
    "duration": 5,
    "start_time": "2022-01-16T20:29:51.891Z"
   },
   {
    "duration": 4254,
    "start_time": "2022-01-16T20:31:57.132Z"
   },
   {
    "duration": 4136,
    "start_time": "2022-01-16T20:32:01.653Z"
   },
   {
    "duration": 5,
    "start_time": "2022-01-16T20:32:26.524Z"
   },
   {
    "duration": 9,
    "start_time": "2022-01-16T20:33:05.271Z"
   },
   {
    "duration": 8,
    "start_time": "2022-01-16T20:37:11.013Z"
   },
   {
    "duration": 17,
    "start_time": "2022-01-16T20:37:12.510Z"
   },
   {
    "duration": 330,
    "start_time": "2022-01-16T20:39:27.980Z"
   },
   {
    "duration": 326,
    "start_time": "2022-01-16T20:39:28.438Z"
   },
   {
    "duration": 7,
    "start_time": "2022-01-16T20:39:43.638Z"
   },
   {
    "duration": 9,
    "start_time": "2022-01-16T20:40:05.041Z"
   },
   {
    "duration": 26,
    "start_time": "2022-01-16T20:40:05.852Z"
   },
   {
    "duration": 335,
    "start_time": "2022-01-16T20:40:46.877Z"
   },
   {
    "duration": 2,
    "start_time": "2022-01-16T20:41:02.007Z"
   },
   {
    "duration": 418,
    "start_time": "2022-01-16T20:41:02.011Z"
   },
   {
    "duration": 4,
    "start_time": "2022-01-16T20:41:02.431Z"
   },
   {
    "duration": 200,
    "start_time": "2022-01-16T20:41:02.437Z"
   },
   {
    "duration": 140,
    "start_time": "2022-01-16T20:41:02.640Z"
   },
   {
    "duration": 5,
    "start_time": "2022-01-16T20:41:02.782Z"
   },
   {
    "duration": 11,
    "start_time": "2022-01-16T20:41:02.790Z"
   },
   {
    "duration": 107,
    "start_time": "2022-01-16T20:41:02.803Z"
   },
   {
    "duration": 47,
    "start_time": "2022-01-16T20:41:02.913Z"
   },
   {
    "duration": 25,
    "start_time": "2022-01-16T20:41:02.962Z"
   },
   {
    "duration": 73,
    "start_time": "2022-01-16T20:41:02.989Z"
   },
   {
    "duration": 30,
    "start_time": "2022-01-16T20:41:03.063Z"
   },
   {
    "duration": 55,
    "start_time": "2022-01-16T20:41:03.095Z"
   },
   {
    "duration": 54,
    "start_time": "2022-01-16T20:41:03.152Z"
   },
   {
    "duration": 40,
    "start_time": "2022-01-16T20:41:03.208Z"
   },
   {
    "duration": 19,
    "start_time": "2022-01-16T20:41:03.250Z"
   },
   {
    "duration": 9,
    "start_time": "2022-01-16T20:41:03.271Z"
   },
   {
    "duration": 10,
    "start_time": "2022-01-16T20:41:03.281Z"
   },
   {
    "duration": 6,
    "start_time": "2022-01-16T20:41:03.293Z"
   },
   {
    "duration": 42,
    "start_time": "2022-01-16T20:41:03.301Z"
   },
   {
    "duration": 17,
    "start_time": "2022-01-16T20:41:03.344Z"
   },
   {
    "duration": 12,
    "start_time": "2022-01-16T20:41:03.362Z"
   },
   {
    "duration": 12,
    "start_time": "2022-01-16T20:41:03.375Z"
   },
   {
    "duration": 5,
    "start_time": "2022-01-16T20:41:03.389Z"
   },
   {
    "duration": 324,
    "start_time": "2022-01-16T20:42:29.572Z"
   },
   {
    "duration": 3,
    "start_time": "2022-01-16T20:42:37.357Z"
   },
   {
    "duration": 383,
    "start_time": "2022-01-16T20:42:37.372Z"
   },
   {
    "duration": 4,
    "start_time": "2022-01-16T20:42:37.756Z"
   },
   {
    "duration": 167,
    "start_time": "2022-01-16T20:42:37.762Z"
   },
   {
    "duration": 123,
    "start_time": "2022-01-16T20:42:37.930Z"
   },
   {
    "duration": 5,
    "start_time": "2022-01-16T20:42:38.055Z"
   },
   {
    "duration": 8,
    "start_time": "2022-01-16T20:42:38.061Z"
   },
   {
    "duration": 98,
    "start_time": "2022-01-16T20:42:38.070Z"
   },
   {
    "duration": 30,
    "start_time": "2022-01-16T20:42:38.170Z"
   },
   {
    "duration": 40,
    "start_time": "2022-01-16T20:42:38.201Z"
   },
   {
    "duration": 42,
    "start_time": "2022-01-16T20:42:38.242Z"
   },
   {
    "duration": 47,
    "start_time": "2022-01-16T20:42:38.286Z"
   },
   {
    "duration": 32,
    "start_time": "2022-01-16T20:42:38.335Z"
   },
   {
    "duration": 35,
    "start_time": "2022-01-16T20:42:38.369Z"
   },
   {
    "duration": 36,
    "start_time": "2022-01-16T20:42:38.406Z"
   },
   {
    "duration": 16,
    "start_time": "2022-01-16T20:42:38.443Z"
   },
   {
    "duration": 8,
    "start_time": "2022-01-16T20:42:38.460Z"
   },
   {
    "duration": 10,
    "start_time": "2022-01-16T20:42:38.470Z"
   },
   {
    "duration": 6,
    "start_time": "2022-01-16T20:42:38.481Z"
   },
   {
    "duration": 40,
    "start_time": "2022-01-16T20:42:38.488Z"
   },
   {
    "duration": 20,
    "start_time": "2022-01-16T20:42:38.529Z"
   },
   {
    "duration": 9,
    "start_time": "2022-01-16T20:42:38.551Z"
   },
   {
    "duration": 11,
    "start_time": "2022-01-16T20:42:38.562Z"
   },
   {
    "duration": 6,
    "start_time": "2022-01-16T20:42:38.575Z"
   },
   {
    "duration": 7,
    "start_time": "2022-01-16T20:43:43.677Z"
   },
   {
    "duration": 24,
    "start_time": "2022-01-16T20:43:44.437Z"
   },
   {
    "duration": 2,
    "start_time": "2022-01-16T20:43:59.513Z"
   },
   {
    "duration": 379,
    "start_time": "2022-01-16T20:43:59.517Z"
   },
   {
    "duration": 3,
    "start_time": "2022-01-16T20:43:59.898Z"
   },
   {
    "duration": 178,
    "start_time": "2022-01-16T20:43:59.903Z"
   },
   {
    "duration": 129,
    "start_time": "2022-01-16T20:44:00.083Z"
   },
   {
    "duration": 15,
    "start_time": "2022-01-16T20:44:00.213Z"
   },
   {
    "duration": 7,
    "start_time": "2022-01-16T20:44:00.230Z"
   },
   {
    "duration": 101,
    "start_time": "2022-01-16T20:44:00.239Z"
   },
   {
    "duration": 34,
    "start_time": "2022-01-16T20:44:00.341Z"
   },
   {
    "duration": 50,
    "start_time": "2022-01-16T20:44:00.377Z"
   },
   {
    "duration": 44,
    "start_time": "2022-01-16T20:44:00.429Z"
   },
   {
    "duration": 29,
    "start_time": "2022-01-16T20:44:00.474Z"
   },
   {
    "duration": 46,
    "start_time": "2022-01-16T20:44:00.504Z"
   },
   {
    "duration": 45,
    "start_time": "2022-01-16T20:44:00.551Z"
   },
   {
    "duration": 35,
    "start_time": "2022-01-16T20:44:00.597Z"
   },
   {
    "duration": 20,
    "start_time": "2022-01-16T20:44:00.633Z"
   },
   {
    "duration": 8,
    "start_time": "2022-01-16T20:44:00.655Z"
   },
   {
    "duration": 11,
    "start_time": "2022-01-16T20:44:00.664Z"
   },
   {
    "duration": 6,
    "start_time": "2022-01-16T20:44:00.678Z"
   },
   {
    "duration": 22,
    "start_time": "2022-01-16T20:44:00.686Z"
   },
   {
    "duration": 15,
    "start_time": "2022-01-16T20:44:00.727Z"
   },
   {
    "duration": 13,
    "start_time": "2022-01-16T20:44:00.743Z"
   },
   {
    "duration": 19,
    "start_time": "2022-01-16T20:44:00.757Z"
   },
   {
    "duration": 8,
    "start_time": "2022-01-16T20:44:00.777Z"
   },
   {
    "duration": 379,
    "start_time": "2022-01-16T20:45:58.219Z"
   },
   {
    "duration": 8279,
    "start_time": "2022-01-16T20:46:37.403Z"
   },
   {
    "duration": -30,
    "start_time": "2022-01-16T20:46:45.714Z"
   },
   {
    "duration": 7,
    "start_time": "2022-01-16T20:47:40.585Z"
   },
   {
    "duration": 26,
    "start_time": "2022-01-16T20:47:42.995Z"
   },
   {
    "duration": 3,
    "start_time": "2022-01-16T20:48:02.706Z"
   },
   {
    "duration": 385,
    "start_time": "2022-01-16T20:48:02.712Z"
   },
   {
    "duration": 4,
    "start_time": "2022-01-16T20:48:03.099Z"
   },
   {
    "duration": 184,
    "start_time": "2022-01-16T20:48:03.105Z"
   },
   {
    "duration": 130,
    "start_time": "2022-01-16T20:48:03.291Z"
   },
   {
    "duration": 5,
    "start_time": "2022-01-16T20:48:03.427Z"
   },
   {
    "duration": 13,
    "start_time": "2022-01-16T20:48:03.434Z"
   },
   {
    "duration": 97,
    "start_time": "2022-01-16T20:48:03.448Z"
   },
   {
    "duration": 31,
    "start_time": "2022-01-16T20:48:03.547Z"
   },
   {
    "duration": 48,
    "start_time": "2022-01-16T20:48:03.579Z"
   },
   {
    "duration": 42,
    "start_time": "2022-01-16T20:48:03.629Z"
   },
   {
    "duration": 27,
    "start_time": "2022-01-16T20:48:03.673Z"
   },
   {
    "duration": 48,
    "start_time": "2022-01-16T20:48:03.701Z"
   },
   {
    "duration": 43,
    "start_time": "2022-01-16T20:48:03.751Z"
   },
   {
    "duration": 33,
    "start_time": "2022-01-16T20:48:03.796Z"
   },
   {
    "duration": 18,
    "start_time": "2022-01-16T20:48:03.831Z"
   },
   {
    "duration": 10,
    "start_time": "2022-01-16T20:48:03.851Z"
   },
   {
    "duration": 15,
    "start_time": "2022-01-16T20:48:03.863Z"
   },
   {
    "duration": 6,
    "start_time": "2022-01-16T20:48:03.879Z"
   },
   {
    "duration": 15,
    "start_time": "2022-01-16T20:48:03.887Z"
   },
   {
    "duration": 36,
    "start_time": "2022-01-16T20:48:03.904Z"
   },
   {
    "duration": 8,
    "start_time": "2022-01-16T20:48:03.941Z"
   },
   {
    "duration": 7,
    "start_time": "2022-01-16T20:48:03.951Z"
   },
   {
    "duration": 3,
    "start_time": "2022-01-16T20:48:03.960Z"
   },
   {
    "duration": 3,
    "start_time": "2022-01-16T20:50:07.422Z"
   },
   {
    "duration": 393,
    "start_time": "2022-01-16T20:50:07.426Z"
   },
   {
    "duration": 3,
    "start_time": "2022-01-16T20:50:07.821Z"
   },
   {
    "duration": 176,
    "start_time": "2022-01-16T20:50:07.826Z"
   },
   {
    "duration": 131,
    "start_time": "2022-01-16T20:50:08.004Z"
   },
   {
    "duration": 5,
    "start_time": "2022-01-16T20:50:08.137Z"
   },
   {
    "duration": 9,
    "start_time": "2022-01-16T20:50:08.143Z"
   },
   {
    "duration": 101,
    "start_time": "2022-01-16T20:50:08.154Z"
   },
   {
    "duration": 31,
    "start_time": "2022-01-16T20:50:08.257Z"
   },
   {
    "duration": 48,
    "start_time": "2022-01-16T20:50:08.289Z"
   },
   {
    "duration": 43,
    "start_time": "2022-01-16T20:50:08.339Z"
   },
   {
    "duration": 28,
    "start_time": "2022-01-16T20:50:08.383Z"
   },
   {
    "duration": 44,
    "start_time": "2022-01-16T20:50:08.413Z"
   },
   {
    "duration": 44,
    "start_time": "2022-01-16T20:50:08.459Z"
   },
   {
    "duration": 37,
    "start_time": "2022-01-16T20:50:08.505Z"
   },
   {
    "duration": 17,
    "start_time": "2022-01-16T20:50:08.544Z"
   },
   {
    "duration": 8,
    "start_time": "2022-01-16T20:50:08.563Z"
   },
   {
    "duration": 8,
    "start_time": "2022-01-16T20:50:08.573Z"
   },
   {
    "duration": 6,
    "start_time": "2022-01-16T20:50:08.583Z"
   },
   {
    "duration": 38,
    "start_time": "2022-01-16T20:50:08.590Z"
   },
   {
    "duration": 14,
    "start_time": "2022-01-16T20:50:08.630Z"
   },
   {
    "duration": 10,
    "start_time": "2022-01-16T20:50:08.646Z"
   },
   {
    "duration": 10,
    "start_time": "2022-01-16T20:50:08.658Z"
   },
   {
    "duration": 6,
    "start_time": "2022-01-16T20:50:08.669Z"
   },
   {
    "duration": 359,
    "start_time": "2022-01-17T12:34:29.844Z"
   },
   {
    "duration": 295,
    "start_time": "2022-01-17T12:34:43.435Z"
   },
   {
    "duration": 1406,
    "start_time": "2022-01-17T12:34:49.124Z"
   },
   {
    "duration": 491,
    "start_time": "2022-01-17T12:34:50.533Z"
   },
   {
    "duration": 6,
    "start_time": "2022-01-17T12:34:51.026Z"
   },
   {
    "duration": 353,
    "start_time": "2022-01-17T12:34:51.035Z"
   },
   {
    "duration": 368,
    "start_time": "2022-01-17T12:34:51.391Z"
   },
   {
    "duration": 20,
    "start_time": "2022-01-17T12:34:51.762Z"
   },
   {
    "duration": 32,
    "start_time": "2022-01-17T12:34:51.785Z"
   },
   {
    "duration": 209,
    "start_time": "2022-01-17T12:34:51.822Z"
   },
   {
    "duration": 64,
    "start_time": "2022-01-17T12:34:52.034Z"
   },
   {
    "duration": 52,
    "start_time": "2022-01-17T12:34:52.131Z"
   },
   {
    "duration": 107,
    "start_time": "2022-01-17T12:34:52.186Z"
   },
   {
    "duration": 74,
    "start_time": "2022-01-17T12:34:52.296Z"
   },
   {
    "duration": 65,
    "start_time": "2022-01-17T12:34:52.373Z"
   },
   {
    "duration": 141,
    "start_time": "2022-01-17T12:34:52.441Z"
   },
   {
    "duration": 45,
    "start_time": "2022-01-17T12:34:52.585Z"
   },
   {
    "duration": 27,
    "start_time": "2022-01-17T12:34:52.633Z"
   },
   {
    "duration": 16,
    "start_time": "2022-01-17T12:34:52.663Z"
   },
   {
    "duration": 48,
    "start_time": "2022-01-17T12:34:52.682Z"
   },
   {
    "duration": 11,
    "start_time": "2022-01-17T12:34:52.733Z"
   },
   {
    "duration": 36,
    "start_time": "2022-01-17T12:34:52.746Z"
   },
   {
    "duration": 8215,
    "start_time": "2022-01-17T12:34:52.784Z"
   },
   {
    "duration": 221,
    "start_time": "2022-01-17T12:35:00.780Z"
   },
   {
    "duration": 214,
    "start_time": "2022-01-17T12:35:00.789Z"
   },
   {
    "duration": 382,
    "start_time": "2022-01-17T12:46:28.232Z"
   },
   {
    "duration": 350,
    "start_time": "2022-01-17T12:46:42.363Z"
   },
   {
    "duration": 299,
    "start_time": "2022-01-17T12:47:48.337Z"
   },
   {
    "duration": 315,
    "start_time": "2022-01-17T12:48:15.626Z"
   },
   {
    "duration": 303,
    "start_time": "2022-01-17T12:49:33.855Z"
   },
   {
    "duration": 6,
    "start_time": "2022-01-17T12:49:46.486Z"
   },
   {
    "duration": 25,
    "start_time": "2022-01-17T12:49:49.736Z"
   },
   {
    "duration": 6,
    "start_time": "2022-01-17T12:50:47.023Z"
   },
   {
    "duration": 73,
    "start_time": "2022-01-17T12:51:10.143Z"
   },
   {
    "duration": 28,
    "start_time": "2022-01-17T12:51:11.092Z"
   },
   {
    "duration": 26,
    "start_time": "2022-01-17T12:51:11.956Z"
   },
   {
    "duration": 15,
    "start_time": "2022-01-17T12:51:14.391Z"
   },
   {
    "duration": 17,
    "start_time": "2022-01-17T12:51:16.682Z"
   },
   {
    "duration": 3,
    "start_time": "2022-01-17T12:51:20.273Z"
   },
   {
    "duration": 18,
    "start_time": "2022-01-17T12:51:21.652Z"
   },
   {
    "duration": 12,
    "start_time": "2022-01-17T12:58:33.009Z"
   },
   {
    "duration": 23,
    "start_time": "2022-01-17T12:58:54.369Z"
   },
   {
    "duration": 14,
    "start_time": "2022-01-17T12:59:12.888Z"
   },
   {
    "duration": 19,
    "start_time": "2022-01-17T12:59:13.499Z"
   },
   {
    "duration": 3,
    "start_time": "2022-01-17T12:59:14.009Z"
   },
   {
    "duration": 20,
    "start_time": "2022-01-17T12:59:14.688Z"
   },
   {
    "duration": 12,
    "start_time": "2022-01-17T13:02:18.329Z"
   },
   {
    "duration": 32,
    "start_time": "2022-01-17T13:02:19.089Z"
   },
   {
    "duration": 300,
    "start_time": "2022-01-17T13:03:12.168Z"
   },
   {
    "duration": 10,
    "start_time": "2022-01-17T13:03:12.851Z"
   },
   {
    "duration": 294,
    "start_time": "2022-01-17T13:03:30.609Z"
   },
   {
    "duration": 5,
    "start_time": "2022-01-17T13:03:49.001Z"
   },
   {
    "duration": 503,
    "start_time": "2022-01-17T13:03:49.009Z"
   },
   {
    "duration": 6,
    "start_time": "2022-01-17T13:03:49.515Z"
   },
   {
    "duration": 273,
    "start_time": "2022-01-17T13:03:49.524Z"
   },
   {
    "duration": 234,
    "start_time": "2022-01-17T13:03:49.800Z"
   },
   {
    "duration": 7,
    "start_time": "2022-01-17T13:03:50.036Z"
   },
   {
    "duration": 12,
    "start_time": "2022-01-17T13:03:50.047Z"
   },
   {
    "duration": 173,
    "start_time": "2022-01-17T13:03:50.063Z"
   },
   {
    "duration": 61,
    "start_time": "2022-01-17T13:03:50.240Z"
   },
   {
    "duration": 46,
    "start_time": "2022-01-17T13:03:50.324Z"
   },
   {
    "duration": 95,
    "start_time": "2022-01-17T13:03:50.372Z"
   },
   {
    "duration": 6,
    "start_time": "2022-01-17T13:03:50.469Z"
   },
   {
    "duration": 58,
    "start_time": "2022-01-17T13:03:50.477Z"
   },
   {
    "duration": 50,
    "start_time": "2022-01-17T13:03:50.537Z"
   },
   {
    "duration": 94,
    "start_time": "2022-01-17T13:03:50.590Z"
   },
   {
    "duration": 47,
    "start_time": "2022-01-17T13:03:50.687Z"
   },
   {
    "duration": 28,
    "start_time": "2022-01-17T13:03:50.736Z"
   },
   {
    "duration": 7,
    "start_time": "2022-01-17T13:03:50.767Z"
   },
   {
    "duration": 49,
    "start_time": "2022-01-17T13:03:50.780Z"
   },
   {
    "duration": 24,
    "start_time": "2022-01-17T13:03:50.832Z"
   },
   {
    "duration": 12,
    "start_time": "2022-01-17T13:03:50.859Z"
   },
   {
    "duration": 59,
    "start_time": "2022-01-17T13:03:50.874Z"
   },
   {
    "duration": 7710,
    "start_time": "2022-01-17T13:03:50.935Z"
   },
   {
    "duration": 268,
    "start_time": "2022-01-17T13:03:58.380Z"
   },
   {
    "duration": 213,
    "start_time": "2022-01-17T13:03:58.437Z"
   },
   {
    "duration": 6,
    "start_time": "2022-01-17T13:13:24.969Z"
   },
   {
    "duration": 14,
    "start_time": "2022-01-17T13:13:26.259Z"
   },
   {
    "duration": 12,
    "start_time": "2022-01-17T13:13:27.011Z"
   },
   {
    "duration": 49,
    "start_time": "2022-01-17T13:13:27.828Z"
   },
   {
    "duration": 4,
    "start_time": "2022-01-17T13:13:46.936Z"
   },
   {
    "duration": 509,
    "start_time": "2022-01-17T13:13:46.943Z"
   },
   {
    "duration": 6,
    "start_time": "2022-01-17T13:13:47.455Z"
   },
   {
    "duration": 261,
    "start_time": "2022-01-17T13:13:47.464Z"
   },
   {
    "duration": 227,
    "start_time": "2022-01-17T13:13:47.727Z"
   },
   {
    "duration": 9,
    "start_time": "2022-01-17T13:13:47.957Z"
   },
   {
    "duration": 16,
    "start_time": "2022-01-17T13:13:47.968Z"
   },
   {
    "duration": 192,
    "start_time": "2022-01-17T13:13:47.987Z"
   },
   {
    "duration": 83,
    "start_time": "2022-01-17T13:13:48.183Z"
   },
   {
    "duration": 82,
    "start_time": "2022-01-17T13:13:48.268Z"
   },
   {
    "duration": 113,
    "start_time": "2022-01-17T13:13:48.353Z"
   },
   {
    "duration": 6,
    "start_time": "2022-01-17T13:13:48.469Z"
   },
   {
    "duration": 63,
    "start_time": "2022-01-17T13:13:48.478Z"
   },
   {
    "duration": 50,
    "start_time": "2022-01-17T13:13:48.543Z"
   },
   {
    "duration": 79,
    "start_time": "2022-01-17T13:13:48.595Z"
   },
   {
    "duration": 47,
    "start_time": "2022-01-17T13:13:48.677Z"
   },
   {
    "duration": 24,
    "start_time": "2022-01-17T13:13:48.726Z"
   },
   {
    "duration": 6,
    "start_time": "2022-01-17T13:13:48.752Z"
   },
   {
    "duration": 17,
    "start_time": "2022-01-17T13:13:48.760Z"
   },
   {
    "duration": 5,
    "start_time": "2022-01-17T13:13:48.780Z"
   },
   {
    "duration": 51,
    "start_time": "2022-01-17T13:13:48.787Z"
   },
   {
    "duration": 10,
    "start_time": "2022-01-17T13:13:48.840Z"
   },
   {
    "duration": 31,
    "start_time": "2022-01-17T13:13:48.854Z"
   },
   {
    "duration": 7519,
    "start_time": "2022-01-17T13:13:48.888Z"
   },
   {
    "duration": 285,
    "start_time": "2022-01-17T13:13:56.125Z"
   },
   {
    "duration": 245,
    "start_time": "2022-01-17T13:13:56.166Z"
   },
   {
    "duration": 14,
    "start_time": "2022-01-17T13:14:24.353Z"
   },
   {
    "duration": 8,
    "start_time": "2022-01-17T13:14:26.287Z"
   },
   {
    "duration": 15,
    "start_time": "2022-01-17T13:14:27.170Z"
   },
   {
    "duration": 52,
    "start_time": "2022-01-17T13:14:27.968Z"
   },
   {
    "duration": 15,
    "start_time": "2022-01-17T13:15:05.330Z"
   },
   {
    "duration": 7,
    "start_time": "2022-01-17T13:15:05.550Z"
   },
   {
    "duration": 17,
    "start_time": "2022-01-17T13:15:06.246Z"
   },
   {
    "duration": 46,
    "start_time": "2022-01-17T13:15:07.011Z"
   },
   {
    "duration": 5,
    "start_time": "2022-01-17T13:15:26.289Z"
   },
   {
    "duration": 466,
    "start_time": "2022-01-17T13:15:26.296Z"
   },
   {
    "duration": 5,
    "start_time": "2022-01-17T13:15:26.765Z"
   },
   {
    "duration": 241,
    "start_time": "2022-01-17T13:15:26.773Z"
   },
   {
    "duration": 211,
    "start_time": "2022-01-17T13:15:27.016Z"
   },
   {
    "duration": 6,
    "start_time": "2022-01-17T13:15:27.230Z"
   },
   {
    "duration": 11,
    "start_time": "2022-01-17T13:15:27.242Z"
   },
   {
    "duration": 175,
    "start_time": "2022-01-17T13:15:27.257Z"
   },
   {
    "duration": 55,
    "start_time": "2022-01-17T13:15:27.435Z"
   },
   {
    "duration": 68,
    "start_time": "2022-01-17T13:15:27.492Z"
   },
   {
    "duration": 91,
    "start_time": "2022-01-17T13:15:27.562Z"
   },
   {
    "duration": 5,
    "start_time": "2022-01-17T13:15:27.655Z"
   },
   {
    "duration": 61,
    "start_time": "2022-01-17T13:15:27.662Z"
   },
   {
    "duration": 50,
    "start_time": "2022-01-17T13:15:27.726Z"
   },
   {
    "duration": 72,
    "start_time": "2022-01-17T13:15:27.779Z"
   },
   {
    "duration": 37,
    "start_time": "2022-01-17T13:15:27.854Z"
   },
   {
    "duration": 45,
    "start_time": "2022-01-17T13:15:27.894Z"
   },
   {
    "duration": 5,
    "start_time": "2022-01-17T13:15:27.941Z"
   },
   {
    "duration": 15,
    "start_time": "2022-01-17T13:15:27.950Z"
   },
   {
    "duration": 5,
    "start_time": "2022-01-17T13:15:27.967Z"
   },
   {
    "duration": 19,
    "start_time": "2022-01-17T13:15:27.975Z"
   },
   {
    "duration": 10,
    "start_time": "2022-01-17T13:15:28.023Z"
   },
   {
    "duration": 30,
    "start_time": "2022-01-17T13:15:28.035Z"
   },
   {
    "duration": 7016,
    "start_time": "2022-01-17T13:15:28.068Z"
   },
   {
    "duration": 301,
    "start_time": "2022-01-17T13:15:34.785Z"
   },
   {
    "duration": 258,
    "start_time": "2022-01-17T13:15:34.829Z"
   },
   {
    "duration": 7,
    "start_time": "2022-01-17T13:23:53.262Z"
   },
   {
    "duration": 14,
    "start_time": "2022-01-17T13:23:54.131Z"
   },
   {
    "duration": 13,
    "start_time": "2022-01-17T13:23:54.922Z"
   },
   {
    "duration": 50,
    "start_time": "2022-01-17T13:23:55.602Z"
   },
   {
    "duration": 4,
    "start_time": "2022-01-17T13:24:01.609Z"
   },
   {
    "duration": 507,
    "start_time": "2022-01-17T13:24:01.616Z"
   },
   {
    "duration": 6,
    "start_time": "2022-01-17T13:24:02.126Z"
   },
   {
    "duration": 269,
    "start_time": "2022-01-17T13:24:02.134Z"
   },
   {
    "duration": 218,
    "start_time": "2022-01-17T13:24:02.406Z"
   },
   {
    "duration": 7,
    "start_time": "2022-01-17T13:24:02.627Z"
   },
   {
    "duration": 14,
    "start_time": "2022-01-17T13:24:02.637Z"
   },
   {
    "duration": 158,
    "start_time": "2022-01-17T13:24:02.654Z"
   },
   {
    "duration": 57,
    "start_time": "2022-01-17T13:24:02.824Z"
   },
   {
    "duration": 69,
    "start_time": "2022-01-17T13:24:02.883Z"
   },
   {
    "duration": 82,
    "start_time": "2022-01-17T13:24:02.954Z"
   },
   {
    "duration": 5,
    "start_time": "2022-01-17T13:24:03.038Z"
   },
   {
    "duration": 43,
    "start_time": "2022-01-17T13:24:03.045Z"
   },
   {
    "duration": 74,
    "start_time": "2022-01-17T13:24:03.091Z"
   },
   {
    "duration": 88,
    "start_time": "2022-01-17T13:24:03.168Z"
   },
   {
    "duration": 31,
    "start_time": "2022-01-17T13:24:03.258Z"
   },
   {
    "duration": 44,
    "start_time": "2022-01-17T13:24:03.292Z"
   },
   {
    "duration": 5,
    "start_time": "2022-01-17T13:24:03.339Z"
   },
   {
    "duration": 23,
    "start_time": "2022-01-17T13:24:03.348Z"
   },
   {
    "duration": 7,
    "start_time": "2022-01-17T13:24:03.375Z"
   },
   {
    "duration": 47,
    "start_time": "2022-01-17T13:24:03.384Z"
   },
   {
    "duration": 13,
    "start_time": "2022-01-17T13:24:03.434Z"
   },
   {
    "duration": 37,
    "start_time": "2022-01-17T13:24:03.450Z"
   },
   {
    "duration": 8001,
    "start_time": "2022-01-17T13:24:03.489Z"
   },
   {
    "duration": 300,
    "start_time": "2022-01-17T13:24:11.193Z"
   },
   {
    "duration": 242,
    "start_time": "2022-01-17T13:24:11.254Z"
   },
   {
    "duration": 307,
    "start_time": "2022-01-17T13:25:27.744Z"
   },
   {
    "duration": 6,
    "start_time": "2022-01-17T13:25:31.861Z"
   },
   {
    "duration": 6,
    "start_time": "2022-01-17T13:26:53.714Z"
   },
   {
    "duration": 12,
    "start_time": "2022-01-17T13:26:54.734Z"
   },
   {
    "duration": 12,
    "start_time": "2022-01-17T13:26:55.454Z"
   },
   {
    "duration": 45,
    "start_time": "2022-01-17T13:26:56.175Z"
   },
   {
    "duration": 4,
    "start_time": "2022-01-17T13:27:11.310Z"
   },
   {
    "duration": 491,
    "start_time": "2022-01-17T13:27:11.321Z"
   },
   {
    "duration": 6,
    "start_time": "2022-01-17T13:27:11.814Z"
   },
   {
    "duration": 254,
    "start_time": "2022-01-17T13:27:11.823Z"
   },
   {
    "duration": 207,
    "start_time": "2022-01-17T13:27:12.081Z"
   },
   {
    "duration": 7,
    "start_time": "2022-01-17T13:27:12.291Z"
   },
   {
    "duration": 28,
    "start_time": "2022-01-17T13:27:12.301Z"
   },
   {
    "duration": 149,
    "start_time": "2022-01-17T13:27:12.332Z"
   },
   {
    "duration": 72,
    "start_time": "2022-01-17T13:27:12.485Z"
   },
   {
    "duration": 65,
    "start_time": "2022-01-17T13:27:12.560Z"
   },
   {
    "duration": 66,
    "start_time": "2022-01-17T13:27:12.628Z"
   },
   {
    "duration": 5,
    "start_time": "2022-01-17T13:27:12.696Z"
   },
   {
    "duration": 61,
    "start_time": "2022-01-17T13:27:12.703Z"
   },
   {
    "duration": 76,
    "start_time": "2022-01-17T13:27:12.767Z"
   },
   {
    "duration": 59,
    "start_time": "2022-01-17T13:27:12.846Z"
   },
   {
    "duration": 47,
    "start_time": "2022-01-17T13:27:12.908Z"
   },
   {
    "duration": 29,
    "start_time": "2022-01-17T13:27:12.958Z"
   },
   {
    "duration": 33,
    "start_time": "2022-01-17T13:27:12.990Z"
   },
   {
    "duration": 21,
    "start_time": "2022-01-17T13:27:13.026Z"
   },
   {
    "duration": 15,
    "start_time": "2022-01-17T13:27:13.050Z"
   },
   {
    "duration": 7,
    "start_time": "2022-01-17T13:27:13.067Z"
   },
   {
    "duration": 24,
    "start_time": "2022-01-17T13:27:13.076Z"
   },
   {
    "duration": 28,
    "start_time": "2022-01-17T13:27:13.102Z"
   },
   {
    "duration": 41,
    "start_time": "2022-01-17T13:27:13.134Z"
   },
   {
    "duration": 7063,
    "start_time": "2022-01-17T13:27:13.178Z"
   },
   {
    "duration": 294,
    "start_time": "2022-01-17T13:27:19.949Z"
   },
   {
    "duration": 271,
    "start_time": "2022-01-17T13:27:19.974Z"
   },
   {
    "duration": 6,
    "start_time": "2022-01-17T13:28:55.340Z"
   },
   {
    "duration": 5,
    "start_time": "2022-01-17T13:29:45.901Z"
   },
   {
    "duration": 4,
    "start_time": "2022-01-17T13:29:55.319Z"
   },
   {
    "duration": 6,
    "start_time": "2022-01-17T13:30:02.731Z"
   },
   {
    "duration": 524,
    "start_time": "2022-01-17T13:30:02.741Z"
   },
   {
    "duration": 7,
    "start_time": "2022-01-17T13:30:03.270Z"
   },
   {
    "duration": 376,
    "start_time": "2022-01-17T13:30:03.280Z"
   },
   {
    "duration": 250,
    "start_time": "2022-01-17T13:30:03.659Z"
   },
   {
    "duration": 10,
    "start_time": "2022-01-17T13:30:03.924Z"
   },
   {
    "duration": 21,
    "start_time": "2022-01-17T13:30:03.937Z"
   },
   {
    "duration": 193,
    "start_time": "2022-01-17T13:30:03.963Z"
   },
   {
    "duration": 83,
    "start_time": "2022-01-17T13:30:04.159Z"
   },
   {
    "duration": 48,
    "start_time": "2022-01-17T13:30:04.245Z"
   },
   {
    "duration": 103,
    "start_time": "2022-01-17T13:30:04.323Z"
   },
   {
    "duration": 7,
    "start_time": "2022-01-17T13:30:04.429Z"
   },
   {
    "duration": 57,
    "start_time": "2022-01-17T13:30:04.439Z"
   },
   {
    "duration": 73,
    "start_time": "2022-01-17T13:30:04.499Z"
   },
   {
    "duration": 84,
    "start_time": "2022-01-17T13:30:04.575Z"
   },
   {
    "duration": 32,
    "start_time": "2022-01-17T13:30:04.661Z"
   },
   {
    "duration": 52,
    "start_time": "2022-01-17T13:30:04.695Z"
   },
   {
    "duration": 5,
    "start_time": "2022-01-17T13:30:04.751Z"
   },
   {
    "duration": 19,
    "start_time": "2022-01-17T13:30:04.758Z"
   },
   {
    "duration": 17,
    "start_time": "2022-01-17T13:30:04.780Z"
   },
   {
    "duration": 31,
    "start_time": "2022-01-17T13:30:04.800Z"
   },
   {
    "duration": 6,
    "start_time": "2022-01-17T13:30:04.834Z"
   },
   {
    "duration": 506,
    "start_time": "2022-01-17T13:30:04.845Z"
   },
   {
    "duration": 210,
    "start_time": "2022-01-17T13:30:05.145Z"
   },
   {
    "duration": 203,
    "start_time": "2022-01-17T13:30:05.154Z"
   },
   {
    "duration": 192,
    "start_time": "2022-01-17T13:30:05.167Z"
   },
   {
    "duration": 181,
    "start_time": "2022-01-17T13:30:05.180Z"
   },
   {
    "duration": 144,
    "start_time": "2022-01-17T13:30:05.218Z"
   },
   {
    "duration": 6,
    "start_time": "2022-01-17T13:30:35.214Z"
   },
   {
    "duration": 360,
    "start_time": "2022-01-17T13:31:02.299Z"
   },
   {
    "duration": 302,
    "start_time": "2022-01-17T13:31:08.029Z"
   },
   {
    "duration": 5,
    "start_time": "2022-01-17T13:31:13.086Z"
   },
   {
    "duration": 527,
    "start_time": "2022-01-17T13:31:13.093Z"
   },
   {
    "duration": 6,
    "start_time": "2022-01-17T13:31:13.624Z"
   },
   {
    "duration": 271,
    "start_time": "2022-01-17T13:31:13.633Z"
   },
   {
    "duration": 232,
    "start_time": "2022-01-17T13:31:13.906Z"
   },
   {
    "duration": 10,
    "start_time": "2022-01-17T13:31:14.141Z"
   },
   {
    "duration": 13,
    "start_time": "2022-01-17T13:31:14.154Z"
   },
   {
    "duration": 182,
    "start_time": "2022-01-17T13:31:14.169Z"
   },
   {
    "duration": 72,
    "start_time": "2022-01-17T13:31:14.355Z"
   },
   {
    "duration": 44,
    "start_time": "2022-01-17T13:31:14.430Z"
   },
   {
    "duration": 103,
    "start_time": "2022-01-17T13:31:14.476Z"
   },
   {
    "duration": 8,
    "start_time": "2022-01-17T13:31:14.582Z"
   },
   {
    "duration": 61,
    "start_time": "2022-01-17T13:31:14.593Z"
   },
   {
    "duration": 75,
    "start_time": "2022-01-17T13:31:14.656Z"
   },
   {
    "duration": 69,
    "start_time": "2022-01-17T13:31:14.734Z"
   },
   {
    "duration": 45,
    "start_time": "2022-01-17T13:31:14.805Z"
   },
   {
    "duration": 31,
    "start_time": "2022-01-17T13:31:14.852Z"
   },
   {
    "duration": 6,
    "start_time": "2022-01-17T13:31:14.886Z"
   },
   {
    "duration": 32,
    "start_time": "2022-01-17T13:31:14.895Z"
   },
   {
    "duration": 33,
    "start_time": "2022-01-17T13:31:14.930Z"
   },
   {
    "duration": 17,
    "start_time": "2022-01-17T13:31:14.966Z"
   },
   {
    "duration": 6,
    "start_time": "2022-01-17T13:31:14.985Z"
   },
   {
    "duration": 20,
    "start_time": "2022-01-17T13:31:15.025Z"
   },
   {
    "duration": 10,
    "start_time": "2022-01-17T13:31:15.048Z"
   },
   {
    "duration": 67,
    "start_time": "2022-01-17T13:31:15.060Z"
   },
   {
    "duration": 3,
    "start_time": "2022-01-17T13:31:15.130Z"
   },
   {
    "duration": 444,
    "start_time": "2022-01-17T13:31:15.138Z"
   },
   {
    "duration": 279,
    "start_time": "2022-01-17T13:31:15.306Z"
   },
   {
    "duration": 4,
    "start_time": "2022-01-17T13:31:43.980Z"
   },
   {
    "duration": 489,
    "start_time": "2022-01-17T13:31:43.986Z"
   },
   {
    "duration": 6,
    "start_time": "2022-01-17T13:31:44.478Z"
   },
   {
    "duration": 300,
    "start_time": "2022-01-17T13:31:44.487Z"
   },
   {
    "duration": 219,
    "start_time": "2022-01-17T13:31:44.790Z"
   },
   {
    "duration": 16,
    "start_time": "2022-01-17T13:31:45.012Z"
   },
   {
    "duration": 31,
    "start_time": "2022-01-17T13:31:45.030Z"
   },
   {
    "duration": 131,
    "start_time": "2022-01-17T13:31:45.065Z"
   },
   {
    "duration": 68,
    "start_time": "2022-01-17T13:31:45.199Z"
   },
   {
    "duration": 66,
    "start_time": "2022-01-17T13:31:45.269Z"
   },
   {
    "duration": 69,
    "start_time": "2022-01-17T13:31:45.337Z"
   },
   {
    "duration": 5,
    "start_time": "2022-01-17T13:31:45.424Z"
   },
   {
    "duration": 81,
    "start_time": "2022-01-17T13:31:45.432Z"
   },
   {
    "duration": 49,
    "start_time": "2022-01-17T13:31:45.515Z"
   },
   {
    "duration": 60,
    "start_time": "2022-01-17T13:31:45.566Z"
   },
   {
    "duration": 29,
    "start_time": "2022-01-17T13:31:45.629Z"
   },
   {
    "duration": 24,
    "start_time": "2022-01-17T13:31:45.661Z"
   },
   {
    "duration": 5,
    "start_time": "2022-01-17T13:31:45.688Z"
   },
   {
    "duration": 34,
    "start_time": "2022-01-17T13:31:45.695Z"
   },
   {
    "duration": 25,
    "start_time": "2022-01-17T13:31:45.731Z"
   },
   {
    "duration": 14,
    "start_time": "2022-01-17T13:31:45.758Z"
   },
   {
    "duration": 6,
    "start_time": "2022-01-17T13:31:45.774Z"
   },
   {
    "duration": 20,
    "start_time": "2022-01-17T13:31:45.823Z"
   },
   {
    "duration": 12,
    "start_time": "2022-01-17T13:31:45.846Z"
   },
   {
    "duration": 68,
    "start_time": "2022-01-17T13:31:45.861Z"
   },
   {
    "duration": 4,
    "start_time": "2022-01-17T13:31:45.931Z"
   },
   {
    "duration": 552,
    "start_time": "2022-01-17T13:31:45.938Z"
   },
   {
    "duration": 352,
    "start_time": "2022-01-17T13:31:46.141Z"
   },
   {
    "duration": 217,
    "start_time": "2022-01-17T18:19:36.747Z"
   },
   {
    "duration": 900,
    "start_time": "2022-01-17T18:19:42.177Z"
   },
   {
    "duration": 361,
    "start_time": "2022-01-17T18:19:43.078Z"
   },
   {
    "duration": 4,
    "start_time": "2022-01-17T18:19:43.441Z"
   },
   {
    "duration": 193,
    "start_time": "2022-01-17T18:19:43.446Z"
   },
   {
    "duration": 134,
    "start_time": "2022-01-17T18:19:43.641Z"
   },
   {
    "duration": 6,
    "start_time": "2022-01-17T18:19:43.776Z"
   },
   {
    "duration": 6,
    "start_time": "2022-01-17T18:19:43.784Z"
   },
   {
    "duration": 99,
    "start_time": "2022-01-17T18:19:43.792Z"
   },
   {
    "duration": 44,
    "start_time": "2022-01-17T18:19:43.893Z"
   },
   {
    "duration": 25,
    "start_time": "2022-01-17T18:19:43.939Z"
   },
   {
    "duration": 69,
    "start_time": "2022-01-17T18:19:43.965Z"
   },
   {
    "duration": 5,
    "start_time": "2022-01-17T18:19:44.035Z"
   },
   {
    "duration": 29,
    "start_time": "2022-01-17T18:19:44.041Z"
   },
   {
    "duration": 49,
    "start_time": "2022-01-17T18:19:44.071Z"
   },
   {
    "duration": 38,
    "start_time": "2022-01-17T18:19:44.122Z"
   },
   {
    "duration": 19,
    "start_time": "2022-01-17T18:19:44.162Z"
   },
   {
    "duration": 31,
    "start_time": "2022-01-17T18:19:44.182Z"
   },
   {
    "duration": 5,
    "start_time": "2022-01-17T18:19:44.214Z"
   },
   {
    "duration": 5,
    "start_time": "2022-01-17T18:19:44.220Z"
   },
   {
    "duration": 4,
    "start_time": "2022-01-17T18:19:44.226Z"
   },
   {
    "duration": 18,
    "start_time": "2022-01-17T18:19:44.231Z"
   },
   {
    "duration": 9,
    "start_time": "2022-01-17T18:19:44.250Z"
   },
   {
    "duration": 3,
    "start_time": "2022-01-17T18:19:44.261Z"
   },
   {
    "duration": 11,
    "start_time": "2022-01-17T18:19:44.265Z"
   },
   {
    "duration": 6,
    "start_time": "2022-01-17T18:19:44.277Z"
   },
   {
    "duration": 19,
    "start_time": "2022-01-17T18:19:44.312Z"
   },
   {
    "duration": 2,
    "start_time": "2022-01-17T18:19:44.333Z"
   },
   {
    "duration": 217,
    "start_time": "2022-01-17T18:19:44.336Z"
   },
   {
    "duration": 425,
    "start_time": "2022-01-17T18:19:44.130Z"
   },
   {
    "duration": 3,
    "start_time": "2022-01-17T18:24:49.781Z"
   },
   {
    "duration": 2492,
    "start_time": "2022-01-17T18:24:49.786Z"
   },
   {
    "duration": 4,
    "start_time": "2022-01-17T18:24:52.280Z"
   },
   {
    "duration": 183,
    "start_time": "2022-01-17T18:24:52.286Z"
   },
   {
    "duration": 121,
    "start_time": "2022-01-17T18:24:52.470Z"
   },
   {
    "duration": 5,
    "start_time": "2022-01-17T18:24:52.593Z"
   },
   {
    "duration": 19,
    "start_time": "2022-01-17T18:24:52.599Z"
   },
   {
    "duration": 103,
    "start_time": "2022-01-17T18:24:52.621Z"
   },
   {
    "duration": 32,
    "start_time": "2022-01-17T18:24:52.727Z"
   },
   {
    "duration": 24,
    "start_time": "2022-01-17T18:24:52.760Z"
   },
   {
    "duration": 63,
    "start_time": "2022-01-17T18:24:52.785Z"
   },
   {
    "duration": 26,
    "start_time": "2022-01-17T18:24:52.850Z"
   },
   {
    "duration": 48,
    "start_time": "2022-01-17T18:24:52.878Z"
   },
   {
    "duration": 4,
    "start_time": "2022-01-17T18:24:52.927Z"
   },
   {
    "duration": 44,
    "start_time": "2022-01-17T18:24:52.932Z"
   },
   {
    "duration": 20,
    "start_time": "2022-01-17T18:24:52.977Z"
   },
   {
    "duration": 28,
    "start_time": "2022-01-17T18:24:52.998Z"
   },
   {
    "duration": 3,
    "start_time": "2022-01-17T18:24:53.028Z"
   },
   {
    "duration": 23,
    "start_time": "2022-01-17T18:24:53.032Z"
   },
   {
    "duration": 11,
    "start_time": "2022-01-17T18:24:53.056Z"
   },
   {
    "duration": 15,
    "start_time": "2022-01-17T18:24:53.069Z"
   },
   {
    "duration": 8,
    "start_time": "2022-01-17T18:24:53.085Z"
   },
   {
    "duration": 17,
    "start_time": "2022-01-17T18:24:53.096Z"
   },
   {
    "duration": 25,
    "start_time": "2022-01-17T18:24:53.115Z"
   },
   {
    "duration": 2,
    "start_time": "2022-01-17T18:24:53.141Z"
   },
   {
    "duration": 185,
    "start_time": "2022-01-17T18:24:53.144Z"
   },
   {
    "duration": 528,
    "start_time": "2022-01-17T18:24:52.803Z"
   },
   {
    "duration": 3,
    "start_time": "2022-01-17T18:26:44.368Z"
   },
   {
    "duration": 381,
    "start_time": "2022-01-17T18:26:44.373Z"
   },
   {
    "duration": 3,
    "start_time": "2022-01-17T18:26:44.756Z"
   },
   {
    "duration": 181,
    "start_time": "2022-01-17T18:26:44.761Z"
   },
   {
    "duration": 160,
    "start_time": "2022-01-17T18:26:44.944Z"
   },
   {
    "duration": 5,
    "start_time": "2022-01-17T18:26:45.112Z"
   },
   {
    "duration": 8,
    "start_time": "2022-01-17T18:26:45.119Z"
   },
   {
    "duration": 102,
    "start_time": "2022-01-17T18:26:45.129Z"
   },
   {
    "duration": 35,
    "start_time": "2022-01-17T18:26:45.232Z"
   },
   {
    "duration": 51,
    "start_time": "2022-01-17T18:26:45.268Z"
   },
   {
    "duration": 43,
    "start_time": "2022-01-17T18:26:45.321Z"
   },
   {
    "duration": 29,
    "start_time": "2022-01-17T18:26:45.365Z"
   },
   {
    "duration": 49,
    "start_time": "2022-01-17T18:26:45.395Z"
   },
   {
    "duration": 3,
    "start_time": "2022-01-17T18:26:45.446Z"
   },
   {
    "duration": 61,
    "start_time": "2022-01-17T18:26:45.451Z"
   },
   {
    "duration": 22,
    "start_time": "2022-01-17T18:26:45.514Z"
   },
   {
    "duration": 18,
    "start_time": "2022-01-17T18:26:45.537Z"
   },
   {
    "duration": 3,
    "start_time": "2022-01-17T18:26:45.556Z"
   },
   {
    "duration": 11,
    "start_time": "2022-01-17T18:26:45.562Z"
   },
   {
    "duration": 38,
    "start_time": "2022-01-17T18:26:45.574Z"
   },
   {
    "duration": 18,
    "start_time": "2022-01-17T18:26:45.613Z"
   },
   {
    "duration": 2,
    "start_time": "2022-01-17T18:26:45.632Z"
   },
   {
    "duration": 8,
    "start_time": "2022-01-17T18:26:45.636Z"
   },
   {
    "duration": 25,
    "start_time": "2022-01-17T18:26:45.645Z"
   },
   {
    "duration": 1,
    "start_time": "2022-01-17T18:26:45.672Z"
   },
   {
    "duration": 216,
    "start_time": "2022-01-17T18:26:45.675Z"
   },
   {
    "duration": 567,
    "start_time": "2022-01-17T18:26:45.326Z"
   },
   {
    "duration": 748,
    "start_time": "2022-01-17T18:32:29.503Z"
   },
   {
    "duration": 20,
    "start_time": "2022-01-17T18:33:01.804Z"
   },
   {
    "duration": 3,
    "start_time": "2022-01-17T18:33:06.620Z"
   },
   {
    "duration": 361,
    "start_time": "2022-01-17T18:33:06.627Z"
   },
   {
    "duration": 3,
    "start_time": "2022-01-17T18:33:06.990Z"
   },
   {
    "duration": 155,
    "start_time": "2022-01-17T18:33:06.995Z"
   },
   {
    "duration": 121,
    "start_time": "2022-01-17T18:33:07.152Z"
   },
   {
    "duration": 4,
    "start_time": "2022-01-17T18:33:07.275Z"
   },
   {
    "duration": 7,
    "start_time": "2022-01-17T18:33:07.281Z"
   },
   {
    "duration": 98,
    "start_time": "2022-01-17T18:33:07.289Z"
   },
   {
    "duration": 43,
    "start_time": "2022-01-17T18:33:07.389Z"
   },
   {
    "duration": 24,
    "start_time": "2022-01-17T18:33:07.433Z"
   },
   {
    "duration": 62,
    "start_time": "2022-01-17T18:33:07.458Z"
   },
   {
    "duration": 26,
    "start_time": "2022-01-17T18:33:07.521Z"
   },
   {
    "duration": 31,
    "start_time": "2022-01-17T18:33:07.549Z"
   },
   {
    "duration": 4,
    "start_time": "2022-01-17T18:33:07.582Z"
   },
   {
    "duration": 63,
    "start_time": "2022-01-17T18:33:07.587Z"
   },
   {
    "duration": 20,
    "start_time": "2022-01-17T18:33:07.651Z"
   },
   {
    "duration": 15,
    "start_time": "2022-01-17T18:33:07.672Z"
   },
   {
    "duration": 189,
    "start_time": "2022-01-17T18:33:07.689Z"
   },
   {
    "duration": 831,
    "start_time": "2022-01-17T18:33:07.049Z"
   },
   {
    "duration": 810,
    "start_time": "2022-01-17T18:33:07.071Z"
   },
   {
    "duration": 802,
    "start_time": "2022-01-17T18:33:07.080Z"
   },
   {
    "duration": 780,
    "start_time": "2022-01-17T18:33:07.102Z"
   },
   {
    "duration": 772,
    "start_time": "2022-01-17T18:33:07.111Z"
   },
   {
    "duration": 753,
    "start_time": "2022-01-17T18:33:07.131Z"
   },
   {
    "duration": 734,
    "start_time": "2022-01-17T18:33:07.151Z"
   },
   {
    "duration": 727,
    "start_time": "2022-01-17T18:33:07.159Z"
   },
   {
    "duration": 690,
    "start_time": "2022-01-17T18:33:07.197Z"
   },
   {
    "duration": 667,
    "start_time": "2022-01-17T18:33:07.221Z"
   },
   {
    "duration": 4,
    "start_time": "2022-01-17T18:33:26.390Z"
   },
   {
    "duration": 9,
    "start_time": "2022-01-17T18:33:28.315Z"
   },
   {
    "duration": 10,
    "start_time": "2022-01-17T18:33:28.818Z"
   },
   {
    "duration": 2,
    "start_time": "2022-01-17T18:33:29.518Z"
   },
   {
    "duration": 18,
    "start_time": "2022-01-17T18:33:30.048Z"
   },
   {
    "duration": 11,
    "start_time": "2022-01-17T18:33:39.074Z"
   },
   {
    "duration": 758,
    "start_time": "2022-01-17T18:33:39.616Z"
   },
   {
    "duration": 17,
    "start_time": "2022-01-17T18:33:40.808Z"
   },
   {
    "duration": 3,
    "start_time": "2022-01-17T18:34:12.421Z"
   },
   {
    "duration": 16,
    "start_time": "2022-01-17T18:34:13.757Z"
   },
   {
    "duration": 3,
    "start_time": "2022-01-17T18:34:33.483Z"
   },
   {
    "duration": 346,
    "start_time": "2022-01-17T18:34:33.488Z"
   },
   {
    "duration": 3,
    "start_time": "2022-01-17T18:34:33.836Z"
   },
   {
    "duration": 171,
    "start_time": "2022-01-17T18:34:33.841Z"
   },
   {
    "duration": 128,
    "start_time": "2022-01-17T18:34:34.013Z"
   },
   {
    "duration": 5,
    "start_time": "2022-01-17T18:34:34.142Z"
   },
   {
    "duration": 7,
    "start_time": "2022-01-17T18:34:34.148Z"
   },
   {
    "duration": 96,
    "start_time": "2022-01-17T18:34:34.156Z"
   },
   {
    "duration": 29,
    "start_time": "2022-01-17T18:34:34.254Z"
   },
   {
    "duration": 46,
    "start_time": "2022-01-17T18:34:34.285Z"
   },
   {
    "duration": 43,
    "start_time": "2022-01-17T18:34:34.332Z"
   },
   {
    "duration": 42,
    "start_time": "2022-01-17T18:34:34.377Z"
   },
   {
    "duration": 32,
    "start_time": "2022-01-17T18:34:34.420Z"
   },
   {
    "duration": 3,
    "start_time": "2022-01-17T18:34:34.454Z"
   },
   {
    "duration": 54,
    "start_time": "2022-01-17T18:34:34.458Z"
   },
   {
    "duration": 22,
    "start_time": "2022-01-17T18:34:34.514Z"
   },
   {
    "duration": 18,
    "start_time": "2022-01-17T18:34:34.537Z"
   },
   {
    "duration": 4,
    "start_time": "2022-01-17T18:34:34.556Z"
   },
   {
    "duration": 10,
    "start_time": "2022-01-17T18:34:34.562Z"
   },
   {
    "duration": 9,
    "start_time": "2022-01-17T18:34:34.573Z"
   },
   {
    "duration": 812,
    "start_time": "2022-01-17T18:34:34.583Z"
   },
   {
    "duration": 861,
    "start_time": "2022-01-17T18:34:34.536Z"
   },
   {
    "duration": 838,
    "start_time": "2022-01-17T18:34:34.561Z"
   },
   {
    "duration": 818,
    "start_time": "2022-01-17T18:34:34.582Z"
   },
   {
    "duration": 785,
    "start_time": "2022-01-17T18:34:34.616Z"
   },
   {
    "duration": 778,
    "start_time": "2022-01-17T18:34:34.625Z"
   },
   {
    "duration": 769,
    "start_time": "2022-01-17T18:34:34.635Z"
   },
   {
    "duration": 740,
    "start_time": "2022-01-17T18:34:34.665Z"
   },
   {
    "duration": 3,
    "start_time": "2022-01-17T18:34:48.864Z"
   },
   {
    "duration": 350,
    "start_time": "2022-01-17T18:34:48.871Z"
   },
   {
    "duration": 4,
    "start_time": "2022-01-17T18:34:49.222Z"
   },
   {
    "duration": 176,
    "start_time": "2022-01-17T18:34:49.228Z"
   },
   {
    "duration": 132,
    "start_time": "2022-01-17T18:34:49.406Z"
   },
   {
    "duration": 5,
    "start_time": "2022-01-17T18:34:49.540Z"
   },
   {
    "duration": 8,
    "start_time": "2022-01-17T18:34:49.546Z"
   },
   {
    "duration": 98,
    "start_time": "2022-01-17T18:34:49.555Z"
   },
   {
    "duration": 31,
    "start_time": "2022-01-17T18:34:49.656Z"
   },
   {
    "duration": 45,
    "start_time": "2022-01-17T18:34:49.689Z"
   },
   {
    "duration": 42,
    "start_time": "2022-01-17T18:34:49.736Z"
   },
   {
    "duration": 47,
    "start_time": "2022-01-17T18:34:49.780Z"
   },
   {
    "duration": 32,
    "start_time": "2022-01-17T18:34:49.828Z"
   },
   {
    "duration": 4,
    "start_time": "2022-01-17T18:34:49.861Z"
   },
   {
    "duration": 54,
    "start_time": "2022-01-17T18:34:49.866Z"
   },
   {
    "duration": 19,
    "start_time": "2022-01-17T18:34:49.922Z"
   },
   {
    "duration": 15,
    "start_time": "2022-01-17T18:34:49.942Z"
   },
   {
    "duration": 4,
    "start_time": "2022-01-17T18:34:49.959Z"
   },
   {
    "duration": 12,
    "start_time": "2022-01-17T18:34:49.964Z"
   },
   {
    "duration": 9,
    "start_time": "2022-01-17T18:34:49.977Z"
   },
   {
    "duration": 2,
    "start_time": "2022-01-17T18:34:49.987Z"
   },
   {
    "duration": 38,
    "start_time": "2022-01-17T18:34:49.991Z"
   },
   {
    "duration": 2,
    "start_time": "2022-01-17T18:34:50.030Z"
   },
   {
    "duration": 8,
    "start_time": "2022-01-17T18:34:50.035Z"
   },
   {
    "duration": 18,
    "start_time": "2022-01-17T18:34:50.045Z"
   },
   {
    "duration": 1,
    "start_time": "2022-01-17T18:34:50.065Z"
   },
   {
    "duration": 1112,
    "start_time": "2022-01-17T18:34:50.112Z"
   },
   {
    "duration": 918,
    "start_time": "2022-01-17T18:34:50.308Z"
   },
   {
    "duration": 737,
    "start_time": "2022-01-17T18:36:35.960Z"
   },
   {
    "duration": 3,
    "start_time": "2022-01-17T18:36:39.903Z"
   },
   {
    "duration": 353,
    "start_time": "2022-01-17T18:36:39.909Z"
   },
   {
    "duration": 3,
    "start_time": "2022-01-17T18:36:40.264Z"
   },
   {
    "duration": 167,
    "start_time": "2022-01-17T18:36:40.269Z"
   },
   {
    "duration": 122,
    "start_time": "2022-01-17T18:36:40.438Z"
   },
   {
    "duration": 4,
    "start_time": "2022-01-17T18:36:40.562Z"
   },
   {
    "duration": 6,
    "start_time": "2022-01-17T18:36:40.568Z"
   },
   {
    "duration": 98,
    "start_time": "2022-01-17T18:36:40.575Z"
   },
   {
    "duration": 43,
    "start_time": "2022-01-17T18:36:40.675Z"
   },
   {
    "duration": 25,
    "start_time": "2022-01-17T18:36:40.719Z"
   },
   {
    "duration": 43,
    "start_time": "2022-01-17T18:36:40.745Z"
   },
   {
    "duration": 47,
    "start_time": "2022-01-17T18:36:40.789Z"
   },
   {
    "duration": 31,
    "start_time": "2022-01-17T18:36:40.838Z"
   },
   {
    "duration": 3,
    "start_time": "2022-01-17T18:36:40.870Z"
   },
   {
    "duration": 58,
    "start_time": "2022-01-17T18:36:40.875Z"
   },
   {
    "duration": 19,
    "start_time": "2022-01-17T18:36:40.934Z"
   },
   {
    "duration": 15,
    "start_time": "2022-01-17T18:36:40.954Z"
   },
   {
    "duration": 4,
    "start_time": "2022-01-17T18:36:40.970Z"
   },
   {
    "duration": 10,
    "start_time": "2022-01-17T18:36:40.975Z"
   },
   {
    "duration": 28,
    "start_time": "2022-01-17T18:36:40.986Z"
   },
   {
    "duration": 2,
    "start_time": "2022-01-17T18:36:41.016Z"
   },
   {
    "duration": 16,
    "start_time": "2022-01-17T18:36:41.020Z"
   },
   {
    "duration": 3,
    "start_time": "2022-01-17T18:36:41.037Z"
   },
   {
    "duration": 7,
    "start_time": "2022-01-17T18:36:41.042Z"
   },
   {
    "duration": 17,
    "start_time": "2022-01-17T18:36:41.050Z"
   },
   {
    "duration": 3,
    "start_time": "2022-01-17T18:36:41.068Z"
   },
   {
    "duration": 289,
    "start_time": "2022-01-17T18:36:41.072Z"
   },
   {
    "duration": 717,
    "start_time": "2022-01-17T18:36:40.645Z"
   },
   {
    "duration": 18,
    "start_time": "2022-01-17T18:38:33.652Z"
   },
   {
    "duration": 17,
    "start_time": "2022-01-17T18:38:35.795Z"
   },
   {
    "duration": 2,
    "start_time": "2022-01-17T18:38:41.188Z"
   },
   {
    "duration": 341,
    "start_time": "2022-01-17T18:38:41.195Z"
   },
   {
    "duration": 4,
    "start_time": "2022-01-17T18:38:41.537Z"
   },
   {
    "duration": 175,
    "start_time": "2022-01-17T18:38:41.543Z"
   },
   {
    "duration": 129,
    "start_time": "2022-01-17T18:38:41.720Z"
   },
   {
    "duration": 6,
    "start_time": "2022-01-17T18:38:41.851Z"
   },
   {
    "duration": 8,
    "start_time": "2022-01-17T18:38:41.859Z"
   },
   {
    "duration": 106,
    "start_time": "2022-01-17T18:38:41.869Z"
   },
   {
    "duration": 49,
    "start_time": "2022-01-17T18:38:41.978Z"
   },
   {
    "duration": 26,
    "start_time": "2022-01-17T18:38:42.029Z"
   },
   {
    "duration": 62,
    "start_time": "2022-01-17T18:38:42.057Z"
   },
   {
    "duration": 28,
    "start_time": "2022-01-17T18:38:42.121Z"
   },
   {
    "duration": 32,
    "start_time": "2022-01-17T18:38:42.150Z"
   },
   {
    "duration": 4,
    "start_time": "2022-01-17T18:38:42.184Z"
   },
   {
    "duration": 57,
    "start_time": "2022-01-17T18:38:42.189Z"
   },
   {
    "duration": 21,
    "start_time": "2022-01-17T18:38:42.248Z"
   },
   {
    "duration": 17,
    "start_time": "2022-01-17T18:38:42.270Z"
   },
   {
    "duration": 25,
    "start_time": "2022-01-17T18:38:42.289Z"
   },
   {
    "duration": 10,
    "start_time": "2022-01-17T18:38:42.316Z"
   },
   {
    "duration": 10,
    "start_time": "2022-01-17T18:38:42.328Z"
   },
   {
    "duration": 3,
    "start_time": "2022-01-17T18:38:42.340Z"
   },
   {
    "duration": 18,
    "start_time": "2022-01-17T18:38:42.344Z"
   },
   {
    "duration": 16,
    "start_time": "2022-01-17T18:38:42.364Z"
   },
   {
    "duration": 3,
    "start_time": "2022-01-17T18:38:42.414Z"
   },
   {
    "duration": 8,
    "start_time": "2022-01-17T18:38:42.419Z"
   },
   {
    "duration": 17,
    "start_time": "2022-01-17T18:38:42.429Z"
   },
   {
    "duration": 2,
    "start_time": "2022-01-17T18:38:42.447Z"
   },
   {
    "duration": 214,
    "start_time": "2022-01-17T18:38:42.451Z"
   },
   {
    "duration": 627,
    "start_time": "2022-01-17T18:38:42.040Z"
   },
   {
    "duration": 3,
    "start_time": "2022-01-17T18:39:04.782Z"
   },
   {
    "duration": 388,
    "start_time": "2022-01-17T18:39:04.789Z"
   },
   {
    "duration": 4,
    "start_time": "2022-01-17T18:39:05.179Z"
   },
   {
    "duration": 188,
    "start_time": "2022-01-17T18:39:05.185Z"
   },
   {
    "duration": 125,
    "start_time": "2022-01-17T18:39:05.375Z"
   },
   {
    "duration": 11,
    "start_time": "2022-01-17T18:39:05.502Z"
   },
   {
    "duration": 12,
    "start_time": "2022-01-17T18:39:05.515Z"
   },
   {
    "duration": 121,
    "start_time": "2022-01-17T18:39:05.529Z"
   },
   {
    "duration": 35,
    "start_time": "2022-01-17T18:39:05.653Z"
   },
   {
    "duration": 47,
    "start_time": "2022-01-17T18:39:05.690Z"
   },
   {
    "duration": 45,
    "start_time": "2022-01-17T18:39:05.739Z"
   },
   {
    "duration": 46,
    "start_time": "2022-01-17T18:39:05.786Z"
   },
   {
    "duration": 34,
    "start_time": "2022-01-17T18:39:05.833Z"
   },
   {
    "duration": 5,
    "start_time": "2022-01-17T18:39:05.868Z"
   },
   {
    "duration": 64,
    "start_time": "2022-01-17T18:39:05.874Z"
   },
   {
    "duration": 21,
    "start_time": "2022-01-17T18:39:05.940Z"
   },
   {
    "duration": 22,
    "start_time": "2022-01-17T18:39:05.963Z"
   },
   {
    "duration": 4,
    "start_time": "2022-01-17T18:39:05.987Z"
   },
   {
    "duration": 30,
    "start_time": "2022-01-17T18:39:05.992Z"
   },
   {
    "duration": 9,
    "start_time": "2022-01-17T18:39:06.024Z"
   },
   {
    "duration": 3,
    "start_time": "2022-01-17T18:39:06.034Z"
   },
   {
    "duration": 7,
    "start_time": "2022-01-17T18:39:06.038Z"
   },
   {
    "duration": 14,
    "start_time": "2022-01-17T18:39:06.046Z"
   },
   {
    "duration": 3,
    "start_time": "2022-01-17T18:39:06.063Z"
   },
   {
    "duration": 49,
    "start_time": "2022-01-17T18:39:06.067Z"
   },
   {
    "duration": 19,
    "start_time": "2022-01-17T18:39:06.118Z"
   },
   {
    "duration": 4,
    "start_time": "2022-01-17T18:39:06.138Z"
   },
   {
    "duration": 185,
    "start_time": "2022-01-17T18:39:06.143Z"
   },
   {
    "duration": 620,
    "start_time": "2022-01-17T18:39:05.710Z"
   },
   {
    "duration": 69,
    "start_time": "2022-01-17T20:15:41.320Z"
   },
   {
    "duration": 69,
    "start_time": "2022-01-17T20:15:50.384Z"
   },
   {
    "duration": 79,
    "start_time": "2022-01-17T20:16:24.166Z"
   },
   {
    "duration": 3,
    "start_time": "2022-01-17T20:16:34.927Z"
   },
   {
    "duration": 5296,
    "start_time": "2022-01-17T20:16:52.122Z"
   },
   {
    "duration": 936,
    "start_time": "2022-01-17T20:16:56.484Z"
   },
   {
    "duration": 4973,
    "start_time": "2022-01-17T20:17:49.651Z"
   },
   {
    "duration": 3,
    "start_time": "2022-01-17T20:17:55.216Z"
   },
   {
    "duration": 346,
    "start_time": "2022-01-17T20:17:55.243Z"
   },
   {
    "duration": 4,
    "start_time": "2022-01-17T20:17:55.590Z"
   },
   {
    "duration": 171,
    "start_time": "2022-01-17T20:17:55.596Z"
   },
   {
    "duration": 121,
    "start_time": "2022-01-17T20:17:55.768Z"
   },
   {
    "duration": 5,
    "start_time": "2022-01-17T20:17:55.890Z"
   },
   {
    "duration": 19,
    "start_time": "2022-01-17T20:17:55.896Z"
   },
   {
    "duration": 95,
    "start_time": "2022-01-17T20:17:55.917Z"
   },
   {
    "duration": 31,
    "start_time": "2022-01-17T20:17:56.014Z"
   },
   {
    "duration": 24,
    "start_time": "2022-01-17T20:17:56.047Z"
   },
   {
    "duration": 67,
    "start_time": "2022-01-17T20:17:56.073Z"
   },
   {
    "duration": 27,
    "start_time": "2022-01-17T20:17:56.141Z"
   },
   {
    "duration": 44,
    "start_time": "2022-01-17T20:17:56.169Z"
   },
   {
    "duration": 3,
    "start_time": "2022-01-17T20:17:56.214Z"
   },
   {
    "duration": 39,
    "start_time": "2022-01-17T20:17:56.219Z"
   },
   {
    "duration": 20,
    "start_time": "2022-01-17T20:17:56.260Z"
   },
   {
    "duration": 37,
    "start_time": "2022-01-17T20:17:56.282Z"
   },
   {
    "duration": 4,
    "start_time": "2022-01-17T20:17:56.321Z"
   },
   {
    "duration": 11,
    "start_time": "2022-01-17T20:17:56.326Z"
   },
   {
    "duration": 9,
    "start_time": "2022-01-17T20:17:56.338Z"
   },
   {
    "duration": 2,
    "start_time": "2022-01-17T20:17:56.348Z"
   },
   {
    "duration": 6,
    "start_time": "2022-01-17T20:17:56.351Z"
   },
   {
    "duration": 13,
    "start_time": "2022-01-17T20:17:56.358Z"
   },
   {
    "duration": 6,
    "start_time": "2022-01-17T20:17:56.373Z"
   },
   {
    "duration": 44,
    "start_time": "2022-01-17T20:17:56.380Z"
   },
   {
    "duration": 3,
    "start_time": "2022-01-17T20:17:56.425Z"
   },
   {
    "duration": 4,
    "start_time": "2022-01-17T20:17:56.430Z"
   },
   {
    "duration": 5197,
    "start_time": "2022-01-17T20:17:56.435Z"
   },
   {
    "duration": 958,
    "start_time": "2022-01-17T20:18:00.676Z"
   },
   {
    "duration": 4,
    "start_time": "2022-01-17T20:19:50.636Z"
   },
   {
    "duration": 67,
    "start_time": "2022-01-17T20:19:52.664Z"
   },
   {
    "duration": 5192,
    "start_time": "2022-01-17T20:20:02.434Z"
   },
   {
    "duration": 1008,
    "start_time": "2022-01-17T20:20:06.620Z"
   },
   {
    "duration": 4,
    "start_time": "2022-01-17T20:20:27.786Z"
   },
   {
    "duration": 401,
    "start_time": "2022-01-17T20:20:28.776Z"
   },
   {
    "duration": 4,
    "start_time": "2022-01-17T20:20:59.440Z"
   },
   {
    "duration": 408,
    "start_time": "2022-01-17T20:21:00.323Z"
   },
   {
    "duration": 3,
    "start_time": "2022-01-17T20:21:08.686Z"
   },
   {
    "duration": 338,
    "start_time": "2022-01-17T20:21:08.691Z"
   },
   {
    "duration": 3,
    "start_time": "2022-01-17T20:21:09.031Z"
   },
   {
    "duration": 161,
    "start_time": "2022-01-17T20:21:09.036Z"
   },
   {
    "duration": 122,
    "start_time": "2022-01-17T20:21:09.199Z"
   },
   {
    "duration": 4,
    "start_time": "2022-01-17T20:21:09.323Z"
   },
   {
    "duration": 7,
    "start_time": "2022-01-17T20:21:09.329Z"
   },
   {
    "duration": 97,
    "start_time": "2022-01-17T20:21:09.337Z"
   },
   {
    "duration": 31,
    "start_time": "2022-01-17T20:21:09.438Z"
   },
   {
    "duration": 52,
    "start_time": "2022-01-17T20:21:09.471Z"
   },
   {
    "duration": 43,
    "start_time": "2022-01-17T20:21:09.525Z"
   },
   {
    "duration": 27,
    "start_time": "2022-01-17T20:21:09.569Z"
   },
   {
    "duration": 45,
    "start_time": "2022-01-17T20:21:09.597Z"
   },
   {
    "duration": 3,
    "start_time": "2022-01-17T20:21:09.643Z"
   },
   {
    "duration": 43,
    "start_time": "2022-01-17T20:21:09.648Z"
   },
   {
    "duration": 33,
    "start_time": "2022-01-17T20:21:09.692Z"
   },
   {
    "duration": 18,
    "start_time": "2022-01-17T20:21:09.727Z"
   },
   {
    "duration": 5,
    "start_time": "2022-01-17T20:21:09.746Z"
   },
   {
    "duration": 9,
    "start_time": "2022-01-17T20:21:09.753Z"
   },
   {
    "duration": 9,
    "start_time": "2022-01-17T20:21:09.764Z"
   },
   {
    "duration": 3,
    "start_time": "2022-01-17T20:21:09.774Z"
   },
   {
    "duration": 34,
    "start_time": "2022-01-17T20:21:09.778Z"
   },
   {
    "duration": 17,
    "start_time": "2022-01-17T20:21:09.814Z"
   },
   {
    "duration": 7,
    "start_time": "2022-01-17T20:21:09.832Z"
   },
   {
    "duration": 18,
    "start_time": "2022-01-17T20:21:09.841Z"
   },
   {
    "duration": 2,
    "start_time": "2022-01-17T20:21:09.861Z"
   },
   {
    "duration": 4,
    "start_time": "2022-01-17T20:21:09.867Z"
   },
   {
    "duration": 389,
    "start_time": "2022-01-17T20:21:09.872Z"
   },
   {
    "duration": 605,
    "start_time": "2022-01-17T20:21:09.658Z"
   },
   {
    "duration": 415,
    "start_time": "2022-01-17T20:24:55.963Z"
   },
   {
    "duration": 4,
    "start_time": "2022-01-17T20:27:41.297Z"
   },
   {
    "duration": 5000,
    "start_time": "2022-01-17T20:27:44.723Z"
   },
   {
    "duration": 1010,
    "start_time": "2022-01-17T20:27:48.714Z"
   },
   {
    "duration": 4,
    "start_time": "2022-01-17T20:28:09.408Z"
   },
   {
    "duration": 4,
    "start_time": "2022-01-17T20:28:10.193Z"
   },
   {
    "duration": 22,
    "start_time": "2022-01-17T20:28:11.684Z"
   },
   {
    "duration": 2,
    "start_time": "2022-01-17T20:31:08.868Z"
   },
   {
    "duration": 2,
    "start_time": "2022-01-17T20:32:02.928Z"
   },
   {
    "duration": 346,
    "start_time": "2022-01-17T20:32:02.935Z"
   },
   {
    "duration": 4,
    "start_time": "2022-01-17T20:32:03.283Z"
   },
   {
    "duration": 166,
    "start_time": "2022-01-17T20:32:03.289Z"
   },
   {
    "duration": 126,
    "start_time": "2022-01-17T20:32:03.457Z"
   },
   {
    "duration": 5,
    "start_time": "2022-01-17T20:32:03.584Z"
   },
   {
    "duration": 22,
    "start_time": "2022-01-17T20:32:03.591Z"
   },
   {
    "duration": 83,
    "start_time": "2022-01-17T20:32:03.615Z"
   },
   {
    "duration": 34,
    "start_time": "2022-01-17T20:32:03.712Z"
   },
   {
    "duration": 26,
    "start_time": "2022-01-17T20:32:03.748Z"
   },
   {
    "duration": 68,
    "start_time": "2022-01-17T20:32:03.775Z"
   },
   {
    "duration": 27,
    "start_time": "2022-01-17T20:32:03.845Z"
   },
   {
    "duration": 49,
    "start_time": "2022-01-17T20:32:03.873Z"
   },
   {
    "duration": 3,
    "start_time": "2022-01-17T20:32:03.923Z"
   },
   {
    "duration": 35,
    "start_time": "2022-01-17T20:32:03.928Z"
   },
   {
    "duration": 20,
    "start_time": "2022-01-17T20:32:03.964Z"
   },
   {
    "duration": 34,
    "start_time": "2022-01-17T20:32:03.986Z"
   },
   {
    "duration": 3,
    "start_time": "2022-01-17T20:32:04.022Z"
   },
   {
    "duration": 10,
    "start_time": "2022-01-17T20:32:04.027Z"
   },
   {
    "duration": 8,
    "start_time": "2022-01-17T20:32:04.038Z"
   },
   {
    "duration": 2,
    "start_time": "2022-01-17T20:32:04.047Z"
   },
   {
    "duration": 5,
    "start_time": "2022-01-17T20:32:04.051Z"
   },
   {
    "duration": 13,
    "start_time": "2022-01-17T20:32:04.058Z"
   },
   {
    "duration": 6,
    "start_time": "2022-01-17T20:32:04.073Z"
   },
   {
    "duration": 45,
    "start_time": "2022-01-17T20:32:04.080Z"
   },
   {
    "duration": 2,
    "start_time": "2022-01-17T20:32:04.126Z"
   },
   {
    "duration": 4,
    "start_time": "2022-01-17T20:32:04.130Z"
   },
   {
    "duration": 4,
    "start_time": "2022-01-17T20:32:04.135Z"
   },
   {
    "duration": 570,
    "start_time": "2022-01-17T20:32:04.140Z"
   },
   {
    "duration": 547,
    "start_time": "2022-01-17T20:32:04.164Z"
   },
   {
    "duration": 3,
    "start_time": "2022-01-17T20:35:20.958Z"
   },
   {
    "duration": 349,
    "start_time": "2022-01-17T20:35:20.962Z"
   },
   {
    "duration": 4,
    "start_time": "2022-01-17T20:35:21.313Z"
   },
   {
    "duration": 167,
    "start_time": "2022-01-17T20:35:21.318Z"
   },
   {
    "duration": 127,
    "start_time": "2022-01-17T20:35:21.487Z"
   },
   {
    "duration": 4,
    "start_time": "2022-01-17T20:35:21.616Z"
   },
   {
    "duration": 8,
    "start_time": "2022-01-17T20:35:21.621Z"
   },
   {
    "duration": 97,
    "start_time": "2022-01-17T20:35:21.630Z"
   },
   {
    "duration": 31,
    "start_time": "2022-01-17T20:35:21.729Z"
   },
   {
    "duration": 24,
    "start_time": "2022-01-17T20:35:21.762Z"
   },
   {
    "duration": 43,
    "start_time": "2022-01-17T20:35:21.812Z"
   },
   {
    "duration": 27,
    "start_time": "2022-01-17T20:35:21.856Z"
   },
   {
    "duration": 49,
    "start_time": "2022-01-17T20:35:21.884Z"
   },
   {
    "duration": 5,
    "start_time": "2022-01-17T20:35:21.934Z"
   },
   {
    "duration": 40,
    "start_time": "2022-01-17T20:35:21.940Z"
   },
   {
    "duration": 35,
    "start_time": "2022-01-17T20:35:21.982Z"
   },
   {
    "duration": 15,
    "start_time": "2022-01-17T20:35:22.019Z"
   },
   {
    "duration": 3,
    "start_time": "2022-01-17T20:35:22.036Z"
   },
   {
    "duration": 10,
    "start_time": "2022-01-17T20:35:22.041Z"
   },
   {
    "duration": 9,
    "start_time": "2022-01-17T20:35:22.052Z"
   },
   {
    "duration": 3,
    "start_time": "2022-01-17T20:35:22.062Z"
   },
   {
    "duration": 5,
    "start_time": "2022-01-17T20:35:22.066Z"
   },
   {
    "duration": 40,
    "start_time": "2022-01-17T20:35:22.073Z"
   },
   {
    "duration": 7,
    "start_time": "2022-01-17T20:35:22.114Z"
   },
   {
    "duration": 19,
    "start_time": "2022-01-17T20:35:22.122Z"
   },
   {
    "duration": 2,
    "start_time": "2022-01-17T20:35:22.143Z"
   },
   {
    "duration": 3,
    "start_time": "2022-01-17T20:35:22.148Z"
   },
   {
    "duration": 5,
    "start_time": "2022-01-17T20:35:22.152Z"
   },
   {
    "duration": 7,
    "start_time": "2022-01-17T20:35:22.158Z"
   },
   {
    "duration": 51,
    "start_time": "2022-01-17T20:35:22.166Z"
   },
   {
    "duration": 3,
    "start_time": "2022-01-17T20:38:23.998Z"
   },
   {
    "duration": 341,
    "start_time": "2022-01-17T20:38:24.008Z"
   },
   {
    "duration": 4,
    "start_time": "2022-01-17T20:38:24.350Z"
   },
   {
    "duration": 161,
    "start_time": "2022-01-17T20:38:24.356Z"
   },
   {
    "duration": 128,
    "start_time": "2022-01-17T20:38:24.519Z"
   },
   {
    "duration": 4,
    "start_time": "2022-01-17T20:38:24.649Z"
   },
   {
    "duration": 6,
    "start_time": "2022-01-17T20:38:24.655Z"
   },
   {
    "duration": 101,
    "start_time": "2022-01-17T20:38:24.663Z"
   },
   {
    "duration": 30,
    "start_time": "2022-01-17T20:38:24.766Z"
   },
   {
    "duration": 23,
    "start_time": "2022-01-17T20:38:24.813Z"
   },
   {
    "duration": 43,
    "start_time": "2022-01-17T20:38:24.837Z"
   },
   {
    "duration": 46,
    "start_time": "2022-01-17T20:38:24.882Z"
   },
   {
    "duration": 31,
    "start_time": "2022-01-17T20:38:24.930Z"
   },
   {
    "duration": 3,
    "start_time": "2022-01-17T20:38:24.963Z"
   },
   {
    "duration": 51,
    "start_time": "2022-01-17T20:38:24.968Z"
   },
   {
    "duration": 21,
    "start_time": "2022-01-17T20:38:25.021Z"
   },
   {
    "duration": 20,
    "start_time": "2022-01-17T20:38:25.043Z"
   },
   {
    "duration": 4,
    "start_time": "2022-01-17T20:38:25.065Z"
   },
   {
    "duration": 12,
    "start_time": "2022-01-17T20:38:25.071Z"
   },
   {
    "duration": 29,
    "start_time": "2022-01-17T20:38:25.085Z"
   },
   {
    "duration": 3,
    "start_time": "2022-01-17T20:38:25.116Z"
   },
   {
    "duration": 6,
    "start_time": "2022-01-17T20:38:25.120Z"
   },
   {
    "duration": 14,
    "start_time": "2022-01-17T20:38:25.127Z"
   },
   {
    "duration": 7,
    "start_time": "2022-01-17T20:38:25.144Z"
   },
   {
    "duration": 18,
    "start_time": "2022-01-17T20:38:25.153Z"
   },
   {
    "duration": 2,
    "start_time": "2022-01-17T20:38:25.173Z"
   },
   {
    "duration": 38,
    "start_time": "2022-01-17T20:38:25.176Z"
   },
   {
    "duration": 5,
    "start_time": "2022-01-17T20:38:25.216Z"
   },
   {
    "duration": 7,
    "start_time": "2022-01-17T20:38:25.222Z"
   },
   {
    "duration": 20,
    "start_time": "2022-01-17T20:38:25.230Z"
   },
   {
    "duration": 4,
    "start_time": "2022-01-17T20:39:12.585Z"
   },
   {
    "duration": 3,
    "start_time": "2022-01-17T20:45:19.608Z"
   },
   {
    "duration": 345,
    "start_time": "2022-01-17T20:45:19.617Z"
   },
   {
    "duration": 4,
    "start_time": "2022-01-17T20:45:19.964Z"
   },
   {
    "duration": 191,
    "start_time": "2022-01-17T20:45:19.970Z"
   },
   {
    "duration": 158,
    "start_time": "2022-01-17T20:45:20.163Z"
   },
   {
    "duration": 6,
    "start_time": "2022-01-17T20:45:20.323Z"
   },
   {
    "duration": 7,
    "start_time": "2022-01-17T20:45:20.331Z"
   },
   {
    "duration": 111,
    "start_time": "2022-01-17T20:45:20.340Z"
   },
   {
    "duration": 34,
    "start_time": "2022-01-17T20:45:20.454Z"
   },
   {
    "duration": 48,
    "start_time": "2022-01-17T20:45:20.491Z"
   },
   {
    "duration": 76,
    "start_time": "2022-01-17T20:45:20.541Z"
   },
   {
    "duration": 27,
    "start_time": "2022-01-17T20:45:20.619Z"
   },
   {
    "duration": 36,
    "start_time": "2022-01-17T20:45:20.648Z"
   },
   {
    "duration": 4,
    "start_time": "2022-01-17T20:45:20.685Z"
   },
   {
    "duration": 58,
    "start_time": "2022-01-17T20:45:20.690Z"
   },
   {
    "duration": 20,
    "start_time": "2022-01-17T20:45:20.750Z"
   },
   {
    "duration": 43,
    "start_time": "2022-01-17T20:45:20.772Z"
   },
   {
    "duration": 6,
    "start_time": "2022-01-17T20:45:20.817Z"
   },
   {
    "duration": 13,
    "start_time": "2022-01-17T20:45:20.825Z"
   },
   {
    "duration": 13,
    "start_time": "2022-01-17T20:45:20.840Z"
   },
   {
    "duration": 3,
    "start_time": "2022-01-17T20:45:20.855Z"
   },
   {
    "duration": 7,
    "start_time": "2022-01-17T20:45:20.860Z"
   },
   {
    "duration": 18,
    "start_time": "2022-01-17T20:45:20.868Z"
   },
   {
    "duration": 6,
    "start_time": "2022-01-17T20:45:20.913Z"
   },
   {
    "duration": 20,
    "start_time": "2022-01-17T20:45:20.921Z"
   },
   {
    "duration": 2,
    "start_time": "2022-01-17T20:45:20.942Z"
   },
   {
    "duration": 5,
    "start_time": "2022-01-17T20:45:20.945Z"
   },
   {
    "duration": 6,
    "start_time": "2022-01-17T20:45:20.951Z"
   },
   {
    "duration": 666,
    "start_time": "2022-01-17T20:45:20.958Z"
   },
   {
    "duration": 574,
    "start_time": "2022-01-17T20:45:21.052Z"
   },
   {
    "duration": 3,
    "start_time": "2022-01-17T20:45:41.676Z"
   },
   {
    "duration": 3,
    "start_time": "2022-01-17T20:46:09.812Z"
   },
   {
    "duration": 4,
    "start_time": "2022-01-17T20:56:40.575Z"
   },
   {
    "duration": 601,
    "start_time": "2022-01-17T20:56:41.589Z"
   },
   {
    "duration": 4,
    "start_time": "2022-01-17T20:56:47.636Z"
   },
   {
    "duration": 331,
    "start_time": "2022-01-17T20:56:47.650Z"
   },
   {
    "duration": 3,
    "start_time": "2022-01-17T20:56:47.983Z"
   },
   {
    "duration": 166,
    "start_time": "2022-01-17T20:56:47.988Z"
   },
   {
    "duration": 130,
    "start_time": "2022-01-17T20:56:48.156Z"
   },
   {
    "duration": 5,
    "start_time": "2022-01-17T20:56:48.287Z"
   },
   {
    "duration": 22,
    "start_time": "2022-01-17T20:56:48.294Z"
   },
   {
    "duration": 97,
    "start_time": "2022-01-17T20:56:48.318Z"
   },
   {
    "duration": 32,
    "start_time": "2022-01-17T20:56:48.417Z"
   },
   {
    "duration": 26,
    "start_time": "2022-01-17T20:56:48.451Z"
   },
   {
    "duration": 77,
    "start_time": "2022-01-17T20:56:48.479Z"
   },
   {
    "duration": 27,
    "start_time": "2022-01-17T20:56:48.557Z"
   },
   {
    "duration": 44,
    "start_time": "2022-01-17T20:56:48.585Z"
   },
   {
    "duration": 4,
    "start_time": "2022-01-17T20:56:48.630Z"
   },
   {
    "duration": 39,
    "start_time": "2022-01-17T20:56:48.635Z"
   },
   {
    "duration": 40,
    "start_time": "2022-01-17T20:56:48.675Z"
   },
   {
    "duration": 15,
    "start_time": "2022-01-17T20:56:48.717Z"
   },
   {
    "duration": 4,
    "start_time": "2022-01-17T20:56:48.733Z"
   },
   {
    "duration": 11,
    "start_time": "2022-01-17T20:56:48.738Z"
   },
   {
    "duration": 8,
    "start_time": "2022-01-17T20:56:48.750Z"
   },
   {
    "duration": 2,
    "start_time": "2022-01-17T20:56:48.759Z"
   },
   {
    "duration": 5,
    "start_time": "2022-01-17T20:56:48.763Z"
   },
   {
    "duration": 49,
    "start_time": "2022-01-17T20:56:48.770Z"
   },
   {
    "duration": 5,
    "start_time": "2022-01-17T20:56:48.822Z"
   },
   {
    "duration": 18,
    "start_time": "2022-01-17T20:56:48.829Z"
   },
   {
    "duration": 2,
    "start_time": "2022-01-17T20:56:48.849Z"
   },
   {
    "duration": 5,
    "start_time": "2022-01-17T20:56:48.852Z"
   },
   {
    "duration": 4,
    "start_time": "2022-01-17T20:56:48.858Z"
   },
   {
    "duration": 575,
    "start_time": "2022-01-17T20:56:48.863Z"
   },
   {
    "duration": 471,
    "start_time": "2022-01-17T20:56:48.969Z"
   },
   {
    "duration": 4,
    "start_time": "2022-01-17T20:57:11.794Z"
   },
   {
    "duration": 5,
    "start_time": "2022-01-17T20:57:12.262Z"
   },
   {
    "duration": 3,
    "start_time": "2022-01-17T20:57:21.532Z"
   },
   {
    "duration": 351,
    "start_time": "2022-01-17T20:57:21.543Z"
   },
   {
    "duration": 3,
    "start_time": "2022-01-17T20:57:21.896Z"
   },
   {
    "duration": 186,
    "start_time": "2022-01-17T20:57:21.901Z"
   },
   {
    "duration": 127,
    "start_time": "2022-01-17T20:57:22.090Z"
   },
   {
    "duration": 5,
    "start_time": "2022-01-17T20:57:22.218Z"
   },
   {
    "duration": 7,
    "start_time": "2022-01-17T20:57:22.225Z"
   },
   {
    "duration": 103,
    "start_time": "2022-01-17T20:57:22.233Z"
   },
   {
    "duration": 42,
    "start_time": "2022-01-17T20:57:22.339Z"
   },
   {
    "duration": 44,
    "start_time": "2022-01-17T20:57:22.384Z"
   },
   {
    "duration": 43,
    "start_time": "2022-01-17T20:57:22.430Z"
   },
   {
    "duration": 43,
    "start_time": "2022-01-17T20:57:22.475Z"
   },
   {
    "duration": 32,
    "start_time": "2022-01-17T20:57:22.519Z"
   },
   {
    "duration": 3,
    "start_time": "2022-01-17T20:57:22.553Z"
   },
   {
    "duration": 55,
    "start_time": "2022-01-17T20:57:22.558Z"
   },
   {
    "duration": 20,
    "start_time": "2022-01-17T20:57:22.615Z"
   },
   {
    "duration": 18,
    "start_time": "2022-01-17T20:57:22.636Z"
   },
   {
    "duration": 4,
    "start_time": "2022-01-17T20:57:22.656Z"
   },
   {
    "duration": 10,
    "start_time": "2022-01-17T20:57:22.662Z"
   },
   {
    "duration": 9,
    "start_time": "2022-01-17T20:57:22.674Z"
   },
   {
    "duration": 28,
    "start_time": "2022-01-17T20:57:22.684Z"
   },
   {
    "duration": 3,
    "start_time": "2022-01-17T20:57:22.714Z"
   },
   {
    "duration": 21,
    "start_time": "2022-01-17T20:57:22.719Z"
   },
   {
    "duration": 6,
    "start_time": "2022-01-17T20:57:22.742Z"
   },
   {
    "duration": 21,
    "start_time": "2022-01-17T20:57:22.749Z"
   },
   {
    "duration": 2,
    "start_time": "2022-01-17T20:57:22.771Z"
   },
   {
    "duration": 7,
    "start_time": "2022-01-17T20:57:22.775Z"
   },
   {
    "duration": 6,
    "start_time": "2022-01-17T20:57:22.783Z"
   },
   {
    "duration": 23,
    "start_time": "2022-01-17T20:57:22.790Z"
   },
   {
    "duration": 3,
    "start_time": "2022-01-17T20:57:22.814Z"
   },
   {
    "duration": 4,
    "start_time": "2022-01-17T20:57:35.203Z"
   },
   {
    "duration": 20,
    "start_time": "2022-01-17T20:57:43.822Z"
   },
   {
    "duration": 3,
    "start_time": "2022-01-17T21:01:23.870Z"
   },
   {
    "duration": 350,
    "start_time": "2022-01-17T21:01:23.881Z"
   },
   {
    "duration": 3,
    "start_time": "2022-01-17T21:01:24.233Z"
   },
   {
    "duration": 165,
    "start_time": "2022-01-17T21:01:24.238Z"
   },
   {
    "duration": 124,
    "start_time": "2022-01-17T21:01:24.412Z"
   },
   {
    "duration": 4,
    "start_time": "2022-01-17T21:01:24.538Z"
   },
   {
    "duration": 8,
    "start_time": "2022-01-17T21:01:24.544Z"
   },
   {
    "duration": 102,
    "start_time": "2022-01-17T21:01:24.553Z"
   },
   {
    "duration": 32,
    "start_time": "2022-01-17T21:01:24.658Z"
   },
   {
    "duration": 25,
    "start_time": "2022-01-17T21:01:24.712Z"
   },
   {
    "duration": 44,
    "start_time": "2022-01-17T21:01:24.739Z"
   },
   {
    "duration": 48,
    "start_time": "2022-01-17T21:01:24.785Z"
   },
   {
    "duration": 34,
    "start_time": "2022-01-17T21:01:24.834Z"
   },
   {
    "duration": 4,
    "start_time": "2022-01-17T21:01:24.869Z"
   },
   {
    "duration": 64,
    "start_time": "2022-01-17T21:01:24.875Z"
   },
   {
    "duration": 22,
    "start_time": "2022-01-17T21:01:24.940Z"
   },
   {
    "duration": 19,
    "start_time": "2022-01-17T21:01:24.963Z"
   },
   {
    "duration": 4,
    "start_time": "2022-01-17T21:01:24.984Z"
   },
   {
    "duration": 29,
    "start_time": "2022-01-17T21:01:24.990Z"
   },
   {
    "duration": 9,
    "start_time": "2022-01-17T21:01:25.021Z"
   },
   {
    "duration": 2,
    "start_time": "2022-01-17T21:01:25.032Z"
   },
   {
    "duration": 5,
    "start_time": "2022-01-17T21:01:25.036Z"
   },
   {
    "duration": 14,
    "start_time": "2022-01-17T21:01:25.043Z"
   },
   {
    "duration": 6,
    "start_time": "2022-01-17T21:01:25.059Z"
   },
   {
    "duration": 56,
    "start_time": "2022-01-17T21:01:25.066Z"
   },
   {
    "duration": 2,
    "start_time": "2022-01-17T21:01:25.124Z"
   },
   {
    "duration": 4,
    "start_time": "2022-01-17T21:01:25.128Z"
   },
   {
    "duration": 5,
    "start_time": "2022-01-17T21:01:25.133Z"
   },
   {
    "duration": 565,
    "start_time": "2022-01-17T21:01:25.139Z"
   },
   {
    "duration": 614,
    "start_time": "2022-01-17T21:01:25.092Z"
   },
   {
    "duration": 1029,
    "start_time": "2022-01-17T21:09:56.824Z"
   },
   {
    "duration": 4638,
    "start_time": "2022-01-17T21:10:11.471Z"
   },
   {
    "duration": 4819,
    "start_time": "2022-01-17T21:10:23.591Z"
   },
   {
    "duration": 4803,
    "start_time": "2022-01-17T21:10:35.139Z"
   },
   {
    "duration": 3,
    "start_time": "2022-01-17T21:10:45.421Z"
   },
   {
    "duration": 342,
    "start_time": "2022-01-17T21:10:45.426Z"
   },
   {
    "duration": 3,
    "start_time": "2022-01-17T21:10:45.770Z"
   },
   {
    "duration": 174,
    "start_time": "2022-01-17T21:10:45.775Z"
   },
   {
    "duration": 141,
    "start_time": "2022-01-17T21:10:45.951Z"
   },
   {
    "duration": 5,
    "start_time": "2022-01-17T21:10:46.094Z"
   },
   {
    "duration": 17,
    "start_time": "2022-01-17T21:10:46.100Z"
   },
   {
    "duration": 102,
    "start_time": "2022-01-17T21:10:46.119Z"
   },
   {
    "duration": 30,
    "start_time": "2022-01-17T21:10:46.224Z"
   },
   {
    "duration": 25,
    "start_time": "2022-01-17T21:10:46.256Z"
   },
   {
    "duration": 63,
    "start_time": "2022-01-17T21:10:46.282Z"
   },
   {
    "duration": 28,
    "start_time": "2022-01-17T21:10:46.346Z"
   },
   {
    "duration": 47,
    "start_time": "2022-01-17T21:10:46.376Z"
   },
   {
    "duration": 3,
    "start_time": "2022-01-17T21:10:46.425Z"
   },
   {
    "duration": 41,
    "start_time": "2022-01-17T21:10:46.430Z"
   },
   {
    "duration": 20,
    "start_time": "2022-01-17T21:10:46.473Z"
   },
   {
    "duration": 32,
    "start_time": "2022-01-17T21:10:46.495Z"
   },
   {
    "duration": 4,
    "start_time": "2022-01-17T21:10:46.529Z"
   },
   {
    "duration": 13,
    "start_time": "2022-01-17T21:10:46.534Z"
   },
   {
    "duration": 10,
    "start_time": "2022-01-17T21:10:46.549Z"
   },
   {
    "duration": 3,
    "start_time": "2022-01-17T21:10:46.560Z"
   },
   {
    "duration": 6,
    "start_time": "2022-01-17T21:10:46.564Z"
   },
   {
    "duration": 14,
    "start_time": "2022-01-17T21:10:46.571Z"
   },
   {
    "duration": 7,
    "start_time": "2022-01-17T21:10:46.612Z"
   },
   {
    "duration": 19,
    "start_time": "2022-01-17T21:10:46.620Z"
   },
   {
    "duration": 3,
    "start_time": "2022-01-17T21:10:46.640Z"
   },
   {
    "duration": 3,
    "start_time": "2022-01-17T21:10:46.646Z"
   },
   {
    "duration": 4,
    "start_time": "2022-01-17T21:10:46.650Z"
   },
   {
    "duration": 8,
    "start_time": "2022-01-17T21:10:46.655Z"
   },
   {
    "duration": 49,
    "start_time": "2022-01-17T21:10:46.664Z"
   },
   {
    "duration": 4776,
    "start_time": "2022-01-17T21:10:46.715Z"
   },
   {
    "duration": 209,
    "start_time": "2022-01-17T21:11:51.489Z"
   },
   {
    "duration": 5190,
    "start_time": "2022-01-17T21:12:02.185Z"
   },
   {
    "duration": 4662,
    "start_time": "2022-01-17T21:12:21.009Z"
   },
   {
    "duration": 3,
    "start_time": "2022-01-17T21:13:59.539Z"
   },
   {
    "duration": 4,
    "start_time": "2022-01-17T21:20:25.746Z"
   },
   {
    "duration": 4,
    "start_time": "2022-01-17T21:21:00.492Z"
   },
   {
    "duration": 3,
    "start_time": "2022-01-17T21:36:28.903Z"
   },
   {
    "duration": 344,
    "start_time": "2022-01-17T21:36:28.931Z"
   },
   {
    "duration": 4,
    "start_time": "2022-01-17T21:36:29.277Z"
   },
   {
    "duration": 185,
    "start_time": "2022-01-17T21:36:29.282Z"
   },
   {
    "duration": 133,
    "start_time": "2022-01-17T21:36:29.469Z"
   },
   {
    "duration": 11,
    "start_time": "2022-01-17T21:36:29.604Z"
   },
   {
    "duration": 9,
    "start_time": "2022-01-17T21:36:29.616Z"
   },
   {
    "duration": 102,
    "start_time": "2022-01-17T21:36:29.627Z"
   },
   {
    "duration": 34,
    "start_time": "2022-01-17T21:36:29.732Z"
   },
   {
    "duration": 50,
    "start_time": "2022-01-17T21:36:29.768Z"
   },
   {
    "duration": 46,
    "start_time": "2022-01-17T21:36:29.820Z"
   },
   {
    "duration": 45,
    "start_time": "2022-01-17T21:36:29.867Z"
   },
   {
    "duration": 34,
    "start_time": "2022-01-17T21:36:29.914Z"
   },
   {
    "duration": 5,
    "start_time": "2022-01-17T21:36:29.950Z"
   },
   {
    "duration": 57,
    "start_time": "2022-01-17T21:36:29.956Z"
   },
   {
    "duration": 22,
    "start_time": "2022-01-17T21:36:30.014Z"
   },
   {
    "duration": 17,
    "start_time": "2022-01-17T21:36:30.038Z"
   },
   {
    "duration": 5,
    "start_time": "2022-01-17T21:36:30.057Z"
   },
   {
    "duration": 11,
    "start_time": "2022-01-17T21:36:30.063Z"
   },
   {
    "duration": 38,
    "start_time": "2022-01-17T21:36:30.075Z"
   },
   {
    "duration": 2,
    "start_time": "2022-01-17T21:36:30.115Z"
   },
   {
    "duration": 10,
    "start_time": "2022-01-17T21:36:30.119Z"
   },
   {
    "duration": 22,
    "start_time": "2022-01-17T21:36:30.130Z"
   },
   {
    "duration": 7,
    "start_time": "2022-01-17T21:36:30.155Z"
   },
   {
    "duration": 19,
    "start_time": "2022-01-17T21:36:30.163Z"
   },
   {
    "duration": 2,
    "start_time": "2022-01-17T21:36:30.184Z"
   },
   {
    "duration": 26,
    "start_time": "2022-01-17T21:36:30.187Z"
   },
   {
    "duration": 10,
    "start_time": "2022-01-17T21:36:30.215Z"
   },
   {
    "duration": 7,
    "start_time": "2022-01-17T21:36:30.227Z"
   },
   {
    "duration": 22,
    "start_time": "2022-01-17T21:36:30.235Z"
   },
   {
    "duration": 4,
    "start_time": "2022-01-17T21:36:30.258Z"
   },
   {
    "duration": 6,
    "start_time": "2022-01-17T21:36:30.263Z"
   },
   {
    "duration": 3,
    "start_time": "2022-01-17T21:47:46.865Z"
   },
   {
    "duration": 353,
    "start_time": "2022-01-17T21:47:46.871Z"
   },
   {
    "duration": 4,
    "start_time": "2022-01-17T21:47:47.225Z"
   },
   {
    "duration": 168,
    "start_time": "2022-01-17T21:47:47.231Z"
   },
   {
    "duration": 133,
    "start_time": "2022-01-17T21:47:47.401Z"
   },
   {
    "duration": 5,
    "start_time": "2022-01-17T21:47:47.536Z"
   },
   {
    "duration": 8,
    "start_time": "2022-01-17T21:47:47.542Z"
   },
   {
    "duration": 105,
    "start_time": "2022-01-17T21:47:47.552Z"
   },
   {
    "duration": 55,
    "start_time": "2022-01-17T21:47:47.660Z"
   },
   {
    "duration": 28,
    "start_time": "2022-01-17T21:47:47.717Z"
   },
   {
    "duration": 66,
    "start_time": "2022-01-17T21:47:47.746Z"
   },
   {
    "duration": 27,
    "start_time": "2022-01-17T21:47:47.814Z"
   },
   {
    "duration": 32,
    "start_time": "2022-01-17T21:47:47.843Z"
   },
   {
    "duration": 3,
    "start_time": "2022-01-17T21:47:47.877Z"
   },
   {
    "duration": 55,
    "start_time": "2022-01-17T21:47:47.881Z"
   },
   {
    "duration": 22,
    "start_time": "2022-01-17T21:47:47.938Z"
   },
   {
    "duration": 15,
    "start_time": "2022-01-17T21:47:47.961Z"
   },
   {
    "duration": 4,
    "start_time": "2022-01-17T21:47:47.977Z"
   },
   {
    "duration": 30,
    "start_time": "2022-01-17T21:47:47.983Z"
   },
   {
    "duration": 10,
    "start_time": "2022-01-17T21:47:48.014Z"
   },
   {
    "duration": 3,
    "start_time": "2022-01-17T21:47:48.025Z"
   },
   {
    "duration": 5,
    "start_time": "2022-01-17T21:47:48.029Z"
   },
   {
    "duration": 14,
    "start_time": "2022-01-17T21:47:48.035Z"
   },
   {
    "duration": 6,
    "start_time": "2022-01-17T21:47:48.051Z"
   },
   {
    "duration": 17,
    "start_time": "2022-01-17T21:47:48.059Z"
   },
   {
    "duration": 2,
    "start_time": "2022-01-17T21:47:48.078Z"
   },
   {
    "duration": 3,
    "start_time": "2022-01-17T21:47:48.112Z"
   },
   {
    "duration": 5,
    "start_time": "2022-01-17T21:47:48.116Z"
   },
   {
    "duration": 8,
    "start_time": "2022-01-17T21:47:48.123Z"
   },
   {
    "duration": 20,
    "start_time": "2022-01-17T21:47:48.133Z"
   },
   {
    "duration": 4,
    "start_time": "2022-01-17T21:47:48.154Z"
   },
   {
    "duration": 4,
    "start_time": "2022-01-17T21:47:48.159Z"
   },
   {
    "duration": 1352,
    "start_time": "2022-01-18T06:55:51.951Z"
   },
   {
    "duration": 491,
    "start_time": "2022-01-18T06:55:53.305Z"
   },
   {
    "duration": 5,
    "start_time": "2022-01-18T06:55:53.800Z"
   },
   {
    "duration": 291,
    "start_time": "2022-01-18T06:55:53.808Z"
   },
   {
    "duration": 213,
    "start_time": "2022-01-18T06:55:54.102Z"
   },
   {
    "duration": 10,
    "start_time": "2022-01-18T06:55:54.317Z"
   },
   {
    "duration": 36,
    "start_time": "2022-01-18T06:55:54.329Z"
   },
   {
    "duration": 144,
    "start_time": "2022-01-18T06:55:54.367Z"
   },
   {
    "duration": 70,
    "start_time": "2022-01-18T06:55:54.516Z"
   },
   {
    "duration": 74,
    "start_time": "2022-01-18T06:55:54.591Z"
   },
   {
    "duration": 73,
    "start_time": "2022-01-18T06:55:54.668Z"
   },
   {
    "duration": 77,
    "start_time": "2022-01-18T06:55:54.743Z"
   },
   {
    "duration": 89,
    "start_time": "2022-01-18T06:55:54.823Z"
   },
   {
    "duration": 6,
    "start_time": "2022-01-18T06:55:54.914Z"
   },
   {
    "duration": 133,
    "start_time": "2022-01-18T06:55:54.923Z"
   },
   {
    "duration": 76,
    "start_time": "2022-01-18T06:55:55.065Z"
   },
   {
    "duration": 126,
    "start_time": "2022-01-18T06:55:55.149Z"
   },
   {
    "duration": 102,
    "start_time": "2022-01-18T06:55:55.278Z"
   },
   {
    "duration": 89,
    "start_time": "2022-01-18T06:55:55.384Z"
   },
   {
    "duration": 40,
    "start_time": "2022-01-18T06:55:55.476Z"
   },
   {
    "duration": 48,
    "start_time": "2022-01-18T06:55:55.519Z"
   },
   {
    "duration": 46,
    "start_time": "2022-01-18T06:55:55.570Z"
   },
   {
    "duration": 26,
    "start_time": "2022-01-18T06:55:55.620Z"
   },
   {
    "duration": 16,
    "start_time": "2022-01-18T06:55:55.649Z"
   },
   {
    "duration": 33,
    "start_time": "2022-01-18T06:55:55.668Z"
   },
   {
    "duration": 4,
    "start_time": "2022-01-18T06:55:55.704Z"
   },
   {
    "duration": 4,
    "start_time": "2022-01-18T06:55:55.714Z"
   },
   {
    "duration": 6,
    "start_time": "2022-01-18T06:55:55.720Z"
   },
   {
    "duration": 155,
    "start_time": "2022-01-18T06:55:55.729Z"
   },
   {
    "duration": -3216,
    "start_time": "2022-01-18T06:55:59.102Z"
   },
   {
    "duration": -3269,
    "start_time": "2022-01-18T06:55:59.156Z"
   },
   {
    "duration": -3305,
    "start_time": "2022-01-18T06:55:59.194Z"
   },
   {
    "duration": -3331,
    "start_time": "2022-01-18T06:55:59.222Z"
   },
   {
    "duration": 5,
    "start_time": "2022-01-18T06:56:47.074Z"
   },
   {
    "duration": 505,
    "start_time": "2022-01-18T06:56:47.081Z"
   },
   {
    "duration": 5,
    "start_time": "2022-01-18T06:56:47.589Z"
   },
   {
    "duration": 272,
    "start_time": "2022-01-18T06:56:47.597Z"
   },
   {
    "duration": 240,
    "start_time": "2022-01-18T06:56:47.873Z"
   },
   {
    "duration": 8,
    "start_time": "2022-01-18T06:56:48.116Z"
   },
   {
    "duration": 42,
    "start_time": "2022-01-18T06:56:48.126Z"
   },
   {
    "duration": 148,
    "start_time": "2022-01-18T06:56:48.170Z"
   },
   {
    "duration": 75,
    "start_time": "2022-01-18T06:56:48.322Z"
   },
   {
    "duration": 70,
    "start_time": "2022-01-18T06:56:48.400Z"
   },
   {
    "duration": 67,
    "start_time": "2022-01-18T06:56:48.472Z"
   },
   {
    "duration": 56,
    "start_time": "2022-01-18T06:56:48.542Z"
   },
   {
    "duration": 73,
    "start_time": "2022-01-18T06:56:48.601Z"
   },
   {
    "duration": 6,
    "start_time": "2022-01-18T06:56:48.677Z"
   },
   {
    "duration": 78,
    "start_time": "2022-01-18T06:56:48.686Z"
   },
   {
    "duration": 30,
    "start_time": "2022-01-18T06:56:48.767Z"
   },
   {
    "duration": 24,
    "start_time": "2022-01-18T06:56:48.800Z"
   },
   {
    "duration": 7,
    "start_time": "2022-01-18T06:56:48.826Z"
   },
   {
    "duration": 37,
    "start_time": "2022-01-18T06:56:48.835Z"
   },
   {
    "duration": 15,
    "start_time": "2022-01-18T06:56:48.874Z"
   },
   {
    "duration": 7,
    "start_time": "2022-01-18T06:56:48.891Z"
   },
   {
    "duration": 19,
    "start_time": "2022-01-18T06:56:48.900Z"
   },
   {
    "duration": 44,
    "start_time": "2022-01-18T06:56:48.922Z"
   },
   {
    "duration": 9,
    "start_time": "2022-01-18T06:56:48.969Z"
   },
   {
    "duration": 38,
    "start_time": "2022-01-18T06:56:48.980Z"
   },
   {
    "duration": 8,
    "start_time": "2022-01-18T06:56:49.020Z"
   },
   {
    "duration": 7,
    "start_time": "2022-01-18T06:56:49.033Z"
   },
   {
    "duration": 23,
    "start_time": "2022-01-18T06:56:49.042Z"
   },
   {
    "duration": 125,
    "start_time": "2022-01-18T06:56:49.068Z"
   },
   {
    "duration": -1138,
    "start_time": "2022-01-18T06:56:50.334Z"
   },
   {
    "duration": -1145,
    "start_time": "2022-01-18T06:56:50.342Z"
   },
   {
    "duration": -1189,
    "start_time": "2022-01-18T06:56:50.388Z"
   },
   {
    "duration": -1214,
    "start_time": "2022-01-18T06:56:50.415Z"
   },
   {
    "duration": 4,
    "start_time": "2022-01-18T06:57:18.616Z"
   },
   {
    "duration": 532,
    "start_time": "2022-01-18T06:57:18.626Z"
   },
   {
    "duration": 6,
    "start_time": "2022-01-18T06:57:19.161Z"
   },
   {
    "duration": 277,
    "start_time": "2022-01-18T06:57:19.170Z"
   },
   {
    "duration": 236,
    "start_time": "2022-01-18T06:57:19.451Z"
   },
   {
    "duration": 8,
    "start_time": "2022-01-18T06:57:19.689Z"
   },
   {
    "duration": 12,
    "start_time": "2022-01-18T06:57:19.699Z"
   },
   {
    "duration": 169,
    "start_time": "2022-01-18T06:57:19.714Z"
   },
   {
    "duration": 79,
    "start_time": "2022-01-18T06:57:19.887Z"
   },
   {
    "duration": 46,
    "start_time": "2022-01-18T06:57:19.969Z"
   },
   {
    "duration": 99,
    "start_time": "2022-01-18T06:57:20.017Z"
   },
   {
    "duration": 69,
    "start_time": "2022-01-18T06:57:20.119Z"
   },
   {
    "duration": 84,
    "start_time": "2022-01-18T06:57:20.191Z"
   },
   {
    "duration": 7,
    "start_time": "2022-01-18T06:57:20.278Z"
   },
   {
    "duration": 81,
    "start_time": "2022-01-18T06:57:20.287Z"
   },
   {
    "duration": 34,
    "start_time": "2022-01-18T06:57:20.371Z"
   },
   {
    "duration": 26,
    "start_time": "2022-01-18T06:57:20.408Z"
   },
   {
    "duration": 31,
    "start_time": "2022-01-18T06:57:20.437Z"
   },
   {
    "duration": 16,
    "start_time": "2022-01-18T06:57:20.471Z"
   },
   {
    "duration": 15,
    "start_time": "2022-01-18T06:57:20.489Z"
   },
   {
    "duration": 4,
    "start_time": "2022-01-18T06:57:20.507Z"
   },
   {
    "duration": 19,
    "start_time": "2022-01-18T06:57:20.513Z"
   },
   {
    "duration": 47,
    "start_time": "2022-01-18T06:57:20.535Z"
   },
   {
    "duration": 12,
    "start_time": "2022-01-18T06:57:20.586Z"
   },
   {
    "duration": 32,
    "start_time": "2022-01-18T06:57:20.601Z"
   },
   {
    "duration": 29,
    "start_time": "2022-01-18T06:57:20.635Z"
   },
   {
    "duration": 3,
    "start_time": "2022-01-18T06:57:20.667Z"
   },
   {
    "duration": 6,
    "start_time": "2022-01-18T06:57:20.672Z"
   },
   {
    "duration": 7,
    "start_time": "2022-01-18T06:57:20.681Z"
   },
   {
    "duration": 13,
    "start_time": "2022-01-18T06:57:20.690Z"
   },
   {
    "duration": 65,
    "start_time": "2022-01-18T06:57:20.705Z"
   },
   {
    "duration": 5,
    "start_time": "2022-01-18T06:57:20.772Z"
   },
   {
    "duration": 6,
    "start_time": "2022-01-18T06:57:20.780Z"
   },
   {
    "duration": 4,
    "start_time": "2022-01-18T07:06:01.202Z"
   },
   {
    "duration": 554,
    "start_time": "2022-01-18T07:06:01.215Z"
   },
   {
    "duration": 5,
    "start_time": "2022-01-18T07:06:01.772Z"
   },
   {
    "duration": 285,
    "start_time": "2022-01-18T07:06:01.780Z"
   },
   {
    "duration": 225,
    "start_time": "2022-01-18T07:06:02.068Z"
   },
   {
    "duration": 8,
    "start_time": "2022-01-18T07:06:02.296Z"
   },
   {
    "duration": 18,
    "start_time": "2022-01-18T07:06:02.307Z"
   },
   {
    "duration": 164,
    "start_time": "2022-01-18T07:06:02.327Z"
   },
   {
    "duration": 79,
    "start_time": "2022-01-18T07:06:02.496Z"
   },
   {
    "duration": 44,
    "start_time": "2022-01-18T07:06:02.578Z"
   },
   {
    "duration": 106,
    "start_time": "2022-01-18T07:06:02.626Z"
   },
   {
    "duration": 61,
    "start_time": "2022-01-18T07:06:02.734Z"
   },
   {
    "duration": 51,
    "start_time": "2022-01-18T07:06:02.798Z"
   },
   {
    "duration": 7,
    "start_time": "2022-01-18T07:06:02.865Z"
   },
   {
    "duration": 78,
    "start_time": "2022-01-18T07:06:02.874Z"
   },
   {
    "duration": 40,
    "start_time": "2022-01-18T07:06:02.954Z"
   },
   {
    "duration": 28,
    "start_time": "2022-01-18T07:06:02.997Z"
   },
   {
    "duration": 7,
    "start_time": "2022-01-18T07:06:03.027Z"
   },
   {
    "duration": 43,
    "start_time": "2022-01-18T07:06:03.037Z"
   },
   {
    "duration": 19,
    "start_time": "2022-01-18T07:06:03.082Z"
   },
   {
    "duration": 4,
    "start_time": "2022-01-18T07:06:03.103Z"
   },
   {
    "duration": 12,
    "start_time": "2022-01-18T07:06:03.109Z"
   },
   {
    "duration": 45,
    "start_time": "2022-01-18T07:06:03.123Z"
   },
   {
    "duration": 11,
    "start_time": "2022-01-18T07:06:03.172Z"
   },
   {
    "duration": 36,
    "start_time": "2022-01-18T07:06:03.185Z"
   },
   {
    "duration": 8,
    "start_time": "2022-01-18T07:06:03.223Z"
   },
   {
    "duration": 9,
    "start_time": "2022-01-18T07:06:03.234Z"
   },
   {
    "duration": 21,
    "start_time": "2022-01-18T07:06:03.245Z"
   },
   {
    "duration": 16,
    "start_time": "2022-01-18T07:06:03.268Z"
   },
   {
    "duration": 12,
    "start_time": "2022-01-18T07:06:03.286Z"
   },
   {
    "duration": 42,
    "start_time": "2022-01-18T07:06:03.300Z"
   },
   {
    "duration": 5,
    "start_time": "2022-01-18T07:06:03.344Z"
   },
   {
    "duration": 10,
    "start_time": "2022-01-18T07:06:03.351Z"
   },
   {
    "duration": 6,
    "start_time": "2022-01-18T07:11:48.484Z"
   },
   {
    "duration": 530,
    "start_time": "2022-01-18T07:11:48.493Z"
   },
   {
    "duration": 7,
    "start_time": "2022-01-18T07:11:49.027Z"
   },
   {
    "duration": 278,
    "start_time": "2022-01-18T07:11:49.037Z"
   },
   {
    "duration": 212,
    "start_time": "2022-01-18T07:11:49.317Z"
   },
   {
    "duration": 7,
    "start_time": "2022-01-18T07:11:49.532Z"
   },
   {
    "duration": 32,
    "start_time": "2022-01-18T07:11:49.543Z"
   },
   {
    "duration": 147,
    "start_time": "2022-01-18T07:11:49.578Z"
   },
   {
    "duration": 73,
    "start_time": "2022-01-18T07:11:49.728Z"
   },
   {
    "duration": 71,
    "start_time": "2022-01-18T07:11:49.804Z"
   },
   {
    "duration": 69,
    "start_time": "2022-01-18T07:11:49.877Z"
   },
   {
    "duration": 57,
    "start_time": "2022-01-18T07:11:49.948Z"
   },
   {
    "duration": 71,
    "start_time": "2022-01-18T07:11:50.007Z"
   },
   {
    "duration": 6,
    "start_time": "2022-01-18T07:11:50.081Z"
   },
   {
    "duration": 86,
    "start_time": "2022-01-18T07:11:50.091Z"
   },
   {
    "duration": 42,
    "start_time": "2022-01-18T07:11:50.180Z"
   },
   {
    "duration": 46,
    "start_time": "2022-01-18T07:11:50.226Z"
   },
   {
    "duration": 7,
    "start_time": "2022-01-18T07:11:50.274Z"
   },
   {
    "duration": 16,
    "start_time": "2022-01-18T07:11:50.286Z"
   },
   {
    "duration": 18,
    "start_time": "2022-01-18T07:11:50.305Z"
   },
   {
    "duration": 4,
    "start_time": "2022-01-18T07:11:50.326Z"
   },
   {
    "duration": 40,
    "start_time": "2022-01-18T07:11:50.333Z"
   },
   {
    "duration": 23,
    "start_time": "2022-01-18T07:11:50.376Z"
   },
   {
    "duration": 12,
    "start_time": "2022-01-18T07:11:50.402Z"
   },
   {
    "duration": 74,
    "start_time": "2022-01-18T07:11:50.417Z"
   },
   {
    "duration": 3,
    "start_time": "2022-01-18T07:11:50.495Z"
   },
   {
    "duration": 6,
    "start_time": "2022-01-18T07:11:50.501Z"
   },
   {
    "duration": 8,
    "start_time": "2022-01-18T07:11:50.510Z"
   },
   {
    "duration": 7,
    "start_time": "2022-01-18T07:11:50.521Z"
   },
   {
    "duration": 7,
    "start_time": "2022-01-18T07:11:50.565Z"
   },
   {
    "duration": 37,
    "start_time": "2022-01-18T07:11:50.575Z"
   },
   {
    "duration": 6,
    "start_time": "2022-01-18T07:11:50.615Z"
   },
   {
    "duration": 41,
    "start_time": "2022-01-18T07:11:50.625Z"
   },
   {
    "duration": 4,
    "start_time": "2022-01-18T07:12:47.227Z"
   },
   {
    "duration": 513,
    "start_time": "2022-01-18T07:12:47.234Z"
   },
   {
    "duration": 6,
    "start_time": "2022-01-18T07:12:47.750Z"
   },
   {
    "duration": 252,
    "start_time": "2022-01-18T07:12:47.759Z"
   },
   {
    "duration": 214,
    "start_time": "2022-01-18T07:12:48.013Z"
   },
   {
    "duration": 8,
    "start_time": "2022-01-18T07:12:48.229Z"
   },
   {
    "duration": 31,
    "start_time": "2022-01-18T07:12:48.240Z"
   },
   {
    "duration": 147,
    "start_time": "2022-01-18T07:12:48.275Z"
   },
   {
    "duration": 74,
    "start_time": "2022-01-18T07:12:48.425Z"
   },
   {
    "duration": 67,
    "start_time": "2022-01-18T07:12:48.501Z"
   },
   {
    "duration": 67,
    "start_time": "2022-01-18T07:12:48.570Z"
   },
   {
    "duration": 55,
    "start_time": "2022-01-18T07:12:48.640Z"
   },
   {
    "duration": 48,
    "start_time": "2022-01-18T07:12:48.697Z"
   },
   {
    "duration": 18,
    "start_time": "2022-01-18T07:12:48.748Z"
   },
   {
    "duration": 62,
    "start_time": "2022-01-18T07:12:48.768Z"
   },
   {
    "duration": 51,
    "start_time": "2022-01-18T07:12:48.832Z"
   },
   {
    "duration": 25,
    "start_time": "2022-01-18T07:12:48.885Z"
   },
   {
    "duration": 7,
    "start_time": "2022-01-18T07:12:48.912Z"
   },
   {
    "duration": 17,
    "start_time": "2022-01-18T07:12:48.921Z"
   },
   {
    "duration": 36,
    "start_time": "2022-01-18T07:12:48.941Z"
   },
   {
    "duration": 3,
    "start_time": "2022-01-18T07:12:48.980Z"
   },
   {
    "duration": 9,
    "start_time": "2022-01-18T07:12:48.985Z"
   },
   {
    "duration": 24,
    "start_time": "2022-01-18T07:12:48.998Z"
   },
   {
    "duration": 42,
    "start_time": "2022-01-18T07:12:49.025Z"
   },
   {
    "duration": 32,
    "start_time": "2022-01-18T07:12:49.069Z"
   },
   {
    "duration": 3,
    "start_time": "2022-01-18T07:12:49.104Z"
   },
   {
    "duration": 6,
    "start_time": "2022-01-18T07:12:49.109Z"
   },
   {
    "duration": 6,
    "start_time": "2022-01-18T07:12:49.118Z"
   },
   {
    "duration": 117,
    "start_time": "2022-01-18T07:12:49.126Z"
   },
   {
    "duration": -626,
    "start_time": "2022-01-18T07:12:49.871Z"
   },
   {
    "duration": -651,
    "start_time": "2022-01-18T07:12:49.898Z"
   },
   {
    "duration": -657,
    "start_time": "2022-01-18T07:12:49.905Z"
   },
   {
    "duration": -700,
    "start_time": "2022-01-18T07:12:49.949Z"
   },
   {
    "duration": 5,
    "start_time": "2022-01-18T07:13:18.632Z"
   },
   {
    "duration": 552,
    "start_time": "2022-01-18T07:13:18.639Z"
   },
   {
    "duration": 8,
    "start_time": "2022-01-18T07:13:19.194Z"
   },
   {
    "duration": 288,
    "start_time": "2022-01-18T07:13:19.205Z"
   },
   {
    "duration": 219,
    "start_time": "2022-01-18T07:13:19.496Z"
   },
   {
    "duration": 7,
    "start_time": "2022-01-18T07:13:19.717Z"
   },
   {
    "duration": 37,
    "start_time": "2022-01-18T07:13:19.728Z"
   },
   {
    "duration": 149,
    "start_time": "2022-01-18T07:13:19.768Z"
   },
   {
    "duration": 72,
    "start_time": "2022-01-18T07:13:19.920Z"
   },
   {
    "duration": 74,
    "start_time": "2022-01-18T07:13:19.994Z"
   },
   {
    "duration": 70,
    "start_time": "2022-01-18T07:13:20.071Z"
   },
   {
    "duration": 58,
    "start_time": "2022-01-18T07:13:20.144Z"
   },
   {
    "duration": 65,
    "start_time": "2022-01-18T07:13:20.205Z"
   },
   {
    "duration": 6,
    "start_time": "2022-01-18T07:13:20.272Z"
   },
   {
    "duration": 67,
    "start_time": "2022-01-18T07:13:20.280Z"
   },
   {
    "duration": 31,
    "start_time": "2022-01-18T07:13:20.366Z"
   },
   {
    "duration": 31,
    "start_time": "2022-01-18T07:13:20.400Z"
   },
   {
    "duration": 7,
    "start_time": "2022-01-18T07:13:20.434Z"
   },
   {
    "duration": 15,
    "start_time": "2022-01-18T07:13:20.466Z"
   },
   {
    "duration": 14,
    "start_time": "2022-01-18T07:13:20.484Z"
   },
   {
    "duration": 3,
    "start_time": "2022-01-18T07:13:20.501Z"
   },
   {
    "duration": 8,
    "start_time": "2022-01-18T07:13:20.506Z"
   },
   {
    "duration": 58,
    "start_time": "2022-01-18T07:13:20.516Z"
   },
   {
    "duration": 9,
    "start_time": "2022-01-18T07:13:20.576Z"
   },
   {
    "duration": 31,
    "start_time": "2022-01-18T07:13:20.587Z"
   },
   {
    "duration": 3,
    "start_time": "2022-01-18T07:13:20.620Z"
   },
   {
    "duration": 6,
    "start_time": "2022-01-18T07:13:20.625Z"
   },
   {
    "duration": 4,
    "start_time": "2022-01-18T07:13:20.665Z"
   },
   {
    "duration": 105,
    "start_time": "2022-01-18T07:13:20.671Z"
   },
   {
    "duration": -354,
    "start_time": "2022-01-18T07:13:21.133Z"
   },
   {
    "duration": -377,
    "start_time": "2022-01-18T07:13:21.157Z"
   },
   {
    "duration": -382,
    "start_time": "2022-01-18T07:13:21.163Z"
   },
   {
    "duration": -405,
    "start_time": "2022-01-18T07:13:21.188Z"
   },
   {
    "duration": 5,
    "start_time": "2022-01-18T07:15:13.242Z"
   },
   {
    "duration": 527,
    "start_time": "2022-01-18T07:15:13.249Z"
   },
   {
    "duration": 6,
    "start_time": "2022-01-18T07:15:13.779Z"
   },
   {
    "duration": 295,
    "start_time": "2022-01-18T07:15:13.789Z"
   },
   {
    "duration": 223,
    "start_time": "2022-01-18T07:15:14.088Z"
   },
   {
    "duration": 9,
    "start_time": "2022-01-18T07:15:14.315Z"
   },
   {
    "duration": 40,
    "start_time": "2022-01-18T07:15:14.328Z"
   },
   {
    "duration": 140,
    "start_time": "2022-01-18T07:15:14.372Z"
   },
   {
    "duration": 74,
    "start_time": "2022-01-18T07:15:14.514Z"
   },
   {
    "duration": 42,
    "start_time": "2022-01-18T07:15:14.590Z"
   },
   {
    "duration": 90,
    "start_time": "2022-01-18T07:15:14.634Z"
   },
   {
    "duration": 62,
    "start_time": "2022-01-18T07:15:14.726Z"
   },
   {
    "duration": 50,
    "start_time": "2022-01-18T07:15:14.790Z"
   },
   {
    "duration": 22,
    "start_time": "2022-01-18T07:15:14.843Z"
   },
   {
    "duration": 55,
    "start_time": "2022-01-18T07:15:14.868Z"
   },
   {
    "duration": 58,
    "start_time": "2022-01-18T07:15:14.926Z"
   },
   {
    "duration": 28,
    "start_time": "2022-01-18T07:15:14.987Z"
   },
   {
    "duration": 8,
    "start_time": "2022-01-18T07:15:15.017Z"
   },
   {
    "duration": 41,
    "start_time": "2022-01-18T07:15:15.032Z"
   },
   {
    "duration": 16,
    "start_time": "2022-01-18T07:15:15.076Z"
   },
   {
    "duration": 3,
    "start_time": "2022-01-18T07:15:15.094Z"
   },
   {
    "duration": 12,
    "start_time": "2022-01-18T07:15:15.100Z"
   },
   {
    "duration": 56,
    "start_time": "2022-01-18T07:15:15.115Z"
   },
   {
    "duration": 10,
    "start_time": "2022-01-18T07:15:15.174Z"
   },
   {
    "duration": 31,
    "start_time": "2022-01-18T07:15:15.186Z"
   },
   {
    "duration": 7,
    "start_time": "2022-01-18T07:15:15.219Z"
   },
   {
    "duration": 36,
    "start_time": "2022-01-18T07:15:15.228Z"
   },
   {
    "duration": 3,
    "start_time": "2022-01-18T07:15:15.267Z"
   },
   {
    "duration": 10,
    "start_time": "2022-01-18T07:15:15.272Z"
   },
   {
    "duration": 12,
    "start_time": "2022-01-18T07:15:15.284Z"
   },
   {
    "duration": 38,
    "start_time": "2022-01-18T07:15:15.298Z"
   },
   {
    "duration": 6,
    "start_time": "2022-01-18T07:15:15.338Z"
   },
   {
    "duration": 5,
    "start_time": "2022-01-18T07:15:15.365Z"
   },
   {
    "duration": 4,
    "start_time": "2022-01-18T07:15:54.021Z"
   },
   {
    "duration": 592,
    "start_time": "2022-01-18T07:15:54.032Z"
   },
   {
    "duration": 6,
    "start_time": "2022-01-18T07:15:54.627Z"
   },
   {
    "duration": 338,
    "start_time": "2022-01-18T07:15:54.636Z"
   },
   {
    "duration": 244,
    "start_time": "2022-01-18T07:15:54.977Z"
   },
   {
    "duration": 8,
    "start_time": "2022-01-18T07:15:55.223Z"
   },
   {
    "duration": 37,
    "start_time": "2022-01-18T07:15:55.234Z"
   },
   {
    "duration": 170,
    "start_time": "2022-01-18T07:15:55.274Z"
   },
   {
    "duration": 72,
    "start_time": "2022-01-18T07:15:55.450Z"
   },
   {
    "duration": 69,
    "start_time": "2022-01-18T07:15:55.525Z"
   },
   {
    "duration": 92,
    "start_time": "2022-01-18T07:15:55.597Z"
   },
   {
    "duration": 43,
    "start_time": "2022-01-18T07:15:55.691Z"
   },
   {
    "duration": 64,
    "start_time": "2022-01-18T07:15:55.737Z"
   },
   {
    "duration": 5,
    "start_time": "2022-01-18T07:15:55.804Z"
   },
   {
    "duration": 78,
    "start_time": "2022-01-18T07:15:55.811Z"
   },
   {
    "duration": 31,
    "start_time": "2022-01-18T07:15:55.891Z"
   },
   {
    "duration": 41,
    "start_time": "2022-01-18T07:15:55.924Z"
   },
   {
    "duration": 7,
    "start_time": "2022-01-18T07:15:55.967Z"
   },
   {
    "duration": 18,
    "start_time": "2022-01-18T07:15:55.977Z"
   },
   {
    "duration": 15,
    "start_time": "2022-01-18T07:15:55.997Z"
   },
   {
    "duration": 4,
    "start_time": "2022-01-18T07:15:56.014Z"
   },
   {
    "duration": 13,
    "start_time": "2022-01-18T07:15:56.020Z"
   },
   {
    "duration": 49,
    "start_time": "2022-01-18T07:15:56.036Z"
   },
   {
    "duration": 12,
    "start_time": "2022-01-18T07:15:56.090Z"
   },
   {
    "duration": 32,
    "start_time": "2022-01-18T07:15:56.105Z"
   },
   {
    "duration": 28,
    "start_time": "2022-01-18T07:15:56.139Z"
   },
   {
    "duration": 7,
    "start_time": "2022-01-18T07:15:56.169Z"
   },
   {
    "duration": 7,
    "start_time": "2022-01-18T07:15:56.179Z"
   },
   {
    "duration": 11,
    "start_time": "2022-01-18T07:15:56.189Z"
   },
   {
    "duration": 11,
    "start_time": "2022-01-18T07:15:56.203Z"
   },
   {
    "duration": 55,
    "start_time": "2022-01-18T07:15:56.217Z"
   },
   {
    "duration": 5,
    "start_time": "2022-01-18T07:15:56.275Z"
   },
   {
    "duration": 15,
    "start_time": "2022-01-18T07:15:56.282Z"
   },
   {
    "duration": 5,
    "start_time": "2022-01-18T07:16:44.223Z"
   },
   {
    "duration": 523,
    "start_time": "2022-01-18T07:16:44.232Z"
   },
   {
    "duration": 5,
    "start_time": "2022-01-18T07:16:44.758Z"
   },
   {
    "duration": 271,
    "start_time": "2022-01-18T07:16:44.766Z"
   },
   {
    "duration": 233,
    "start_time": "2022-01-18T07:16:45.039Z"
   },
   {
    "duration": 8,
    "start_time": "2022-01-18T07:16:45.274Z"
   },
   {
    "duration": 17,
    "start_time": "2022-01-18T07:16:45.285Z"
   },
   {
    "duration": 163,
    "start_time": "2022-01-18T07:16:45.305Z"
   },
   {
    "duration": 56,
    "start_time": "2022-01-18T07:16:45.470Z"
   },
   {
    "duration": 67,
    "start_time": "2022-01-18T07:16:45.529Z"
   },
   {
    "duration": 90,
    "start_time": "2022-01-18T07:16:45.598Z"
   },
   {
    "duration": 43,
    "start_time": "2022-01-18T07:16:45.691Z"
   },
   {
    "duration": 67,
    "start_time": "2022-01-18T07:16:45.736Z"
   },
   {
    "duration": 6,
    "start_time": "2022-01-18T07:16:45.806Z"
   },
   {
    "duration": 83,
    "start_time": "2022-01-18T07:16:45.815Z"
   },
   {
    "duration": 32,
    "start_time": "2022-01-18T07:16:45.900Z"
   },
   {
    "duration": 41,
    "start_time": "2022-01-18T07:16:45.934Z"
   },
   {
    "duration": 6,
    "start_time": "2022-01-18T07:16:45.977Z"
   },
   {
    "duration": 17,
    "start_time": "2022-01-18T07:16:45.988Z"
   },
   {
    "duration": 16,
    "start_time": "2022-01-18T07:16:46.008Z"
   },
   {
    "duration": 37,
    "start_time": "2022-01-18T07:16:46.027Z"
   },
   {
    "duration": 11,
    "start_time": "2022-01-18T07:16:46.067Z"
   },
   {
    "duration": 21,
    "start_time": "2022-01-18T07:16:46.080Z"
   },
   {
    "duration": 9,
    "start_time": "2022-01-18T07:16:46.104Z"
   },
   {
    "duration": 60,
    "start_time": "2022-01-18T07:16:46.116Z"
   },
   {
    "duration": 5,
    "start_time": "2022-01-18T07:16:46.178Z"
   },
   {
    "duration": 6,
    "start_time": "2022-01-18T07:16:46.186Z"
   },
   {
    "duration": 6,
    "start_time": "2022-01-18T07:16:46.194Z"
   },
   {
    "duration": 7,
    "start_time": "2022-01-18T07:16:46.202Z"
   },
   {
    "duration": 9,
    "start_time": "2022-01-18T07:16:46.211Z"
   },
   {
    "duration": 64,
    "start_time": "2022-01-18T07:16:46.223Z"
   },
   {
    "duration": 5,
    "start_time": "2022-01-18T07:16:46.290Z"
   },
   {
    "duration": 11,
    "start_time": "2022-01-18T07:16:46.297Z"
   },
   {
    "duration": 6,
    "start_time": "2022-01-18T07:18:01.781Z"
   },
   {
    "duration": 766,
    "start_time": "2022-01-18T07:18:01.791Z"
   },
   {
    "duration": 5,
    "start_time": "2022-01-18T07:18:02.560Z"
   },
   {
    "duration": 267,
    "start_time": "2022-01-18T07:18:02.568Z"
   },
   {
    "duration": 237,
    "start_time": "2022-01-18T07:18:02.838Z"
   },
   {
    "duration": 7,
    "start_time": "2022-01-18T07:18:03.077Z"
   },
   {
    "duration": 26,
    "start_time": "2022-01-18T07:18:03.088Z"
   },
   {
    "duration": 162,
    "start_time": "2022-01-18T07:18:03.117Z"
   },
   {
    "duration": 55,
    "start_time": "2022-01-18T07:18:03.281Z"
   },
   {
    "duration": 69,
    "start_time": "2022-01-18T07:18:03.338Z"
   },
   {
    "duration": 90,
    "start_time": "2022-01-18T07:18:03.409Z"
   },
   {
    "duration": 41,
    "start_time": "2022-01-18T07:18:03.501Z"
   },
   {
    "duration": 60,
    "start_time": "2022-01-18T07:18:03.545Z"
   },
   {
    "duration": 5,
    "start_time": "2022-01-18T07:18:03.608Z"
   },
   {
    "duration": 80,
    "start_time": "2022-01-18T07:18:03.615Z"
   },
   {
    "duration": 31,
    "start_time": "2022-01-18T07:18:03.698Z"
   },
   {
    "duration": 42,
    "start_time": "2022-01-18T07:18:03.731Z"
   },
   {
    "duration": 6,
    "start_time": "2022-01-18T07:18:03.776Z"
   },
   {
    "duration": 15,
    "start_time": "2022-01-18T07:18:03.786Z"
   },
   {
    "duration": 15,
    "start_time": "2022-01-18T07:18:03.804Z"
   },
   {
    "duration": 4,
    "start_time": "2022-01-18T07:18:03.821Z"
   },
   {
    "duration": 40,
    "start_time": "2022-01-18T07:18:03.827Z"
   },
   {
    "duration": 22,
    "start_time": "2022-01-18T07:18:03.870Z"
   },
   {
    "duration": 11,
    "start_time": "2022-01-18T07:18:03.894Z"
   },
   {
    "duration": 58,
    "start_time": "2022-01-18T07:18:03.908Z"
   },
   {
    "duration": 3,
    "start_time": "2022-01-18T07:18:03.969Z"
   },
   {
    "duration": 7,
    "start_time": "2022-01-18T07:18:03.974Z"
   },
   {
    "duration": 8,
    "start_time": "2022-01-18T07:18:03.984Z"
   },
   {
    "duration": 6,
    "start_time": "2022-01-18T07:18:03.994Z"
   },
   {
    "duration": 11,
    "start_time": "2022-01-18T07:18:04.002Z"
   },
   {
    "duration": 63,
    "start_time": "2022-01-18T07:18:04.015Z"
   },
   {
    "duration": 6,
    "start_time": "2022-01-18T07:18:04.080Z"
   },
   {
    "duration": 8,
    "start_time": "2022-01-18T07:18:04.088Z"
   },
   {
    "duration": 5,
    "start_time": "2022-01-18T07:18:49.049Z"
   },
   {
    "duration": 523,
    "start_time": "2022-01-18T07:18:49.060Z"
   },
   {
    "duration": 6,
    "start_time": "2022-01-18T07:18:49.585Z"
   },
   {
    "duration": 286,
    "start_time": "2022-01-18T07:18:49.594Z"
   },
   {
    "duration": 240,
    "start_time": "2022-01-18T07:18:49.883Z"
   },
   {
    "duration": 9,
    "start_time": "2022-01-18T07:18:50.127Z"
   },
   {
    "duration": 15,
    "start_time": "2022-01-18T07:18:50.166Z"
   },
   {
    "duration": 168,
    "start_time": "2022-01-18T07:18:50.184Z"
   },
   {
    "duration": 57,
    "start_time": "2022-01-18T07:18:50.364Z"
   },
   {
    "duration": 74,
    "start_time": "2022-01-18T07:18:50.424Z"
   },
   {
    "duration": 103,
    "start_time": "2022-01-18T07:18:50.501Z"
   },
   {
    "duration": 68,
    "start_time": "2022-01-18T07:18:50.607Z"
   },
   {
    "duration": 51,
    "start_time": "2022-01-18T07:18:50.678Z"
   },
   {
    "duration": 6,
    "start_time": "2022-01-18T07:18:50.731Z"
   },
   {
    "duration": 88,
    "start_time": "2022-01-18T07:18:50.739Z"
   },
   {
    "duration": 55,
    "start_time": "2022-01-18T07:18:50.829Z"
   },
   {
    "duration": 25,
    "start_time": "2022-01-18T07:18:50.888Z"
   },
   {
    "duration": 6,
    "start_time": "2022-01-18T07:18:50.916Z"
   },
   {
    "duration": 40,
    "start_time": "2022-01-18T07:18:50.925Z"
   },
   {
    "duration": 19,
    "start_time": "2022-01-18T07:18:50.968Z"
   },
   {
    "duration": 4,
    "start_time": "2022-01-18T07:18:50.989Z"
   },
   {
    "duration": 14,
    "start_time": "2022-01-18T07:18:50.996Z"
   },
   {
    "duration": 24,
    "start_time": "2022-01-18T07:18:51.013Z"
   },
   {
    "duration": 11,
    "start_time": "2022-01-18T07:18:51.066Z"
   },
   {
    "duration": 34,
    "start_time": "2022-01-18T07:18:51.080Z"
   },
   {
    "duration": 7,
    "start_time": "2022-01-18T07:18:51.117Z"
   },
   {
    "duration": 12,
    "start_time": "2022-01-18T07:18:51.127Z"
   },
   {
    "duration": 24,
    "start_time": "2022-01-18T07:18:51.141Z"
   },
   {
    "duration": 19,
    "start_time": "2022-01-18T07:18:51.167Z"
   },
   {
    "duration": 23,
    "start_time": "2022-01-18T07:18:51.188Z"
   },
   {
    "duration": 47,
    "start_time": "2022-01-18T07:18:51.213Z"
   },
   {
    "duration": 7,
    "start_time": "2022-01-18T07:18:51.262Z"
   },
   {
    "duration": 15,
    "start_time": "2022-01-18T07:18:51.272Z"
   },
   {
    "duration": 6,
    "start_time": "2022-01-18T07:28:15.353Z"
   },
   {
    "duration": 578,
    "start_time": "2022-01-18T07:28:15.363Z"
   },
   {
    "duration": 6,
    "start_time": "2022-01-18T07:28:15.944Z"
   },
   {
    "duration": 405,
    "start_time": "2022-01-18T07:28:15.953Z"
   },
   {
    "duration": 304,
    "start_time": "2022-01-18T07:28:16.361Z"
   },
   {
    "duration": 10,
    "start_time": "2022-01-18T07:28:16.668Z"
   },
   {
    "duration": 34,
    "start_time": "2022-01-18T07:28:16.683Z"
   },
   {
    "duration": 208,
    "start_time": "2022-01-18T07:28:16.720Z"
   },
   {
    "duration": 93,
    "start_time": "2022-01-18T07:28:16.931Z"
   },
   {
    "duration": 77,
    "start_time": "2022-01-18T07:28:17.027Z"
   },
   {
    "duration": 98,
    "start_time": "2022-01-18T07:28:17.107Z"
   },
   {
    "duration": 42,
    "start_time": "2022-01-18T07:28:17.208Z"
   },
   {
    "duration": 76,
    "start_time": "2022-01-18T07:28:17.253Z"
   },
   {
    "duration": 6,
    "start_time": "2022-01-18T07:28:17.332Z"
   },
   {
    "duration": 103,
    "start_time": "2022-01-18T07:28:17.341Z"
   },
   {
    "duration": 54,
    "start_time": "2022-01-18T07:28:17.447Z"
   },
   {
    "duration": 34,
    "start_time": "2022-01-18T07:28:17.504Z"
   },
   {
    "duration": 32,
    "start_time": "2022-01-18T07:28:17.541Z"
   },
   {
    "duration": 20,
    "start_time": "2022-01-18T07:28:17.581Z"
   },
   {
    "duration": 15,
    "start_time": "2022-01-18T07:28:17.604Z"
   },
   {
    "duration": 4,
    "start_time": "2022-01-18T07:28:17.621Z"
   },
   {
    "duration": 39,
    "start_time": "2022-01-18T07:28:17.627Z"
   },
   {
    "duration": 35,
    "start_time": "2022-01-18T07:28:17.669Z"
   },
   {
    "duration": 22,
    "start_time": "2022-01-18T07:28:17.706Z"
   },
   {
    "duration": 54,
    "start_time": "2022-01-18T07:28:17.730Z"
   },
   {
    "duration": 22,
    "start_time": "2022-01-18T07:28:17.789Z"
   },
   {
    "duration": 9,
    "start_time": "2022-01-18T07:28:17.814Z"
   },
   {
    "duration": 9,
    "start_time": "2022-01-18T07:28:17.826Z"
   },
   {
    "duration": 13,
    "start_time": "2022-01-18T07:28:17.837Z"
   },
   {
    "duration": 757,
    "start_time": "2022-01-18T07:28:17.853Z"
   },
   {
    "duration": -112,
    "start_time": "2022-01-18T07:28:18.725Z"
   },
   {
    "duration": -154,
    "start_time": "2022-01-18T07:28:18.768Z"
   },
   {
    "duration": -160,
    "start_time": "2022-01-18T07:28:18.776Z"
   },
   {
    "duration": 4,
    "start_time": "2022-01-18T07:34:20.000Z"
   },
   {
    "duration": 624,
    "start_time": "2022-01-18T07:34:20.006Z"
   },
   {
    "duration": 5,
    "start_time": "2022-01-18T07:34:20.633Z"
   },
   {
    "duration": 333,
    "start_time": "2022-01-18T07:34:20.641Z"
   },
   {
    "duration": 262,
    "start_time": "2022-01-18T07:34:20.977Z"
   },
   {
    "duration": 23,
    "start_time": "2022-01-18T07:34:21.242Z"
   },
   {
    "duration": 25,
    "start_time": "2022-01-18T07:34:21.269Z"
   },
   {
    "duration": 182,
    "start_time": "2022-01-18T07:34:21.297Z"
   },
   {
    "duration": 83,
    "start_time": "2022-01-18T07:34:21.487Z"
   },
   {
    "duration": 49,
    "start_time": "2022-01-18T07:34:21.574Z"
   },
   {
    "duration": 94,
    "start_time": "2022-01-18T07:34:21.626Z"
   },
   {
    "duration": 59,
    "start_time": "2022-01-18T07:34:21.723Z"
   },
   {
    "duration": 56,
    "start_time": "2022-01-18T07:34:21.785Z"
   },
   {
    "duration": 21,
    "start_time": "2022-01-18T07:34:21.844Z"
   },
   {
    "duration": 94,
    "start_time": "2022-01-18T07:34:21.871Z"
   },
   {
    "duration": 41,
    "start_time": "2022-01-18T07:34:21.967Z"
   },
   {
    "duration": 31,
    "start_time": "2022-01-18T07:34:22.010Z"
   },
   {
    "duration": 23,
    "start_time": "2022-01-18T07:34:22.043Z"
   },
   {
    "duration": 22,
    "start_time": "2022-01-18T07:34:22.074Z"
   },
   {
    "duration": 23,
    "start_time": "2022-01-18T07:34:22.100Z"
   },
   {
    "duration": 4,
    "start_time": "2022-01-18T07:34:22.126Z"
   },
   {
    "duration": 10,
    "start_time": "2022-01-18T07:34:22.166Z"
   },
   {
    "duration": 32,
    "start_time": "2022-01-18T07:34:22.179Z"
   },
   {
    "duration": 11,
    "start_time": "2022-01-18T07:34:22.214Z"
   },
   {
    "duration": 75,
    "start_time": "2022-01-18T07:34:22.228Z"
   },
   {
    "duration": 3,
    "start_time": "2022-01-18T07:34:22.305Z"
   },
   {
    "duration": 10,
    "start_time": "2022-01-18T07:34:22.311Z"
   },
   {
    "duration": 11,
    "start_time": "2022-01-18T07:34:22.324Z"
   },
   {
    "duration": 28,
    "start_time": "2022-01-18T07:34:22.338Z"
   },
   {
    "duration": 658,
    "start_time": "2022-01-18T07:34:22.370Z"
   },
   {
    "duration": -293,
    "start_time": "2022-01-18T07:34:23.324Z"
   },
   {
    "duration": -346,
    "start_time": "2022-01-18T07:34:23.379Z"
   },
   {
    "duration": -429,
    "start_time": "2022-01-18T07:34:23.463Z"
   },
   {
    "duration": 5,
    "start_time": "2022-01-18T07:37:22.639Z"
   },
   {
    "duration": 659,
    "start_time": "2022-01-18T07:37:22.650Z"
   },
   {
    "duration": 5,
    "start_time": "2022-01-18T07:37:23.312Z"
   },
   {
    "duration": 327,
    "start_time": "2022-01-18T07:37:23.320Z"
   },
   {
    "duration": 270,
    "start_time": "2022-01-18T07:37:23.650Z"
   },
   {
    "duration": 8,
    "start_time": "2022-01-18T07:37:23.923Z"
   },
   {
    "duration": 46,
    "start_time": "2022-01-18T07:37:23.934Z"
   },
   {
    "duration": 167,
    "start_time": "2022-01-18T07:37:23.984Z"
   },
   {
    "duration": 78,
    "start_time": "2022-01-18T07:37:24.167Z"
   },
   {
    "duration": 57,
    "start_time": "2022-01-18T07:37:24.266Z"
   },
   {
    "duration": 113,
    "start_time": "2022-01-18T07:37:24.326Z"
   },
   {
    "duration": 63,
    "start_time": "2022-01-18T07:37:24.443Z"
   },
   {
    "duration": 71,
    "start_time": "2022-01-18T07:37:24.509Z"
   },
   {
    "duration": 6,
    "start_time": "2022-01-18T07:37:24.584Z"
   },
   {
    "duration": 82,
    "start_time": "2022-01-18T07:37:24.593Z"
   },
   {
    "duration": 37,
    "start_time": "2022-01-18T07:37:24.679Z"
   },
   {
    "duration": 60,
    "start_time": "2022-01-18T07:37:24.719Z"
   },
   {
    "duration": 11,
    "start_time": "2022-01-18T07:37:24.782Z"
   },
   {
    "duration": 26,
    "start_time": "2022-01-18T07:37:24.797Z"
   },
   {
    "duration": 18,
    "start_time": "2022-01-18T07:37:24.826Z"
   },
   {
    "duration": 19,
    "start_time": "2022-01-18T07:37:24.847Z"
   },
   {
    "duration": 27,
    "start_time": "2022-01-18T07:37:24.870Z"
   },
   {
    "duration": 27,
    "start_time": "2022-01-18T07:37:24.900Z"
   },
   {
    "duration": 12,
    "start_time": "2022-01-18T07:37:24.932Z"
   },
   {
    "duration": 58,
    "start_time": "2022-01-18T07:37:24.947Z"
   },
   {
    "duration": 5,
    "start_time": "2022-01-18T07:37:25.007Z"
   },
   {
    "duration": 9,
    "start_time": "2022-01-18T07:37:25.014Z"
   },
   {
    "duration": 6,
    "start_time": "2022-01-18T07:37:25.025Z"
   },
   {
    "duration": 23,
    "start_time": "2022-01-18T07:37:25.068Z"
   },
   {
    "duration": 901,
    "start_time": "2022-01-18T07:37:25.094Z"
   },
   {
    "duration": -183,
    "start_time": "2022-01-18T07:37:26.180Z"
   },
   {
    "duration": -221,
    "start_time": "2022-01-18T07:37:26.220Z"
   },
   {
    "duration": -228,
    "start_time": "2022-01-18T07:37:26.228Z"
   },
   {
    "duration": 4,
    "start_time": "2022-01-18T07:42:16.097Z"
   },
   {
    "duration": 552,
    "start_time": "2022-01-18T07:42:16.104Z"
   },
   {
    "duration": 6,
    "start_time": "2022-01-18T07:42:16.659Z"
   },
   {
    "duration": 300,
    "start_time": "2022-01-18T07:42:16.669Z"
   },
   {
    "duration": 241,
    "start_time": "2022-01-18T07:42:16.972Z"
   },
   {
    "duration": 7,
    "start_time": "2022-01-18T07:42:17.216Z"
   },
   {
    "duration": 48,
    "start_time": "2022-01-18T07:42:17.227Z"
   },
   {
    "duration": 150,
    "start_time": "2022-01-18T07:42:17.279Z"
   },
   {
    "duration": 77,
    "start_time": "2022-01-18T07:42:17.432Z"
   },
   {
    "duration": 75,
    "start_time": "2022-01-18T07:42:17.511Z"
   },
   {
    "duration": 86,
    "start_time": "2022-01-18T07:42:17.589Z"
   },
   {
    "duration": 42,
    "start_time": "2022-01-18T07:42:17.680Z"
   },
   {
    "duration": 73,
    "start_time": "2022-01-18T07:42:17.724Z"
   },
   {
    "duration": 5,
    "start_time": "2022-01-18T07:42:17.800Z"
   },
   {
    "duration": 91,
    "start_time": "2022-01-18T07:42:17.808Z"
   },
   {
    "duration": 32,
    "start_time": "2022-01-18T07:42:17.901Z"
   },
   {
    "duration": 55,
    "start_time": "2022-01-18T07:42:17.936Z"
   },
   {
    "duration": 6,
    "start_time": "2022-01-18T07:42:17.994Z"
   },
   {
    "duration": 24,
    "start_time": "2022-01-18T07:42:18.004Z"
   },
   {
    "duration": 35,
    "start_time": "2022-01-18T07:42:18.031Z"
   },
   {
    "duration": 5,
    "start_time": "2022-01-18T07:42:18.070Z"
   },
   {
    "duration": 16,
    "start_time": "2022-01-18T07:42:18.077Z"
   },
   {
    "duration": 31,
    "start_time": "2022-01-18T07:42:18.096Z"
   },
   {
    "duration": 19,
    "start_time": "2022-01-18T07:42:18.129Z"
   },
   {
    "duration": 50,
    "start_time": "2022-01-18T07:42:18.150Z"
   },
   {
    "duration": 7,
    "start_time": "2022-01-18T07:42:18.203Z"
   },
   {
    "duration": 10,
    "start_time": "2022-01-18T07:42:18.212Z"
   },
   {
    "duration": 7,
    "start_time": "2022-01-18T07:42:18.224Z"
   },
   {
    "duration": 7,
    "start_time": "2022-01-18T07:42:18.234Z"
   },
   {
    "duration": 38,
    "start_time": "2022-01-18T07:42:18.243Z"
   },
   {
    "duration": 37,
    "start_time": "2022-01-18T07:42:18.283Z"
   },
   {
    "duration": 6,
    "start_time": "2022-01-18T07:42:18.322Z"
   },
   {
    "duration": 11,
    "start_time": "2022-01-18T07:42:18.330Z"
   },
   {
    "duration": 4,
    "start_time": "2022-01-18T07:42:59.239Z"
   },
   {
    "duration": 614,
    "start_time": "2022-01-18T07:42:59.248Z"
   },
   {
    "duration": 8,
    "start_time": "2022-01-18T07:42:59.865Z"
   },
   {
    "duration": 321,
    "start_time": "2022-01-18T07:42:59.878Z"
   },
   {
    "duration": 306,
    "start_time": "2022-01-18T07:43:00.202Z"
   },
   {
    "duration": 8,
    "start_time": "2022-01-18T07:43:00.511Z"
   },
   {
    "duration": 36,
    "start_time": "2022-01-18T07:43:00.521Z"
   },
   {
    "duration": 236,
    "start_time": "2022-01-18T07:43:00.560Z"
   },
   {
    "duration": 71,
    "start_time": "2022-01-18T07:43:00.800Z"
   },
   {
    "duration": 47,
    "start_time": "2022-01-18T07:43:00.876Z"
   },
   {
    "duration": 109,
    "start_time": "2022-01-18T07:43:00.926Z"
   },
   {
    "duration": 67,
    "start_time": "2022-01-18T07:43:01.038Z"
   },
   {
    "duration": 78,
    "start_time": "2022-01-18T07:43:01.108Z"
   },
   {
    "duration": 6,
    "start_time": "2022-01-18T07:43:01.189Z"
   },
   {
    "duration": 110,
    "start_time": "2022-01-18T07:43:01.198Z"
   },
   {
    "duration": 32,
    "start_time": "2022-01-18T07:43:01.311Z"
   },
   {
    "duration": 40,
    "start_time": "2022-01-18T07:43:01.346Z"
   },
   {
    "duration": 9,
    "start_time": "2022-01-18T07:43:01.388Z"
   },
   {
    "duration": 27,
    "start_time": "2022-01-18T07:43:01.399Z"
   },
   {
    "duration": 15,
    "start_time": "2022-01-18T07:43:01.428Z"
   },
   {
    "duration": 4,
    "start_time": "2022-01-18T07:43:01.445Z"
   },
   {
    "duration": 9,
    "start_time": "2022-01-18T07:43:01.470Z"
   },
   {
    "duration": 69,
    "start_time": "2022-01-18T07:43:01.481Z"
   },
   {
    "duration": 21,
    "start_time": "2022-01-18T07:43:01.554Z"
   },
   {
    "duration": 49,
    "start_time": "2022-01-18T07:43:01.578Z"
   },
   {
    "duration": 19,
    "start_time": "2022-01-18T07:43:01.629Z"
   },
   {
    "duration": 38,
    "start_time": "2022-01-18T07:43:01.650Z"
   },
   {
    "duration": 15,
    "start_time": "2022-01-18T07:43:01.690Z"
   },
   {
    "duration": 14,
    "start_time": "2022-01-18T07:43:01.707Z"
   },
   {
    "duration": 8,
    "start_time": "2022-01-18T07:43:01.724Z"
   },
   {
    "duration": 52,
    "start_time": "2022-01-18T07:43:01.734Z"
   },
   {
    "duration": 6,
    "start_time": "2022-01-18T07:43:01.789Z"
   },
   {
    "duration": 11,
    "start_time": "2022-01-18T07:43:01.798Z"
   },
   {
    "duration": 6,
    "start_time": "2022-01-18T07:43:19.200Z"
   },
   {
    "duration": 694,
    "start_time": "2022-01-18T07:43:19.210Z"
   },
   {
    "duration": 7,
    "start_time": "2022-01-18T07:43:19.909Z"
   },
   {
    "duration": 341,
    "start_time": "2022-01-18T07:43:19.920Z"
   },
   {
    "duration": 305,
    "start_time": "2022-01-18T07:43:20.266Z"
   },
   {
    "duration": 10,
    "start_time": "2022-01-18T07:43:20.575Z"
   },
   {
    "duration": 21,
    "start_time": "2022-01-18T07:43:20.590Z"
   },
   {
    "duration": 232,
    "start_time": "2022-01-18T07:43:20.615Z"
   },
   {
    "duration": 85,
    "start_time": "2022-01-18T07:43:20.849Z"
   },
   {
    "duration": 90,
    "start_time": "2022-01-18T07:43:20.937Z"
   },
   {
    "duration": 113,
    "start_time": "2022-01-18T07:43:21.029Z"
   },
   {
    "duration": 54,
    "start_time": "2022-01-18T07:43:21.145Z"
   },
   {
    "duration": 70,
    "start_time": "2022-01-18T07:43:21.202Z"
   },
   {
    "duration": 11,
    "start_time": "2022-01-18T07:43:21.275Z"
   },
   {
    "duration": 89,
    "start_time": "2022-01-18T07:43:21.290Z"
   },
   {
    "duration": 33,
    "start_time": "2022-01-18T07:43:21.383Z"
   },
   {
    "duration": 26,
    "start_time": "2022-01-18T07:43:21.419Z"
   },
   {
    "duration": 9,
    "start_time": "2022-01-18T07:43:21.466Z"
   },
   {
    "duration": 42,
    "start_time": "2022-01-18T07:43:21.481Z"
   },
   {
    "duration": 18,
    "start_time": "2022-01-18T07:43:21.526Z"
   },
   {
    "duration": 4,
    "start_time": "2022-01-18T07:43:21.546Z"
   },
   {
    "duration": 18,
    "start_time": "2022-01-18T07:43:21.552Z"
   },
   {
    "duration": 30,
    "start_time": "2022-01-18T07:43:21.573Z"
   },
   {
    "duration": 16,
    "start_time": "2022-01-18T07:43:21.610Z"
   },
   {
    "duration": 78,
    "start_time": "2022-01-18T07:43:21.631Z"
   },
   {
    "duration": 4,
    "start_time": "2022-01-18T07:43:21.713Z"
   },
   {
    "duration": 11,
    "start_time": "2022-01-18T07:43:21.720Z"
   },
   {
    "duration": 8,
    "start_time": "2022-01-18T07:43:21.734Z"
   },
   {
    "duration": 13,
    "start_time": "2022-01-18T07:43:21.764Z"
   },
   {
    "duration": 14,
    "start_time": "2022-01-18T07:43:21.780Z"
   },
   {
    "duration": 76,
    "start_time": "2022-01-18T07:43:21.798Z"
   },
   {
    "duration": 19,
    "start_time": "2022-01-18T07:43:21.878Z"
   },
   {
    "duration": 12,
    "start_time": "2022-01-18T07:43:21.899Z"
   },
   {
    "duration": 342,
    "start_time": "2022-01-18T07:54:54.583Z"
   },
   {
    "duration": 317,
    "start_time": "2022-01-18T07:56:23.478Z"
   },
   {
    "duration": 305,
    "start_time": "2022-01-18T07:57:20.349Z"
   },
   {
    "duration": 296,
    "start_time": "2022-01-18T07:57:39.111Z"
   },
   {
    "duration": 6,
    "start_time": "2022-01-18T07:57:47.605Z"
   },
   {
    "duration": 7,
    "start_time": "2022-01-18T07:57:55.915Z"
   },
   {
    "duration": 7,
    "start_time": "2022-01-18T07:58:37.165Z"
   },
   {
    "duration": 6,
    "start_time": "2022-01-18T07:58:38.006Z"
   },
   {
    "duration": 469,
    "start_time": "2022-01-18T07:59:29.985Z"
   },
   {
    "duration": 309,
    "start_time": "2022-01-18T08:00:22.790Z"
   },
   {
    "duration": 689,
    "start_time": "2022-01-18T08:01:05.747Z"
   },
   {
    "duration": 362,
    "start_time": "2022-01-18T08:01:25.574Z"
   },
   {
    "duration": 8,
    "start_time": "2022-01-18T08:01:49.782Z"
   },
   {
    "duration": 12,
    "start_time": "2022-01-18T08:02:00.902Z"
   },
   {
    "duration": 9,
    "start_time": "2022-01-18T08:02:30.183Z"
   },
   {
    "duration": 11,
    "start_time": "2022-01-18T08:02:33.004Z"
   },
   {
    "duration": 5,
    "start_time": "2022-01-18T08:05:40.187Z"
   },
   {
    "duration": 621,
    "start_time": "2022-01-18T08:05:40.199Z"
   },
   {
    "duration": 7,
    "start_time": "2022-01-18T08:05:40.823Z"
   },
   {
    "duration": 357,
    "start_time": "2022-01-18T08:05:40.834Z"
   },
   {
    "duration": 258,
    "start_time": "2022-01-18T08:05:41.195Z"
   },
   {
    "duration": 13,
    "start_time": "2022-01-18T08:05:41.456Z"
   },
   {
    "duration": 22,
    "start_time": "2022-01-18T08:05:41.474Z"
   },
   {
    "duration": 188,
    "start_time": "2022-01-18T08:05:41.498Z"
   },
   {
    "duration": 80,
    "start_time": "2022-01-18T08:05:41.690Z"
   },
   {
    "duration": 50,
    "start_time": "2022-01-18T08:05:41.778Z"
   },
   {
    "duration": 106,
    "start_time": "2022-01-18T08:05:41.830Z"
   },
   {
    "duration": 48,
    "start_time": "2022-01-18T08:05:41.938Z"
   },
   {
    "duration": 49,
    "start_time": "2022-01-18T08:05:41.989Z"
   },
   {
    "duration": 23,
    "start_time": "2022-01-18T08:05:42.041Z"
   },
   {
    "duration": 63,
    "start_time": "2022-01-18T08:05:42.067Z"
   },
   {
    "duration": 64,
    "start_time": "2022-01-18T08:05:42.133Z"
   },
   {
    "duration": 26,
    "start_time": "2022-01-18T08:05:42.200Z"
   },
   {
    "duration": 7,
    "start_time": "2022-01-18T08:05:42.229Z"
   },
   {
    "duration": 44,
    "start_time": "2022-01-18T08:05:42.238Z"
   },
   {
    "duration": 16,
    "start_time": "2022-01-18T08:05:42.285Z"
   },
   {
    "duration": 4,
    "start_time": "2022-01-18T08:05:42.303Z"
   },
   {
    "duration": 9,
    "start_time": "2022-01-18T08:05:42.310Z"
   },
   {
    "duration": 59,
    "start_time": "2022-01-18T08:05:42.321Z"
   },
   {
    "duration": 11,
    "start_time": "2022-01-18T08:05:42.385Z"
   },
   {
    "duration": 31,
    "start_time": "2022-01-18T08:05:42.399Z"
   },
   {
    "duration": 3,
    "start_time": "2022-01-18T08:05:42.432Z"
   },
   {
    "duration": 38,
    "start_time": "2022-01-18T08:05:42.438Z"
   },
   {
    "duration": 7,
    "start_time": "2022-01-18T08:05:42.479Z"
   },
   {
    "duration": 7,
    "start_time": "2022-01-18T08:05:42.488Z"
   },
   {
    "duration": 637,
    "start_time": "2022-01-18T08:05:42.497Z"
   },
   {
    "duration": -688,
    "start_time": "2022-01-18T08:05:43.825Z"
   },
   {
    "duration": -762,
    "start_time": "2022-01-18T08:05:43.900Z"
   },
   {
    "duration": -806,
    "start_time": "2022-01-18T08:05:43.946Z"
   },
   {
    "duration": -824,
    "start_time": "2022-01-18T08:05:43.965Z"
   },
   {
    "duration": -845,
    "start_time": "2022-01-18T08:05:43.988Z"
   },
   {
    "duration": 4,
    "start_time": "2022-01-18T08:06:11.933Z"
   },
   {
    "duration": 687,
    "start_time": "2022-01-18T08:06:11.940Z"
   },
   {
    "duration": 6,
    "start_time": "2022-01-18T08:06:12.630Z"
   },
   {
    "duration": 333,
    "start_time": "2022-01-18T08:06:12.639Z"
   },
   {
    "duration": 274,
    "start_time": "2022-01-18T08:06:12.975Z"
   },
   {
    "duration": 20,
    "start_time": "2022-01-18T08:06:13.252Z"
   },
   {
    "duration": 18,
    "start_time": "2022-01-18T08:06:13.279Z"
   },
   {
    "duration": 190,
    "start_time": "2022-01-18T08:06:13.299Z"
   },
   {
    "duration": 88,
    "start_time": "2022-01-18T08:06:13.494Z"
   },
   {
    "duration": 46,
    "start_time": "2022-01-18T08:06:13.586Z"
   },
   {
    "duration": 96,
    "start_time": "2022-01-18T08:06:13.635Z"
   },
   {
    "duration": 58,
    "start_time": "2022-01-18T08:06:13.734Z"
   },
   {
    "duration": 54,
    "start_time": "2022-01-18T08:06:13.795Z"
   },
   {
    "duration": 6,
    "start_time": "2022-01-18T08:06:13.864Z"
   },
   {
    "duration": 109,
    "start_time": "2022-01-18T08:06:13.874Z"
   },
   {
    "duration": 35,
    "start_time": "2022-01-18T08:06:13.987Z"
   },
   {
    "duration": 27,
    "start_time": "2022-01-18T08:06:14.025Z"
   },
   {
    "duration": 10,
    "start_time": "2022-01-18T08:06:14.064Z"
   },
   {
    "duration": 19,
    "start_time": "2022-01-18T08:06:14.078Z"
   },
   {
    "duration": 18,
    "start_time": "2022-01-18T08:06:14.099Z"
   },
   {
    "duration": 4,
    "start_time": "2022-01-18T08:06:14.120Z"
   },
   {
    "duration": 9,
    "start_time": "2022-01-18T08:06:14.164Z"
   },
   {
    "duration": 34,
    "start_time": "2022-01-18T08:06:14.182Z"
   },
   {
    "duration": 11,
    "start_time": "2022-01-18T08:06:14.219Z"
   },
   {
    "duration": 64,
    "start_time": "2022-01-18T08:06:14.233Z"
   },
   {
    "duration": 4,
    "start_time": "2022-01-18T08:06:14.300Z"
   },
   {
    "duration": 5,
    "start_time": "2022-01-18T08:06:14.311Z"
   },
   {
    "duration": 5,
    "start_time": "2022-01-18T08:06:14.319Z"
   },
   {
    "duration": 56,
    "start_time": "2022-01-18T08:06:14.327Z"
   },
   {
    "duration": 653,
    "start_time": "2022-01-18T08:06:14.385Z"
   },
   {
    "duration": -2038,
    "start_time": "2022-01-18T08:06:17.079Z"
   },
   {
    "duration": -2070,
    "start_time": "2022-01-18T08:06:17.113Z"
   },
   {
    "duration": -2098,
    "start_time": "2022-01-18T08:06:17.143Z"
   },
   {
    "duration": -2112,
    "start_time": "2022-01-18T08:06:17.158Z"
   },
   {
    "duration": -2127,
    "start_time": "2022-01-18T08:06:17.175Z"
   },
   {
    "duration": 5,
    "start_time": "2022-01-18T08:07:37.179Z"
   },
   {
    "duration": 593,
    "start_time": "2022-01-18T08:07:37.198Z"
   },
   {
    "duration": 8,
    "start_time": "2022-01-18T08:07:37.795Z"
   },
   {
    "duration": 308,
    "start_time": "2022-01-18T08:07:37.806Z"
   },
   {
    "duration": 306,
    "start_time": "2022-01-18T08:07:38.120Z"
   },
   {
    "duration": 10,
    "start_time": "2022-01-18T08:07:38.429Z"
   },
   {
    "duration": 47,
    "start_time": "2022-01-18T08:07:38.442Z"
   },
   {
    "duration": 212,
    "start_time": "2022-01-18T08:07:38.492Z"
   },
   {
    "duration": 98,
    "start_time": "2022-01-18T08:07:38.709Z"
   },
   {
    "duration": 84,
    "start_time": "2022-01-18T08:07:38.809Z"
   },
   {
    "duration": 101,
    "start_time": "2022-01-18T08:07:38.897Z"
   },
   {
    "duration": 44,
    "start_time": "2022-01-18T08:07:39.001Z"
   },
   {
    "duration": 83,
    "start_time": "2022-01-18T08:07:39.048Z"
   },
   {
    "duration": 5,
    "start_time": "2022-01-18T08:07:39.134Z"
   },
   {
    "duration": 89,
    "start_time": "2022-01-18T08:07:39.142Z"
   },
   {
    "duration": 58,
    "start_time": "2022-01-18T08:07:39.235Z"
   },
   {
    "duration": 34,
    "start_time": "2022-01-18T08:07:39.296Z"
   },
   {
    "duration": 12,
    "start_time": "2022-01-18T08:07:39.333Z"
   },
   {
    "duration": 22,
    "start_time": "2022-01-18T08:07:39.366Z"
   },
   {
    "duration": 34,
    "start_time": "2022-01-18T08:07:39.392Z"
   },
   {
    "duration": 5,
    "start_time": "2022-01-18T08:07:39.430Z"
   },
   {
    "duration": 33,
    "start_time": "2022-01-18T08:07:39.438Z"
   },
   {
    "duration": 36,
    "start_time": "2022-01-18T08:07:39.475Z"
   },
   {
    "duration": 12,
    "start_time": "2022-01-18T08:07:39.516Z"
   },
   {
    "duration": 89,
    "start_time": "2022-01-18T08:07:39.531Z"
   },
   {
    "duration": 4,
    "start_time": "2022-01-18T08:07:39.623Z"
   },
   {
    "duration": 10,
    "start_time": "2022-01-18T08:07:39.629Z"
   },
   {
    "duration": 30,
    "start_time": "2022-01-18T08:07:39.643Z"
   },
   {
    "duration": 8,
    "start_time": "2022-01-18T08:07:39.677Z"
   },
   {
    "duration": 747,
    "start_time": "2022-01-18T08:07:39.688Z"
   },
   {
    "duration": -843,
    "start_time": "2022-01-18T08:07:41.281Z"
   },
   {
    "duration": -911,
    "start_time": "2022-01-18T08:07:41.350Z"
   },
   {
    "duration": -959,
    "start_time": "2022-01-18T08:07:41.399Z"
   },
   {
    "duration": -1021,
    "start_time": "2022-01-18T08:07:41.463Z"
   },
   {
    "duration": -1154,
    "start_time": "2022-01-18T08:07:41.598Z"
   },
   {
    "duration": 5,
    "start_time": "2022-01-18T08:11:30.449Z"
   },
   {
    "duration": 746,
    "start_time": "2022-01-18T08:11:30.489Z"
   },
   {
    "duration": 8,
    "start_time": "2022-01-18T08:11:31.238Z"
   },
   {
    "duration": 354,
    "start_time": "2022-01-18T08:11:31.249Z"
   },
   {
    "duration": 264,
    "start_time": "2022-01-18T08:11:31.606Z"
   },
   {
    "duration": 7,
    "start_time": "2022-01-18T08:11:31.874Z"
   },
   {
    "duration": 26,
    "start_time": "2022-01-18T08:11:31.884Z"
   },
   {
    "duration": 196,
    "start_time": "2022-01-18T08:11:31.913Z"
   },
   {
    "duration": 85,
    "start_time": "2022-01-18T08:11:32.113Z"
   },
   {
    "duration": 81,
    "start_time": "2022-01-18T08:11:32.201Z"
   },
   {
    "duration": 89,
    "start_time": "2022-01-18T08:11:32.287Z"
   },
   {
    "duration": 48,
    "start_time": "2022-01-18T08:11:32.378Z"
   },
   {
    "duration": 75,
    "start_time": "2022-01-18T08:11:32.428Z"
   },
   {
    "duration": 5,
    "start_time": "2022-01-18T08:11:32.506Z"
   },
   {
    "duration": 100,
    "start_time": "2022-01-18T08:11:32.513Z"
   },
   {
    "duration": 56,
    "start_time": "2022-01-18T08:11:32.617Z"
   },
   {
    "duration": 34,
    "start_time": "2022-01-18T08:11:32.677Z"
   },
   {
    "duration": 8,
    "start_time": "2022-01-18T08:11:32.714Z"
   },
   {
    "duration": 46,
    "start_time": "2022-01-18T08:11:32.725Z"
   },
   {
    "duration": 20,
    "start_time": "2022-01-18T08:11:32.774Z"
   },
   {
    "duration": 4,
    "start_time": "2022-01-18T08:11:32.797Z"
   },
   {
    "duration": 11,
    "start_time": "2022-01-18T08:11:32.803Z"
   },
   {
    "duration": 53,
    "start_time": "2022-01-18T08:11:32.817Z"
   },
   {
    "duration": 14,
    "start_time": "2022-01-18T08:11:32.876Z"
   },
   {
    "duration": 51,
    "start_time": "2022-01-18T08:11:32.894Z"
   },
   {
    "duration": 4,
    "start_time": "2022-01-18T08:11:32.968Z"
   },
   {
    "duration": 25,
    "start_time": "2022-01-18T08:11:32.975Z"
   },
   {
    "duration": 9,
    "start_time": "2022-01-18T08:11:33.003Z"
   },
   {
    "duration": 19,
    "start_time": "2022-01-18T08:11:33.015Z"
   },
   {
    "duration": 5300,
    "start_time": "2022-01-18T08:11:33.037Z"
   },
   {
    "duration": -108,
    "start_time": "2022-01-18T08:11:38.449Z"
   },
   {
    "duration": -165,
    "start_time": "2022-01-18T08:11:38.508Z"
   },
   {
    "duration": -181,
    "start_time": "2022-01-18T08:11:38.526Z"
   },
   {
    "duration": -194,
    "start_time": "2022-01-18T08:11:38.542Z"
   },
   {
    "duration": -204,
    "start_time": "2022-01-18T08:11:38.554Z"
   },
   {
    "duration": 5,
    "start_time": "2022-01-18T08:16:04.996Z"
   },
   {
    "duration": 699,
    "start_time": "2022-01-18T08:16:05.022Z"
   },
   {
    "duration": 8,
    "start_time": "2022-01-18T08:16:05.725Z"
   },
   {
    "duration": 301,
    "start_time": "2022-01-18T08:16:05.737Z"
   },
   {
    "duration": 250,
    "start_time": "2022-01-18T08:16:06.041Z"
   },
   {
    "duration": 10,
    "start_time": "2022-01-18T08:16:06.294Z"
   },
   {
    "duration": 12,
    "start_time": "2022-01-18T08:16:06.307Z"
   },
   {
    "duration": 202,
    "start_time": "2022-01-18T08:16:06.322Z"
   },
   {
    "duration": 82,
    "start_time": "2022-01-18T08:16:06.527Z"
   },
   {
    "duration": 78,
    "start_time": "2022-01-18T08:16:06.620Z"
   },
   {
    "duration": 82,
    "start_time": "2022-01-18T08:16:06.701Z"
   },
   {
    "duration": 43,
    "start_time": "2022-01-18T08:16:06.788Z"
   },
   {
    "duration": 70,
    "start_time": "2022-01-18T08:16:06.833Z"
   },
   {
    "duration": 5,
    "start_time": "2022-01-18T08:16:06.906Z"
   },
   {
    "duration": 87,
    "start_time": "2022-01-18T08:16:06.913Z"
   },
   {
    "duration": 32,
    "start_time": "2022-01-18T08:16:07.002Z"
   },
   {
    "duration": 54,
    "start_time": "2022-01-18T08:16:07.036Z"
   },
   {
    "duration": 8,
    "start_time": "2022-01-18T08:16:07.093Z"
   },
   {
    "duration": 24,
    "start_time": "2022-01-18T08:16:07.104Z"
   },
   {
    "duration": 39,
    "start_time": "2022-01-18T08:16:07.130Z"
   },
   {
    "duration": 8,
    "start_time": "2022-01-18T08:16:07.173Z"
   },
   {
    "duration": 11,
    "start_time": "2022-01-18T08:16:07.185Z"
   },
   {
    "duration": 36,
    "start_time": "2022-01-18T08:16:07.198Z"
   },
   {
    "duration": 10,
    "start_time": "2022-01-18T08:16:07.238Z"
   },
   {
    "duration": 42,
    "start_time": "2022-01-18T08:16:07.266Z"
   },
   {
    "duration": 3,
    "start_time": "2022-01-18T08:16:07.311Z"
   },
   {
    "duration": 17,
    "start_time": "2022-01-18T08:16:07.316Z"
   },
   {
    "duration": 33,
    "start_time": "2022-01-18T08:16:07.336Z"
   },
   {
    "duration": 6,
    "start_time": "2022-01-18T08:16:07.372Z"
   },
   {
    "duration": 20,
    "start_time": "2022-01-18T08:16:07.380Z"
   },
   {
    "duration": 35,
    "start_time": "2022-01-18T08:16:07.403Z"
   },
   {
    "duration": 35,
    "start_time": "2022-01-18T08:16:07.440Z"
   },
   {
    "duration": 14,
    "start_time": "2022-01-18T08:16:07.478Z"
   },
   {
    "duration": 12,
    "start_time": "2022-01-18T08:16:07.494Z"
   },
   {
    "duration": 14,
    "start_time": "2022-01-18T08:16:07.509Z"
   },
   {
    "duration": 6,
    "start_time": "2022-01-18T08:19:23.586Z"
   },
   {
    "duration": 706,
    "start_time": "2022-01-18T08:19:23.597Z"
   },
   {
    "duration": 7,
    "start_time": "2022-01-18T08:19:24.307Z"
   },
   {
    "duration": 379,
    "start_time": "2022-01-18T08:19:24.317Z"
   },
   {
    "duration": 307,
    "start_time": "2022-01-18T08:19:24.699Z"
   },
   {
    "duration": 8,
    "start_time": "2022-01-18T08:19:25.008Z"
   },
   {
    "duration": 14,
    "start_time": "2022-01-18T08:19:25.019Z"
   },
   {
    "duration": 195,
    "start_time": "2022-01-18T08:19:25.036Z"
   },
   {
    "duration": 80,
    "start_time": "2022-01-18T08:19:25.234Z"
   },
   {
    "duration": 96,
    "start_time": "2022-01-18T08:19:25.317Z"
   },
   {
    "duration": 88,
    "start_time": "2022-01-18T08:19:25.417Z"
   },
   {
    "duration": 43,
    "start_time": "2022-01-18T08:19:25.507Z"
   },
   {
    "duration": 78,
    "start_time": "2022-01-18T08:19:25.553Z"
   },
   {
    "duration": 6,
    "start_time": "2022-01-18T08:19:25.634Z"
   },
   {
    "duration": 105,
    "start_time": "2022-01-18T08:19:25.643Z"
   },
   {
    "duration": 42,
    "start_time": "2022-01-18T08:19:25.751Z"
   },
   {
    "duration": 30,
    "start_time": "2022-01-18T08:19:25.795Z"
   },
   {
    "duration": 7,
    "start_time": "2022-01-18T08:19:25.827Z"
   },
   {
    "duration": 19,
    "start_time": "2022-01-18T08:19:25.868Z"
   },
   {
    "duration": 15,
    "start_time": "2022-01-18T08:19:25.890Z"
   },
   {
    "duration": 4,
    "start_time": "2022-01-18T08:19:25.907Z"
   },
   {
    "duration": 11,
    "start_time": "2022-01-18T08:19:25.913Z"
   },
   {
    "duration": 60,
    "start_time": "2022-01-18T08:19:25.926Z"
   },
   {
    "duration": 13,
    "start_time": "2022-01-18T08:19:25.989Z"
   },
   {
    "duration": 31,
    "start_time": "2022-01-18T08:19:26.004Z"
   },
   {
    "duration": 8,
    "start_time": "2022-01-18T08:19:26.066Z"
   },
   {
    "duration": 14,
    "start_time": "2022-01-18T08:19:26.076Z"
   },
   {
    "duration": 11,
    "start_time": "2022-01-18T08:19:26.092Z"
   },
   {
    "duration": 126,
    "start_time": "2022-01-18T08:19:26.106Z"
   },
   {
    "duration": -1076,
    "start_time": "2022-01-18T08:19:27.311Z"
   },
   {
    "duration": -1126,
    "start_time": "2022-01-18T08:19:27.363Z"
   },
   {
    "duration": -1140,
    "start_time": "2022-01-18T08:19:27.378Z"
   },
   {
    "duration": -1168,
    "start_time": "2022-01-18T08:19:27.408Z"
   },
   {
    "duration": -1212,
    "start_time": "2022-01-18T08:19:27.453Z"
   },
   {
    "duration": -1263,
    "start_time": "2022-01-18T08:19:27.506Z"
   },
   {
    "duration": 4,
    "start_time": "2022-01-18T08:19:39.139Z"
   },
   {
    "duration": 669,
    "start_time": "2022-01-18T08:19:39.146Z"
   },
   {
    "duration": 8,
    "start_time": "2022-01-18T08:19:39.819Z"
   },
   {
    "duration": 342,
    "start_time": "2022-01-18T08:19:39.830Z"
   },
   {
    "duration": 282,
    "start_time": "2022-01-18T08:19:40.183Z"
   },
   {
    "duration": 11,
    "start_time": "2022-01-18T08:19:40.469Z"
   },
   {
    "duration": 13,
    "start_time": "2022-01-18T08:19:40.483Z"
   },
   {
    "duration": 194,
    "start_time": "2022-01-18T08:19:40.499Z"
   },
   {
    "duration": 85,
    "start_time": "2022-01-18T08:19:40.697Z"
   },
   {
    "duration": 49,
    "start_time": "2022-01-18T08:19:40.786Z"
   },
   {
    "duration": 72,
    "start_time": "2022-01-18T08:19:40.865Z"
   },
   {
    "duration": 63,
    "start_time": "2022-01-18T08:19:40.939Z"
   },
   {
    "duration": 68,
    "start_time": "2022-01-18T08:19:41.005Z"
   },
   {
    "duration": 9,
    "start_time": "2022-01-18T08:19:41.076Z"
   },
   {
    "duration": 119,
    "start_time": "2022-01-18T08:19:41.087Z"
   },
   {
    "duration": 44,
    "start_time": "2022-01-18T08:19:41.209Z"
   },
   {
    "duration": 39,
    "start_time": "2022-01-18T08:19:41.256Z"
   },
   {
    "duration": 8,
    "start_time": "2022-01-18T08:19:41.298Z"
   },
   {
    "duration": 18,
    "start_time": "2022-01-18T08:19:41.309Z"
   },
   {
    "duration": 46,
    "start_time": "2022-01-18T08:19:41.329Z"
   },
   {
    "duration": 6,
    "start_time": "2022-01-18T08:19:41.378Z"
   },
   {
    "duration": 16,
    "start_time": "2022-01-18T08:19:41.389Z"
   },
   {
    "duration": 23,
    "start_time": "2022-01-18T08:19:41.408Z"
   },
   {
    "duration": 47,
    "start_time": "2022-01-18T08:19:41.434Z"
   },
   {
    "duration": 33,
    "start_time": "2022-01-18T08:19:41.485Z"
   },
   {
    "duration": 4,
    "start_time": "2022-01-18T08:19:41.521Z"
   },
   {
    "duration": 38,
    "start_time": "2022-01-18T08:19:41.531Z"
   },
   {
    "duration": 13,
    "start_time": "2022-01-18T08:19:41.573Z"
   },
   {
    "duration": 10,
    "start_time": "2022-01-18T08:19:41.589Z"
   },
   {
    "duration": 709,
    "start_time": "2022-01-18T08:19:41.602Z"
   },
   {
    "duration": -2602,
    "start_time": "2022-01-18T08:19:44.915Z"
   },
   {
    "duration": -2617,
    "start_time": "2022-01-18T08:19:44.932Z"
   },
   {
    "duration": -2651,
    "start_time": "2022-01-18T08:19:44.968Z"
   },
   {
    "duration": -2717,
    "start_time": "2022-01-18T08:19:45.036Z"
   },
   {
    "duration": -2777,
    "start_time": "2022-01-18T08:19:45.097Z"
   },
   {
    "duration": 5,
    "start_time": "2022-01-18T08:21:57.534Z"
   },
   {
    "duration": 595,
    "start_time": "2022-01-18T08:21:57.552Z"
   },
   {
    "duration": 5,
    "start_time": "2022-01-18T08:21:58.150Z"
   },
   {
    "duration": 306,
    "start_time": "2022-01-18T08:21:58.158Z"
   },
   {
    "duration": 244,
    "start_time": "2022-01-18T08:21:58.468Z"
   },
   {
    "duration": 7,
    "start_time": "2022-01-18T08:21:58.715Z"
   },
   {
    "duration": 14,
    "start_time": "2022-01-18T08:21:58.724Z"
   },
   {
    "duration": 167,
    "start_time": "2022-01-18T08:21:58.770Z"
   },
   {
    "duration": 79,
    "start_time": "2022-01-18T08:21:58.943Z"
   },
   {
    "duration": 83,
    "start_time": "2022-01-18T08:21:59.026Z"
   },
   {
    "duration": 95,
    "start_time": "2022-01-18T08:21:59.112Z"
   },
   {
    "duration": 45,
    "start_time": "2022-01-18T08:21:59.210Z"
   },
   {
    "duration": 60,
    "start_time": "2022-01-18T08:21:59.274Z"
   },
   {
    "duration": 5,
    "start_time": "2022-01-18T08:21:59.337Z"
   },
   {
    "duration": 100,
    "start_time": "2022-01-18T08:21:59.344Z"
   },
   {
    "duration": 49,
    "start_time": "2022-01-18T08:21:59.447Z"
   },
   {
    "duration": 25,
    "start_time": "2022-01-18T08:21:59.498Z"
   },
   {
    "duration": 6,
    "start_time": "2022-01-18T08:21:59.526Z"
   },
   {
    "duration": 46,
    "start_time": "2022-01-18T08:21:59.535Z"
   },
   {
    "duration": 18,
    "start_time": "2022-01-18T08:21:59.584Z"
   },
   {
    "duration": 3,
    "start_time": "2022-01-18T08:21:59.604Z"
   },
   {
    "duration": 9,
    "start_time": "2022-01-18T08:21:59.610Z"
   },
   {
    "duration": 52,
    "start_time": "2022-01-18T08:21:59.621Z"
   },
   {
    "duration": 12,
    "start_time": "2022-01-18T08:21:59.684Z"
   },
   {
    "duration": 32,
    "start_time": "2022-01-18T08:21:59.699Z"
   },
   {
    "duration": 6,
    "start_time": "2022-01-18T08:21:59.734Z"
   },
   {
    "duration": 42,
    "start_time": "2022-01-18T08:21:59.742Z"
   },
   {
    "duration": 12,
    "start_time": "2022-01-18T08:21:59.786Z"
   },
   {
    "duration": 6,
    "start_time": "2022-01-18T08:21:59.801Z"
   },
   {
    "duration": 7,
    "start_time": "2022-01-18T08:21:59.810Z"
   },
   {
    "duration": 49,
    "start_time": "2022-01-18T08:21:59.820Z"
   },
   {
    "duration": 8,
    "start_time": "2022-01-18T08:21:59.873Z"
   },
   {
    "duration": 18,
    "start_time": "2022-01-18T08:21:59.884Z"
   },
   {
    "duration": 9,
    "start_time": "2022-01-18T08:21:59.905Z"
   },
   {
    "duration": 14,
    "start_time": "2022-01-18T08:21:59.917Z"
   },
   {
    "duration": 4,
    "start_time": "2022-01-18T08:23:36.329Z"
   },
   {
    "duration": 541,
    "start_time": "2022-01-18T08:23:36.344Z"
   },
   {
    "duration": 9,
    "start_time": "2022-01-18T08:23:36.888Z"
   },
   {
    "duration": 308,
    "start_time": "2022-01-18T08:23:36.901Z"
   },
   {
    "duration": 233,
    "start_time": "2022-01-18T08:23:37.212Z"
   },
   {
    "duration": 22,
    "start_time": "2022-01-18T08:23:37.447Z"
   },
   {
    "duration": 31,
    "start_time": "2022-01-18T08:23:37.471Z"
   },
   {
    "duration": 144,
    "start_time": "2022-01-18T08:23:37.505Z"
   },
   {
    "duration": 66,
    "start_time": "2022-01-18T08:23:37.666Z"
   },
   {
    "duration": 74,
    "start_time": "2022-01-18T08:23:37.735Z"
   },
   {
    "duration": 87,
    "start_time": "2022-01-18T08:23:37.812Z"
   },
   {
    "duration": 42,
    "start_time": "2022-01-18T08:23:37.901Z"
   },
   {
    "duration": 78,
    "start_time": "2022-01-18T08:23:37.946Z"
   },
   {
    "duration": 5,
    "start_time": "2022-01-18T08:23:38.026Z"
   },
   {
    "duration": 81,
    "start_time": "2022-01-18T08:23:38.034Z"
   },
   {
    "duration": 33,
    "start_time": "2022-01-18T08:23:38.118Z"
   },
   {
    "duration": 38,
    "start_time": "2022-01-18T08:23:38.153Z"
   },
   {
    "duration": 6,
    "start_time": "2022-01-18T08:23:38.194Z"
   },
   {
    "duration": 17,
    "start_time": "2022-01-18T08:23:38.203Z"
   },
   {
    "duration": 56,
    "start_time": "2022-01-18T08:23:38.222Z"
   },
   {
    "duration": 8,
    "start_time": "2022-01-18T08:23:38.281Z"
   },
   {
    "duration": 12,
    "start_time": "2022-01-18T08:23:38.292Z"
   },
   {
    "duration": 23,
    "start_time": "2022-01-18T08:23:38.306Z"
   },
   {
    "duration": 10,
    "start_time": "2022-01-18T08:23:38.334Z"
   },
   {
    "duration": 51,
    "start_time": "2022-01-18T08:23:38.372Z"
   },
   {
    "duration": 4,
    "start_time": "2022-01-18T08:23:38.426Z"
   },
   {
    "duration": 12,
    "start_time": "2022-01-18T08:23:38.433Z"
   },
   {
    "duration": 5,
    "start_time": "2022-01-18T08:23:38.447Z"
   },
   {
    "duration": 11,
    "start_time": "2022-01-18T08:23:38.455Z"
   },
   {
    "duration": 687,
    "start_time": "2022-01-18T08:23:38.473Z"
   },
   {
    "duration": -1287,
    "start_time": "2022-01-18T08:23:40.450Z"
   },
   {
    "duration": -1394,
    "start_time": "2022-01-18T08:23:40.559Z"
   },
   {
    "duration": -1456,
    "start_time": "2022-01-18T08:23:40.623Z"
   },
   {
    "duration": -1492,
    "start_time": "2022-01-18T08:23:40.661Z"
   },
   {
    "duration": -1501,
    "start_time": "2022-01-18T08:23:40.672Z"
   },
   {
    "duration": 4,
    "start_time": "2022-01-18T08:28:43.542Z"
   },
   {
    "duration": 571,
    "start_time": "2022-01-18T08:28:43.564Z"
   },
   {
    "duration": 5,
    "start_time": "2022-01-18T08:28:44.138Z"
   },
   {
    "duration": 305,
    "start_time": "2022-01-18T08:28:44.146Z"
   },
   {
    "duration": 260,
    "start_time": "2022-01-18T08:28:44.454Z"
   },
   {
    "duration": 8,
    "start_time": "2022-01-18T08:28:44.717Z"
   },
   {
    "duration": 21,
    "start_time": "2022-01-18T08:28:44.728Z"
   },
   {
    "duration": 160,
    "start_time": "2022-01-18T08:28:44.771Z"
   },
   {
    "duration": 74,
    "start_time": "2022-01-18T08:28:44.935Z"
   },
   {
    "duration": 81,
    "start_time": "2022-01-18T08:28:45.013Z"
   },
   {
    "duration": 75,
    "start_time": "2022-01-18T08:28:45.098Z"
   },
   {
    "duration": 52,
    "start_time": "2022-01-18T08:28:45.176Z"
   },
   {
    "duration": 79,
    "start_time": "2022-01-18T08:28:45.231Z"
   },
   {
    "duration": 7,
    "start_time": "2022-01-18T08:28:45.313Z"
   },
   {
    "duration": 74,
    "start_time": "2022-01-18T08:28:45.323Z"
   },
   {
    "duration": 31,
    "start_time": "2022-01-18T08:28:45.400Z"
   },
   {
    "duration": 53,
    "start_time": "2022-01-18T08:28:45.433Z"
   },
   {
    "duration": 8,
    "start_time": "2022-01-18T08:28:45.489Z"
   },
   {
    "duration": 33,
    "start_time": "2022-01-18T08:28:45.499Z"
   },
   {
    "duration": 46,
    "start_time": "2022-01-18T08:28:45.534Z"
   },
   {
    "duration": 18,
    "start_time": "2022-01-18T08:28:45.583Z"
   },
   {
    "duration": 27,
    "start_time": "2022-01-18T08:28:45.604Z"
   },
   {
    "duration": 45,
    "start_time": "2022-01-18T08:28:45.633Z"
   },
   {
    "duration": 35,
    "start_time": "2022-01-18T08:28:45.685Z"
   },
   {
    "duration": 67,
    "start_time": "2022-01-18T08:28:45.724Z"
   },
   {
    "duration": 3,
    "start_time": "2022-01-18T08:28:45.796Z"
   },
   {
    "duration": 25,
    "start_time": "2022-01-18T08:28:45.801Z"
   },
   {
    "duration": 21,
    "start_time": "2022-01-18T08:28:45.829Z"
   },
   {
    "duration": 46,
    "start_time": "2022-01-18T08:28:45.852Z"
   },
   {
    "duration": 658,
    "start_time": "2022-01-18T08:28:45.900Z"
   },
   {
    "duration": -975,
    "start_time": "2022-01-18T08:28:47.536Z"
   },
   {
    "duration": -1002,
    "start_time": "2022-01-18T08:28:47.565Z"
   },
   {
    "duration": -1034,
    "start_time": "2022-01-18T08:28:47.599Z"
   },
   {
    "duration": -1070,
    "start_time": "2022-01-18T08:28:47.637Z"
   },
   {
    "duration": -1099,
    "start_time": "2022-01-18T08:28:47.671Z"
   },
   {
    "duration": 5,
    "start_time": "2022-01-18T08:36:24.857Z"
   },
   {
    "duration": 613,
    "start_time": "2022-01-18T08:36:24.867Z"
   },
   {
    "duration": 9,
    "start_time": "2022-01-18T08:36:25.483Z"
   },
   {
    "duration": 301,
    "start_time": "2022-01-18T08:36:25.495Z"
   },
   {
    "duration": 242,
    "start_time": "2022-01-18T08:36:25.799Z"
   },
   {
    "duration": 25,
    "start_time": "2022-01-18T08:36:26.044Z"
   },
   {
    "duration": 18,
    "start_time": "2022-01-18T08:36:26.072Z"
   },
   {
    "duration": 176,
    "start_time": "2022-01-18T08:36:26.094Z"
   },
   {
    "duration": 67,
    "start_time": "2022-01-18T08:36:26.274Z"
   },
   {
    "duration": 55,
    "start_time": "2022-01-18T08:36:26.365Z"
   },
   {
    "duration": 120,
    "start_time": "2022-01-18T08:36:26.423Z"
   },
   {
    "duration": 63,
    "start_time": "2022-01-18T08:36:26.547Z"
   },
   {
    "duration": 58,
    "start_time": "2022-01-18T08:36:26.613Z"
   },
   {
    "duration": 10,
    "start_time": "2022-01-18T08:36:26.677Z"
   },
   {
    "duration": 63,
    "start_time": "2022-01-18T08:36:26.692Z"
   },
   {
    "duration": 48,
    "start_time": "2022-01-18T08:36:26.757Z"
   },
   {
    "duration": 25,
    "start_time": "2022-01-18T08:36:26.807Z"
   },
   {
    "duration": 7,
    "start_time": "2022-01-18T08:36:26.834Z"
   },
   {
    "duration": 45,
    "start_time": "2022-01-18T08:36:26.843Z"
   },
   {
    "duration": 16,
    "start_time": "2022-01-18T08:36:26.894Z"
   },
   {
    "duration": 4,
    "start_time": "2022-01-18T08:36:26.913Z"
   },
   {
    "duration": 14,
    "start_time": "2022-01-18T08:36:26.919Z"
   },
   {
    "duration": 58,
    "start_time": "2022-01-18T08:36:26.935Z"
   },
   {
    "duration": 12,
    "start_time": "2022-01-18T08:36:27.000Z"
   },
   {
    "duration": 33,
    "start_time": "2022-01-18T08:36:27.015Z"
   },
   {
    "duration": 23,
    "start_time": "2022-01-18T08:36:27.070Z"
   },
   {
    "duration": 8,
    "start_time": "2022-01-18T08:36:27.096Z"
   },
   {
    "duration": 8,
    "start_time": "2022-01-18T08:36:27.107Z"
   },
   {
    "duration": 11,
    "start_time": "2022-01-18T08:36:27.117Z"
   },
   {
    "duration": 711,
    "start_time": "2022-01-18T08:36:27.130Z"
   },
   {
    "duration": -706,
    "start_time": "2022-01-18T08:36:28.549Z"
   },
   {
    "duration": -745,
    "start_time": "2022-01-18T08:36:28.590Z"
   },
   {
    "duration": -924,
    "start_time": "2022-01-18T08:36:28.771Z"
   },
   {
    "duration": -975,
    "start_time": "2022-01-18T08:36:28.823Z"
   },
   {
    "duration": -1033,
    "start_time": "2022-01-18T08:36:28.883Z"
   },
   {
    "duration": 3937,
    "start_time": "2022-01-18T10:33:36.259Z"
   },
   {
    "duration": -68,
    "start_time": "2022-01-18T10:33:40.266Z"
   },
   {
    "duration": 4,
    "start_time": "2022-01-18T11:09:58.032Z"
   },
   {
    "duration": 493,
    "start_time": "2022-01-18T11:09:58.083Z"
   },
   {
    "duration": 7,
    "start_time": "2022-01-18T11:09:58.579Z"
   },
   {
    "duration": 287,
    "start_time": "2022-01-18T11:09:58.590Z"
   },
   {
    "duration": 216,
    "start_time": "2022-01-18T11:09:58.880Z"
   },
   {
    "duration": 6,
    "start_time": "2022-01-18T11:09:59.099Z"
   },
   {
    "duration": 13,
    "start_time": "2022-01-18T11:09:59.108Z"
   },
   {
    "duration": 170,
    "start_time": "2022-01-18T11:09:59.123Z"
   },
   {
    "duration": 72,
    "start_time": "2022-01-18T11:09:59.298Z"
   },
   {
    "duration": 42,
    "start_time": "2022-01-18T11:09:59.374Z"
   },
   {
    "duration": 93,
    "start_time": "2022-01-18T11:09:59.419Z"
   },
   {
    "duration": 52,
    "start_time": "2022-01-18T11:09:59.515Z"
   },
   {
    "duration": 48,
    "start_time": "2022-01-18T11:09:59.570Z"
   },
   {
    "duration": 4,
    "start_time": "2022-01-18T11:09:59.621Z"
   },
   {
    "duration": 73,
    "start_time": "2022-01-18T11:09:59.628Z"
   },
   {
    "duration": 31,
    "start_time": "2022-01-18T11:09:59.704Z"
   },
   {
    "duration": 40,
    "start_time": "2022-01-18T11:09:59.738Z"
   },
   {
    "duration": 7,
    "start_time": "2022-01-18T11:09:59.780Z"
   },
   {
    "duration": 24,
    "start_time": "2022-01-18T11:09:59.789Z"
   },
   {
    "duration": 14,
    "start_time": "2022-01-18T11:09:59.815Z"
   },
   {
    "duration": 3,
    "start_time": "2022-01-18T11:09:59.832Z"
   },
   {
    "duration": 33,
    "start_time": "2022-01-18T11:09:59.837Z"
   },
   {
    "duration": 23,
    "start_time": "2022-01-18T11:09:59.873Z"
   },
   {
    "duration": 10,
    "start_time": "2022-01-18T11:09:59.900Z"
   },
   {
    "duration": 56,
    "start_time": "2022-01-18T11:09:59.912Z"
   },
   {
    "duration": 3,
    "start_time": "2022-01-18T11:09:59.971Z"
   },
   {
    "duration": 9,
    "start_time": "2022-01-18T11:09:59.976Z"
   },
   {
    "duration": 5,
    "start_time": "2022-01-18T11:10:00.930Z"
   },
   {
    "duration": 34,
    "start_time": "2022-01-18T11:10:01.179Z"
   },
   {
    "duration": 6,
    "start_time": "2022-01-18T11:10:01.216Z"
   },
   {
    "duration": 12,
    "start_time": "2022-01-18T11:10:01.224Z"
   },
   {
    "duration": 25,
    "start_time": "2022-01-18T11:10:01.238Z"
   },
   {
    "duration": 14,
    "start_time": "2022-01-18T11:10:01.282Z"
   },
   {
    "duration": 4,
    "start_time": "2022-01-18T11:11:32.856Z"
   },
   {
    "duration": 502,
    "start_time": "2022-01-18T11:11:32.866Z"
   },
   {
    "duration": 6,
    "start_time": "2022-01-18T11:11:33.371Z"
   },
   {
    "duration": 273,
    "start_time": "2022-01-18T11:11:33.379Z"
   },
   {
    "duration": 212,
    "start_time": "2022-01-18T11:11:33.665Z"
   },
   {
    "duration": 7,
    "start_time": "2022-01-18T11:11:33.880Z"
   },
   {
    "duration": 31,
    "start_time": "2022-01-18T11:11:33.890Z"
   },
   {
    "duration": 153,
    "start_time": "2022-01-18T11:11:33.924Z"
   },
   {
    "duration": 83,
    "start_time": "2022-01-18T11:11:34.081Z"
   },
   {
    "duration": 46,
    "start_time": "2022-01-18T11:11:34.167Z"
   },
   {
    "duration": 89,
    "start_time": "2022-01-18T11:11:34.216Z"
   },
   {
    "duration": 42,
    "start_time": "2022-01-18T11:11:34.307Z"
   },
   {
    "duration": 58,
    "start_time": "2022-01-18T11:11:34.351Z"
   },
   {
    "duration": 6,
    "start_time": "2022-01-18T11:11:34.411Z"
   },
   {
    "duration": 80,
    "start_time": "2022-01-18T11:11:34.421Z"
   },
   {
    "duration": 32,
    "start_time": "2022-01-18T11:11:34.504Z"
   },
   {
    "duration": 42,
    "start_time": "2022-01-18T11:11:34.538Z"
   },
   {
    "duration": 7,
    "start_time": "2022-01-18T11:11:34.583Z"
   },
   {
    "duration": 19,
    "start_time": "2022-01-18T11:11:34.593Z"
   },
   {
    "duration": 18,
    "start_time": "2022-01-18T11:11:34.615Z"
   },
   {
    "duration": 4,
    "start_time": "2022-01-18T11:11:34.665Z"
   },
   {
    "duration": 10,
    "start_time": "2022-01-18T11:11:34.671Z"
   },
   {
    "duration": 24,
    "start_time": "2022-01-18T11:11:34.683Z"
   },
   {
    "duration": 10,
    "start_time": "2022-01-18T11:11:34.712Z"
   },
   {
    "duration": 64,
    "start_time": "2022-01-18T11:11:34.724Z"
   },
   {
    "duration": 3,
    "start_time": "2022-01-18T11:11:34.790Z"
   },
   {
    "duration": 7,
    "start_time": "2022-01-18T11:11:34.796Z"
   },
   {
    "duration": 7,
    "start_time": "2022-01-18T11:11:34.805Z"
   },
   {
    "duration": 60,
    "start_time": "2022-01-18T11:11:34.814Z"
   },
   {
    "duration": 5,
    "start_time": "2022-01-18T11:11:34.877Z"
   },
   {
    "duration": 7,
    "start_time": "2022-01-18T11:11:34.884Z"
   },
   {
    "duration": 8,
    "start_time": "2022-01-18T11:11:34.893Z"
   },
   {
    "duration": 16,
    "start_time": "2022-01-18T11:11:34.903Z"
   },
   {
    "duration": 4,
    "start_time": "2022-01-18T11:11:53.695Z"
   },
   {
    "duration": 487,
    "start_time": "2022-01-18T11:11:53.701Z"
   },
   {
    "duration": 5,
    "start_time": "2022-01-18T11:11:54.191Z"
   },
   {
    "duration": 240,
    "start_time": "2022-01-18T11:11:54.199Z"
   },
   {
    "duration": 226,
    "start_time": "2022-01-18T11:11:54.442Z"
   },
   {
    "duration": 8,
    "start_time": "2022-01-18T11:11:54.670Z"
   },
   {
    "duration": 12,
    "start_time": "2022-01-18T11:11:54.680Z"
   },
   {
    "duration": 187,
    "start_time": "2022-01-18T11:11:54.694Z"
   },
   {
    "duration": 79,
    "start_time": "2022-01-18T11:11:54.885Z"
   },
   {
    "duration": 48,
    "start_time": "2022-01-18T11:11:54.967Z"
   },
   {
    "duration": 91,
    "start_time": "2022-01-18T11:11:55.018Z"
   },
   {
    "duration": 61,
    "start_time": "2022-01-18T11:11:55.111Z"
   },
   {
    "duration": 51,
    "start_time": "2022-01-18T11:11:55.175Z"
   },
   {
    "duration": 6,
    "start_time": "2022-01-18T11:11:55.228Z"
   },
   {
    "duration": 79,
    "start_time": "2022-01-18T11:11:55.236Z"
   },
   {
    "duration": 31,
    "start_time": "2022-01-18T11:11:55.318Z"
   },
   {
    "duration": 34,
    "start_time": "2022-01-18T11:11:55.352Z"
   },
   {
    "duration": 6,
    "start_time": "2022-01-18T11:11:55.389Z"
   },
   {
    "duration": 15,
    "start_time": "2022-01-18T11:11:55.398Z"
   },
   {
    "duration": 14,
    "start_time": "2022-01-18T11:11:55.416Z"
   },
   {
    "duration": 4,
    "start_time": "2022-01-18T11:11:55.432Z"
   },
   {
    "duration": 16,
    "start_time": "2022-01-18T11:11:55.465Z"
   },
   {
    "duration": 21,
    "start_time": "2022-01-18T11:11:55.484Z"
   },
   {
    "duration": 10,
    "start_time": "2022-01-18T11:11:55.507Z"
   },
   {
    "duration": 66,
    "start_time": "2022-01-18T11:11:55.520Z"
   },
   {
    "duration": 2,
    "start_time": "2022-01-18T11:11:55.589Z"
   },
   {
    "duration": 13,
    "start_time": "2022-01-18T11:11:55.596Z"
   },
   {
    "duration": 11,
    "start_time": "2022-01-18T11:11:55.612Z"
   },
   {
    "duration": 53,
    "start_time": "2022-01-18T11:11:55.626Z"
   },
   {
    "duration": 5,
    "start_time": "2022-01-18T11:11:55.682Z"
   },
   {
    "duration": 9,
    "start_time": "2022-01-18T11:11:55.689Z"
   },
   {
    "duration": 11,
    "start_time": "2022-01-18T11:11:55.700Z"
   },
   {
    "duration": 15,
    "start_time": "2022-01-18T11:11:55.714Z"
   },
   {
    "duration": 5,
    "start_time": "2022-01-18T13:15:07.090Z"
   },
   {
    "duration": 4,
    "start_time": "2022-01-18T13:15:19.792Z"
   },
   {
    "duration": 584,
    "start_time": "2022-01-18T13:15:19.802Z"
   },
   {
    "duration": 6,
    "start_time": "2022-01-18T13:15:20.390Z"
   },
   {
    "duration": 270,
    "start_time": "2022-01-18T13:15:20.398Z"
   },
   {
    "duration": 226,
    "start_time": "2022-01-18T13:15:20.671Z"
   },
   {
    "duration": 7,
    "start_time": "2022-01-18T13:15:20.900Z"
   },
   {
    "duration": 28,
    "start_time": "2022-01-18T13:15:20.909Z"
   },
   {
    "duration": 168,
    "start_time": "2022-01-18T13:15:20.940Z"
   },
   {
    "duration": 75,
    "start_time": "2022-01-18T13:15:21.112Z"
   },
   {
    "duration": 48,
    "start_time": "2022-01-18T13:15:21.191Z"
   },
   {
    "duration": 68,
    "start_time": "2022-01-18T13:15:21.265Z"
   },
   {
    "duration": 55,
    "start_time": "2022-01-18T13:15:21.336Z"
   },
   {
    "duration": 53,
    "start_time": "2022-01-18T13:15:21.393Z"
   },
   {
    "duration": 6,
    "start_time": "2022-01-18T13:15:21.465Z"
   },
   {
    "duration": 51,
    "start_time": "2022-01-18T13:15:21.474Z"
   },
   {
    "duration": 65,
    "start_time": "2022-01-18T13:15:21.528Z"
   },
   {
    "duration": 27,
    "start_time": "2022-01-18T13:15:21.595Z"
   },
   {
    "duration": 7,
    "start_time": "2022-01-18T13:15:21.624Z"
   },
   {
    "duration": 41,
    "start_time": "2022-01-18T13:15:21.635Z"
   },
   {
    "duration": 18,
    "start_time": "2022-01-18T13:15:21.678Z"
   },
   {
    "duration": 4,
    "start_time": "2022-01-18T13:15:21.699Z"
   },
   {
    "duration": 11,
    "start_time": "2022-01-18T13:15:21.706Z"
   },
   {
    "duration": 65,
    "start_time": "2022-01-18T13:15:21.719Z"
   },
   {
    "duration": 16,
    "start_time": "2022-01-18T13:15:21.790Z"
   },
   {
    "duration": 33,
    "start_time": "2022-01-18T13:15:21.809Z"
   },
   {
    "duration": 4,
    "start_time": "2022-01-18T13:15:21.865Z"
   },
   {
    "duration": 9,
    "start_time": "2022-01-18T13:15:21.871Z"
   },
   {
    "duration": 4438,
    "start_time": "2022-01-18T13:15:21.882Z"
   },
   {
    "duration": 287,
    "start_time": "2022-01-18T13:15:26.036Z"
   },
   {
    "duration": 258,
    "start_time": "2022-01-18T13:15:26.066Z"
   },
   {
    "duration": 232,
    "start_time": "2022-01-18T13:15:26.094Z"
   },
   {
    "duration": 222,
    "start_time": "2022-01-18T13:15:26.105Z"
   },
   {
    "duration": 182,
    "start_time": "2022-01-18T13:15:26.147Z"
   },
   {
    "duration": 778,
    "start_time": "2022-01-18T13:15:44.387Z"
   },
   {
    "duration": 4,
    "start_time": "2022-01-18T13:15:48.732Z"
   },
   {
    "duration": 495,
    "start_time": "2022-01-18T13:15:48.744Z"
   },
   {
    "duration": 5,
    "start_time": "2022-01-18T13:15:49.242Z"
   },
   {
    "duration": 248,
    "start_time": "2022-01-18T13:15:49.250Z"
   },
   {
    "duration": 218,
    "start_time": "2022-01-18T13:15:49.501Z"
   },
   {
    "duration": 8,
    "start_time": "2022-01-18T13:15:49.721Z"
   },
   {
    "duration": 37,
    "start_time": "2022-01-18T13:15:49.732Z"
   },
   {
    "duration": 145,
    "start_time": "2022-01-18T13:15:49.771Z"
   },
   {
    "duration": 78,
    "start_time": "2022-01-18T13:15:49.922Z"
   },
   {
    "duration": 67,
    "start_time": "2022-01-18T13:15:50.003Z"
   },
   {
    "duration": 69,
    "start_time": "2022-01-18T13:15:50.073Z"
   },
   {
    "duration": 59,
    "start_time": "2022-01-18T13:15:50.145Z"
   },
   {
    "duration": 65,
    "start_time": "2022-01-18T13:15:50.206Z"
   },
   {
    "duration": 6,
    "start_time": "2022-01-18T13:15:50.274Z"
   },
   {
    "duration": 63,
    "start_time": "2022-01-18T13:15:50.282Z"
   },
   {
    "duration": 38,
    "start_time": "2022-01-18T13:15:50.347Z"
   },
   {
    "duration": 26,
    "start_time": "2022-01-18T13:15:50.388Z"
   },
   {
    "duration": 6,
    "start_time": "2022-01-18T13:15:50.417Z"
   },
   {
    "duration": 39,
    "start_time": "2022-01-18T13:15:50.425Z"
   },
   {
    "duration": 15,
    "start_time": "2022-01-18T13:15:50.467Z"
   },
   {
    "duration": 3,
    "start_time": "2022-01-18T13:15:50.484Z"
   },
   {
    "duration": 13,
    "start_time": "2022-01-18T13:15:50.490Z"
   },
   {
    "duration": 27,
    "start_time": "2022-01-18T13:15:50.505Z"
   },
   {
    "duration": 30,
    "start_time": "2022-01-18T13:15:50.536Z"
   },
   {
    "duration": 30,
    "start_time": "2022-01-18T13:15:50.568Z"
   },
   {
    "duration": 18,
    "start_time": "2022-01-18T13:15:50.601Z"
   },
   {
    "duration": 12,
    "start_time": "2022-01-18T13:15:50.621Z"
   },
   {
    "duration": 814,
    "start_time": "2022-01-18T13:15:50.635Z"
   },
   {
    "duration": 322,
    "start_time": "2022-01-18T13:15:51.129Z"
   },
   {
    "duration": 302,
    "start_time": "2022-01-18T13:15:51.151Z"
   },
   {
    "duration": 293,
    "start_time": "2022-01-18T13:15:51.161Z"
   },
   {
    "duration": 264,
    "start_time": "2022-01-18T13:15:51.192Z"
   },
   {
    "duration": 255,
    "start_time": "2022-01-18T13:15:51.202Z"
   },
   {
    "duration": 4,
    "start_time": "2022-01-18T13:19:13.360Z"
   },
   {
    "duration": 421,
    "start_time": "2022-01-18T13:19:14.092Z"
   },
   {
    "duration": 1463,
    "start_time": "2022-01-18T13:19:46.381Z"
   },
   {
    "duration": 33,
    "start_time": "2022-01-18T13:19:48.625Z"
   },
   {
    "duration": 4440,
    "start_time": "2022-01-18T13:20:02.744Z"
   },
   {
    "duration": 267,
    "start_time": "2022-01-18T13:20:06.919Z"
   },
   {
    "duration": 2399,
    "start_time": "2022-01-18T13:21:17.291Z"
   },
   {
    "duration": 30,
    "start_time": "2022-01-18T13:21:19.860Z"
   },
   {
    "duration": 1883,
    "start_time": "2022-01-18T13:32:24.302Z"
   },
   {
    "duration": 32,
    "start_time": "2022-01-18T13:32:26.452Z"
   },
   {
    "duration": 4,
    "start_time": "2022-01-18T13:32:45.293Z"
   },
   {
    "duration": 516,
    "start_time": "2022-01-18T13:32:45.304Z"
   },
   {
    "duration": 7,
    "start_time": "2022-01-18T13:32:45.824Z"
   },
   {
    "duration": 271,
    "start_time": "2022-01-18T13:32:45.835Z"
   },
   {
    "duration": 235,
    "start_time": "2022-01-18T13:32:46.110Z"
   },
   {
    "duration": 22,
    "start_time": "2022-01-18T13:32:46.347Z"
   },
   {
    "duration": 30,
    "start_time": "2022-01-18T13:32:46.372Z"
   },
   {
    "duration": 139,
    "start_time": "2022-01-18T13:32:46.404Z"
   },
   {
    "duration": 66,
    "start_time": "2022-01-18T13:32:46.548Z"
   },
   {
    "duration": 75,
    "start_time": "2022-01-18T13:32:46.618Z"
   },
   {
    "duration": 83,
    "start_time": "2022-01-18T13:32:46.695Z"
   },
   {
    "duration": 41,
    "start_time": "2022-01-18T13:32:46.780Z"
   },
   {
    "duration": 70,
    "start_time": "2022-01-18T13:32:46.824Z"
   },
   {
    "duration": 5,
    "start_time": "2022-01-18T13:32:46.897Z"
   },
   {
    "duration": 81,
    "start_time": "2022-01-18T13:32:46.904Z"
   },
   {
    "duration": 32,
    "start_time": "2022-01-18T13:32:46.987Z"
   },
   {
    "duration": 44,
    "start_time": "2022-01-18T13:32:47.021Z"
   },
   {
    "duration": 7,
    "start_time": "2022-01-18T13:32:47.067Z"
   },
   {
    "duration": 33,
    "start_time": "2022-01-18T13:32:47.077Z"
   },
   {
    "duration": 29,
    "start_time": "2022-01-18T13:32:47.113Z"
   },
   {
    "duration": 15,
    "start_time": "2022-01-18T13:32:47.145Z"
   },
   {
    "duration": 24,
    "start_time": "2022-01-18T13:32:47.162Z"
   },
   {
    "duration": 42,
    "start_time": "2022-01-18T13:32:47.188Z"
   },
   {
    "duration": 10,
    "start_time": "2022-01-18T13:32:47.234Z"
   },
   {
    "duration": 34,
    "start_time": "2022-01-18T13:32:47.247Z"
   },
   {
    "duration": 27,
    "start_time": "2022-01-18T13:32:47.283Z"
   },
   {
    "duration": 18,
    "start_time": "2022-01-18T13:32:47.312Z"
   },
   {
    "duration": 29,
    "start_time": "2022-01-18T13:32:47.333Z"
   },
   {
    "duration": 59,
    "start_time": "2022-01-18T13:32:47.364Z"
   },
   {
    "duration": 5,
    "start_time": "2022-01-18T13:32:47.426Z"
   },
   {
    "duration": 22,
    "start_time": "2022-01-18T13:32:47.434Z"
   },
   {
    "duration": 14,
    "start_time": "2022-01-18T13:32:47.459Z"
   },
   {
    "duration": 33,
    "start_time": "2022-01-18T13:32:47.476Z"
   },
   {
    "duration": 4,
    "start_time": "2022-01-18T13:33:30.025Z"
   },
   {
    "duration": 572,
    "start_time": "2022-01-18T13:33:30.033Z"
   },
   {
    "duration": 5,
    "start_time": "2022-01-18T13:33:30.609Z"
   },
   {
    "duration": 300,
    "start_time": "2022-01-18T13:33:30.617Z"
   },
   {
    "duration": 233,
    "start_time": "2022-01-18T13:33:30.920Z"
   },
   {
    "duration": 8,
    "start_time": "2022-01-18T13:33:31.165Z"
   },
   {
    "duration": 14,
    "start_time": "2022-01-18T13:33:31.176Z"
   },
   {
    "duration": 177,
    "start_time": "2022-01-18T13:33:31.193Z"
   },
   {
    "duration": 57,
    "start_time": "2022-01-18T13:33:31.373Z"
   },
   {
    "duration": 72,
    "start_time": "2022-01-18T13:33:31.432Z"
   },
   {
    "duration": 87,
    "start_time": "2022-01-18T13:33:31.507Z"
   },
   {
    "duration": 42,
    "start_time": "2022-01-18T13:33:31.597Z"
   },
   {
    "duration": 62,
    "start_time": "2022-01-18T13:33:31.641Z"
   },
   {
    "duration": 5,
    "start_time": "2022-01-18T13:33:31.705Z"
   },
   {
    "duration": 65,
    "start_time": "2022-01-18T13:33:31.713Z"
   },
   {
    "duration": 32,
    "start_time": "2022-01-18T13:33:31.780Z"
   },
   {
    "duration": 50,
    "start_time": "2022-01-18T13:33:31.815Z"
   },
   {
    "duration": 6,
    "start_time": "2022-01-18T13:33:31.867Z"
   },
   {
    "duration": 19,
    "start_time": "2022-01-18T13:33:31.878Z"
   },
   {
    "duration": 33,
    "start_time": "2022-01-18T13:33:31.900Z"
   },
   {
    "duration": 3,
    "start_time": "2022-01-18T13:33:31.935Z"
   },
   {
    "duration": 14,
    "start_time": "2022-01-18T13:33:31.941Z"
   },
   {
    "duration": 27,
    "start_time": "2022-01-18T13:33:31.957Z"
   },
   {
    "duration": 9,
    "start_time": "2022-01-18T13:33:31.987Z"
   },
   {
    "duration": 41,
    "start_time": "2022-01-18T13:33:31.998Z"
   },
   {
    "duration": 3,
    "start_time": "2022-01-18T13:33:32.065Z"
   },
   {
    "duration": 53,
    "start_time": "2022-01-18T13:33:32.071Z"
   },
   {
    "duration": 38,
    "start_time": "2022-01-18T13:33:32.127Z"
   },
   {
    "duration": 39,
    "start_time": "2022-01-18T13:33:32.167Z"
   },
   {
    "duration": 4,
    "start_time": "2022-01-18T13:33:32.209Z"
   },
   {
    "duration": 7,
    "start_time": "2022-01-18T13:33:32.216Z"
   },
   {
    "duration": 10,
    "start_time": "2022-01-18T13:33:32.226Z"
   },
   {
    "duration": 42,
    "start_time": "2022-01-18T13:33:32.238Z"
   },
   {
    "duration": 5,
    "start_time": "2022-01-18T13:35:13.910Z"
   },
   {
    "duration": 480,
    "start_time": "2022-01-18T13:35:13.918Z"
   },
   {
    "duration": 6,
    "start_time": "2022-01-18T13:35:14.401Z"
   },
   {
    "duration": 285,
    "start_time": "2022-01-18T13:35:14.410Z"
   },
   {
    "duration": 211,
    "start_time": "2022-01-18T13:35:14.697Z"
   },
   {
    "duration": 7,
    "start_time": "2022-01-18T13:35:14.910Z"
   },
   {
    "duration": 11,
    "start_time": "2022-01-18T13:35:14.921Z"
   },
   {
    "duration": 181,
    "start_time": "2022-01-18T13:35:14.935Z"
   },
   {
    "duration": 75,
    "start_time": "2022-01-18T13:35:15.120Z"
   },
   {
    "duration": 79,
    "start_time": "2022-01-18T13:35:15.198Z"
   },
   {
    "duration": 67,
    "start_time": "2022-01-18T13:35:15.280Z"
   },
   {
    "duration": 55,
    "start_time": "2022-01-18T13:35:15.349Z"
   },
   {
    "duration": 65,
    "start_time": "2022-01-18T13:35:15.406Z"
   },
   {
    "duration": 5,
    "start_time": "2022-01-18T13:35:15.473Z"
   },
   {
    "duration": 54,
    "start_time": "2022-01-18T13:35:15.481Z"
   },
   {
    "duration": 51,
    "start_time": "2022-01-18T13:35:15.538Z"
   },
   {
    "duration": 24,
    "start_time": "2022-01-18T13:35:15.592Z"
   },
   {
    "duration": 6,
    "start_time": "2022-01-18T13:35:15.618Z"
   },
   {
    "duration": 38,
    "start_time": "2022-01-18T13:35:15.629Z"
   },
   {
    "duration": 15,
    "start_time": "2022-01-18T13:35:15.670Z"
   },
   {
    "duration": 3,
    "start_time": "2022-01-18T13:35:15.687Z"
   },
   {
    "duration": 7,
    "start_time": "2022-01-18T13:35:15.692Z"
   },
   {
    "duration": 26,
    "start_time": "2022-01-18T13:35:15.702Z"
   },
   {
    "duration": 40,
    "start_time": "2022-01-18T13:35:15.730Z"
   },
   {
    "duration": 35,
    "start_time": "2022-01-18T13:35:15.772Z"
   },
   {
    "duration": 16,
    "start_time": "2022-01-18T13:35:15.810Z"
   },
   {
    "duration": 17,
    "start_time": "2022-01-18T13:35:15.829Z"
   },
   {
    "duration": 16,
    "start_time": "2022-01-18T13:35:15.849Z"
   },
   {
    "duration": 39,
    "start_time": "2022-01-18T13:35:15.867Z"
   },
   {
    "duration": 7,
    "start_time": "2022-01-18T13:35:15.908Z"
   },
   {
    "duration": 11,
    "start_time": "2022-01-18T13:35:15.918Z"
   },
   {
    "duration": 26,
    "start_time": "2022-01-18T13:35:15.932Z"
   },
   {
    "duration": 19,
    "start_time": "2022-01-18T13:35:15.965Z"
   },
   {
    "duration": 6,
    "start_time": "2022-01-18T13:45:39.592Z"
   },
   {
    "duration": 33,
    "start_time": "2022-01-18T13:45:43.563Z"
   },
   {
    "duration": 4,
    "start_time": "2022-01-18T13:45:50.011Z"
   },
   {
    "duration": 494,
    "start_time": "2022-01-18T13:45:50.019Z"
   },
   {
    "duration": 6,
    "start_time": "2022-01-18T13:45:50.517Z"
   },
   {
    "duration": 262,
    "start_time": "2022-01-18T13:45:50.526Z"
   },
   {
    "duration": 216,
    "start_time": "2022-01-18T13:45:50.791Z"
   },
   {
    "duration": 7,
    "start_time": "2022-01-18T13:45:51.010Z"
   },
   {
    "duration": 14,
    "start_time": "2022-01-18T13:45:51.019Z"
   },
   {
    "duration": 161,
    "start_time": "2022-01-18T13:45:51.036Z"
   },
   {
    "duration": 76,
    "start_time": "2022-01-18T13:45:51.201Z"
   },
   {
    "duration": 44,
    "start_time": "2022-01-18T13:45:51.280Z"
   },
   {
    "duration": 88,
    "start_time": "2022-01-18T13:45:51.326Z"
   },
   {
    "duration": 53,
    "start_time": "2022-01-18T13:45:51.417Z"
   },
   {
    "duration": 52,
    "start_time": "2022-01-18T13:45:51.472Z"
   },
   {
    "duration": 7,
    "start_time": "2022-01-18T13:45:51.526Z"
   },
   {
    "duration": 78,
    "start_time": "2022-01-18T13:45:51.536Z"
   },
   {
    "duration": 53,
    "start_time": "2022-01-18T13:45:51.617Z"
   },
   {
    "duration": 26,
    "start_time": "2022-01-18T13:45:51.672Z"
   },
   {
    "duration": 7,
    "start_time": "2022-01-18T13:45:51.701Z"
   },
   {
    "duration": 16,
    "start_time": "2022-01-18T13:45:51.712Z"
   },
   {
    "duration": 47,
    "start_time": "2022-01-18T13:45:51.731Z"
   },
   {
    "duration": 4,
    "start_time": "2022-01-18T13:45:51.781Z"
   },
   {
    "duration": 8,
    "start_time": "2022-01-18T13:45:51.787Z"
   },
   {
    "duration": 21,
    "start_time": "2022-01-18T13:45:51.798Z"
   },
   {
    "duration": 47,
    "start_time": "2022-01-18T13:45:51.821Z"
   },
   {
    "duration": 32,
    "start_time": "2022-01-18T13:45:51.870Z"
   },
   {
    "duration": 5,
    "start_time": "2022-01-18T13:45:51.904Z"
   },
   {
    "duration": 5,
    "start_time": "2022-01-18T13:45:51.914Z"
   },
   {
    "duration": 1386,
    "start_time": "2022-01-18T13:45:51.922Z"
   },
   {
    "duration": 335,
    "start_time": "2022-01-18T13:45:52.976Z"
   },
   {
    "duration": 229,
    "start_time": "2022-01-18T13:45:53.083Z"
   },
   {
    "duration": 85,
    "start_time": "2022-01-18T13:45:53.229Z"
   },
   {
    "duration": 40,
    "start_time": "2022-01-18T13:45:53.276Z"
   },
   {
    "duration": -34,
    "start_time": "2022-01-18T13:45:53.351Z"
   },
   {
    "duration": 5,
    "start_time": "2022-01-18T13:47:09.099Z"
   },
   {
    "duration": 473,
    "start_time": "2022-01-18T13:47:09.106Z"
   },
   {
    "duration": 5,
    "start_time": "2022-01-18T13:47:09.582Z"
   },
   {
    "duration": 302,
    "start_time": "2022-01-18T13:47:09.590Z"
   },
   {
    "duration": 236,
    "start_time": "2022-01-18T13:47:09.895Z"
   },
   {
    "duration": 31,
    "start_time": "2022-01-18T13:47:10.134Z"
   },
   {
    "duration": 11,
    "start_time": "2022-01-18T13:47:10.168Z"
   },
   {
    "duration": 161,
    "start_time": "2022-01-18T13:47:10.182Z"
   },
   {
    "duration": 70,
    "start_time": "2022-01-18T13:47:10.347Z"
   },
   {
    "duration": 75,
    "start_time": "2022-01-18T13:47:10.420Z"
   },
   {
    "duration": 91,
    "start_time": "2022-01-18T13:47:10.498Z"
   },
   {
    "duration": 43,
    "start_time": "2022-01-18T13:47:10.591Z"
   },
   {
    "duration": 62,
    "start_time": "2022-01-18T13:47:10.637Z"
   },
   {
    "duration": 6,
    "start_time": "2022-01-18T13:47:10.701Z"
   },
   {
    "duration": 71,
    "start_time": "2022-01-18T13:47:10.710Z"
   },
   {
    "duration": 30,
    "start_time": "2022-01-18T13:47:10.784Z"
   },
   {
    "duration": 49,
    "start_time": "2022-01-18T13:47:10.817Z"
   },
   {
    "duration": 6,
    "start_time": "2022-01-18T13:47:10.869Z"
   },
   {
    "duration": 15,
    "start_time": "2022-01-18T13:47:10.878Z"
   },
   {
    "duration": 14,
    "start_time": "2022-01-18T13:47:10.896Z"
   },
   {
    "duration": 4,
    "start_time": "2022-01-18T13:47:10.913Z"
   },
   {
    "duration": 9,
    "start_time": "2022-01-18T13:47:10.919Z"
   },
   {
    "duration": 54,
    "start_time": "2022-01-18T13:47:10.930Z"
   },
   {
    "duration": 10,
    "start_time": "2022-01-18T13:47:10.986Z"
   },
   {
    "duration": 31,
    "start_time": "2022-01-18T13:47:10.999Z"
   },
   {
    "duration": 3,
    "start_time": "2022-01-18T13:47:11.064Z"
   },
   {
    "duration": 6,
    "start_time": "2022-01-18T13:47:11.072Z"
   },
   {
    "duration": 1498,
    "start_time": "2022-01-18T13:47:11.080Z"
   },
   {
    "duration": 264,
    "start_time": "2022-01-18T13:47:12.317Z"
   },
   {
    "duration": 236,
    "start_time": "2022-01-18T13:47:12.346Z"
   },
   {
    "duration": 231,
    "start_time": "2022-01-18T13:47:12.353Z"
   },
   {
    "duration": 196,
    "start_time": "2022-01-18T13:47:12.389Z"
   },
   {
    "duration": 189,
    "start_time": "2022-01-18T13:47:12.398Z"
   },
   {
    "duration": 6,
    "start_time": "2022-01-18T13:56:15.004Z"
   },
   {
    "duration": 864,
    "start_time": "2022-01-18T13:56:15.021Z"
   },
   {
    "duration": 6,
    "start_time": "2022-01-18T13:56:15.888Z"
   },
   {
    "duration": 290,
    "start_time": "2022-01-18T13:56:15.897Z"
   },
   {
    "duration": 231,
    "start_time": "2022-01-18T13:56:16.191Z"
   },
   {
    "duration": 7,
    "start_time": "2022-01-18T13:56:16.425Z"
   },
   {
    "duration": 38,
    "start_time": "2022-01-18T13:56:16.434Z"
   },
   {
    "duration": 163,
    "start_time": "2022-01-18T13:56:16.476Z"
   },
   {
    "duration": 73,
    "start_time": "2022-01-18T13:56:16.645Z"
   },
   {
    "duration": 76,
    "start_time": "2022-01-18T13:56:16.722Z"
   },
   {
    "duration": 92,
    "start_time": "2022-01-18T13:56:16.801Z"
   },
   {
    "duration": 45,
    "start_time": "2022-01-18T13:56:16.896Z"
   },
   {
    "duration": 63,
    "start_time": "2022-01-18T13:56:16.944Z"
   },
   {
    "duration": 5,
    "start_time": "2022-01-18T13:56:17.010Z"
   },
   {
    "duration": 84,
    "start_time": "2022-01-18T13:56:17.018Z"
   },
   {
    "duration": 35,
    "start_time": "2022-01-18T13:56:17.105Z"
   },
   {
    "duration": 42,
    "start_time": "2022-01-18T13:56:17.143Z"
   },
   {
    "duration": 14,
    "start_time": "2022-01-18T13:56:17.187Z"
   },
   {
    "duration": 50,
    "start_time": "2022-01-18T13:56:17.203Z"
   },
   {
    "duration": 53,
    "start_time": "2022-01-18T13:56:17.255Z"
   },
   {
    "duration": 33,
    "start_time": "2022-01-18T13:56:17.310Z"
   },
   {
    "duration": 25,
    "start_time": "2022-01-18T13:56:17.345Z"
   },
   {
    "duration": 43,
    "start_time": "2022-01-18T13:56:17.373Z"
   },
   {
    "duration": 37,
    "start_time": "2022-01-18T13:56:17.422Z"
   },
   {
    "duration": 33,
    "start_time": "2022-01-18T13:56:17.462Z"
   },
   {
    "duration": 5,
    "start_time": "2022-01-18T13:56:17.497Z"
   },
   {
    "duration": 7,
    "start_time": "2022-01-18T13:56:17.504Z"
   },
   {
    "duration": 2328,
    "start_time": "2022-01-18T13:56:17.513Z"
   },
   {
    "duration": 205,
    "start_time": "2022-01-18T13:56:19.639Z"
   },
   {
    "duration": 172,
    "start_time": "2022-01-18T13:56:19.673Z"
   },
   {
    "duration": 129,
    "start_time": "2022-01-18T13:56:19.718Z"
   },
   {
    "duration": 98,
    "start_time": "2022-01-18T13:56:19.751Z"
   },
   {
    "duration": 90,
    "start_time": "2022-01-18T13:56:19.761Z"
   },
   {
    "duration": 4,
    "start_time": "2022-01-18T13:59:01.346Z"
   },
   {
    "duration": 539,
    "start_time": "2022-01-18T13:59:01.356Z"
   },
   {
    "duration": 6,
    "start_time": "2022-01-18T13:59:01.897Z"
   },
   {
    "duration": 319,
    "start_time": "2022-01-18T13:59:01.906Z"
   },
   {
    "duration": 217,
    "start_time": "2022-01-18T13:59:02.230Z"
   },
   {
    "duration": 8,
    "start_time": "2022-01-18T13:59:02.464Z"
   },
   {
    "duration": 44,
    "start_time": "2022-01-18T13:59:02.475Z"
   },
   {
    "duration": 166,
    "start_time": "2022-01-18T13:59:02.522Z"
   },
   {
    "duration": 76,
    "start_time": "2022-01-18T13:59:02.692Z"
   },
   {
    "duration": 47,
    "start_time": "2022-01-18T13:59:02.772Z"
   },
   {
    "duration": 97,
    "start_time": "2022-01-18T13:59:02.822Z"
   },
   {
    "duration": 48,
    "start_time": "2022-01-18T13:59:02.922Z"
   },
   {
    "duration": 49,
    "start_time": "2022-01-18T13:59:02.972Z"
   },
   {
    "duration": 5,
    "start_time": "2022-01-18T13:59:03.024Z"
   },
   {
    "duration": 82,
    "start_time": "2022-01-18T13:59:03.031Z"
   },
   {
    "duration": 30,
    "start_time": "2022-01-18T13:59:03.116Z"
   },
   {
    "duration": 51,
    "start_time": "2022-01-18T13:59:03.148Z"
   },
   {
    "duration": 15,
    "start_time": "2022-01-18T13:59:03.201Z"
   },
   {
    "duration": 48,
    "start_time": "2022-01-18T13:59:03.218Z"
   },
   {
    "duration": 54,
    "start_time": "2022-01-18T13:59:03.268Z"
   },
   {
    "duration": 20,
    "start_time": "2022-01-18T13:59:03.324Z"
   },
   {
    "duration": 41,
    "start_time": "2022-01-18T13:59:03.346Z"
   },
   {
    "duration": 65,
    "start_time": "2022-01-18T13:59:03.389Z"
   },
   {
    "duration": 30,
    "start_time": "2022-01-18T13:59:03.459Z"
   },
   {
    "duration": 68,
    "start_time": "2022-01-18T13:59:03.491Z"
   },
   {
    "duration": 41,
    "start_time": "2022-01-18T13:59:03.561Z"
   },
   {
    "duration": 38,
    "start_time": "2022-01-18T13:59:03.604Z"
   },
   {
    "duration": 8504,
    "start_time": "2022-01-18T13:59:03.644Z"
   },
   {
    "duration": 330,
    "start_time": "2022-01-18T13:59:11.821Z"
   },
   {
    "duration": 303,
    "start_time": "2022-01-18T13:59:11.850Z"
   },
   {
    "duration": 293,
    "start_time": "2022-01-18T13:59:11.862Z"
   },
   {
    "duration": 285,
    "start_time": "2022-01-18T13:59:11.873Z"
   },
   {
    "duration": 243,
    "start_time": "2022-01-18T13:59:11.918Z"
   },
   {
    "duration": 287,
    "start_time": "2022-01-18T14:00:51.696Z"
   },
   {
    "duration": 5,
    "start_time": "2022-01-18T14:01:14.021Z"
   },
   {
    "duration": 362,
    "start_time": "2022-01-18T14:01:15.159Z"
   },
   {
    "duration": 7933,
    "start_time": "2022-01-18T14:01:30.449Z"
   },
   {
    "duration": 259,
    "start_time": "2022-01-18T14:01:38.126Z"
   },
   {
    "duration": 8203,
    "start_time": "2022-01-18T14:05:23.438Z"
   },
   {
    "duration": 208,
    "start_time": "2022-01-18T14:05:31.436Z"
   },
   {
    "duration": 401,
    "start_time": "2022-01-18T14:07:06.438Z"
   },
   {
    "duration": 1096,
    "start_time": "2022-01-18T14:09:08.282Z"
   },
   {
    "duration": 6,
    "start_time": "2022-01-18T14:09:11.820Z"
   },
   {
    "duration": 1625,
    "start_time": "2022-01-18T14:09:12.602Z"
   },
   {
    "duration": 5,
    "start_time": "2022-01-18T14:10:21.417Z"
   },
   {
    "duration": 9534,
    "start_time": "2022-01-18T14:10:22.720Z"
   },
   {
    "duration": 243,
    "start_time": "2022-01-18T14:10:32.014Z"
   },
   {
    "duration": 4,
    "start_time": "2022-01-18T14:11:07.741Z"
   },
   {
    "duration": 7,
    "start_time": "2022-01-18T14:11:08.284Z"
   },
   {
    "duration": 95,
    "start_time": "2022-01-18T14:11:08.844Z"
   },
   {
    "duration": 6,
    "start_time": "2022-01-18T14:11:09.553Z"
   },
   {
    "duration": 5,
    "start_time": "2022-01-18T14:11:25.272Z"
   },
   {
    "duration": 7,
    "start_time": "2022-01-18T14:11:25.778Z"
   },
   {
    "duration": 36,
    "start_time": "2022-01-18T14:11:26.288Z"
   },
   {
    "duration": 5,
    "start_time": "2022-01-18T14:15:51.634Z"
   },
   {
    "duration": 48,
    "start_time": "2022-01-18T14:15:52.674Z"
   },
   {
    "duration": 42,
    "start_time": "2022-01-18T14:15:53.742Z"
   },
   {
    "duration": 4,
    "start_time": "2022-01-18T14:17:28.917Z"
   },
   {
    "duration": 1208,
    "start_time": "2022-01-18T14:17:30.389Z"
   },
   {
    "duration": 35,
    "start_time": "2022-01-18T14:17:32.735Z"
   },
   {
    "duration": 5,
    "start_time": "2022-01-18T14:19:25.714Z"
   },
   {
    "duration": 149,
    "start_time": "2022-01-18T14:19:26.839Z"
   },
   {
    "duration": 37,
    "start_time": "2022-01-18T14:19:28.276Z"
   },
   {
    "duration": 4,
    "start_time": "2022-01-18T14:19:52.013Z"
   },
   {
    "duration": 486,
    "start_time": "2022-01-18T14:19:52.020Z"
   },
   {
    "duration": 6,
    "start_time": "2022-01-18T14:19:52.509Z"
   },
   {
    "duration": 265,
    "start_time": "2022-01-18T14:19:52.518Z"
   },
   {
    "duration": 224,
    "start_time": "2022-01-18T14:19:52.786Z"
   },
   {
    "duration": 8,
    "start_time": "2022-01-18T14:19:53.012Z"
   },
   {
    "duration": 12,
    "start_time": "2022-01-18T14:19:53.023Z"
   },
   {
    "duration": 168,
    "start_time": "2022-01-18T14:19:53.038Z"
   },
   {
    "duration": 72,
    "start_time": "2022-01-18T14:19:53.210Z"
   },
   {
    "duration": 45,
    "start_time": "2022-01-18T14:19:53.285Z"
   },
   {
    "duration": 93,
    "start_time": "2022-01-18T14:19:53.333Z"
   },
   {
    "duration": 62,
    "start_time": "2022-01-18T14:19:53.429Z"
   },
   {
    "duration": 52,
    "start_time": "2022-01-18T14:19:53.494Z"
   },
   {
    "duration": 21,
    "start_time": "2022-01-18T14:19:53.548Z"
   },
   {
    "duration": 58,
    "start_time": "2022-01-18T14:19:53.572Z"
   },
   {
    "duration": 49,
    "start_time": "2022-01-18T14:19:53.632Z"
   },
   {
    "duration": 23,
    "start_time": "2022-01-18T14:19:53.684Z"
   },
   {
    "duration": 7,
    "start_time": "2022-01-18T14:19:53.711Z"
   },
   {
    "duration": 23,
    "start_time": "2022-01-18T14:19:53.720Z"
   },
   {
    "duration": 32,
    "start_time": "2022-01-18T14:19:53.745Z"
   },
   {
    "duration": 3,
    "start_time": "2022-01-18T14:19:53.779Z"
   },
   {
    "duration": 10,
    "start_time": "2022-01-18T14:19:53.785Z"
   },
   {
    "duration": 26,
    "start_time": "2022-01-18T14:19:53.798Z"
   },
   {
    "duration": 43,
    "start_time": "2022-01-18T14:19:53.827Z"
   },
   {
    "duration": 31,
    "start_time": "2022-01-18T14:19:53.873Z"
   },
   {
    "duration": 4,
    "start_time": "2022-01-18T14:19:53.907Z"
   },
   {
    "duration": 5,
    "start_time": "2022-01-18T14:19:53.915Z"
   },
   {
    "duration": 171,
    "start_time": "2022-01-18T14:19:53.922Z"
   },
   {
    "duration": 35,
    "start_time": "2022-01-18T14:19:54.095Z"
   },
   {
    "duration": 4,
    "start_time": "2022-01-18T14:19:54.133Z"
   },
   {
    "duration": 28,
    "start_time": "2022-01-18T14:19:54.140Z"
   },
   {
    "duration": 10,
    "start_time": "2022-01-18T14:19:54.170Z"
   },
   {
    "duration": 13,
    "start_time": "2022-01-18T14:19:54.183Z"
   },
   {
    "duration": 150,
    "start_time": "2022-01-18T14:20:44.482Z"
   },
   {
    "duration": 5,
    "start_time": "2022-01-18T14:20:52.142Z"
   },
   {
    "duration": 128,
    "start_time": "2022-01-18T14:20:53.201Z"
   },
   {
    "duration": 52,
    "start_time": "2022-01-18T14:20:53.653Z"
   },
   {
    "duration": 4,
    "start_time": "2022-01-18T14:23:49.619Z"
   },
   {
    "duration": 55,
    "start_time": "2022-01-18T14:23:50.206Z"
   },
   {
    "duration": 35,
    "start_time": "2022-01-18T14:23:50.516Z"
   },
   {
    "duration": 6,
    "start_time": "2022-01-18T14:29:57.820Z"
   },
   {
    "duration": 4480,
    "start_time": "2022-01-18T14:29:59.011Z"
   },
   {
    "duration": 305,
    "start_time": "2022-01-18T14:30:03.189Z"
   },
   {
    "duration": 4,
    "start_time": "2022-01-18T14:33:07.179Z"
   },
   {
    "duration": 583,
    "start_time": "2022-01-18T14:33:07.188Z"
   },
   {
    "duration": 7,
    "start_time": "2022-01-18T14:33:07.775Z"
   },
   {
    "duration": 320,
    "start_time": "2022-01-18T14:33:07.785Z"
   },
   {
    "duration": 239,
    "start_time": "2022-01-18T14:33:08.109Z"
   },
   {
    "duration": 16,
    "start_time": "2022-01-18T14:33:08.350Z"
   },
   {
    "duration": 18,
    "start_time": "2022-01-18T14:33:08.370Z"
   },
   {
    "duration": 240,
    "start_time": "2022-01-18T14:33:08.390Z"
   },
   {
    "duration": 78,
    "start_time": "2022-01-18T14:33:08.636Z"
   },
   {
    "duration": 73,
    "start_time": "2022-01-18T14:33:08.717Z"
   },
   {
    "duration": 87,
    "start_time": "2022-01-18T14:33:08.792Z"
   },
   {
    "duration": 43,
    "start_time": "2022-01-18T14:33:08.883Z"
   },
   {
    "duration": 76,
    "start_time": "2022-01-18T14:33:08.929Z"
   },
   {
    "duration": 5,
    "start_time": "2022-01-18T14:33:09.008Z"
   },
   {
    "duration": 76,
    "start_time": "2022-01-18T14:33:09.015Z"
   },
   {
    "duration": 31,
    "start_time": "2022-01-18T14:33:09.094Z"
   },
   {
    "duration": 46,
    "start_time": "2022-01-18T14:33:09.127Z"
   },
   {
    "duration": 9,
    "start_time": "2022-01-18T14:33:09.176Z"
   },
   {
    "duration": 19,
    "start_time": "2022-01-18T14:33:09.188Z"
   },
   {
    "duration": 17,
    "start_time": "2022-01-18T14:33:09.209Z"
   },
   {
    "duration": 37,
    "start_time": "2022-01-18T14:33:09.229Z"
   },
   {
    "duration": 11,
    "start_time": "2022-01-18T14:33:09.269Z"
   },
   {
    "duration": 41,
    "start_time": "2022-01-18T14:33:09.284Z"
   },
   {
    "duration": 34,
    "start_time": "2022-01-18T14:33:09.332Z"
   },
   {
    "duration": 38,
    "start_time": "2022-01-18T14:33:09.370Z"
   },
   {
    "duration": 4,
    "start_time": "2022-01-18T14:33:09.411Z"
   },
   {
    "duration": 5,
    "start_time": "2022-01-18T14:33:09.418Z"
   },
   {
    "duration": 4574,
    "start_time": "2022-01-18T14:33:09.425Z"
   },
   {
    "duration": 253,
    "start_time": "2022-01-18T14:33:13.750Z"
   },
   {
    "duration": 221,
    "start_time": "2022-01-18T14:33:13.784Z"
   },
   {
    "duration": 181,
    "start_time": "2022-01-18T14:33:13.825Z"
   },
   {
    "duration": 157,
    "start_time": "2022-01-18T14:33:13.850Z"
   },
   {
    "duration": 125,
    "start_time": "2022-01-18T14:33:13.884Z"
   },
   {
    "duration": 6211,
    "start_time": "2022-01-18T14:35:58.393Z"
   },
   {
    "duration": 305,
    "start_time": "2022-01-18T14:36:04.302Z"
   },
   {
    "duration": 5,
    "start_time": "2022-01-18T15:20:49.197Z"
   },
   {
    "duration": 4121,
    "start_time": "2022-01-18T15:20:50.753Z"
   },
   {
    "duration": 392,
    "start_time": "2022-01-18T15:20:54.485Z"
   },
   {
    "duration": 4,
    "start_time": "2022-01-18T15:21:25.002Z"
   },
   {
    "duration": 529,
    "start_time": "2022-01-18T15:21:25.009Z"
   },
   {
    "duration": 5,
    "start_time": "2022-01-18T15:21:25.542Z"
   },
   {
    "duration": 295,
    "start_time": "2022-01-18T15:21:25.551Z"
   },
   {
    "duration": 251,
    "start_time": "2022-01-18T15:21:25.850Z"
   },
   {
    "duration": 9,
    "start_time": "2022-01-18T15:21:26.104Z"
   },
   {
    "duration": 17,
    "start_time": "2022-01-18T15:21:26.115Z"
   },
   {
    "duration": 181,
    "start_time": "2022-01-18T15:21:26.135Z"
   },
   {
    "duration": 86,
    "start_time": "2022-01-18T15:21:26.320Z"
   },
   {
    "duration": 78,
    "start_time": "2022-01-18T15:21:26.410Z"
   },
   {
    "duration": 93,
    "start_time": "2022-01-18T15:21:26.491Z"
   },
   {
    "duration": 43,
    "start_time": "2022-01-18T15:21:26.587Z"
   },
   {
    "duration": 71,
    "start_time": "2022-01-18T15:21:26.633Z"
   },
   {
    "duration": 6,
    "start_time": "2022-01-18T15:21:26.706Z"
   },
   {
    "duration": 79,
    "start_time": "2022-01-18T15:21:26.715Z"
   },
   {
    "duration": 33,
    "start_time": "2022-01-18T15:21:26.796Z"
   },
   {
    "duration": 44,
    "start_time": "2022-01-18T15:21:26.832Z"
   },
   {
    "duration": 7,
    "start_time": "2022-01-18T15:21:26.878Z"
   },
   {
    "duration": 19,
    "start_time": "2022-01-18T15:21:26.887Z"
   },
   {
    "duration": 20,
    "start_time": "2022-01-18T15:21:26.909Z"
   },
   {
    "duration": 33,
    "start_time": "2022-01-18T15:21:26.932Z"
   },
   {
    "duration": 8,
    "start_time": "2022-01-18T15:21:26.967Z"
   },
   {
    "duration": 27,
    "start_time": "2022-01-18T15:21:26.977Z"
   },
   {
    "duration": 11,
    "start_time": "2022-01-18T15:21:27.006Z"
   },
   {
    "duration": 69,
    "start_time": "2022-01-18T15:21:27.019Z"
   },
   {
    "duration": 4,
    "start_time": "2022-01-18T15:21:27.091Z"
   },
   {
    "duration": 6,
    "start_time": "2022-01-18T15:21:27.100Z"
   },
   {
    "duration": 4458,
    "start_time": "2022-01-18T15:21:27.110Z"
   },
   {
    "duration": 395,
    "start_time": "2022-01-18T15:21:31.176Z"
   },
   {
    "duration": 387,
    "start_time": "2022-01-18T15:21:31.186Z"
   },
   {
    "duration": 345,
    "start_time": "2022-01-18T15:21:31.230Z"
   },
   {
    "duration": 322,
    "start_time": "2022-01-18T15:21:31.256Z"
   },
   {
    "duration": 318,
    "start_time": "2022-01-18T15:21:31.263Z"
   },
   {
    "duration": 6,
    "start_time": "2022-01-18T15:21:51.048Z"
   },
   {
    "duration": 6,
    "start_time": "2022-01-18T15:21:51.870Z"
   },
   {
    "duration": 6,
    "start_time": "2022-01-18T15:21:54.053Z"
   },
   {
    "duration": 410,
    "start_time": "2022-01-18T15:21:54.676Z"
   },
   {
    "duration": 34,
    "start_time": "2022-01-18T15:21:55.793Z"
   },
   {
    "duration": 5,
    "start_time": "2022-01-18T15:22:18.126Z"
   },
   {
    "duration": 274,
    "start_time": "2022-01-18T15:22:18.719Z"
   },
   {
    "duration": 35,
    "start_time": "2022-01-18T15:22:19.223Z"
   },
   {
    "duration": 5,
    "start_time": "2022-01-18T15:22:48.996Z"
   },
   {
    "duration": 3967,
    "start_time": "2022-01-18T15:22:49.898Z"
   },
   {
    "duration": 382,
    "start_time": "2022-01-18T15:22:53.486Z"
   },
   {
    "duration": 1539,
    "start_time": "2022-01-18T15:23:19.475Z"
   },
   {
    "duration": 6,
    "start_time": "2022-01-18T15:23:23.925Z"
   },
   {
    "duration": 288,
    "start_time": "2022-01-18T15:23:24.420Z"
   },
   {
    "duration": 38,
    "start_time": "2022-01-18T15:23:24.981Z"
   },
   {
    "duration": 6,
    "start_time": "2022-01-18T15:43:51.213Z"
   },
   {
    "duration": 314,
    "start_time": "2022-01-18T15:43:52.144Z"
   },
   {
    "duration": 33,
    "start_time": "2022-01-18T15:43:52.922Z"
   },
   {
    "duration": 6,
    "start_time": "2022-01-18T16:02:46.858Z"
   },
   {
    "duration": 3563,
    "start_time": "2022-01-18T16:02:47.568Z"
   },
   {
    "duration": 43,
    "start_time": "2022-01-18T16:02:51.134Z"
   },
   {
    "duration": 7,
    "start_time": "2022-01-18T16:03:35.754Z"
   },
   {
    "duration": 1658,
    "start_time": "2022-01-18T16:03:38.760Z"
   },
   {
    "duration": 6,
    "start_time": "2022-01-18T16:04:03.751Z"
   },
   {
    "duration": 879,
    "start_time": "2022-01-18T16:08:50.151Z"
   },
   {
    "duration": 35,
    "start_time": "2022-01-18T16:09:05.460Z"
   },
   {
    "duration": 5,
    "start_time": "2022-01-18T16:14:57.844Z"
   },
   {
    "duration": 5,
    "start_time": "2022-01-18T16:15:18.447Z"
   },
   {
    "duration": 543,
    "start_time": "2022-01-18T16:15:18.455Z"
   },
   {
    "duration": 6,
    "start_time": "2022-01-18T16:15:19.002Z"
   },
   {
    "duration": 324,
    "start_time": "2022-01-18T16:15:19.011Z"
   },
   {
    "duration": 227,
    "start_time": "2022-01-18T16:15:19.338Z"
   },
   {
    "duration": 11,
    "start_time": "2022-01-18T16:15:19.568Z"
   },
   {
    "duration": 23,
    "start_time": "2022-01-18T16:15:19.583Z"
   },
   {
    "duration": 170,
    "start_time": "2022-01-18T16:15:19.609Z"
   },
   {
    "duration": 61,
    "start_time": "2022-01-18T16:15:19.782Z"
   },
   {
    "duration": 74,
    "start_time": "2022-01-18T16:15:19.845Z"
   },
   {
    "duration": 69,
    "start_time": "2022-01-18T16:15:19.922Z"
   },
   {
    "duration": 44,
    "start_time": "2022-01-18T16:15:19.993Z"
   },
   {
    "duration": 70,
    "start_time": "2022-01-18T16:15:20.040Z"
   },
   {
    "duration": 9,
    "start_time": "2022-01-18T16:15:20.112Z"
   },
   {
    "duration": 89,
    "start_time": "2022-01-18T16:15:20.124Z"
   },
   {
    "duration": 65,
    "start_time": "2022-01-18T16:15:20.216Z"
   },
   {
    "duration": 82,
    "start_time": "2022-01-18T16:15:20.284Z"
   },
   {
    "duration": 8,
    "start_time": "2022-01-18T16:15:20.369Z"
   },
   {
    "duration": 90,
    "start_time": "2022-01-18T16:15:20.384Z"
   },
   {
    "duration": 18,
    "start_time": "2022-01-18T16:15:20.478Z"
   },
   {
    "duration": 52,
    "start_time": "2022-01-18T16:15:20.499Z"
   },
   {
    "duration": 58,
    "start_time": "2022-01-18T16:15:20.553Z"
   },
   {
    "duration": 44,
    "start_time": "2022-01-18T16:15:20.613Z"
   },
   {
    "duration": 67,
    "start_time": "2022-01-18T16:15:20.659Z"
   },
   {
    "duration": 59,
    "start_time": "2022-01-18T16:15:20.729Z"
   },
   {
    "duration": 29,
    "start_time": "2022-01-18T16:15:20.791Z"
   },
   {
    "duration": 23,
    "start_time": "2022-01-18T16:15:20.823Z"
   },
   {
    "duration": 45,
    "start_time": "2022-01-18T16:15:20.849Z"
   },
   {
    "duration": -299,
    "start_time": "2022-01-18T16:15:21.196Z"
   },
   {
    "duration": -319,
    "start_time": "2022-01-18T16:15:21.218Z"
   },
   {
    "duration": -326,
    "start_time": "2022-01-18T16:15:21.227Z"
   },
   {
    "duration": -344,
    "start_time": "2022-01-18T16:15:21.246Z"
   },
   {
    "duration": -359,
    "start_time": "2022-01-18T16:15:21.263Z"
   },
   {
    "duration": -381,
    "start_time": "2022-01-18T16:15:21.286Z"
   },
   {
    "duration": 6,
    "start_time": "2022-01-18T16:15:39.486Z"
   },
   {
    "duration": 4196,
    "start_time": "2022-01-18T16:15:40.749Z"
   },
   {
    "duration": 405,
    "start_time": "2022-01-18T16:15:44.543Z"
   },
   {
    "duration": 6,
    "start_time": "2022-01-18T16:16:03.486Z"
   },
   {
    "duration": 4059,
    "start_time": "2022-01-18T16:16:04.359Z"
   },
   {
    "duration": 266,
    "start_time": "2022-01-18T16:16:08.155Z"
   },
   {
    "duration": 501,
    "start_time": "2022-01-18T17:07:07.446Z"
   },
   {
    "duration": 48,
    "start_time": "2022-01-18T17:07:09.945Z"
   },
   {
    "duration": 8,
    "start_time": "2022-01-18T17:07:32.008Z"
   },
   {
    "duration": 458,
    "start_time": "2022-01-18T17:07:32.828Z"
   },
   {
    "duration": 35,
    "start_time": "2022-01-18T17:07:33.895Z"
   },
   {
    "duration": 7,
    "start_time": "2022-01-18T17:10:29.144Z"
   },
   {
    "duration": 639,
    "start_time": "2022-01-18T17:10:30.130Z"
   },
   {
    "duration": 33,
    "start_time": "2022-01-18T17:10:31.683Z"
   },
   {
    "duration": 10,
    "start_time": "2022-01-18T17:10:57.886Z"
   },
   {
    "duration": 447,
    "start_time": "2022-01-18T17:10:58.792Z"
   },
   {
    "duration": 36,
    "start_time": "2022-01-18T17:11:00.032Z"
   },
   {
    "duration": 16,
    "start_time": "2022-01-18T17:12:48.271Z"
   },
   {
    "duration": 439,
    "start_time": "2022-01-18T17:12:49.092Z"
   },
   {
    "duration": 42,
    "start_time": "2022-01-18T17:12:50.315Z"
   },
   {
    "duration": 11,
    "start_time": "2022-01-18T17:16:05.058Z"
   },
   {
    "duration": 422,
    "start_time": "2022-01-18T17:16:06.156Z"
   },
   {
    "duration": 33,
    "start_time": "2022-01-18T17:16:06.966Z"
   },
   {
    "duration": 5,
    "start_time": "2022-01-18T17:17:14.493Z"
   },
   {
    "duration": 469,
    "start_time": "2022-01-18T17:17:14.503Z"
   },
   {
    "duration": 5,
    "start_time": "2022-01-18T17:17:14.975Z"
   },
   {
    "duration": 300,
    "start_time": "2022-01-18T17:17:14.983Z"
   },
   {
    "duration": 216,
    "start_time": "2022-01-18T17:17:15.286Z"
   },
   {
    "duration": 9,
    "start_time": "2022-01-18T17:17:15.504Z"
   },
   {
    "duration": 12,
    "start_time": "2022-01-18T17:17:15.516Z"
   },
   {
    "duration": 164,
    "start_time": "2022-01-18T17:17:15.531Z"
   },
   {
    "duration": 82,
    "start_time": "2022-01-18T17:17:15.699Z"
   },
   {
    "duration": 47,
    "start_time": "2022-01-18T17:17:15.785Z"
   },
   {
    "duration": 90,
    "start_time": "2022-01-18T17:17:15.834Z"
   },
   {
    "duration": 62,
    "start_time": "2022-01-18T17:17:15.926Z"
   },
   {
    "duration": 49,
    "start_time": "2022-01-18T17:17:15.991Z"
   },
   {
    "duration": 21,
    "start_time": "2022-01-18T17:17:16.043Z"
   },
   {
    "duration": 50,
    "start_time": "2022-01-18T17:17:16.067Z"
   },
   {
    "duration": 52,
    "start_time": "2022-01-18T17:17:16.120Z"
   },
   {
    "duration": 24,
    "start_time": "2022-01-18T17:17:16.175Z"
   },
   {
    "duration": 7,
    "start_time": "2022-01-18T17:17:16.201Z"
   },
   {
    "duration": 16,
    "start_time": "2022-01-18T17:17:16.211Z"
   },
   {
    "duration": 43,
    "start_time": "2022-01-18T17:17:16.229Z"
   },
   {
    "duration": 4,
    "start_time": "2022-01-18T17:17:16.274Z"
   },
   {
    "duration": 9,
    "start_time": "2022-01-18T17:17:16.280Z"
   },
   {
    "duration": 21,
    "start_time": "2022-01-18T17:17:16.291Z"
   },
   {
    "duration": 9,
    "start_time": "2022-01-18T17:17:16.317Z"
   },
   {
    "duration": 65,
    "start_time": "2022-01-18T17:17:16.329Z"
   },
   {
    "duration": 3,
    "start_time": "2022-01-18T17:17:16.396Z"
   },
   {
    "duration": 7,
    "start_time": "2022-01-18T17:17:16.402Z"
   },
   {
    "duration": 8,
    "start_time": "2022-01-18T17:17:16.411Z"
   },
   {
    "duration": 465,
    "start_time": "2022-01-18T17:17:16.422Z"
   },
   {
    "duration": 36,
    "start_time": "2022-01-18T17:17:16.890Z"
   },
   {
    "duration": 5,
    "start_time": "2022-01-18T17:17:16.929Z"
   },
   {
    "duration": 31,
    "start_time": "2022-01-18T17:17:16.936Z"
   },
   {
    "duration": 9,
    "start_time": "2022-01-18T17:17:16.970Z"
   },
   {
    "duration": 12,
    "start_time": "2022-01-18T17:17:16.981Z"
   },
   {
    "duration": 7,
    "start_time": "2022-01-18T17:18:06.738Z"
   },
   {
    "duration": 489,
    "start_time": "2022-01-18T17:18:07.370Z"
   },
   {
    "duration": 36,
    "start_time": "2022-01-18T17:18:07.903Z"
   },
   {
    "duration": 5,
    "start_time": "2022-01-18T17:18:21.045Z"
   },
   {
    "duration": 490,
    "start_time": "2022-01-18T17:18:21.052Z"
   },
   {
    "duration": 5,
    "start_time": "2022-01-18T17:18:21.545Z"
   },
   {
    "duration": 286,
    "start_time": "2022-01-18T17:18:21.553Z"
   },
   {
    "duration": 222,
    "start_time": "2022-01-18T17:18:21.842Z"
   },
   {
    "duration": 10,
    "start_time": "2022-01-18T17:18:22.067Z"
   },
   {
    "duration": 14,
    "start_time": "2022-01-18T17:18:22.082Z"
   },
   {
    "duration": 165,
    "start_time": "2022-01-18T17:18:22.099Z"
   },
   {
    "duration": 54,
    "start_time": "2022-01-18T17:18:22.267Z"
   },
   {
    "duration": 70,
    "start_time": "2022-01-18T17:18:22.324Z"
   },
   {
    "duration": 84,
    "start_time": "2022-01-18T17:18:22.396Z"
   },
   {
    "duration": 41,
    "start_time": "2022-01-18T17:18:22.483Z"
   },
   {
    "duration": 66,
    "start_time": "2022-01-18T17:18:22.526Z"
   },
   {
    "duration": 5,
    "start_time": "2022-01-18T17:18:22.594Z"
   },
   {
    "duration": 67,
    "start_time": "2022-01-18T17:18:22.602Z"
   },
   {
    "duration": 32,
    "start_time": "2022-01-18T17:18:22.671Z"
   },
   {
    "duration": 25,
    "start_time": "2022-01-18T17:18:22.706Z"
   },
   {
    "duration": 7,
    "start_time": "2022-01-18T17:18:22.734Z"
   },
   {
    "duration": 15,
    "start_time": "2022-01-18T17:18:22.767Z"
   },
   {
    "duration": 17,
    "start_time": "2022-01-18T17:18:22.785Z"
   },
   {
    "duration": 4,
    "start_time": "2022-01-18T17:18:22.805Z"
   },
   {
    "duration": 9,
    "start_time": "2022-01-18T17:18:22.812Z"
   },
   {
    "duration": 62,
    "start_time": "2022-01-18T17:18:22.824Z"
   },
   {
    "duration": 12,
    "start_time": "2022-01-18T17:18:22.889Z"
   },
   {
    "duration": 62,
    "start_time": "2022-01-18T17:18:22.904Z"
   },
   {
    "duration": 3,
    "start_time": "2022-01-18T17:18:22.970Z"
   },
   {
    "duration": 6,
    "start_time": "2022-01-18T17:18:22.977Z"
   },
   {
    "duration": 9,
    "start_time": "2022-01-18T17:18:22.986Z"
   },
   {
    "duration": 466,
    "start_time": "2022-01-18T17:18:22.998Z"
   },
   {
    "duration": 35,
    "start_time": "2022-01-18T17:18:23.467Z"
   },
   {
    "duration": 9,
    "start_time": "2022-01-18T17:18:23.504Z"
   },
   {
    "duration": 7,
    "start_time": "2022-01-18T17:18:23.516Z"
   },
   {
    "duration": 41,
    "start_time": "2022-01-18T17:18:23.525Z"
   },
   {
    "duration": 14,
    "start_time": "2022-01-18T17:18:23.569Z"
   },
   {
    "duration": 7,
    "start_time": "2022-01-18T17:19:56.523Z"
   },
   {
    "duration": 527,
    "start_time": "2022-01-18T17:19:57.486Z"
   },
   {
    "duration": 32,
    "start_time": "2022-01-18T17:19:58.336Z"
   },
   {
    "duration": 5,
    "start_time": "2022-01-18T17:20:25.585Z"
   },
   {
    "duration": 484,
    "start_time": "2022-01-18T17:20:25.593Z"
   },
   {
    "duration": 7,
    "start_time": "2022-01-18T17:20:26.081Z"
   },
   {
    "duration": 261,
    "start_time": "2022-01-18T17:20:26.090Z"
   },
   {
    "duration": 216,
    "start_time": "2022-01-18T17:20:26.365Z"
   },
   {
    "duration": 7,
    "start_time": "2022-01-18T17:20:26.584Z"
   },
   {
    "duration": 13,
    "start_time": "2022-01-18T17:20:26.594Z"
   },
   {
    "duration": 165,
    "start_time": "2022-01-18T17:20:26.609Z"
   },
   {
    "duration": 58,
    "start_time": "2022-01-18T17:20:26.779Z"
   },
   {
    "duration": 45,
    "start_time": "2022-01-18T17:20:26.866Z"
   },
   {
    "duration": 97,
    "start_time": "2022-01-18T17:20:26.913Z"
   },
   {
    "duration": 52,
    "start_time": "2022-01-18T17:20:27.012Z"
   },
   {
    "duration": 50,
    "start_time": "2022-01-18T17:20:27.067Z"
   },
   {
    "duration": 5,
    "start_time": "2022-01-18T17:20:27.119Z"
   },
   {
    "duration": 75,
    "start_time": "2022-01-18T17:20:27.127Z"
   },
   {
    "duration": 30,
    "start_time": "2022-01-18T17:20:27.205Z"
   },
   {
    "duration": 40,
    "start_time": "2022-01-18T17:20:27.237Z"
   },
   {
    "duration": 6,
    "start_time": "2022-01-18T17:20:27.280Z"
   },
   {
    "duration": 25,
    "start_time": "2022-01-18T17:20:27.289Z"
   },
   {
    "duration": 19,
    "start_time": "2022-01-18T17:20:27.318Z"
   },
   {
    "duration": 31,
    "start_time": "2022-01-18T17:20:27.339Z"
   },
   {
    "duration": 37,
    "start_time": "2022-01-18T17:20:27.373Z"
   },
   {
    "duration": 31,
    "start_time": "2022-01-18T17:20:27.413Z"
   },
   {
    "duration": 27,
    "start_time": "2022-01-18T17:20:27.446Z"
   },
   {
    "duration": 32,
    "start_time": "2022-01-18T17:20:27.476Z"
   },
   {
    "duration": 8,
    "start_time": "2022-01-18T17:20:27.510Z"
   },
   {
    "duration": 9,
    "start_time": "2022-01-18T17:20:27.523Z"
   },
   {
    "duration": 10,
    "start_time": "2022-01-18T17:20:27.534Z"
   },
   {
    "duration": 417,
    "start_time": "2022-01-18T17:20:27.564Z"
   },
   {
    "duration": 35,
    "start_time": "2022-01-18T17:20:27.983Z"
   },
   {
    "duration": 19,
    "start_time": "2022-01-18T17:20:28.020Z"
   },
   {
    "duration": 30,
    "start_time": "2022-01-18T17:20:28.041Z"
   },
   {
    "duration": 25,
    "start_time": "2022-01-18T17:20:28.074Z"
   },
   {
    "duration": 13,
    "start_time": "2022-01-18T17:20:28.101Z"
   },
   {
    "duration": 7,
    "start_time": "2022-01-18T17:21:17.502Z"
   },
   {
    "duration": 432,
    "start_time": "2022-01-18T17:21:18.182Z"
   },
   {
    "duration": 34,
    "start_time": "2022-01-18T17:21:20.937Z"
   },
   {
    "duration": 8,
    "start_time": "2022-01-18T17:21:31.386Z"
   },
   {
    "duration": 473,
    "start_time": "2022-01-18T17:21:32.206Z"
   },
   {
    "duration": 42,
    "start_time": "2022-01-18T17:21:32.855Z"
   },
   {
    "duration": 8,
    "start_time": "2022-01-18T17:22:28.216Z"
   },
   {
    "duration": 435,
    "start_time": "2022-01-18T17:22:31.296Z"
   },
   {
    "duration": 35,
    "start_time": "2022-01-18T17:22:32.446Z"
   },
   {
    "duration": 8,
    "start_time": "2022-01-18T17:24:06.969Z"
   },
   {
    "duration": 722,
    "start_time": "2022-01-18T17:24:07.747Z"
   },
   {
    "duration": 34,
    "start_time": "2022-01-18T17:24:08.535Z"
   },
   {
    "duration": 21,
    "start_time": "2022-01-18T17:52:12.348Z"
   },
   {
    "duration": 24,
    "start_time": "2022-01-18T17:52:32.847Z"
   },
   {
    "duration": 43,
    "start_time": "2022-01-18T17:52:46.016Z"
   },
   {
    "duration": 5,
    "start_time": "2022-01-18T17:52:57.184Z"
   },
   {
    "duration": 479,
    "start_time": "2022-01-18T17:52:57.195Z"
   },
   {
    "duration": 6,
    "start_time": "2022-01-18T17:52:57.676Z"
   },
   {
    "duration": 265,
    "start_time": "2022-01-18T17:52:57.685Z"
   },
   {
    "duration": 223,
    "start_time": "2022-01-18T17:52:57.953Z"
   },
   {
    "duration": 7,
    "start_time": "2022-01-18T17:52:58.179Z"
   },
   {
    "duration": 13,
    "start_time": "2022-01-18T17:52:58.189Z"
   },
   {
    "duration": 164,
    "start_time": "2022-01-18T17:52:58.204Z"
   },
   {
    "duration": 56,
    "start_time": "2022-01-18T17:52:58.373Z"
   },
   {
    "duration": 71,
    "start_time": "2022-01-18T17:52:58.433Z"
   },
   {
    "duration": 83,
    "start_time": "2022-01-18T17:52:58.507Z"
   },
   {
    "duration": 41,
    "start_time": "2022-01-18T17:52:58.593Z"
   },
   {
    "duration": 63,
    "start_time": "2022-01-18T17:52:58.636Z"
   },
   {
    "duration": 5,
    "start_time": "2022-01-18T17:52:58.703Z"
   },
   {
    "duration": 66,
    "start_time": "2022-01-18T17:52:58.710Z"
   },
   {
    "duration": 31,
    "start_time": "2022-01-18T17:52:58.779Z"
   },
   {
    "duration": 23,
    "start_time": "2022-01-18T17:52:58.812Z"
   },
   {
    "duration": 31,
    "start_time": "2022-01-18T17:52:58.837Z"
   },
   {
    "duration": 17,
    "start_time": "2022-01-18T17:52:58.871Z"
   },
   {
    "duration": 16,
    "start_time": "2022-01-18T17:52:58.890Z"
   },
   {
    "duration": 3,
    "start_time": "2022-01-18T17:52:58.908Z"
   },
   {
    "duration": 7,
    "start_time": "2022-01-18T17:52:58.914Z"
   },
   {
    "duration": 56,
    "start_time": "2022-01-18T17:52:58.924Z"
   },
   {
    "duration": 10,
    "start_time": "2022-01-18T17:52:58.985Z"
   },
   {
    "duration": 32,
    "start_time": "2022-01-18T17:52:58.997Z"
   },
   {
    "duration": 37,
    "start_time": "2022-01-18T17:52:59.032Z"
   },
   {
    "duration": 525,
    "start_time": "2022-01-18T17:52:59.072Z"
   },
   {
    "duration": 33,
    "start_time": "2022-01-18T17:52:59.600Z"
   },
   {
    "duration": 35,
    "start_time": "2022-01-18T17:53:27.080Z"
   },
   {
    "duration": 25,
    "start_time": "2022-01-18T17:53:59.505Z"
   },
   {
    "duration": 4,
    "start_time": "2022-01-18T17:54:50.574Z"
   },
   {
    "duration": 512,
    "start_time": "2022-01-18T17:54:50.583Z"
   },
   {
    "duration": 5,
    "start_time": "2022-01-18T17:54:51.097Z"
   },
   {
    "duration": 281,
    "start_time": "2022-01-18T17:54:51.105Z"
   },
   {
    "duration": 210,
    "start_time": "2022-01-18T17:54:51.389Z"
   },
   {
    "duration": 8,
    "start_time": "2022-01-18T17:54:51.601Z"
   },
   {
    "duration": 10,
    "start_time": "2022-01-18T17:54:51.611Z"
   },
   {
    "duration": 161,
    "start_time": "2022-01-18T17:54:51.624Z"
   },
   {
    "duration": 81,
    "start_time": "2022-01-18T17:54:51.789Z"
   },
   {
    "duration": 44,
    "start_time": "2022-01-18T17:54:51.873Z"
   },
   {
    "duration": 90,
    "start_time": "2022-01-18T17:54:51.920Z"
   },
   {
    "duration": 56,
    "start_time": "2022-01-18T17:54:52.013Z"
   },
   {
    "duration": 51,
    "start_time": "2022-01-18T17:54:52.071Z"
   },
   {
    "duration": 5,
    "start_time": "2022-01-18T17:54:52.125Z"
   },
   {
    "duration": 77,
    "start_time": "2022-01-18T17:54:52.132Z"
   },
   {
    "duration": 31,
    "start_time": "2022-01-18T17:54:52.212Z"
   },
   {
    "duration": 41,
    "start_time": "2022-01-18T17:54:52.245Z"
   },
   {
    "duration": 6,
    "start_time": "2022-01-18T17:54:52.289Z"
   },
   {
    "duration": 44,
    "start_time": "2022-01-18T17:54:52.298Z"
   },
   {
    "duration": 32,
    "start_time": "2022-01-18T17:54:52.345Z"
   },
   {
    "duration": 24,
    "start_time": "2022-01-18T17:54:52.379Z"
   },
   {
    "duration": 15,
    "start_time": "2022-01-18T17:54:52.406Z"
   },
   {
    "duration": 29,
    "start_time": "2022-01-18T17:54:52.424Z"
   },
   {
    "duration": 30,
    "start_time": "2022-01-18T17:54:52.457Z"
   },
   {
    "duration": 47,
    "start_time": "2022-01-18T17:54:52.490Z"
   },
   {
    "duration": 7,
    "start_time": "2022-01-18T17:54:52.540Z"
   },
   {
    "duration": 542,
    "start_time": "2022-01-18T17:54:52.549Z"
   },
   {
    "duration": 32,
    "start_time": "2022-01-18T17:54:53.093Z"
   },
   {
    "duration": 23,
    "start_time": "2022-01-18T17:56:24.280Z"
   },
   {
    "duration": 22,
    "start_time": "2022-01-18T17:56:30.962Z"
   },
   {
    "duration": 21,
    "start_time": "2022-01-18T18:02:51.946Z"
   },
   {
    "duration": 322,
    "start_time": "2022-01-18T18:03:49.956Z"
   },
   {
    "duration": 317,
    "start_time": "2022-01-18T18:03:56.870Z"
   },
   {
    "duration": 581,
    "start_time": "2022-01-18T18:04:45.285Z"
   },
   {
    "duration": 21,
    "start_time": "2022-01-18T18:05:16.413Z"
   },
   {
    "duration": 139,
    "start_time": "2022-01-18T18:07:21.910Z"
   },
   {
    "duration": 19,
    "start_time": "2022-01-18T18:08:03.247Z"
   },
   {
    "duration": 24,
    "start_time": "2022-01-18T18:09:39.299Z"
   },
   {
    "duration": 19,
    "start_time": "2022-01-18T18:10:16.496Z"
   },
   {
    "duration": 302,
    "start_time": "2022-01-18T18:11:17.089Z"
   },
   {
    "duration": 17,
    "start_time": "2022-01-18T18:11:20.876Z"
   },
   {
    "duration": 293,
    "start_time": "2022-01-18T18:16:54.953Z"
   },
   {
    "duration": 289,
    "start_time": "2022-01-18T18:17:07.027Z"
   },
   {
    "duration": 284,
    "start_time": "2022-01-18T18:18:14.619Z"
   },
   {
    "duration": 295,
    "start_time": "2022-01-18T18:18:19.112Z"
   },
   {
    "duration": 412,
    "start_time": "2022-01-18T18:18:57.038Z"
   },
   {
    "duration": 6,
    "start_time": "2022-01-18T18:19:35.365Z"
   },
   {
    "duration": 390,
    "start_time": "2022-01-18T18:19:55.059Z"
   },
   {
    "duration": 6,
    "start_time": "2022-01-18T18:20:45.262Z"
   },
   {
    "duration": 16,
    "start_time": "2022-01-18T18:21:26.700Z"
   },
   {
    "duration": 15,
    "start_time": "2022-01-18T18:21:52.473Z"
   },
   {
    "duration": 1388,
    "start_time": "2022-01-18T18:24:04.043Z"
   },
   {
    "duration": 508,
    "start_time": "2022-01-18T18:24:05.434Z"
   },
   {
    "duration": 6,
    "start_time": "2022-01-18T18:24:05.945Z"
   },
   {
    "duration": 292,
    "start_time": "2022-01-18T18:24:05.953Z"
   },
   {
    "duration": 230,
    "start_time": "2022-01-18T18:24:06.248Z"
   },
   {
    "duration": 9,
    "start_time": "2022-01-18T18:24:06.481Z"
   },
   {
    "duration": 10,
    "start_time": "2022-01-18T18:24:06.493Z"
   },
   {
    "duration": 170,
    "start_time": "2022-01-18T18:24:06.508Z"
   },
   {
    "duration": 54,
    "start_time": "2022-01-18T18:24:06.682Z"
   },
   {
    "duration": 68,
    "start_time": "2022-01-18T18:24:06.738Z"
   },
   {
    "duration": 15,
    "start_time": "2022-01-18T18:24:06.809Z"
   },
   {
    "duration": 47,
    "start_time": "2022-01-18T18:24:06.826Z"
   },
   {
    "duration": 67,
    "start_time": "2022-01-18T18:24:06.876Z"
   },
   {
    "duration": 56,
    "start_time": "2022-01-18T18:24:06.946Z"
   },
   {
    "duration": 67,
    "start_time": "2022-01-18T18:24:07.004Z"
   },
   {
    "duration": 7,
    "start_time": "2022-01-18T18:24:07.074Z"
   },
   {
    "duration": 81,
    "start_time": "2022-01-18T18:24:07.083Z"
   },
   {
    "duration": 30,
    "start_time": "2022-01-18T18:24:07.167Z"
   },
   {
    "duration": 25,
    "start_time": "2022-01-18T18:24:07.200Z"
   },
   {
    "duration": 13,
    "start_time": "2022-01-18T18:24:07.228Z"
   },
   {
    "duration": 18,
    "start_time": "2022-01-18T18:24:07.264Z"
   },
   {
    "duration": 14,
    "start_time": "2022-01-18T18:24:07.284Z"
   },
   {
    "duration": 3,
    "start_time": "2022-01-18T18:24:07.303Z"
   },
   {
    "duration": 10,
    "start_time": "2022-01-18T18:24:07.309Z"
   },
   {
    "duration": 46,
    "start_time": "2022-01-18T18:24:07.321Z"
   },
   {
    "duration": 12,
    "start_time": "2022-01-18T18:24:07.369Z"
   },
   {
    "duration": 20,
    "start_time": "2022-01-18T18:24:07.384Z"
   },
   {
    "duration": 9,
    "start_time": "2022-01-18T18:24:07.407Z"
   },
   {
    "duration": 577,
    "start_time": "2022-01-18T18:24:07.419Z"
   },
   {
    "duration": 21,
    "start_time": "2022-01-18T18:24:07.999Z"
   },
   {
    "duration": 4,
    "start_time": "2022-01-18T18:37:40.390Z"
   },
   {
    "duration": 510,
    "start_time": "2022-01-18T18:37:40.400Z"
   },
   {
    "duration": 5,
    "start_time": "2022-01-18T18:37:40.914Z"
   },
   {
    "duration": 264,
    "start_time": "2022-01-18T18:37:40.922Z"
   },
   {
    "duration": 214,
    "start_time": "2022-01-18T18:37:41.189Z"
   },
   {
    "duration": 8,
    "start_time": "2022-01-18T18:37:41.406Z"
   },
   {
    "duration": 11,
    "start_time": "2022-01-18T18:37:41.416Z"
   },
   {
    "duration": 161,
    "start_time": "2022-01-18T18:37:41.429Z"
   },
   {
    "duration": 74,
    "start_time": "2022-01-18T18:37:41.594Z"
   },
   {
    "duration": 44,
    "start_time": "2022-01-18T18:37:41.674Z"
   },
   {
    "duration": 52,
    "start_time": "2022-01-18T18:37:41.721Z"
   },
   {
    "duration": 16,
    "start_time": "2022-01-18T18:37:41.775Z"
   },
   {
    "duration": 97,
    "start_time": "2022-01-18T18:37:41.793Z"
   },
   {
    "duration": 42,
    "start_time": "2022-01-18T18:37:41.893Z"
   },
   {
    "duration": 67,
    "start_time": "2022-01-18T18:37:41.937Z"
   },
   {
    "duration": 5,
    "start_time": "2022-01-18T18:37:42.007Z"
   },
   {
    "duration": 88,
    "start_time": "2022-01-18T18:37:42.016Z"
   },
   {
    "duration": 31,
    "start_time": "2022-01-18T18:37:42.107Z"
   },
   {
    "duration": 42,
    "start_time": "2022-01-18T18:37:42.140Z"
   },
   {
    "duration": 7,
    "start_time": "2022-01-18T18:37:42.184Z"
   },
   {
    "duration": 19,
    "start_time": "2022-01-18T18:37:42.194Z"
   },
   {
    "duration": 14,
    "start_time": "2022-01-18T18:37:42.216Z"
   },
   {
    "duration": 32,
    "start_time": "2022-01-18T18:37:42.233Z"
   },
   {
    "duration": 7,
    "start_time": "2022-01-18T18:37:42.270Z"
   },
   {
    "duration": 14,
    "start_time": "2022-01-18T18:37:42.281Z"
   },
   {
    "duration": 12,
    "start_time": "2022-01-18T18:37:42.298Z"
   },
   {
    "duration": 62,
    "start_time": "2022-01-18T18:37:42.313Z"
   },
   {
    "duration": 8,
    "start_time": "2022-01-18T18:37:42.378Z"
   },
   {
    "duration": 554,
    "start_time": "2022-01-18T18:37:42.389Z"
   },
   {
    "duration": 26,
    "start_time": "2022-01-18T18:37:42.946Z"
   },
   {
    "duration": 5,
    "start_time": "2022-01-19T07:14:42.869Z"
   },
   {
    "duration": 1122,
    "start_time": "2022-01-19T07:15:21.612Z"
   },
   {
    "duration": 363,
    "start_time": "2022-01-19T07:15:22.736Z"
   },
   {
    "duration": 4,
    "start_time": "2022-01-19T07:15:23.101Z"
   },
   {
    "duration": 200,
    "start_time": "2022-01-19T07:15:23.106Z"
   },
   {
    "duration": 141,
    "start_time": "2022-01-19T07:15:23.308Z"
   },
   {
    "duration": 7,
    "start_time": "2022-01-19T07:15:23.450Z"
   },
   {
    "duration": 8,
    "start_time": "2022-01-19T07:15:23.458Z"
   },
   {
    "duration": 106,
    "start_time": "2022-01-19T07:15:23.468Z"
   },
   {
    "duration": 31,
    "start_time": "2022-01-19T07:15:23.576Z"
   },
   {
    "duration": 44,
    "start_time": "2022-01-19T07:15:23.608Z"
   },
   {
    "duration": 10,
    "start_time": "2022-01-19T07:15:23.653Z"
   },
   {
    "duration": 9,
    "start_time": "2022-01-19T07:15:23.664Z"
   },
   {
    "duration": 67,
    "start_time": "2022-01-19T07:15:23.674Z"
   },
   {
    "duration": 28,
    "start_time": "2022-01-19T07:15:23.743Z"
   },
   {
    "duration": 34,
    "start_time": "2022-01-19T07:15:23.773Z"
   },
   {
    "duration": 20,
    "start_time": "2022-01-19T07:15:23.809Z"
   },
   {
    "duration": 41,
    "start_time": "2022-01-19T07:15:23.831Z"
   },
   {
    "duration": 20,
    "start_time": "2022-01-19T07:15:23.874Z"
   },
   {
    "duration": 32,
    "start_time": "2022-01-19T07:15:23.896Z"
   },
   {
    "duration": 9,
    "start_time": "2022-01-19T07:15:23.929Z"
   },
   {
    "duration": 10,
    "start_time": "2022-01-19T07:15:23.939Z"
   },
   {
    "duration": 11,
    "start_time": "2022-01-19T07:15:23.950Z"
   },
   {
    "duration": 2,
    "start_time": "2022-01-19T07:15:23.964Z"
   },
   {
    "duration": 6,
    "start_time": "2022-01-19T07:15:23.968Z"
   },
   {
    "duration": 10,
    "start_time": "2022-01-19T07:15:23.976Z"
   },
   {
    "duration": 39,
    "start_time": "2022-01-19T07:15:23.988Z"
   },
   {
    "duration": 11,
    "start_time": "2022-01-19T07:15:24.029Z"
   },
   {
    "duration": 5,
    "start_time": "2022-01-19T07:15:24.042Z"
   },
   {
    "duration": 291,
    "start_time": "2022-01-19T07:15:24.048Z"
   },
   {
    "duration": 12,
    "start_time": "2022-01-19T07:15:24.341Z"
   },
   {
    "duration": 1196,
    "start_time": "2022-01-19T07:15:51.086Z"
   },
   {
    "duration": 379,
    "start_time": "2022-01-19T07:15:52.284Z"
   },
   {
    "duration": 4,
    "start_time": "2022-01-19T07:15:52.665Z"
   },
   {
    "duration": 211,
    "start_time": "2022-01-19T07:15:52.670Z"
   },
   {
    "duration": 139,
    "start_time": "2022-01-19T07:15:52.883Z"
   },
   {
    "duration": 6,
    "start_time": "2022-01-19T07:15:53.027Z"
   },
   {
    "duration": 7,
    "start_time": "2022-01-19T07:15:53.035Z"
   },
   {
    "duration": 113,
    "start_time": "2022-01-19T07:15:53.044Z"
   },
   {
    "duration": 30,
    "start_time": "2022-01-19T07:15:53.161Z"
   },
   {
    "duration": 47,
    "start_time": "2022-01-19T07:15:53.194Z"
   },
   {
    "duration": 11,
    "start_time": "2022-01-19T07:15:53.243Z"
   },
   {
    "duration": 12,
    "start_time": "2022-01-19T07:15:53.256Z"
   },
   {
    "duration": 61,
    "start_time": "2022-01-19T07:15:53.269Z"
   },
   {
    "duration": 30,
    "start_time": "2022-01-19T07:15:53.331Z"
   },
   {
    "duration": 33,
    "start_time": "2022-01-19T07:15:53.363Z"
   },
   {
    "duration": 4,
    "start_time": "2022-01-19T07:15:53.398Z"
   },
   {
    "duration": 41,
    "start_time": "2022-01-19T07:15:53.427Z"
   },
   {
    "duration": 21,
    "start_time": "2022-01-19T07:15:53.469Z"
   },
   {
    "duration": 16,
    "start_time": "2022-01-19T07:15:53.492Z"
   },
   {
    "duration": 33,
    "start_time": "2022-01-19T07:15:53.509Z"
   },
   {
    "duration": 10,
    "start_time": "2022-01-19T07:15:53.543Z"
   },
   {
    "duration": 12,
    "start_time": "2022-01-19T07:15:53.554Z"
   },
   {
    "duration": 3,
    "start_time": "2022-01-19T07:15:53.567Z"
   },
   {
    "duration": 9,
    "start_time": "2022-01-19T07:15:53.571Z"
   },
   {
    "duration": 13,
    "start_time": "2022-01-19T07:15:53.581Z"
   },
   {
    "duration": 8,
    "start_time": "2022-01-19T07:15:53.595Z"
   },
   {
    "duration": 33,
    "start_time": "2022-01-19T07:15:53.606Z"
   },
   {
    "duration": 7,
    "start_time": "2022-01-19T07:15:53.641Z"
   },
   {
    "duration": 394,
    "start_time": "2022-01-19T07:15:53.649Z"
   },
   {
    "duration": 18,
    "start_time": "2022-01-19T07:15:54.045Z"
   },
   {
    "duration": 9,
    "start_time": "2022-01-19T07:17:31.241Z"
   },
   {
    "duration": 2,
    "start_time": "2022-01-19T07:17:36.493Z"
   },
   {
    "duration": 360,
    "start_time": "2022-01-19T07:17:36.498Z"
   },
   {
    "duration": 4,
    "start_time": "2022-01-19T07:17:36.860Z"
   },
   {
    "duration": 170,
    "start_time": "2022-01-19T07:17:36.865Z"
   },
   {
    "duration": 136,
    "start_time": "2022-01-19T07:17:37.037Z"
   },
   {
    "duration": 5,
    "start_time": "2022-01-19T07:17:37.174Z"
   },
   {
    "duration": 24,
    "start_time": "2022-01-19T07:17:37.181Z"
   },
   {
    "duration": 101,
    "start_time": "2022-01-19T07:17:37.206Z"
   },
   {
    "duration": 40,
    "start_time": "2022-01-19T07:17:37.309Z"
   },
   {
    "duration": 44,
    "start_time": "2022-01-19T07:17:37.351Z"
   },
   {
    "duration": 10,
    "start_time": "2022-01-19T07:17:37.396Z"
   },
   {
    "duration": 25,
    "start_time": "2022-01-19T07:17:37.407Z"
   },
   {
    "duration": 69,
    "start_time": "2022-01-19T07:17:37.433Z"
   },
   {
    "duration": 28,
    "start_time": "2022-01-19T07:17:37.503Z"
   },
   {
    "duration": 36,
    "start_time": "2022-01-19T07:17:37.532Z"
   },
   {
    "duration": 4,
    "start_time": "2022-01-19T07:17:37.569Z"
   },
   {
    "duration": 56,
    "start_time": "2022-01-19T07:17:37.574Z"
   },
   {
    "duration": 21,
    "start_time": "2022-01-19T07:17:37.631Z"
   },
   {
    "duration": 16,
    "start_time": "2022-01-19T07:17:37.653Z"
   },
   {
    "duration": 7,
    "start_time": "2022-01-19T07:17:37.670Z"
   },
   {
    "duration": 16,
    "start_time": "2022-01-19T07:17:37.679Z"
   },
   {
    "duration": 23,
    "start_time": "2022-01-19T07:17:37.697Z"
   },
   {
    "duration": 9,
    "start_time": "2022-01-19T07:17:37.722Z"
   },
   {
    "duration": 11,
    "start_time": "2022-01-19T07:17:37.732Z"
   },
   {
    "duration": 19,
    "start_time": "2022-01-19T07:17:37.744Z"
   },
   {
    "duration": 10,
    "start_time": "2022-01-19T07:17:37.765Z"
   },
   {
    "duration": 13,
    "start_time": "2022-01-19T07:17:37.778Z"
   },
   {
    "duration": 17,
    "start_time": "2022-01-19T07:17:37.792Z"
   },
   {
    "duration": 290,
    "start_time": "2022-01-19T07:17:37.810Z"
   },
   {
    "duration": 13,
    "start_time": "2022-01-19T07:17:38.101Z"
   },
   {
    "duration": 26,
    "start_time": "2022-01-19T08:00:30.890Z"
   },
   {
    "duration": 27,
    "start_time": "2022-01-19T08:00:57.403Z"
   },
   {
    "duration": 26,
    "start_time": "2022-01-19T08:01:59.794Z"
   },
   {
    "duration": 7,
    "start_time": "2022-01-19T08:02:17.631Z"
   },
   {
    "duration": 5,
    "start_time": "2022-01-19T08:07:25.779Z"
   },
   {
    "duration": 6,
    "start_time": "2022-01-19T08:09:54.982Z"
   },
   {
    "duration": 4,
    "start_time": "2022-01-19T08:10:43.548Z"
   },
   {
    "duration": 4,
    "start_time": "2022-01-19T08:10:44.367Z"
   },
   {
    "duration": 3,
    "start_time": "2022-01-19T08:15:46.941Z"
   },
   {
    "duration": 4,
    "start_time": "2022-01-19T08:16:36.669Z"
   },
   {
    "duration": 4,
    "start_time": "2022-01-19T08:16:47.576Z"
   },
   {
    "duration": 4,
    "start_time": "2022-01-19T08:17:30.762Z"
   },
   {
    "duration": 5,
    "start_time": "2022-01-19T08:17:43.921Z"
   },
   {
    "duration": 4,
    "start_time": "2022-01-19T08:18:18.758Z"
   },
   {
    "duration": 5,
    "start_time": "2022-01-19T08:26:36.609Z"
   },
   {
    "duration": 4,
    "start_time": "2022-01-19T08:27:36.769Z"
   },
   {
    "duration": 5,
    "start_time": "2022-01-19T08:29:07.465Z"
   },
   {
    "duration": 4,
    "start_time": "2022-01-19T08:29:14.135Z"
   },
   {
    "duration": 5,
    "start_time": "2022-01-19T08:29:30.285Z"
   },
   {
    "duration": 5,
    "start_time": "2022-01-19T08:29:30.964Z"
   },
   {
    "duration": 5,
    "start_time": "2022-01-19T08:29:31.690Z"
   },
   {
    "duration": 2,
    "start_time": "2022-01-19T08:37:36.679Z"
   },
   {
    "duration": 783,
    "start_time": "2022-01-19T08:38:04.678Z"
   },
   {
    "duration": 738,
    "start_time": "2022-01-19T08:38:09.389Z"
   },
   {
    "duration": 703,
    "start_time": "2022-01-19T08:58:17.639Z"
   },
   {
    "duration": 1163,
    "start_time": "2022-01-19T09:45:59.909Z"
   },
   {
    "duration": 662,
    "start_time": "2022-01-19T09:46:26.600Z"
   },
   {
    "duration": 4,
    "start_time": "2022-01-19T09:47:08.196Z"
   },
   {
    "duration": 672,
    "start_time": "2022-01-19T09:47:10.578Z"
   },
   {
    "duration": 354,
    "start_time": "2022-01-19T09:48:47.055Z"
   },
   {
    "duration": 327,
    "start_time": "2022-01-19T09:48:56.047Z"
   },
   {
    "duration": 4,
    "start_time": "2022-01-19T09:48:59.910Z"
   },
   {
    "duration": 357,
    "start_time": "2022-01-19T09:49:06.838Z"
   },
   {
    "duration": 4,
    "start_time": "2022-01-19T09:49:17.366Z"
   },
   {
    "duration": 3,
    "start_time": "2022-01-19T09:49:58.318Z"
   },
   {
    "duration": 643,
    "start_time": "2022-01-19T09:49:58.323Z"
   },
   {
    "duration": 3,
    "start_time": "2022-01-19T09:51:29.020Z"
   },
   {
    "duration": 690,
    "start_time": "2022-01-19T09:51:29.985Z"
   },
   {
    "duration": 4,
    "start_time": "2022-01-19T09:55:27.963Z"
   },
   {
    "duration": 3,
    "start_time": "2022-01-19T09:57:07.303Z"
   },
   {
    "duration": 702,
    "start_time": "2022-01-19T09:57:08.828Z"
   },
   {
    "duration": 362,
    "start_time": "2022-01-19T09:57:39.077Z"
   },
   {
    "duration": 3,
    "start_time": "2022-01-19T09:58:03.139Z"
   },
   {
    "duration": 368,
    "start_time": "2022-01-19T09:58:03.144Z"
   },
   {
    "duration": 4,
    "start_time": "2022-01-19T09:58:03.514Z"
   },
   {
    "duration": 185,
    "start_time": "2022-01-19T09:58:03.519Z"
   },
   {
    "duration": 138,
    "start_time": "2022-01-19T09:58:03.706Z"
   },
   {
    "duration": 6,
    "start_time": "2022-01-19T09:58:03.846Z"
   },
   {
    "duration": 9,
    "start_time": "2022-01-19T09:58:03.854Z"
   },
   {
    "duration": 112,
    "start_time": "2022-01-19T09:58:03.865Z"
   },
   {
    "duration": 58,
    "start_time": "2022-01-19T09:58:03.979Z"
   },
   {
    "duration": 34,
    "start_time": "2022-01-19T09:58:04.039Z"
   },
   {
    "duration": 10,
    "start_time": "2022-01-19T09:58:04.075Z"
   },
   {
    "duration": 13,
    "start_time": "2022-01-19T09:58:04.086Z"
   },
   {
    "duration": 69,
    "start_time": "2022-01-19T09:58:04.100Z"
   },
   {
    "duration": 30,
    "start_time": "2022-01-19T09:58:04.171Z"
   },
   {
    "duration": 51,
    "start_time": "2022-01-19T09:58:04.203Z"
   },
   {
    "duration": 6,
    "start_time": "2022-01-19T09:58:04.256Z"
   },
   {
    "duration": 42,
    "start_time": "2022-01-19T09:58:04.263Z"
   },
   {
    "duration": 32,
    "start_time": "2022-01-19T09:58:04.307Z"
   },
   {
    "duration": 16,
    "start_time": "2022-01-19T09:58:04.341Z"
   },
   {
    "duration": 4,
    "start_time": "2022-01-19T09:58:04.359Z"
   },
   {
    "duration": 10,
    "start_time": "2022-01-19T09:58:04.365Z"
   },
   {
    "duration": 10,
    "start_time": "2022-01-19T09:58:04.377Z"
   },
   {
    "duration": 3,
    "start_time": "2022-01-19T09:58:04.388Z"
   },
   {
    "duration": 37,
    "start_time": "2022-01-19T09:58:04.392Z"
   },
   {
    "duration": 8,
    "start_time": "2022-01-19T09:58:04.430Z"
   },
   {
    "duration": 9,
    "start_time": "2022-01-19T09:58:04.440Z"
   },
   {
    "duration": 14,
    "start_time": "2022-01-19T09:58:04.450Z"
   },
   {
    "duration": 5,
    "start_time": "2022-01-19T09:58:04.465Z"
   },
   {
    "duration": 289,
    "start_time": "2022-01-19T09:58:04.472Z"
   },
   {
    "duration": 14,
    "start_time": "2022-01-19T09:58:04.763Z"
   },
   {
    "duration": 8,
    "start_time": "2022-01-19T09:58:04.780Z"
   },
   {
    "duration": 3,
    "start_time": "2022-01-19T09:58:04.790Z"
   },
   {
    "duration": 322,
    "start_time": "2022-01-19T09:58:04.795Z"
   },
   {
    "duration": -3886,
    "start_time": "2022-01-19T09:58:09.005Z"
   },
   {
    "duration": -3994,
    "start_time": "2022-01-19T09:58:09.114Z"
   },
   {
    "duration": -4065,
    "start_time": "2022-01-19T09:58:09.186Z"
   },
   {
    "duration": -4146,
    "start_time": "2022-01-19T09:58:09.268Z"
   },
   {
    "duration": -4212,
    "start_time": "2022-01-19T09:58:09.336Z"
   },
   {
    "duration": -4288,
    "start_time": "2022-01-19T09:58:09.413Z"
   },
   {
    "duration": -4328,
    "start_time": "2022-01-19T09:58:09.454Z"
   },
   {
    "duration": -4398,
    "start_time": "2022-01-19T09:58:09.526Z"
   },
   {
    "duration": -4471,
    "start_time": "2022-01-19T09:58:09.600Z"
   },
   {
    "duration": 643,
    "start_time": "2022-01-19T09:59:22.022Z"
   },
   {
    "duration": 1756,
    "start_time": "2022-01-19T09:59:44.729Z"
   },
   {
    "duration": 322,
    "start_time": "2022-01-19T10:00:12.281Z"
   },
   {
    "duration": 331,
    "start_time": "2022-01-19T10:00:40.741Z"
   },
   {
    "duration": 323,
    "start_time": "2022-01-19T10:03:08.631Z"
   },
   {
    "duration": 6,
    "start_time": "2022-01-19T10:03:23.383Z"
   },
   {
    "duration": 6,
    "start_time": "2022-01-19T10:05:22.972Z"
   },
   {
    "duration": 4,
    "start_time": "2022-01-19T10:05:26.172Z"
   },
   {
    "duration": 8,
    "start_time": "2022-01-19T10:06:08.729Z"
   },
   {
    "duration": 104,
    "start_time": "2022-01-19T10:08:08.085Z"
   },
   {
    "duration": 3,
    "start_time": "2022-01-19T10:08:43.104Z"
   },
   {
    "duration": 337,
    "start_time": "2022-01-19T10:08:44.932Z"
   },
   {
    "duration": 650,
    "start_time": "2022-01-19T10:11:51.560Z"
   },
   {
    "duration": 3,
    "start_time": "2022-01-19T10:11:56.154Z"
   },
   {
    "duration": 1641,
    "start_time": "2022-01-19T10:11:56.950Z"
   },
   {
    "duration": 107,
    "start_time": "2022-01-19T10:13:33.268Z"
   },
   {
    "duration": 2,
    "start_time": "2022-01-19T10:13:41.256Z"
   },
   {
    "duration": 5,
    "start_time": "2022-01-19T10:13:42.608Z"
   },
   {
    "duration": 2,
    "start_time": "2022-01-19T10:15:04.583Z"
   },
   {
    "duration": 657,
    "start_time": "2022-01-19T10:15:05.393Z"
   },
   {
    "duration": 4,
    "start_time": "2022-01-19T10:15:21.003Z"
   },
   {
    "duration": 4,
    "start_time": "2022-01-19T10:16:11.010Z"
   },
   {
    "duration": 8,
    "start_time": "2022-01-19T10:27:36.901Z"
   },
   {
    "duration": 316,
    "start_time": "2022-01-19T10:29:08.281Z"
   },
   {
    "duration": 2,
    "start_time": "2022-01-19T10:29:14.913Z"
   },
   {
    "duration": 657,
    "start_time": "2022-01-19T10:29:15.752Z"
   },
   {
    "duration": 659,
    "start_time": "2022-01-19T10:29:44.646Z"
   },
   {
    "duration": 669,
    "start_time": "2022-01-19T10:29:51.870Z"
   },
   {
    "duration": 329,
    "start_time": "2022-01-19T10:30:02.744Z"
   },
   {
    "duration": 3,
    "start_time": "2022-01-19T10:30:24.808Z"
   },
   {
    "duration": 322,
    "start_time": "2022-01-19T10:30:25.787Z"
   },
   {
    "duration": 3,
    "start_time": "2022-01-19T10:32:34.660Z"
   },
   {
    "duration": 3,
    "start_time": "2022-01-19T10:32:35.775Z"
   },
   {
    "duration": 5,
    "start_time": "2022-01-19T10:32:36.943Z"
   },
   {
    "duration": 4,
    "start_time": "2022-01-19T10:34:41.259Z"
   },
   {
    "duration": 4,
    "start_time": "2022-01-19T10:34:42.913Z"
   },
   {
    "duration": 5,
    "start_time": "2022-01-19T10:34:43.859Z"
   },
   {
    "duration": 4,
    "start_time": "2022-01-19T10:34:44.536Z"
   },
   {
    "duration": 4,
    "start_time": "2022-01-19T10:34:52.271Z"
   },
   {
    "duration": 3,
    "start_time": "2022-01-19T10:46:45.041Z"
   },
   {
    "duration": 5,
    "start_time": "2022-01-19T10:46:53.004Z"
   },
   {
    "duration": 4,
    "start_time": "2022-01-19T11:03:54.634Z"
   },
   {
    "duration": 8,
    "start_time": "2022-01-19T11:03:56.008Z"
   },
   {
    "duration": 4,
    "start_time": "2022-01-19T11:06:10.311Z"
   },
   {
    "duration": 728,
    "start_time": "2022-01-19T11:06:11.128Z"
   },
   {
    "duration": 4,
    "start_time": "2022-01-19T11:13:00.799Z"
   },
   {
    "duration": 7,
    "start_time": "2022-01-19T11:13:02.684Z"
   },
   {
    "duration": 3,
    "start_time": "2022-01-19T11:13:43.353Z"
   },
   {
    "duration": 6,
    "start_time": "2022-01-19T11:13:44.276Z"
   },
   {
    "duration": 6,
    "start_time": "2022-01-19T11:14:05.617Z"
   },
   {
    "duration": 4,
    "start_time": "2022-01-19T11:15:02.792Z"
   },
   {
    "duration": 6,
    "start_time": "2022-01-19T11:15:03.522Z"
   },
   {
    "duration": 7,
    "start_time": "2022-01-19T11:15:04.808Z"
   },
   {
    "duration": 3,
    "start_time": "2022-01-19T11:17:28.077Z"
   },
   {
    "duration": 8,
    "start_time": "2022-01-19T11:17:28.973Z"
   },
   {
    "duration": 6,
    "start_time": "2022-01-19T11:17:38.164Z"
   },
   {
    "duration": 6,
    "start_time": "2022-01-19T11:27:22.395Z"
   },
   {
    "duration": 7,
    "start_time": "2022-01-19T11:29:10.127Z"
   },
   {
    "duration": 7,
    "start_time": "2022-01-19T11:29:19.266Z"
   },
   {
    "duration": 6,
    "start_time": "2022-01-19T11:30:07.936Z"
   },
   {
    "duration": 6,
    "start_time": "2022-01-19T11:34:38.334Z"
   },
   {
    "duration": 7,
    "start_time": "2022-01-19T11:37:45.555Z"
   },
   {
    "duration": 4,
    "start_time": "2022-01-19T12:05:38.983Z"
   },
   {
    "duration": 7,
    "start_time": "2022-01-19T12:05:40.793Z"
   },
   {
    "duration": 4,
    "start_time": "2022-01-19T12:09:38.371Z"
   },
   {
    "duration": 8,
    "start_time": "2022-01-19T12:09:40.444Z"
   },
   {
    "duration": 7,
    "start_time": "2022-01-19T12:10:05.446Z"
   },
   {
    "duration": 8,
    "start_time": "2022-01-19T12:10:10.249Z"
   },
   {
    "duration": 8,
    "start_time": "2022-01-19T12:10:13.630Z"
   },
   {
    "duration": 485,
    "start_time": "2022-01-19T12:19:20.893Z"
   },
   {
    "duration": 881,
    "start_time": "2022-01-19T12:20:23.640Z"
   },
   {
    "duration": 518,
    "start_time": "2022-01-19T12:20:45.473Z"
   },
   {
    "duration": 482,
    "start_time": "2022-01-19T12:21:24.955Z"
   },
   {
    "duration": 507,
    "start_time": "2022-01-19T12:21:41.312Z"
   },
   {
    "duration": 105,
    "start_time": "2022-01-19T12:22:19.725Z"
   },
   {
    "duration": 481,
    "start_time": "2022-01-19T12:22:45.279Z"
   },
   {
    "duration": 168,
    "start_time": "2022-01-19T12:23:03.478Z"
   },
   {
    "duration": 240,
    "start_time": "2022-01-19T12:23:13.717Z"
   },
   {
    "duration": 180,
    "start_time": "2022-01-19T12:23:39.170Z"
   },
   {
    "duration": 175,
    "start_time": "2022-01-19T12:23:45.514Z"
   },
   {
    "duration": 8666,
    "start_time": "2022-01-19T12:24:41.208Z"
   },
   {
    "duration": 1199,
    "start_time": "2022-01-19T12:25:08.662Z"
   },
   {
    "duration": 243,
    "start_time": "2022-01-19T12:25:22.999Z"
   },
   {
    "duration": 470,
    "start_time": "2022-01-19T12:25:44.788Z"
   },
   {
    "duration": 446,
    "start_time": "2022-01-19T12:26:05.686Z"
   },
   {
    "duration": 6,
    "start_time": "2022-01-19T12:27:35.770Z"
   },
   {
    "duration": 470,
    "start_time": "2022-01-19T12:27:37.790Z"
   },
   {
    "duration": 328,
    "start_time": "2022-01-19T12:31:23.726Z"
   },
   {
    "duration": 336,
    "start_time": "2022-01-19T12:31:34.714Z"
   },
   {
    "duration": 10,
    "start_time": "2022-01-19T12:57:51.540Z"
   },
   {
    "duration": 4,
    "start_time": "2022-01-19T12:59:10.211Z"
   },
   {
    "duration": 670,
    "start_time": "2022-01-19T12:59:54.099Z"
   },
   {
    "duration": 11,
    "start_time": "2022-01-19T13:00:15.490Z"
   },
   {
    "duration": 325,
    "start_time": "2022-01-19T13:03:47.215Z"
   },
   {
    "duration": 5,
    "start_time": "2022-01-19T13:06:12.732Z"
   },
   {
    "duration": 5,
    "start_time": "2022-01-19T13:06:22.135Z"
   },
   {
    "duration": 299,
    "start_time": "2022-01-19T13:06:23.510Z"
   },
   {
    "duration": 4,
    "start_time": "2022-01-19T13:19:31.077Z"
   },
   {
    "duration": 639,
    "start_time": "2022-01-19T13:51:46.323Z"
   },
   {
    "duration": 680,
    "start_time": "2022-01-19T13:51:53.560Z"
   },
   {
    "duration": 659,
    "start_time": "2022-01-19T14:11:13.652Z"
   },
   {
    "duration": 165,
    "start_time": "2022-01-19T14:11:32.112Z"
   },
   {
    "duration": 1041,
    "start_time": "2022-01-19T14:11:41.458Z"
   },
   {
    "duration": 175,
    "start_time": "2022-01-19T14:13:19.680Z"
   },
   {
    "duration": 168,
    "start_time": "2022-01-19T14:15:22.491Z"
   },
   {
    "duration": 794,
    "start_time": "2022-01-19T14:15:57.323Z"
   },
   {
    "duration": 163,
    "start_time": "2022-01-19T14:16:04.091Z"
   },
   {
    "duration": 8,
    "start_time": "2022-01-19T14:25:14.979Z"
   },
   {
    "duration": 3,
    "start_time": "2022-01-19T14:25:41.319Z"
   },
   {
    "duration": 372,
    "start_time": "2022-01-19T14:25:41.326Z"
   },
   {
    "duration": 3,
    "start_time": "2022-01-19T14:25:41.700Z"
   },
   {
    "duration": 167,
    "start_time": "2022-01-19T14:25:41.706Z"
   },
   {
    "duration": 121,
    "start_time": "2022-01-19T14:25:41.875Z"
   },
   {
    "duration": 6,
    "start_time": "2022-01-19T14:25:41.997Z"
   },
   {
    "duration": 23,
    "start_time": "2022-01-19T14:25:42.004Z"
   },
   {
    "duration": 150,
    "start_time": "2022-01-19T14:25:42.029Z"
   },
   {
    "duration": 47,
    "start_time": "2022-01-19T14:25:42.181Z"
   },
   {
    "duration": 26,
    "start_time": "2022-01-19T14:25:42.230Z"
   },
   {
    "duration": 10,
    "start_time": "2022-01-19T14:25:42.257Z"
   },
   {
    "duration": 15,
    "start_time": "2022-01-19T14:25:42.268Z"
   },
   {
    "duration": 91,
    "start_time": "2022-01-19T14:25:42.285Z"
   },
   {
    "duration": 40,
    "start_time": "2022-01-19T14:25:42.378Z"
   },
   {
    "duration": 44,
    "start_time": "2022-01-19T14:25:42.428Z"
   },
   {
    "duration": 4,
    "start_time": "2022-01-19T14:25:42.474Z"
   },
   {
    "duration": 59,
    "start_time": "2022-01-19T14:25:42.480Z"
   },
   {
    "duration": 22,
    "start_time": "2022-01-19T14:25:42.540Z"
   },
   {
    "duration": 17,
    "start_time": "2022-01-19T14:25:42.564Z"
   },
   {
    "duration": 5,
    "start_time": "2022-01-19T14:25:42.582Z"
   },
   {
    "duration": 10,
    "start_time": "2022-01-19T14:25:42.589Z"
   },
   {
    "duration": 32,
    "start_time": "2022-01-19T14:25:42.601Z"
   },
   {
    "duration": 13,
    "start_time": "2022-01-19T14:25:42.635Z"
   },
   {
    "duration": 13,
    "start_time": "2022-01-19T14:25:42.651Z"
   },
   {
    "duration": 12,
    "start_time": "2022-01-19T14:25:42.665Z"
   },
   {
    "duration": 24,
    "start_time": "2022-01-19T14:25:42.678Z"
   },
   {
    "duration": 13,
    "start_time": "2022-01-19T14:25:42.704Z"
   },
   {
    "duration": 14,
    "start_time": "2022-01-19T14:25:42.718Z"
   },
   {
    "duration": 281,
    "start_time": "2022-01-19T14:25:42.733Z"
   },
   {
    "duration": 19,
    "start_time": "2022-01-19T14:25:43.015Z"
   },
   {
    "duration": 10,
    "start_time": "2022-01-19T14:25:43.035Z"
   },
   {
    "duration": 4,
    "start_time": "2022-01-19T14:25:43.047Z"
   },
   {
    "duration": 324,
    "start_time": "2022-01-19T14:25:43.053Z"
   },
   {
    "duration": 8,
    "start_time": "2022-01-19T14:25:43.378Z"
   },
   {
    "duration": 170,
    "start_time": "2022-01-19T14:25:43.387Z"
   },
   {
    "duration": 299,
    "start_time": "2022-01-19T14:25:43.559Z"
   },
   {
    "duration": 358,
    "start_time": "2022-01-19T14:25:43.860Z"
   },
   {
    "duration": 348,
    "start_time": "2022-01-19T14:25:44.220Z"
   },
   {
    "duration": 148,
    "start_time": "2022-01-19T14:27:58.645Z"
   },
   {
    "duration": 151,
    "start_time": "2022-01-19T14:28:29.287Z"
   },
   {
    "duration": 4,
    "start_time": "2022-01-19T14:41:45.024Z"
   },
   {
    "duration": 3,
    "start_time": "2022-01-19T14:42:17.502Z"
   },
   {
    "duration": 365,
    "start_time": "2022-01-19T14:42:17.507Z"
   },
   {
    "duration": 4,
    "start_time": "2022-01-19T14:42:17.874Z"
   },
   {
    "duration": 169,
    "start_time": "2022-01-19T14:42:17.879Z"
   },
   {
    "duration": 129,
    "start_time": "2022-01-19T14:42:18.050Z"
   },
   {
    "duration": 5,
    "start_time": "2022-01-19T14:42:18.181Z"
   },
   {
    "duration": 7,
    "start_time": "2022-01-19T14:42:18.187Z"
   },
   {
    "duration": 97,
    "start_time": "2022-01-19T14:42:18.195Z"
   },
   {
    "duration": 43,
    "start_time": "2022-01-19T14:42:18.294Z"
   },
   {
    "duration": 23,
    "start_time": "2022-01-19T14:42:18.339Z"
   },
   {
    "duration": 9,
    "start_time": "2022-01-19T14:42:18.364Z"
   },
   {
    "duration": 9,
    "start_time": "2022-01-19T14:42:18.375Z"
   },
   {
    "duration": 73,
    "start_time": "2022-01-19T14:42:18.386Z"
   },
   {
    "duration": 29,
    "start_time": "2022-01-19T14:42:18.460Z"
   },
   {
    "duration": 48,
    "start_time": "2022-01-19T14:42:18.491Z"
   },
   {
    "duration": 5,
    "start_time": "2022-01-19T14:42:18.541Z"
   },
   {
    "duration": 40,
    "start_time": "2022-01-19T14:42:18.547Z"
   },
   {
    "duration": 20,
    "start_time": "2022-01-19T14:42:18.589Z"
   },
   {
    "duration": 31,
    "start_time": "2022-01-19T14:42:18.610Z"
   },
   {
    "duration": 4,
    "start_time": "2022-01-19T14:42:18.642Z"
   },
   {
    "duration": 11,
    "start_time": "2022-01-19T14:42:18.647Z"
   },
   {
    "duration": 8,
    "start_time": "2022-01-19T14:42:18.659Z"
   },
   {
    "duration": 3,
    "start_time": "2022-01-19T14:42:18.669Z"
   },
   {
    "duration": 5,
    "start_time": "2022-01-19T14:42:18.674Z"
   },
   {
    "duration": 9,
    "start_time": "2022-01-19T14:42:18.680Z"
   },
   {
    "duration": 38,
    "start_time": "2022-01-19T14:42:18.691Z"
   },
   {
    "duration": 11,
    "start_time": "2022-01-19T14:42:18.732Z"
   },
   {
    "duration": 4,
    "start_time": "2022-01-19T14:42:18.745Z"
   },
   {
    "duration": 280,
    "start_time": "2022-01-19T14:42:18.751Z"
   },
   {
    "duration": 12,
    "start_time": "2022-01-19T14:42:19.033Z"
   },
   {
    "duration": 8,
    "start_time": "2022-01-19T14:42:19.047Z"
   },
   {
    "duration": 6,
    "start_time": "2022-01-19T14:42:19.057Z"
   },
   {
    "duration": 319,
    "start_time": "2022-01-19T14:42:19.065Z"
   },
   {
    "duration": 6,
    "start_time": "2022-01-19T14:42:19.386Z"
   },
   {
    "duration": 7,
    "start_time": "2022-01-19T14:42:19.394Z"
   },
   {
    "duration": 294,
    "start_time": "2022-01-19T14:42:19.403Z"
   },
   {
    "duration": 284,
    "start_time": "2022-01-19T14:42:19.699Z"
   },
   {
    "duration": 298,
    "start_time": "2022-01-19T14:42:19.984Z"
   },
   {
    "duration": 7,
    "start_time": "2022-01-19T15:14:37.576Z"
   },
   {
    "duration": 4,
    "start_time": "2022-01-19T15:15:31.217Z"
   },
   {
    "duration": 9,
    "start_time": "2022-01-19T15:15:32.576Z"
   },
   {
    "duration": 2,
    "start_time": "2022-01-19T15:17:03.263Z"
   },
   {
    "duration": 373,
    "start_time": "2022-01-19T15:17:03.269Z"
   },
   {
    "duration": 4,
    "start_time": "2022-01-19T15:17:03.643Z"
   },
   {
    "duration": 174,
    "start_time": "2022-01-19T15:17:03.649Z"
   },
   {
    "duration": 128,
    "start_time": "2022-01-19T15:17:03.826Z"
   },
   {
    "duration": 7,
    "start_time": "2022-01-19T15:17:03.956Z"
   },
   {
    "duration": 9,
    "start_time": "2022-01-19T15:17:03.964Z"
   },
   {
    "duration": 115,
    "start_time": "2022-01-19T15:17:03.975Z"
   },
   {
    "duration": 45,
    "start_time": "2022-01-19T15:17:04.092Z"
   },
   {
    "duration": 25,
    "start_time": "2022-01-19T15:17:04.139Z"
   },
   {
    "duration": 10,
    "start_time": "2022-01-19T15:17:04.166Z"
   },
   {
    "duration": 15,
    "start_time": "2022-01-19T15:17:04.177Z"
   },
   {
    "duration": 70,
    "start_time": "2022-01-19T15:17:04.193Z"
   },
   {
    "duration": 28,
    "start_time": "2022-01-19T15:17:04.264Z"
   },
   {
    "duration": 44,
    "start_time": "2022-01-19T15:17:04.294Z"
   },
   {
    "duration": 3,
    "start_time": "2022-01-19T15:17:04.340Z"
   },
   {
    "duration": 44,
    "start_time": "2022-01-19T15:17:04.345Z"
   },
   {
    "duration": 21,
    "start_time": "2022-01-19T15:17:04.390Z"
   },
   {
    "duration": 28,
    "start_time": "2022-01-19T15:17:04.413Z"
   },
   {
    "duration": 4,
    "start_time": "2022-01-19T15:17:04.443Z"
   },
   {
    "duration": 11,
    "start_time": "2022-01-19T15:17:04.448Z"
   },
   {
    "duration": 9,
    "start_time": "2022-01-19T15:17:04.461Z"
   },
   {
    "duration": 2,
    "start_time": "2022-01-19T15:17:04.471Z"
   },
   {
    "duration": 5,
    "start_time": "2022-01-19T15:17:04.476Z"
   },
   {
    "duration": 9,
    "start_time": "2022-01-19T15:17:04.483Z"
   },
   {
    "duration": 34,
    "start_time": "2022-01-19T15:17:04.493Z"
   },
   {
    "duration": 14,
    "start_time": "2022-01-19T15:17:04.529Z"
   },
   {
    "duration": 4,
    "start_time": "2022-01-19T15:17:04.545Z"
   },
   {
    "duration": 277,
    "start_time": "2022-01-19T15:17:04.550Z"
   },
   {
    "duration": 13,
    "start_time": "2022-01-19T15:17:04.829Z"
   },
   {
    "duration": 10,
    "start_time": "2022-01-19T15:17:04.844Z"
   },
   {
    "duration": 5,
    "start_time": "2022-01-19T15:17:04.855Z"
   },
   {
    "duration": 7,
    "start_time": "2022-01-19T15:17:04.861Z"
   },
   {
    "duration": 10,
    "start_time": "2022-01-19T15:17:04.869Z"
   },
   {
    "duration": 318,
    "start_time": "2022-01-19T15:17:04.880Z"
   },
   {
    "duration": 7,
    "start_time": "2022-01-19T15:17:05.199Z"
   },
   {
    "duration": 4,
    "start_time": "2022-01-19T15:17:05.207Z"
   },
   {
    "duration": 306,
    "start_time": "2022-01-19T15:17:05.212Z"
   },
   {
    "duration": 610,
    "start_time": "2022-01-19T15:17:05.520Z"
   },
   {
    "duration": 314,
    "start_time": "2022-01-19T15:17:06.132Z"
   },
   {
    "duration": 4,
    "start_time": "2022-01-19T16:46:18.683Z"
   },
   {
    "duration": 4,
    "start_time": "2022-01-19T16:46:20.508Z"
   },
   {
    "duration": 691,
    "start_time": "2022-01-19T16:46:29.566Z"
   },
   {
    "duration": 5,
    "start_time": "2022-01-19T16:48:24.841Z"
   },
   {
    "duration": 712,
    "start_time": "2022-01-19T16:48:54.896Z"
   },
   {
    "duration": 5,
    "start_time": "2022-01-19T16:49:03.681Z"
   },
   {
    "duration": 4,
    "start_time": "2022-01-19T16:49:04.158Z"
   },
   {
    "duration": 5,
    "start_time": "2022-01-19T16:49:04.633Z"
   },
   {
    "duration": 11,
    "start_time": "2022-01-19T16:49:06.720Z"
   },
   {
    "duration": 298,
    "start_time": "2022-01-19T16:49:07.376Z"
   },
   {
    "duration": 297,
    "start_time": "2022-01-19T16:49:22.371Z"
   },
   {
    "duration": 5,
    "start_time": "2022-01-19T17:50:02.382Z"
   },
   {
    "duration": 4,
    "start_time": "2022-01-19T17:50:53.220Z"
   },
   {
    "duration": 291,
    "start_time": "2022-01-19T17:50:58.000Z"
   },
   {
    "duration": 5,
    "start_time": "2022-01-19T17:51:43.796Z"
   },
   {
    "duration": 4,
    "start_time": "2022-01-19T17:51:45.015Z"
   },
   {
    "duration": 5,
    "start_time": "2022-01-19T17:51:45.515Z"
   },
   {
    "duration": 298,
    "start_time": "2022-01-19T17:51:48.893Z"
   },
   {
    "duration": 9,
    "start_time": "2022-01-19T17:52:58.293Z"
   },
   {
    "duration": 3,
    "start_time": "2022-01-19T17:53:33.406Z"
   },
   {
    "duration": 11,
    "start_time": "2022-01-19T17:53:35.894Z"
   },
   {
    "duration": 5,
    "start_time": "2022-01-19T17:54:47.127Z"
   },
   {
    "duration": 9,
    "start_time": "2022-01-19T17:54:59.178Z"
   },
   {
    "duration": 8,
    "start_time": "2022-01-19T17:55:13.502Z"
   },
   {
    "duration": 8,
    "start_time": "2022-01-19T17:55:39.116Z"
   },
   {
    "duration": 10,
    "start_time": "2022-01-19T17:56:19.490Z"
   },
   {
    "duration": 10,
    "start_time": "2022-01-19T17:56:52.092Z"
   },
   {
    "duration": 15,
    "start_time": "2022-01-19T17:57:48.462Z"
   },
   {
    "duration": 5,
    "start_time": "2022-01-19T18:08:35.853Z"
   },
   {
    "duration": 633,
    "start_time": "2022-01-19T18:08:41.995Z"
   },
   {
    "duration": 4,
    "start_time": "2022-01-19T18:09:10.583Z"
   },
   {
    "duration": 11,
    "start_time": "2022-01-19T18:09:13.404Z"
   },
   {
    "duration": 296,
    "start_time": "2022-01-19T18:10:29.748Z"
   },
   {
    "duration": 4,
    "start_time": "2022-01-19T18:11:11.380Z"
   },
   {
    "duration": 10,
    "start_time": "2022-01-19T18:11:13.459Z"
   },
   {
    "duration": 5,
    "start_time": "2022-01-19T18:38:32.411Z"
   },
   {
    "duration": 4,
    "start_time": "2022-01-19T18:38:33.423Z"
   },
   {
    "duration": 10,
    "start_time": "2022-01-19T18:38:40.808Z"
   },
   {
    "duration": 11,
    "start_time": "2022-01-19T18:39:00.159Z"
   },
   {
    "duration": 10,
    "start_time": "2022-01-19T18:39:37.205Z"
   },
   {
    "duration": 14,
    "start_time": "2022-01-19T18:39:47.028Z"
   },
   {
    "duration": 6,
    "start_time": "2022-01-19T18:40:48.847Z"
   },
   {
    "duration": 10,
    "start_time": "2022-01-19T18:40:52.160Z"
   },
   {
    "duration": 11,
    "start_time": "2022-01-19T18:40:55.794Z"
   },
   {
    "duration": 11,
    "start_time": "2022-01-19T18:40:58.567Z"
   },
   {
    "duration": 12,
    "start_time": "2022-01-19T18:41:01.187Z"
   },
   {
    "duration": 322,
    "start_time": "2022-01-19T18:44:47.413Z"
   },
   {
    "duration": 6,
    "start_time": "2022-01-19T18:44:53.634Z"
   },
   {
    "duration": 432,
    "start_time": "2022-01-19T18:44:57.310Z"
   },
   {
    "duration": 300,
    "start_time": "2022-01-19T18:45:39.745Z"
   },
   {
    "duration": 5,
    "start_time": "2022-01-19T18:48:04.435Z"
   },
   {
    "duration": 5,
    "start_time": "2022-01-19T18:48:05.157Z"
   },
   {
    "duration": 5,
    "start_time": "2022-01-19T18:48:05.887Z"
   },
   {
    "duration": 5,
    "start_time": "2022-01-19T18:48:24.532Z"
   },
   {
    "duration": 437,
    "start_time": "2022-01-19T18:49:31.958Z"
   },
   {
    "duration": 3404,
    "start_time": "2022-01-19T18:49:44.908Z"
   },
   {
    "duration": 529,
    "start_time": "2022-01-19T18:49:58.486Z"
   },
   {
    "duration": 5,
    "start_time": "2022-01-19T18:53:06.654Z"
   },
   {
    "duration": 318,
    "start_time": "2022-01-19T18:53:09.504Z"
   },
   {
    "duration": 216,
    "start_time": "2022-01-19T18:53:20.045Z"
   },
   {
    "duration": 118,
    "start_time": "2022-01-19T18:56:49.994Z"
   },
   {
    "duration": 200,
    "start_time": "2022-01-19T18:58:27.145Z"
   },
   {
    "duration": 226,
    "start_time": "2022-01-19T18:59:15.792Z"
   },
   {
    "duration": 333,
    "start_time": "2022-01-19T19:00:25.478Z"
   },
   {
    "duration": 226,
    "start_time": "2022-01-19T19:00:41.408Z"
   },
   {
    "duration": 222,
    "start_time": "2022-01-19T19:03:20.309Z"
   },
   {
    "duration": 218,
    "start_time": "2022-01-19T19:08:12.159Z"
   },
   {
    "duration": 5,
    "start_time": "2022-01-19T19:10:53.558Z"
   },
   {
    "duration": 252,
    "start_time": "2022-01-19T19:10:55.918Z"
   },
   {
    "duration": 5,
    "start_time": "2022-01-19T19:11:54.547Z"
   },
   {
    "duration": 321,
    "start_time": "2022-01-19T19:11:56.514Z"
   },
   {
    "duration": 223,
    "start_time": "2022-01-19T19:12:03.525Z"
   },
   {
    "duration": 227,
    "start_time": "2022-01-19T19:35:02.056Z"
   },
   {
    "duration": 223,
    "start_time": "2022-01-19T19:35:09.657Z"
   },
   {
    "duration": 231,
    "start_time": "2022-01-19T19:35:09.882Z"
   },
   {
    "duration": 5,
    "start_time": "2022-01-19T19:35:36.953Z"
   },
   {
    "duration": 374,
    "start_time": "2022-01-19T19:35:36.960Z"
   },
   {
    "duration": 4,
    "start_time": "2022-01-19T19:35:37.336Z"
   },
   {
    "duration": 194,
    "start_time": "2022-01-19T19:35:37.341Z"
   },
   {
    "duration": 131,
    "start_time": "2022-01-19T19:35:37.537Z"
   },
   {
    "duration": 5,
    "start_time": "2022-01-19T19:35:37.670Z"
   },
   {
    "duration": 11,
    "start_time": "2022-01-19T19:35:37.677Z"
   },
   {
    "duration": 104,
    "start_time": "2022-01-19T19:35:37.689Z"
   },
   {
    "duration": 46,
    "start_time": "2022-01-19T19:35:37.794Z"
   },
   {
    "duration": 23,
    "start_time": "2022-01-19T19:35:37.842Z"
   },
   {
    "duration": 9,
    "start_time": "2022-01-19T19:35:37.867Z"
   },
   {
    "duration": 9,
    "start_time": "2022-01-19T19:35:37.877Z"
   },
   {
    "duration": 68,
    "start_time": "2022-01-19T19:35:37.887Z"
   },
   {
    "duration": 28,
    "start_time": "2022-01-19T19:35:37.957Z"
   },
   {
    "duration": 44,
    "start_time": "2022-01-19T19:35:37.987Z"
   },
   {
    "duration": 3,
    "start_time": "2022-01-19T19:35:38.033Z"
   },
   {
    "duration": 44,
    "start_time": "2022-01-19T19:35:38.038Z"
   },
   {
    "duration": 22,
    "start_time": "2022-01-19T19:35:38.083Z"
   },
   {
    "duration": 28,
    "start_time": "2022-01-19T19:35:38.108Z"
   },
   {
    "duration": 4,
    "start_time": "2022-01-19T19:35:38.138Z"
   },
   {
    "duration": 11,
    "start_time": "2022-01-19T19:35:38.143Z"
   },
   {
    "duration": 9,
    "start_time": "2022-01-19T19:35:38.156Z"
   },
   {
    "duration": 3,
    "start_time": "2022-01-19T19:35:38.167Z"
   },
   {
    "duration": 6,
    "start_time": "2022-01-19T19:35:38.172Z"
   },
   {
    "duration": 10,
    "start_time": "2022-01-19T19:35:38.179Z"
   },
   {
    "duration": 41,
    "start_time": "2022-01-19T19:35:38.190Z"
   },
   {
    "duration": 12,
    "start_time": "2022-01-19T19:35:38.233Z"
   },
   {
    "duration": 5,
    "start_time": "2022-01-19T19:35:38.246Z"
   },
   {
    "duration": 286,
    "start_time": "2022-01-19T19:35:38.253Z"
   },
   {
    "duration": 13,
    "start_time": "2022-01-19T19:35:38.541Z"
   },
   {
    "duration": 10,
    "start_time": "2022-01-19T19:35:38.555Z"
   },
   {
    "duration": 5,
    "start_time": "2022-01-19T19:35:38.566Z"
   },
   {
    "duration": 8,
    "start_time": "2022-01-19T19:35:38.572Z"
   },
   {
    "duration": 236,
    "start_time": "2022-01-19T19:35:38.582Z"
   },
   {
    "duration": 224,
    "start_time": "2022-01-19T19:35:38.819Z"
   },
   {
    "duration": 234,
    "start_time": "2022-01-19T19:35:39.045Z"
   },
   {
    "duration": 251,
    "start_time": "2022-01-19T19:35:39.281Z"
   },
   {
    "duration": 240,
    "start_time": "2022-01-19T19:35:39.533Z"
   },
   {
    "duration": 3,
    "start_time": "2022-01-19T19:36:09.220Z"
   },
   {
    "duration": 382,
    "start_time": "2022-01-19T19:36:09.226Z"
   },
   {
    "duration": 4,
    "start_time": "2022-01-19T19:36:09.610Z"
   },
   {
    "duration": 191,
    "start_time": "2022-01-19T19:36:09.615Z"
   },
   {
    "duration": 140,
    "start_time": "2022-01-19T19:36:09.808Z"
   },
   {
    "duration": 6,
    "start_time": "2022-01-19T19:36:09.950Z"
   },
   {
    "duration": 12,
    "start_time": "2022-01-19T19:36:09.958Z"
   },
   {
    "duration": 103,
    "start_time": "2022-01-19T19:36:09.971Z"
   },
   {
    "duration": 29,
    "start_time": "2022-01-19T19:36:10.076Z"
   },
   {
    "duration": 42,
    "start_time": "2022-01-19T19:36:10.108Z"
   },
   {
    "duration": 9,
    "start_time": "2022-01-19T19:36:10.152Z"
   },
   {
    "duration": 22,
    "start_time": "2022-01-19T19:36:10.163Z"
   },
   {
    "duration": 56,
    "start_time": "2022-01-19T19:36:10.187Z"
   },
   {
    "duration": 28,
    "start_time": "2022-01-19T19:36:10.245Z"
   },
   {
    "duration": 33,
    "start_time": "2022-01-19T19:36:10.275Z"
   },
   {
    "duration": 17,
    "start_time": "2022-01-19T19:36:10.310Z"
   },
   {
    "duration": 39,
    "start_time": "2022-01-19T19:36:10.328Z"
   },
   {
    "duration": 21,
    "start_time": "2022-01-19T19:36:10.368Z"
   },
   {
    "duration": 16,
    "start_time": "2022-01-19T19:36:10.391Z"
   },
   {
    "duration": 21,
    "start_time": "2022-01-19T19:36:10.408Z"
   },
   {
    "duration": 28,
    "start_time": "2022-01-19T19:36:10.431Z"
   },
   {
    "duration": 10,
    "start_time": "2022-01-19T19:36:10.460Z"
   },
   {
    "duration": 10,
    "start_time": "2022-01-19T19:36:10.471Z"
   },
   {
    "duration": 21,
    "start_time": "2022-01-19T19:36:10.483Z"
   },
   {
    "duration": 27,
    "start_time": "2022-01-19T19:36:10.506Z"
   },
   {
    "duration": 29,
    "start_time": "2022-01-19T19:36:10.535Z"
   },
   {
    "duration": 23,
    "start_time": "2022-01-19T19:36:10.566Z"
   },
   {
    "duration": 9,
    "start_time": "2022-01-19T19:36:10.592Z"
   },
   {
    "duration": 285,
    "start_time": "2022-01-19T19:36:10.603Z"
   },
   {
    "duration": 13,
    "start_time": "2022-01-19T19:36:10.890Z"
   },
   {
    "duration": 18,
    "start_time": "2022-01-19T19:36:10.904Z"
   },
   {
    "duration": 15,
    "start_time": "2022-01-19T19:36:10.924Z"
   },
   {
    "duration": 30,
    "start_time": "2022-01-19T19:36:10.940Z"
   },
   {
    "duration": 240,
    "start_time": "2022-01-19T19:36:10.971Z"
   },
   {
    "duration": 230,
    "start_time": "2022-01-19T19:36:11.212Z"
   },
   {
    "duration": 248,
    "start_time": "2022-01-19T19:36:11.444Z"
   },
   {
    "duration": 229,
    "start_time": "2022-01-19T19:36:11.694Z"
   },
   {
    "duration": 242,
    "start_time": "2022-01-19T19:36:11.927Z"
   },
   {
    "duration": 108,
    "start_time": "2022-01-19T19:42:49.829Z"
   },
   {
    "duration": 106,
    "start_time": "2022-01-19T19:43:32.013Z"
   },
   {
    "duration": 589,
    "start_time": "2022-01-19T21:26:52.839Z"
   },
   {
    "duration": 3,
    "start_time": "2022-01-19T21:41:08.903Z"
   },
   {
    "duration": 400,
    "start_time": "2022-01-19T21:41:08.909Z"
   },
   {
    "duration": 4,
    "start_time": "2022-01-19T21:41:09.311Z"
   },
   {
    "duration": 175,
    "start_time": "2022-01-19T21:41:09.317Z"
   },
   {
    "duration": 133,
    "start_time": "2022-01-19T21:41:09.494Z"
   },
   {
    "duration": 6,
    "start_time": "2022-01-19T21:41:09.629Z"
   },
   {
    "duration": 8,
    "start_time": "2022-01-19T21:41:09.637Z"
   },
   {
    "duration": 108,
    "start_time": "2022-01-19T21:41:09.647Z"
   },
   {
    "duration": 31,
    "start_time": "2022-01-19T21:41:09.758Z"
   },
   {
    "duration": 51,
    "start_time": "2022-01-19T21:41:09.791Z"
   },
   {
    "duration": 10,
    "start_time": "2022-01-19T21:41:09.844Z"
   },
   {
    "duration": 11,
    "start_time": "2022-01-19T21:41:09.856Z"
   },
   {
    "duration": 65,
    "start_time": "2022-01-19T21:41:09.869Z"
   },
   {
    "duration": 28,
    "start_time": "2022-01-19T21:41:09.935Z"
   },
   {
    "duration": 34,
    "start_time": "2022-01-19T21:41:09.964Z"
   },
   {
    "duration": 4,
    "start_time": "2022-01-19T21:41:09.999Z"
   },
   {
    "duration": 57,
    "start_time": "2022-01-19T21:41:10.005Z"
   },
   {
    "duration": 20,
    "start_time": "2022-01-19T21:41:10.064Z"
   },
   {
    "duration": 16,
    "start_time": "2022-01-19T21:41:10.085Z"
   },
   {
    "duration": 4,
    "start_time": "2022-01-19T21:41:10.102Z"
   },
   {
    "duration": 26,
    "start_time": "2022-01-19T21:41:10.107Z"
   },
   {
    "duration": 9,
    "start_time": "2022-01-19T21:41:10.134Z"
   },
   {
    "duration": 2,
    "start_time": "2022-01-19T21:41:10.144Z"
   },
   {
    "duration": 5,
    "start_time": "2022-01-19T21:41:10.149Z"
   },
   {
    "duration": 8,
    "start_time": "2022-01-19T21:41:10.155Z"
   },
   {
    "duration": 7,
    "start_time": "2022-01-19T21:41:10.165Z"
   },
   {
    "duration": 11,
    "start_time": "2022-01-19T21:41:10.174Z"
   },
   {
    "duration": 4,
    "start_time": "2022-01-19T21:41:10.186Z"
   },
   {
    "duration": 293,
    "start_time": "2022-01-19T21:41:10.192Z"
   },
   {
    "duration": 13,
    "start_time": "2022-01-19T21:41:10.486Z"
   },
   {
    "duration": 9,
    "start_time": "2022-01-19T21:41:10.501Z"
   },
   {
    "duration": 18,
    "start_time": "2022-01-19T21:41:10.511Z"
   },
   {
    "duration": 6,
    "start_time": "2022-01-19T21:41:10.531Z"
   },
   {
    "duration": 306,
    "start_time": "2022-01-19T21:41:10.539Z"
   },
   {
    "duration": 313,
    "start_time": "2022-01-19T21:41:10.846Z"
   },
   {
    "duration": 355,
    "start_time": "2022-01-19T21:41:11.162Z"
   },
   {
    "duration": 326,
    "start_time": "2022-01-19T21:41:11.519Z"
   },
   {
    "duration": 297,
    "start_time": "2022-01-19T21:41:11.846Z"
   },
   {
    "duration": 3,
    "start_time": "2022-01-19T21:41:51.231Z"
   },
   {
    "duration": 389,
    "start_time": "2022-01-19T21:41:51.237Z"
   },
   {
    "duration": 4,
    "start_time": "2022-01-19T21:41:51.628Z"
   },
   {
    "duration": 182,
    "start_time": "2022-01-19T21:41:51.634Z"
   },
   {
    "duration": 135,
    "start_time": "2022-01-19T21:41:51.818Z"
   },
   {
    "duration": 4,
    "start_time": "2022-01-19T21:41:51.955Z"
   },
   {
    "duration": 7,
    "start_time": "2022-01-19T21:41:51.961Z"
   },
   {
    "duration": 105,
    "start_time": "2022-01-19T21:41:51.970Z"
   },
   {
    "duration": 29,
    "start_time": "2022-01-19T21:41:52.078Z"
   },
   {
    "duration": 41,
    "start_time": "2022-01-19T21:41:52.109Z"
   },
   {
    "duration": 10,
    "start_time": "2022-01-19T21:41:52.152Z"
   },
   {
    "duration": 9,
    "start_time": "2022-01-19T21:41:52.163Z"
   },
   {
    "duration": 68,
    "start_time": "2022-01-19T21:41:52.174Z"
   },
   {
    "duration": 29,
    "start_time": "2022-01-19T21:41:52.243Z"
   },
   {
    "duration": 33,
    "start_time": "2022-01-19T21:41:52.273Z"
   },
   {
    "duration": 21,
    "start_time": "2022-01-19T21:41:52.308Z"
   },
   {
    "duration": 43,
    "start_time": "2022-01-19T21:41:52.330Z"
   },
   {
    "duration": 22,
    "start_time": "2022-01-19T21:41:52.374Z"
   },
   {
    "duration": 32,
    "start_time": "2022-01-19T21:41:52.397Z"
   },
   {
    "duration": 4,
    "start_time": "2022-01-19T21:41:52.431Z"
   },
   {
    "duration": 11,
    "start_time": "2022-01-19T21:41:52.436Z"
   },
   {
    "duration": 8,
    "start_time": "2022-01-19T21:41:52.448Z"
   },
   {
    "duration": 2,
    "start_time": "2022-01-19T21:41:52.458Z"
   },
   {
    "duration": 7,
    "start_time": "2022-01-19T21:41:52.462Z"
   },
   {
    "duration": 8,
    "start_time": "2022-01-19T21:41:52.470Z"
   },
   {
    "duration": 6,
    "start_time": "2022-01-19T21:41:52.479Z"
   },
   {
    "duration": 40,
    "start_time": "2022-01-19T21:41:52.487Z"
   },
   {
    "duration": 5,
    "start_time": "2022-01-19T21:41:52.528Z"
   },
   {
    "duration": 277,
    "start_time": "2022-01-19T21:41:52.534Z"
   },
   {
    "duration": 15,
    "start_time": "2022-01-19T21:41:52.812Z"
   },
   {
    "duration": 13,
    "start_time": "2022-01-19T21:41:52.828Z"
   },
   {
    "duration": 13,
    "start_time": "2022-01-19T21:41:52.842Z"
   },
   {
    "duration": 8,
    "start_time": "2022-01-19T21:41:52.857Z"
   },
   {
    "duration": 229,
    "start_time": "2022-01-19T21:41:52.867Z"
   },
   {
    "duration": 259,
    "start_time": "2022-01-19T21:41:53.097Z"
   },
   {
    "duration": 227,
    "start_time": "2022-01-19T21:41:53.357Z"
   },
   {
    "duration": 248,
    "start_time": "2022-01-19T21:41:53.586Z"
   },
   {
    "duration": 254,
    "start_time": "2022-01-19T21:41:53.836Z"
   },
   {
    "duration": 4,
    "start_time": "2022-01-19T21:42:34.550Z"
   },
   {
    "duration": 412,
    "start_time": "2022-01-19T21:42:34.555Z"
   },
   {
    "duration": 4,
    "start_time": "2022-01-19T21:42:34.969Z"
   },
   {
    "duration": 172,
    "start_time": "2022-01-19T21:42:34.975Z"
   },
   {
    "duration": 121,
    "start_time": "2022-01-19T21:42:35.148Z"
   },
   {
    "duration": 5,
    "start_time": "2022-01-19T21:42:35.270Z"
   },
   {
    "duration": 9,
    "start_time": "2022-01-19T21:42:35.276Z"
   },
   {
    "duration": 96,
    "start_time": "2022-01-19T21:42:35.287Z"
   },
   {
    "duration": 29,
    "start_time": "2022-01-19T21:42:35.385Z"
   },
   {
    "duration": 34,
    "start_time": "2022-01-19T21:42:35.416Z"
   },
   {
    "duration": 10,
    "start_time": "2022-01-19T21:42:35.452Z"
   },
   {
    "duration": 8,
    "start_time": "2022-01-19T21:42:35.463Z"
   },
   {
    "duration": 54,
    "start_time": "2022-01-19T21:42:35.473Z"
   },
   {
    "duration": 27,
    "start_time": "2022-01-19T21:42:35.529Z"
   },
   {
    "duration": 33,
    "start_time": "2022-01-19T21:42:36.152Z"
   },
   {
    "duration": 3,
    "start_time": "2022-01-19T21:42:36.187Z"
   },
   {
    "duration": 72,
    "start_time": "2022-01-19T21:42:36.192Z"
   },
   {
    "duration": 21,
    "start_time": "2022-01-19T21:42:36.266Z"
   },
   {
    "duration": 15,
    "start_time": "2022-01-19T21:42:36.289Z"
   },
   {
    "duration": 4,
    "start_time": "2022-01-19T21:42:36.306Z"
   },
   {
    "duration": 9,
    "start_time": "2022-01-19T21:42:36.328Z"
   },
   {
    "duration": 9,
    "start_time": "2022-01-19T21:42:36.339Z"
   },
   {
    "duration": 3,
    "start_time": "2022-01-19T21:42:36.349Z"
   },
   {
    "duration": 9,
    "start_time": "2022-01-19T21:42:36.353Z"
   },
   {
    "duration": 10,
    "start_time": "2022-01-19T21:42:36.364Z"
   },
   {
    "duration": 8,
    "start_time": "2022-01-19T21:42:36.375Z"
   },
   {
    "duration": 43,
    "start_time": "2022-01-19T21:42:36.384Z"
   },
   {
    "duration": 5,
    "start_time": "2022-01-19T21:42:36.429Z"
   },
   {
    "duration": 275,
    "start_time": "2022-01-19T21:42:36.435Z"
   },
   {
    "duration": 17,
    "start_time": "2022-01-19T21:42:36.712Z"
   },
   {
    "duration": 9,
    "start_time": "2022-01-19T21:42:36.730Z"
   },
   {
    "duration": 5,
    "start_time": "2022-01-19T21:42:36.740Z"
   },
   {
    "duration": 6,
    "start_time": "2022-01-19T21:42:36.746Z"
   },
   {
    "duration": 242,
    "start_time": "2022-01-19T21:42:36.753Z"
   },
   {
    "duration": 242,
    "start_time": "2022-01-19T21:42:36.997Z"
   },
   {
    "duration": 206,
    "start_time": "2022-01-19T21:42:37.241Z"
   },
   {
    "duration": 221,
    "start_time": "2022-01-19T21:42:37.449Z"
   },
   {
    "duration": 244,
    "start_time": "2022-01-19T21:42:37.672Z"
   },
   {
    "duration": 220,
    "start_time": "2022-01-20T08:37:19.908Z"
   },
   {
    "duration": 1164,
    "start_time": "2022-01-20T08:37:28.091Z"
   },
   {
    "duration": 379,
    "start_time": "2022-01-20T08:37:29.257Z"
   },
   {
    "duration": 4,
    "start_time": "2022-01-20T08:37:29.638Z"
   },
   {
    "duration": 224,
    "start_time": "2022-01-20T08:37:29.643Z"
   },
   {
    "duration": 160,
    "start_time": "2022-01-20T08:37:29.869Z"
   },
   {
    "duration": 7,
    "start_time": "2022-01-20T08:37:30.032Z"
   },
   {
    "duration": 14,
    "start_time": "2022-01-20T08:37:30.041Z"
   },
   {
    "duration": 129,
    "start_time": "2022-01-20T08:37:30.058Z"
   },
   {
    "duration": 40,
    "start_time": "2022-01-20T08:37:30.189Z"
   },
   {
    "duration": 28,
    "start_time": "2022-01-20T08:37:30.231Z"
   },
   {
    "duration": 42,
    "start_time": "2022-01-20T08:37:30.261Z"
   },
   {
    "duration": 30,
    "start_time": "2022-01-20T08:37:30.305Z"
   },
   {
    "duration": 64,
    "start_time": "2022-01-20T08:37:30.337Z"
   },
   {
    "duration": 32,
    "start_time": "2022-01-20T08:37:30.402Z"
   },
   {
    "duration": 39,
    "start_time": "2022-01-20T08:37:30.435Z"
   },
   {
    "duration": 21,
    "start_time": "2022-01-20T08:37:30.476Z"
   },
   {
    "duration": 45,
    "start_time": "2022-01-20T08:37:30.499Z"
   },
   {
    "duration": 23,
    "start_time": "2022-01-20T08:37:30.546Z"
   },
   {
    "duration": 39,
    "start_time": "2022-01-20T08:37:30.571Z"
   },
   {
    "duration": 6,
    "start_time": "2022-01-20T08:37:30.611Z"
   },
   {
    "duration": 20,
    "start_time": "2022-01-20T08:37:30.619Z"
   },
   {
    "duration": 20,
    "start_time": "2022-01-20T08:37:30.640Z"
   },
   {
    "duration": 3,
    "start_time": "2022-01-20T08:37:30.663Z"
   },
   {
    "duration": 11,
    "start_time": "2022-01-20T08:37:30.668Z"
   },
   {
    "duration": 21,
    "start_time": "2022-01-20T08:37:30.680Z"
   },
   {
    "duration": 7,
    "start_time": "2022-01-20T08:37:30.703Z"
   },
   {
    "duration": 27,
    "start_time": "2022-01-20T08:37:30.712Z"
   },
   {
    "duration": 5,
    "start_time": "2022-01-20T08:37:30.741Z"
   },
   {
    "duration": 288,
    "start_time": "2022-01-20T08:37:30.748Z"
   },
   {
    "duration": 16,
    "start_time": "2022-01-20T08:37:31.038Z"
   },
   {
    "duration": 47,
    "start_time": "2022-01-20T08:37:31.056Z"
   },
   {
    "duration": 23,
    "start_time": "2022-01-20T08:37:31.105Z"
   },
   {
    "duration": 45,
    "start_time": "2022-01-20T08:37:31.129Z"
   },
   {
    "duration": 302,
    "start_time": "2022-01-20T08:37:31.176Z"
   },
   {
    "duration": 283,
    "start_time": "2022-01-20T08:37:31.480Z"
   },
   {
    "duration": 254,
    "start_time": "2022-01-20T08:37:31.765Z"
   },
   {
    "duration": 251,
    "start_time": "2022-01-20T08:37:32.020Z"
   },
   {
    "duration": 421,
    "start_time": "2022-01-20T08:37:32.273Z"
   },
   {
    "duration": 973,
    "start_time": "2022-01-20T08:37:31.723Z"
   },
   {
    "duration": 239,
    "start_time": "2022-01-20T08:37:57.482Z"
   },
   {
    "duration": 6,
    "start_time": "2022-01-20T08:38:12.564Z"
   },
   {
    "duration": 6,
    "start_time": "2022-01-20T08:46:24.498Z"
   },
   {
    "duration": 338,
    "start_time": "2022-01-20T08:47:46.624Z"
   },
   {
    "duration": 6,
    "start_time": "2022-01-20T10:36:35.750Z"
   },
   {
    "duration": 6,
    "start_time": "2022-01-20T10:36:48.598Z"
   },
   {
    "duration": 6,
    "start_time": "2022-01-20T10:38:46.585Z"
   },
   {
    "duration": 5,
    "start_time": "2022-01-20T10:39:21.393Z"
   },
   {
    "duration": 7,
    "start_time": "2022-01-20T10:46:21.309Z"
   },
   {
    "duration": 6,
    "start_time": "2022-01-20T10:51:45.686Z"
   },
   {
    "duration": 7,
    "start_time": "2022-01-20T10:52:21.986Z"
   },
   {
    "duration": 7,
    "start_time": "2022-01-20T11:30:40.656Z"
   },
   {
    "duration": 8,
    "start_time": "2022-01-20T11:31:17.044Z"
   },
   {
    "duration": 7,
    "start_time": "2022-01-20T11:31:26.286Z"
   },
   {
    "duration": 8,
    "start_time": "2022-01-20T11:31:35.340Z"
   },
   {
    "duration": 257,
    "start_time": "2022-01-20T11:33:03.135Z"
   },
   {
    "duration": 101,
    "start_time": "2022-01-20T11:33:49.974Z"
   },
   {
    "duration": 8,
    "start_time": "2022-01-20T11:34:13.010Z"
   },
   {
    "duration": 8,
    "start_time": "2022-01-20T12:07:49.712Z"
   },
   {
    "duration": 25,
    "start_time": "2022-01-20T12:08:02.210Z"
   },
   {
    "duration": 23,
    "start_time": "2022-01-20T12:08:12.807Z"
   },
   {
    "duration": 7,
    "start_time": "2022-01-20T12:12:18.855Z"
   },
   {
    "duration": 7,
    "start_time": "2022-01-20T12:35:44.188Z"
   },
   {
    "duration": 10,
    "start_time": "2022-01-20T12:59:08.761Z"
   },
   {
    "duration": 236,
    "start_time": "2022-01-20T13:01:27.995Z"
   },
   {
    "duration": 66,
    "start_time": "2022-01-20T13:01:47.241Z"
   },
   {
    "duration": 5,
    "start_time": "2022-01-20T13:01:52.653Z"
   },
   {
    "duration": 5,
    "start_time": "2022-01-20T13:02:11.814Z"
   },
   {
    "duration": 23,
    "start_time": "2022-01-20T13:16:12.638Z"
   },
   {
    "duration": 12,
    "start_time": "2022-01-20T13:17:52.157Z"
   },
   {
    "duration": 12,
    "start_time": "2022-01-20T13:18:19.642Z"
   },
   {
    "duration": 280,
    "start_time": "2022-01-20T13:20:20.393Z"
   },
   {
    "duration": 62,
    "start_time": "2022-01-20T13:23:39.747Z"
   },
   {
    "duration": 68,
    "start_time": "2022-01-20T13:23:58.015Z"
   },
   {
    "duration": 67,
    "start_time": "2022-01-20T13:24:06.970Z"
   },
   {
    "duration": 61,
    "start_time": "2022-01-20T13:25:50.950Z"
   },
   {
    "duration": 264,
    "start_time": "2022-01-20T13:25:56.452Z"
   },
   {
    "duration": 270,
    "start_time": "2022-01-20T13:26:45.873Z"
   },
   {
    "duration": 3,
    "start_time": "2022-01-20T14:16:09.021Z"
   },
   {
    "duration": 413,
    "start_time": "2022-01-20T14:16:09.036Z"
   },
   {
    "duration": 4,
    "start_time": "2022-01-20T14:16:09.451Z"
   },
   {
    "duration": 228,
    "start_time": "2022-01-20T14:16:09.457Z"
   },
   {
    "duration": 149,
    "start_time": "2022-01-20T14:16:09.687Z"
   },
   {
    "duration": 6,
    "start_time": "2022-01-20T14:16:09.838Z"
   },
   {
    "duration": 38,
    "start_time": "2022-01-20T14:16:09.845Z"
   },
   {
    "duration": 101,
    "start_time": "2022-01-20T14:16:09.885Z"
   },
   {
    "duration": 42,
    "start_time": "2022-01-20T14:16:09.997Z"
   },
   {
    "duration": 59,
    "start_time": "2022-01-20T14:16:10.041Z"
   },
   {
    "duration": 10,
    "start_time": "2022-01-20T14:16:10.101Z"
   },
   {
    "duration": 39,
    "start_time": "2022-01-20T14:16:10.113Z"
   },
   {
    "duration": 71,
    "start_time": "2022-01-20T14:16:10.153Z"
   },
   {
    "duration": 29,
    "start_time": "2022-01-20T14:16:10.226Z"
   },
   {
    "duration": 49,
    "start_time": "2022-01-20T14:16:10.257Z"
   },
   {
    "duration": 4,
    "start_time": "2022-01-20T14:16:10.308Z"
   },
   {
    "duration": 69,
    "start_time": "2022-01-20T14:16:10.313Z"
   },
   {
    "duration": 23,
    "start_time": "2022-01-20T14:16:10.384Z"
   },
   {
    "duration": 31,
    "start_time": "2022-01-20T14:16:10.408Z"
   },
   {
    "duration": 14,
    "start_time": "2022-01-20T14:16:10.441Z"
   },
   {
    "duration": 30,
    "start_time": "2022-01-20T14:16:10.456Z"
   },
   {
    "duration": 38,
    "start_time": "2022-01-20T14:16:10.488Z"
   },
   {
    "duration": 32,
    "start_time": "2022-01-20T14:16:10.527Z"
   },
   {
    "duration": 28,
    "start_time": "2022-01-20T14:16:10.562Z"
   },
   {
    "duration": 34,
    "start_time": "2022-01-20T14:16:10.593Z"
   },
   {
    "duration": 45,
    "start_time": "2022-01-20T14:16:10.629Z"
   },
   {
    "duration": 65,
    "start_time": "2022-01-20T14:16:10.675Z"
   },
   {
    "duration": 24,
    "start_time": "2022-01-20T14:16:10.742Z"
   },
   {
    "duration": 337,
    "start_time": "2022-01-20T14:16:10.768Z"
   },
   {
    "duration": 15,
    "start_time": "2022-01-20T14:16:11.107Z"
   },
   {
    "duration": 46,
    "start_time": "2022-01-20T14:16:11.124Z"
   },
   {
    "duration": 44,
    "start_time": "2022-01-20T14:16:11.171Z"
   },
   {
    "duration": 61,
    "start_time": "2022-01-20T14:16:11.217Z"
   },
   {
    "duration": 294,
    "start_time": "2022-01-20T14:16:11.280Z"
   },
   {
    "duration": 286,
    "start_time": "2022-01-20T14:16:11.576Z"
   },
   {
    "duration": 256,
    "start_time": "2022-01-20T14:16:11.863Z"
   },
   {
    "duration": 255,
    "start_time": "2022-01-20T14:16:12.121Z"
   },
   {
    "duration": 18,
    "start_time": "2022-01-20T14:16:12.378Z"
   },
   {
    "duration": 45,
    "start_time": "2022-01-20T14:16:12.398Z"
   },
   {
    "duration": 322,
    "start_time": "2022-01-20T14:16:12.445Z"
   },
   {
    "duration": 7,
    "start_time": "2022-01-20T14:16:12.769Z"
   },
   {
    "duration": 45,
    "start_time": "2022-01-20T14:16:12.778Z"
   },
   {
    "duration": 46,
    "start_time": "2022-01-20T14:16:12.825Z"
   },
   {
    "duration": 400,
    "start_time": "2022-01-20T14:16:12.874Z"
   },
   {
    "duration": 1056,
    "start_time": "2022-01-20T14:24:58.106Z"
   },
   {
    "duration": 405,
    "start_time": "2022-01-20T14:24:59.163Z"
   },
   {
    "duration": 4,
    "start_time": "2022-01-20T14:24:59.570Z"
   },
   {
    "duration": 235,
    "start_time": "2022-01-20T14:24:59.576Z"
   },
   {
    "duration": 164,
    "start_time": "2022-01-20T14:24:59.812Z"
   },
   {
    "duration": 22,
    "start_time": "2022-01-20T14:24:59.978Z"
   },
   {
    "duration": 13,
    "start_time": "2022-01-20T14:25:00.002Z"
   },
   {
    "duration": 156,
    "start_time": "2022-01-20T14:25:00.018Z"
   },
   {
    "duration": 56,
    "start_time": "2022-01-20T14:25:00.178Z"
   },
   {
    "duration": 62,
    "start_time": "2022-01-20T14:25:00.237Z"
   },
   {
    "duration": 15,
    "start_time": "2022-01-20T14:25:00.302Z"
   },
   {
    "duration": 54,
    "start_time": "2022-01-20T14:25:00.320Z"
   },
   {
    "duration": 95,
    "start_time": "2022-01-20T14:25:00.376Z"
   },
   {
    "duration": 36,
    "start_time": "2022-01-20T14:25:00.474Z"
   },
   {
    "duration": 46,
    "start_time": "2022-01-20T14:25:00.512Z"
   },
   {
    "duration": 5,
    "start_time": "2022-01-20T14:25:00.560Z"
   },
   {
    "duration": 63,
    "start_time": "2022-01-20T14:25:00.567Z"
   },
   {
    "duration": 23,
    "start_time": "2022-01-20T14:25:00.632Z"
   },
   {
    "duration": 18,
    "start_time": "2022-01-20T14:25:00.657Z"
   },
   {
    "duration": 24,
    "start_time": "2022-01-20T14:25:00.676Z"
   },
   {
    "duration": 36,
    "start_time": "2022-01-20T14:25:00.702Z"
   },
   {
    "duration": 27,
    "start_time": "2022-01-20T14:25:00.741Z"
   },
   {
    "duration": 23,
    "start_time": "2022-01-20T14:25:00.771Z"
   },
   {
    "duration": 30,
    "start_time": "2022-01-20T14:25:00.797Z"
   },
   {
    "duration": 16,
    "start_time": "2022-01-20T14:25:00.829Z"
   },
   {
    "duration": 25,
    "start_time": "2022-01-20T14:25:00.847Z"
   },
   {
    "duration": 28,
    "start_time": "2022-01-20T14:25:00.874Z"
   },
   {
    "duration": 27,
    "start_time": "2022-01-20T14:25:00.903Z"
   },
   {
    "duration": 311,
    "start_time": "2022-01-20T14:25:00.932Z"
   },
   {
    "duration": 18,
    "start_time": "2022-01-20T14:25:01.245Z"
   },
   {
    "duration": 57,
    "start_time": "2022-01-20T14:25:01.265Z"
   },
   {
    "duration": 39,
    "start_time": "2022-01-20T14:25:01.324Z"
   },
   {
    "duration": 62,
    "start_time": "2022-01-20T14:25:01.365Z"
   },
   {
    "duration": 321,
    "start_time": "2022-01-20T14:25:01.429Z"
   },
   {
    "duration": 300,
    "start_time": "2022-01-20T14:25:01.752Z"
   },
   {
    "duration": 260,
    "start_time": "2022-01-20T14:25:02.054Z"
   },
   {
    "duration": 281,
    "start_time": "2022-01-20T14:25:02.316Z"
   },
   {
    "duration": 6,
    "start_time": "2022-01-20T14:25:02.599Z"
   },
   {
    "duration": 13,
    "start_time": "2022-01-20T14:25:02.607Z"
   },
   {
    "duration": 311,
    "start_time": "2022-01-20T14:25:02.622Z"
   },
   {
    "duration": 8,
    "start_time": "2022-01-20T14:25:02.935Z"
   },
   {
    "duration": 16,
    "start_time": "2022-01-20T14:25:02.944Z"
   },
   {
    "duration": 9,
    "start_time": "2022-01-20T14:25:02.962Z"
   },
   {
    "duration": 401,
    "start_time": "2022-01-20T14:25:02.972Z"
   },
   {
    "duration": 10,
    "start_time": "2022-01-20T14:25:22.755Z"
   },
   {
    "duration": 1076,
    "start_time": "2022-01-24T18:08:26.469Z"
   },
   {
    "duration": 372,
    "start_time": "2022-01-24T18:08:27.547Z"
   },
   {
    "duration": 5,
    "start_time": "2022-01-24T18:08:27.922Z"
   },
   {
    "duration": 220,
    "start_time": "2022-01-24T18:08:27.929Z"
   },
   {
    "duration": 154,
    "start_time": "2022-01-24T18:08:28.151Z"
   },
   {
    "duration": 10,
    "start_time": "2022-01-24T18:08:28.306Z"
   },
   {
    "duration": 8,
    "start_time": "2022-01-24T18:08:28.318Z"
   },
   {
    "duration": 113,
    "start_time": "2022-01-24T18:08:28.329Z"
   },
   {
    "duration": 35,
    "start_time": "2022-01-24T18:08:28.444Z"
   },
   {
    "duration": 53,
    "start_time": "2022-01-24T18:08:28.480Z"
   },
   {
    "duration": 11,
    "start_time": "2022-01-24T18:08:28.535Z"
   },
   {
    "duration": 9,
    "start_time": "2022-01-24T18:08:28.548Z"
   },
   {
    "duration": 67,
    "start_time": "2022-01-24T18:08:28.559Z"
   },
   {
    "duration": 30,
    "start_time": "2022-01-24T18:08:28.627Z"
   },
   {
    "duration": 38,
    "start_time": "2022-01-24T18:08:28.658Z"
   },
   {
    "duration": 4,
    "start_time": "2022-01-24T18:08:28.712Z"
   },
   {
    "duration": 41,
    "start_time": "2022-01-24T18:08:28.718Z"
   },
   {
    "duration": 21,
    "start_time": "2022-01-24T18:08:28.760Z"
   },
   {
    "duration": 35,
    "start_time": "2022-01-24T18:08:28.783Z"
   },
   {
    "duration": 6,
    "start_time": "2022-01-24T18:08:28.819Z"
   },
   {
    "duration": 10,
    "start_time": "2022-01-24T18:08:28.826Z"
   },
   {
    "duration": 9,
    "start_time": "2022-01-24T18:08:28.838Z"
   },
   {
    "duration": 3,
    "start_time": "2022-01-24T18:08:28.849Z"
   },
   {
    "duration": 7,
    "start_time": "2022-01-24T18:08:28.853Z"
   },
   {
    "duration": 12,
    "start_time": "2022-01-24T18:08:28.861Z"
   },
   {
    "duration": 41,
    "start_time": "2022-01-24T18:08:28.875Z"
   },
   {
    "duration": 14,
    "start_time": "2022-01-24T18:08:28.917Z"
   },
   {
    "duration": 5,
    "start_time": "2022-01-24T18:08:28.933Z"
   },
   {
    "duration": 310,
    "start_time": "2022-01-24T18:08:28.940Z"
   },
   {
    "duration": 14,
    "start_time": "2022-01-24T18:08:29.252Z"
   },
   {
    "duration": 8,
    "start_time": "2022-01-24T18:08:29.268Z"
   },
   {
    "duration": 5,
    "start_time": "2022-01-24T18:08:29.278Z"
   },
   {
    "duration": 28,
    "start_time": "2022-01-24T18:08:29.284Z"
   },
   {
    "duration": 276,
    "start_time": "2022-01-24T18:08:29.314Z"
   },
   {
    "duration": 282,
    "start_time": "2022-01-24T18:08:29.592Z"
   },
   {
    "duration": 276,
    "start_time": "2022-01-24T18:08:29.876Z"
   },
   {
    "duration": 272,
    "start_time": "2022-01-24T18:08:30.154Z"
   },
   {
    "duration": 8,
    "start_time": "2022-01-24T18:08:30.428Z"
   },
   {
    "duration": 13,
    "start_time": "2022-01-24T18:08:30.437Z"
   },
   {
    "duration": 300,
    "start_time": "2022-01-24T18:08:30.451Z"
   },
   {
    "duration": 7,
    "start_time": "2022-01-24T18:08:30.752Z"
   },
   {
    "duration": 6,
    "start_time": "2022-01-24T18:08:30.761Z"
   },
   {
    "duration": 19,
    "start_time": "2022-01-24T18:08:30.768Z"
   },
   {
    "duration": 366,
    "start_time": "2022-01-24T18:08:30.788Z"
   },
   {
    "duration": 24,
    "start_time": "2022-01-24T18:13:25.333Z"
   },
   {
    "duration": 4,
    "start_time": "2022-01-24T18:13:28.471Z"
   },
   {
    "duration": 4,
    "start_time": "2022-01-24T18:13:37.033Z"
   },
   {
    "duration": 7,
    "start_time": "2022-01-24T18:14:36.296Z"
   },
   {
    "duration": 7,
    "start_time": "2022-01-24T18:21:30.959Z"
   },
   {
    "duration": 278,
    "start_time": "2022-01-25T05:51:52.243Z"
   },
   {
    "duration": 1127,
    "start_time": "2022-01-25T05:52:00.311Z"
   },
   {
    "duration": 426,
    "start_time": "2022-01-25T05:52:01.440Z"
   },
   {
    "duration": 5,
    "start_time": "2022-01-25T05:52:01.868Z"
   },
   {
    "duration": 278,
    "start_time": "2022-01-25T05:52:01.875Z"
   },
   {
    "duration": 169,
    "start_time": "2022-01-25T05:52:02.155Z"
   },
   {
    "duration": 8,
    "start_time": "2022-01-25T05:52:02.325Z"
   },
   {
    "duration": 26,
    "start_time": "2022-01-25T05:52:02.335Z"
   },
   {
    "duration": 110,
    "start_time": "2022-01-25T05:52:02.364Z"
   },
   {
    "duration": 34,
    "start_time": "2022-01-25T05:52:02.476Z"
   },
   {
    "duration": 54,
    "start_time": "2022-01-25T05:52:02.511Z"
   },
   {
    "duration": 12,
    "start_time": "2022-01-25T05:52:02.567Z"
   },
   {
    "duration": 18,
    "start_time": "2022-01-25T05:52:02.580Z"
   },
   {
    "duration": 64,
    "start_time": "2022-01-25T05:52:02.600Z"
   },
   {
    "duration": 29,
    "start_time": "2022-01-25T05:52:02.666Z"
   },
   {
    "duration": 15,
    "start_time": "2022-01-25T05:52:02.696Z"
   },
   {
    "duration": 50,
    "start_time": "2022-01-25T05:52:02.713Z"
   },
   {
    "duration": 41,
    "start_time": "2022-01-25T05:52:02.764Z"
   },
   {
    "duration": 5,
    "start_time": "2022-01-25T05:52:02.807Z"
   },
   {
    "duration": 70,
    "start_time": "2022-01-25T05:52:02.813Z"
   },
   {
    "duration": 24,
    "start_time": "2022-01-25T05:52:02.885Z"
   },
   {
    "duration": 30,
    "start_time": "2022-01-25T05:52:02.911Z"
   },
   {
    "duration": 16,
    "start_time": "2022-01-25T05:52:02.943Z"
   },
   {
    "duration": 31,
    "start_time": "2022-01-25T05:52:02.962Z"
   },
   {
    "duration": 33,
    "start_time": "2022-01-25T05:52:02.995Z"
   },
   {
    "duration": 24,
    "start_time": "2022-01-25T05:52:03.030Z"
   },
   {
    "duration": 23,
    "start_time": "2022-01-25T05:52:03.055Z"
   },
   {
    "duration": 34,
    "start_time": "2022-01-25T05:52:03.079Z"
   },
   {
    "duration": 21,
    "start_time": "2022-01-25T05:52:03.115Z"
   },
   {
    "duration": 22,
    "start_time": "2022-01-25T05:52:03.138Z"
   },
   {
    "duration": 22,
    "start_time": "2022-01-25T05:52:03.162Z"
   },
   {
    "duration": 20,
    "start_time": "2022-01-25T05:52:03.186Z"
   },
   {
    "duration": 17,
    "start_time": "2022-01-25T05:52:03.208Z"
   },
   {
    "duration": 309,
    "start_time": "2022-01-25T05:52:03.226Z"
   },
   {
    "duration": 7,
    "start_time": "2022-01-25T05:52:03.536Z"
   },
   {
    "duration": 33,
    "start_time": "2022-01-25T05:52:03.545Z"
   },
   {
    "duration": 37,
    "start_time": "2022-01-25T05:52:03.579Z"
   },
   {
    "duration": 10,
    "start_time": "2022-01-25T05:52:03.618Z"
   },
   {
    "duration": 28,
    "start_time": "2022-01-25T05:52:03.629Z"
   },
   {
    "duration": 284,
    "start_time": "2022-01-25T05:52:03.659Z"
   },
   {
    "duration": 260,
    "start_time": "2022-01-25T05:52:03.944Z"
   },
   {
    "duration": 256,
    "start_time": "2022-01-25T05:52:04.205Z"
   },
   {
    "duration": 243,
    "start_time": "2022-01-25T05:52:04.463Z"
   },
   {
    "duration": 6,
    "start_time": "2022-01-25T05:52:04.708Z"
   },
   {
    "duration": 34,
    "start_time": "2022-01-25T05:52:04.716Z"
   },
   {
    "duration": 292,
    "start_time": "2022-01-25T05:52:04.752Z"
   },
   {
    "duration": 16,
    "start_time": "2022-01-25T05:52:05.046Z"
   },
   {
    "duration": 28,
    "start_time": "2022-01-25T05:52:05.064Z"
   },
   {
    "duration": 17,
    "start_time": "2022-01-25T05:52:05.093Z"
   },
   {
    "duration": 339,
    "start_time": "2022-01-25T05:52:05.112Z"
   },
   {
    "duration": 4,
    "start_time": "2022-01-25T05:54:11.895Z"
   },
   {
    "duration": 412,
    "start_time": "2022-01-25T05:54:11.927Z"
   },
   {
    "duration": 4,
    "start_time": "2022-01-25T05:54:12.341Z"
   },
   {
    "duration": 267,
    "start_time": "2022-01-25T05:54:12.347Z"
   },
   {
    "duration": 138,
    "start_time": "2022-01-25T05:54:12.616Z"
   },
   {
    "duration": 9,
    "start_time": "2022-01-25T05:54:12.755Z"
   },
   {
    "duration": 49,
    "start_time": "2022-01-25T05:54:12.765Z"
   },
   {
    "duration": 163,
    "start_time": "2022-01-25T05:54:12.816Z"
   },
   {
    "duration": 36,
    "start_time": "2022-01-25T05:54:12.981Z"
   },
   {
    "duration": 55,
    "start_time": "2022-01-25T05:54:13.019Z"
   },
   {
    "duration": 13,
    "start_time": "2022-01-25T05:54:13.076Z"
   },
   {
    "duration": 45,
    "start_time": "2022-01-25T05:54:13.091Z"
   },
   {
    "duration": 66,
    "start_time": "2022-01-25T05:54:13.138Z"
   },
   {
    "duration": 27,
    "start_time": "2022-01-25T05:54:13.206Z"
   },
   {
    "duration": 27,
    "start_time": "2022-01-25T05:54:13.235Z"
   },
   {
    "duration": 32,
    "start_time": "2022-01-25T05:54:13.264Z"
   },
   {
    "duration": 39,
    "start_time": "2022-01-25T05:54:13.298Z"
   },
   {
    "duration": 23,
    "start_time": "2022-01-25T05:54:13.338Z"
   },
   {
    "duration": 56,
    "start_time": "2022-01-25T05:54:13.362Z"
   },
   {
    "duration": 24,
    "start_time": "2022-01-25T05:54:13.420Z"
   },
   {
    "duration": 31,
    "start_time": "2022-01-25T05:54:13.445Z"
   },
   {
    "duration": 31,
    "start_time": "2022-01-25T05:54:13.478Z"
   },
   {
    "duration": 38,
    "start_time": "2022-01-25T05:54:13.510Z"
   },
   {
    "duration": 27,
    "start_time": "2022-01-25T05:54:13.553Z"
   },
   {
    "duration": 15,
    "start_time": "2022-01-25T05:54:13.583Z"
   },
   {
    "duration": 18,
    "start_time": "2022-01-25T05:54:13.600Z"
   },
   {
    "duration": 18,
    "start_time": "2022-01-25T05:54:13.620Z"
   },
   {
    "duration": 23,
    "start_time": "2022-01-25T05:54:13.641Z"
   },
   {
    "duration": 17,
    "start_time": "2022-01-25T05:54:13.665Z"
   },
   {
    "duration": 9,
    "start_time": "2022-01-25T05:54:13.684Z"
   },
   {
    "duration": 22,
    "start_time": "2022-01-25T05:54:13.695Z"
   },
   {
    "duration": 9,
    "start_time": "2022-01-25T05:54:13.719Z"
   },
   {
    "duration": 314,
    "start_time": "2022-01-25T05:54:13.730Z"
   },
   {
    "duration": 16,
    "start_time": "2022-01-25T05:54:14.045Z"
   },
   {
    "duration": 25,
    "start_time": "2022-01-25T05:54:14.063Z"
   },
   {
    "duration": 21,
    "start_time": "2022-01-25T05:54:14.089Z"
   },
   {
    "duration": 13,
    "start_time": "2022-01-25T05:54:14.112Z"
   },
   {
    "duration": 19,
    "start_time": "2022-01-25T05:54:14.127Z"
   },
   {
    "duration": 275,
    "start_time": "2022-01-25T05:54:14.147Z"
   },
   {
    "duration": 291,
    "start_time": "2022-01-25T05:54:14.423Z"
   },
   {
    "duration": 248,
    "start_time": "2022-01-25T05:54:14.716Z"
   },
   {
    "duration": 365,
    "start_time": "2022-01-25T05:54:14.966Z"
   },
   {
    "duration": 8,
    "start_time": "2022-01-25T05:54:15.333Z"
   },
   {
    "duration": 31,
    "start_time": "2022-01-25T05:54:15.343Z"
   },
   {
    "duration": 293,
    "start_time": "2022-01-25T05:54:15.376Z"
   },
   {
    "duration": 8,
    "start_time": "2022-01-25T05:54:15.671Z"
   },
   {
    "duration": 31,
    "start_time": "2022-01-25T05:54:15.681Z"
   },
   {
    "duration": 21,
    "start_time": "2022-01-25T05:54:15.714Z"
   },
   {
    "duration": 293,
    "start_time": "2022-01-25T05:54:15.737Z"
   },
   {
    "duration": 3,
    "start_time": "2022-01-25T05:58:34.633Z"
   },
   {
    "duration": 410,
    "start_time": "2022-01-25T05:58:34.638Z"
   },
   {
    "duration": 4,
    "start_time": "2022-01-25T05:58:35.050Z"
   },
   {
    "duration": 240,
    "start_time": "2022-01-25T05:58:35.056Z"
   },
   {
    "duration": 149,
    "start_time": "2022-01-25T05:58:35.298Z"
   },
   {
    "duration": 14,
    "start_time": "2022-01-25T05:58:35.449Z"
   },
   {
    "duration": 33,
    "start_time": "2022-01-25T05:58:35.465Z"
   },
   {
    "duration": 113,
    "start_time": "2022-01-25T05:58:35.500Z"
   },
   {
    "duration": 48,
    "start_time": "2022-01-25T05:58:35.616Z"
   },
   {
    "duration": 52,
    "start_time": "2022-01-25T05:58:35.666Z"
   },
   {
    "duration": 20,
    "start_time": "2022-01-25T05:58:35.720Z"
   },
   {
    "duration": 24,
    "start_time": "2022-01-25T05:58:35.741Z"
   },
   {
    "duration": 12,
    "start_time": "2022-01-25T05:58:35.767Z"
   },
   {
    "duration": 1836,
    "start_time": "2022-01-25T05:58:35.781Z"
   },
   {
    "duration": -271,
    "start_time": "2022-01-25T05:58:37.891Z"
   },
   {
    "duration": -330,
    "start_time": "2022-01-25T05:58:37.951Z"
   },
   {
    "duration": -387,
    "start_time": "2022-01-25T05:58:38.009Z"
   },
   {
    "duration": -439,
    "start_time": "2022-01-25T05:58:38.062Z"
   },
   {
    "duration": -488,
    "start_time": "2022-01-25T05:58:38.112Z"
   },
   {
    "duration": -535,
    "start_time": "2022-01-25T05:58:38.160Z"
   },
   {
    "duration": -568,
    "start_time": "2022-01-25T05:58:38.194Z"
   },
   {
    "duration": -618,
    "start_time": "2022-01-25T05:58:38.245Z"
   },
   {
    "duration": -700,
    "start_time": "2022-01-25T05:58:38.327Z"
   },
   {
    "duration": -753,
    "start_time": "2022-01-25T05:58:38.381Z"
   },
   {
    "duration": -797,
    "start_time": "2022-01-25T05:58:38.426Z"
   },
   {
    "duration": -878,
    "start_time": "2022-01-25T05:58:38.508Z"
   },
   {
    "duration": -944,
    "start_time": "2022-01-25T05:58:38.574Z"
   },
   {
    "duration": -1007,
    "start_time": "2022-01-25T05:58:38.638Z"
   },
   {
    "duration": -1055,
    "start_time": "2022-01-25T05:58:38.687Z"
   },
   {
    "duration": -1111,
    "start_time": "2022-01-25T05:58:38.744Z"
   },
   {
    "duration": -1190,
    "start_time": "2022-01-25T05:58:38.824Z"
   },
   {
    "duration": -1280,
    "start_time": "2022-01-25T05:58:38.914Z"
   },
   {
    "duration": -1334,
    "start_time": "2022-01-25T05:58:38.969Z"
   },
   {
    "duration": -1396,
    "start_time": "2022-01-25T05:58:39.032Z"
   },
   {
    "duration": -1484,
    "start_time": "2022-01-25T05:58:39.121Z"
   },
   {
    "duration": -1570,
    "start_time": "2022-01-25T05:58:39.208Z"
   },
   {
    "duration": -1634,
    "start_time": "2022-01-25T05:58:39.272Z"
   },
   {
    "duration": -1685,
    "start_time": "2022-01-25T05:58:39.324Z"
   },
   {
    "duration": -1764,
    "start_time": "2022-01-25T05:58:39.404Z"
   },
   {
    "duration": -1819,
    "start_time": "2022-01-25T05:58:39.461Z"
   },
   {
    "duration": -1862,
    "start_time": "2022-01-25T05:58:39.505Z"
   },
   {
    "duration": -1913,
    "start_time": "2022-01-25T05:58:39.557Z"
   },
   {
    "duration": -2011,
    "start_time": "2022-01-25T05:58:39.656Z"
   },
   {
    "duration": -2101,
    "start_time": "2022-01-25T05:58:39.747Z"
   },
   {
    "duration": -2139,
    "start_time": "2022-01-25T05:58:39.785Z"
   },
   {
    "duration": -2247,
    "start_time": "2022-01-25T05:58:39.894Z"
   },
   {
    "duration": -2295,
    "start_time": "2022-01-25T05:58:39.943Z"
   },
   {
    "duration": -2330,
    "start_time": "2022-01-25T05:58:39.979Z"
   },
   {
    "duration": -2347,
    "start_time": "2022-01-25T05:58:39.997Z"
   },
   {
    "duration": 3,
    "start_time": "2022-01-25T05:59:38.696Z"
   },
   {
    "duration": 429,
    "start_time": "2022-01-25T05:59:38.703Z"
   },
   {
    "duration": 4,
    "start_time": "2022-01-25T05:59:39.133Z"
   },
   {
    "duration": 238,
    "start_time": "2022-01-25T05:59:39.139Z"
   },
   {
    "duration": 149,
    "start_time": "2022-01-25T05:59:39.379Z"
   },
   {
    "duration": 6,
    "start_time": "2022-01-25T05:59:39.530Z"
   },
   {
    "duration": 43,
    "start_time": "2022-01-25T05:59:39.537Z"
   },
   {
    "duration": 119,
    "start_time": "2022-01-25T05:59:39.582Z"
   },
   {
    "duration": 37,
    "start_time": "2022-01-25T05:59:39.704Z"
   },
   {
    "duration": 45,
    "start_time": "2022-01-25T05:59:39.743Z"
   },
   {
    "duration": 36,
    "start_time": "2022-01-25T05:59:39.789Z"
   },
   {
    "duration": 26,
    "start_time": "2022-01-25T05:59:39.826Z"
   },
   {
    "duration": 25,
    "start_time": "2022-01-25T05:59:39.853Z"
   },
   {
    "duration": 2586,
    "start_time": "2022-01-25T05:59:39.880Z"
   },
   {
    "duration": -435,
    "start_time": "2022-01-25T05:59:42.903Z"
   },
   {
    "duration": -502,
    "start_time": "2022-01-25T05:59:42.971Z"
   },
   {
    "duration": -555,
    "start_time": "2022-01-25T05:59:43.025Z"
   },
   {
    "duration": -667,
    "start_time": "2022-01-25T05:59:43.138Z"
   },
   {
    "duration": -700,
    "start_time": "2022-01-25T05:59:43.172Z"
   },
   {
    "duration": -746,
    "start_time": "2022-01-25T05:59:43.219Z"
   },
   {
    "duration": -803,
    "start_time": "2022-01-25T05:59:43.277Z"
   },
   {
    "duration": -839,
    "start_time": "2022-01-25T05:59:43.314Z"
   },
   {
    "duration": -862,
    "start_time": "2022-01-25T05:59:43.337Z"
   },
   {
    "duration": -883,
    "start_time": "2022-01-25T05:59:43.359Z"
   },
   {
    "duration": -909,
    "start_time": "2022-01-25T05:59:43.386Z"
   },
   {
    "duration": -931,
    "start_time": "2022-01-25T05:59:43.409Z"
   },
   {
    "duration": -963,
    "start_time": "2022-01-25T05:59:43.441Z"
   },
   {
    "duration": -988,
    "start_time": "2022-01-25T05:59:43.467Z"
   },
   {
    "duration": -1003,
    "start_time": "2022-01-25T05:59:43.483Z"
   },
   {
    "duration": -1024,
    "start_time": "2022-01-25T05:59:43.505Z"
   },
   {
    "duration": -1048,
    "start_time": "2022-01-25T05:59:43.530Z"
   },
   {
    "duration": -1070,
    "start_time": "2022-01-25T05:59:43.553Z"
   },
   {
    "duration": -1094,
    "start_time": "2022-01-25T05:59:43.578Z"
   },
   {
    "duration": -1128,
    "start_time": "2022-01-25T05:59:43.612Z"
   },
   {
    "duration": -1155,
    "start_time": "2022-01-25T05:59:43.641Z"
   },
   {
    "duration": -1184,
    "start_time": "2022-01-25T05:59:43.672Z"
   },
   {
    "duration": -1219,
    "start_time": "2022-01-25T05:59:43.707Z"
   },
   {
    "duration": -1339,
    "start_time": "2022-01-25T05:59:43.828Z"
   },
   {
    "duration": -1444,
    "start_time": "2022-01-25T05:59:43.934Z"
   },
   {
    "duration": -1476,
    "start_time": "2022-01-25T05:59:43.967Z"
   },
   {
    "duration": -1499,
    "start_time": "2022-01-25T05:59:43.991Z"
   },
   {
    "duration": -1527,
    "start_time": "2022-01-25T05:59:44.020Z"
   },
   {
    "duration": -1549,
    "start_time": "2022-01-25T05:59:44.043Z"
   },
   {
    "duration": -1578,
    "start_time": "2022-01-25T05:59:44.073Z"
   },
   {
    "duration": -1615,
    "start_time": "2022-01-25T05:59:44.110Z"
   },
   {
    "duration": -1650,
    "start_time": "2022-01-25T05:59:44.146Z"
   },
   {
    "duration": -1673,
    "start_time": "2022-01-25T05:59:44.171Z"
   },
   {
    "duration": -1728,
    "start_time": "2022-01-25T05:59:44.227Z"
   },
   {
    "duration": -1776,
    "start_time": "2022-01-25T05:59:44.276Z"
   },
   {
    "duration": 4,
    "start_time": "2022-01-25T06:00:21.853Z"
   },
   {
    "duration": 433,
    "start_time": "2022-01-25T06:00:21.866Z"
   },
   {
    "duration": 5,
    "start_time": "2022-01-25T06:00:22.302Z"
   },
   {
    "duration": 267,
    "start_time": "2022-01-25T06:00:22.309Z"
   },
   {
    "duration": 155,
    "start_time": "2022-01-25T06:00:22.579Z"
   },
   {
    "duration": 7,
    "start_time": "2022-01-25T06:00:22.737Z"
   },
   {
    "duration": 24,
    "start_time": "2022-01-25T06:00:22.745Z"
   },
   {
    "duration": 116,
    "start_time": "2022-01-25T06:00:22.771Z"
   },
   {
    "duration": 34,
    "start_time": "2022-01-25T06:00:22.890Z"
   },
   {
    "duration": 53,
    "start_time": "2022-01-25T06:00:22.926Z"
   },
   {
    "duration": 12,
    "start_time": "2022-01-25T06:00:22.982Z"
   },
   {
    "duration": 24,
    "start_time": "2022-01-25T06:00:22.996Z"
   },
   {
    "duration": 20,
    "start_time": "2022-01-25T06:00:23.022Z"
   },
   {
    "duration": 1873,
    "start_time": "2022-01-25T06:00:23.044Z"
   },
   {
    "duration": -1243,
    "start_time": "2022-01-25T06:00:26.162Z"
   },
   {
    "duration": -1283,
    "start_time": "2022-01-25T06:00:26.203Z"
   },
   {
    "duration": -1318,
    "start_time": "2022-01-25T06:00:26.239Z"
   },
   {
    "duration": -1343,
    "start_time": "2022-01-25T06:00:26.265Z"
   },
   {
    "duration": -1367,
    "start_time": "2022-01-25T06:00:26.290Z"
   },
   {
    "duration": -1393,
    "start_time": "2022-01-25T06:00:26.317Z"
   },
   {
    "duration": -1420,
    "start_time": "2022-01-25T06:00:26.345Z"
   },
   {
    "duration": -1438,
    "start_time": "2022-01-25T06:00:26.364Z"
   },
   {
    "duration": -1456,
    "start_time": "2022-01-25T06:00:26.383Z"
   },
   {
    "duration": -1482,
    "start_time": "2022-01-25T06:00:26.410Z"
   },
   {
    "duration": -1503,
    "start_time": "2022-01-25T06:00:26.432Z"
   },
   {
    "duration": -1529,
    "start_time": "2022-01-25T06:00:26.459Z"
   },
   {
    "duration": -1548,
    "start_time": "2022-01-25T06:00:26.479Z"
   },
   {
    "duration": -1566,
    "start_time": "2022-01-25T06:00:26.498Z"
   },
   {
    "duration": -1592,
    "start_time": "2022-01-25T06:00:26.525Z"
   },
   {
    "duration": -1610,
    "start_time": "2022-01-25T06:00:26.544Z"
   },
   {
    "duration": -1630,
    "start_time": "2022-01-25T06:00:26.566Z"
   },
   {
    "duration": -1662,
    "start_time": "2022-01-25T06:00:26.599Z"
   },
   {
    "duration": -1690,
    "start_time": "2022-01-25T06:00:26.628Z"
   },
   {
    "duration": -1710,
    "start_time": "2022-01-25T06:00:26.649Z"
   },
   {
    "duration": -1734,
    "start_time": "2022-01-25T06:00:26.674Z"
   },
   {
    "duration": -1757,
    "start_time": "2022-01-25T06:00:26.697Z"
   },
   {
    "duration": -1785,
    "start_time": "2022-01-25T06:00:26.726Z"
   },
   {
    "duration": -1806,
    "start_time": "2022-01-25T06:00:26.749Z"
   },
   {
    "duration": -1835,
    "start_time": "2022-01-25T06:00:26.779Z"
   },
   {
    "duration": -1854,
    "start_time": "2022-01-25T06:00:26.799Z"
   },
   {
    "duration": -1881,
    "start_time": "2022-01-25T06:00:26.827Z"
   },
   {
    "duration": -1902,
    "start_time": "2022-01-25T06:00:26.848Z"
   },
   {
    "duration": -1925,
    "start_time": "2022-01-25T06:00:26.873Z"
   },
   {
    "duration": -1937,
    "start_time": "2022-01-25T06:00:26.885Z"
   },
   {
    "duration": -1949,
    "start_time": "2022-01-25T06:00:26.898Z"
   },
   {
    "duration": -1961,
    "start_time": "2022-01-25T06:00:26.911Z"
   },
   {
    "duration": -1971,
    "start_time": "2022-01-25T06:00:26.923Z"
   },
   {
    "duration": -1985,
    "start_time": "2022-01-25T06:00:26.937Z"
   },
   {
    "duration": -1996,
    "start_time": "2022-01-25T06:00:26.949Z"
   },
   {
    "duration": 3,
    "start_time": "2022-01-25T06:00:48.600Z"
   },
   {
    "duration": 450,
    "start_time": "2022-01-25T06:00:48.605Z"
   },
   {
    "duration": 4,
    "start_time": "2022-01-25T06:00:49.057Z"
   },
   {
    "duration": 234,
    "start_time": "2022-01-25T06:00:49.063Z"
   },
   {
    "duration": 161,
    "start_time": "2022-01-25T06:00:49.299Z"
   },
   {
    "duration": 6,
    "start_time": "2022-01-25T06:00:49.462Z"
   },
   {
    "duration": 37,
    "start_time": "2022-01-25T06:00:49.470Z"
   },
   {
    "duration": 123,
    "start_time": "2022-01-25T06:00:49.509Z"
   },
   {
    "duration": 37,
    "start_time": "2022-01-25T06:00:49.634Z"
   },
   {
    "duration": 44,
    "start_time": "2022-01-25T06:00:49.673Z"
   },
   {
    "duration": 11,
    "start_time": "2022-01-25T06:00:49.719Z"
   },
   {
    "duration": 44,
    "start_time": "2022-01-25T06:00:49.732Z"
   },
   {
    "duration": 28,
    "start_time": "2022-01-25T06:00:49.778Z"
   },
   {
    "duration": 21,
    "start_time": "2022-01-25T06:00:49.808Z"
   },
   {
    "duration": 1943,
    "start_time": "2022-01-25T06:00:49.831Z"
   },
   {
    "duration": -100,
    "start_time": "2022-01-25T06:00:51.877Z"
   },
   {
    "duration": -160,
    "start_time": "2022-01-25T06:00:51.938Z"
   },
   {
    "duration": -192,
    "start_time": "2022-01-25T06:00:51.971Z"
   },
   {
    "duration": -213,
    "start_time": "2022-01-25T06:00:51.993Z"
   },
   {
    "duration": -236,
    "start_time": "2022-01-25T06:00:52.017Z"
   },
   {
    "duration": -258,
    "start_time": "2022-01-25T06:00:52.040Z"
   },
   {
    "duration": -287,
    "start_time": "2022-01-25T06:00:52.070Z"
   },
   {
    "duration": -308,
    "start_time": "2022-01-25T06:00:52.092Z"
   },
   {
    "duration": -344,
    "start_time": "2022-01-25T06:00:52.128Z"
   },
   {
    "duration": -372,
    "start_time": "2022-01-25T06:00:52.157Z"
   },
   {
    "duration": -394,
    "start_time": "2022-01-25T06:00:52.180Z"
   },
   {
    "duration": -417,
    "start_time": "2022-01-25T06:00:52.204Z"
   },
   {
    "duration": -449,
    "start_time": "2022-01-25T06:00:52.237Z"
   },
   {
    "duration": -471,
    "start_time": "2022-01-25T06:00:52.259Z"
   },
   {
    "duration": -499,
    "start_time": "2022-01-25T06:00:52.288Z"
   },
   {
    "duration": -516,
    "start_time": "2022-01-25T06:00:52.306Z"
   },
   {
    "duration": -536,
    "start_time": "2022-01-25T06:00:52.327Z"
   },
   {
    "duration": -561,
    "start_time": "2022-01-25T06:00:52.352Z"
   },
   {
    "duration": -580,
    "start_time": "2022-01-25T06:00:52.372Z"
   },
   {
    "duration": -601,
    "start_time": "2022-01-25T06:00:52.394Z"
   },
   {
    "duration": -626,
    "start_time": "2022-01-25T06:00:52.420Z"
   },
   {
    "duration": -643,
    "start_time": "2022-01-25T06:00:52.438Z"
   },
   {
    "duration": -663,
    "start_time": "2022-01-25T06:00:52.458Z"
   },
   {
    "duration": -686,
    "start_time": "2022-01-25T06:00:52.483Z"
   },
   {
    "duration": -726,
    "start_time": "2022-01-25T06:00:52.523Z"
   },
   {
    "duration": -823,
    "start_time": "2022-01-25T06:00:52.621Z"
   },
   {
    "duration": -864,
    "start_time": "2022-01-25T06:00:52.663Z"
   },
   {
    "duration": -946,
    "start_time": "2022-01-25T06:00:52.746Z"
   },
   {
    "duration": -970,
    "start_time": "2022-01-25T06:00:52.771Z"
   },
   {
    "duration": -1003,
    "start_time": "2022-01-25T06:00:52.805Z"
   },
   {
    "duration": -1029,
    "start_time": "2022-01-25T06:00:52.831Z"
   },
   {
    "duration": -1053,
    "start_time": "2022-01-25T06:00:52.856Z"
   },
   {
    "duration": -1078,
    "start_time": "2022-01-25T06:00:52.882Z"
   },
   {
    "duration": -1105,
    "start_time": "2022-01-25T06:00:52.910Z"
   },
   {
    "duration": -1131,
    "start_time": "2022-01-25T06:00:52.937Z"
   },
   {
    "duration": 3,
    "start_time": "2022-01-25T06:01:40.325Z"
   },
   {
    "duration": 417,
    "start_time": "2022-01-25T06:01:40.330Z"
   },
   {
    "duration": 4,
    "start_time": "2022-01-25T06:01:40.749Z"
   },
   {
    "duration": 227,
    "start_time": "2022-01-25T06:01:40.755Z"
   },
   {
    "duration": 159,
    "start_time": "2022-01-25T06:01:40.984Z"
   },
   {
    "duration": 6,
    "start_time": "2022-01-25T06:01:41.145Z"
   },
   {
    "duration": 11,
    "start_time": "2022-01-25T06:01:41.161Z"
   },
   {
    "duration": 119,
    "start_time": "2022-01-25T06:01:41.174Z"
   },
   {
    "duration": 35,
    "start_time": "2022-01-25T06:01:41.296Z"
   },
   {
    "duration": 49,
    "start_time": "2022-01-25T06:01:41.334Z"
   },
   {
    "duration": 12,
    "start_time": "2022-01-25T06:01:41.385Z"
   },
   {
    "duration": 11,
    "start_time": "2022-01-25T06:01:41.399Z"
   },
   {
    "duration": 6,
    "start_time": "2022-01-25T06:01:41.412Z"
   },
   {
    "duration": 9,
    "start_time": "2022-01-25T06:01:41.419Z"
   },
   {
    "duration": 75,
    "start_time": "2022-01-25T06:01:41.430Z"
   },
   {
    "duration": 13,
    "start_time": "2022-01-25T06:01:41.507Z"
   },
   {
    "duration": 45,
    "start_time": "2022-01-25T06:01:41.522Z"
   },
   {
    "duration": 37,
    "start_time": "2022-01-25T06:01:41.569Z"
   },
   {
    "duration": 4,
    "start_time": "2022-01-25T06:01:41.608Z"
   },
   {
    "duration": 80,
    "start_time": "2022-01-25T06:01:41.614Z"
   },
   {
    "duration": 25,
    "start_time": "2022-01-25T06:01:41.697Z"
   },
   {
    "duration": 22,
    "start_time": "2022-01-25T06:01:41.724Z"
   },
   {
    "duration": 14,
    "start_time": "2022-01-25T06:01:41.748Z"
   },
   {
    "duration": 37,
    "start_time": "2022-01-25T06:01:41.764Z"
   },
   {
    "duration": 10,
    "start_time": "2022-01-25T06:01:41.803Z"
   },
   {
    "duration": 4,
    "start_time": "2022-01-25T06:01:41.815Z"
   },
   {
    "duration": 11,
    "start_time": "2022-01-25T06:01:41.823Z"
   },
   {
    "duration": 30,
    "start_time": "2022-01-25T06:01:41.836Z"
   },
   {
    "duration": 9,
    "start_time": "2022-01-25T06:01:41.868Z"
   },
   {
    "duration": 28,
    "start_time": "2022-01-25T06:01:41.879Z"
   },
   {
    "duration": 11,
    "start_time": "2022-01-25T06:01:41.910Z"
   },
   {
    "duration": 11,
    "start_time": "2022-01-25T06:01:41.923Z"
   },
   {
    "duration": 19,
    "start_time": "2022-01-25T06:01:41.935Z"
   },
   {
    "duration": 279,
    "start_time": "2022-01-25T06:01:41.955Z"
   },
   {
    "duration": -1349,
    "start_time": "2022-01-25T06:01:43.585Z"
   },
   {
    "duration": -1377,
    "start_time": "2022-01-25T06:01:43.613Z"
   },
   {
    "duration": -1424,
    "start_time": "2022-01-25T06:01:43.661Z"
   },
   {
    "duration": -1459,
    "start_time": "2022-01-25T06:01:43.697Z"
   },
   {
    "duration": -1487,
    "start_time": "2022-01-25T06:01:43.726Z"
   },
   {
    "duration": -1516,
    "start_time": "2022-01-25T06:01:43.755Z"
   },
   {
    "duration": -1537,
    "start_time": "2022-01-25T06:01:43.777Z"
   },
   {
    "duration": -1561,
    "start_time": "2022-01-25T06:01:43.802Z"
   },
   {
    "duration": -1581,
    "start_time": "2022-01-25T06:01:43.823Z"
   },
   {
    "duration": -1600,
    "start_time": "2022-01-25T06:01:43.843Z"
   },
   {
    "duration": -1625,
    "start_time": "2022-01-25T06:01:43.869Z"
   },
   {
    "duration": -1644,
    "start_time": "2022-01-25T06:01:43.889Z"
   },
   {
    "duration": -1681,
    "start_time": "2022-01-25T06:01:43.926Z"
   },
   {
    "duration": -1699,
    "start_time": "2022-01-25T06:01:43.945Z"
   },
   {
    "duration": -1729,
    "start_time": "2022-01-25T06:01:43.976Z"
   },
   {
    "duration": -1751,
    "start_time": "2022-01-25T06:01:43.999Z"
   },
   {
    "duration": 8,
    "start_time": "2022-01-25T06:04:04.248Z"
   },
   {
    "duration": 8,
    "start_time": "2022-01-25T06:04:08.052Z"
   },
   {
    "duration": 46,
    "start_time": "2022-01-25T06:05:24.325Z"
   },
   {
    "duration": 42,
    "start_time": "2022-01-25T06:05:34.268Z"
   },
   {
    "duration": 2,
    "start_time": "2022-01-25T06:07:17.163Z"
   },
   {
    "duration": 19,
    "start_time": "2022-01-25T06:07:17.771Z"
   },
   {
    "duration": 3,
    "start_time": "2022-01-25T06:07:18.246Z"
   },
   {
    "duration": 26,
    "start_time": "2022-01-25T06:07:19.466Z"
   },
   {
    "duration": 42,
    "start_time": "2022-01-25T06:07:23.737Z"
   },
   {
    "duration": 26,
    "start_time": "2022-01-25T06:07:24.391Z"
   },
   {
    "duration": 21,
    "start_time": "2022-01-25T06:07:24.884Z"
   },
   {
    "duration": 6,
    "start_time": "2022-01-25T06:07:27.598Z"
   },
   {
    "duration": 11,
    "start_time": "2022-01-25T06:07:29.376Z"
   },
   {
    "duration": 24,
    "start_time": "2022-01-25T06:07:33.953Z"
   },
   {
    "duration": 12,
    "start_time": "2022-01-25T06:07:46.370Z"
   },
   {
    "duration": 3,
    "start_time": "2022-01-25T06:07:47.848Z"
   },
   {
    "duration": 6,
    "start_time": "2022-01-25T06:07:48.877Z"
   },
   {
    "duration": 12,
    "start_time": "2022-01-25T06:07:49.471Z"
   },
   {
    "duration": 11,
    "start_time": "2022-01-25T06:08:04.549Z"
   },
   {
    "duration": 14,
    "start_time": "2022-01-25T06:08:05.113Z"
   },
   {
    "duration": 312,
    "start_time": "2022-01-25T06:13:05.389Z"
   },
   {
    "duration": 391,
    "start_time": "2022-01-25T06:13:09.372Z"
   },
   {
    "duration": 8,
    "start_time": "2022-01-25T06:13:10.933Z"
   },
   {
    "duration": 15,
    "start_time": "2022-01-25T06:13:19.450Z"
   },
   {
    "duration": 19,
    "start_time": "2022-01-25T06:15:31.786Z"
   },
   {
    "duration": 22,
    "start_time": "2022-01-25T06:15:32.512Z"
   },
   {
    "duration": 3,
    "start_time": "2022-01-25T06:15:38.822Z"
   },
   {
    "duration": 428,
    "start_time": "2022-01-25T06:15:38.829Z"
   },
   {
    "duration": 4,
    "start_time": "2022-01-25T06:15:39.259Z"
   },
   {
    "duration": 242,
    "start_time": "2022-01-25T06:15:39.264Z"
   },
   {
    "duration": 156,
    "start_time": "2022-01-25T06:15:39.507Z"
   },
   {
    "duration": 6,
    "start_time": "2022-01-25T06:15:39.664Z"
   },
   {
    "duration": 11,
    "start_time": "2022-01-25T06:15:39.671Z"
   },
   {
    "duration": 122,
    "start_time": "2022-01-25T06:15:39.684Z"
   },
   {
    "duration": 31,
    "start_time": "2022-01-25T06:15:39.808Z"
   },
   {
    "duration": 45,
    "start_time": "2022-01-25T06:15:39.841Z"
   },
   {
    "duration": 9,
    "start_time": "2022-01-25T06:15:39.888Z"
   },
   {
    "duration": 32,
    "start_time": "2022-01-25T06:15:39.899Z"
   },
   {
    "duration": 66,
    "start_time": "2022-01-25T06:15:39.933Z"
   },
   {
    "duration": 33,
    "start_time": "2022-01-25T06:15:40.000Z"
   },
   {
    "duration": 43,
    "start_time": "2022-01-25T06:15:40.034Z"
   },
   {
    "duration": 4,
    "start_time": "2022-01-25T06:15:40.079Z"
   },
   {
    "duration": 77,
    "start_time": "2022-01-25T06:15:40.084Z"
   },
   {
    "duration": 22,
    "start_time": "2022-01-25T06:15:40.162Z"
   },
   {
    "duration": 17,
    "start_time": "2022-01-25T06:15:40.186Z"
   },
   {
    "duration": 3,
    "start_time": "2022-01-25T06:15:40.205Z"
   },
   {
    "duration": 24,
    "start_time": "2022-01-25T06:15:40.210Z"
   },
   {
    "duration": 26,
    "start_time": "2022-01-25T06:15:40.236Z"
   },
   {
    "duration": 2,
    "start_time": "2022-01-25T06:15:40.264Z"
   },
   {
    "duration": 5,
    "start_time": "2022-01-25T06:15:40.270Z"
   },
   {
    "duration": 10,
    "start_time": "2022-01-25T06:15:40.277Z"
   },
   {
    "duration": 20,
    "start_time": "2022-01-25T06:15:40.289Z"
   },
   {
    "duration": 29,
    "start_time": "2022-01-25T06:15:40.311Z"
   },
   {
    "duration": 19,
    "start_time": "2022-01-25T06:15:40.342Z"
   },
   {
    "duration": 24,
    "start_time": "2022-01-25T06:15:40.363Z"
   },
   {
    "duration": 21,
    "start_time": "2022-01-25T06:15:40.389Z"
   },
   {
    "duration": 308,
    "start_time": "2022-01-25T06:15:40.411Z"
   },
   {
    "duration": 9,
    "start_time": "2022-01-25T06:15:40.721Z"
   },
   {
    "duration": 30,
    "start_time": "2022-01-25T06:15:40.732Z"
   },
   {
    "duration": 11,
    "start_time": "2022-01-25T06:15:40.764Z"
   },
   {
    "duration": 5,
    "start_time": "2022-01-25T06:15:40.777Z"
   },
   {
    "duration": 12,
    "start_time": "2022-01-25T06:15:40.784Z"
   },
   {
    "duration": 282,
    "start_time": "2022-01-25T06:15:40.798Z"
   },
   {
    "duration": 266,
    "start_time": "2022-01-25T06:15:41.081Z"
   },
   {
    "duration": 242,
    "start_time": "2022-01-25T06:15:41.349Z"
   },
   {
    "duration": 302,
    "start_time": "2022-01-25T06:15:41.593Z"
   },
   {
    "duration": 8,
    "start_time": "2022-01-25T06:15:41.897Z"
   },
   {
    "duration": 10,
    "start_time": "2022-01-25T06:15:41.907Z"
   },
   {
    "duration": 294,
    "start_time": "2022-01-25T06:15:41.919Z"
   },
   {
    "duration": 8,
    "start_time": "2022-01-25T06:15:42.214Z"
   },
   {
    "duration": 21,
    "start_time": "2022-01-25T06:15:42.224Z"
   },
   {
    "duration": 17,
    "start_time": "2022-01-25T06:15:42.247Z"
   },
   {
    "duration": 269,
    "start_time": "2022-01-25T06:15:42.266Z"
   },
   {
    "duration": 1250,
    "start_time": "2022-01-25T06:29:16.369Z"
   },
   {
    "duration": 399,
    "start_time": "2022-01-25T06:29:17.621Z"
   },
   {
    "duration": 4,
    "start_time": "2022-01-25T06:29:18.022Z"
   },
   {
    "duration": 243,
    "start_time": "2022-01-25T06:29:18.027Z"
   },
   {
    "duration": 167,
    "start_time": "2022-01-25T06:29:18.271Z"
   },
   {
    "duration": 7,
    "start_time": "2022-01-25T06:29:18.439Z"
   },
   {
    "duration": 17,
    "start_time": "2022-01-25T06:29:18.448Z"
   },
   {
    "duration": 115,
    "start_time": "2022-01-25T06:29:18.467Z"
   },
   {
    "duration": 35,
    "start_time": "2022-01-25T06:29:18.584Z"
   },
   {
    "duration": 51,
    "start_time": "2022-01-25T06:29:18.621Z"
   },
   {
    "duration": 11,
    "start_time": "2022-01-25T06:29:18.674Z"
   },
   {
    "duration": 13,
    "start_time": "2022-01-25T06:29:18.686Z"
   },
   {
    "duration": 71,
    "start_time": "2022-01-25T06:29:18.701Z"
   },
   {
    "duration": 31,
    "start_time": "2022-01-25T06:29:18.774Z"
   },
   {
    "duration": 53,
    "start_time": "2022-01-25T06:29:18.807Z"
   },
   {
    "duration": 4,
    "start_time": "2022-01-25T06:29:18.862Z"
   },
   {
    "duration": 46,
    "start_time": "2022-01-25T06:29:18.868Z"
   },
   {
    "duration": 23,
    "start_time": "2022-01-25T06:29:18.916Z"
   },
   {
    "duration": 35,
    "start_time": "2022-01-25T06:29:18.941Z"
   },
   {
    "duration": 8,
    "start_time": "2022-01-25T06:29:18.978Z"
   },
   {
    "duration": 23,
    "start_time": "2022-01-25T06:29:18.988Z"
   },
   {
    "duration": 10,
    "start_time": "2022-01-25T06:29:19.013Z"
   },
   {
    "duration": 2,
    "start_time": "2022-01-25T06:29:19.026Z"
   },
   {
    "duration": 31,
    "start_time": "2022-01-25T06:29:19.030Z"
   },
   {
    "duration": 10,
    "start_time": "2022-01-25T06:29:19.063Z"
   },
   {
    "duration": 10,
    "start_time": "2022-01-25T06:29:19.075Z"
   },
   {
    "duration": 14,
    "start_time": "2022-01-25T06:29:19.087Z"
   },
   {
    "duration": 6,
    "start_time": "2022-01-25T06:29:19.102Z"
   },
   {
    "duration": 10,
    "start_time": "2022-01-25T06:29:19.109Z"
   },
   {
    "duration": 6,
    "start_time": "2022-01-25T06:29:19.121Z"
   },
   {
    "duration": 369,
    "start_time": "2022-01-25T06:29:19.129Z"
   },
   {
    "duration": 10,
    "start_time": "2022-01-25T06:29:19.500Z"
   },
   {
    "duration": 22,
    "start_time": "2022-01-25T06:29:19.512Z"
   },
   {
    "duration": 27,
    "start_time": "2022-01-25T06:29:19.536Z"
   },
   {
    "duration": 7,
    "start_time": "2022-01-25T06:29:19.565Z"
   },
   {
    "duration": 7,
    "start_time": "2022-01-25T06:29:19.574Z"
   },
   {
    "duration": 293,
    "start_time": "2022-01-25T06:29:19.583Z"
   },
   {
    "duration": 276,
    "start_time": "2022-01-25T06:29:19.878Z"
   },
   {
    "duration": 248,
    "start_time": "2022-01-25T06:29:20.160Z"
   },
   {
    "duration": 264,
    "start_time": "2022-01-25T06:29:20.410Z"
   },
   {
    "duration": 6,
    "start_time": "2022-01-25T06:29:20.676Z"
   },
   {
    "duration": 15,
    "start_time": "2022-01-25T06:29:20.684Z"
   },
   {
    "duration": 287,
    "start_time": "2022-01-25T06:29:20.700Z"
   },
   {
    "duration": 8,
    "start_time": "2022-01-25T06:29:20.989Z"
   },
   {
    "duration": 19,
    "start_time": "2022-01-25T06:29:20.998Z"
   },
   {
    "duration": 19,
    "start_time": "2022-01-25T06:29:21.019Z"
   },
   {
    "duration": 364,
    "start_time": "2022-01-25T06:29:21.040Z"
   },
   {
    "duration": 3,
    "start_time": "2022-01-25T06:33:22.545Z"
   },
   {
    "duration": 434,
    "start_time": "2022-01-25T06:33:22.556Z"
   },
   {
    "duration": 4,
    "start_time": "2022-01-25T06:33:22.991Z"
   },
   {
    "duration": 222,
    "start_time": "2022-01-25T06:33:22.997Z"
   },
   {
    "duration": 151,
    "start_time": "2022-01-25T06:33:23.221Z"
   },
   {
    "duration": 7,
    "start_time": "2022-01-25T06:33:23.374Z"
   },
   {
    "duration": 9,
    "start_time": "2022-01-25T06:33:23.383Z"
   },
   {
    "duration": 117,
    "start_time": "2022-01-25T06:33:23.394Z"
   },
   {
    "duration": 52,
    "start_time": "2022-01-25T06:33:23.514Z"
   },
   {
    "duration": 39,
    "start_time": "2022-01-25T06:33:23.568Z"
   },
   {
    "duration": 16,
    "start_time": "2022-01-25T06:33:23.609Z"
   },
   {
    "duration": 91,
    "start_time": "2022-01-25T06:33:23.627Z"
   },
   {
    "duration": 70,
    "start_time": "2022-01-25T06:33:23.720Z"
   },
   {
    "duration": 30,
    "start_time": "2022-01-25T06:33:23.791Z"
   },
   {
    "duration": 46,
    "start_time": "2022-01-25T06:33:23.822Z"
   },
   {
    "duration": 4,
    "start_time": "2022-01-25T06:33:23.870Z"
   },
   {
    "duration": 62,
    "start_time": "2022-01-25T06:33:23.876Z"
   },
   {
    "duration": 25,
    "start_time": "2022-01-25T06:33:23.940Z"
   },
   {
    "duration": 17,
    "start_time": "2022-01-25T06:33:23.967Z"
   },
   {
    "duration": 4,
    "start_time": "2022-01-25T06:33:23.986Z"
   },
   {
    "duration": 48,
    "start_time": "2022-01-25T06:33:23.992Z"
   },
   {
    "duration": 12,
    "start_time": "2022-01-25T06:33:24.042Z"
   },
   {
    "duration": 11,
    "start_time": "2022-01-25T06:33:24.056Z"
   },
   {
    "duration": 16,
    "start_time": "2022-01-25T06:33:24.071Z"
   },
   {
    "duration": 15,
    "start_time": "2022-01-25T06:33:24.089Z"
   },
   {
    "duration": 18,
    "start_time": "2022-01-25T06:33:24.106Z"
   },
   {
    "duration": 25,
    "start_time": "2022-01-25T06:33:24.126Z"
   },
   {
    "duration": 3,
    "start_time": "2022-01-25T06:33:24.153Z"
   },
   {
    "duration": 31,
    "start_time": "2022-01-25T06:33:24.158Z"
   },
   {
    "duration": 11,
    "start_time": "2022-01-25T06:33:24.191Z"
   },
   {
    "duration": 374,
    "start_time": "2022-01-25T06:33:24.204Z"
   },
   {
    "duration": 7,
    "start_time": "2022-01-25T06:33:24.580Z"
   },
   {
    "duration": 22,
    "start_time": "2022-01-25T06:33:24.589Z"
   },
   {
    "duration": 18,
    "start_time": "2022-01-25T06:33:24.612Z"
   },
   {
    "duration": 7,
    "start_time": "2022-01-25T06:33:24.631Z"
   },
   {
    "duration": 11,
    "start_time": "2022-01-25T06:33:24.640Z"
   },
   {
    "duration": 1002,
    "start_time": "2022-01-25T06:33:24.653Z"
   },
   {
    "duration": -319,
    "start_time": "2022-01-25T06:33:25.979Z"
   },
   {
    "duration": -346,
    "start_time": "2022-01-25T06:33:26.008Z"
   },
   {
    "duration": -383,
    "start_time": "2022-01-25T06:33:26.046Z"
   },
   {
    "duration": -406,
    "start_time": "2022-01-25T06:33:26.070Z"
   },
   {
    "duration": -428,
    "start_time": "2022-01-25T06:33:26.093Z"
   },
   {
    "duration": -448,
    "start_time": "2022-01-25T06:33:26.114Z"
   },
   {
    "duration": -473,
    "start_time": "2022-01-25T06:33:26.140Z"
   },
   {
    "duration": -497,
    "start_time": "2022-01-25T06:33:26.165Z"
   },
   {
    "duration": -527,
    "start_time": "2022-01-25T06:33:26.196Z"
   },
   {
    "duration": -553,
    "start_time": "2022-01-25T06:33:26.223Z"
   },
   {
    "duration": 943,
    "start_time": "2022-01-25T06:37:15.419Z"
   },
   {
    "duration": 629,
    "start_time": "2022-01-25T06:37:37.715Z"
   },
   {
    "duration": 1128,
    "start_time": "2022-01-25T06:40:13.199Z"
   },
   {
    "duration": 395,
    "start_time": "2022-01-25T06:40:14.329Z"
   },
   {
    "duration": 4,
    "start_time": "2022-01-25T06:40:14.726Z"
   },
   {
    "duration": 266,
    "start_time": "2022-01-25T06:40:14.731Z"
   },
   {
    "duration": 171,
    "start_time": "2022-01-25T06:40:14.998Z"
   },
   {
    "duration": 7,
    "start_time": "2022-01-25T06:40:15.171Z"
   },
   {
    "duration": 38,
    "start_time": "2022-01-25T06:40:15.179Z"
   },
   {
    "duration": 136,
    "start_time": "2022-01-25T06:40:15.220Z"
   },
   {
    "duration": 35,
    "start_time": "2022-01-25T06:40:15.360Z"
   },
   {
    "duration": 35,
    "start_time": "2022-01-25T06:40:15.396Z"
   },
   {
    "duration": 44,
    "start_time": "2022-01-25T06:40:15.432Z"
   },
   {
    "duration": 44,
    "start_time": "2022-01-25T06:40:15.478Z"
   },
   {
    "duration": 75,
    "start_time": "2022-01-25T06:40:15.524Z"
   },
   {
    "duration": 35,
    "start_time": "2022-01-25T06:40:15.601Z"
   },
   {
    "duration": 50,
    "start_time": "2022-01-25T06:40:15.637Z"
   },
   {
    "duration": 5,
    "start_time": "2022-01-25T06:40:15.689Z"
   },
   {
    "duration": 80,
    "start_time": "2022-01-25T06:40:15.695Z"
   },
   {
    "duration": 24,
    "start_time": "2022-01-25T06:40:15.777Z"
   },
   {
    "duration": 19,
    "start_time": "2022-01-25T06:40:15.803Z"
   },
   {
    "duration": 23,
    "start_time": "2022-01-25T06:40:15.823Z"
   },
   {
    "duration": 38,
    "start_time": "2022-01-25T06:40:15.848Z"
   },
   {
    "duration": 11,
    "start_time": "2022-01-25T06:40:15.888Z"
   },
   {
    "duration": 17,
    "start_time": "2022-01-25T06:40:15.903Z"
   },
   {
    "duration": 39,
    "start_time": "2022-01-25T06:40:15.922Z"
   },
   {
    "duration": 19,
    "start_time": "2022-01-25T06:40:15.963Z"
   },
   {
    "duration": 45,
    "start_time": "2022-01-25T06:40:15.983Z"
   },
   {
    "duration": 23,
    "start_time": "2022-01-25T06:40:16.030Z"
   },
   {
    "duration": 27,
    "start_time": "2022-01-25T06:40:16.055Z"
   },
   {
    "duration": 6,
    "start_time": "2022-01-25T06:40:16.084Z"
   },
   {
    "duration": 6,
    "start_time": "2022-01-25T06:40:16.091Z"
   },
   {
    "duration": 383,
    "start_time": "2022-01-25T06:40:16.099Z"
   },
   {
    "duration": 9,
    "start_time": "2022-01-25T06:40:16.483Z"
   },
   {
    "duration": 17,
    "start_time": "2022-01-25T06:40:16.493Z"
   },
   {
    "duration": 12,
    "start_time": "2022-01-25T06:40:16.512Z"
   },
   {
    "duration": 6,
    "start_time": "2022-01-25T06:40:16.526Z"
   },
   {
    "duration": 30,
    "start_time": "2022-01-25T06:40:16.533Z"
   },
   {
    "duration": 997,
    "start_time": "2022-01-25T06:40:16.565Z"
   },
   {
    "duration": -202,
    "start_time": "2022-01-25T06:40:17.766Z"
   },
   {
    "duration": -225,
    "start_time": "2022-01-25T06:40:17.790Z"
   },
   {
    "duration": -256,
    "start_time": "2022-01-25T06:40:17.823Z"
   },
   {
    "duration": -284,
    "start_time": "2022-01-25T06:40:17.853Z"
   },
   {
    "duration": -304,
    "start_time": "2022-01-25T06:40:17.874Z"
   },
   {
    "duration": -330,
    "start_time": "2022-01-25T06:40:17.902Z"
   },
   {
    "duration": -351,
    "start_time": "2022-01-25T06:40:17.924Z"
   },
   {
    "duration": -380,
    "start_time": "2022-01-25T06:40:17.955Z"
   },
   {
    "duration": -411,
    "start_time": "2022-01-25T06:40:17.987Z"
   },
   {
    "duration": -433,
    "start_time": "2022-01-25T06:40:18.010Z"
   },
   {
    "duration": 3,
    "start_time": "2022-01-25T07:53:27.567Z"
   },
   {
    "duration": 424,
    "start_time": "2022-01-25T07:53:27.579Z"
   },
   {
    "duration": 3,
    "start_time": "2022-01-25T07:53:28.005Z"
   },
   {
    "duration": 255,
    "start_time": "2022-01-25T07:53:28.010Z"
   },
   {
    "duration": 152,
    "start_time": "2022-01-25T07:53:28.267Z"
   },
   {
    "duration": 6,
    "start_time": "2022-01-25T07:53:28.421Z"
   },
   {
    "duration": 58,
    "start_time": "2022-01-25T07:53:28.429Z"
   },
   {
    "duration": 151,
    "start_time": "2022-01-25T07:53:28.488Z"
   },
   {
    "duration": 38,
    "start_time": "2022-01-25T07:53:28.642Z"
   },
   {
    "duration": 53,
    "start_time": "2022-01-25T07:53:28.682Z"
   },
   {
    "duration": 25,
    "start_time": "2022-01-25T07:53:28.737Z"
   },
   {
    "duration": 41,
    "start_time": "2022-01-25T07:53:28.763Z"
   },
   {
    "duration": 78,
    "start_time": "2022-01-25T07:53:28.806Z"
   },
   {
    "duration": 51,
    "start_time": "2022-01-25T07:53:28.886Z"
   },
   {
    "duration": 66,
    "start_time": "2022-01-25T07:53:28.939Z"
   },
   {
    "duration": 12,
    "start_time": "2022-01-25T07:53:29.007Z"
   },
   {
    "duration": 76,
    "start_time": "2022-01-25T07:53:29.021Z"
   },
   {
    "duration": 22,
    "start_time": "2022-01-25T07:53:29.099Z"
   },
   {
    "duration": 23,
    "start_time": "2022-01-25T07:53:29.122Z"
   },
   {
    "duration": 15,
    "start_time": "2022-01-25T07:53:29.146Z"
   },
   {
    "duration": 39,
    "start_time": "2022-01-25T07:53:29.162Z"
   },
   {
    "duration": 19,
    "start_time": "2022-01-25T07:53:29.203Z"
   },
   {
    "duration": 15,
    "start_time": "2022-01-25T07:53:29.224Z"
   },
   {
    "duration": 23,
    "start_time": "2022-01-25T07:53:29.243Z"
   },
   {
    "duration": 31,
    "start_time": "2022-01-25T07:53:29.268Z"
   },
   {
    "duration": 32,
    "start_time": "2022-01-25T07:53:29.301Z"
   },
   {
    "duration": 41,
    "start_time": "2022-01-25T07:53:29.335Z"
   },
   {
    "duration": 22,
    "start_time": "2022-01-25T07:53:29.378Z"
   },
   {
    "duration": 43,
    "start_time": "2022-01-25T07:53:29.402Z"
   },
   {
    "duration": 28,
    "start_time": "2022-01-25T07:53:29.447Z"
   },
   {
    "duration": 339,
    "start_time": "2022-01-25T07:53:29.476Z"
   },
   {
    "duration": 9,
    "start_time": "2022-01-25T07:53:29.817Z"
   },
   {
    "duration": 36,
    "start_time": "2022-01-25T07:53:29.827Z"
   },
   {
    "duration": 22,
    "start_time": "2022-01-25T07:53:29.865Z"
   },
   {
    "duration": 17,
    "start_time": "2022-01-25T07:53:29.889Z"
   },
   {
    "duration": 35,
    "start_time": "2022-01-25T07:53:29.907Z"
   },
   {
    "duration": 762,
    "start_time": "2022-01-25T07:53:29.944Z"
   },
   {
    "duration": -259,
    "start_time": "2022-01-25T07:53:30.967Z"
   },
   {
    "duration": -272,
    "start_time": "2022-01-25T07:53:30.981Z"
   },
   {
    "duration": -291,
    "start_time": "2022-01-25T07:53:31.000Z"
   },
   {
    "duration": -346,
    "start_time": "2022-01-25T07:53:31.056Z"
   },
   {
    "duration": -372,
    "start_time": "2022-01-25T07:53:31.083Z"
   },
   {
    "duration": -401,
    "start_time": "2022-01-25T07:53:31.113Z"
   },
   {
    "duration": -420,
    "start_time": "2022-01-25T07:53:31.133Z"
   },
   {
    "duration": -453,
    "start_time": "2022-01-25T07:53:31.167Z"
   },
   {
    "duration": -473,
    "start_time": "2022-01-25T07:53:31.188Z"
   },
   {
    "duration": -497,
    "start_time": "2022-01-25T07:53:31.213Z"
   },
   {
    "duration": 3,
    "start_time": "2022-01-25T07:55:36.774Z"
   },
   {
    "duration": 443,
    "start_time": "2022-01-25T07:55:36.779Z"
   },
   {
    "duration": 5,
    "start_time": "2022-01-25T07:55:37.224Z"
   },
   {
    "duration": 239,
    "start_time": "2022-01-25T07:55:37.230Z"
   },
   {
    "duration": 147,
    "start_time": "2022-01-25T07:55:37.471Z"
   },
   {
    "duration": 7,
    "start_time": "2022-01-25T07:55:37.620Z"
   },
   {
    "duration": 31,
    "start_time": "2022-01-25T07:55:37.629Z"
   },
   {
    "duration": 106,
    "start_time": "2022-01-25T07:55:37.662Z"
   },
   {
    "duration": 34,
    "start_time": "2022-01-25T07:55:37.771Z"
   },
   {
    "duration": 53,
    "start_time": "2022-01-25T07:55:37.807Z"
   },
   {
    "duration": 14,
    "start_time": "2022-01-25T07:55:37.862Z"
   },
   {
    "duration": 23,
    "start_time": "2022-01-25T07:55:37.878Z"
   },
   {
    "duration": 81,
    "start_time": "2022-01-25T07:55:37.903Z"
   },
   {
    "duration": 33,
    "start_time": "2022-01-25T07:55:37.986Z"
   },
   {
    "duration": 50,
    "start_time": "2022-01-25T07:55:38.021Z"
   },
   {
    "duration": 4,
    "start_time": "2022-01-25T07:55:38.073Z"
   },
   {
    "duration": 57,
    "start_time": "2022-01-25T07:55:38.079Z"
   },
   {
    "duration": 22,
    "start_time": "2022-01-25T07:55:38.138Z"
   },
   {
    "duration": 22,
    "start_time": "2022-01-25T07:55:38.162Z"
   },
   {
    "duration": 4,
    "start_time": "2022-01-25T07:55:38.186Z"
   },
   {
    "duration": 41,
    "start_time": "2022-01-25T07:55:38.191Z"
   },
   {
    "duration": 10,
    "start_time": "2022-01-25T07:55:38.233Z"
   },
   {
    "duration": 9,
    "start_time": "2022-01-25T07:55:38.244Z"
   },
   {
    "duration": 23,
    "start_time": "2022-01-25T07:55:38.254Z"
   },
   {
    "duration": 21,
    "start_time": "2022-01-25T07:55:38.278Z"
   },
   {
    "duration": 14,
    "start_time": "2022-01-25T07:55:38.301Z"
   },
   {
    "duration": 14,
    "start_time": "2022-01-25T07:55:38.318Z"
   },
   {
    "duration": 9,
    "start_time": "2022-01-25T07:55:38.334Z"
   },
   {
    "duration": 26,
    "start_time": "2022-01-25T07:55:38.345Z"
   },
   {
    "duration": 27,
    "start_time": "2022-01-25T07:55:38.373Z"
   },
   {
    "duration": 316,
    "start_time": "2022-01-25T07:55:38.402Z"
   },
   {
    "duration": 9,
    "start_time": "2022-01-25T07:55:38.720Z"
   },
   {
    "duration": 37,
    "start_time": "2022-01-25T07:55:38.731Z"
   },
   {
    "duration": 25,
    "start_time": "2022-01-25T07:55:38.771Z"
   },
   {
    "duration": 20,
    "start_time": "2022-01-25T07:55:38.798Z"
   },
   {
    "duration": 33,
    "start_time": "2022-01-25T07:55:38.820Z"
   },
   {
    "duration": 296,
    "start_time": "2022-01-25T07:55:38.854Z"
   },
   {
    "duration": 255,
    "start_time": "2022-01-25T07:55:39.161Z"
   },
   {
    "duration": 307,
    "start_time": "2022-01-25T07:55:39.418Z"
   },
   {
    "duration": 248,
    "start_time": "2022-01-25T07:55:39.727Z"
   },
   {
    "duration": 7,
    "start_time": "2022-01-25T07:55:39.977Z"
   },
   {
    "duration": 46,
    "start_time": "2022-01-25T07:55:39.986Z"
   },
   {
    "duration": 274,
    "start_time": "2022-01-25T07:55:40.034Z"
   },
   {
    "duration": 8,
    "start_time": "2022-01-25T07:55:40.310Z"
   },
   {
    "duration": 7,
    "start_time": "2022-01-25T07:55:40.319Z"
   },
   {
    "duration": 7,
    "start_time": "2022-01-25T07:55:40.328Z"
   },
   {
    "duration": 286,
    "start_time": "2022-01-25T07:55:40.336Z"
   },
   {
    "duration": 3,
    "start_time": "2022-01-25T07:57:20.485Z"
   },
   {
    "duration": 423,
    "start_time": "2022-01-25T07:57:20.494Z"
   },
   {
    "duration": 4,
    "start_time": "2022-01-25T07:57:20.919Z"
   },
   {
    "duration": 226,
    "start_time": "2022-01-25T07:57:20.924Z"
   },
   {
    "duration": 148,
    "start_time": "2022-01-25T07:57:21.152Z"
   },
   {
    "duration": 6,
    "start_time": "2022-01-25T07:57:21.302Z"
   },
   {
    "duration": 25,
    "start_time": "2022-01-25T07:57:21.310Z"
   },
   {
    "duration": 117,
    "start_time": "2022-01-25T07:57:21.337Z"
   },
   {
    "duration": 32,
    "start_time": "2022-01-25T07:57:21.462Z"
   },
   {
    "duration": 43,
    "start_time": "2022-01-25T07:57:21.496Z"
   },
   {
    "duration": 22,
    "start_time": "2022-01-25T07:57:21.541Z"
   },
   {
    "duration": 29,
    "start_time": "2022-01-25T07:57:21.564Z"
   },
   {
    "duration": 82,
    "start_time": "2022-01-25T07:57:21.594Z"
   },
   {
    "duration": 32,
    "start_time": "2022-01-25T07:57:21.678Z"
   },
   {
    "duration": 50,
    "start_time": "2022-01-25T07:57:21.712Z"
   },
   {
    "duration": 4,
    "start_time": "2022-01-25T07:57:21.764Z"
   },
   {
    "duration": 60,
    "start_time": "2022-01-25T07:57:21.770Z"
   },
   {
    "duration": 24,
    "start_time": "2022-01-25T07:57:21.832Z"
   },
   {
    "duration": 30,
    "start_time": "2022-01-25T07:57:21.858Z"
   },
   {
    "duration": 4,
    "start_time": "2022-01-25T07:57:21.890Z"
   },
   {
    "duration": 67,
    "start_time": "2022-01-25T07:57:21.896Z"
   },
   {
    "duration": 28,
    "start_time": "2022-01-25T07:57:21.965Z"
   },
   {
    "duration": 28,
    "start_time": "2022-01-25T07:57:21.995Z"
   },
   {
    "duration": 47,
    "start_time": "2022-01-25T07:57:22.027Z"
   },
   {
    "duration": 23,
    "start_time": "2022-01-25T07:57:22.076Z"
   },
   {
    "duration": 50,
    "start_time": "2022-01-25T07:57:22.101Z"
   },
   {
    "duration": 38,
    "start_time": "2022-01-25T07:57:22.153Z"
   },
   {
    "duration": 24,
    "start_time": "2022-01-25T07:57:22.193Z"
   },
   {
    "duration": 40,
    "start_time": "2022-01-25T07:57:22.219Z"
   },
   {
    "duration": 33,
    "start_time": "2022-01-25T07:57:22.260Z"
   },
   {
    "duration": 336,
    "start_time": "2022-01-25T07:57:22.295Z"
   },
   {
    "duration": 9,
    "start_time": "2022-01-25T07:57:22.634Z"
   },
   {
    "duration": 48,
    "start_time": "2022-01-25T07:57:22.645Z"
   },
   {
    "duration": 44,
    "start_time": "2022-01-25T07:57:22.695Z"
   },
   {
    "duration": 33,
    "start_time": "2022-01-25T07:57:22.741Z"
   },
   {
    "duration": 39,
    "start_time": "2022-01-25T07:57:22.776Z"
   },
   {
    "duration": 731,
    "start_time": "2022-01-25T07:57:22.817Z"
   },
   {
    "duration": -49,
    "start_time": "2022-01-25T07:57:23.599Z"
   },
   {
    "duration": -87,
    "start_time": "2022-01-25T07:57:23.638Z"
   },
   {
    "duration": -178,
    "start_time": "2022-01-25T07:57:23.737Z"
   },
   {
    "duration": -217,
    "start_time": "2022-01-25T07:57:23.777Z"
   },
   {
    "duration": -251,
    "start_time": "2022-01-25T07:57:23.812Z"
   },
   {
    "duration": -287,
    "start_time": "2022-01-25T07:57:23.849Z"
   },
   {
    "duration": -318,
    "start_time": "2022-01-25T07:57:23.881Z"
   },
   {
    "duration": -352,
    "start_time": "2022-01-25T07:57:23.916Z"
   },
   {
    "duration": -377,
    "start_time": "2022-01-25T07:57:23.942Z"
   },
   {
    "duration": -416,
    "start_time": "2022-01-25T07:57:23.982Z"
   },
   {
    "duration": 3,
    "start_time": "2022-01-25T07:58:07.477Z"
   },
   {
    "duration": 427,
    "start_time": "2022-01-25T07:58:07.490Z"
   },
   {
    "duration": 3,
    "start_time": "2022-01-25T07:58:07.919Z"
   },
   {
    "duration": 224,
    "start_time": "2022-01-25T07:58:07.924Z"
   },
   {
    "duration": 144,
    "start_time": "2022-01-25T07:58:08.150Z"
   },
   {
    "duration": 6,
    "start_time": "2022-01-25T07:58:08.295Z"
   },
   {
    "duration": 33,
    "start_time": "2022-01-25T07:58:08.302Z"
   },
   {
    "duration": 114,
    "start_time": "2022-01-25T07:58:08.337Z"
   },
   {
    "duration": 35,
    "start_time": "2022-01-25T07:58:08.462Z"
   },
   {
    "duration": 53,
    "start_time": "2022-01-25T07:58:08.499Z"
   },
   {
    "duration": 13,
    "start_time": "2022-01-25T07:58:08.553Z"
   },
   {
    "duration": 26,
    "start_time": "2022-01-25T07:58:08.567Z"
   },
   {
    "duration": 83,
    "start_time": "2022-01-25T07:58:08.595Z"
   },
   {
    "duration": 37,
    "start_time": "2022-01-25T07:58:08.680Z"
   },
   {
    "duration": 41,
    "start_time": "2022-01-25T07:58:08.719Z"
   },
   {
    "duration": 4,
    "start_time": "2022-01-25T07:58:08.762Z"
   },
   {
    "duration": 70,
    "start_time": "2022-01-25T07:58:08.767Z"
   },
   {
    "duration": 24,
    "start_time": "2022-01-25T07:58:08.839Z"
   },
   {
    "duration": 35,
    "start_time": "2022-01-25T07:58:08.865Z"
   },
   {
    "duration": 17,
    "start_time": "2022-01-25T07:58:08.902Z"
   },
   {
    "duration": 52,
    "start_time": "2022-01-25T07:58:08.921Z"
   },
   {
    "duration": 26,
    "start_time": "2022-01-25T07:58:08.975Z"
   },
   {
    "duration": 18,
    "start_time": "2022-01-25T07:58:09.002Z"
   },
   {
    "duration": 41,
    "start_time": "2022-01-25T07:58:09.024Z"
   },
   {
    "duration": 30,
    "start_time": "2022-01-25T07:58:09.067Z"
   },
   {
    "duration": 30,
    "start_time": "2022-01-25T07:58:09.099Z"
   },
   {
    "duration": 30,
    "start_time": "2022-01-25T07:58:09.131Z"
   },
   {
    "duration": 19,
    "start_time": "2022-01-25T07:58:09.163Z"
   },
   {
    "duration": 30,
    "start_time": "2022-01-25T07:58:09.184Z"
   },
   {
    "duration": 10,
    "start_time": "2022-01-25T07:58:09.216Z"
   },
   {
    "duration": 324,
    "start_time": "2022-01-25T07:58:09.228Z"
   },
   {
    "duration": 13,
    "start_time": "2022-01-25T07:58:09.555Z"
   },
   {
    "duration": 34,
    "start_time": "2022-01-25T07:58:09.569Z"
   },
   {
    "duration": 28,
    "start_time": "2022-01-25T07:58:09.605Z"
   },
   {
    "duration": 33,
    "start_time": "2022-01-25T07:58:09.635Z"
   },
   {
    "duration": 37,
    "start_time": "2022-01-25T07:58:09.670Z"
   },
   {
    "duration": 925,
    "start_time": "2022-01-25T07:58:09.708Z"
   },
   {
    "duration": -92,
    "start_time": "2022-01-25T07:58:10.727Z"
   },
   {
    "duration": -141,
    "start_time": "2022-01-25T07:58:10.777Z"
   },
   {
    "duration": -181,
    "start_time": "2022-01-25T07:58:10.819Z"
   },
   {
    "duration": -224,
    "start_time": "2022-01-25T07:58:10.863Z"
   },
   {
    "duration": -309,
    "start_time": "2022-01-25T07:58:10.950Z"
   },
   {
    "duration": -344,
    "start_time": "2022-01-25T07:58:10.986Z"
   },
   {
    "duration": -372,
    "start_time": "2022-01-25T07:58:11.015Z"
   },
   {
    "duration": -404,
    "start_time": "2022-01-25T07:58:11.048Z"
   },
   {
    "duration": -414,
    "start_time": "2022-01-25T07:58:11.073Z"
   },
   {
    "duration": -445,
    "start_time": "2022-01-25T07:58:11.106Z"
   },
   {
    "duration": 3,
    "start_time": "2022-01-25T07:58:51.588Z"
   },
   {
    "duration": 423,
    "start_time": "2022-01-25T07:58:51.615Z"
   },
   {
    "duration": 4,
    "start_time": "2022-01-25T07:58:52.040Z"
   },
   {
    "duration": 223,
    "start_time": "2022-01-25T07:58:52.047Z"
   },
   {
    "duration": 147,
    "start_time": "2022-01-25T07:58:52.271Z"
   },
   {
    "duration": 6,
    "start_time": "2022-01-25T07:58:52.420Z"
   },
   {
    "duration": 18,
    "start_time": "2022-01-25T07:58:52.427Z"
   },
   {
    "duration": 120,
    "start_time": "2022-01-25T07:58:52.446Z"
   },
   {
    "duration": 35,
    "start_time": "2022-01-25T07:58:52.567Z"
   },
   {
    "duration": 29,
    "start_time": "2022-01-25T07:58:52.606Z"
   },
   {
    "duration": 12,
    "start_time": "2022-01-25T07:58:52.663Z"
   },
   {
    "duration": 12,
    "start_time": "2022-01-25T07:58:52.677Z"
   },
   {
    "duration": 73,
    "start_time": "2022-01-25T07:58:52.691Z"
   },
   {
    "duration": 33,
    "start_time": "2022-01-25T07:58:52.766Z"
   },
   {
    "duration": 39,
    "start_time": "2022-01-25T07:58:52.801Z"
   },
   {
    "duration": 22,
    "start_time": "2022-01-25T07:58:52.841Z"
   },
   {
    "duration": 59,
    "start_time": "2022-01-25T07:58:52.865Z"
   },
   {
    "duration": 34,
    "start_time": "2022-01-25T07:58:52.926Z"
   },
   {
    "duration": 20,
    "start_time": "2022-01-25T07:58:52.963Z"
   },
   {
    "duration": 20,
    "start_time": "2022-01-25T07:58:52.985Z"
   },
   {
    "duration": 47,
    "start_time": "2022-01-25T07:58:53.007Z"
   },
   {
    "duration": 17,
    "start_time": "2022-01-25T07:58:53.056Z"
   },
   {
    "duration": 12,
    "start_time": "2022-01-25T07:58:53.075Z"
   },
   {
    "duration": 39,
    "start_time": "2022-01-25T07:58:53.089Z"
   },
   {
    "duration": 32,
    "start_time": "2022-01-25T07:58:53.130Z"
   },
   {
    "duration": 17,
    "start_time": "2022-01-25T07:58:53.164Z"
   },
   {
    "duration": 22,
    "start_time": "2022-01-25T07:58:53.183Z"
   },
   {
    "duration": 10,
    "start_time": "2022-01-25T07:58:53.210Z"
   },
   {
    "duration": 21,
    "start_time": "2022-01-25T07:58:53.222Z"
   },
   {
    "duration": 25,
    "start_time": "2022-01-25T07:58:53.245Z"
   },
   {
    "duration": 334,
    "start_time": "2022-01-25T07:58:53.272Z"
   },
   {
    "duration": 9,
    "start_time": "2022-01-25T07:58:53.608Z"
   },
   {
    "duration": 25,
    "start_time": "2022-01-25T07:58:53.619Z"
   },
   {
    "duration": 33,
    "start_time": "2022-01-25T07:58:53.646Z"
   },
   {
    "duration": 22,
    "start_time": "2022-01-25T07:58:53.681Z"
   },
   {
    "duration": 24,
    "start_time": "2022-01-25T07:58:53.705Z"
   },
   {
    "duration": 539,
    "start_time": "2022-01-25T07:58:53.731Z"
   },
   {
    "duration": 436,
    "start_time": "2022-01-25T07:58:54.271Z"
   },
   {
    "duration": 399,
    "start_time": "2022-01-25T07:58:54.709Z"
   },
   {
    "duration": 395,
    "start_time": "2022-01-25T07:58:55.110Z"
   },
   {
    "duration": 7,
    "start_time": "2022-01-25T07:58:55.507Z"
   },
   {
    "duration": 27,
    "start_time": "2022-01-25T07:58:55.516Z"
   },
   {
    "duration": 437,
    "start_time": "2022-01-25T07:58:55.545Z"
   },
   {
    "duration": 8,
    "start_time": "2022-01-25T07:58:55.984Z"
   },
   {
    "duration": 18,
    "start_time": "2022-01-25T07:58:55.994Z"
   },
   {
    "duration": 29,
    "start_time": "2022-01-25T07:58:56.014Z"
   },
   {
    "duration": 274,
    "start_time": "2022-01-25T07:58:56.045Z"
   },
   {
    "duration": 3,
    "start_time": "2022-01-25T07:59:25.805Z"
   },
   {
    "duration": 425,
    "start_time": "2022-01-25T07:59:25.811Z"
   },
   {
    "duration": 3,
    "start_time": "2022-01-25T07:59:26.238Z"
   },
   {
    "duration": 243,
    "start_time": "2022-01-25T07:59:26.243Z"
   },
   {
    "duration": 155,
    "start_time": "2022-01-25T07:59:26.488Z"
   },
   {
    "duration": 15,
    "start_time": "2022-01-25T07:59:26.645Z"
   },
   {
    "duration": 35,
    "start_time": "2022-01-25T07:59:26.662Z"
   },
   {
    "duration": 130,
    "start_time": "2022-01-25T07:59:26.699Z"
   },
   {
    "duration": 43,
    "start_time": "2022-01-25T07:59:26.935Z"
   },
   {
    "duration": 54,
    "start_time": "2022-01-25T07:59:26.980Z"
   },
   {
    "duration": 30,
    "start_time": "2022-01-25T07:59:27.036Z"
   },
   {
    "duration": 34,
    "start_time": "2022-01-25T07:59:27.068Z"
   },
   {
    "duration": 93,
    "start_time": "2022-01-25T07:59:27.104Z"
   },
   {
    "duration": 32,
    "start_time": "2022-01-25T07:59:27.199Z"
   },
   {
    "duration": 47,
    "start_time": "2022-01-25T07:59:27.233Z"
   },
   {
    "duration": 4,
    "start_time": "2022-01-25T07:59:27.282Z"
   },
   {
    "duration": 70,
    "start_time": "2022-01-25T07:59:27.287Z"
   },
   {
    "duration": 24,
    "start_time": "2022-01-25T07:59:27.359Z"
   },
   {
    "duration": 33,
    "start_time": "2022-01-25T07:59:27.385Z"
   },
   {
    "duration": 36,
    "start_time": "2022-01-25T07:59:27.419Z"
   },
   {
    "duration": 77,
    "start_time": "2022-01-25T07:59:27.457Z"
   },
   {
    "duration": 45,
    "start_time": "2022-01-25T07:59:27.536Z"
   },
   {
    "duration": 25,
    "start_time": "2022-01-25T07:59:27.583Z"
   },
   {
    "duration": 69,
    "start_time": "2022-01-25T07:59:27.612Z"
   },
   {
    "duration": 17,
    "start_time": "2022-01-25T07:59:27.683Z"
   },
   {
    "duration": 41,
    "start_time": "2022-01-25T07:59:27.702Z"
   },
   {
    "duration": 62,
    "start_time": "2022-01-25T07:59:27.745Z"
   },
   {
    "duration": 9,
    "start_time": "2022-01-25T07:59:27.809Z"
   },
   {
    "duration": 35,
    "start_time": "2022-01-25T07:59:27.819Z"
   },
   {
    "duration": 23,
    "start_time": "2022-01-25T07:59:27.855Z"
   },
   {
    "duration": 336,
    "start_time": "2022-01-25T07:59:27.880Z"
   },
   {
    "duration": 7,
    "start_time": "2022-01-25T07:59:28.218Z"
   },
   {
    "duration": 47,
    "start_time": "2022-01-25T07:59:28.227Z"
   },
   {
    "duration": 19,
    "start_time": "2022-01-25T07:59:28.276Z"
   },
   {
    "duration": 29,
    "start_time": "2022-01-25T07:59:28.297Z"
   },
   {
    "duration": 40,
    "start_time": "2022-01-25T07:59:28.328Z"
   },
   {
    "duration": 291,
    "start_time": "2022-01-25T07:59:28.369Z"
   },
   {
    "duration": 267,
    "start_time": "2022-01-25T07:59:28.662Z"
   },
   {
    "duration": 245,
    "start_time": "2022-01-25T07:59:28.931Z"
   },
   {
    "duration": 250,
    "start_time": "2022-01-25T07:59:29.177Z"
   },
   {
    "duration": 7,
    "start_time": "2022-01-25T07:59:29.428Z"
   },
   {
    "duration": 49,
    "start_time": "2022-01-25T07:59:29.437Z"
   },
   {
    "duration": 308,
    "start_time": "2022-01-25T07:59:29.488Z"
   },
   {
    "duration": 8,
    "start_time": "2022-01-25T07:59:29.797Z"
   },
   {
    "duration": 41,
    "start_time": "2022-01-25T07:59:29.807Z"
   },
   {
    "duration": 31,
    "start_time": "2022-01-25T07:59:29.849Z"
   },
   {
    "duration": 281,
    "start_time": "2022-01-25T07:59:29.882Z"
   },
   {
    "duration": 3,
    "start_time": "2022-01-25T08:00:30.235Z"
   },
   {
    "duration": 473,
    "start_time": "2022-01-25T08:00:30.239Z"
   },
   {
    "duration": 4,
    "start_time": "2022-01-25T08:00:30.714Z"
   },
   {
    "duration": 241,
    "start_time": "2022-01-25T08:00:30.720Z"
   },
   {
    "duration": 150,
    "start_time": "2022-01-25T08:00:30.963Z"
   },
   {
    "duration": 6,
    "start_time": "2022-01-25T08:00:31.114Z"
   },
   {
    "duration": 19,
    "start_time": "2022-01-25T08:00:31.121Z"
   },
   {
    "duration": 129,
    "start_time": "2022-01-25T08:00:31.141Z"
   },
   {
    "duration": 42,
    "start_time": "2022-01-25T08:00:31.274Z"
   },
   {
    "duration": 28,
    "start_time": "2022-01-25T08:00:31.318Z"
   },
   {
    "duration": 22,
    "start_time": "2022-01-25T08:00:31.348Z"
   },
   {
    "duration": 23,
    "start_time": "2022-01-25T08:00:31.373Z"
   },
   {
    "duration": 56,
    "start_time": "2022-01-25T08:00:31.398Z"
   },
   {
    "duration": 35,
    "start_time": "2022-01-25T08:00:31.456Z"
   },
   {
    "duration": 39,
    "start_time": "2022-01-25T08:00:31.493Z"
   },
   {
    "duration": 5,
    "start_time": "2022-01-25T08:00:31.533Z"
   },
   {
    "duration": 55,
    "start_time": "2022-01-25T08:00:31.539Z"
   },
   {
    "duration": 68,
    "start_time": "2022-01-25T08:00:31.596Z"
   },
   {
    "duration": 20,
    "start_time": "2022-01-25T08:00:31.666Z"
   },
   {
    "duration": 6,
    "start_time": "2022-01-25T08:00:31.688Z"
   },
   {
    "duration": 80,
    "start_time": "2022-01-25T08:00:31.696Z"
   },
   {
    "duration": 11,
    "start_time": "2022-01-25T08:00:31.778Z"
   },
   {
    "duration": 4,
    "start_time": "2022-01-25T08:00:31.791Z"
   },
   {
    "duration": 8,
    "start_time": "2022-01-25T08:00:31.796Z"
   },
   {
    "duration": 59,
    "start_time": "2022-01-25T08:00:31.806Z"
   },
   {
    "duration": 11,
    "start_time": "2022-01-25T08:00:31.867Z"
   },
   {
    "duration": 23,
    "start_time": "2022-01-25T08:00:31.882Z"
   },
   {
    "duration": 3,
    "start_time": "2022-01-25T08:00:31.907Z"
   },
   {
    "duration": 10,
    "start_time": "2022-01-25T08:00:31.912Z"
   },
   {
    "duration": 6,
    "start_time": "2022-01-25T08:00:31.923Z"
   },
   {
    "duration": 388,
    "start_time": "2022-01-25T08:00:31.931Z"
   },
   {
    "duration": 40,
    "start_time": "2022-01-25T08:00:32.321Z"
   },
   {
    "duration": 16,
    "start_time": "2022-01-25T08:00:32.363Z"
   },
   {
    "duration": 9,
    "start_time": "2022-01-25T08:00:32.382Z"
   },
   {
    "duration": 6,
    "start_time": "2022-01-25T08:00:32.393Z"
   },
   {
    "duration": 62,
    "start_time": "2022-01-25T08:00:32.401Z"
   },
   {
    "duration": 434,
    "start_time": "2022-01-25T08:00:32.469Z"
   },
   {
    "duration": 276,
    "start_time": "2022-01-25T08:00:32.905Z"
   },
   {
    "duration": 364,
    "start_time": "2022-01-25T08:00:33.183Z"
   },
   {
    "duration": 282,
    "start_time": "2022-01-25T08:00:33.549Z"
   },
   {
    "duration": 7,
    "start_time": "2022-01-25T08:00:33.833Z"
   },
   {
    "duration": 31,
    "start_time": "2022-01-25T08:00:33.844Z"
   },
   {
    "duration": 324,
    "start_time": "2022-01-25T08:00:33.877Z"
   },
   {
    "duration": 9,
    "start_time": "2022-01-25T08:00:34.203Z"
   },
   {
    "duration": 63,
    "start_time": "2022-01-25T08:00:34.214Z"
   },
   {
    "duration": 37,
    "start_time": "2022-01-25T08:00:34.278Z"
   },
   {
    "duration": 364,
    "start_time": "2022-01-25T08:00:34.317Z"
   },
   {
    "duration": 4,
    "start_time": "2022-01-25T08:01:14.256Z"
   },
   {
    "duration": 591,
    "start_time": "2022-01-25T08:01:14.262Z"
   },
   {
    "duration": 5,
    "start_time": "2022-01-25T08:01:14.856Z"
   },
   {
    "duration": 329,
    "start_time": "2022-01-25T08:01:14.862Z"
   },
   {
    "duration": 222,
    "start_time": "2022-01-25T08:01:15.194Z"
   },
   {
    "duration": 6,
    "start_time": "2022-01-25T08:01:15.419Z"
   },
   {
    "duration": 10,
    "start_time": "2022-01-25T08:01:15.427Z"
   },
   {
    "duration": 175,
    "start_time": "2022-01-25T08:01:15.441Z"
   },
   {
    "duration": 68,
    "start_time": "2022-01-25T08:01:15.619Z"
   },
   {
    "duration": 43,
    "start_time": "2022-01-25T08:01:15.689Z"
   },
   {
    "duration": 35,
    "start_time": "2022-01-25T08:01:15.734Z"
   },
   {
    "duration": 24,
    "start_time": "2022-01-25T08:01:15.771Z"
   },
   {
    "duration": 58,
    "start_time": "2022-01-25T08:01:15.797Z"
   },
   {
    "duration": 32,
    "start_time": "2022-01-25T08:01:15.857Z"
   },
   {
    "duration": 39,
    "start_time": "2022-01-25T08:01:15.890Z"
   },
   {
    "duration": 4,
    "start_time": "2022-01-25T08:01:15.930Z"
   },
   {
    "duration": 64,
    "start_time": "2022-01-25T08:01:15.936Z"
   },
   {
    "duration": 26,
    "start_time": "2022-01-25T08:01:16.001Z"
   },
   {
    "duration": 39,
    "start_time": "2022-01-25T08:01:16.029Z"
   },
   {
    "duration": 5,
    "start_time": "2022-01-25T08:01:16.069Z"
   },
   {
    "duration": 36,
    "start_time": "2022-01-25T08:01:16.075Z"
   },
   {
    "duration": 9,
    "start_time": "2022-01-25T08:01:16.113Z"
   },
   {
    "duration": 22,
    "start_time": "2022-01-25T08:01:16.125Z"
   },
   {
    "duration": 23,
    "start_time": "2022-01-25T08:01:16.149Z"
   },
   {
    "duration": 15,
    "start_time": "2022-01-25T08:01:16.174Z"
   },
   {
    "duration": 22,
    "start_time": "2022-01-25T08:01:16.191Z"
   },
   {
    "duration": 16,
    "start_time": "2022-01-25T08:01:16.214Z"
   },
   {
    "duration": 14,
    "start_time": "2022-01-25T08:01:16.231Z"
   },
   {
    "duration": 29,
    "start_time": "2022-01-25T08:01:16.247Z"
   },
   {
    "duration": 7,
    "start_time": "2022-01-25T08:01:16.278Z"
   },
   {
    "duration": 310,
    "start_time": "2022-01-25T08:01:16.287Z"
   },
   {
    "duration": 10,
    "start_time": "2022-01-25T08:01:16.600Z"
   },
   {
    "duration": 15,
    "start_time": "2022-01-25T08:01:16.612Z"
   },
   {
    "duration": 36,
    "start_time": "2022-01-25T08:01:16.629Z"
   },
   {
    "duration": 7,
    "start_time": "2022-01-25T08:01:16.667Z"
   },
   {
    "duration": 14,
    "start_time": "2022-01-25T08:01:16.676Z"
   },
   {
    "duration": 511,
    "start_time": "2022-01-25T08:01:16.692Z"
   },
   {
    "duration": 450,
    "start_time": "2022-01-25T08:01:17.205Z"
   },
   {
    "duration": 490,
    "start_time": "2022-01-25T08:01:17.660Z"
   },
   {
    "duration": 428,
    "start_time": "2022-01-25T08:01:18.152Z"
   },
   {
    "duration": 7,
    "start_time": "2022-01-25T08:01:18.581Z"
   },
   {
    "duration": 22,
    "start_time": "2022-01-25T08:01:18.589Z"
   },
   {
    "duration": 633,
    "start_time": "2022-01-25T08:01:18.613Z"
   },
   {
    "duration": 14,
    "start_time": "2022-01-25T08:01:19.248Z"
   },
   {
    "duration": 25,
    "start_time": "2022-01-25T08:01:19.264Z"
   },
   {
    "duration": 16,
    "start_time": "2022-01-25T08:01:19.291Z"
   },
   {
    "duration": 300,
    "start_time": "2022-01-25T08:01:19.308Z"
   },
   {
    "duration": 4,
    "start_time": "2022-01-25T08:01:40.711Z"
   },
   {
    "duration": 470,
    "start_time": "2022-01-25T08:01:40.719Z"
   },
   {
    "duration": 5,
    "start_time": "2022-01-25T08:01:41.191Z"
   },
   {
    "duration": 229,
    "start_time": "2022-01-25T08:01:41.199Z"
   },
   {
    "duration": 165,
    "start_time": "2022-01-25T08:01:41.430Z"
   },
   {
    "duration": 7,
    "start_time": "2022-01-25T08:01:41.597Z"
   },
   {
    "duration": 33,
    "start_time": "2022-01-25T08:01:41.606Z"
   },
   {
    "duration": 157,
    "start_time": "2022-01-25T08:01:41.641Z"
   },
   {
    "duration": 60,
    "start_time": "2022-01-25T08:01:41.802Z"
   },
   {
    "duration": 38,
    "start_time": "2022-01-25T08:01:41.864Z"
   },
   {
    "duration": 15,
    "start_time": "2022-01-25T08:01:41.904Z"
   },
   {
    "duration": 36,
    "start_time": "2022-01-25T08:01:41.921Z"
   },
   {
    "duration": 84,
    "start_time": "2022-01-25T08:01:41.960Z"
   },
   {
    "duration": 35,
    "start_time": "2022-01-25T08:01:42.046Z"
   },
   {
    "duration": 41,
    "start_time": "2022-01-25T08:01:42.084Z"
   },
   {
    "duration": 17,
    "start_time": "2022-01-25T08:01:42.127Z"
   },
   {
    "duration": 75,
    "start_time": "2022-01-25T08:01:42.145Z"
   },
   {
    "duration": 31,
    "start_time": "2022-01-25T08:01:42.222Z"
   },
   {
    "duration": 32,
    "start_time": "2022-01-25T08:01:42.255Z"
   },
   {
    "duration": 21,
    "start_time": "2022-01-25T08:01:42.289Z"
   },
   {
    "duration": 62,
    "start_time": "2022-01-25T08:01:42.312Z"
   },
   {
    "duration": 27,
    "start_time": "2022-01-25T08:01:42.376Z"
   },
   {
    "duration": 31,
    "start_time": "2022-01-25T08:01:42.405Z"
   },
   {
    "duration": 39,
    "start_time": "2022-01-25T08:01:42.440Z"
   },
   {
    "duration": 33,
    "start_time": "2022-01-25T08:01:42.481Z"
   },
   {
    "duration": 43,
    "start_time": "2022-01-25T08:01:42.515Z"
   },
   {
    "duration": 30,
    "start_time": "2022-01-25T08:01:42.560Z"
   },
   {
    "duration": 14,
    "start_time": "2022-01-25T08:01:42.592Z"
   },
   {
    "duration": 39,
    "start_time": "2022-01-25T08:01:42.607Z"
   },
   {
    "duration": 22,
    "start_time": "2022-01-25T08:01:42.647Z"
   },
   {
    "duration": 339,
    "start_time": "2022-01-25T08:01:42.671Z"
   },
   {
    "duration": 9,
    "start_time": "2022-01-25T08:01:43.012Z"
   },
   {
    "duration": 67,
    "start_time": "2022-01-25T08:01:43.022Z"
   },
   {
    "duration": 44,
    "start_time": "2022-01-25T08:01:43.091Z"
   },
   {
    "duration": 22,
    "start_time": "2022-01-25T08:01:43.137Z"
   },
   {
    "duration": 48,
    "start_time": "2022-01-25T08:01:43.161Z"
   },
   {
    "duration": 301,
    "start_time": "2022-01-25T08:01:43.211Z"
   },
   {
    "duration": 281,
    "start_time": "2022-01-25T08:01:43.514Z"
   },
   {
    "duration": 247,
    "start_time": "2022-01-25T08:01:43.797Z"
   },
   {
    "duration": 277,
    "start_time": "2022-01-25T08:01:44.046Z"
   },
   {
    "duration": 8,
    "start_time": "2022-01-25T08:01:44.325Z"
   },
   {
    "duration": 30,
    "start_time": "2022-01-25T08:01:44.335Z"
   },
   {
    "duration": 439,
    "start_time": "2022-01-25T08:01:44.368Z"
   },
   {
    "duration": 9,
    "start_time": "2022-01-25T08:01:44.809Z"
   },
   {
    "duration": 19,
    "start_time": "2022-01-25T08:01:44.820Z"
   },
   {
    "duration": 40,
    "start_time": "2022-01-25T08:01:44.841Z"
   },
   {
    "duration": 297,
    "start_time": "2022-01-25T08:01:44.883Z"
   },
   {
    "duration": 12,
    "start_time": "2022-01-25T08:12:06.994Z"
   },
   {
    "duration": 23,
    "start_time": "2022-01-25T08:12:08.517Z"
   },
   {
    "duration": 4,
    "start_time": "2022-01-25T08:12:14.783Z"
   },
   {
    "duration": 484,
    "start_time": "2022-01-25T08:12:14.793Z"
   },
   {
    "duration": 4,
    "start_time": "2022-01-25T08:12:15.279Z"
   },
   {
    "duration": 257,
    "start_time": "2022-01-25T08:12:15.285Z"
   },
   {
    "duration": 156,
    "start_time": "2022-01-25T08:12:15.544Z"
   },
   {
    "duration": 5,
    "start_time": "2022-01-25T08:12:15.702Z"
   },
   {
    "duration": 43,
    "start_time": "2022-01-25T08:12:15.709Z"
   },
   {
    "duration": 131,
    "start_time": "2022-01-25T08:12:15.754Z"
   },
   {
    "duration": 34,
    "start_time": "2022-01-25T08:12:15.887Z"
   },
   {
    "duration": 58,
    "start_time": "2022-01-25T08:12:15.923Z"
   },
   {
    "duration": 13,
    "start_time": "2022-01-25T08:12:15.983Z"
   },
   {
    "duration": 34,
    "start_time": "2022-01-25T08:12:15.998Z"
   },
   {
    "duration": 73,
    "start_time": "2022-01-25T08:12:16.034Z"
   },
   {
    "duration": 31,
    "start_time": "2022-01-25T08:12:16.109Z"
   },
   {
    "duration": 48,
    "start_time": "2022-01-25T08:12:16.141Z"
   },
   {
    "duration": 3,
    "start_time": "2022-01-25T08:12:16.192Z"
   },
   {
    "duration": 84,
    "start_time": "2022-01-25T08:12:16.197Z"
   },
   {
    "duration": 25,
    "start_time": "2022-01-25T08:12:16.282Z"
   },
   {
    "duration": 25,
    "start_time": "2022-01-25T08:12:16.309Z"
   },
   {
    "duration": 23,
    "start_time": "2022-01-25T08:12:16.335Z"
   },
   {
    "duration": 49,
    "start_time": "2022-01-25T08:12:16.360Z"
   },
   {
    "duration": 20,
    "start_time": "2022-01-25T08:12:16.410Z"
   },
   {
    "duration": 28,
    "start_time": "2022-01-25T08:12:16.431Z"
   },
   {
    "duration": 52,
    "start_time": "2022-01-25T08:12:16.463Z"
   },
   {
    "duration": 36,
    "start_time": "2022-01-25T08:12:16.517Z"
   },
   {
    "duration": 37,
    "start_time": "2022-01-25T08:12:16.555Z"
   },
   {
    "duration": 43,
    "start_time": "2022-01-25T08:12:16.594Z"
   },
   {
    "duration": 23,
    "start_time": "2022-01-25T08:12:16.639Z"
   },
   {
    "duration": 33,
    "start_time": "2022-01-25T08:12:16.663Z"
   },
   {
    "duration": 33,
    "start_time": "2022-01-25T08:12:16.698Z"
   },
   {
    "duration": 369,
    "start_time": "2022-01-25T08:12:16.733Z"
   },
   {
    "duration": 8,
    "start_time": "2022-01-25T08:12:17.104Z"
   },
   {
    "duration": 37,
    "start_time": "2022-01-25T08:12:17.114Z"
   },
   {
    "duration": 35,
    "start_time": "2022-01-25T08:12:17.153Z"
   },
   {
    "duration": 38,
    "start_time": "2022-01-25T08:12:17.190Z"
   },
   {
    "duration": 44,
    "start_time": "2022-01-25T08:12:17.230Z"
   },
   {
    "duration": 748,
    "start_time": "2022-01-25T08:12:17.276Z"
   },
   {
    "duration": -8,
    "start_time": "2022-01-25T08:12:18.034Z"
   },
   {
    "duration": -125,
    "start_time": "2022-01-25T08:12:18.152Z"
   },
   {
    "duration": -155,
    "start_time": "2022-01-25T08:12:18.183Z"
   },
   {
    "duration": -167,
    "start_time": "2022-01-25T08:12:18.196Z"
   },
   {
    "duration": -183,
    "start_time": "2022-01-25T08:12:18.213Z"
   },
   {
    "duration": -208,
    "start_time": "2022-01-25T08:12:18.239Z"
   },
   {
    "duration": -219,
    "start_time": "2022-01-25T08:12:18.251Z"
   },
   {
    "duration": -235,
    "start_time": "2022-01-25T08:12:18.268Z"
   },
   {
    "duration": -273,
    "start_time": "2022-01-25T08:12:18.307Z"
   },
   {
    "duration": -291,
    "start_time": "2022-01-25T08:12:18.326Z"
   },
   {
    "duration": 6,
    "start_time": "2022-01-25T08:15:47.868Z"
   },
   {
    "duration": 946,
    "start_time": "2022-01-25T08:15:52.798Z"
   },
   {
    "duration": 6,
    "start_time": "2022-01-25T08:16:14.462Z"
   },
   {
    "duration": 687,
    "start_time": "2022-01-25T08:16:17.953Z"
   },
   {
    "duration": 24,
    "start_time": "2022-01-25T08:16:57.647Z"
   },
   {
    "duration": 7079,
    "start_time": "2022-01-25T08:23:36.211Z"
   },
   {
    "duration": 98,
    "start_time": "2022-01-25T08:24:16.567Z"
   },
   {
    "duration": 277,
    "start_time": "2022-01-25T08:24:21.699Z"
   },
   {
    "duration": 22,
    "start_time": "2022-01-25T08:24:43.224Z"
   },
   {
    "duration": 288,
    "start_time": "2022-01-25T08:25:08.109Z"
   },
   {
    "duration": 10,
    "start_time": "2022-01-25T08:25:22.925Z"
   },
   {
    "duration": 288,
    "start_time": "2022-01-25T08:26:02.262Z"
   },
   {
    "duration": 3,
    "start_time": "2022-01-25T08:26:14.443Z"
   },
   {
    "duration": 415,
    "start_time": "2022-01-25T08:26:14.450Z"
   },
   {
    "duration": 4,
    "start_time": "2022-01-25T08:26:14.867Z"
   },
   {
    "duration": 232,
    "start_time": "2022-01-25T08:26:14.873Z"
   },
   {
    "duration": 156,
    "start_time": "2022-01-25T08:26:15.107Z"
   },
   {
    "duration": 4,
    "start_time": "2022-01-25T08:26:15.265Z"
   },
   {
    "duration": 16,
    "start_time": "2022-01-25T08:26:15.271Z"
   },
   {
    "duration": 126,
    "start_time": "2022-01-25T08:26:15.289Z"
   },
   {
    "duration": 44,
    "start_time": "2022-01-25T08:26:15.418Z"
   },
   {
    "duration": 28,
    "start_time": "2022-01-25T08:26:15.465Z"
   },
   {
    "duration": 11,
    "start_time": "2022-01-25T08:26:15.495Z"
   },
   {
    "duration": 13,
    "start_time": "2022-01-25T08:26:15.508Z"
   },
   {
    "duration": 80,
    "start_time": "2022-01-25T08:26:15.522Z"
   },
   {
    "duration": 33,
    "start_time": "2022-01-25T08:26:15.604Z"
   },
   {
    "duration": 46,
    "start_time": "2022-01-25T08:26:15.639Z"
   },
   {
    "duration": 4,
    "start_time": "2022-01-25T08:26:15.687Z"
   },
   {
    "duration": 66,
    "start_time": "2022-01-25T08:26:15.692Z"
   },
   {
    "duration": 23,
    "start_time": "2022-01-25T08:26:15.760Z"
   },
   {
    "duration": 18,
    "start_time": "2022-01-25T08:26:15.785Z"
   },
   {
    "duration": 13,
    "start_time": "2022-01-25T08:26:15.805Z"
   },
   {
    "duration": 42,
    "start_time": "2022-01-25T08:26:15.820Z"
   },
   {
    "duration": 10,
    "start_time": "2022-01-25T08:26:15.864Z"
   },
   {
    "duration": 23,
    "start_time": "2022-01-25T08:26:15.875Z"
   },
   {
    "duration": 39,
    "start_time": "2022-01-25T08:26:15.901Z"
   },
   {
    "duration": 19,
    "start_time": "2022-01-25T08:26:15.942Z"
   },
   {
    "duration": 23,
    "start_time": "2022-01-25T08:26:15.962Z"
   },
   {
    "duration": 38,
    "start_time": "2022-01-25T08:26:15.987Z"
   },
   {
    "duration": 3,
    "start_time": "2022-01-25T08:26:16.026Z"
   },
   {
    "duration": 22,
    "start_time": "2022-01-25T08:26:16.031Z"
   },
   {
    "duration": 6,
    "start_time": "2022-01-25T08:26:16.055Z"
   },
   {
    "duration": 317,
    "start_time": "2022-01-25T08:26:16.062Z"
   },
   {
    "duration": 7,
    "start_time": "2022-01-25T08:26:16.381Z"
   },
   {
    "duration": 26,
    "start_time": "2022-01-25T08:26:16.390Z"
   },
   {
    "duration": 37,
    "start_time": "2022-01-25T08:26:16.418Z"
   },
   {
    "duration": 27,
    "start_time": "2022-01-25T08:26:16.457Z"
   },
   {
    "duration": 25,
    "start_time": "2022-01-25T08:26:16.486Z"
   },
   {
    "duration": 761,
    "start_time": "2022-01-25T08:26:16.513Z"
   },
   {
    "duration": -190,
    "start_time": "2022-01-25T08:26:17.466Z"
   },
   {
    "duration": -211,
    "start_time": "2022-01-25T08:26:17.488Z"
   },
   {
    "duration": -224,
    "start_time": "2022-01-25T08:26:17.503Z"
   },
   {
    "duration": -274,
    "start_time": "2022-01-25T08:26:17.554Z"
   },
   {
    "duration": -319,
    "start_time": "2022-01-25T08:26:17.600Z"
   },
   {
    "duration": -352,
    "start_time": "2022-01-25T08:26:17.635Z"
   },
   {
    "duration": -402,
    "start_time": "2022-01-25T08:26:17.686Z"
   },
   {
    "duration": -419,
    "start_time": "2022-01-25T08:26:17.705Z"
   },
   {
    "duration": -517,
    "start_time": "2022-01-25T08:26:17.804Z"
   },
   {
    "duration": -559,
    "start_time": "2022-01-25T08:26:17.847Z"
   },
   {
    "duration": 5,
    "start_time": "2022-01-25T08:26:38.876Z"
   },
   {
    "duration": 26,
    "start_time": "2022-01-25T08:26:54.863Z"
   },
   {
    "duration": 16,
    "start_time": "2022-01-25T08:27:33.784Z"
   },
   {
    "duration": 18,
    "start_time": "2022-01-25T08:27:47.853Z"
   },
   {
    "duration": 23,
    "start_time": "2022-01-25T08:28:13.393Z"
   },
   {
    "duration": 1676,
    "start_time": "2022-01-25T08:28:32.973Z"
   },
   {
    "duration": 1514,
    "start_time": "2022-01-25T08:28:54.151Z"
   },
   {
    "duration": 46,
    "start_time": "2022-01-25T08:28:55.621Z"
   },
   {
    "duration": 4,
    "start_time": "2022-01-25T08:29:00.210Z"
   },
   {
    "duration": 431,
    "start_time": "2022-01-25T08:29:00.216Z"
   },
   {
    "duration": 5,
    "start_time": "2022-01-25T08:29:00.650Z"
   },
   {
    "duration": 233,
    "start_time": "2022-01-25T08:29:00.657Z"
   },
   {
    "duration": 155,
    "start_time": "2022-01-25T08:29:00.891Z"
   },
   {
    "duration": 14,
    "start_time": "2022-01-25T08:29:01.048Z"
   },
   {
    "duration": 18,
    "start_time": "2022-01-25T08:29:01.064Z"
   },
   {
    "duration": 131,
    "start_time": "2022-01-25T08:29:01.083Z"
   },
   {
    "duration": 47,
    "start_time": "2022-01-25T08:29:01.217Z"
   },
   {
    "duration": 31,
    "start_time": "2022-01-25T08:29:01.266Z"
   },
   {
    "duration": 12,
    "start_time": "2022-01-25T08:29:01.299Z"
   },
   {
    "duration": 24,
    "start_time": "2022-01-25T08:29:01.314Z"
   },
   {
    "duration": 71,
    "start_time": "2022-01-25T08:29:01.340Z"
   },
   {
    "duration": 47,
    "start_time": "2022-01-25T08:29:01.413Z"
   },
   {
    "duration": 39,
    "start_time": "2022-01-25T08:29:01.463Z"
   },
   {
    "duration": 5,
    "start_time": "2022-01-25T08:29:01.503Z"
   },
   {
    "duration": 65,
    "start_time": "2022-01-25T08:29:01.509Z"
   },
   {
    "duration": 28,
    "start_time": "2022-01-25T08:29:01.576Z"
   },
   {
    "duration": 19,
    "start_time": "2022-01-25T08:29:01.605Z"
   },
   {
    "duration": 6,
    "start_time": "2022-01-25T08:29:01.626Z"
   },
   {
    "duration": 53,
    "start_time": "2022-01-25T08:29:01.633Z"
   },
   {
    "duration": 11,
    "start_time": "2022-01-25T08:29:01.687Z"
   },
   {
    "duration": 3,
    "start_time": "2022-01-25T08:29:01.700Z"
   },
   {
    "duration": 10,
    "start_time": "2022-01-25T08:29:01.705Z"
   },
   {
    "duration": 52,
    "start_time": "2022-01-25T08:29:01.717Z"
   },
   {
    "duration": 53,
    "start_time": "2022-01-25T08:29:01.772Z"
   },
   {
    "duration": 65,
    "start_time": "2022-01-25T08:29:01.830Z"
   },
   {
    "duration": 25,
    "start_time": "2022-01-25T08:29:01.898Z"
   },
   {
    "duration": 36,
    "start_time": "2022-01-25T08:29:01.925Z"
   },
   {
    "duration": 16,
    "start_time": "2022-01-25T08:29:01.964Z"
   },
   {
    "duration": 353,
    "start_time": "2022-01-25T08:29:01.982Z"
   },
   {
    "duration": 9,
    "start_time": "2022-01-25T08:29:02.337Z"
   },
   {
    "duration": 30,
    "start_time": "2022-01-25T08:29:02.348Z"
   },
   {
    "duration": 20,
    "start_time": "2022-01-25T08:29:02.380Z"
   },
   {
    "duration": 17,
    "start_time": "2022-01-25T08:29:02.402Z"
   },
   {
    "duration": 30,
    "start_time": "2022-01-25T08:29:02.421Z"
   },
   {
    "duration": 697,
    "start_time": "2022-01-25T08:29:02.453Z"
   },
   {
    "duration": -87,
    "start_time": "2022-01-25T08:29:03.247Z"
   },
   {
    "duration": -102,
    "start_time": "2022-01-25T08:29:03.263Z"
   },
   {
    "duration": -701,
    "start_time": "2022-01-25T08:29:03.864Z"
   },
   {
    "duration": -720,
    "start_time": "2022-01-25T08:29:03.884Z"
   },
   {
    "duration": -731,
    "start_time": "2022-01-25T08:29:03.897Z"
   },
   {
    "duration": -747,
    "start_time": "2022-01-25T08:29:03.914Z"
   },
   {
    "duration": -784,
    "start_time": "2022-01-25T08:29:03.953Z"
   },
   {
    "duration": -813,
    "start_time": "2022-01-25T08:29:03.983Z"
   },
   {
    "duration": -837,
    "start_time": "2022-01-25T08:29:04.008Z"
   },
   {
    "duration": -861,
    "start_time": "2022-01-25T08:29:04.034Z"
   },
   {
    "duration": 31,
    "start_time": "2022-01-25T08:29:17.270Z"
   },
   {
    "duration": 3,
    "start_time": "2022-01-25T08:29:43.825Z"
   },
   {
    "duration": 465,
    "start_time": "2022-01-25T08:29:43.830Z"
   },
   {
    "duration": 4,
    "start_time": "2022-01-25T08:29:44.297Z"
   },
   {
    "duration": 238,
    "start_time": "2022-01-25T08:29:44.303Z"
   },
   {
    "duration": 150,
    "start_time": "2022-01-25T08:29:44.543Z"
   },
   {
    "duration": 6,
    "start_time": "2022-01-25T08:29:44.695Z"
   },
   {
    "duration": 19,
    "start_time": "2022-01-25T08:29:44.702Z"
   },
   {
    "duration": 126,
    "start_time": "2022-01-25T08:29:44.723Z"
   },
   {
    "duration": 39,
    "start_time": "2022-01-25T08:29:44.852Z"
   },
   {
    "duration": 37,
    "start_time": "2022-01-25T08:29:44.893Z"
   },
   {
    "duration": 17,
    "start_time": "2022-01-25T08:29:44.932Z"
   },
   {
    "duration": 24,
    "start_time": "2022-01-25T08:29:44.961Z"
   },
   {
    "duration": 91,
    "start_time": "2022-01-25T08:29:44.986Z"
   },
   {
    "duration": 31,
    "start_time": "2022-01-25T08:29:45.079Z"
   },
   {
    "duration": 48,
    "start_time": "2022-01-25T08:29:45.112Z"
   },
   {
    "duration": 5,
    "start_time": "2022-01-25T08:29:45.162Z"
   },
   {
    "duration": 77,
    "start_time": "2022-01-25T08:29:45.169Z"
   },
   {
    "duration": 28,
    "start_time": "2022-01-25T08:29:45.248Z"
   },
   {
    "duration": 22,
    "start_time": "2022-01-25T08:29:45.279Z"
   },
   {
    "duration": 5,
    "start_time": "2022-01-25T08:29:45.302Z"
   },
   {
    "duration": 36,
    "start_time": "2022-01-25T08:29:45.308Z"
   },
   {
    "duration": 37,
    "start_time": "2022-01-25T08:29:45.345Z"
   },
   {
    "duration": 3,
    "start_time": "2022-01-25T08:29:45.384Z"
   },
   {
    "duration": 34,
    "start_time": "2022-01-25T08:29:45.388Z"
   },
   {
    "duration": 21,
    "start_time": "2022-01-25T08:29:45.423Z"
   },
   {
    "duration": 26,
    "start_time": "2022-01-25T08:29:45.445Z"
   },
   {
    "duration": 29,
    "start_time": "2022-01-25T08:29:45.474Z"
   },
   {
    "duration": 17,
    "start_time": "2022-01-25T08:29:45.506Z"
   },
   {
    "duration": 25,
    "start_time": "2022-01-25T08:29:45.525Z"
   },
   {
    "duration": 17,
    "start_time": "2022-01-25T08:29:45.552Z"
   },
   {
    "duration": 330,
    "start_time": "2022-01-25T08:29:45.571Z"
   },
   {
    "duration": 7,
    "start_time": "2022-01-25T08:29:45.903Z"
   },
   {
    "duration": 49,
    "start_time": "2022-01-25T08:29:45.912Z"
   },
   {
    "duration": 39,
    "start_time": "2022-01-25T08:29:45.963Z"
   },
   {
    "duration": 40,
    "start_time": "2022-01-25T08:29:46.004Z"
   },
   {
    "duration": 52,
    "start_time": "2022-01-25T08:29:46.046Z"
   },
   {
    "duration": 772,
    "start_time": "2022-01-25T08:29:46.099Z"
   },
   {
    "duration": -42,
    "start_time": "2022-01-25T08:29:46.915Z"
   },
   {
    "duration": -75,
    "start_time": "2022-01-25T08:29:46.950Z"
   },
   {
    "duration": -86,
    "start_time": "2022-01-25T08:29:46.962Z"
   },
   {
    "duration": -101,
    "start_time": "2022-01-25T08:29:46.978Z"
   },
   {
    "duration": -136,
    "start_time": "2022-01-25T08:29:47.014Z"
   },
   {
    "duration": -173,
    "start_time": "2022-01-25T08:29:47.053Z"
   },
   {
    "duration": -222,
    "start_time": "2022-01-25T08:29:47.103Z"
   },
   {
    "duration": -275,
    "start_time": "2022-01-25T08:29:47.157Z"
   },
   {
    "duration": -294,
    "start_time": "2022-01-25T08:29:47.177Z"
   },
   {
    "duration": -311,
    "start_time": "2022-01-25T08:29:47.195Z"
   },
   {
    "duration": 17,
    "start_time": "2022-01-25T08:30:32.534Z"
   },
   {
    "duration": 3,
    "start_time": "2022-01-25T08:30:41.781Z"
   },
   {
    "duration": 477,
    "start_time": "2022-01-25T08:30:41.790Z"
   },
   {
    "duration": 4,
    "start_time": "2022-01-25T08:30:42.269Z"
   },
   {
    "duration": 222,
    "start_time": "2022-01-25T08:30:42.275Z"
   },
   {
    "duration": 157,
    "start_time": "2022-01-25T08:30:42.499Z"
   },
   {
    "duration": 6,
    "start_time": "2022-01-25T08:30:42.661Z"
   },
   {
    "duration": 10,
    "start_time": "2022-01-25T08:30:42.669Z"
   },
   {
    "duration": 136,
    "start_time": "2022-01-25T08:30:42.681Z"
   },
   {
    "duration": 129,
    "start_time": "2022-01-25T08:30:42.820Z"
   },
   {
    "duration": 34,
    "start_time": "2022-01-25T08:30:42.952Z"
   },
   {
    "duration": 11,
    "start_time": "2022-01-25T08:30:42.987Z"
   },
   {
    "duration": 11,
    "start_time": "2022-01-25T08:30:42.999Z"
   },
   {
    "duration": 89,
    "start_time": "2022-01-25T08:30:43.012Z"
   },
   {
    "duration": 31,
    "start_time": "2022-01-25T08:30:43.103Z"
   },
   {
    "duration": 49,
    "start_time": "2022-01-25T08:30:43.136Z"
   },
   {
    "duration": 4,
    "start_time": "2022-01-25T08:30:43.187Z"
   },
   {
    "duration": 48,
    "start_time": "2022-01-25T08:30:43.193Z"
   },
   {
    "duration": 34,
    "start_time": "2022-01-25T08:30:43.242Z"
   },
   {
    "duration": 17,
    "start_time": "2022-01-25T08:30:43.277Z"
   },
   {
    "duration": 4,
    "start_time": "2022-01-25T08:30:43.296Z"
   },
   {
    "duration": 23,
    "start_time": "2022-01-25T08:30:43.301Z"
   },
   {
    "duration": 51,
    "start_time": "2022-01-25T08:30:43.326Z"
   },
   {
    "duration": 3,
    "start_time": "2022-01-25T08:30:43.378Z"
   },
   {
    "duration": 7,
    "start_time": "2022-01-25T08:30:43.385Z"
   },
   {
    "duration": 9,
    "start_time": "2022-01-25T08:30:43.394Z"
   },
   {
    "duration": 9,
    "start_time": "2022-01-25T08:30:43.405Z"
   },
   {
    "duration": 61,
    "start_time": "2022-01-25T08:30:43.416Z"
   },
   {
    "duration": 5,
    "start_time": "2022-01-25T08:30:43.479Z"
   },
   {
    "duration": 10,
    "start_time": "2022-01-25T08:30:43.486Z"
   },
   {
    "duration": 5,
    "start_time": "2022-01-25T08:30:43.498Z"
   },
   {
    "duration": 344,
    "start_time": "2022-01-25T08:30:43.505Z"
   },
   {
    "duration": 14,
    "start_time": "2022-01-25T08:30:43.851Z"
   },
   {
    "duration": 33,
    "start_time": "2022-01-25T08:30:43.867Z"
   },
   {
    "duration": 29,
    "start_time": "2022-01-25T08:30:43.903Z"
   },
   {
    "duration": 11,
    "start_time": "2022-01-25T08:30:43.934Z"
   },
   {
    "duration": 33,
    "start_time": "2022-01-25T08:30:43.947Z"
   },
   {
    "duration": 702,
    "start_time": "2022-01-25T08:30:43.982Z"
   },
   {
    "duration": 38,
    "start_time": "2022-01-25T08:30:44.648Z"
   },
   {
    "duration": 15,
    "start_time": "2022-01-25T08:30:44.673Z"
   },
   {
    "duration": -8,
    "start_time": "2022-01-25T08:30:44.697Z"
   },
   {
    "duration": -37,
    "start_time": "2022-01-25T08:30:44.728Z"
   },
   {
    "duration": -53,
    "start_time": "2022-01-25T08:30:44.746Z"
   },
   {
    "duration": -72,
    "start_time": "2022-01-25T08:30:44.766Z"
   },
   {
    "duration": -92,
    "start_time": "2022-01-25T08:30:44.787Z"
   },
   {
    "duration": -102,
    "start_time": "2022-01-25T08:30:44.799Z"
   },
   {
    "duration": -128,
    "start_time": "2022-01-25T08:30:44.826Z"
   },
   {
    "duration": -146,
    "start_time": "2022-01-25T08:30:44.845Z"
   },
   {
    "duration": 9,
    "start_time": "2022-01-25T08:32:38.161Z"
   },
   {
    "duration": 40,
    "start_time": "2022-01-25T08:32:39.849Z"
   },
   {
    "duration": 5,
    "start_time": "2022-01-25T08:33:03.321Z"
   },
   {
    "duration": 496,
    "start_time": "2022-01-25T08:33:03.328Z"
   },
   {
    "duration": 5,
    "start_time": "2022-01-25T08:33:03.826Z"
   },
   {
    "duration": 251,
    "start_time": "2022-01-25T08:33:03.833Z"
   },
   {
    "duration": 160,
    "start_time": "2022-01-25T08:33:04.086Z"
   },
   {
    "duration": 14,
    "start_time": "2022-01-25T08:33:04.248Z"
   },
   {
    "duration": 30,
    "start_time": "2022-01-25T08:33:04.264Z"
   },
   {
    "duration": 147,
    "start_time": "2022-01-25T08:33:04.295Z"
   },
   {
    "duration": 49,
    "start_time": "2022-01-25T08:33:04.445Z"
   },
   {
    "duration": 29,
    "start_time": "2022-01-25T08:33:04.497Z"
   },
   {
    "duration": 37,
    "start_time": "2022-01-25T08:33:04.528Z"
   },
   {
    "duration": 33,
    "start_time": "2022-01-25T08:33:04.566Z"
   },
   {
    "duration": 73,
    "start_time": "2022-01-25T08:33:04.601Z"
   },
   {
    "duration": 37,
    "start_time": "2022-01-25T08:33:04.675Z"
   },
   {
    "duration": 55,
    "start_time": "2022-01-25T08:33:04.713Z"
   },
   {
    "duration": 5,
    "start_time": "2022-01-25T08:33:04.770Z"
   },
   {
    "duration": 69,
    "start_time": "2022-01-25T08:33:04.776Z"
   },
   {
    "duration": 25,
    "start_time": "2022-01-25T08:33:04.847Z"
   },
   {
    "duration": 25,
    "start_time": "2022-01-25T08:33:04.874Z"
   },
   {
    "duration": 4,
    "start_time": "2022-01-25T08:33:04.901Z"
   },
   {
    "duration": 43,
    "start_time": "2022-01-25T08:33:04.907Z"
   },
   {
    "duration": 38,
    "start_time": "2022-01-25T08:33:04.951Z"
   },
   {
    "duration": 10,
    "start_time": "2022-01-25T08:33:04.991Z"
   },
   {
    "duration": 47,
    "start_time": "2022-01-25T08:33:05.005Z"
   },
   {
    "duration": 54,
    "start_time": "2022-01-25T08:33:05.054Z"
   },
   {
    "duration": 22,
    "start_time": "2022-01-25T08:33:05.110Z"
   },
   {
    "duration": 56,
    "start_time": "2022-01-25T08:33:05.134Z"
   },
   {
    "duration": 18,
    "start_time": "2022-01-25T08:33:05.191Z"
   },
   {
    "duration": 43,
    "start_time": "2022-01-25T08:33:05.211Z"
   },
   {
    "duration": 50,
    "start_time": "2022-01-25T08:33:05.256Z"
   },
   {
    "duration": 352,
    "start_time": "2022-01-25T08:33:05.308Z"
   },
   {
    "duration": 8,
    "start_time": "2022-01-25T08:33:05.662Z"
   },
   {
    "duration": 24,
    "start_time": "2022-01-25T08:33:05.671Z"
   },
   {
    "duration": 47,
    "start_time": "2022-01-25T08:33:05.697Z"
   },
   {
    "duration": 24,
    "start_time": "2022-01-25T08:33:05.746Z"
   },
   {
    "duration": 45,
    "start_time": "2022-01-25T08:33:05.772Z"
   },
   {
    "duration": 317,
    "start_time": "2022-01-25T08:33:05.819Z"
   },
   {
    "duration": 277,
    "start_time": "2022-01-25T08:33:06.138Z"
   },
   {
    "duration": 258,
    "start_time": "2022-01-25T08:33:06.416Z"
   },
   {
    "duration": 266,
    "start_time": "2022-01-25T08:33:06.676Z"
   },
   {
    "duration": 20,
    "start_time": "2022-01-25T08:33:06.944Z"
   },
   {
    "duration": 79,
    "start_time": "2022-01-25T08:33:06.966Z"
   },
   {
    "duration": 303,
    "start_time": "2022-01-25T08:33:07.047Z"
   },
   {
    "duration": 12,
    "start_time": "2022-01-25T08:33:07.352Z"
   },
   {
    "duration": 30,
    "start_time": "2022-01-25T08:33:07.366Z"
   },
   {
    "duration": 43,
    "start_time": "2022-01-25T08:33:07.398Z"
   },
   {
    "duration": 357,
    "start_time": "2022-01-25T08:33:07.443Z"
   },
   {
    "duration": 4,
    "start_time": "2022-01-25T08:33:31.100Z"
   },
   {
    "duration": 6,
    "start_time": "2022-01-25T08:33:32.002Z"
   },
   {
    "duration": 11,
    "start_time": "2022-01-25T08:34:18.778Z"
   },
   {
    "duration": 52,
    "start_time": "2022-01-25T08:34:19.523Z"
   },
   {
    "duration": 3,
    "start_time": "2022-01-25T08:34:24.088Z"
   },
   {
    "duration": 435,
    "start_time": "2022-01-25T08:34:24.093Z"
   },
   {
    "duration": 4,
    "start_time": "2022-01-25T08:34:24.530Z"
   },
   {
    "duration": 246,
    "start_time": "2022-01-25T08:34:24.536Z"
   },
   {
    "duration": 155,
    "start_time": "2022-01-25T08:34:24.784Z"
   },
   {
    "duration": 5,
    "start_time": "2022-01-25T08:34:24.941Z"
   },
   {
    "duration": 43,
    "start_time": "2022-01-25T08:34:24.960Z"
   },
   {
    "duration": 133,
    "start_time": "2022-01-25T08:34:25.005Z"
   },
   {
    "duration": 42,
    "start_time": "2022-01-25T08:34:25.141Z"
   },
   {
    "duration": 35,
    "start_time": "2022-01-25T08:34:25.185Z"
   },
   {
    "duration": 18,
    "start_time": "2022-01-25T08:34:25.222Z"
   },
   {
    "duration": 43,
    "start_time": "2022-01-25T08:34:25.241Z"
   },
   {
    "duration": 62,
    "start_time": "2022-01-25T08:34:25.286Z"
   },
   {
    "duration": 34,
    "start_time": "2022-01-25T08:34:25.350Z"
   },
   {
    "duration": 40,
    "start_time": "2022-01-25T08:34:25.385Z"
   },
   {
    "duration": 6,
    "start_time": "2022-01-25T08:34:25.426Z"
   },
   {
    "duration": 68,
    "start_time": "2022-01-25T08:34:25.434Z"
   },
   {
    "duration": 27,
    "start_time": "2022-01-25T08:34:25.504Z"
   },
   {
    "duration": 43,
    "start_time": "2022-01-25T08:34:25.533Z"
   },
   {
    "duration": 16,
    "start_time": "2022-01-25T08:34:25.578Z"
   },
   {
    "duration": 38,
    "start_time": "2022-01-25T08:34:25.596Z"
   },
   {
    "duration": 34,
    "start_time": "2022-01-25T08:34:25.637Z"
   },
   {
    "duration": 11,
    "start_time": "2022-01-25T08:34:25.673Z"
   },
   {
    "duration": 28,
    "start_time": "2022-01-25T08:34:25.686Z"
   },
   {
    "duration": 37,
    "start_time": "2022-01-25T08:34:25.716Z"
   },
   {
    "duration": 42,
    "start_time": "2022-01-25T08:34:25.755Z"
   },
   {
    "duration": 40,
    "start_time": "2022-01-25T08:34:25.802Z"
   },
   {
    "duration": 12,
    "start_time": "2022-01-25T08:34:25.845Z"
   },
   {
    "duration": 47,
    "start_time": "2022-01-25T08:34:25.859Z"
   },
   {
    "duration": 37,
    "start_time": "2022-01-25T08:34:25.907Z"
   },
   {
    "duration": 349,
    "start_time": "2022-01-25T08:34:25.946Z"
   },
   {
    "duration": 9,
    "start_time": "2022-01-25T08:34:26.297Z"
   },
   {
    "duration": 27,
    "start_time": "2022-01-25T08:34:26.307Z"
   },
   {
    "duration": 29,
    "start_time": "2022-01-25T08:34:26.336Z"
   },
   {
    "duration": 6,
    "start_time": "2022-01-25T08:34:26.367Z"
   },
   {
    "duration": 34,
    "start_time": "2022-01-25T08:34:26.375Z"
   },
   {
    "duration": 409,
    "start_time": "2022-01-25T08:34:26.411Z"
   },
   {
    "duration": 298,
    "start_time": "2022-01-25T08:34:26.822Z"
   },
   {
    "duration": 261,
    "start_time": "2022-01-25T08:34:27.122Z"
   },
   {
    "duration": 257,
    "start_time": "2022-01-25T08:34:27.385Z"
   },
   {
    "duration": 16,
    "start_time": "2022-01-25T08:34:27.644Z"
   },
   {
    "duration": 38,
    "start_time": "2022-01-25T08:34:27.662Z"
   },
   {
    "duration": 305,
    "start_time": "2022-01-25T08:34:27.702Z"
   },
   {
    "duration": 9,
    "start_time": "2022-01-25T08:34:28.009Z"
   },
   {
    "duration": 39,
    "start_time": "2022-01-25T08:34:28.020Z"
   },
   {
    "duration": 37,
    "start_time": "2022-01-25T08:34:28.061Z"
   },
   {
    "duration": 281,
    "start_time": "2022-01-25T08:34:28.100Z"
   },
   {
    "duration": 3,
    "start_time": "2022-01-25T08:37:52.918Z"
   },
   {
    "duration": 419,
    "start_time": "2022-01-25T08:37:52.927Z"
   },
   {
    "duration": 4,
    "start_time": "2022-01-25T08:37:53.348Z"
   },
   {
    "duration": 236,
    "start_time": "2022-01-25T08:37:53.353Z"
   },
   {
    "duration": 173,
    "start_time": "2022-01-25T08:37:53.591Z"
   },
   {
    "duration": 7,
    "start_time": "2022-01-25T08:37:53.766Z"
   },
   {
    "duration": 9,
    "start_time": "2022-01-25T08:37:53.774Z"
   },
   {
    "duration": 124,
    "start_time": "2022-01-25T08:37:53.785Z"
   },
   {
    "duration": 50,
    "start_time": "2022-01-25T08:37:53.912Z"
   },
   {
    "duration": 29,
    "start_time": "2022-01-25T08:37:53.965Z"
   },
   {
    "duration": 12,
    "start_time": "2022-01-25T08:37:53.996Z"
   },
   {
    "duration": 10,
    "start_time": "2022-01-25T08:37:54.010Z"
   },
   {
    "duration": 83,
    "start_time": "2022-01-25T08:37:54.021Z"
   },
   {
    "duration": 31,
    "start_time": "2022-01-25T08:37:54.106Z"
   },
   {
    "duration": 44,
    "start_time": "2022-01-25T08:37:54.139Z"
   },
   {
    "duration": 4,
    "start_time": "2022-01-25T08:37:54.185Z"
   },
   {
    "duration": 49,
    "start_time": "2022-01-25T08:37:54.191Z"
   },
   {
    "duration": 41,
    "start_time": "2022-01-25T08:37:54.242Z"
   },
   {
    "duration": 18,
    "start_time": "2022-01-25T08:37:54.284Z"
   },
   {
    "duration": 4,
    "start_time": "2022-01-25T08:37:54.304Z"
   },
   {
    "duration": 31,
    "start_time": "2022-01-25T08:37:54.310Z"
   },
   {
    "duration": 35,
    "start_time": "2022-01-25T08:37:54.343Z"
   },
   {
    "duration": 3,
    "start_time": "2022-01-25T08:37:54.380Z"
   },
   {
    "duration": 5,
    "start_time": "2022-01-25T08:37:54.386Z"
   },
   {
    "duration": 6,
    "start_time": "2022-01-25T08:37:54.393Z"
   },
   {
    "duration": 9,
    "start_time": "2022-01-25T08:37:54.401Z"
   },
   {
    "duration": 50,
    "start_time": "2022-01-25T08:37:54.412Z"
   },
   {
    "duration": 4,
    "start_time": "2022-01-25T08:37:54.464Z"
   },
   {
    "duration": 6,
    "start_time": "2022-01-25T08:37:54.470Z"
   },
   {
    "duration": 7,
    "start_time": "2022-01-25T08:37:54.478Z"
   },
   {
    "duration": 358,
    "start_time": "2022-01-25T08:37:54.487Z"
   },
   {
    "duration": 16,
    "start_time": "2022-01-25T08:37:54.846Z"
   },
   {
    "duration": 18,
    "start_time": "2022-01-25T08:37:54.864Z"
   },
   {
    "duration": 10,
    "start_time": "2022-01-25T08:37:54.884Z"
   },
   {
    "duration": 4,
    "start_time": "2022-01-25T08:37:54.896Z"
   },
   {
    "duration": 8,
    "start_time": "2022-01-25T08:37:54.902Z"
   },
   {
    "duration": 309,
    "start_time": "2022-01-25T08:37:54.912Z"
   },
   {
    "duration": 287,
    "start_time": "2022-01-25T08:37:55.222Z"
   },
   {
    "duration": 261,
    "start_time": "2022-01-25T08:37:55.510Z"
   },
   {
    "duration": 364,
    "start_time": "2022-01-25T08:37:55.772Z"
   },
   {
    "duration": 7,
    "start_time": "2022-01-25T08:37:56.138Z"
   },
   {
    "duration": 19,
    "start_time": "2022-01-25T08:37:56.147Z"
   },
   {
    "duration": 292,
    "start_time": "2022-01-25T08:37:56.168Z"
   },
   {
    "duration": 8,
    "start_time": "2022-01-25T08:37:56.462Z"
   },
   {
    "duration": 7,
    "start_time": "2022-01-25T08:37:56.471Z"
   },
   {
    "duration": 7,
    "start_time": "2022-01-25T08:37:56.480Z"
   },
   {
    "duration": 322,
    "start_time": "2022-01-25T08:37:56.488Z"
   },
   {
    "duration": 3,
    "start_time": "2022-01-25T08:38:46.667Z"
   },
   {
    "duration": 567,
    "start_time": "2022-01-25T08:38:46.675Z"
   },
   {
    "duration": 5,
    "start_time": "2022-01-25T08:38:47.244Z"
   },
   {
    "duration": 272,
    "start_time": "2022-01-25T08:38:47.251Z"
   },
   {
    "duration": 162,
    "start_time": "2022-01-25T08:38:47.525Z"
   },
   {
    "duration": 6,
    "start_time": "2022-01-25T08:38:47.689Z"
   },
   {
    "duration": 11,
    "start_time": "2022-01-25T08:38:47.696Z"
   },
   {
    "duration": 127,
    "start_time": "2022-01-25T08:38:47.709Z"
   },
   {
    "duration": 51,
    "start_time": "2022-01-25T08:38:47.839Z"
   },
   {
    "duration": 34,
    "start_time": "2022-01-25T08:38:47.893Z"
   },
   {
    "duration": 37,
    "start_time": "2022-01-25T08:38:47.929Z"
   },
   {
    "duration": 33,
    "start_time": "2022-01-25T08:38:47.968Z"
   },
   {
    "duration": 57,
    "start_time": "2022-01-25T08:38:48.003Z"
   },
   {
    "duration": 32,
    "start_time": "2022-01-25T08:38:48.062Z"
   },
   {
    "duration": 40,
    "start_time": "2022-01-25T08:38:48.096Z"
   },
   {
    "duration": 24,
    "start_time": "2022-01-25T08:38:48.137Z"
   },
   {
    "duration": 48,
    "start_time": "2022-01-25T08:38:48.163Z"
   },
   {
    "duration": 24,
    "start_time": "2022-01-25T08:38:48.213Z"
   },
   {
    "duration": 38,
    "start_time": "2022-01-25T08:38:48.239Z"
   },
   {
    "duration": 5,
    "start_time": "2022-01-25T08:38:48.280Z"
   },
   {
    "duration": 28,
    "start_time": "2022-01-25T08:38:48.287Z"
   },
   {
    "duration": 373,
    "start_time": "2022-01-25T08:38:48.317Z"
   },
   {
    "duration": -126,
    "start_time": "2022-01-25T08:38:48.819Z"
   },
   {
    "duration": -174,
    "start_time": "2022-01-25T08:38:48.869Z"
   },
   {
    "duration": -191,
    "start_time": "2022-01-25T08:38:48.887Z"
   },
   {
    "duration": -204,
    "start_time": "2022-01-25T08:38:48.901Z"
   },
   {
    "duration": -218,
    "start_time": "2022-01-25T08:38:48.917Z"
   },
   {
    "duration": -235,
    "start_time": "2022-01-25T08:38:48.935Z"
   },
   {
    "duration": -284,
    "start_time": "2022-01-25T08:38:48.985Z"
   },
   {
    "duration": -299,
    "start_time": "2022-01-25T08:38:49.002Z"
   },
   {
    "duration": -377,
    "start_time": "2022-01-25T08:38:49.081Z"
   },
   {
    "duration": -450,
    "start_time": "2022-01-25T08:38:49.155Z"
   },
   {
    "duration": -463,
    "start_time": "2022-01-25T08:38:49.169Z"
   },
   {
    "duration": -498,
    "start_time": "2022-01-25T08:38:49.205Z"
   },
   {
    "duration": -520,
    "start_time": "2022-01-25T08:38:49.228Z"
   },
   {
    "duration": -594,
    "start_time": "2022-01-25T08:38:49.303Z"
   },
   {
    "duration": -603,
    "start_time": "2022-01-25T08:38:49.314Z"
   },
   {
    "duration": -628,
    "start_time": "2022-01-25T08:38:49.340Z"
   },
   {
    "duration": -639,
    "start_time": "2022-01-25T08:38:49.352Z"
   },
   {
    "duration": -649,
    "start_time": "2022-01-25T08:38:49.363Z"
   },
   {
    "duration": -659,
    "start_time": "2022-01-25T08:38:49.374Z"
   },
   {
    "duration": -671,
    "start_time": "2022-01-25T08:38:49.387Z"
   },
   {
    "duration": -685,
    "start_time": "2022-01-25T08:38:49.402Z"
   },
   {
    "duration": -717,
    "start_time": "2022-01-25T08:38:49.436Z"
   },
   {
    "duration": -744,
    "start_time": "2022-01-25T08:38:49.464Z"
   },
   {
    "duration": -791,
    "start_time": "2022-01-25T08:38:49.512Z"
   },
   {
    "duration": -832,
    "start_time": "2022-01-25T08:38:49.554Z"
   },
   {
    "duration": 26,
    "start_time": "2022-01-25T08:39:04.884Z"
   },
   {
    "duration": 4,
    "start_time": "2022-01-25T08:39:11.060Z"
   },
   {
    "duration": 440,
    "start_time": "2022-01-25T08:39:11.067Z"
   },
   {
    "duration": 4,
    "start_time": "2022-01-25T08:39:11.509Z"
   },
   {
    "duration": 261,
    "start_time": "2022-01-25T08:39:11.516Z"
   },
   {
    "duration": 156,
    "start_time": "2022-01-25T08:39:11.780Z"
   },
   {
    "duration": 7,
    "start_time": "2022-01-25T08:39:11.938Z"
   },
   {
    "duration": 30,
    "start_time": "2022-01-25T08:39:11.961Z"
   },
   {
    "duration": 126,
    "start_time": "2022-01-25T08:39:11.993Z"
   },
   {
    "duration": 52,
    "start_time": "2022-01-25T08:39:12.123Z"
   },
   {
    "duration": 60,
    "start_time": "2022-01-25T08:39:12.177Z"
   },
   {
    "duration": 15,
    "start_time": "2022-01-25T08:39:12.239Z"
   },
   {
    "duration": 35,
    "start_time": "2022-01-25T08:39:12.255Z"
   },
   {
    "duration": 108,
    "start_time": "2022-01-25T08:39:12.292Z"
   },
   {
    "duration": 30,
    "start_time": "2022-01-25T08:39:12.402Z"
   },
   {
    "duration": 50,
    "start_time": "2022-01-25T08:39:12.434Z"
   },
   {
    "duration": 4,
    "start_time": "2022-01-25T08:39:12.485Z"
   },
   {
    "duration": 117,
    "start_time": "2022-01-25T08:39:12.491Z"
   },
   {
    "duration": 24,
    "start_time": "2022-01-25T08:39:12.610Z"
   },
   {
    "duration": 35,
    "start_time": "2022-01-25T08:39:12.636Z"
   },
   {
    "duration": 17,
    "start_time": "2022-01-25T08:39:12.673Z"
   },
   {
    "duration": 51,
    "start_time": "2022-01-25T08:39:12.692Z"
   },
   {
    "duration": 33,
    "start_time": "2022-01-25T08:39:12.745Z"
   },
   {
    "duration": 23,
    "start_time": "2022-01-25T08:39:12.780Z"
   },
   {
    "duration": 43,
    "start_time": "2022-01-25T08:39:12.807Z"
   },
   {
    "duration": 40,
    "start_time": "2022-01-25T08:39:12.852Z"
   },
   {
    "duration": 35,
    "start_time": "2022-01-25T08:39:12.894Z"
   },
   {
    "duration": 43,
    "start_time": "2022-01-25T08:39:12.930Z"
   },
   {
    "duration": 21,
    "start_time": "2022-01-25T08:39:12.975Z"
   },
   {
    "duration": 46,
    "start_time": "2022-01-25T08:39:12.998Z"
   },
   {
    "duration": 32,
    "start_time": "2022-01-25T08:39:13.045Z"
   },
   {
    "duration": 354,
    "start_time": "2022-01-25T08:39:13.079Z"
   },
   {
    "duration": 8,
    "start_time": "2022-01-25T08:39:13.435Z"
   },
   {
    "duration": 45,
    "start_time": "2022-01-25T08:39:13.444Z"
   },
   {
    "duration": 45,
    "start_time": "2022-01-25T08:39:13.491Z"
   },
   {
    "duration": 37,
    "start_time": "2022-01-25T08:39:13.538Z"
   },
   {
    "duration": 46,
    "start_time": "2022-01-25T08:39:13.577Z"
   },
   {
    "duration": 289,
    "start_time": "2022-01-25T08:39:13.625Z"
   },
   {
    "duration": 299,
    "start_time": "2022-01-25T08:39:13.916Z"
   },
   {
    "duration": 266,
    "start_time": "2022-01-25T08:39:14.217Z"
   },
   {
    "duration": 287,
    "start_time": "2022-01-25T08:39:14.485Z"
   },
   {
    "duration": 7,
    "start_time": "2022-01-25T08:39:14.774Z"
   },
   {
    "duration": 42,
    "start_time": "2022-01-25T08:39:14.782Z"
   },
   {
    "duration": 453,
    "start_time": "2022-01-25T08:39:14.825Z"
   },
   {
    "duration": 8,
    "start_time": "2022-01-25T08:39:15.280Z"
   },
   {
    "duration": 71,
    "start_time": "2022-01-25T08:39:15.290Z"
   },
   {
    "duration": 6,
    "start_time": "2022-01-25T08:39:15.363Z"
   },
   {
    "duration": 428,
    "start_time": "2022-01-25T08:39:15.371Z"
   },
   {
    "duration": 4,
    "start_time": "2022-01-25T08:44:45.293Z"
   },
   {
    "duration": 414,
    "start_time": "2022-01-25T08:44:45.298Z"
   },
   {
    "duration": 9,
    "start_time": "2022-01-25T08:44:45.714Z"
   },
   {
    "duration": 11,
    "start_time": "2022-01-25T08:44:45.725Z"
   },
   {
    "duration": 225,
    "start_time": "2022-01-25T08:44:45.737Z"
   },
   {
    "duration": 155,
    "start_time": "2022-01-25T08:44:45.964Z"
   },
   {
    "duration": 5,
    "start_time": "2022-01-25T08:44:46.122Z"
   },
   {
    "duration": 31,
    "start_time": "2022-01-25T08:44:46.129Z"
   },
   {
    "duration": 109,
    "start_time": "2022-01-25T08:44:46.162Z"
   },
   {
    "duration": 34,
    "start_time": "2022-01-25T08:44:46.273Z"
   },
   {
    "duration": 34,
    "start_time": "2022-01-25T08:44:46.309Z"
   },
   {
    "duration": 11,
    "start_time": "2022-01-25T08:44:46.360Z"
   },
   {
    "duration": 38,
    "start_time": "2022-01-25T08:44:46.373Z"
   },
   {
    "duration": 77,
    "start_time": "2022-01-25T08:44:46.413Z"
   },
   {
    "duration": 31,
    "start_time": "2022-01-25T08:44:46.491Z"
   },
   {
    "duration": 44,
    "start_time": "2022-01-25T08:44:46.524Z"
   },
   {
    "duration": 4,
    "start_time": "2022-01-25T08:44:46.570Z"
   },
   {
    "duration": 76,
    "start_time": "2022-01-25T08:44:46.575Z"
   },
   {
    "duration": 30,
    "start_time": "2022-01-25T08:44:46.655Z"
   },
   {
    "duration": 20,
    "start_time": "2022-01-25T08:44:46.688Z"
   },
   {
    "duration": 28,
    "start_time": "2022-01-25T08:44:46.710Z"
   },
   {
    "duration": 40,
    "start_time": "2022-01-25T08:44:46.740Z"
   },
   {
    "duration": 28,
    "start_time": "2022-01-25T08:44:46.782Z"
   },
   {
    "duration": 3,
    "start_time": "2022-01-25T08:44:46.812Z"
   },
   {
    "duration": 19,
    "start_time": "2022-01-25T08:44:46.817Z"
   },
   {
    "duration": 21,
    "start_time": "2022-01-25T08:44:46.838Z"
   },
   {
    "duration": 31,
    "start_time": "2022-01-25T08:44:46.861Z"
   },
   {
    "duration": 60,
    "start_time": "2022-01-25T08:44:46.895Z"
   },
   {
    "duration": 4,
    "start_time": "2022-01-25T08:44:46.957Z"
   },
   {
    "duration": 27,
    "start_time": "2022-01-25T08:44:46.962Z"
   },
   {
    "duration": 23,
    "start_time": "2022-01-25T08:44:46.991Z"
   },
   {
    "duration": 345,
    "start_time": "2022-01-25T08:44:47.016Z"
   },
   {
    "duration": 8,
    "start_time": "2022-01-25T08:44:47.363Z"
   },
   {
    "duration": 28,
    "start_time": "2022-01-25T08:44:47.373Z"
   },
   {
    "duration": 34,
    "start_time": "2022-01-25T08:44:47.403Z"
   },
   {
    "duration": 10,
    "start_time": "2022-01-25T08:44:47.438Z"
   },
   {
    "duration": 43,
    "start_time": "2022-01-25T08:44:47.450Z"
   },
   {
    "duration": 301,
    "start_time": "2022-01-25T08:44:47.495Z"
   },
   {
    "duration": 269,
    "start_time": "2022-01-25T08:44:47.798Z"
   },
   {
    "duration": 254,
    "start_time": "2022-01-25T08:44:48.070Z"
   },
   {
    "duration": 256,
    "start_time": "2022-01-25T08:44:48.327Z"
   },
   {
    "duration": 8,
    "start_time": "2022-01-25T08:44:48.585Z"
   },
   {
    "duration": 14,
    "start_time": "2022-01-25T08:44:48.595Z"
   },
   {
    "duration": 295,
    "start_time": "2022-01-25T08:44:48.610Z"
   },
   {
    "duration": 8,
    "start_time": "2022-01-25T08:44:48.907Z"
   },
   {
    "duration": 14,
    "start_time": "2022-01-25T08:44:48.917Z"
   },
   {
    "duration": 8,
    "start_time": "2022-01-25T08:44:48.933Z"
   },
   {
    "duration": 296,
    "start_time": "2022-01-25T08:44:48.943Z"
   },
   {
    "duration": 3,
    "start_time": "2022-01-25T09:35:57.764Z"
   },
   {
    "duration": 411,
    "start_time": "2022-01-25T09:35:57.776Z"
   },
   {
    "duration": 8,
    "start_time": "2022-01-25T09:35:58.189Z"
   },
   {
    "duration": 26,
    "start_time": "2022-01-25T09:35:58.199Z"
   },
   {
    "duration": 236,
    "start_time": "2022-01-25T09:35:58.227Z"
   },
   {
    "duration": 154,
    "start_time": "2022-01-25T09:35:58.465Z"
   },
   {
    "duration": 5,
    "start_time": "2022-01-25T09:35:58.621Z"
   },
   {
    "duration": 18,
    "start_time": "2022-01-25T09:35:58.628Z"
   },
   {
    "duration": 139,
    "start_time": "2022-01-25T09:35:58.649Z"
   },
   {
    "duration": 36,
    "start_time": "2022-01-25T09:35:58.791Z"
   },
   {
    "duration": 45,
    "start_time": "2022-01-25T09:35:58.829Z"
   },
   {
    "duration": 9,
    "start_time": "2022-01-25T09:35:58.876Z"
   },
   {
    "duration": 41,
    "start_time": "2022-01-25T09:35:58.887Z"
   },
   {
    "duration": 57,
    "start_time": "2022-01-25T09:35:58.930Z"
   },
   {
    "duration": 32,
    "start_time": "2022-01-25T09:35:58.989Z"
   },
   {
    "duration": 47,
    "start_time": "2022-01-25T09:35:59.022Z"
   },
   {
    "duration": 5,
    "start_time": "2022-01-25T09:35:59.071Z"
   },
   {
    "duration": 78,
    "start_time": "2022-01-25T09:35:59.078Z"
   },
   {
    "duration": 26,
    "start_time": "2022-01-25T09:35:59.158Z"
   },
   {
    "duration": 22,
    "start_time": "2022-01-25T09:35:59.186Z"
   },
   {
    "duration": 8,
    "start_time": "2022-01-25T09:35:59.209Z"
   },
   {
    "duration": 43,
    "start_time": "2022-01-25T09:35:59.219Z"
   },
   {
    "duration": 24,
    "start_time": "2022-01-25T09:35:59.264Z"
   },
   {
    "duration": 2,
    "start_time": "2022-01-25T09:35:59.293Z"
   },
   {
    "duration": 24,
    "start_time": "2022-01-25T09:35:59.297Z"
   },
   {
    "duration": 30,
    "start_time": "2022-01-25T09:35:59.323Z"
   },
   {
    "duration": 21,
    "start_time": "2022-01-25T09:35:59.354Z"
   },
   {
    "duration": 39,
    "start_time": "2022-01-25T09:35:59.377Z"
   },
   {
    "duration": 4,
    "start_time": "2022-01-25T09:35:59.418Z"
   },
   {
    "duration": 30,
    "start_time": "2022-01-25T09:35:59.424Z"
   },
   {
    "duration": 29,
    "start_time": "2022-01-25T09:35:59.456Z"
   },
   {
    "duration": 345,
    "start_time": "2022-01-25T09:35:59.486Z"
   },
   {
    "duration": 8,
    "start_time": "2022-01-25T09:35:59.833Z"
   },
   {
    "duration": 29,
    "start_time": "2022-01-25T09:35:59.842Z"
   },
   {
    "duration": 26,
    "start_time": "2022-01-25T09:35:59.873Z"
   },
   {
    "duration": 8,
    "start_time": "2022-01-25T09:35:59.901Z"
   },
   {
    "duration": 14,
    "start_time": "2022-01-25T09:35:59.911Z"
   },
   {
    "duration": 284,
    "start_time": "2022-01-25T09:35:59.926Z"
   },
   {
    "duration": 387,
    "start_time": "2022-01-25T09:36:00.212Z"
   },
   {
    "duration": 270,
    "start_time": "2022-01-25T09:36:00.602Z"
   },
   {
    "duration": 255,
    "start_time": "2022-01-25T09:36:00.874Z"
   },
   {
    "duration": 6,
    "start_time": "2022-01-25T09:36:01.131Z"
   },
   {
    "duration": 53,
    "start_time": "2022-01-25T09:36:01.139Z"
   },
   {
    "duration": 336,
    "start_time": "2022-01-25T09:36:01.194Z"
   },
   {
    "duration": 8,
    "start_time": "2022-01-25T09:36:01.532Z"
   },
   {
    "duration": 42,
    "start_time": "2022-01-25T09:36:01.542Z"
   },
   {
    "duration": 31,
    "start_time": "2022-01-25T09:36:01.586Z"
   },
   {
    "duration": 317,
    "start_time": "2022-01-25T09:36:01.619Z"
   },
   {
    "duration": 9,
    "start_time": "2022-01-25T09:41:50.366Z"
   },
   {
    "duration": 4,
    "start_time": "2022-01-25T09:42:10.769Z"
   },
   {
    "duration": 432,
    "start_time": "2022-01-25T09:42:10.777Z"
   },
   {
    "duration": 4,
    "start_time": "2022-01-25T09:42:11.211Z"
   },
   {
    "duration": 269,
    "start_time": "2022-01-25T09:42:11.216Z"
   },
   {
    "duration": 173,
    "start_time": "2022-01-25T09:42:11.487Z"
   },
   {
    "duration": 6,
    "start_time": "2022-01-25T09:42:11.662Z"
   },
   {
    "duration": 37,
    "start_time": "2022-01-25T09:42:11.669Z"
   },
   {
    "duration": 152,
    "start_time": "2022-01-25T09:42:11.708Z"
   },
   {
    "duration": 35,
    "start_time": "2022-01-25T09:42:11.863Z"
   },
   {
    "duration": 129,
    "start_time": "2022-01-25T09:42:11.900Z"
   },
   {
    "duration": 31,
    "start_time": "2022-01-25T09:42:12.031Z"
   },
   {
    "duration": 25,
    "start_time": "2022-01-25T09:42:12.063Z"
   },
   {
    "duration": 31,
    "start_time": "2022-01-25T09:42:12.090Z"
   },
   {
    "duration": 69,
    "start_time": "2022-01-25T09:42:12.122Z"
   },
   {
    "duration": 31,
    "start_time": "2022-01-25T09:42:12.193Z"
   },
   {
    "duration": 48,
    "start_time": "2022-01-25T09:42:12.226Z"
   },
   {
    "duration": 4,
    "start_time": "2022-01-25T09:42:12.276Z"
   },
   {
    "duration": 65,
    "start_time": "2022-01-25T09:42:12.281Z"
   },
   {
    "duration": 29,
    "start_time": "2022-01-25T09:42:12.348Z"
   },
   {
    "duration": 18,
    "start_time": "2022-01-25T09:42:12.379Z"
   },
   {
    "duration": 28,
    "start_time": "2022-01-25T09:42:12.398Z"
   },
   {
    "duration": 52,
    "start_time": "2022-01-25T09:42:12.427Z"
   },
   {
    "duration": 31,
    "start_time": "2022-01-25T09:42:12.481Z"
   },
   {
    "duration": 18,
    "start_time": "2022-01-25T09:42:12.516Z"
   },
   {
    "duration": 37,
    "start_time": "2022-01-25T09:42:12.536Z"
   },
   {
    "duration": 34,
    "start_time": "2022-01-25T09:42:12.575Z"
   },
   {
    "duration": 32,
    "start_time": "2022-01-25T09:42:12.611Z"
   },
   {
    "duration": 39,
    "start_time": "2022-01-25T09:42:12.645Z"
   },
   {
    "duration": 23,
    "start_time": "2022-01-25T09:42:12.686Z"
   },
   {
    "duration": 36,
    "start_time": "2022-01-25T09:42:12.711Z"
   },
   {
    "duration": 31,
    "start_time": "2022-01-25T09:42:12.749Z"
   },
   {
    "duration": 344,
    "start_time": "2022-01-25T09:42:12.782Z"
   },
   {
    "duration": 8,
    "start_time": "2022-01-25T09:42:13.128Z"
   },
   {
    "duration": 29,
    "start_time": "2022-01-25T09:42:13.138Z"
   },
   {
    "duration": 31,
    "start_time": "2022-01-25T09:42:13.169Z"
   },
   {
    "duration": 17,
    "start_time": "2022-01-25T09:42:13.202Z"
   },
   {
    "duration": 44,
    "start_time": "2022-01-25T09:42:13.221Z"
   },
   {
    "duration": 299,
    "start_time": "2022-01-25T09:42:13.267Z"
   },
   {
    "duration": 278,
    "start_time": "2022-01-25T09:42:13.568Z"
   },
   {
    "duration": 248,
    "start_time": "2022-01-25T09:42:13.848Z"
   },
   {
    "duration": 275,
    "start_time": "2022-01-25T09:42:14.098Z"
   },
   {
    "duration": 7,
    "start_time": "2022-01-25T09:42:14.375Z"
   },
   {
    "duration": 38,
    "start_time": "2022-01-25T09:42:14.384Z"
   },
   {
    "duration": 398,
    "start_time": "2022-01-25T09:42:14.424Z"
   },
   {
    "duration": 7,
    "start_time": "2022-01-25T09:42:14.824Z"
   },
   {
    "duration": 18,
    "start_time": "2022-01-25T09:42:14.833Z"
   },
   {
    "duration": 13,
    "start_time": "2022-01-25T09:42:14.861Z"
   },
   {
    "duration": 296,
    "start_time": "2022-01-25T09:42:14.876Z"
   },
   {
    "duration": 10,
    "start_time": "2022-01-25T09:43:37.584Z"
   },
   {
    "duration": 24,
    "start_time": "2022-01-25T10:44:33.712Z"
   },
   {
    "duration": 24,
    "start_time": "2022-01-25T10:44:45.166Z"
   },
   {
    "duration": 10,
    "start_time": "2022-01-25T10:45:08.074Z"
   },
   {
    "duration": 24,
    "start_time": "2022-01-25T10:45:09.001Z"
   },
   {
    "duration": 5,
    "start_time": "2022-01-25T10:45:21.035Z"
   },
   {
    "duration": 5,
    "start_time": "2022-01-25T10:45:21.578Z"
   },
   {
    "duration": 3,
    "start_time": "2022-01-25T10:45:39.104Z"
   },
   {
    "duration": 416,
    "start_time": "2022-01-25T10:45:39.109Z"
   },
   {
    "duration": 4,
    "start_time": "2022-01-25T10:45:39.528Z"
   },
   {
    "duration": 251,
    "start_time": "2022-01-25T10:45:39.534Z"
   },
   {
    "duration": 163,
    "start_time": "2022-01-25T10:45:39.787Z"
   },
   {
    "duration": 7,
    "start_time": "2022-01-25T10:45:39.961Z"
   },
   {
    "duration": 14,
    "start_time": "2022-01-25T10:45:39.970Z"
   },
   {
    "duration": 136,
    "start_time": "2022-01-25T10:45:39.986Z"
   },
   {
    "duration": 49,
    "start_time": "2022-01-25T10:45:40.125Z"
   },
   {
    "duration": 29,
    "start_time": "2022-01-25T10:45:40.177Z"
   },
   {
    "duration": 12,
    "start_time": "2022-01-25T10:45:40.208Z"
   },
   {
    "duration": 42,
    "start_time": "2022-01-25T10:45:40.222Z"
   },
   {
    "duration": 22,
    "start_time": "2022-01-25T10:45:40.266Z"
   },
   {
    "duration": 51,
    "start_time": "2022-01-25T10:45:40.289Z"
   },
   {
    "duration": 44,
    "start_time": "2022-01-25T10:45:40.342Z"
   },
   {
    "duration": 39,
    "start_time": "2022-01-25T10:45:40.387Z"
   },
   {
    "duration": 4,
    "start_time": "2022-01-25T10:45:40.428Z"
   },
   {
    "duration": 64,
    "start_time": "2022-01-25T10:45:40.434Z"
   },
   {
    "duration": 25,
    "start_time": "2022-01-25T10:45:40.500Z"
   },
   {
    "duration": 34,
    "start_time": "2022-01-25T10:45:40.527Z"
   },
   {
    "duration": 4,
    "start_time": "2022-01-25T10:45:40.563Z"
   },
   {
    "duration": 30,
    "start_time": "2022-01-25T10:45:40.569Z"
   },
   {
    "duration": 24,
    "start_time": "2022-01-25T10:45:40.601Z"
   },
   {
    "duration": 3,
    "start_time": "2022-01-25T10:45:40.627Z"
   },
   {
    "duration": 11,
    "start_time": "2022-01-25T10:45:40.631Z"
   },
   {
    "duration": 26,
    "start_time": "2022-01-25T10:45:40.643Z"
   },
   {
    "duration": 12,
    "start_time": "2022-01-25T10:45:40.673Z"
   },
   {
    "duration": 28,
    "start_time": "2022-01-25T10:45:40.687Z"
   },
   {
    "duration": 3,
    "start_time": "2022-01-25T10:45:40.717Z"
   },
   {
    "duration": 7,
    "start_time": "2022-01-25T10:45:40.722Z"
   },
   {
    "duration": 31,
    "start_time": "2022-01-25T10:45:40.730Z"
   },
   {
    "duration": 381,
    "start_time": "2022-01-25T10:45:40.763Z"
   },
   {
    "duration": 15,
    "start_time": "2022-01-25T10:45:41.146Z"
   },
   {
    "duration": 29,
    "start_time": "2022-01-25T10:45:41.163Z"
   },
   {
    "duration": 31,
    "start_time": "2022-01-25T10:45:41.193Z"
   },
   {
    "duration": 38,
    "start_time": "2022-01-25T10:45:41.225Z"
   },
   {
    "duration": 38,
    "start_time": "2022-01-25T10:45:41.265Z"
   },
   {
    "duration": 774,
    "start_time": "2022-01-25T10:45:41.304Z"
   },
   {
    "duration": 30,
    "start_time": "2022-01-25T10:45:42.050Z"
   },
   {
    "duration": 16,
    "start_time": "2022-01-25T10:45:42.065Z"
   },
   {
    "duration": 1,
    "start_time": "2022-01-25T10:45:42.081Z"
   },
   {
    "duration": -26,
    "start_time": "2022-01-25T10:45:42.109Z"
   },
   {
    "duration": -66,
    "start_time": "2022-01-25T10:45:42.150Z"
   },
   {
    "duration": -119,
    "start_time": "2022-01-25T10:45:42.205Z"
   },
   {
    "duration": -149,
    "start_time": "2022-01-25T10:45:42.236Z"
   },
   {
    "duration": -188,
    "start_time": "2022-01-25T10:45:42.276Z"
   },
   {
    "duration": -218,
    "start_time": "2022-01-25T10:45:42.307Z"
   },
   {
    "duration": -255,
    "start_time": "2022-01-25T10:45:42.345Z"
   },
   {
    "duration": 20,
    "start_time": "2022-01-25T10:48:11.330Z"
   },
   {
    "duration": 27,
    "start_time": "2022-01-25T10:50:19.318Z"
   },
   {
    "duration": 4,
    "start_time": "2022-01-25T10:51:23.396Z"
   },
   {
    "duration": 402,
    "start_time": "2022-01-25T10:51:23.402Z"
   },
   {
    "duration": 4,
    "start_time": "2022-01-25T10:51:23.806Z"
   },
   {
    "duration": 220,
    "start_time": "2022-01-25T10:51:23.812Z"
   },
   {
    "duration": 163,
    "start_time": "2022-01-25T10:51:24.034Z"
   },
   {
    "duration": 7,
    "start_time": "2022-01-25T10:51:24.199Z"
   },
   {
    "duration": 28,
    "start_time": "2022-01-25T10:51:24.207Z"
   },
   {
    "duration": 111,
    "start_time": "2022-01-25T10:51:24.237Z"
   },
   {
    "duration": 37,
    "start_time": "2022-01-25T10:51:24.351Z"
   },
   {
    "duration": 27,
    "start_time": "2022-01-25T10:51:24.390Z"
   },
   {
    "duration": 12,
    "start_time": "2022-01-25T10:51:24.418Z"
   },
   {
    "duration": 34,
    "start_time": "2022-01-25T10:51:24.431Z"
   },
   {
    "duration": 22,
    "start_time": "2022-01-25T10:51:24.466Z"
   },
   {
    "duration": 53,
    "start_time": "2022-01-25T10:51:24.490Z"
   },
   {
    "duration": 41,
    "start_time": "2022-01-25T10:51:24.544Z"
   },
   {
    "duration": 38,
    "start_time": "2022-01-25T10:51:24.586Z"
   },
   {
    "duration": 4,
    "start_time": "2022-01-25T10:51:24.625Z"
   },
   {
    "duration": 61,
    "start_time": "2022-01-25T10:51:24.631Z"
   },
   {
    "duration": 26,
    "start_time": "2022-01-25T10:51:24.694Z"
   },
   {
    "duration": 19,
    "start_time": "2022-01-25T10:51:24.722Z"
   },
   {
    "duration": 21,
    "start_time": "2022-01-25T10:51:24.743Z"
   },
   {
    "duration": 25,
    "start_time": "2022-01-25T10:51:24.766Z"
   },
   {
    "duration": 23,
    "start_time": "2022-01-25T10:51:24.794Z"
   },
   {
    "duration": 3,
    "start_time": "2022-01-25T10:51:24.818Z"
   },
   {
    "duration": 7,
    "start_time": "2022-01-25T10:51:24.822Z"
   },
   {
    "duration": 32,
    "start_time": "2022-01-25T10:51:24.830Z"
   },
   {
    "duration": 9,
    "start_time": "2022-01-25T10:51:24.866Z"
   },
   {
    "duration": 23,
    "start_time": "2022-01-25T10:51:24.877Z"
   },
   {
    "duration": 28,
    "start_time": "2022-01-25T10:51:24.902Z"
   },
   {
    "duration": 31,
    "start_time": "2022-01-25T10:51:24.932Z"
   },
   {
    "duration": 8,
    "start_time": "2022-01-25T10:51:24.965Z"
   },
   {
    "duration": 10,
    "start_time": "2022-01-25T10:51:24.974Z"
   },
   {
    "duration": 377,
    "start_time": "2022-01-25T10:51:24.986Z"
   },
   {
    "duration": 8,
    "start_time": "2022-01-25T10:51:25.365Z"
   },
   {
    "duration": 23,
    "start_time": "2022-01-25T10:51:25.374Z"
   },
   {
    "duration": 26,
    "start_time": "2022-01-25T10:51:25.399Z"
   },
   {
    "duration": 18,
    "start_time": "2022-01-25T10:51:25.426Z"
   },
   {
    "duration": 10,
    "start_time": "2022-01-25T10:51:25.445Z"
   },
   {
    "duration": 644,
    "start_time": "2022-01-25T10:51:25.457Z"
   },
   {
    "duration": -27,
    "start_time": "2022-01-25T10:51:26.130Z"
   },
   {
    "duration": -45,
    "start_time": "2022-01-25T10:51:26.149Z"
   },
   {
    "duration": -71,
    "start_time": "2022-01-25T10:51:26.176Z"
   },
   {
    "duration": -88,
    "start_time": "2022-01-25T10:51:26.193Z"
   },
   {
    "duration": -126,
    "start_time": "2022-01-25T10:51:26.233Z"
   },
   {
    "duration": -155,
    "start_time": "2022-01-25T10:51:26.263Z"
   },
   {
    "duration": -199,
    "start_time": "2022-01-25T10:51:26.307Z"
   },
   {
    "duration": -238,
    "start_time": "2022-01-25T10:51:26.347Z"
   },
   {
    "duration": -262,
    "start_time": "2022-01-25T10:51:26.372Z"
   },
   {
    "duration": -294,
    "start_time": "2022-01-25T10:51:26.405Z"
   },
   {
    "duration": 3,
    "start_time": "2022-01-25T10:52:59.187Z"
   },
   {
    "duration": 437,
    "start_time": "2022-01-25T10:52:59.192Z"
   },
   {
    "duration": 5,
    "start_time": "2022-01-25T10:52:59.631Z"
   },
   {
    "duration": 279,
    "start_time": "2022-01-25T10:52:59.638Z"
   },
   {
    "duration": 186,
    "start_time": "2022-01-25T10:52:59.918Z"
   },
   {
    "duration": 6,
    "start_time": "2022-01-25T10:53:00.105Z"
   },
   {
    "duration": 43,
    "start_time": "2022-01-25T10:53:00.112Z"
   },
   {
    "duration": 133,
    "start_time": "2022-01-25T10:53:00.158Z"
   },
   {
    "duration": 37,
    "start_time": "2022-01-25T10:53:00.294Z"
   },
   {
    "duration": 46,
    "start_time": "2022-01-25T10:53:00.332Z"
   },
   {
    "duration": 12,
    "start_time": "2022-01-25T10:53:00.380Z"
   },
   {
    "duration": 42,
    "start_time": "2022-01-25T10:53:00.394Z"
   },
   {
    "duration": 42,
    "start_time": "2022-01-25T10:53:00.438Z"
   },
   {
    "duration": 59,
    "start_time": "2022-01-25T10:53:00.482Z"
   },
   {
    "duration": 34,
    "start_time": "2022-01-25T10:53:00.543Z"
   },
   {
    "duration": 39,
    "start_time": "2022-01-25T10:53:00.579Z"
   },
   {
    "duration": 40,
    "start_time": "2022-01-25T10:53:00.620Z"
   },
   {
    "duration": 72,
    "start_time": "2022-01-25T10:53:00.662Z"
   },
   {
    "duration": 26,
    "start_time": "2022-01-25T10:53:00.736Z"
   },
   {
    "duration": 22,
    "start_time": "2022-01-25T10:53:00.764Z"
   },
   {
    "duration": 15,
    "start_time": "2022-01-25T10:53:00.788Z"
   },
   {
    "duration": 77,
    "start_time": "2022-01-25T10:53:00.805Z"
   },
   {
    "duration": 37,
    "start_time": "2022-01-25T10:53:00.886Z"
   },
   {
    "duration": 21,
    "start_time": "2022-01-25T10:53:00.925Z"
   },
   {
    "duration": 36,
    "start_time": "2022-01-25T10:53:00.948Z"
   },
   {
    "duration": 64,
    "start_time": "2022-01-25T10:53:00.986Z"
   },
   {
    "duration": 37,
    "start_time": "2022-01-25T10:53:01.053Z"
   },
   {
    "duration": 58,
    "start_time": "2022-01-25T10:53:01.092Z"
   },
   {
    "duration": 55,
    "start_time": "2022-01-25T10:53:01.152Z"
   },
   {
    "duration": 38,
    "start_time": "2022-01-25T10:53:01.209Z"
   },
   {
    "duration": 71,
    "start_time": "2022-01-25T10:53:01.249Z"
   },
   {
    "duration": 37,
    "start_time": "2022-01-25T10:53:01.322Z"
   },
   {
    "duration": 36,
    "start_time": "2022-01-25T10:53:01.361Z"
   },
   {
    "duration": 394,
    "start_time": "2022-01-25T10:53:01.399Z"
   },
   {
    "duration": 8,
    "start_time": "2022-01-25T10:53:01.795Z"
   },
   {
    "duration": 33,
    "start_time": "2022-01-25T10:53:01.805Z"
   },
   {
    "duration": 10,
    "start_time": "2022-01-25T10:53:01.840Z"
   },
   {
    "duration": 24,
    "start_time": "2022-01-25T10:53:01.852Z"
   },
   {
    "duration": 31,
    "start_time": "2022-01-25T10:53:01.878Z"
   },
   {
    "duration": 859,
    "start_time": "2022-01-25T10:53:01.911Z"
   },
   {
    "duration": 85,
    "start_time": "2022-01-25T10:53:02.686Z"
   },
   {
    "duration": 67,
    "start_time": "2022-01-25T10:53:02.705Z"
   },
   {
    "duration": 34,
    "start_time": "2022-01-25T10:53:02.739Z"
   },
   {
    "duration": 2,
    "start_time": "2022-01-25T10:53:02.772Z"
   },
   {
    "duration": -22,
    "start_time": "2022-01-25T10:53:02.797Z"
   },
   {
    "duration": -50,
    "start_time": "2022-01-25T10:53:02.826Z"
   },
   {
    "duration": -79,
    "start_time": "2022-01-25T10:53:02.855Z"
   },
   {
    "duration": -116,
    "start_time": "2022-01-25T10:53:02.893Z"
   },
   {
    "duration": -137,
    "start_time": "2022-01-25T10:53:02.915Z"
   },
   {
    "duration": -179,
    "start_time": "2022-01-25T10:53:02.957Z"
   },
   {
    "duration": 3,
    "start_time": "2022-01-25T10:53:21.535Z"
   },
   {
    "duration": 453,
    "start_time": "2022-01-25T10:53:21.542Z"
   },
   {
    "duration": 4,
    "start_time": "2022-01-25T10:53:21.997Z"
   },
   {
    "duration": 239,
    "start_time": "2022-01-25T10:53:22.004Z"
   },
   {
    "duration": 148,
    "start_time": "2022-01-25T10:53:22.260Z"
   },
   {
    "duration": 6,
    "start_time": "2022-01-25T10:53:22.410Z"
   },
   {
    "duration": 8,
    "start_time": "2022-01-25T10:53:22.417Z"
   },
   {
    "duration": 135,
    "start_time": "2022-01-25T10:53:22.427Z"
   },
   {
    "duration": 39,
    "start_time": "2022-01-25T10:53:22.564Z"
   },
   {
    "duration": 58,
    "start_time": "2022-01-25T10:53:22.605Z"
   },
   {
    "duration": 12,
    "start_time": "2022-01-25T10:53:22.665Z"
   },
   {
    "duration": 37,
    "start_time": "2022-01-25T10:53:22.679Z"
   },
   {
    "duration": 14,
    "start_time": "2022-01-25T10:53:22.717Z"
   },
   {
    "duration": 51,
    "start_time": "2022-01-25T10:53:22.733Z"
   },
   {
    "duration": 32,
    "start_time": "2022-01-25T10:53:22.786Z"
   },
   {
    "duration": 56,
    "start_time": "2022-01-25T10:53:22.820Z"
   },
   {
    "duration": 5,
    "start_time": "2022-01-25T10:53:22.878Z"
   },
   {
    "duration": 54,
    "start_time": "2022-01-25T10:53:22.884Z"
   },
   {
    "duration": 35,
    "start_time": "2022-01-25T10:53:22.940Z"
   },
   {
    "duration": 20,
    "start_time": "2022-01-25T10:53:22.977Z"
   },
   {
    "duration": 5,
    "start_time": "2022-01-25T10:53:22.998Z"
   },
   {
    "duration": 24,
    "start_time": "2022-01-25T10:53:23.004Z"
   },
   {
    "duration": 49,
    "start_time": "2022-01-25T10:53:23.030Z"
   },
   {
    "duration": 3,
    "start_time": "2022-01-25T10:53:23.083Z"
   },
   {
    "duration": 52,
    "start_time": "2022-01-25T10:53:23.089Z"
   },
   {
    "duration": 18,
    "start_time": "2022-01-25T10:53:23.143Z"
   },
   {
    "duration": 17,
    "start_time": "2022-01-25T10:53:23.162Z"
   },
   {
    "duration": 23,
    "start_time": "2022-01-25T10:53:23.181Z"
   },
   {
    "duration": 29,
    "start_time": "2022-01-25T10:53:23.207Z"
   },
   {
    "duration": 36,
    "start_time": "2022-01-25T10:53:23.238Z"
   },
   {
    "duration": 6,
    "start_time": "2022-01-25T10:53:23.276Z"
   },
   {
    "duration": 7,
    "start_time": "2022-01-25T10:53:23.283Z"
   },
   {
    "duration": 6,
    "start_time": "2022-01-25T10:53:23.292Z"
   },
   {
    "duration": 393,
    "start_time": "2022-01-25T10:53:23.299Z"
   },
   {
    "duration": 8,
    "start_time": "2022-01-25T10:53:23.694Z"
   },
   {
    "duration": 16,
    "start_time": "2022-01-25T10:53:23.704Z"
   },
   {
    "duration": 10,
    "start_time": "2022-01-25T10:53:23.722Z"
   },
   {
    "duration": 28,
    "start_time": "2022-01-25T10:53:23.734Z"
   },
   {
    "duration": 12,
    "start_time": "2022-01-25T10:53:23.764Z"
   },
   {
    "duration": 690,
    "start_time": "2022-01-25T10:53:23.777Z"
   },
   {
    "duration": 51,
    "start_time": "2022-01-25T10:53:24.418Z"
   },
   {
    "duration": 32,
    "start_time": "2022-01-25T10:53:24.438Z"
   },
   {
    "duration": 4,
    "start_time": "2022-01-25T10:53:24.468Z"
   },
   {
    "duration": -13,
    "start_time": "2022-01-25T10:53:24.486Z"
   },
   {
    "duration": -53,
    "start_time": "2022-01-25T10:53:24.527Z"
   },
   {
    "duration": -70,
    "start_time": "2022-01-25T10:53:24.545Z"
   },
   {
    "duration": -127,
    "start_time": "2022-01-25T10:53:24.603Z"
   },
   {
    "duration": -150,
    "start_time": "2022-01-25T10:53:24.627Z"
   },
   {
    "duration": -188,
    "start_time": "2022-01-25T10:53:24.666Z"
   },
   {
    "duration": -221,
    "start_time": "2022-01-25T10:53:24.700Z"
   },
   {
    "duration": 1230,
    "start_time": "2022-01-25T10:53:48.594Z"
   },
   {
    "duration": 407,
    "start_time": "2022-01-25T10:53:49.826Z"
   },
   {
    "duration": 4,
    "start_time": "2022-01-25T10:53:50.235Z"
   },
   {
    "duration": 231,
    "start_time": "2022-01-25T10:53:50.241Z"
   },
   {
    "duration": 166,
    "start_time": "2022-01-25T10:53:50.474Z"
   },
   {
    "duration": 19,
    "start_time": "2022-01-25T10:53:50.642Z"
   },
   {
    "duration": 15,
    "start_time": "2022-01-25T10:53:50.663Z"
   },
   {
    "duration": 108,
    "start_time": "2022-01-25T10:53:50.681Z"
   },
   {
    "duration": 45,
    "start_time": "2022-01-25T10:53:50.791Z"
   },
   {
    "duration": 44,
    "start_time": "2022-01-25T10:53:50.838Z"
   },
   {
    "duration": 11,
    "start_time": "2022-01-25T10:53:50.883Z"
   },
   {
    "duration": 18,
    "start_time": "2022-01-25T10:53:50.896Z"
   },
   {
    "duration": 9,
    "start_time": "2022-01-25T10:53:50.916Z"
   },
   {
    "duration": 71,
    "start_time": "2022-01-25T10:53:50.927Z"
   },
   {
    "duration": 34,
    "start_time": "2022-01-25T10:53:51.000Z"
   },
   {
    "duration": 56,
    "start_time": "2022-01-25T10:53:51.036Z"
   },
   {
    "duration": 6,
    "start_time": "2022-01-25T10:53:51.094Z"
   },
   {
    "duration": 64,
    "start_time": "2022-01-25T10:53:51.102Z"
   },
   {
    "duration": 24,
    "start_time": "2022-01-25T10:53:51.168Z"
   },
   {
    "duration": 18,
    "start_time": "2022-01-25T10:53:51.194Z"
   },
   {
    "duration": 9,
    "start_time": "2022-01-25T10:53:51.214Z"
   },
   {
    "duration": 44,
    "start_time": "2022-01-25T10:53:51.225Z"
   },
   {
    "duration": 23,
    "start_time": "2022-01-25T10:53:51.275Z"
   },
   {
    "duration": 3,
    "start_time": "2022-01-25T10:53:51.301Z"
   },
   {
    "duration": 25,
    "start_time": "2022-01-25T10:53:51.306Z"
   },
   {
    "duration": 12,
    "start_time": "2022-01-25T10:53:51.333Z"
   },
   {
    "duration": 21,
    "start_time": "2022-01-25T10:53:51.347Z"
   },
   {
    "duration": 22,
    "start_time": "2022-01-25T10:53:51.369Z"
   },
   {
    "duration": 26,
    "start_time": "2022-01-25T10:53:51.393Z"
   },
   {
    "duration": 42,
    "start_time": "2022-01-25T10:53:51.420Z"
   },
   {
    "duration": 11,
    "start_time": "2022-01-25T10:53:51.464Z"
   },
   {
    "duration": 13,
    "start_time": "2022-01-25T10:53:51.477Z"
   },
   {
    "duration": 7,
    "start_time": "2022-01-25T10:53:51.492Z"
   },
   {
    "duration": 389,
    "start_time": "2022-01-25T10:53:51.501Z"
   },
   {
    "duration": 9,
    "start_time": "2022-01-25T10:53:51.892Z"
   },
   {
    "duration": 46,
    "start_time": "2022-01-25T10:53:51.903Z"
   },
   {
    "duration": 29,
    "start_time": "2022-01-25T10:53:51.951Z"
   },
   {
    "duration": 22,
    "start_time": "2022-01-25T10:53:51.982Z"
   },
   {
    "duration": 18,
    "start_time": "2022-01-25T10:53:52.006Z"
   },
   {
    "duration": 860,
    "start_time": "2022-01-25T10:53:52.026Z"
   },
   {
    "duration": 171,
    "start_time": "2022-01-25T10:53:52.717Z"
   },
   {
    "duration": 141,
    "start_time": "2022-01-25T10:53:52.748Z"
   },
   {
    "duration": 112,
    "start_time": "2022-01-25T10:53:52.778Z"
   },
   {
    "duration": 94,
    "start_time": "2022-01-25T10:53:52.798Z"
   },
   {
    "duration": 26,
    "start_time": "2022-01-25T10:53:52.867Z"
   },
   {
    "duration": 5,
    "start_time": "2022-01-25T10:53:52.889Z"
   },
   {
    "duration": -23,
    "start_time": "2022-01-25T10:53:52.918Z"
   },
   {
    "duration": -64,
    "start_time": "2022-01-25T10:53:52.960Z"
   },
   {
    "duration": -83,
    "start_time": "2022-01-25T10:53:52.980Z"
   },
   {
    "duration": -112,
    "start_time": "2022-01-25T10:53:53.010Z"
   },
   {
    "duration": 31,
    "start_time": "2022-01-25T11:07:31.072Z"
   },
   {
    "duration": 3,
    "start_time": "2022-01-25T11:08:55.479Z"
   },
   {
    "duration": 427,
    "start_time": "2022-01-25T11:08:55.484Z"
   },
   {
    "duration": 4,
    "start_time": "2022-01-25T11:08:55.913Z"
   },
   {
    "duration": 225,
    "start_time": "2022-01-25T11:08:55.918Z"
   },
   {
    "duration": 149,
    "start_time": "2022-01-25T11:08:56.145Z"
   },
   {
    "duration": 5,
    "start_time": "2022-01-25T11:08:56.296Z"
   },
   {
    "duration": 32,
    "start_time": "2022-01-25T11:08:56.303Z"
   },
   {
    "duration": 127,
    "start_time": "2022-01-25T11:08:56.337Z"
   },
   {
    "duration": 35,
    "start_time": "2022-01-25T11:08:56.467Z"
   },
   {
    "duration": 45,
    "start_time": "2022-01-25T11:08:56.504Z"
   },
   {
    "duration": 18,
    "start_time": "2022-01-25T11:08:56.551Z"
   },
   {
    "duration": 39,
    "start_time": "2022-01-25T11:08:56.570Z"
   },
   {
    "duration": 31,
    "start_time": "2022-01-25T11:08:56.611Z"
   },
   {
    "duration": 71,
    "start_time": "2022-01-25T11:08:56.644Z"
   },
   {
    "duration": 50,
    "start_time": "2022-01-25T11:08:56.718Z"
   },
   {
    "duration": 50,
    "start_time": "2022-01-25T11:08:56.771Z"
   },
   {
    "duration": 5,
    "start_time": "2022-01-25T11:08:56.823Z"
   },
   {
    "duration": 82,
    "start_time": "2022-01-25T11:08:56.830Z"
   },
   {
    "duration": 34,
    "start_time": "2022-01-25T11:08:56.914Z"
   },
   {
    "duration": 27,
    "start_time": "2022-01-25T11:08:56.961Z"
   },
   {
    "duration": 5,
    "start_time": "2022-01-25T11:08:56.991Z"
   },
   {
    "duration": 27,
    "start_time": "2022-01-25T11:08:56.998Z"
   },
   {
    "duration": 46,
    "start_time": "2022-01-25T11:08:57.026Z"
   },
   {
    "duration": 2,
    "start_time": "2022-01-25T11:08:57.074Z"
   },
   {
    "duration": 10,
    "start_time": "2022-01-25T11:08:57.078Z"
   },
   {
    "duration": 10,
    "start_time": "2022-01-25T11:08:57.090Z"
   },
   {
    "duration": 9,
    "start_time": "2022-01-25T11:08:57.103Z"
   },
   {
    "duration": 23,
    "start_time": "2022-01-25T11:08:57.114Z"
   },
   {
    "duration": 28,
    "start_time": "2022-01-25T11:08:57.160Z"
   },
   {
    "duration": 19,
    "start_time": "2022-01-25T11:08:57.189Z"
   },
   {
    "duration": 5,
    "start_time": "2022-01-25T11:08:57.210Z"
   },
   {
    "duration": 6,
    "start_time": "2022-01-25T11:08:57.217Z"
   },
   {
    "duration": 37,
    "start_time": "2022-01-25T11:08:57.225Z"
   },
   {
    "duration": 376,
    "start_time": "2022-01-25T11:08:57.264Z"
   },
   {
    "duration": 8,
    "start_time": "2022-01-25T11:08:57.642Z"
   },
   {
    "duration": 16,
    "start_time": "2022-01-25T11:08:57.661Z"
   },
   {
    "duration": 30,
    "start_time": "2022-01-25T11:08:57.679Z"
   },
   {
    "duration": 10,
    "start_time": "2022-01-25T11:08:57.711Z"
   },
   {
    "duration": 8,
    "start_time": "2022-01-25T11:08:57.723Z"
   },
   {
    "duration": 698,
    "start_time": "2022-01-25T11:08:57.733Z"
   },
   {
    "duration": 136,
    "start_time": "2022-01-25T11:08:58.297Z"
   },
   {
    "duration": 122,
    "start_time": "2022-01-25T11:08:58.312Z"
   },
   {
    "duration": 108,
    "start_time": "2022-01-25T11:08:58.327Z"
   },
   {
    "duration": 85,
    "start_time": "2022-01-25T11:08:58.351Z"
   },
   {
    "duration": 72,
    "start_time": "2022-01-25T11:08:58.365Z"
   },
   {
    "duration": 45,
    "start_time": "2022-01-25T11:08:58.393Z"
   },
   {
    "duration": 27,
    "start_time": "2022-01-25T11:08:58.412Z"
   },
   {
    "duration": 2,
    "start_time": "2022-01-25T11:08:58.438Z"
   },
   {
    "duration": -18,
    "start_time": "2022-01-25T11:08:58.459Z"
   },
   {
    "duration": -60,
    "start_time": "2022-01-25T11:08:58.502Z"
   },
   {
    "duration": 40,
    "start_time": "2022-01-25T11:13:55.468Z"
   },
   {
    "duration": 41,
    "start_time": "2022-01-25T11:14:26.619Z"
   },
   {
    "duration": 3,
    "start_time": "2022-01-25T11:14:34.498Z"
   },
   {
    "duration": 407,
    "start_time": "2022-01-25T11:14:34.507Z"
   },
   {
    "duration": 4,
    "start_time": "2022-01-25T11:14:34.916Z"
   },
   {
    "duration": 224,
    "start_time": "2022-01-25T11:14:34.922Z"
   },
   {
    "duration": 141,
    "start_time": "2022-01-25T11:14:35.160Z"
   },
   {
    "duration": 5,
    "start_time": "2022-01-25T11:14:35.303Z"
   },
   {
    "duration": 37,
    "start_time": "2022-01-25T11:14:35.310Z"
   },
   {
    "duration": 124,
    "start_time": "2022-01-25T11:14:35.349Z"
   },
   {
    "duration": 35,
    "start_time": "2022-01-25T11:14:35.476Z"
   },
   {
    "duration": 78,
    "start_time": "2022-01-25T11:14:35.513Z"
   },
   {
    "duration": 15,
    "start_time": "2022-01-25T11:14:35.593Z"
   },
   {
    "duration": 25,
    "start_time": "2022-01-25T11:14:35.610Z"
   },
   {
    "duration": 51,
    "start_time": "2022-01-25T11:14:35.637Z"
   },
   {
    "duration": 1706,
    "start_time": "2022-01-25T11:14:35.689Z"
   },
   {
    "duration": -110,
    "start_time": "2022-01-25T11:14:37.508Z"
   },
   {
    "duration": -125,
    "start_time": "2022-01-25T11:14:37.524Z"
   },
   {
    "duration": -141,
    "start_time": "2022-01-25T11:14:37.542Z"
   },
   {
    "duration": -171,
    "start_time": "2022-01-25T11:14:37.573Z"
   },
   {
    "duration": -194,
    "start_time": "2022-01-25T11:14:37.598Z"
   },
   {
    "duration": -226,
    "start_time": "2022-01-25T11:14:37.631Z"
   },
   {
    "duration": -256,
    "start_time": "2022-01-25T11:14:37.663Z"
   },
   {
    "duration": -286,
    "start_time": "2022-01-25T11:14:37.694Z"
   },
   {
    "duration": -299,
    "start_time": "2022-01-25T11:14:37.709Z"
   },
   {
    "duration": -323,
    "start_time": "2022-01-25T11:14:37.734Z"
   },
   {
    "duration": -348,
    "start_time": "2022-01-25T11:14:37.761Z"
   },
   {
    "duration": -375,
    "start_time": "2022-01-25T11:14:37.789Z"
   },
   {
    "duration": -406,
    "start_time": "2022-01-25T11:14:37.822Z"
   },
   {
    "duration": -442,
    "start_time": "2022-01-25T11:14:37.859Z"
   },
   {
    "duration": -490,
    "start_time": "2022-01-25T11:14:37.909Z"
   },
   {
    "duration": -535,
    "start_time": "2022-01-25T11:14:37.955Z"
   },
   {
    "duration": -575,
    "start_time": "2022-01-25T11:14:37.996Z"
   },
   {
    "duration": -598,
    "start_time": "2022-01-25T11:14:38.020Z"
   },
   {
    "duration": -629,
    "start_time": "2022-01-25T11:14:38.052Z"
   },
   {
    "duration": -679,
    "start_time": "2022-01-25T11:14:38.103Z"
   },
   {
    "duration": -698,
    "start_time": "2022-01-25T11:14:38.123Z"
   },
   {
    "duration": -729,
    "start_time": "2022-01-25T11:14:38.155Z"
   },
   {
    "duration": -763,
    "start_time": "2022-01-25T11:14:38.189Z"
   },
   {
    "duration": -808,
    "start_time": "2022-01-25T11:14:38.235Z"
   },
   {
    "duration": -847,
    "start_time": "2022-01-25T11:14:38.275Z"
   },
   {
    "duration": -874,
    "start_time": "2022-01-25T11:14:38.303Z"
   },
   {
    "duration": -910,
    "start_time": "2022-01-25T11:14:38.340Z"
   },
   {
    "duration": -972,
    "start_time": "2022-01-25T11:14:38.403Z"
   },
   {
    "duration": -1022,
    "start_time": "2022-01-25T11:14:38.453Z"
   },
   {
    "duration": -1082,
    "start_time": "2022-01-25T11:14:38.514Z"
   },
   {
    "duration": -1120,
    "start_time": "2022-01-25T11:14:38.553Z"
   },
   {
    "duration": -1170,
    "start_time": "2022-01-25T11:14:38.604Z"
   },
   {
    "duration": -1201,
    "start_time": "2022-01-25T11:14:38.635Z"
   },
   {
    "duration": -1236,
    "start_time": "2022-01-25T11:14:38.671Z"
   },
   {
    "duration": -1266,
    "start_time": "2022-01-25T11:14:38.702Z"
   },
   {
    "duration": -1288,
    "start_time": "2022-01-25T11:14:38.748Z"
   },
   {
    "duration": 3,
    "start_time": "2022-01-25T11:15:44.770Z"
   },
   {
    "duration": 404,
    "start_time": "2022-01-25T11:15:44.781Z"
   },
   {
    "duration": 4,
    "start_time": "2022-01-25T11:15:45.187Z"
   },
   {
    "duration": 232,
    "start_time": "2022-01-25T11:15:45.193Z"
   },
   {
    "duration": 160,
    "start_time": "2022-01-25T11:15:45.427Z"
   },
   {
    "duration": 7,
    "start_time": "2022-01-25T11:15:45.589Z"
   },
   {
    "duration": 8,
    "start_time": "2022-01-25T11:15:45.598Z"
   },
   {
    "duration": 127,
    "start_time": "2022-01-25T11:15:45.608Z"
   },
   {
    "duration": 47,
    "start_time": "2022-01-25T11:15:45.737Z"
   },
   {
    "duration": 33,
    "start_time": "2022-01-25T11:15:45.787Z"
   },
   {
    "duration": 11,
    "start_time": "2022-01-25T11:15:45.823Z"
   },
   {
    "duration": 45,
    "start_time": "2022-01-25T11:15:45.836Z"
   },
   {
    "duration": 50,
    "start_time": "2022-01-25T11:15:45.882Z"
   },
   {
    "duration": 2423,
    "start_time": "2022-01-25T11:15:45.933Z"
   },
   {
    "duration": 185,
    "start_time": "2022-01-25T11:15:48.173Z"
   },
   {
    "duration": 171,
    "start_time": "2022-01-25T11:15:48.189Z"
   },
   {
    "duration": 141,
    "start_time": "2022-01-25T11:15:48.220Z"
   },
   {
    "duration": 100,
    "start_time": "2022-01-25T11:15:48.261Z"
   },
   {
    "duration": 70,
    "start_time": "2022-01-25T11:15:48.292Z"
   },
   {
    "duration": 37,
    "start_time": "2022-01-25T11:15:48.326Z"
   },
   {
    "duration": -4,
    "start_time": "2022-01-25T11:15:48.368Z"
   },
   {
    "duration": -48,
    "start_time": "2022-01-25T11:15:48.413Z"
   },
   {
    "duration": -63,
    "start_time": "2022-01-25T11:15:48.429Z"
   },
   {
    "duration": -88,
    "start_time": "2022-01-25T11:15:48.455Z"
   },
   {
    "duration": -186,
    "start_time": "2022-01-25T11:15:48.554Z"
   },
   {
    "duration": -228,
    "start_time": "2022-01-25T11:15:48.597Z"
   },
   {
    "duration": -247,
    "start_time": "2022-01-25T11:15:48.617Z"
   },
   {
    "duration": -295,
    "start_time": "2022-01-25T11:15:48.666Z"
   },
   {
    "duration": -329,
    "start_time": "2022-01-25T11:15:48.700Z"
   },
   {
    "duration": -342,
    "start_time": "2022-01-25T11:15:48.715Z"
   },
   {
    "duration": -366,
    "start_time": "2022-01-25T11:15:48.739Z"
   },
   {
    "duration": -388,
    "start_time": "2022-01-25T11:15:48.762Z"
   },
   {
    "duration": -426,
    "start_time": "2022-01-25T11:15:48.801Z"
   },
   {
    "duration": -454,
    "start_time": "2022-01-25T11:15:48.830Z"
   },
   {
    "duration": -475,
    "start_time": "2022-01-25T11:15:48.852Z"
   },
   {
    "duration": -503,
    "start_time": "2022-01-25T11:15:48.881Z"
   },
   {
    "duration": -524,
    "start_time": "2022-01-25T11:15:48.903Z"
   },
   {
    "duration": -553,
    "start_time": "2022-01-25T11:15:48.933Z"
   },
   {
    "duration": -573,
    "start_time": "2022-01-25T11:15:48.954Z"
   },
   {
    "duration": -604,
    "start_time": "2022-01-25T11:15:48.986Z"
   },
   {
    "duration": -636,
    "start_time": "2022-01-25T11:15:49.018Z"
   },
   {
    "duration": -673,
    "start_time": "2022-01-25T11:15:49.056Z"
   },
   {
    "duration": -709,
    "start_time": "2022-01-25T11:15:49.093Z"
   },
   {
    "duration": -738,
    "start_time": "2022-01-25T11:15:49.123Z"
   },
   {
    "duration": -766,
    "start_time": "2022-01-25T11:15:49.152Z"
   },
   {
    "duration": -798,
    "start_time": "2022-01-25T11:15:49.184Z"
   },
   {
    "duration": -829,
    "start_time": "2022-01-25T11:15:49.216Z"
   },
   {
    "duration": -872,
    "start_time": "2022-01-25T11:15:49.260Z"
   },
   {
    "duration": -905,
    "start_time": "2022-01-25T11:15:49.294Z"
   },
   {
    "duration": -937,
    "start_time": "2022-01-25T11:15:49.327Z"
   },
   {
    "duration": 55,
    "start_time": "2022-01-25T11:16:33.803Z"
   },
   {
    "duration": 4,
    "start_time": "2022-01-25T11:16:37.671Z"
   },
   {
    "duration": 430,
    "start_time": "2022-01-25T11:16:37.676Z"
   },
   {
    "duration": 4,
    "start_time": "2022-01-25T11:16:38.109Z"
   },
   {
    "duration": 231,
    "start_time": "2022-01-25T11:16:38.115Z"
   },
   {
    "duration": 158,
    "start_time": "2022-01-25T11:16:38.348Z"
   },
   {
    "duration": 6,
    "start_time": "2022-01-25T11:16:38.508Z"
   },
   {
    "duration": 32,
    "start_time": "2022-01-25T11:16:38.515Z"
   },
   {
    "duration": 109,
    "start_time": "2022-01-25T11:16:38.550Z"
   },
   {
    "duration": 34,
    "start_time": "2022-01-25T11:16:38.661Z"
   },
   {
    "duration": 47,
    "start_time": "2022-01-25T11:16:38.696Z"
   },
   {
    "duration": 16,
    "start_time": "2022-01-25T11:16:38.745Z"
   },
   {
    "duration": 28,
    "start_time": "2022-01-25T11:16:38.763Z"
   },
   {
    "duration": 35,
    "start_time": "2022-01-25T11:16:38.793Z"
   },
   {
    "duration": 69,
    "start_time": "2022-01-25T11:16:38.830Z"
   },
   {
    "duration": 30,
    "start_time": "2022-01-25T11:16:38.901Z"
   },
   {
    "duration": 42,
    "start_time": "2022-01-25T11:16:38.933Z"
   },
   {
    "duration": 3,
    "start_time": "2022-01-25T11:16:38.977Z"
   },
   {
    "duration": 90,
    "start_time": "2022-01-25T11:16:38.982Z"
   },
   {
    "duration": 28,
    "start_time": "2022-01-25T11:16:39.074Z"
   },
   {
    "duration": 35,
    "start_time": "2022-01-25T11:16:39.104Z"
   },
   {
    "duration": 19,
    "start_time": "2022-01-25T11:16:39.141Z"
   },
   {
    "duration": 37,
    "start_time": "2022-01-25T11:16:39.162Z"
   },
   {
    "duration": 28,
    "start_time": "2022-01-25T11:16:39.204Z"
   },
   {
    "duration": 10,
    "start_time": "2022-01-25T11:16:39.234Z"
   },
   {
    "duration": 29,
    "start_time": "2022-01-25T11:16:39.246Z"
   },
   {
    "duration": 22,
    "start_time": "2022-01-25T11:16:39.277Z"
   },
   {
    "duration": 42,
    "start_time": "2022-01-25T11:16:39.301Z"
   },
   {
    "duration": 48,
    "start_time": "2022-01-25T11:16:39.344Z"
   },
   {
    "duration": 40,
    "start_time": "2022-01-25T11:16:39.394Z"
   },
   {
    "duration": 20,
    "start_time": "2022-01-25T11:16:39.436Z"
   },
   {
    "duration": 34,
    "start_time": "2022-01-25T11:16:39.458Z"
   },
   {
    "duration": 31,
    "start_time": "2022-01-25T11:16:39.494Z"
   },
   {
    "duration": 32,
    "start_time": "2022-01-25T11:16:39.526Z"
   },
   {
    "duration": 437,
    "start_time": "2022-01-25T11:16:39.560Z"
   },
   {
    "duration": 8,
    "start_time": "2022-01-25T11:16:39.999Z"
   },
   {
    "duration": 50,
    "start_time": "2022-01-25T11:16:40.009Z"
   },
   {
    "duration": 34,
    "start_time": "2022-01-25T11:16:40.061Z"
   },
   {
    "duration": 26,
    "start_time": "2022-01-25T11:16:40.097Z"
   },
   {
    "duration": 55,
    "start_time": "2022-01-25T11:16:40.125Z"
   },
   {
    "duration": 694,
    "start_time": "2022-01-25T11:16:40.182Z"
   },
   {
    "duration": 116,
    "start_time": "2022-01-25T11:16:40.762Z"
   },
   {
    "duration": 85,
    "start_time": "2022-01-25T11:16:40.794Z"
   },
   {
    "duration": -45,
    "start_time": "2022-01-25T11:16:40.925Z"
   },
   {
    "duration": -59,
    "start_time": "2022-01-25T11:16:40.940Z"
   },
   {
    "duration": -74,
    "start_time": "2022-01-25T11:16:40.956Z"
   },
   {
    "duration": -89,
    "start_time": "2022-01-25T11:16:40.972Z"
   },
   {
    "duration": -105,
    "start_time": "2022-01-25T11:16:40.989Z"
   },
   {
    "duration": -138,
    "start_time": "2022-01-25T11:16:41.023Z"
   },
   {
    "duration": -172,
    "start_time": "2022-01-25T11:16:41.058Z"
   },
   {
    "duration": -220,
    "start_time": "2022-01-25T11:16:41.107Z"
   },
   {
    "duration": 34,
    "start_time": "2022-01-25T11:16:56.773Z"
   },
   {
    "duration": 10,
    "start_time": "2022-01-25T11:17:59.562Z"
   },
   {
    "duration": 5,
    "start_time": "2022-01-25T11:30:16.752Z"
   },
   {
    "duration": 22,
    "start_time": "2022-01-25T11:30:16.759Z"
   },
   {
    "duration": 452,
    "start_time": "2022-01-25T11:30:16.784Z"
   },
   {
    "duration": 5,
    "start_time": "2022-01-25T11:30:17.239Z"
   },
   {
    "duration": 258,
    "start_time": "2022-01-25T11:30:17.246Z"
   },
   {
    "duration": 163,
    "start_time": "2022-01-25T11:30:17.507Z"
   },
   {
    "duration": 6,
    "start_time": "2022-01-25T11:30:17.673Z"
   },
   {
    "duration": 32,
    "start_time": "2022-01-25T11:30:17.681Z"
   },
   {
    "duration": 136,
    "start_time": "2022-01-25T11:30:17.715Z"
   },
   {
    "duration": 42,
    "start_time": "2022-01-25T11:30:17.854Z"
   },
   {
    "duration": 32,
    "start_time": "2022-01-25T11:30:17.899Z"
   },
   {
    "duration": 14,
    "start_time": "2022-01-25T11:30:17.961Z"
   },
   {
    "duration": 28,
    "start_time": "2022-01-25T11:30:17.977Z"
   },
   {
    "duration": 27,
    "start_time": "2022-01-25T11:30:18.008Z"
   },
   {
    "duration": 77,
    "start_time": "2022-01-25T11:30:18.037Z"
   },
   {
    "duration": 34,
    "start_time": "2022-01-25T11:30:18.116Z"
   },
   {
    "duration": 43,
    "start_time": "2022-01-25T11:30:18.151Z"
   },
   {
    "duration": 5,
    "start_time": "2022-01-25T11:30:18.196Z"
   },
   {
    "duration": 67,
    "start_time": "2022-01-25T11:30:18.203Z"
   },
   {
    "duration": 25,
    "start_time": "2022-01-25T11:30:18.272Z"
   },
   {
    "duration": 37,
    "start_time": "2022-01-25T11:30:18.299Z"
   },
   {
    "duration": 6,
    "start_time": "2022-01-25T11:30:18.339Z"
   },
   {
    "duration": 52,
    "start_time": "2022-01-25T11:30:18.347Z"
   },
   {
    "duration": 49,
    "start_time": "2022-01-25T11:30:18.402Z"
   },
   {
    "duration": 28,
    "start_time": "2022-01-25T11:30:18.456Z"
   },
   {
    "duration": 48,
    "start_time": "2022-01-25T11:30:18.487Z"
   },
   {
    "duration": 28,
    "start_time": "2022-01-25T11:30:18.537Z"
   },
   {
    "duration": 38,
    "start_time": "2022-01-25T11:30:18.568Z"
   },
   {
    "duration": 43,
    "start_time": "2022-01-25T11:30:18.609Z"
   },
   {
    "duration": 53,
    "start_time": "2022-01-25T11:30:18.654Z"
   },
   {
    "duration": 19,
    "start_time": "2022-01-25T11:30:18.709Z"
   },
   {
    "duration": 40,
    "start_time": "2022-01-25T11:30:18.730Z"
   },
   {
    "duration": 15,
    "start_time": "2022-01-25T11:30:18.772Z"
   },
   {
    "duration": 28,
    "start_time": "2022-01-25T11:30:18.788Z"
   },
   {
    "duration": 412,
    "start_time": "2022-01-25T11:30:18.818Z"
   },
   {
    "duration": 8,
    "start_time": "2022-01-25T11:30:19.232Z"
   },
   {
    "duration": 50,
    "start_time": "2022-01-25T11:30:19.242Z"
   },
   {
    "duration": 37,
    "start_time": "2022-01-25T11:30:19.294Z"
   },
   {
    "duration": 29,
    "start_time": "2022-01-25T11:30:19.333Z"
   },
   {
    "duration": 49,
    "start_time": "2022-01-25T11:30:19.365Z"
   },
   {
    "duration": 806,
    "start_time": "2022-01-25T11:30:19.416Z"
   },
   {
    "duration": 151,
    "start_time": "2022-01-25T11:30:20.073Z"
   },
   {
    "duration": 128,
    "start_time": "2022-01-25T11:30:20.097Z"
   },
   {
    "duration": 99,
    "start_time": "2022-01-25T11:30:20.128Z"
   },
   {
    "duration": 67,
    "start_time": "2022-01-25T11:30:20.161Z"
   },
   {
    "duration": 43,
    "start_time": "2022-01-25T11:30:20.187Z"
   },
   {
    "duration": -20,
    "start_time": "2022-01-25T11:30:20.252Z"
   },
   {
    "duration": -45,
    "start_time": "2022-01-25T11:30:20.278Z"
   },
   {
    "duration": -70,
    "start_time": "2022-01-25T11:30:20.305Z"
   },
   {
    "duration": -99,
    "start_time": "2022-01-25T11:30:20.335Z"
   },
   {
    "duration": -103,
    "start_time": "2022-01-25T11:30:20.364Z"
   },
   {
    "duration": 5,
    "start_time": "2022-01-25T11:33:45.267Z"
   },
   {
    "duration": 11,
    "start_time": "2022-01-25T11:44:43.445Z"
   },
   {
    "duration": 13,
    "start_time": "2022-01-25T11:45:04.062Z"
   },
   {
    "duration": 11,
    "start_time": "2022-01-25T11:47:02.574Z"
   },
   {
    "duration": 3,
    "start_time": "2022-01-25T11:48:02.509Z"
   },
   {
    "duration": 4,
    "start_time": "2022-01-25T11:48:02.516Z"
   },
   {
    "duration": 402,
    "start_time": "2022-01-25T11:48:02.522Z"
   },
   {
    "duration": 4,
    "start_time": "2022-01-25T11:48:02.927Z"
   },
   {
    "duration": 218,
    "start_time": "2022-01-25T11:48:02.933Z"
   },
   {
    "duration": 150,
    "start_time": "2022-01-25T11:48:03.153Z"
   },
   {
    "duration": 6,
    "start_time": "2022-01-25T11:48:03.305Z"
   },
   {
    "duration": 62,
    "start_time": "2022-01-25T11:48:03.312Z"
   },
   {
    "duration": 99,
    "start_time": "2022-01-25T11:48:03.377Z"
   },
   {
    "duration": 44,
    "start_time": "2022-01-25T11:48:03.478Z"
   },
   {
    "duration": 57,
    "start_time": "2022-01-25T11:48:03.524Z"
   },
   {
    "duration": 11,
    "start_time": "2022-01-25T11:48:03.583Z"
   },
   {
    "duration": 15,
    "start_time": "2022-01-25T11:48:03.596Z"
   },
   {
    "duration": 24,
    "start_time": "2022-01-25T11:48:03.613Z"
   },
   {
    "duration": 61,
    "start_time": "2022-01-25T11:48:03.639Z"
   },
   {
    "duration": 33,
    "start_time": "2022-01-25T11:48:03.702Z"
   },
   {
    "duration": 65,
    "start_time": "2022-01-25T11:48:03.737Z"
   },
   {
    "duration": 5,
    "start_time": "2022-01-25T11:48:03.804Z"
   },
   {
    "duration": 63,
    "start_time": "2022-01-25T11:48:03.811Z"
   },
   {
    "duration": 28,
    "start_time": "2022-01-25T11:48:03.877Z"
   },
   {
    "duration": 21,
    "start_time": "2022-01-25T11:48:03.907Z"
   },
   {
    "duration": 5,
    "start_time": "2022-01-25T11:48:03.929Z"
   },
   {
    "duration": 33,
    "start_time": "2022-01-25T11:48:03.936Z"
   },
   {
    "duration": 12,
    "start_time": "2022-01-25T11:48:03.972Z"
   },
   {
    "duration": 3,
    "start_time": "2022-01-25T11:48:03.987Z"
   },
   {
    "duration": 7,
    "start_time": "2022-01-25T11:48:03.992Z"
   },
   {
    "duration": 14,
    "start_time": "2022-01-25T11:48:04.001Z"
   },
   {
    "duration": 13,
    "start_time": "2022-01-25T11:48:04.016Z"
   },
   {
    "duration": 49,
    "start_time": "2022-01-25T11:48:04.031Z"
   },
   {
    "duration": 4,
    "start_time": "2022-01-25T11:48:04.082Z"
   },
   {
    "duration": 17,
    "start_time": "2022-01-25T11:48:04.088Z"
   },
   {
    "duration": 135,
    "start_time": "2022-01-25T11:48:04.107Z"
   },
   {
    "duration": -2112,
    "start_time": "2022-01-25T11:48:06.356Z"
   },
   {
    "duration": -2144,
    "start_time": "2022-01-25T11:48:06.389Z"
   },
   {
    "duration": -2164,
    "start_time": "2022-01-25T11:48:06.410Z"
   },
   {
    "duration": -2211,
    "start_time": "2022-01-25T11:48:06.458Z"
   },
   {
    "duration": -2260,
    "start_time": "2022-01-25T11:48:06.508Z"
   },
   {
    "duration": -2373,
    "start_time": "2022-01-25T11:48:06.623Z"
   },
   {
    "duration": -2434,
    "start_time": "2022-01-25T11:48:06.685Z"
   },
   {
    "duration": -2494,
    "start_time": "2022-01-25T11:48:06.746Z"
   },
   {
    "duration": -2547,
    "start_time": "2022-01-25T11:48:06.800Z"
   },
   {
    "duration": -2589,
    "start_time": "2022-01-25T11:48:06.843Z"
   },
   {
    "duration": -2640,
    "start_time": "2022-01-25T11:48:06.895Z"
   },
   {
    "duration": -2680,
    "start_time": "2022-01-25T11:48:06.936Z"
   },
   {
    "duration": -2727,
    "start_time": "2022-01-25T11:48:06.985Z"
   },
   {
    "duration": -2775,
    "start_time": "2022-01-25T11:48:07.035Z"
   },
   {
    "duration": -2833,
    "start_time": "2022-01-25T11:48:07.094Z"
   },
   {
    "duration": -2883,
    "start_time": "2022-01-25T11:48:07.146Z"
   },
   {
    "duration": -2934,
    "start_time": "2022-01-25T11:48:07.198Z"
   },
   {
    "duration": -2974,
    "start_time": "2022-01-25T11:48:07.239Z"
   },
   {
    "duration": -3010,
    "start_time": "2022-01-25T11:48:07.276Z"
   },
   {
    "duration": -3057,
    "start_time": "2022-01-25T11:48:07.324Z"
   },
   {
    "duration": -3093,
    "start_time": "2022-01-25T11:48:07.361Z"
   },
   {
    "duration": 6,
    "start_time": "2022-01-25T11:48:33.391Z"
   },
   {
    "duration": 6,
    "start_time": "2022-01-25T11:48:43.843Z"
   },
   {
    "duration": 10,
    "start_time": "2022-01-25T11:49:13.814Z"
   },
   {
    "duration": 5,
    "start_time": "2022-01-25T11:49:15.299Z"
   },
   {
    "duration": 10,
    "start_time": "2022-01-25T11:50:24.077Z"
   },
   {
    "duration": 10,
    "start_time": "2022-01-25T11:50:41.331Z"
   },
   {
    "duration": 6,
    "start_time": "2022-01-25T11:51:00.471Z"
   },
   {
    "duration": 5,
    "start_time": "2022-01-25T11:52:33.273Z"
   },
   {
    "duration": 5,
    "start_time": "2022-01-25T11:52:35.748Z"
   },
   {
    "duration": 4,
    "start_time": "2022-01-25T11:52:54.312Z"
   },
   {
    "duration": 85,
    "start_time": "2022-01-25T12:40:43.892Z"
   },
   {
    "duration": 81,
    "start_time": "2022-01-25T12:40:59.316Z"
   },
   {
    "duration": 296,
    "start_time": "2022-01-25T12:41:25.846Z"
   },
   {
    "duration": 3,
    "start_time": "2022-01-25T12:41:42.446Z"
   },
   {
    "duration": 31,
    "start_time": "2022-01-25T12:41:42.451Z"
   },
   {
    "duration": 426,
    "start_time": "2022-01-25T12:41:42.485Z"
   },
   {
    "duration": 4,
    "start_time": "2022-01-25T12:41:42.914Z"
   },
   {
    "duration": 270,
    "start_time": "2022-01-25T12:41:42.920Z"
   },
   {
    "duration": 150,
    "start_time": "2022-01-25T12:41:43.192Z"
   },
   {
    "duration": 19,
    "start_time": "2022-01-25T12:41:43.344Z"
   },
   {
    "duration": 8,
    "start_time": "2022-01-25T12:41:43.365Z"
   },
   {
    "duration": 117,
    "start_time": "2022-01-25T12:41:43.374Z"
   },
   {
    "duration": 36,
    "start_time": "2022-01-25T12:41:43.493Z"
   },
   {
    "duration": 44,
    "start_time": "2022-01-25T12:41:43.530Z"
   },
   {
    "duration": 11,
    "start_time": "2022-01-25T12:41:43.576Z"
   },
   {
    "duration": 34,
    "start_time": "2022-01-25T12:41:43.588Z"
   },
   {
    "duration": 13,
    "start_time": "2022-01-25T12:41:43.624Z"
   },
   {
    "duration": 79,
    "start_time": "2022-01-25T12:41:43.639Z"
   },
   {
    "duration": 31,
    "start_time": "2022-01-25T12:41:43.720Z"
   },
   {
    "duration": 37,
    "start_time": "2022-01-25T12:41:43.753Z"
   },
   {
    "duration": 4,
    "start_time": "2022-01-25T12:41:43.794Z"
   },
   {
    "duration": 77,
    "start_time": "2022-01-25T12:41:43.801Z"
   },
   {
    "duration": 23,
    "start_time": "2022-01-25T12:41:43.880Z"
   },
   {
    "duration": 36,
    "start_time": "2022-01-25T12:41:43.905Z"
   },
   {
    "duration": 5,
    "start_time": "2022-01-25T12:41:43.942Z"
   },
   {
    "duration": 45,
    "start_time": "2022-01-25T12:41:43.949Z"
   },
   {
    "duration": 36,
    "start_time": "2022-01-25T12:41:43.996Z"
   },
   {
    "duration": 48,
    "start_time": "2022-01-25T12:41:44.034Z"
   },
   {
    "duration": 20,
    "start_time": "2022-01-25T12:41:44.084Z"
   },
   {
    "duration": 27,
    "start_time": "2022-01-25T12:41:44.106Z"
   },
   {
    "duration": 27,
    "start_time": "2022-01-25T12:41:44.135Z"
   },
   {
    "duration": 29,
    "start_time": "2022-01-25T12:41:44.164Z"
   },
   {
    "duration": 7,
    "start_time": "2022-01-25T12:41:44.196Z"
   },
   {
    "duration": 14,
    "start_time": "2022-01-25T12:41:44.205Z"
   },
   {
    "duration": 46,
    "start_time": "2022-01-25T12:41:44.221Z"
   },
   {
    "duration": 18,
    "start_time": "2022-01-25T12:41:44.269Z"
   },
   {
    "duration": 28,
    "start_time": "2022-01-25T12:41:44.289Z"
   },
   {
    "duration": 44,
    "start_time": "2022-01-25T12:41:44.318Z"
   },
   {
    "duration": 247,
    "start_time": "2022-01-25T12:41:44.364Z"
   },
   {
    "duration": -852,
    "start_time": "2022-01-25T12:41:45.465Z"
   },
   {
    "duration": -911,
    "start_time": "2022-01-25T12:41:45.525Z"
   },
   {
    "duration": -1007,
    "start_time": "2022-01-25T12:41:45.622Z"
   },
   {
    "duration": -1063,
    "start_time": "2022-01-25T12:41:45.679Z"
   },
   {
    "duration": -1127,
    "start_time": "2022-01-25T12:41:45.745Z"
   },
   {
    "duration": -1154,
    "start_time": "2022-01-25T12:41:45.773Z"
   },
   {
    "duration": -1219,
    "start_time": "2022-01-25T12:41:45.839Z"
   },
   {
    "duration": -1267,
    "start_time": "2022-01-25T12:41:45.888Z"
   },
   {
    "duration": -1310,
    "start_time": "2022-01-25T12:41:45.932Z"
   },
   {
    "duration": -1354,
    "start_time": "2022-01-25T12:41:45.977Z"
   },
   {
    "duration": -1401,
    "start_time": "2022-01-25T12:41:46.025Z"
   },
   {
    "duration": -1455,
    "start_time": "2022-01-25T12:41:46.080Z"
   },
   {
    "duration": -1514,
    "start_time": "2022-01-25T12:41:46.140Z"
   },
   {
    "duration": -1533,
    "start_time": "2022-01-25T12:41:46.161Z"
   },
   {
    "duration": -1594,
    "start_time": "2022-01-25T12:41:46.223Z"
   },
   {
    "duration": -1627,
    "start_time": "2022-01-25T12:41:46.257Z"
   },
   {
    "duration": -1676,
    "start_time": "2022-01-25T12:41:46.307Z"
   },
   {
    "duration": -1716,
    "start_time": "2022-01-25T12:41:46.348Z"
   },
   {
    "duration": -1765,
    "start_time": "2022-01-25T12:41:46.398Z"
   },
   {
    "duration": -1840,
    "start_time": "2022-01-25T12:41:46.474Z"
   },
   {
    "duration": 16,
    "start_time": "2022-01-25T12:42:15.404Z"
   },
   {
    "duration": 18,
    "start_time": "2022-01-25T12:44:32.372Z"
   },
   {
    "duration": 252,
    "start_time": "2022-01-25T12:52:54.097Z"
   },
   {
    "duration": 302,
    "start_time": "2022-01-25T12:53:07.396Z"
   },
   {
    "duration": 16,
    "start_time": "2022-01-25T12:57:00.054Z"
   },
   {
    "duration": 4,
    "start_time": "2022-01-25T12:57:10.024Z"
   },
   {
    "duration": 7,
    "start_time": "2022-01-25T12:57:10.034Z"
   },
   {
    "duration": 425,
    "start_time": "2022-01-25T12:57:10.043Z"
   },
   {
    "duration": 5,
    "start_time": "2022-01-25T12:57:10.470Z"
   },
   {
    "duration": 210,
    "start_time": "2022-01-25T12:57:10.477Z"
   },
   {
    "duration": 159,
    "start_time": "2022-01-25T12:57:10.689Z"
   },
   {
    "duration": 6,
    "start_time": "2022-01-25T12:57:10.861Z"
   },
   {
    "duration": 11,
    "start_time": "2022-01-25T12:57:10.869Z"
   },
   {
    "duration": 133,
    "start_time": "2022-01-25T12:57:10.883Z"
   },
   {
    "duration": 59,
    "start_time": "2022-01-25T12:57:11.018Z"
   },
   {
    "duration": 31,
    "start_time": "2022-01-25T12:57:11.079Z"
   },
   {
    "duration": 14,
    "start_time": "2022-01-25T12:57:11.112Z"
   },
   {
    "duration": 14,
    "start_time": "2022-01-25T12:57:11.159Z"
   },
   {
    "duration": 10,
    "start_time": "2022-01-25T12:57:11.175Z"
   },
   {
    "duration": 86,
    "start_time": "2022-01-25T12:57:11.188Z"
   },
   {
    "duration": 47,
    "start_time": "2022-01-25T12:57:11.276Z"
   },
   {
    "duration": 65,
    "start_time": "2022-01-25T12:57:11.325Z"
   },
   {
    "duration": 5,
    "start_time": "2022-01-25T12:57:11.392Z"
   },
   {
    "duration": 82,
    "start_time": "2022-01-25T12:57:11.399Z"
   },
   {
    "duration": 39,
    "start_time": "2022-01-25T12:57:11.487Z"
   },
   {
    "duration": 42,
    "start_time": "2022-01-25T12:57:11.529Z"
   },
   {
    "duration": 6,
    "start_time": "2022-01-25T12:57:11.573Z"
   },
   {
    "duration": 23,
    "start_time": "2022-01-25T12:57:11.581Z"
   },
   {
    "duration": 12,
    "start_time": "2022-01-25T12:57:11.606Z"
   },
   {
    "duration": 3,
    "start_time": "2022-01-25T12:57:11.619Z"
   },
   {
    "duration": 8,
    "start_time": "2022-01-25T12:57:11.624Z"
   },
   {
    "duration": 34,
    "start_time": "2022-01-25T12:57:11.634Z"
   },
   {
    "duration": 15,
    "start_time": "2022-01-25T12:57:11.671Z"
   },
   {
    "duration": 36,
    "start_time": "2022-01-25T12:57:11.688Z"
   },
   {
    "duration": 5,
    "start_time": "2022-01-25T12:57:11.727Z"
   },
   {
    "duration": 28,
    "start_time": "2022-01-25T12:57:11.734Z"
   },
   {
    "duration": 33,
    "start_time": "2022-01-25T12:57:11.764Z"
   },
   {
    "duration": 26,
    "start_time": "2022-01-25T12:57:11.799Z"
   },
   {
    "duration": 28,
    "start_time": "2022-01-25T12:57:11.827Z"
   },
   {
    "duration": 29,
    "start_time": "2022-01-25T12:57:11.857Z"
   },
   {
    "duration": 36,
    "start_time": "2022-01-25T12:57:11.887Z"
   },
   {
    "duration": 33,
    "start_time": "2022-01-25T12:57:11.925Z"
   },
   {
    "duration": 39,
    "start_time": "2022-01-25T12:57:11.960Z"
   },
   {
    "duration": 23,
    "start_time": "2022-01-25T12:57:12.000Z"
   },
   {
    "duration": 24,
    "start_time": "2022-01-25T12:57:12.025Z"
   },
   {
    "duration": 24,
    "start_time": "2022-01-25T12:57:12.051Z"
   },
   {
    "duration": 284,
    "start_time": "2022-01-25T12:57:12.077Z"
   },
   {
    "duration": -1231,
    "start_time": "2022-01-25T12:57:13.594Z"
   },
   {
    "duration": -1325,
    "start_time": "2022-01-25T12:57:13.689Z"
   },
   {
    "duration": -1356,
    "start_time": "2022-01-25T12:57:13.722Z"
   },
   {
    "duration": -1395,
    "start_time": "2022-01-25T12:57:13.762Z"
   },
   {
    "duration": -1487,
    "start_time": "2022-01-25T12:57:13.855Z"
   },
   {
    "duration": -1581,
    "start_time": "2022-01-25T12:57:13.950Z"
   },
   {
    "duration": -1633,
    "start_time": "2022-01-25T12:57:14.004Z"
   },
   {
    "duration": -1703,
    "start_time": "2022-01-25T12:57:14.075Z"
   },
   {
    "duration": -1764,
    "start_time": "2022-01-25T12:57:14.137Z"
   },
   {
    "duration": -1783,
    "start_time": "2022-01-25T12:57:14.158Z"
   },
   {
    "duration": -1835,
    "start_time": "2022-01-25T12:57:14.211Z"
   },
   {
    "duration": -1879,
    "start_time": "2022-01-25T12:57:14.256Z"
   },
   {
    "duration": -1921,
    "start_time": "2022-01-25T12:57:14.300Z"
   },
   {
    "duration": -1953,
    "start_time": "2022-01-25T12:57:14.333Z"
   },
   {
    "duration": -1998,
    "start_time": "2022-01-25T12:57:14.379Z"
   },
   {
    "duration": -2041,
    "start_time": "2022-01-25T12:57:14.424Z"
   },
   {
    "duration": 78,
    "start_time": "2022-01-25T13:01:20.132Z"
   },
   {
    "duration": 5,
    "start_time": "2022-01-25T13:01:25.178Z"
   },
   {
    "duration": 288,
    "start_time": "2022-01-25T13:02:05.792Z"
   },
   {
    "duration": 13,
    "start_time": "2022-01-25T13:02:06.069Z"
   },
   {
    "duration": -22,
    "start_time": "2022-01-25T13:02:06.106Z"
   },
   {
    "duration": -65,
    "start_time": "2022-01-25T13:02:06.150Z"
   },
   {
    "duration": -114,
    "start_time": "2022-01-25T13:02:06.201Z"
   },
   {
    "duration": -142,
    "start_time": "2022-01-25T13:02:06.230Z"
   },
   {
    "duration": -174,
    "start_time": "2022-01-25T13:02:06.264Z"
   },
   {
    "duration": -200,
    "start_time": "2022-01-25T13:02:06.291Z"
   },
   {
    "duration": -224,
    "start_time": "2022-01-25T13:02:06.317Z"
   },
   {
    "duration": -260,
    "start_time": "2022-01-25T13:02:06.355Z"
   },
   {
    "duration": -300,
    "start_time": "2022-01-25T13:02:06.396Z"
   },
   {
    "duration": -350,
    "start_time": "2022-01-25T13:02:06.448Z"
   },
   {
    "duration": -384,
    "start_time": "2022-01-25T13:02:06.483Z"
   },
   {
    "duration": -421,
    "start_time": "2022-01-25T13:02:06.522Z"
   },
   {
    "duration": -449,
    "start_time": "2022-01-25T13:02:06.551Z"
   },
   {
    "duration": -669,
    "start_time": "2022-01-25T13:02:06.773Z"
   },
   {
    "duration": -709,
    "start_time": "2022-01-25T13:02:06.814Z"
   },
   {
    "duration": -753,
    "start_time": "2022-01-25T13:02:06.860Z"
   },
   {
    "duration": -780,
    "start_time": "2022-01-25T13:02:06.888Z"
   },
   {
    "duration": -807,
    "start_time": "2022-01-25T13:02:06.917Z"
   },
   {
    "duration": -856,
    "start_time": "2022-01-25T13:02:06.967Z"
   },
   {
    "duration": -895,
    "start_time": "2022-01-25T13:02:07.008Z"
   },
   {
    "duration": -919,
    "start_time": "2022-01-25T13:02:07.034Z"
   },
   {
    "duration": -962,
    "start_time": "2022-01-25T13:02:07.078Z"
   },
   {
    "duration": -970,
    "start_time": "2022-01-25T13:02:07.131Z"
   },
   {
    "duration": -1013,
    "start_time": "2022-01-25T13:02:07.176Z"
   },
   {
    "duration": -1051,
    "start_time": "2022-01-25T13:02:07.215Z"
   },
   {
    "duration": -1081,
    "start_time": "2022-01-25T13:02:07.247Z"
   },
   {
    "duration": -1133,
    "start_time": "2022-01-25T13:02:07.300Z"
   },
   {
    "duration": -1165,
    "start_time": "2022-01-25T13:02:07.334Z"
   },
   {
    "duration": -1198,
    "start_time": "2022-01-25T13:02:07.368Z"
   },
   {
    "duration": -1341,
    "start_time": "2022-01-25T13:02:07.513Z"
   },
   {
    "duration": -1359,
    "start_time": "2022-01-25T13:02:07.532Z"
   },
   {
    "duration": -1373,
    "start_time": "2022-01-25T13:02:07.548Z"
   },
   {
    "duration": -1388,
    "start_time": "2022-01-25T13:02:07.564Z"
   },
   {
    "duration": -1405,
    "start_time": "2022-01-25T13:02:07.583Z"
   },
   {
    "duration": -1430,
    "start_time": "2022-01-25T13:02:07.609Z"
   },
   {
    "duration": -1450,
    "start_time": "2022-01-25T13:02:07.631Z"
   },
   {
    "duration": -1465,
    "start_time": "2022-01-25T13:02:07.647Z"
   },
   {
    "duration": -1483,
    "start_time": "2022-01-25T13:02:07.667Z"
   },
   {
    "duration": -1498,
    "start_time": "2022-01-25T13:02:07.683Z"
   },
   {
    "duration": -1564,
    "start_time": "2022-01-25T13:02:07.751Z"
   },
   {
    "duration": -1599,
    "start_time": "2022-01-25T13:02:07.787Z"
   },
   {
    "duration": -1634,
    "start_time": "2022-01-25T13:02:07.824Z"
   },
   {
    "duration": -1675,
    "start_time": "2022-01-25T13:02:07.866Z"
   },
   {
    "duration": -1710,
    "start_time": "2022-01-25T13:02:07.902Z"
   },
   {
    "duration": -1723,
    "start_time": "2022-01-25T13:02:07.917Z"
   },
   {
    "duration": -1755,
    "start_time": "2022-01-25T13:02:07.951Z"
   },
   {
    "duration": -1794,
    "start_time": "2022-01-25T13:02:07.991Z"
   },
   {
    "duration": -1815,
    "start_time": "2022-01-25T13:02:08.014Z"
   },
   {
    "duration": -1848,
    "start_time": "2022-01-25T13:02:08.048Z"
   },
   {
    "duration": -1877,
    "start_time": "2022-01-25T13:02:08.079Z"
   },
   {
    "duration": -1898,
    "start_time": "2022-01-25T13:02:08.101Z"
   },
   {
    "duration": -1927,
    "start_time": "2022-01-25T13:02:08.131Z"
   },
   {
    "duration": -1901,
    "start_time": "2022-01-25T13:02:08.162Z"
   },
   {
    "duration": -1932,
    "start_time": "2022-01-25T13:02:08.195Z"
   },
   {
    "duration": -1966,
    "start_time": "2022-01-25T13:02:08.230Z"
   },
   {
    "duration": -1998,
    "start_time": "2022-01-25T13:02:08.263Z"
   },
   {
    "duration": 7294,
    "start_time": "2022-01-25T13:02:34.033Z"
   },
   {
    "duration": 252,
    "start_time": "2022-01-25T13:03:37.078Z"
   },
   {
    "duration": 3,
    "start_time": "2022-01-25T13:03:48.633Z"
   },
   {
    "duration": 111,
    "start_time": "2022-01-25T13:03:48.638Z"
   },
   {
    "duration": 446,
    "start_time": "2022-01-25T13:03:48.752Z"
   },
   {
    "duration": 4,
    "start_time": "2022-01-25T13:03:49.200Z"
   },
   {
    "duration": 206,
    "start_time": "2022-01-25T13:03:49.205Z"
   },
   {
    "duration": 204,
    "start_time": "2022-01-25T13:03:49.413Z"
   },
   {
    "duration": 7,
    "start_time": "2022-01-25T13:03:49.620Z"
   },
   {
    "duration": 10,
    "start_time": "2022-01-25T13:03:49.629Z"
   },
   {
    "duration": 128,
    "start_time": "2022-01-25T13:03:49.642Z"
   },
   {
    "duration": 35,
    "start_time": "2022-01-25T13:03:49.772Z"
   },
   {
    "duration": 27,
    "start_time": "2022-01-25T13:03:49.809Z"
   },
   {
    "duration": 33,
    "start_time": "2022-01-25T13:03:49.837Z"
   },
   {
    "duration": 15,
    "start_time": "2022-01-25T13:03:49.872Z"
   },
   {
    "duration": 13,
    "start_time": "2022-01-25T13:03:49.889Z"
   },
   {
    "duration": 71,
    "start_time": "2022-01-25T13:03:49.904Z"
   },
   {
    "duration": 33,
    "start_time": "2022-01-25T13:03:49.977Z"
   },
   {
    "duration": 53,
    "start_time": "2022-01-25T13:03:50.012Z"
   },
   {
    "duration": 4,
    "start_time": "2022-01-25T13:03:50.067Z"
   },
   {
    "duration": 62,
    "start_time": "2022-01-25T13:03:50.073Z"
   },
   {
    "duration": 30,
    "start_time": "2022-01-25T13:03:50.136Z"
   },
   {
    "duration": 18,
    "start_time": "2022-01-25T13:03:50.168Z"
   },
   {
    "duration": 13,
    "start_time": "2022-01-25T13:03:50.188Z"
   },
   {
    "duration": 22,
    "start_time": "2022-01-25T13:03:50.203Z"
   },
   {
    "duration": 21,
    "start_time": "2022-01-25T13:03:50.227Z"
   },
   {
    "duration": 7,
    "start_time": "2022-01-25T13:03:50.250Z"
   },
   {
    "duration": 24,
    "start_time": "2022-01-25T13:03:50.259Z"
   },
   {
    "duration": 18,
    "start_time": "2022-01-25T13:03:50.286Z"
   },
   {
    "duration": 23,
    "start_time": "2022-01-25T13:03:50.306Z"
   },
   {
    "duration": 32,
    "start_time": "2022-01-25T13:03:50.331Z"
   },
   {
    "duration": 4,
    "start_time": "2022-01-25T13:03:50.365Z"
   },
   {
    "duration": 7,
    "start_time": "2022-01-25T13:03:50.370Z"
   },
   {
    "duration": 12,
    "start_time": "2022-01-25T13:03:50.378Z"
   },
   {
    "duration": 4,
    "start_time": "2022-01-25T13:03:50.392Z"
   },
   {
    "duration": 9,
    "start_time": "2022-01-25T13:03:50.398Z"
   },
   {
    "duration": 21,
    "start_time": "2022-01-25T13:03:50.409Z"
   },
   {
    "duration": 34,
    "start_time": "2022-01-25T13:03:50.432Z"
   },
   {
    "duration": 22,
    "start_time": "2022-01-25T13:03:50.468Z"
   },
   {
    "duration": 255,
    "start_time": "2022-01-25T13:03:50.492Z"
   },
   {
    "duration": -951,
    "start_time": "2022-01-25T13:03:51.699Z"
   },
   {
    "duration": -965,
    "start_time": "2022-01-25T13:03:51.714Z"
   },
   {
    "duration": -979,
    "start_time": "2022-01-25T13:03:51.729Z"
   },
   {
    "duration": -996,
    "start_time": "2022-01-25T13:03:51.747Z"
   },
   {
    "duration": -1028,
    "start_time": "2022-01-25T13:03:51.780Z"
   },
   {
    "duration": -1074,
    "start_time": "2022-01-25T13:03:51.827Z"
   },
   {
    "duration": -1111,
    "start_time": "2022-01-25T13:03:51.865Z"
   },
   {
    "duration": -1129,
    "start_time": "2022-01-25T13:03:51.884Z"
   },
   {
    "duration": -1156,
    "start_time": "2022-01-25T13:03:51.912Z"
   },
   {
    "duration": -1182,
    "start_time": "2022-01-25T13:03:51.939Z"
   },
   {
    "duration": -1215,
    "start_time": "2022-01-25T13:03:51.973Z"
   },
   {
    "duration": -1240,
    "start_time": "2022-01-25T13:03:51.999Z"
   },
   {
    "duration": -1262,
    "start_time": "2022-01-25T13:03:52.022Z"
   },
   {
    "duration": -1291,
    "start_time": "2022-01-25T13:03:52.052Z"
   },
   {
    "duration": -1324,
    "start_time": "2022-01-25T13:03:52.085Z"
   },
   {
    "duration": -1357,
    "start_time": "2022-01-25T13:03:52.119Z"
   },
   {
    "duration": -1372,
    "start_time": "2022-01-25T13:03:52.135Z"
   },
   {
    "duration": -1405,
    "start_time": "2022-01-25T13:03:52.169Z"
   },
   {
    "duration": -1421,
    "start_time": "2022-01-25T13:03:52.186Z"
   },
   {
    "duration": -1452,
    "start_time": "2022-01-25T13:03:52.218Z"
   },
   {
    "duration": 16,
    "start_time": "2022-01-25T13:05:04.316Z"
   },
   {
    "duration": 248,
    "start_time": "2022-01-25T13:05:06.782Z"
   },
   {
    "duration": 264,
    "start_time": "2022-01-25T13:05:13.416Z"
   },
   {
    "duration": 251,
    "start_time": "2022-01-25T13:07:51.791Z"
   },
   {
    "duration": 25,
    "start_time": "2022-01-25T13:09:47.631Z"
   },
   {
    "duration": 18,
    "start_time": "2022-01-25T13:10:32.448Z"
   },
   {
    "duration": 3,
    "start_time": "2022-01-25T13:10:54.559Z"
   },
   {
    "duration": 21,
    "start_time": "2022-01-25T13:10:54.565Z"
   },
   {
    "duration": 415,
    "start_time": "2022-01-25T13:10:54.588Z"
   },
   {
    "duration": 4,
    "start_time": "2022-01-25T13:10:55.005Z"
   },
   {
    "duration": 212,
    "start_time": "2022-01-25T13:10:55.011Z"
   },
   {
    "duration": 147,
    "start_time": "2022-01-25T13:10:55.225Z"
   },
   {
    "duration": 6,
    "start_time": "2022-01-25T13:10:55.374Z"
   },
   {
    "duration": 9,
    "start_time": "2022-01-25T13:10:55.381Z"
   },
   {
    "duration": 127,
    "start_time": "2022-01-25T13:10:55.392Z"
   },
   {
    "duration": 52,
    "start_time": "2022-01-25T13:10:55.521Z"
   },
   {
    "duration": 29,
    "start_time": "2022-01-25T13:10:55.575Z"
   },
   {
    "duration": 12,
    "start_time": "2022-01-25T13:10:55.605Z"
   },
   {
    "duration": 15,
    "start_time": "2022-01-25T13:10:55.619Z"
   },
   {
    "duration": 11,
    "start_time": "2022-01-25T13:10:55.661Z"
   },
   {
    "duration": 52,
    "start_time": "2022-01-25T13:10:55.675Z"
   },
   {
    "duration": 57,
    "start_time": "2022-01-25T13:10:55.730Z"
   },
   {
    "duration": 39,
    "start_time": "2022-01-25T13:10:55.788Z"
   },
   {
    "duration": 4,
    "start_time": "2022-01-25T13:10:55.829Z"
   },
   {
    "duration": 64,
    "start_time": "2022-01-25T13:10:55.835Z"
   },
   {
    "duration": 26,
    "start_time": "2022-01-25T13:10:55.901Z"
   },
   {
    "duration": 32,
    "start_time": "2022-01-25T13:10:55.929Z"
   },
   {
    "duration": 5,
    "start_time": "2022-01-25T13:10:55.963Z"
   },
   {
    "duration": 14,
    "start_time": "2022-01-25T13:10:55.970Z"
   },
   {
    "duration": 12,
    "start_time": "2022-01-25T13:10:55.986Z"
   },
   {
    "duration": 2,
    "start_time": "2022-01-25T13:10:56.000Z"
   },
   {
    "duration": 13,
    "start_time": "2022-01-25T13:10:56.004Z"
   },
   {
    "duration": 11,
    "start_time": "2022-01-25T13:10:56.021Z"
   },
   {
    "duration": 36,
    "start_time": "2022-01-25T13:10:56.034Z"
   },
   {
    "duration": 30,
    "start_time": "2022-01-25T13:10:56.071Z"
   },
   {
    "duration": 4,
    "start_time": "2022-01-25T13:10:56.103Z"
   },
   {
    "duration": 11,
    "start_time": "2022-01-25T13:10:56.109Z"
   },
   {
    "duration": 15,
    "start_time": "2022-01-25T13:10:56.122Z"
   },
   {
    "duration": 29,
    "start_time": "2022-01-25T13:10:56.139Z"
   },
   {
    "duration": 21,
    "start_time": "2022-01-25T13:10:56.170Z"
   },
   {
    "duration": 12,
    "start_time": "2022-01-25T13:10:56.193Z"
   },
   {
    "duration": 34,
    "start_time": "2022-01-25T13:10:56.206Z"
   },
   {
    "duration": 36,
    "start_time": "2022-01-25T13:10:56.241Z"
   },
   {
    "duration": 22,
    "start_time": "2022-01-25T13:10:56.279Z"
   },
   {
    "duration": 50,
    "start_time": "2022-01-25T13:10:56.303Z"
   },
   {
    "duration": 31,
    "start_time": "2022-01-25T13:10:56.355Z"
   },
   {
    "duration": 13,
    "start_time": "2022-01-25T13:10:56.388Z"
   },
   {
    "duration": 394,
    "start_time": "2022-01-25T13:10:56.402Z"
   },
   {
    "duration": 8,
    "start_time": "2022-01-25T13:10:56.798Z"
   },
   {
    "duration": 39,
    "start_time": "2022-01-25T13:10:56.807Z"
   },
   {
    "duration": 37,
    "start_time": "2022-01-25T13:10:56.848Z"
   },
   {
    "duration": 30,
    "start_time": "2022-01-25T13:10:56.887Z"
   },
   {
    "duration": 23,
    "start_time": "2022-01-25T13:10:56.918Z"
   },
   {
    "duration": 737,
    "start_time": "2022-01-25T13:10:56.943Z"
   },
   {
    "duration": -152,
    "start_time": "2022-01-25T13:10:57.834Z"
   },
   {
    "duration": -195,
    "start_time": "2022-01-25T13:10:57.878Z"
   },
   {
    "duration": -231,
    "start_time": "2022-01-25T13:10:57.915Z"
   },
   {
    "duration": -258,
    "start_time": "2022-01-25T13:10:57.943Z"
   },
   {
    "duration": -293,
    "start_time": "2022-01-25T13:10:57.979Z"
   },
   {
    "duration": -319,
    "start_time": "2022-01-25T13:10:58.006Z"
   },
   {
    "duration": -357,
    "start_time": "2022-01-25T13:10:58.045Z"
   },
   {
    "duration": -390,
    "start_time": "2022-01-25T13:10:58.078Z"
   },
   {
    "duration": -425,
    "start_time": "2022-01-25T13:10:58.114Z"
   },
   {
    "duration": -441,
    "start_time": "2022-01-25T13:10:58.131Z"
   },
   {
    "duration": 26,
    "start_time": "2022-01-25T13:11:46.358Z"
   },
   {
    "duration": 7,
    "start_time": "2022-01-25T13:13:00.433Z"
   },
   {
    "duration": 275,
    "start_time": "2022-01-25T13:23:31.832Z"
   },
   {
    "duration": 88,
    "start_time": "2022-01-25T13:24:48.828Z"
   },
   {
    "duration": 105,
    "start_time": "2022-01-25T13:25:01.890Z"
   },
   {
    "duration": 83,
    "start_time": "2022-01-25T13:27:57.540Z"
   },
   {
    "duration": 276,
    "start_time": "2022-01-25T13:28:13.157Z"
   },
   {
    "duration": 6,
    "start_time": "2022-01-25T13:46:31.144Z"
   },
   {
    "duration": 26,
    "start_time": "2022-01-25T13:46:45.939Z"
   },
   {
    "duration": 5,
    "start_time": "2022-01-25T13:47:11.826Z"
   },
   {
    "duration": 4,
    "start_time": "2022-01-25T13:47:29.671Z"
   },
   {
    "duration": 26,
    "start_time": "2022-01-25T13:47:29.681Z"
   },
   {
    "duration": 438,
    "start_time": "2022-01-25T13:47:29.709Z"
   },
   {
    "duration": 4,
    "start_time": "2022-01-25T13:47:30.150Z"
   },
   {
    "duration": 259,
    "start_time": "2022-01-25T13:47:30.157Z"
   },
   {
    "duration": 173,
    "start_time": "2022-01-25T13:47:30.418Z"
   },
   {
    "duration": 6,
    "start_time": "2022-01-25T13:47:30.593Z"
   },
   {
    "duration": 38,
    "start_time": "2022-01-25T13:47:30.601Z"
   },
   {
    "duration": 145,
    "start_time": "2022-01-25T13:47:30.643Z"
   },
   {
    "duration": 36,
    "start_time": "2022-01-25T13:47:30.791Z"
   },
   {
    "duration": 53,
    "start_time": "2022-01-25T13:47:30.829Z"
   },
   {
    "duration": 14,
    "start_time": "2022-01-25T13:47:30.884Z"
   },
   {
    "duration": 39,
    "start_time": "2022-01-25T13:47:30.900Z"
   },
   {
    "duration": 34,
    "start_time": "2022-01-25T13:47:30.941Z"
   },
   {
    "duration": 76,
    "start_time": "2022-01-25T13:47:30.977Z"
   },
   {
    "duration": 33,
    "start_time": "2022-01-25T13:47:31.055Z"
   },
   {
    "duration": 40,
    "start_time": "2022-01-25T13:47:31.090Z"
   },
   {
    "duration": 4,
    "start_time": "2022-01-25T13:47:31.132Z"
   },
   {
    "duration": 68,
    "start_time": "2022-01-25T13:47:31.137Z"
   },
   {
    "duration": 25,
    "start_time": "2022-01-25T13:47:31.207Z"
   },
   {
    "duration": 32,
    "start_time": "2022-01-25T13:47:31.234Z"
   },
   {
    "duration": 9,
    "start_time": "2022-01-25T13:47:31.268Z"
   },
   {
    "duration": 27,
    "start_time": "2022-01-25T13:47:31.279Z"
   },
   {
    "duration": 30,
    "start_time": "2022-01-25T13:47:31.311Z"
   },
   {
    "duration": 6,
    "start_time": "2022-01-25T13:47:31.343Z"
   },
   {
    "duration": 20,
    "start_time": "2022-01-25T13:47:31.351Z"
   },
   {
    "duration": 33,
    "start_time": "2022-01-25T13:47:31.372Z"
   },
   {
    "duration": 18,
    "start_time": "2022-01-25T13:47:31.406Z"
   },
   {
    "duration": 45,
    "start_time": "2022-01-25T13:47:31.426Z"
   },
   {
    "duration": 10,
    "start_time": "2022-01-25T13:47:31.473Z"
   },
   {
    "duration": 27,
    "start_time": "2022-01-25T13:47:31.485Z"
   },
   {
    "duration": 42,
    "start_time": "2022-01-25T13:47:31.514Z"
   },
   {
    "duration": 31,
    "start_time": "2022-01-25T13:47:31.558Z"
   },
   {
    "duration": 25,
    "start_time": "2022-01-25T13:47:31.591Z"
   },
   {
    "duration": 42,
    "start_time": "2022-01-25T13:47:31.618Z"
   },
   {
    "duration": 46,
    "start_time": "2022-01-25T13:47:31.662Z"
   },
   {
    "duration": 55,
    "start_time": "2022-01-25T13:47:31.710Z"
   },
   {
    "duration": 42,
    "start_time": "2022-01-25T13:47:31.767Z"
   },
   {
    "duration": 39,
    "start_time": "2022-01-25T13:47:31.811Z"
   },
   {
    "duration": 58,
    "start_time": "2022-01-25T13:47:31.851Z"
   },
   {
    "duration": 34,
    "start_time": "2022-01-25T13:47:31.911Z"
   },
   {
    "duration": 34,
    "start_time": "2022-01-25T13:47:31.947Z"
   },
   {
    "duration": 23,
    "start_time": "2022-01-25T13:47:31.983Z"
   },
   {
    "duration": 440,
    "start_time": "2022-01-25T13:47:32.007Z"
   },
   {
    "duration": 12,
    "start_time": "2022-01-25T13:47:32.449Z"
   },
   {
    "duration": 41,
    "start_time": "2022-01-25T13:47:32.463Z"
   },
   {
    "duration": 33,
    "start_time": "2022-01-25T13:47:32.506Z"
   },
   {
    "duration": 33,
    "start_time": "2022-01-25T13:47:32.541Z"
   },
   {
    "duration": 45,
    "start_time": "2022-01-25T13:47:32.576Z"
   },
   {
    "duration": 306,
    "start_time": "2022-01-25T13:47:32.622Z"
   },
   {
    "duration": 267,
    "start_time": "2022-01-25T13:47:32.930Z"
   },
   {
    "duration": 236,
    "start_time": "2022-01-25T13:47:33.199Z"
   },
   {
    "duration": 267,
    "start_time": "2022-01-25T13:47:33.437Z"
   },
   {
    "duration": 8,
    "start_time": "2022-01-25T13:47:33.706Z"
   },
   {
    "duration": 40,
    "start_time": "2022-01-25T13:47:33.716Z"
   },
   {
    "duration": 312,
    "start_time": "2022-01-25T13:47:33.758Z"
   },
   {
    "duration": 8,
    "start_time": "2022-01-25T13:47:34.071Z"
   },
   {
    "duration": 17,
    "start_time": "2022-01-25T13:47:34.081Z"
   },
   {
    "duration": 33,
    "start_time": "2022-01-25T13:47:34.100Z"
   },
   {
    "duration": 409,
    "start_time": "2022-01-25T13:47:34.134Z"
   },
   {
    "duration": 7,
    "start_time": "2022-01-25T13:54:11.791Z"
   },
   {
    "duration": 6,
    "start_time": "2022-01-25T13:56:50.713Z"
   },
   {
    "duration": 278,
    "start_time": "2022-01-25T13:56:54.608Z"
   },
   {
    "duration": 6,
    "start_time": "2022-01-25T14:00:41.819Z"
   },
   {
    "duration": 286,
    "start_time": "2022-01-25T14:00:44.579Z"
   },
   {
    "duration": 6,
    "start_time": "2022-01-25T14:01:21.876Z"
   },
   {
    "duration": 260,
    "start_time": "2022-01-25T14:01:26.291Z"
   },
   {
    "duration": 7,
    "start_time": "2022-01-25T14:03:44.224Z"
   },
   {
    "duration": 302,
    "start_time": "2022-01-25T14:03:46.638Z"
   },
   {
    "duration": 4,
    "start_time": "2022-01-25T14:05:16.583Z"
   },
   {
    "duration": 25,
    "start_time": "2022-01-25T14:05:16.598Z"
   },
   {
    "duration": 406,
    "start_time": "2022-01-25T14:05:16.728Z"
   },
   {
    "duration": 4,
    "start_time": "2022-01-25T14:05:17.136Z"
   },
   {
    "duration": 279,
    "start_time": "2022-01-25T14:05:17.142Z"
   },
   {
    "duration": 165,
    "start_time": "2022-01-25T14:05:17.423Z"
   },
   {
    "duration": 6,
    "start_time": "2022-01-25T14:05:17.589Z"
   },
   {
    "duration": 48,
    "start_time": "2022-01-25T14:05:17.596Z"
   },
   {
    "duration": 147,
    "start_time": "2022-01-25T14:05:17.646Z"
   },
   {
    "duration": 35,
    "start_time": "2022-01-25T14:05:17.794Z"
   },
   {
    "duration": 55,
    "start_time": "2022-01-25T14:05:17.832Z"
   },
   {
    "duration": 16,
    "start_time": "2022-01-25T14:05:17.890Z"
   },
   {
    "duration": 61,
    "start_time": "2022-01-25T14:05:17.908Z"
   },
   {
    "duration": 35,
    "start_time": "2022-01-25T14:05:17.971Z"
   },
   {
    "duration": 60,
    "start_time": "2022-01-25T14:05:18.008Z"
   },
   {
    "duration": 32,
    "start_time": "2022-01-25T14:05:18.070Z"
   },
   {
    "duration": 41,
    "start_time": "2022-01-25T14:05:18.104Z"
   },
   {
    "duration": 14,
    "start_time": "2022-01-25T14:05:18.147Z"
   },
   {
    "duration": 82,
    "start_time": "2022-01-25T14:05:18.163Z"
   },
   {
    "duration": 29,
    "start_time": "2022-01-25T14:05:18.247Z"
   },
   {
    "duration": 29,
    "start_time": "2022-01-25T14:05:18.277Z"
   },
   {
    "duration": 17,
    "start_time": "2022-01-25T14:05:18.308Z"
   },
   {
    "duration": 36,
    "start_time": "2022-01-25T14:05:18.327Z"
   },
   {
    "duration": 63,
    "start_time": "2022-01-25T14:05:18.365Z"
   },
   {
    "duration": 33,
    "start_time": "2022-01-25T14:05:18.430Z"
   },
   {
    "duration": 32,
    "start_time": "2022-01-25T14:05:18.465Z"
   },
   {
    "duration": 36,
    "start_time": "2022-01-25T14:05:18.499Z"
   },
   {
    "duration": 35,
    "start_time": "2022-01-25T14:05:18.536Z"
   },
   {
    "duration": 42,
    "start_time": "2022-01-25T14:05:18.575Z"
   },
   {
    "duration": 27,
    "start_time": "2022-01-25T14:05:18.619Z"
   },
   {
    "duration": 29,
    "start_time": "2022-01-25T14:05:18.648Z"
   },
   {
    "duration": 49,
    "start_time": "2022-01-25T14:05:18.679Z"
   },
   {
    "duration": 42,
    "start_time": "2022-01-25T14:05:18.730Z"
   },
   {
    "duration": 40,
    "start_time": "2022-01-25T14:05:18.774Z"
   },
   {
    "duration": 35,
    "start_time": "2022-01-25T14:05:18.815Z"
   },
   {
    "duration": 41,
    "start_time": "2022-01-25T14:05:18.852Z"
   },
   {
    "duration": 34,
    "start_time": "2022-01-25T14:05:18.894Z"
   },
   {
    "duration": 39,
    "start_time": "2022-01-25T14:05:18.929Z"
   },
   {
    "duration": 25,
    "start_time": "2022-01-25T14:05:18.970Z"
   },
   {
    "duration": 71,
    "start_time": "2022-01-25T14:05:18.997Z"
   },
   {
    "duration": 28,
    "start_time": "2022-01-25T14:05:19.070Z"
   },
   {
    "duration": 51,
    "start_time": "2022-01-25T14:05:19.099Z"
   },
   {
    "duration": 44,
    "start_time": "2022-01-25T14:05:19.152Z"
   },
   {
    "duration": 455,
    "start_time": "2022-01-25T14:05:19.198Z"
   },
   {
    "duration": 10,
    "start_time": "2022-01-25T14:05:19.656Z"
   },
   {
    "duration": 39,
    "start_time": "2022-01-25T14:05:19.668Z"
   },
   {
    "duration": 39,
    "start_time": "2022-01-25T14:05:19.709Z"
   },
   {
    "duration": 23,
    "start_time": "2022-01-25T14:05:19.750Z"
   },
   {
    "duration": 47,
    "start_time": "2022-01-25T14:05:19.775Z"
   },
   {
    "duration": 300,
    "start_time": "2022-01-25T14:05:19.824Z"
   },
   {
    "duration": 370,
    "start_time": "2022-01-25T14:05:20.125Z"
   },
   {
    "duration": 263,
    "start_time": "2022-01-25T14:05:20.497Z"
   },
   {
    "duration": 299,
    "start_time": "2022-01-25T14:05:20.762Z"
   },
   {
    "duration": 8,
    "start_time": "2022-01-25T14:05:21.063Z"
   },
   {
    "duration": 63,
    "start_time": "2022-01-25T14:05:21.073Z"
   },
   {
    "duration": 334,
    "start_time": "2022-01-25T14:05:21.138Z"
   },
   {
    "duration": 8,
    "start_time": "2022-01-25T14:05:21.474Z"
   },
   {
    "duration": 31,
    "start_time": "2022-01-25T14:05:21.484Z"
   },
   {
    "duration": 38,
    "start_time": "2022-01-25T14:05:21.517Z"
   },
   {
    "duration": 306,
    "start_time": "2022-01-25T14:05:21.556Z"
   },
   {
    "duration": 6,
    "start_time": "2022-01-25T14:09:09.149Z"
   },
   {
    "duration": 295,
    "start_time": "2022-01-25T14:09:11.985Z"
   },
   {
    "duration": 7,
    "start_time": "2022-01-25T14:09:58.736Z"
   },
   {
    "duration": 303,
    "start_time": "2022-01-25T14:10:04.436Z"
   },
   {
    "duration": 109,
    "start_time": "2022-01-25T14:10:47.577Z"
   },
   {
    "duration": 394,
    "start_time": "2022-01-25T14:10:49.896Z"
   },
   {
    "duration": 7,
    "start_time": "2022-01-25T14:11:40.665Z"
   },
   {
    "duration": 377,
    "start_time": "2022-01-25T14:11:43.513Z"
   },
   {
    "duration": 7,
    "start_time": "2022-01-25T14:18:26.552Z"
   },
   {
    "duration": 305,
    "start_time": "2022-01-25T14:18:28.864Z"
   },
   {
    "duration": 6,
    "start_time": "2022-01-25T14:19:27.661Z"
   },
   {
    "duration": 302,
    "start_time": "2022-01-25T14:19:30.433Z"
   },
   {
    "duration": 5,
    "start_time": "2022-01-25T14:19:53.449Z"
   },
   {
    "duration": 15,
    "start_time": "2022-01-25T14:19:53.460Z"
   },
   {
    "duration": 459,
    "start_time": "2022-01-25T14:19:53.477Z"
   },
   {
    "duration": 4,
    "start_time": "2022-01-25T14:19:53.939Z"
   },
   {
    "duration": 334,
    "start_time": "2022-01-25T14:19:53.945Z"
   },
   {
    "duration": 164,
    "start_time": "2022-01-25T14:19:54.280Z"
   },
   {
    "duration": 14,
    "start_time": "2022-01-25T14:19:54.446Z"
   },
   {
    "duration": 29,
    "start_time": "2022-01-25T14:19:54.463Z"
   },
   {
    "duration": 123,
    "start_time": "2022-01-25T14:19:54.494Z"
   },
   {
    "duration": 50,
    "start_time": "2022-01-25T14:19:54.619Z"
   },
   {
    "duration": 33,
    "start_time": "2022-01-25T14:19:54.671Z"
   },
   {
    "duration": 12,
    "start_time": "2022-01-25T14:19:54.706Z"
   },
   {
    "duration": 45,
    "start_time": "2022-01-25T14:19:54.720Z"
   },
   {
    "duration": 35,
    "start_time": "2022-01-25T14:19:54.767Z"
   },
   {
    "duration": 69,
    "start_time": "2022-01-25T14:19:54.805Z"
   },
   {
    "duration": 38,
    "start_time": "2022-01-25T14:19:54.876Z"
   },
   {
    "duration": 47,
    "start_time": "2022-01-25T14:19:54.916Z"
   },
   {
    "duration": 4,
    "start_time": "2022-01-25T14:19:54.965Z"
   },
   {
    "duration": 53,
    "start_time": "2022-01-25T14:19:54.971Z"
   },
   {
    "duration": 41,
    "start_time": "2022-01-25T14:19:55.029Z"
   },
   {
    "duration": 21,
    "start_time": "2022-01-25T14:19:55.073Z"
   },
   {
    "duration": 6,
    "start_time": "2022-01-25T14:19:55.096Z"
   },
   {
    "duration": 18,
    "start_time": "2022-01-25T14:19:55.104Z"
   },
   {
    "duration": 43,
    "start_time": "2022-01-25T14:19:55.124Z"
   },
   {
    "duration": 4,
    "start_time": "2022-01-25T14:19:55.169Z"
   },
   {
    "duration": 7,
    "start_time": "2022-01-25T14:19:55.175Z"
   },
   {
    "duration": 17,
    "start_time": "2022-01-25T14:19:55.185Z"
   },
   {
    "duration": 14,
    "start_time": "2022-01-25T14:19:55.204Z"
   },
   {
    "duration": 58,
    "start_time": "2022-01-25T14:19:55.220Z"
   },
   {
    "duration": 4,
    "start_time": "2022-01-25T14:19:55.280Z"
   },
   {
    "duration": 6,
    "start_time": "2022-01-25T14:19:55.286Z"
   },
   {
    "duration": 12,
    "start_time": "2022-01-25T14:19:55.293Z"
   },
   {
    "duration": 7,
    "start_time": "2022-01-25T14:19:55.307Z"
   },
   {
    "duration": 11,
    "start_time": "2022-01-25T14:19:55.316Z"
   },
   {
    "duration": 34,
    "start_time": "2022-01-25T14:19:55.329Z"
   },
   {
    "duration": 17,
    "start_time": "2022-01-25T14:19:55.365Z"
   },
   {
    "duration": 18,
    "start_time": "2022-01-25T14:19:55.384Z"
   },
   {
    "duration": 8,
    "start_time": "2022-01-25T14:19:55.404Z"
   },
   {
    "duration": 7,
    "start_time": "2022-01-25T14:19:55.414Z"
   },
   {
    "duration": 58,
    "start_time": "2022-01-25T14:19:55.423Z"
   },
   {
    "duration": 4,
    "start_time": "2022-01-25T14:19:55.484Z"
   },
   {
    "duration": 6,
    "start_time": "2022-01-25T14:19:55.490Z"
   },
   {
    "duration": 7,
    "start_time": "2022-01-25T14:19:55.499Z"
   },
   {
    "duration": 406,
    "start_time": "2022-01-25T14:19:55.508Z"
   },
   {
    "duration": 9,
    "start_time": "2022-01-25T14:19:55.916Z"
   },
   {
    "duration": 33,
    "start_time": "2022-01-25T14:19:55.927Z"
   },
   {
    "duration": 16,
    "start_time": "2022-01-25T14:19:55.962Z"
   },
   {
    "duration": 10,
    "start_time": "2022-01-25T14:19:55.981Z"
   },
   {
    "duration": 13,
    "start_time": "2022-01-25T14:19:55.993Z"
   },
   {
    "duration": 306,
    "start_time": "2022-01-25T14:19:56.008Z"
   },
   {
    "duration": 425,
    "start_time": "2022-01-25T14:19:56.316Z"
   },
   {
    "duration": 353,
    "start_time": "2022-01-25T14:19:56.743Z"
   },
   {
    "duration": 291,
    "start_time": "2022-01-25T14:19:57.098Z"
   },
   {
    "duration": 8,
    "start_time": "2022-01-25T14:19:57.392Z"
   },
   {
    "duration": 11,
    "start_time": "2022-01-25T14:19:57.401Z"
   },
   {
    "duration": 346,
    "start_time": "2022-01-25T14:19:57.416Z"
   },
   {
    "duration": 9,
    "start_time": "2022-01-25T14:19:57.764Z"
   },
   {
    "duration": 5,
    "start_time": "2022-01-25T14:19:57.775Z"
   },
   {
    "duration": 7,
    "start_time": "2022-01-25T14:19:57.781Z"
   },
   {
    "duration": 339,
    "start_time": "2022-01-25T14:19:57.790Z"
   },
   {
    "duration": 3,
    "start_time": "2022-01-25T14:20:40.648Z"
   },
   {
    "duration": 15,
    "start_time": "2022-01-25T14:20:40.662Z"
   },
   {
    "duration": 433,
    "start_time": "2022-01-25T14:20:40.679Z"
   },
   {
    "duration": 3,
    "start_time": "2022-01-25T14:20:41.115Z"
   },
   {
    "duration": 272,
    "start_time": "2022-01-25T14:20:41.121Z"
   },
   {
    "duration": 238,
    "start_time": "2022-01-25T14:20:41.395Z"
   },
   {
    "duration": 7,
    "start_time": "2022-01-25T14:20:41.636Z"
   },
   {
    "duration": 25,
    "start_time": "2022-01-25T14:20:41.661Z"
   },
   {
    "duration": 147,
    "start_time": "2022-01-25T14:20:41.688Z"
   },
   {
    "duration": 60,
    "start_time": "2022-01-25T14:20:41.838Z"
   },
   {
    "duration": 42,
    "start_time": "2022-01-25T14:20:41.902Z"
   },
   {
    "duration": 13,
    "start_time": "2022-01-25T14:20:41.960Z"
   },
   {
    "duration": 42,
    "start_time": "2022-01-25T14:20:41.975Z"
   },
   {
    "duration": 45,
    "start_time": "2022-01-25T14:20:42.019Z"
   },
   {
    "duration": 74,
    "start_time": "2022-01-25T14:20:42.066Z"
   },
   {
    "duration": 34,
    "start_time": "2022-01-25T14:20:42.142Z"
   },
   {
    "duration": 38,
    "start_time": "2022-01-25T14:20:42.178Z"
   },
   {
    "duration": 4,
    "start_time": "2022-01-25T14:20:42.218Z"
   },
   {
    "duration": 78,
    "start_time": "2022-01-25T14:20:42.223Z"
   },
   {
    "duration": 25,
    "start_time": "2022-01-25T14:20:42.303Z"
   },
   {
    "duration": 23,
    "start_time": "2022-01-25T14:20:42.330Z"
   },
   {
    "duration": 46,
    "start_time": "2022-01-25T14:20:42.355Z"
   },
   {
    "duration": 38,
    "start_time": "2022-01-25T14:20:42.403Z"
   },
   {
    "duration": 28,
    "start_time": "2022-01-25T14:20:42.443Z"
   },
   {
    "duration": 33,
    "start_time": "2022-01-25T14:20:42.473Z"
   },
   {
    "duration": 60,
    "start_time": "2022-01-25T14:20:42.508Z"
   },
   {
    "duration": 59,
    "start_time": "2022-01-25T14:20:42.570Z"
   },
   {
    "duration": 27,
    "start_time": "2022-01-25T14:20:42.634Z"
   },
   {
    "duration": 51,
    "start_time": "2022-01-25T14:20:42.664Z"
   },
   {
    "duration": 17,
    "start_time": "2022-01-25T14:20:42.718Z"
   },
   {
    "duration": 31,
    "start_time": "2022-01-25T14:20:42.737Z"
   },
   {
    "duration": 39,
    "start_time": "2022-01-25T14:20:42.770Z"
   },
   {
    "duration": 27,
    "start_time": "2022-01-25T14:20:42.810Z"
   },
   {
    "duration": 36,
    "start_time": "2022-01-25T14:20:42.839Z"
   },
   {
    "duration": 27,
    "start_time": "2022-01-25T14:20:42.877Z"
   },
   {
    "duration": 49,
    "start_time": "2022-01-25T14:20:42.907Z"
   },
   {
    "duration": 54,
    "start_time": "2022-01-25T14:20:42.959Z"
   },
   {
    "duration": 42,
    "start_time": "2022-01-25T14:20:43.014Z"
   },
   {
    "duration": 46,
    "start_time": "2022-01-25T14:20:43.058Z"
   },
   {
    "duration": 74,
    "start_time": "2022-01-25T14:20:43.107Z"
   },
   {
    "duration": 47,
    "start_time": "2022-01-25T14:20:43.183Z"
   },
   {
    "duration": 39,
    "start_time": "2022-01-25T14:20:43.233Z"
   },
   {
    "duration": 20,
    "start_time": "2022-01-25T14:20:43.274Z"
   },
   {
    "duration": 739,
    "start_time": "2022-01-25T14:20:43.296Z"
   },
   {
    "duration": 11,
    "start_time": "2022-01-25T14:20:44.037Z"
   },
   {
    "duration": 36,
    "start_time": "2022-01-25T14:20:44.061Z"
   },
   {
    "duration": 46,
    "start_time": "2022-01-25T14:20:44.099Z"
   },
   {
    "duration": 37,
    "start_time": "2022-01-25T14:20:44.147Z"
   },
   {
    "duration": 54,
    "start_time": "2022-01-25T14:20:44.186Z"
   },
   {
    "duration": 329,
    "start_time": "2022-01-25T14:20:44.242Z"
   },
   {
    "duration": 302,
    "start_time": "2022-01-25T14:20:44.573Z"
   },
   {
    "duration": 378,
    "start_time": "2022-01-25T14:20:44.877Z"
   },
   {
    "duration": 474,
    "start_time": "2022-01-25T14:20:45.258Z"
   },
   {
    "duration": 9,
    "start_time": "2022-01-25T14:20:45.734Z"
   },
   {
    "duration": 25,
    "start_time": "2022-01-25T14:20:45.760Z"
   },
   {
    "duration": 498,
    "start_time": "2022-01-25T14:20:45.787Z"
   },
   {
    "duration": 11,
    "start_time": "2022-01-25T14:20:46.288Z"
   },
   {
    "duration": 39,
    "start_time": "2022-01-25T14:20:46.301Z"
   },
   {
    "duration": 39,
    "start_time": "2022-01-25T14:20:46.342Z"
   },
   {
    "duration": 369,
    "start_time": "2022-01-25T14:20:46.383Z"
   },
   {
    "duration": 26,
    "start_time": "2022-01-25T14:34:43.018Z"
   },
   {
    "duration": 25,
    "start_time": "2022-01-25T14:35:13.050Z"
   },
   {
    "duration": 7,
    "start_time": "2022-01-25T14:35:42.226Z"
   },
   {
    "duration": 6,
    "start_time": "2022-01-25T14:36:30.203Z"
   },
   {
    "duration": 6,
    "start_time": "2022-01-25T14:38:55.491Z"
   },
   {
    "duration": 8,
    "start_time": "2022-01-25T14:40:49.226Z"
   },
   {
    "duration": 1190,
    "start_time": "2022-01-25T14:51:04.459Z"
   },
   {
    "duration": 4,
    "start_time": "2022-01-25T14:51:05.651Z"
   },
   {
    "duration": 452,
    "start_time": "2022-01-25T14:51:05.656Z"
   },
   {
    "duration": 3,
    "start_time": "2022-01-25T14:51:06.110Z"
   },
   {
    "duration": 256,
    "start_time": "2022-01-25T14:51:06.116Z"
   },
   {
    "duration": 167,
    "start_time": "2022-01-25T14:51:06.374Z"
   },
   {
    "duration": 20,
    "start_time": "2022-01-25T14:51:06.544Z"
   },
   {
    "duration": 11,
    "start_time": "2022-01-25T14:51:06.567Z"
   },
   {
    "duration": 112,
    "start_time": "2022-01-25T14:51:06.581Z"
   },
   {
    "duration": 36,
    "start_time": "2022-01-25T14:51:06.695Z"
   },
   {
    "duration": 53,
    "start_time": "2022-01-25T14:51:06.733Z"
   },
   {
    "duration": 17,
    "start_time": "2022-01-25T14:51:06.788Z"
   },
   {
    "duration": 34,
    "start_time": "2022-01-25T14:51:06.807Z"
   },
   {
    "duration": 23,
    "start_time": "2022-01-25T14:51:06.843Z"
   },
   {
    "duration": 80,
    "start_time": "2022-01-25T14:51:06.868Z"
   },
   {
    "duration": 33,
    "start_time": "2022-01-25T14:51:06.950Z"
   },
   {
    "duration": 41,
    "start_time": "2022-01-25T14:51:06.986Z"
   },
   {
    "duration": 4,
    "start_time": "2022-01-25T14:51:07.029Z"
   },
   {
    "duration": 78,
    "start_time": "2022-01-25T14:51:07.035Z"
   },
   {
    "duration": 28,
    "start_time": "2022-01-25T14:51:07.115Z"
   },
   {
    "duration": 31,
    "start_time": "2022-01-25T14:51:07.145Z"
   },
   {
    "duration": 23,
    "start_time": "2022-01-25T14:51:07.178Z"
   },
   {
    "duration": 24,
    "start_time": "2022-01-25T14:51:07.205Z"
   },
   {
    "duration": 30,
    "start_time": "2022-01-25T14:51:07.232Z"
   },
   {
    "duration": 10,
    "start_time": "2022-01-25T14:51:07.264Z"
   },
   {
    "duration": 42,
    "start_time": "2022-01-25T14:51:07.275Z"
   },
   {
    "duration": 23,
    "start_time": "2022-01-25T14:51:07.318Z"
   },
   {
    "duration": 22,
    "start_time": "2022-01-25T14:51:07.343Z"
   },
   {
    "duration": 50,
    "start_time": "2022-01-25T14:51:07.366Z"
   },
   {
    "duration": 5,
    "start_time": "2022-01-25T14:51:07.418Z"
   },
   {
    "duration": 19,
    "start_time": "2022-01-25T14:51:07.425Z"
   },
   {
    "duration": 37,
    "start_time": "2022-01-25T14:51:07.446Z"
   },
   {
    "duration": 23,
    "start_time": "2022-01-25T14:51:07.484Z"
   },
   {
    "duration": 24,
    "start_time": "2022-01-25T14:51:07.508Z"
   },
   {
    "duration": 25,
    "start_time": "2022-01-25T14:51:07.534Z"
   },
   {
    "duration": 37,
    "start_time": "2022-01-25T14:51:07.560Z"
   },
   {
    "duration": 36,
    "start_time": "2022-01-25T14:51:07.599Z"
   },
   {
    "duration": 43,
    "start_time": "2022-01-25T14:51:07.637Z"
   },
   {
    "duration": 34,
    "start_time": "2022-01-25T14:51:07.682Z"
   },
   {
    "duration": 47,
    "start_time": "2022-01-25T14:51:07.717Z"
   },
   {
    "duration": 18,
    "start_time": "2022-01-25T14:51:07.767Z"
   },
   {
    "duration": 39,
    "start_time": "2022-01-25T14:51:07.787Z"
   },
   {
    "duration": 21,
    "start_time": "2022-01-25T14:51:07.828Z"
   },
   {
    "duration": 396,
    "start_time": "2022-01-25T14:51:07.851Z"
   },
   {
    "duration": 15,
    "start_time": "2022-01-25T14:51:08.249Z"
   },
   {
    "duration": 42,
    "start_time": "2022-01-25T14:51:08.266Z"
   },
   {
    "duration": 26,
    "start_time": "2022-01-25T14:51:08.310Z"
   },
   {
    "duration": 26,
    "start_time": "2022-01-25T14:51:08.338Z"
   },
   {
    "duration": 32,
    "start_time": "2022-01-25T14:51:08.366Z"
   },
   {
    "duration": 298,
    "start_time": "2022-01-25T14:51:08.400Z"
   },
   {
    "duration": 270,
    "start_time": "2022-01-25T14:51:08.700Z"
   },
   {
    "duration": 248,
    "start_time": "2022-01-25T14:51:08.971Z"
   },
   {
    "duration": 274,
    "start_time": "2022-01-25T14:51:09.221Z"
   },
   {
    "duration": 26,
    "start_time": "2022-01-25T14:51:09.496Z"
   },
   {
    "duration": 22,
    "start_time": "2022-01-25T14:51:09.523Z"
   },
   {
    "duration": 55,
    "start_time": "2022-01-25T14:51:09.547Z"
   },
   {
    "duration": 427,
    "start_time": "2022-01-25T14:51:09.604Z"
   },
   {
    "duration": 10,
    "start_time": "2022-01-25T14:51:10.033Z"
   },
   {
    "duration": 62,
    "start_time": "2022-01-25T14:51:10.045Z"
   },
   {
    "duration": 42,
    "start_time": "2022-01-25T14:51:10.110Z"
   },
   {
    "duration": 291,
    "start_time": "2022-01-25T14:51:10.155Z"
   },
   {
    "duration": 272,
    "start_time": "2022-01-25T15:17:53.093Z"
   },
   {
    "duration": 317,
    "start_time": "2022-01-25T15:20:08.626Z"
   },
   {
    "duration": 314,
    "start_time": "2022-01-25T15:31:42.767Z"
   },
   {
    "duration": 1205,
    "start_time": "2022-01-25T15:48:45.784Z"
   },
   {
    "duration": 3,
    "start_time": "2022-01-25T15:48:46.991Z"
   },
   {
    "duration": 542,
    "start_time": "2022-01-25T15:48:46.996Z"
   },
   {
    "duration": 4,
    "start_time": "2022-01-25T15:48:47.540Z"
   },
   {
    "duration": 255,
    "start_time": "2022-01-25T15:48:47.546Z"
   },
   {
    "duration": 160,
    "start_time": "2022-01-25T15:48:47.803Z"
   },
   {
    "duration": 6,
    "start_time": "2022-01-25T15:48:47.965Z"
   },
   {
    "duration": 52,
    "start_time": "2022-01-25T15:48:47.974Z"
   },
   {
    "duration": 120,
    "start_time": "2022-01-25T15:48:48.028Z"
   },
   {
    "duration": 43,
    "start_time": "2022-01-25T15:48:48.151Z"
   },
   {
    "duration": 27,
    "start_time": "2022-01-25T15:48:48.196Z"
   },
   {
    "duration": 37,
    "start_time": "2022-01-25T15:48:48.226Z"
   },
   {
    "duration": 68,
    "start_time": "2022-01-25T15:48:48.265Z"
   },
   {
    "duration": 42,
    "start_time": "2022-01-25T15:48:48.335Z"
   },
   {
    "duration": 74,
    "start_time": "2022-01-25T15:48:48.379Z"
   },
   {
    "duration": 34,
    "start_time": "2022-01-25T15:48:48.455Z"
   },
   {
    "duration": 43,
    "start_time": "2022-01-25T15:48:48.491Z"
   },
   {
    "duration": 5,
    "start_time": "2022-01-25T15:48:48.535Z"
   },
   {
    "duration": 82,
    "start_time": "2022-01-25T15:48:48.541Z"
   },
   {
    "duration": 28,
    "start_time": "2022-01-25T15:48:48.625Z"
   },
   {
    "duration": 30,
    "start_time": "2022-01-25T15:48:48.655Z"
   },
   {
    "duration": 32,
    "start_time": "2022-01-25T15:48:48.687Z"
   },
   {
    "duration": 11,
    "start_time": "2022-01-25T15:48:48.722Z"
   },
   {
    "duration": 15,
    "start_time": "2022-01-25T15:48:48.735Z"
   },
   {
    "duration": 13,
    "start_time": "2022-01-25T15:48:48.752Z"
   },
   {
    "duration": 7,
    "start_time": "2022-01-25T15:48:48.767Z"
   },
   {
    "duration": 14,
    "start_time": "2022-01-25T15:48:48.776Z"
   },
   {
    "duration": 9,
    "start_time": "2022-01-25T15:48:48.791Z"
   },
   {
    "duration": 24,
    "start_time": "2022-01-25T15:48:48.801Z"
   },
   {
    "duration": 4,
    "start_time": "2022-01-25T15:48:48.827Z"
   },
   {
    "duration": 29,
    "start_time": "2022-01-25T15:48:48.833Z"
   },
   {
    "duration": 27,
    "start_time": "2022-01-25T15:48:48.864Z"
   },
   {
    "duration": 14,
    "start_time": "2022-01-25T15:48:48.892Z"
   },
   {
    "duration": 20,
    "start_time": "2022-01-25T15:48:48.907Z"
   },
   {
    "duration": 9,
    "start_time": "2022-01-25T15:48:48.929Z"
   },
   {
    "duration": 24,
    "start_time": "2022-01-25T15:48:48.940Z"
   },
   {
    "duration": 34,
    "start_time": "2022-01-25T15:48:48.966Z"
   },
   {
    "duration": 11,
    "start_time": "2022-01-25T15:48:49.002Z"
   },
   {
    "duration": 16,
    "start_time": "2022-01-25T15:48:49.014Z"
   },
   {
    "duration": 24,
    "start_time": "2022-01-25T15:48:49.031Z"
   },
   {
    "duration": 3,
    "start_time": "2022-01-25T15:48:49.057Z"
   },
   {
    "duration": 6,
    "start_time": "2022-01-25T15:48:49.062Z"
   },
   {
    "duration": 9,
    "start_time": "2022-01-25T15:48:49.069Z"
   },
   {
    "duration": 406,
    "start_time": "2022-01-25T15:48:49.080Z"
   },
   {
    "duration": 10,
    "start_time": "2022-01-25T15:48:49.488Z"
   },
   {
    "duration": 20,
    "start_time": "2022-01-25T15:48:49.500Z"
   },
   {
    "duration": 9,
    "start_time": "2022-01-25T15:48:49.521Z"
   },
   {
    "duration": 31,
    "start_time": "2022-01-25T15:48:49.531Z"
   },
   {
    "duration": 19,
    "start_time": "2022-01-25T15:48:49.564Z"
   },
   {
    "duration": 309,
    "start_time": "2022-01-25T15:48:49.585Z"
   },
   {
    "duration": 286,
    "start_time": "2022-01-25T15:48:49.895Z"
   },
   {
    "duration": 246,
    "start_time": "2022-01-25T15:48:50.183Z"
   },
   {
    "duration": 294,
    "start_time": "2022-01-25T15:48:50.431Z"
   },
   {
    "duration": 37,
    "start_time": "2022-01-25T15:48:50.728Z"
   },
   {
    "duration": 8,
    "start_time": "2022-01-25T15:48:50.767Z"
   },
   {
    "duration": 18,
    "start_time": "2022-01-25T15:48:50.777Z"
   },
   {
    "duration": 405,
    "start_time": "2022-01-25T15:48:50.797Z"
   },
   {
    "duration": 9,
    "start_time": "2022-01-25T15:48:51.204Z"
   },
   {
    "duration": 16,
    "start_time": "2022-01-25T15:48:51.215Z"
   },
   {
    "duration": 18,
    "start_time": "2022-01-25T15:48:51.232Z"
   },
   {
    "duration": 314,
    "start_time": "2022-01-25T15:48:51.252Z"
   },
   {
    "duration": 1188,
    "start_time": "2022-01-25T15:49:46.091Z"
   },
   {
    "duration": 3,
    "start_time": "2022-01-25T15:49:47.280Z"
   },
   {
    "duration": 451,
    "start_time": "2022-01-25T15:49:47.285Z"
   },
   {
    "duration": 4,
    "start_time": "2022-01-25T15:49:47.739Z"
   },
   {
    "duration": 290,
    "start_time": "2022-01-25T15:49:47.745Z"
   },
   {
    "duration": 183,
    "start_time": "2022-01-25T15:49:48.037Z"
   },
   {
    "duration": 6,
    "start_time": "2022-01-25T15:49:48.222Z"
   },
   {
    "duration": 68,
    "start_time": "2022-01-25T15:49:48.231Z"
   },
   {
    "duration": 124,
    "start_time": "2022-01-25T15:49:48.301Z"
   },
   {
    "duration": 43,
    "start_time": "2022-01-25T15:49:48.427Z"
   },
   {
    "duration": 40,
    "start_time": "2022-01-25T15:49:48.472Z"
   },
   {
    "duration": 17,
    "start_time": "2022-01-25T15:49:48.514Z"
   },
   {
    "duration": 29,
    "start_time": "2022-01-25T15:49:48.532Z"
   },
   {
    "duration": 40,
    "start_time": "2022-01-25T15:49:48.563Z"
   },
   {
    "duration": 66,
    "start_time": "2022-01-25T15:49:48.605Z"
   },
   {
    "duration": 34,
    "start_time": "2022-01-25T15:49:48.673Z"
   },
   {
    "duration": 47,
    "start_time": "2022-01-25T15:49:48.709Z"
   },
   {
    "duration": 90,
    "start_time": "2022-01-25T15:49:48.757Z"
   },
   {
    "duration": 80,
    "start_time": "2022-01-25T15:49:48.849Z"
   },
   {
    "duration": 27,
    "start_time": "2022-01-25T15:49:48.931Z"
   },
   {
    "duration": 23,
    "start_time": "2022-01-25T15:49:48.960Z"
   },
   {
    "duration": 18,
    "start_time": "2022-01-25T15:49:48.985Z"
   },
   {
    "duration": 52,
    "start_time": "2022-01-25T15:49:49.007Z"
   },
   {
    "duration": 31,
    "start_time": "2022-01-25T15:49:49.061Z"
   },
   {
    "duration": 35,
    "start_time": "2022-01-25T15:49:49.093Z"
   },
   {
    "duration": 28,
    "start_time": "2022-01-25T15:49:49.130Z"
   },
   {
    "duration": 26,
    "start_time": "2022-01-25T15:49:49.160Z"
   },
   {
    "duration": 50,
    "start_time": "2022-01-25T15:49:49.188Z"
   },
   {
    "duration": 45,
    "start_time": "2022-01-25T15:49:49.240Z"
   },
   {
    "duration": 18,
    "start_time": "2022-01-25T15:49:49.287Z"
   },
   {
    "duration": 47,
    "start_time": "2022-01-25T15:49:49.306Z"
   },
   {
    "duration": 25,
    "start_time": "2022-01-25T15:49:49.355Z"
   },
   {
    "duration": 29,
    "start_time": "2022-01-25T15:49:49.382Z"
   },
   {
    "duration": 18,
    "start_time": "2022-01-25T15:49:49.413Z"
   },
   {
    "duration": 52,
    "start_time": "2022-01-25T15:49:49.433Z"
   },
   {
    "duration": 53,
    "start_time": "2022-01-25T15:49:49.487Z"
   },
   {
    "duration": 56,
    "start_time": "2022-01-25T15:49:49.541Z"
   },
   {
    "duration": 39,
    "start_time": "2022-01-25T15:49:49.599Z"
   },
   {
    "duration": 36,
    "start_time": "2022-01-25T15:49:49.640Z"
   },
   {
    "duration": 39,
    "start_time": "2022-01-25T15:49:49.678Z"
   },
   {
    "duration": 37,
    "start_time": "2022-01-25T15:49:49.720Z"
   },
   {
    "duration": 26,
    "start_time": "2022-01-25T15:49:49.759Z"
   },
   {
    "duration": 39,
    "start_time": "2022-01-25T15:49:49.787Z"
   },
   {
    "duration": 416,
    "start_time": "2022-01-25T15:49:49.827Z"
   },
   {
    "duration": 17,
    "start_time": "2022-01-25T15:49:50.245Z"
   },
   {
    "duration": 22,
    "start_time": "2022-01-25T15:49:50.264Z"
   },
   {
    "duration": 36,
    "start_time": "2022-01-25T15:49:50.288Z"
   },
   {
    "duration": 22,
    "start_time": "2022-01-25T15:49:50.326Z"
   },
   {
    "duration": 28,
    "start_time": "2022-01-25T15:49:50.349Z"
   },
   {
    "duration": 318,
    "start_time": "2022-01-25T15:49:50.379Z"
   },
   {
    "duration": 290,
    "start_time": "2022-01-25T15:49:50.699Z"
   },
   {
    "duration": 247,
    "start_time": "2022-01-25T15:49:50.991Z"
   },
   {
    "duration": 283,
    "start_time": "2022-01-25T15:49:51.239Z"
   },
   {
    "duration": 38,
    "start_time": "2022-01-25T15:49:51.524Z"
   },
   {
    "duration": 9,
    "start_time": "2022-01-25T15:49:51.564Z"
   },
   {
    "duration": 83,
    "start_time": "2022-01-25T15:49:51.575Z"
   },
   {
    "duration": 416,
    "start_time": "2022-01-25T15:49:51.660Z"
   },
   {
    "duration": 9,
    "start_time": "2022-01-25T15:49:52.078Z"
   },
   {
    "duration": 34,
    "start_time": "2022-01-25T15:49:52.089Z"
   },
   {
    "duration": 19,
    "start_time": "2022-01-25T15:49:52.125Z"
   },
   {
    "duration": 307,
    "start_time": "2022-01-25T15:49:52.145Z"
   }
  ],
  "kernelspec": {
   "display_name": "Python 3 (ipykernel)",
   "language": "python",
   "name": "python3"
  },
  "language_info": {
   "codemirror_mode": {
    "name": "ipython",
    "version": 3
   },
   "file_extension": ".py",
   "mimetype": "text/x-python",
   "name": "python",
   "nbconvert_exporter": "python",
   "pygments_lexer": "ipython3",
   "version": "3.7.8"
  },
  "toc": {
   "base_numbering": 1,
   "nav_menu": {},
   "number_sections": true,
   "sideBar": true,
   "skip_h1_title": true,
   "title_cell": "Table of Contents",
   "title_sidebar": "Contents",
   "toc_cell": false,
   "toc_position": {
    "height": "calc(100% - 180px)",
    "left": "10px",
    "top": "150px",
    "width": "217.5px"
   },
   "toc_section_display": true,
   "toc_window_display": true
  }
 },
 "nbformat": 4,
 "nbformat_minor": 2
}
